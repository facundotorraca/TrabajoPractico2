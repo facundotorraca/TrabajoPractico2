{
 "cells": [
  {
   "cell_type": "code",
   "execution_count": 23,
   "metadata": {},
   "outputs": [],
   "source": [
    "import pandas as pd\n",
    "import numpy as np\n",
    "import warnings as wn\n",
    "import datetime as dt\n",
    "import xgboost as xgb\n",
    "\n",
    "wn.simplefilter(\"ignore\")"
   ]
  },
  {
   "cell_type": "code",
   "execution_count": 24,
   "metadata": {},
   "outputs": [],
   "source": [
    "dtypes_auc = {\"ref_type_id\": np.int8, \"source_id\": np.int16, \"device_id\": np.int64 }\n",
    "\n",
    "dtypes_ins = { \"application_id\": np.int16, \"ref_type\":\"category\", \"click_hash\":\"category\", \"device_model\":\"category\",\n",
    "               \"device_countrycode\":\"category\", \"device_brand\": \"category\", \"session_user_agent\":\"category\",\n",
    "               \"kind\":\"category\", \"wifi\":\"category\", \"device_language\":\"category\"}      \n",
    "\n",
    "dtypes_clk = { \"advertiser_id\": np.int8, \"action_id\": np.float16, \"source_id\": np.int8, \"country_code\": \"category\", \n",
    "               \"latitude\": np.float16, \"longitude\": np.float16, \"wifi_connection\": \"category\", \"carrier_id\": np.float16,\n",
    "               \"trans_id\": \"object\", \"os_major\":np.float32, \"brand\": np.float16, \"touchX\": np.float16,\n",
    "               \"touchY\": np.float16  }\n",
    "\n",
    "dtypes_evt = { \"event_id\":np.int32, \"application_id\": np.int32, \"attributed\":\"category\", \"device_countrycode\":\"category\",\n",
    "               \"device_os_version\":\"category\", \"device_brand\": np.float32, \"device_model\": \"category\",\n",
    "               \"device_city\":\"category\", \"session_user_agent\":\"category\", \"user_agent\":np.float32, \"carrier\":\"category\",\n",
    "               \"kind\":\"category\", \"wifi\":\"category\", \"connection_type\":\"category\", \"device_language\":\"category\",\n",
    "               \"trans_id\":\"object\" }"
   ]
  },
  {
   "cell_type": "code",
   "execution_count": 25,
   "metadata": {},
   "outputs": [],
   "source": [
    "loc = r\"D:\\FacundoTorraca\\Documents\\Datos_ML_TP2\\CSV\""
   ]
  },
  {
   "cell_type": "code",
   "execution_count": 26,
   "metadata": {},
   "outputs": [],
   "source": [
    "auc = pd.read_csv( loc + \"\\\\auctions.csv.gzip\", compression = \"gzip\", dtype = dtypes_auc ) \n",
    "auc[\"date\"] = pd.to_datetime( auc[\"date\"], errors = \"coerce\" )"
   ]
  },
  {
   "cell_type": "code",
   "execution_count": 37,
   "metadata": {},
   "outputs": [],
   "source": [
    "ins = pd.read_csv( loc + '\\\\installs.csv.gzip', compression = 'gzip', dtype = dtypes_ins )\n",
    "ins[\"created\"] = pd.to_datetime( ins[\"created\"], errors = \"coerce\" )\n",
    "ins = ins.rename( columns = {\"created\":\"date\"} )"
   ]
  },
  {
   "cell_type": "code",
   "execution_count": 28,
   "metadata": {},
   "outputs": [],
   "source": [
    "evt = pd.read_csv( loc + '\\\\events.csv.gzip', compression = \"gzip\", dtype = dtypes_evt )\n",
    "evt[\"date\"] = pd.to_datetime( evt[\"date\"], errors = \"coerce\" )"
   ]
  },
  {
   "cell_type": "code",
   "execution_count": 38,
   "metadata": {},
   "outputs": [],
   "source": [
    "clk = pd.read_csv( loc + '\\\\clicks.csv.gzip', compression = \"gzip\" )\n",
    "clk[\"touchX\"] = clk[\"touchX\"].fillna(0)\n",
    "clk[\"touchY\"] = clk[\"touchY\"].fillna(0)\n",
    "clk[\"touchX\"] = pd.to_numeric( clk[\"touchX\"], downcast = \"float\", errors = \"coerce\" )\n",
    "clk[\"touchY\"] = pd.to_numeric( clk[\"touchY\"], downcast = \"float\", errors = \"coerce\" )\n",
    "clk[\"created\"] = pd.to_datetime( clk[\"created\"], errors = \"coerce\" )\n",
    "clk = clk.rename( columns = {\"created\":\"date\"} )"
   ]
  },
  {
   "cell_type": "code",
   "execution_count": 17,
   "metadata": {},
   "outputs": [],
   "source": [
    "tar = pd.read_csv( r\"C:\\Users\\FacundoTorraca\\Documents\\Facultad\\Organizacion de Datos\\Trabajo Practico 2\\CSV\\target_final_competencia_revamped.csv\" )"
   ]
  },
  {
   "cell_type": "markdown",
   "metadata": {},
   "source": [
    "### Acomodo los FEATURES para cada categoria"
   ]
  },
  {
   "cell_type": "code",
   "execution_count": 39,
   "metadata": {},
   "outputs": [],
   "source": [
    "ins_1 = ins.loc[ ins['date'].dt.day.between(18,20) ]; ins_1[\"ventana\"] = \"18_20\";\n",
    "ins_2 = ins.loc[ ins['date'].dt.day.between(19,21) ]; ins_2[\"ventana\"] = \"19_21\";\n",
    "ins_3 = ins.loc[ ins['date'].dt.day.between(20,22) ]; ins_3[\"ventana\"] = \"20_22\";\n",
    "ins_4 = ins.loc[ ins['date'].dt.day.between(21,23) ]; ins_4[\"ventana\"] = \"21_23\";\n",
    "ins_5 = ins.loc[ ins['date'].dt.day.between(22,24) ]; ins_5[\"ventana\"] = \"22_24\";\n",
    "ins_6 = ins.loc[ ins['date'].dt.day.between(23,25) ]; ins_6[\"ventana\"] = \"23_25\";\n",
    "ins_7 = ins.loc[ ins['date'].dt.day.between(24,26) ]; ins_7[\"ventana\"] = \"24_26\";"
   ]
  },
  {
   "cell_type": "code",
   "execution_count": 40,
   "metadata": {},
   "outputs": [],
   "source": [
    "clk_1 = clk.loc[ clk['date'].dt.day.between(18,20) ]; clk_1[\"ventana\"] = \"18_20\";\n",
    "clk_2 = clk.loc[ clk['date'].dt.day.between(19,21) ]; clk_2[\"ventana\"] = \"19_21\";\n",
    "clk_3 = clk.loc[ clk['date'].dt.day.between(20,22) ]; clk_3[\"ventana\"] = \"20_22\";\n",
    "clk_4 = clk.loc[ clk['date'].dt.day.between(21,23) ]; clk_4[\"ventana\"] = \"21_23\";\n",
    "clk_5 = clk.loc[ clk['date'].dt.day.between(22,24) ]; clk_5[\"ventana\"] = \"22_24\";\n",
    "clk_6 = clk.loc[ clk['date'].dt.day.between(23,25) ]; clk_6[\"ventana\"] = \"23_25\";\n",
    "clk_7 = clk.loc[ clk['date'].dt.day.between(24,26) ]; clk_7[\"ventana\"] = \"24_26\";"
   ]
  },
  {
   "cell_type": "code",
   "execution_count": 34,
   "metadata": {},
   "outputs": [],
   "source": [
    "evt_1 = evt.loc[ evt['date'].dt.day.between(18,20) ]; evt_1[\"ventana\"] = \"18_20\"; \n",
    "evt_2 = evt.loc[ evt['date'].dt.day.between(19,21) ]; evt_2[\"ventana\"] = \"19_21\";\n",
    "evt_3 = evt.loc[ evt['date'].dt.day.between(20,22) ]; evt_3[\"ventana\"] = \"20_22\";\n",
    "evt_4 = evt.loc[ evt['date'].dt.day.between(21,23) ]; evt_4[\"ventana\"] = \"21_23\";\n",
    "evt_5 = evt.loc[ evt['date'].dt.day.between(22,24) ]; evt_5[\"ventana\"] = \"22_24\";\n",
    "evt_6 = evt.loc[ evt['date'].dt.day.between(23,25) ]; evt_6[\"ventana\"] = \"23_25\";\n",
    "evt_7 = evt.loc[ evt['date'].dt.day.between(24,26) ]; evt_7[\"ventana\"] = \"24_26\";"
   ]
  },
  {
   "cell_type": "code",
   "execution_count": 35,
   "metadata": {},
   "outputs": [],
   "source": [
    "auc_1 = auc.loc[ auc['date'].dt.day.between(18,20) ]; auc_1[\"ventana\"] = \"18_20\";\n",
    "auc_2 = auc.loc[ auc['date'].dt.day.between(19,21) ]; auc_2[\"ventana\"] = \"19_21\";\n",
    "auc_3 = auc.loc[ auc['date'].dt.day.between(20,22) ]; auc_3[\"ventana\"] = \"20_22\";\n",
    "auc_4 = auc.loc[ auc['date'].dt.day.between(21,23) ]; auc_4[\"ventana\"] = \"21_23\";\n",
    "auc_5 = auc.loc[ auc['date'].dt.day.between(22,24) ]; auc_5[\"ventana\"] = \"22_24\";\n",
    "auc_6 = auc.loc[ auc['date'].dt.day.between(23,25) ]; auc_6[\"ventana\"] = \"23_25\";\n",
    "auc_7 = auc.loc[ auc['date'].dt.day.between(24,26) ]; auc_7[\"ventana\"] = \"24_26\";"
   ]
  },
  {
   "cell_type": "markdown",
   "metadata": {},
   "source": [
    "### Acomodo Features de INSTALLS & AUCTIONS para prediccion"
   ]
  },
  {
   "cell_type": "code",
   "execution_count": 41,
   "metadata": {},
   "outputs": [],
   "source": [
    "ins_1_pre = ins_1[ [\"ref_hash\", \"date\"] ]; ins_1_pre[\"_sc\"] = ins_1_pre[\"date\"] - dt.datetime( year = 2019, month = 4, day = 18 ); ins_1_pre[\"_sc\"] = ins_1_pre[\"_sc\"].dt.total_seconds(); del( ins_1_pre[\"date\"] )\n",
    "ins_2_pre = ins_2[ [\"ref_hash\", \"date\"] ]; ins_2_pre[\"_sc\"] = ins_2_pre[\"date\"] - dt.datetime( year = 2019, month = 4, day = 19 ); ins_2_pre[\"_sc\"] = ins_2_pre[\"_sc\"].dt.total_seconds(); del( ins_2_pre[\"date\"] )\n",
    "ins_3_pre = ins_3[ [\"ref_hash\", \"date\"] ]; ins_3_pre[\"_sc\"] = ins_3_pre[\"date\"] - dt.datetime( year = 2019, month = 4, day = 20 ); ins_3_pre[\"_sc\"] = ins_3_pre[\"_sc\"].dt.total_seconds(); del( ins_3_pre[\"date\"] )\n",
    "ins_4_pre = ins_4[ [\"ref_hash\", \"date\"] ]; ins_4_pre[\"_sc\"] = ins_4_pre[\"date\"] - dt.datetime( year = 2019, month = 4, day = 21 ); ins_4_pre[\"_sc\"] = ins_4_pre[\"_sc\"].dt.total_seconds(); del( ins_4_pre[\"date\"] )\n",
    "ins_5_pre = ins_5[ [\"ref_hash\", \"date\"] ]; ins_5_pre[\"_sc\"] = ins_5_pre[\"date\"] - dt.datetime( year = 2019, month = 4, day = 22 ); ins_5_pre[\"_sc\"] = ins_5_pre[\"_sc\"].dt.total_seconds(); del( ins_5_pre[\"date\"] )\n",
    "ins_6_pre = ins_6[ [\"ref_hash\", \"date\"] ]; ins_6_pre[\"_sc\"] = ins_6_pre[\"date\"] - dt.datetime( year = 2019, month = 4, day = 23 ); ins_6_pre[\"_sc\"] = ins_6_pre[\"_sc\"].dt.total_seconds(); del( ins_6_pre[\"date\"] )\n",
    "ins_7_pre = ins_7[ [\"ref_hash\", \"date\"] ]; ins_7_pre[\"_sc\"] = ins_7_pre[\"date\"] - dt.datetime( year = 2019, month = 4, day = 24 ); ins_7_pre[\"_sc\"] = ins_7_pre[\"_sc\"].dt.total_seconds(); del( ins_7_pre[\"date\"] )"
   ]
  },
  {
   "cell_type": "code",
   "execution_count": 42,
   "metadata": {},
   "outputs": [],
   "source": [
    "auc_1_pre = auc_1[ [\"device_id\", \"date\"] ]; auc_1_pre[\"_st\"] = auc_1_pre[\"date\"] - dt.datetime( year = 2019, month = 4, day = 18 ); auc_1_pre[\"_st\"] = auc_1_pre[\"_st\"].dt.total_seconds(); del( auc_1_pre[\"date\"] )\n",
    "auc_2_pre = auc_2[ [\"device_id\", \"date\"] ]; auc_2_pre[\"_st\"] = auc_2_pre[\"date\"] - dt.datetime( year = 2019, month = 4, day = 19 ); auc_2_pre[\"_st\"] = auc_2_pre[\"_st\"].dt.total_seconds(); del( auc_2_pre[\"date\"] )\n",
    "auc_3_pre = auc_3[ [\"device_id\", \"date\"] ]; auc_3_pre[\"_st\"] = auc_3_pre[\"date\"] - dt.datetime( year = 2019, month = 4, day = 20 ); auc_3_pre[\"_st\"] = auc_3_pre[\"_st\"].dt.total_seconds(); del( auc_3_pre[\"date\"] )\n",
    "auc_4_pre = auc_4[ [\"device_id\", \"date\"] ]; auc_4_pre[\"_st\"] = auc_4_pre[\"date\"] - dt.datetime( year = 2019, month = 4, day = 21 ); auc_4_pre[\"_st\"] = auc_4_pre[\"_st\"].dt.total_seconds(); del( auc_4_pre[\"date\"] )\n",
    "auc_5_pre = auc_5[ [\"device_id\", \"date\"] ]; auc_5_pre[\"_st\"] = auc_5_pre[\"date\"] - dt.datetime( year = 2019, month = 4, day = 22 ); auc_5_pre[\"_st\"] = auc_5_pre[\"_st\"].dt.total_seconds(); del( auc_5_pre[\"date\"] )\n",
    "auc_6_pre = auc_6[ [\"device_id\", \"date\"] ]; auc_6_pre[\"_st\"] = auc_6_pre[\"date\"] - dt.datetime( year = 2019, month = 4, day = 23 ); auc_6_pre[\"_st\"] = auc_6_pre[\"_st\"].dt.total_seconds(); del( auc_6_pre[\"date\"] )\n",
    "auc_7_pre = auc_7[ [\"device_id\", \"date\"] ]; auc_7_pre[\"_st\"] = auc_7_pre[\"date\"] - dt.datetime( year = 2019, month = 4, day = 24 ); auc_7_pre[\"_st\"] = auc_7_pre[\"_st\"].dt.total_seconds(); del( auc_7_pre[\"date\"] )"
   ]
  },
  {
   "cell_type": "markdown",
   "metadata": {},
   "source": [
    "### Agregamos los LABEL´S"
   ]
  },
  {
   "cell_type": "code",
   "execution_count": 44,
   "metadata": {},
   "outputs": [],
   "source": [
    "ins_1[\"_sc\"] = ins_1_pre[\"_sc\"]; auc_1[\"_st\"] = auc_1_pre[\"_st\"]\n",
    "ins_2[\"_sc\"] = ins_2_pre[\"_sc\"]; auc_2[\"_st\"] = auc_2_pre[\"_st\"]\n",
    "ins_3[\"_sc\"] = ins_3_pre[\"_sc\"]; auc_3[\"_st\"] = auc_3_pre[\"_st\"]\n",
    "ins_4[\"_sc\"] = ins_4_pre[\"_sc\"]; auc_4[\"_st\"] = auc_4_pre[\"_st\"]\n",
    "ins_5[\"_sc\"] = ins_5_pre[\"_sc\"]; auc_5[\"_st\"] = auc_5_pre[\"_st\"]\n",
    "ins_6[\"_sc\"] = ins_6_pre[\"_sc\"]; auc_6[\"_st\"] = auc_6_pre[\"_st\"]\n",
    "ins_7[\"_sc\"] = ins_7_pre[\"_sc\"]; auc_7[\"_st\"] = auc_7_pre[\"_st\"]"
   ]
  },
  {
   "cell_type": "markdown",
   "metadata": {},
   "source": [
    "### Los guardamos en CSV"
   ]
  },
  {
   "cell_type": "code",
   "execution_count": 46,
   "metadata": {},
   "outputs": [],
   "source": [
    "loc_to_save = r\"C:\\Users\\FacundoTorraca\\Documents\\Facultad\\Organizacion de Datos\\Trabajo Practico 2\\Sets de Entrenamiento\""
   ]
  },
  {
   "cell_type": "code",
   "execution_count": 47,
   "metadata": {},
   "outputs": [],
   "source": [
    "ins_1.to_csv( loc_to_save + \"\\\\ins_1.csv\", index = False ); clk_1.to_csv( loc_to_save + \"\\\\clk_1.csv\", index = False ); \n",
    "ins_2.to_csv( loc_to_save + \"\\\\ins_2.csv\", index = False ); clk_2.to_csv( loc_to_save + \"\\\\clk_2.csv\", index = False );\n",
    "ins_3.to_csv( loc_to_save + \"\\\\ins_3.csv\", index = False ); clk_3.to_csv( loc_to_save + \"\\\\clk_3.csv\", index = False );\n",
    "ins_4.to_csv( loc_to_save + \"\\\\ins_4.csv\", index = False ); clk_4.to_csv( loc_to_save + \"\\\\clk_4.csv\", index = False ); \n",
    "ins_5.to_csv( loc_to_save + \"\\\\ins_5.csv\", index = False ); clk_5.to_csv( loc_to_save + \"\\\\clk_5.csv\", index = False );\n",
    "ins_6.to_csv( loc_to_save + \"\\\\ins_6.csv\", index = False ); clk_6.to_csv( loc_to_save + \"\\\\clk_6.csv\", index = False ); \n",
    "ins_7.to_csv( loc_to_save + \"\\\\ins_7.csv\", index = False ); clk_7.to_csv( loc_to_save + \"\\\\clk_7.csv\", index = False ); "
   ]
  },
  {
   "cell_type": "code",
   "execution_count": 48,
   "metadata": {},
   "outputs": [],
   "source": [
    "auc_1.to_csv( loc_to_save + \"\\\\auc_1.csv\", index = False ); evt_1.to_csv( loc_to_save + \"\\\\evt_1.csv\", index = False ); \n",
    "auc_2.to_csv( loc_to_save + \"\\\\auc_2.csv\", index = False ); evt_2.to_csv( loc_to_save + \"\\\\evt_2.csv\", index = False );\n",
    "auc_3.to_csv( loc_to_save + \"\\\\auc_3.csv\", index = False ); evt_3.to_csv( loc_to_save + \"\\\\evt_3.csv\", index = False ); \n",
    "auc_4.to_csv( loc_to_save + \"\\\\auc_4.csv\", index = False ); evt_4.to_csv( loc_to_save + \"\\\\evt_4.csv\", index = False ); \n",
    "auc_5.to_csv( loc_to_save + \"\\\\auc_5.csv\", index = False ); evt_5.to_csv( loc_to_save + \"\\\\evt_5.csv\", index = False );\n",
    "auc_6.to_csv( loc_to_save + \"\\\\auc_6.csv\", index = False ); evt_6.to_csv( loc_to_save + \"\\\\evt_6.csv\", index = False );\n",
    "auc_7.to_csv( loc_to_save + \"\\\\auc_7.csv\", index = False ); evt_7.to_csv( loc_to_save + \"\\\\evt_7.csv\", index = False ); "
   ]
  }
 ],
 "metadata": {
  "kernelspec": {
   "display_name": "Python 3",
   "language": "python",
   "name": "python3"
  },
  "language_info": {
   "codemirror_mode": {
    "name": "ipython",
    "version": 3
   },
   "file_extension": ".py",
   "mimetype": "text/x-python",
   "name": "python",
   "nbconvert_exporter": "python",
   "pygments_lexer": "ipython3",
   "version": "3.7.0"
  }
 },
 "nbformat": 4,
 "nbformat_minor": 2
}
