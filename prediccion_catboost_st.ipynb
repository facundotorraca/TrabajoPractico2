{
 "cells": [
  {
   "cell_type": "code",
   "execution_count": 1,
   "metadata": {},
   "outputs": [],
   "source": [
    "import pandas as pd\n",
    "import numpy as np"
   ]
  },
  {
   "cell_type": "code",
   "execution_count": 3,
   "metadata": {},
   "outputs": [],
   "source": [
    "from catboost import CatBoostRegressor"
   ]
  },
  {
   "cell_type": "code",
   "execution_count": 4,
   "metadata": {},
   "outputs": [],
   "source": [
    "from catboost import Pool"
   ]
  },
  {
   "cell_type": "code",
   "execution_count": 5,
   "metadata": {},
   "outputs": [],
   "source": [
    "loc_lbl = r\"D:\\TP2_Machine_Learning\\Labels\""
   ]
  },
  {
   "cell_type": "code",
   "execution_count": 6,
   "metadata": {},
   "outputs": [],
   "source": [
    "loc_ftr = r\"D:\\TP2_Machine_Learning\\Features\\ftr_auc\""
   ]
  },
  {
   "cell_type": "code",
   "execution_count": 7,
   "metadata": {},
   "outputs": [],
   "source": [
    "auc_lb = pd.read_csv( loc_lbl + \"\\\\auc_lb.csv\", dtype = {\"obs_18_20\":\"bool\", \"obs_21_23\":\"bool\", \"obs_24_26\":\"bool\"} )"
   ]
  },
  {
   "cell_type": "markdown",
   "metadata": {},
   "source": [
    "### Filtro de manera que tenga los datos necesarios"
   ]
  },
  {
   "cell_type": "code",
   "execution_count": 8,
   "metadata": {},
   "outputs": [],
   "source": [
    "rh_18_20 = pd.read_csv( r\"D:\\TP2_Machine_Learning\\Training Sets\\auc_18_20.csv\" ).rename( columns = {\"device_id\":\"ref_hash\"} ); rh_18_20 = rh_18_20[\"ref_hash\"].drop_duplicates().tolist()\n",
    "rh_21_23 = pd.read_csv( r\"D:\\TP2_Machine_Learning\\Training Sets\\auc_21_23.csv\" ).rename( columns = {\"device_id\":\"ref_hash\"} ); rh_21_23 = rh_21_23[\"ref_hash\"].drop_duplicates().tolist()"
   ]
  },
  {
   "cell_type": "code",
   "execution_count": 161,
   "metadata": {},
   "outputs": [],
   "source": [
    "#rh_18_20 = pd.read_csv( r\"D:\\TP2_Machine_Learning\\Training Sets\\auc_18_20.csv\" ).rename( columns = {\"device_id\":\"ref_hash\"} ); rh_18_20 = rh_18_20.drop_duplicates(subset=[\"ref_hash\"])\n",
    "#rh_21_23 = pd.read_csv( r\"D:\\TP2_Machine_Learning\\Training Sets\\auc_21_23.csv\" ).rename( columns = {\"device_id\":\"ref_hash\"} ); rh_21_23 = rh_21_23.drop_duplicates(subset=[\"ref_hash\"])"
   ]
  },
  {
   "cell_type": "code",
   "execution_count": 165,
   "metadata": {},
   "outputs": [],
   "source": [
    "#rh_18_20 = rh_18_20.loc[:,['ref_hash']]\n",
    "#rh_21_23 = rh_21_23.loc[:,['ref_hash']]\n",
    "#rh_18_20.to_csv(r\"D:\\TP2_Machine_Learning\\Training Sets\\rh_18_20_st.csv\", index = False)\n",
    "#rh_21_23.to_csv(r\"D:\\TP2_Machine_Learning\\Training Sets\\rh_21_23_st.csv\", index = False)"
   ]
  },
  {
   "cell_type": "code",
   "execution_count": 9,
   "metadata": {},
   "outputs": [],
   "source": [
    "dt_18_20 = auc_lb.loc[ auc_lb[\"ref_hash\"].isin( rh_18_20 ), [\"ref_hash\"] ] #Datos del (18-20)\n",
    "st_21_23 = auc_lb.loc[ auc_lb[\"ref_hash\"].isin( rh_18_20 ), [\"21_23_st\"] ] #SC del (21-23)\n",
    "\n",
    "dt_21_23 = auc_lb.loc[ auc_lb[\"ref_hash\"].isin( rh_21_23 ), [\"ref_hash\"] ] #Datos del (21-23)\n",
    "st_24_26 = auc_lb.loc[ auc_lb[\"ref_hash\"].isin( rh_21_23 ), [\"24_26_st\"] ] #SC del (24-26)"
   ]
  },
  {
   "cell_type": "markdown",
   "metadata": {},
   "source": [
    "# <span style=\"color:orange\">  Preparo los datos para predecir </span>\n",
    "Con los datos 21-23 predecimos \"24-26_sc\""
   ]
  },
  {
   "cell_type": "code",
   "execution_count": 137,
   "metadata": {},
   "outputs": [],
   "source": [
    "Z = dt_21_23"
   ]
  },
  {
   "cell_type": "markdown",
   "metadata": {},
   "source": [
    "### Agregamos los features "
   ]
  },
  {
   "cell_type": "code",
   "execution_count": 138,
   "metadata": {},
   "outputs": [],
   "source": [
    "ftr_01_Z = pd.read_csv( loc_ftr + \"\\\\hora_auc_21_23.csv\" ) \n",
    "ftr_02_Z = pd.read_csv( loc_ftr + \"\\\\cant_clk_21_23.csv\" ) \n",
    "ftr_03_Z = pd.read_csv( loc_ftr + \"\\\\cant_ins_21_23.csv\" ) \n",
    "ftr_04_Z = pd.read_csv( loc_ftr + \"\\\\cant_auc_21_23.csv\" ) \n",
    "ftr_05_Z = pd.read_csv( loc_ftr + \"\\\\cant_evt_21_23.csv\" )\n",
    "ftr_06_Z = pd.read_csv( loc_ftr + \"\\\\ref_type_21_23.csv\" )  \n",
    "ftr_07_Z = pd.read_csv( loc_ftr + \"\\\\sdia_auc_21_23.csv\" )\n",
    "ftr_08_Z = pd.read_csv( loc_ftr + \"\\\\srce_auc_21_23.csv\" )\n",
    "ftr_09_Z = pd.read_csv( loc_ftr + \"\\\\rh_encod_21_23.csv\" )\n",
    "ftr_10_Z = pd.read_csv( loc_ftr + \"\\\\main_ahr_21_23.csv\" )\n",
    "ftr_11_Z = pd.read_csv( loc_ftr + \"\\\\kind_evt_21_23.csv\" )\n",
    "ftr_12_Z = pd.read_csv( loc_ftr + \"\\\\frst_auc_21_23.csv\" )\n",
    "ftr_13_Z = pd.read_csv( loc_ftr + \"\\\\last_auc_21_23.csv\" )\n",
    "ftr_14_Z = pd.read_csv( loc_ftr + \"\\\\last_evt_21_23.csv\" )\n",
    "ftr_15_Z = pd.read_csv( loc_ftr + \"\\\\mas_1_auc_21_23.csv\" )\n",
    "ftr_16_Z = pd.read_csv( loc_ftr + \"\\\\auc_night_21_23.csv\" )\n",
    "ftr_17_Z = pd.read_csv( loc_ftr + \"\\\\auc_morn_21_23.csv\" )\n",
    "ftr_18_Z = pd.read_csv( loc_ftr + \"\\\\auc_midday_21_23.csv\" )\n",
    "ftr_19_Z = pd.read_csv( loc_ftr + \"\\\\auc_after_21_23.csv\" )\n",
    "ftr_20_Z = pd.read_csv( loc_ftr + \"\\\\evt_night_21_23.csv\" )"
   ]
  },
  {
   "cell_type": "code",
   "execution_count": 139,
   "metadata": {},
   "outputs": [],
   "source": [
    "Z = Z.merge( ftr_01_Z, how = \"inner\", on = \"ref_hash\" )\n",
    "Z = Z.merge( ftr_02_Z, how = \"inner\", on = \"ref_hash\" )\n",
    "Z = Z.merge( ftr_03_Z, how = \"inner\", on = \"ref_hash\" )\n",
    "Z = Z.merge( ftr_04_Z, how = \"inner\", on = \"ref_hash\" )\n",
    "Z = Z.merge( ftr_05_Z, how = \"inner\", on = \"ref_hash\" )\n",
    "Z = Z.merge( ftr_06_Z, how = \"inner\", on = \"ref_hash\" )\n",
    "Z = Z.merge( ftr_07_Z, how = \"inner\", on = \"ref_hash\" )\n",
    "Z = Z.merge( ftr_08_Z, how = \"inner\", on = \"ref_hash\" )\n",
    "Z = Z.merge( ftr_09_Z, how = \"inner\", on = \"ref_hash\" )\n",
    "Z = Z.merge( ftr_10_Z, how = \"inner\", on = \"ref_hash\" )\n",
    "Z = Z.merge( ftr_11_Z, how = \"inner\", on = \"ref_hash\" )\n",
    "Z = Z.merge( ftr_12_Z, how = \"inner\", on = \"ref_hash\" )\n",
    "Z = Z.merge( ftr_13_Z, how = \"inner\", on = \"ref_hash\" )\n",
    "Z = Z.merge( ftr_14_Z, how = \"inner\", on = \"ref_hash\" )\n",
    "Z = Z.merge( ftr_15_Z, how = \"inner\", on = \"ref_hash\" )\n",
    "Z = Z.merge( ftr_16_Z, how = \"inner\", on = \"ref_hash\" )\n",
    "Z = Z.merge( ftr_17_Z, how = \"inner\", on = \"ref_hash\" )\n",
    "Z = Z.merge( ftr_18_Z, how = \"inner\", on = \"ref_hash\" )\n",
    "Z = Z.merge( ftr_19_Z, how = \"inner\", on = \"ref_hash\" )\n",
    "Z = Z.merge( ftr_20_Z, how = \"inner\", on = \"ref_hash\" )"
   ]
  },
  {
   "cell_type": "markdown",
   "metadata": {},
   "source": [
    "# <span style=\"color:orange\">  Preparo los datos para entrenar </span>\n",
    "\n",
    "Con los datos 18-20 + \"21-23_sc\" entrenamos"
   ]
  },
  {
   "cell_type": "code",
   "execution_count": 140,
   "metadata": {},
   "outputs": [],
   "source": [
    "Y = st_21_23"
   ]
  },
  {
   "cell_type": "code",
   "execution_count": 141,
   "metadata": {},
   "outputs": [],
   "source": [
    "X = dt_18_20"
   ]
  },
  {
   "cell_type": "markdown",
   "metadata": {},
   "source": [
    "### Agregamos los features"
   ]
  },
  {
   "cell_type": "code",
   "execution_count": 142,
   "metadata": {},
   "outputs": [],
   "source": [
    "ftr_01_X = pd.read_csv( loc_ftr + \"\\\\hora_auc_18_20.csv\" ) \n",
    "ftr_02_X = pd.read_csv( loc_ftr + \"\\\\cant_clk_18_20.csv\" ) \n",
    "ftr_03_X = pd.read_csv( loc_ftr + \"\\\\cant_ins_18_20.csv\" ) \n",
    "ftr_04_X = pd.read_csv( loc_ftr + \"\\\\cant_auc_18_20.csv\" ) \n",
    "ftr_05_X = pd.read_csv( loc_ftr + \"\\\\cant_evt_18_20.csv\" )\n",
    "ftr_06_X = pd.read_csv( loc_ftr + \"\\\\ref_type_18_20.csv\" )  \n",
    "ftr_07_X = pd.read_csv( loc_ftr + \"\\\\sdia_auc_18_20.csv\" )  \n",
    "ftr_08_X = pd.read_csv( loc_ftr + \"\\\\srce_auc_18_20.csv\" )\n",
    "ftr_09_X = pd.read_csv( loc_ftr + \"\\\\rh_encod_18_20.csv\" )\n",
    "ftr_10_X = pd.read_csv( loc_ftr + \"\\\\main_ahr_18_20.csv\" )\n",
    "ftr_11_X = pd.read_csv( loc_ftr + \"\\\\kind_evt_18_20.csv\" )\n",
    "ftr_12_X = pd.read_csv( loc_ftr + \"\\\\frst_auc_18_20.csv\" )\n",
    "ftr_13_X = pd.read_csv( loc_ftr + \"\\\\last_auc_18_20.csv\" )\n",
    "ftr_14_X = pd.read_csv( loc_ftr + \"\\\\last_evt_18_20.csv\" )\n",
    "ftr_15_X = pd.read_csv( loc_ftr + \"\\\\mas_1_auc_18_20.csv\" )\n",
    "ftr_16_X = pd.read_csv( loc_ftr + \"\\\\auc_night_18_20.csv\" )\n",
    "ftr_17_X = pd.read_csv( loc_ftr + \"\\\\auc_morn_18_20.csv\" )\n",
    "ftr_18_X = pd.read_csv( loc_ftr + \"\\\\auc_midday_18_20.csv\" )\n",
    "ftr_19_X = pd.read_csv( loc_ftr + \"\\\\auc_after_18_20.csv\" )\n",
    "ftr_20_X = pd.read_csv( loc_ftr + \"\\\\evt_night_18_20.csv\" )"
   ]
  },
  {
   "cell_type": "code",
   "execution_count": 143,
   "metadata": {},
   "outputs": [],
   "source": [
    "X = X.merge( ftr_01_X, how = \"inner\", on = \"ref_hash\" )\n",
    "X = X.merge( ftr_02_X, how = \"inner\", on = \"ref_hash\" )\n",
    "X = X.merge( ftr_03_X, how = \"inner\", on = \"ref_hash\" )\n",
    "X = X.merge( ftr_04_X, how = \"inner\", on = \"ref_hash\" )\n",
    "X = X.merge( ftr_05_X, how = \"inner\", on = \"ref_hash\" )\n",
    "X = X.merge( ftr_06_X, how = \"inner\", on = \"ref_hash\" )\n",
    "X = X.merge( ftr_07_X, how = \"inner\", on = \"ref_hash\" )\n",
    "X = X.merge( ftr_08_X, how = \"inner\", on = \"ref_hash\" )\n",
    "X = X.merge( ftr_09_X, how = \"inner\", on = \"ref_hash\" )\n",
    "X = X.merge( ftr_10_X, how = \"inner\", on = \"ref_hash\" )\n",
    "X = X.merge( ftr_11_X, how = \"inner\", on = \"ref_hash\" )\n",
    "X = X.merge( ftr_12_X, how = \"inner\", on = \"ref_hash\" )\n",
    "X = X.merge( ftr_13_X, how = \"inner\", on = \"ref_hash\" )\n",
    "X = X.merge( ftr_14_X, how = \"inner\", on = \"ref_hash\" )\n",
    "X = X.merge( ftr_15_X, how = \"inner\", on = \"ref_hash\" )\n",
    "X = X.merge( ftr_16_X, how = \"inner\", on = \"ref_hash\" )\n",
    "X = X.merge( ftr_17_X, how = \"inner\", on = \"ref_hash\" )\n",
    "X = X.merge( ftr_18_X, how = \"inner\", on = \"ref_hash\" )\n",
    "X = X.merge( ftr_19_X, how = \"inner\", on = \"ref_hash\" )\n",
    "X = X.merge( ftr_20_X, how = \"inner\", on = \"ref_hash\" )"
   ]
  },
  {
   "cell_type": "markdown",
   "metadata": {},
   "source": [
    "## Dropeamos los ref_hash (Quedan los codificados del feature)"
   ]
  },
  {
   "cell_type": "code",
   "execution_count": 144,
   "metadata": {},
   "outputs": [],
   "source": [
    "X = X.drop( \"ref_hash\", axis = 1 )\n",
    "Z = Z.drop( \"ref_hash\", axis = 1 )"
   ]
  },
  {
   "cell_type": "markdown",
   "metadata": {},
   "source": [
    "# Prediccion con <span style=\"color:green\"> *CATBOOST*</span> "
   ]
  },
  {
   "cell_type": "markdown",
   "metadata": {},
   "source": [
    "### X: Train Data, Y: Train Labels, Z: Test Data, sc_24_26: Test Labels"
   ]
  },
  {
   "cell_type": "markdown",
   "metadata": {},
   "source": [
    "### Record = iterations=300, learning_rate=0.06, depth=3, RMSE: RMSE: 89111.002876"
   ]
  },
  {
   "cell_type": "markdown",
   "metadata": {},
   "source": [
    "from sklearn.model_selection import GridSearchCV"
   ]
  },
  {
   "cell_type": "code",
   "execution_count": 19,
   "metadata": {},
   "outputs": [],
   "source": [
    "#parameters = {'depth'         : [2,3,4,6,8],\n",
    "#              'learning_rate' : [0.02, 0.05, 0.06, 0.1, 0.5],\n",
    "#              'iterations'    : [10, 30, 50, 100, 200]\n",
    "#                 }"
   ]
  },
  {
   "cell_type": "markdown",
   "metadata": {},
   "source": [
    "from sklearn.metrics import mean_squared_error, make_scorer\n",
    "mse = make_scorer( mean_squared_error, greater_is_better = False ) "
   ]
  },
  {
   "cell_type": "markdown",
   "metadata": {},
   "source": [
    "model = CatBoostRegressor(loss_function='RMSE')\n",
    "parameters = {'depth'         : [2,3,6,8],\n",
    "              'learning_rate' : [0.04, 0.06, 0.08, 0.1],\n",
    "              'iterations'    : [20, 50, 100, 150]\n",
    "                 }\n",
    "grid = GridSearchCV(estimator=model, scoring=mse ,param_grid = parameters, cv = 8, n_jobs=2)\n",
    "grid.fit(X, Y)    "
   ]
  },
  {
   "cell_type": "markdown",
   "metadata": {},
   "source": [
    "    # Results from Grid Search\n",
    "    print(\"\\n========================================================\")\n",
    "    print(\" Results from Grid Search \" )\n",
    "    print(\"========================================================\")    \n",
    "    \n",
    "    print(\"\\n The best estimator across ALL searched params:\\n\",\n",
    "          grid.best_estimator_)\n",
    "    \n",
    "    print(\"\\n The best score across ALL searched params:\\n\",\n",
    "          grid.best_score_)\n",
    "    \n",
    "    print(\"\\n The best parameters across ALL searched params:\\n\",\n",
    "          grid.best_params_)\n",
    "    \n",
    "    print(\"\\n ========================================================\")"
   ]
  },
  {
   "cell_type": "markdown",
   "metadata": {},
   "source": [
    "### Parametros encontrados con grid-searchCV"
   ]
  },
  {
   "cell_type": "code",
   "execution_count": 151,
   "metadata": {},
   "outputs": [],
   "source": [
    "#Initialize CatBoostRegressor\n",
    "model = CatBoostRegressor(iterations=300,\n",
    "                          learning_rate=0.06,\n",
    "                          depth=3,\n",
    "                          loss_function='RMSE')"
   ]
  },
  {
   "cell_type": "code",
   "execution_count": 152,
   "metadata": {},
   "outputs": [
    {
     "name": "stdout",
     "output_type": "stream",
     "text": [
      "0:\tlearn: 151914.9766612\ttotal: 110ms\tremaining: 32.9s\n",
      "1:\tlearn: 146291.0043685\ttotal: 187ms\tremaining: 27.8s\n",
      "2:\tlearn: 141067.0562385\ttotal: 260ms\tremaining: 25.7s\n",
      "3:\tlearn: 136285.0257078\ttotal: 332ms\tremaining: 24.6s\n",
      "4:\tlearn: 131896.6029027\ttotal: 413ms\tremaining: 24.4s\n",
      "5:\tlearn: 127865.9549702\ttotal: 488ms\tremaining: 23.9s\n",
      "6:\tlearn: 124207.4434077\ttotal: 557ms\tremaining: 23.3s\n",
      "7:\tlearn: 120847.6634756\ttotal: 625ms\tremaining: 22.8s\n",
      "8:\tlearn: 117844.6911477\ttotal: 694ms\tremaining: 22.4s\n",
      "9:\tlearn: 115052.4858487\ttotal: 762ms\tremaining: 22.1s\n",
      "10:\tlearn: 112523.8212536\ttotal: 833ms\tremaining: 21.9s\n",
      "11:\tlearn: 110257.4745067\ttotal: 903ms\tremaining: 21.7s\n",
      "12:\tlearn: 108162.5885095\ttotal: 981ms\tremaining: 21.7s\n",
      "13:\tlearn: 106301.5068219\ttotal: 1.05s\tremaining: 21.5s\n",
      "14:\tlearn: 104619.5248584\ttotal: 1.13s\tremaining: 21.5s\n",
      "15:\tlearn: 103108.1651025\ttotal: 1.21s\tremaining: 21.5s\n",
      "16:\tlearn: 101741.3709747\ttotal: 1.29s\tremaining: 21.5s\n",
      "17:\tlearn: 100492.4596917\ttotal: 1.36s\tremaining: 21.3s\n",
      "18:\tlearn: 99381.7297945\ttotal: 1.43s\tremaining: 21.1s\n",
      "19:\tlearn: 98405.7837676\ttotal: 1.5s\tremaining: 21s\n",
      "20:\tlearn: 97516.8388789\ttotal: 1.57s\tremaining: 20.8s\n",
      "21:\tlearn: 96705.6230883\ttotal: 1.64s\tremaining: 20.7s\n",
      "22:\tlearn: 95989.1984846\ttotal: 1.71s\tremaining: 20.6s\n",
      "23:\tlearn: 95325.4895348\ttotal: 1.78s\tremaining: 20.4s\n",
      "24:\tlearn: 94746.4538007\ttotal: 1.84s\tremaining: 20.3s\n",
      "25:\tlearn: 94225.3341518\ttotal: 1.91s\tremaining: 20.1s\n",
      "26:\tlearn: 93745.1925622\ttotal: 1.97s\tremaining: 20s\n",
      "27:\tlearn: 93320.0685442\ttotal: 2.05s\tremaining: 19.9s\n",
      "28:\tlearn: 92943.0907869\ttotal: 2.12s\tremaining: 19.8s\n",
      "29:\tlearn: 92584.5552436\ttotal: 2.18s\tremaining: 19.7s\n",
      "30:\tlearn: 92274.4844124\ttotal: 2.25s\tremaining: 19.5s\n",
      "31:\tlearn: 92002.6604610\ttotal: 2.32s\tremaining: 19.5s\n",
      "32:\tlearn: 91745.5494893\ttotal: 2.39s\tremaining: 19.3s\n",
      "33:\tlearn: 91525.9929312\ttotal: 2.46s\tremaining: 19.3s\n",
      "34:\tlearn: 91329.4625624\ttotal: 2.53s\tremaining: 19.2s\n",
      "35:\tlearn: 91145.0894770\ttotal: 2.6s\tremaining: 19.1s\n",
      "36:\tlearn: 90968.2059182\ttotal: 2.66s\tremaining: 18.9s\n",
      "37:\tlearn: 90810.3154874\ttotal: 2.73s\tremaining: 18.8s\n",
      "38:\tlearn: 90675.0212165\ttotal: 2.8s\tremaining: 18.7s\n",
      "39:\tlearn: 90564.0280074\ttotal: 2.86s\tremaining: 18.6s\n",
      "40:\tlearn: 90461.9859358\ttotal: 2.94s\tremaining: 18.5s\n",
      "41:\tlearn: 90367.6400257\ttotal: 3.01s\tremaining: 18.5s\n",
      "42:\tlearn: 90280.7675276\ttotal: 3.09s\tremaining: 18.5s\n",
      "43:\tlearn: 90204.0561756\ttotal: 3.17s\tremaining: 18.4s\n",
      "44:\tlearn: 90133.1987781\ttotal: 3.25s\tremaining: 18.4s\n",
      "45:\tlearn: 90060.2511212\ttotal: 3.32s\tremaining: 18.4s\n",
      "46:\tlearn: 90008.4416271\ttotal: 3.4s\tremaining: 18.3s\n",
      "47:\tlearn: 89951.4049929\ttotal: 3.46s\tremaining: 18.2s\n",
      "48:\tlearn: 89904.5257940\ttotal: 3.53s\tremaining: 18.1s\n",
      "49:\tlearn: 89863.7012477\ttotal: 3.6s\tremaining: 18s\n",
      "50:\tlearn: 89822.6752717\ttotal: 3.66s\tremaining: 17.9s\n",
      "51:\tlearn: 89781.9470494\ttotal: 3.73s\tremaining: 17.8s\n",
      "52:\tlearn: 89742.7532969\ttotal: 3.8s\tremaining: 17.7s\n",
      "53:\tlearn: 89713.3759549\ttotal: 3.86s\tremaining: 17.6s\n",
      "54:\tlearn: 89683.4525853\ttotal: 3.93s\tremaining: 17.5s\n",
      "55:\tlearn: 89654.8941432\ttotal: 4s\tremaining: 17.4s\n",
      "56:\tlearn: 89631.1460589\ttotal: 4.07s\tremaining: 17.4s\n",
      "57:\tlearn: 89606.3741787\ttotal: 4.13s\tremaining: 17.3s\n",
      "58:\tlearn: 89586.5668991\ttotal: 4.2s\tremaining: 17.2s\n",
      "59:\tlearn: 89567.3355322\ttotal: 4.27s\tremaining: 17.1s\n",
      "60:\tlearn: 89551.6107505\ttotal: 4.34s\tremaining: 17s\n",
      "61:\tlearn: 89535.7506027\ttotal: 4.41s\tremaining: 16.9s\n",
      "62:\tlearn: 89521.3856382\ttotal: 4.48s\tremaining: 16.9s\n",
      "63:\tlearn: 89508.5043784\ttotal: 4.55s\tremaining: 16.8s\n",
      "64:\tlearn: 89496.0135543\ttotal: 4.62s\tremaining: 16.7s\n",
      "65:\tlearn: 89481.0396245\ttotal: 4.68s\tremaining: 16.6s\n",
      "66:\tlearn: 89467.7729992\ttotal: 4.75s\tremaining: 16.5s\n",
      "67:\tlearn: 89456.4978714\ttotal: 4.82s\tremaining: 16.4s\n",
      "68:\tlearn: 89446.7604849\ttotal: 4.88s\tremaining: 16.4s\n",
      "69:\tlearn: 89436.5846927\ttotal: 4.95s\tremaining: 16.3s\n",
      "70:\tlearn: 89427.2696970\ttotal: 5.01s\tremaining: 16.2s\n",
      "71:\tlearn: 89417.8628982\ttotal: 5.08s\tremaining: 16.1s\n",
      "72:\tlearn: 89411.4009301\ttotal: 5.15s\tremaining: 16s\n",
      "73:\tlearn: 89404.2416211\ttotal: 5.21s\tremaining: 15.9s\n",
      "74:\tlearn: 89396.9060699\ttotal: 5.28s\tremaining: 15.8s\n",
      "75:\tlearn: 89389.3877120\ttotal: 5.34s\tremaining: 15.8s\n",
      "76:\tlearn: 89381.5472101\ttotal: 5.41s\tremaining: 15.7s\n",
      "77:\tlearn: 89373.1773608\ttotal: 5.48s\tremaining: 15.6s\n",
      "78:\tlearn: 89367.1650978\ttotal: 5.55s\tremaining: 15.5s\n",
      "79:\tlearn: 89360.6022873\ttotal: 5.63s\tremaining: 15.5s\n",
      "80:\tlearn: 89354.5393515\ttotal: 5.7s\tremaining: 15.4s\n",
      "81:\tlearn: 89349.5801465\ttotal: 5.78s\tremaining: 15.4s\n",
      "82:\tlearn: 89342.1796466\ttotal: 5.85s\tremaining: 15.3s\n",
      "83:\tlearn: 89337.6701508\ttotal: 5.92s\tremaining: 15.2s\n",
      "84:\tlearn: 89334.0042006\ttotal: 5.98s\tremaining: 15.1s\n",
      "85:\tlearn: 89327.7077493\ttotal: 6.05s\tremaining: 15.1s\n",
      "86:\tlearn: 89323.5542868\ttotal: 6.13s\tremaining: 15s\n",
      "87:\tlearn: 89316.0406138\ttotal: 6.19s\tremaining: 14.9s\n",
      "88:\tlearn: 89311.9628158\ttotal: 6.26s\tremaining: 14.8s\n",
      "89:\tlearn: 89308.8677285\ttotal: 6.33s\tremaining: 14.8s\n",
      "90:\tlearn: 89305.9289744\ttotal: 6.39s\tremaining: 14.7s\n",
      "91:\tlearn: 89299.5114604\ttotal: 6.45s\tremaining: 14.6s\n",
      "92:\tlearn: 89292.1860849\ttotal: 6.52s\tremaining: 14.5s\n",
      "93:\tlearn: 89289.1732730\ttotal: 6.59s\tremaining: 14.4s\n",
      "94:\tlearn: 89285.4020460\ttotal: 6.66s\tremaining: 14.4s\n",
      "95:\tlearn: 89280.5544544\ttotal: 6.73s\tremaining: 14.3s\n",
      "96:\tlearn: 89277.1556871\ttotal: 6.79s\tremaining: 14.2s\n",
      "97:\tlearn: 89273.5581669\ttotal: 6.86s\tremaining: 14.1s\n",
      "98:\tlearn: 89267.7760538\ttotal: 6.93s\tremaining: 14.1s\n",
      "99:\tlearn: 89264.9505897\ttotal: 6.99s\tremaining: 14s\n",
      "100:\tlearn: 89262.1396893\ttotal: 7.06s\tremaining: 13.9s\n",
      "101:\tlearn: 89256.0064021\ttotal: 7.13s\tremaining: 13.8s\n",
      "102:\tlearn: 89250.4454322\ttotal: 7.2s\tremaining: 13.8s\n",
      "103:\tlearn: 89247.8272855\ttotal: 7.27s\tremaining: 13.7s\n",
      "104:\tlearn: 89243.8958856\ttotal: 7.34s\tremaining: 13.6s\n",
      "105:\tlearn: 89239.0734456\ttotal: 7.4s\tremaining: 13.5s\n",
      "106:\tlearn: 89235.5187600\ttotal: 7.46s\tremaining: 13.5s\n",
      "107:\tlearn: 89233.2872478\ttotal: 7.53s\tremaining: 13.4s\n",
      "108:\tlearn: 89230.3259285\ttotal: 7.6s\tremaining: 13.3s\n",
      "109:\tlearn: 89226.5611285\ttotal: 7.69s\tremaining: 13.3s\n",
      "110:\tlearn: 89221.8995122\ttotal: 7.77s\tremaining: 13.2s\n",
      "111:\tlearn: 89217.5900395\ttotal: 7.84s\tremaining: 13.2s\n",
      "112:\tlearn: 89213.4095416\ttotal: 7.92s\tremaining: 13.1s\n",
      "113:\tlearn: 89209.4080055\ttotal: 8s\tremaining: 13s\n",
      "114:\tlearn: 89206.6498074\ttotal: 8.06s\tremaining: 13s\n",
      "115:\tlearn: 89204.8008134\ttotal: 8.12s\tremaining: 12.9s\n",
      "116:\tlearn: 89201.6062978\ttotal: 8.19s\tremaining: 12.8s\n",
      "117:\tlearn: 89198.2815004\ttotal: 8.26s\tremaining: 12.7s\n",
      "118:\tlearn: 89195.0740093\ttotal: 8.33s\tremaining: 12.7s\n",
      "119:\tlearn: 89192.9794151\ttotal: 8.39s\tremaining: 12.6s\n",
      "120:\tlearn: 89190.3790992\ttotal: 8.46s\tremaining: 12.5s\n",
      "121:\tlearn: 89187.6126211\ttotal: 8.52s\tremaining: 12.4s\n",
      "122:\tlearn: 89184.1693899\ttotal: 8.6s\tremaining: 12.4s\n",
      "123:\tlearn: 89181.7313379\ttotal: 8.66s\tremaining: 12.3s\n",
      "124:\tlearn: 89177.6852908\ttotal: 8.72s\tremaining: 12.2s\n",
      "125:\tlearn: 89174.7705782\ttotal: 8.8s\tremaining: 12.2s\n",
      "126:\tlearn: 89172.9089406\ttotal: 8.86s\tremaining: 12.1s\n",
      "127:\tlearn: 89169.6662282\ttotal: 8.93s\tremaining: 12s\n",
      "128:\tlearn: 89167.6035580\ttotal: 9s\tremaining: 11.9s\n",
      "129:\tlearn: 89166.1458352\ttotal: 9.06s\tremaining: 11.8s\n",
      "130:\tlearn: 89164.0603320\ttotal: 9.13s\tremaining: 11.8s\n",
      "131:\tlearn: 89162.0199260\ttotal: 9.2s\tremaining: 11.7s\n",
      "132:\tlearn: 89158.8813030\ttotal: 9.27s\tremaining: 11.6s\n",
      "133:\tlearn: 89156.7791924\ttotal: 9.33s\tremaining: 11.6s\n",
      "134:\tlearn: 89153.4619171\ttotal: 9.4s\tremaining: 11.5s\n",
      "135:\tlearn: 89151.5734170\ttotal: 9.47s\tremaining: 11.4s\n",
      "136:\tlearn: 89147.9250167\ttotal: 9.55s\tremaining: 11.4s\n",
      "137:\tlearn: 89146.7937798\ttotal: 9.62s\tremaining: 11.3s\n",
      "138:\tlearn: 89142.9114813\ttotal: 9.7s\tremaining: 11.2s\n",
      "139:\tlearn: 89140.3417331\ttotal: 9.78s\tremaining: 11.2s\n",
      "140:\tlearn: 89136.0395620\ttotal: 9.85s\tremaining: 11.1s\n",
      "141:\tlearn: 89133.1198031\ttotal: 9.92s\tremaining: 11s\n",
      "142:\tlearn: 89131.0969005\ttotal: 9.98s\tremaining: 11s\n",
      "143:\tlearn: 89126.8695217\ttotal: 10.1s\tremaining: 10.9s\n",
      "144:\tlearn: 89123.5153214\ttotal: 10.1s\tremaining: 10.8s\n",
      "145:\tlearn: 89121.2877651\ttotal: 10.2s\tremaining: 10.7s\n",
      "146:\tlearn: 89119.9856677\ttotal: 10.3s\tremaining: 10.7s\n",
      "147:\tlearn: 89116.5945241\ttotal: 10.3s\tremaining: 10.6s\n",
      "148:\tlearn: 89114.1675847\ttotal: 10.4s\tremaining: 10.5s\n",
      "149:\tlearn: 89112.3636437\ttotal: 10.5s\tremaining: 10.5s\n",
      "150:\tlearn: 89111.0428113\ttotal: 10.5s\tremaining: 10.4s\n",
      "151:\tlearn: 89108.5337058\ttotal: 10.6s\tremaining: 10.3s\n",
      "152:\tlearn: 89106.8266449\ttotal: 10.7s\tremaining: 10.3s\n",
      "153:\tlearn: 89105.7540423\ttotal: 10.7s\tremaining: 10.2s\n",
      "154:\tlearn: 89104.3233503\ttotal: 10.8s\tremaining: 10.1s\n",
      "155:\tlearn: 89102.2461656\ttotal: 10.9s\tremaining: 10s\n",
      "156:\tlearn: 89100.6669471\ttotal: 10.9s\tremaining: 9.97s\n",
      "157:\tlearn: 89098.8082011\ttotal: 11s\tremaining: 9.89s\n",
      "158:\tlearn: 89096.7806719\ttotal: 11.1s\tremaining: 9.82s\n",
      "159:\tlearn: 89093.8410924\ttotal: 11.1s\tremaining: 9.75s\n",
      "160:\tlearn: 89092.2939096\ttotal: 11.2s\tremaining: 9.68s\n",
      "161:\tlearn: 89090.7245610\ttotal: 11.3s\tremaining: 9.61s\n",
      "162:\tlearn: 89088.6345724\ttotal: 11.3s\tremaining: 9.54s\n",
      "163:\tlearn: 89086.8878580\ttotal: 11.4s\tremaining: 9.47s\n",
      "164:\tlearn: 89083.9724812\ttotal: 11.5s\tremaining: 9.4s\n",
      "165:\tlearn: 89082.4006839\ttotal: 11.6s\tremaining: 9.33s\n",
      "166:\tlearn: 89080.9899685\ttotal: 11.6s\tremaining: 9.26s\n",
      "167:\tlearn: 89079.9944614\ttotal: 11.7s\tremaining: 9.19s\n",
      "168:\tlearn: 89077.0347880\ttotal: 11.8s\tremaining: 9.12s\n",
      "169:\tlearn: 89075.4339540\ttotal: 11.8s\tremaining: 9.04s\n",
      "170:\tlearn: 89072.9706139\ttotal: 11.9s\tremaining: 8.97s\n",
      "171:\tlearn: 89071.7905264\ttotal: 12s\tremaining: 8.9s\n",
      "172:\tlearn: 89067.4788612\ttotal: 12s\tremaining: 8.83s\n",
      "173:\tlearn: 89066.6577368\ttotal: 12.1s\tremaining: 8.75s\n",
      "174:\tlearn: 89065.3890708\ttotal: 12.2s\tremaining: 8.68s\n",
      "175:\tlearn: 89062.5833321\ttotal: 12.2s\tremaining: 8.61s\n",
      "176:\tlearn: 89060.4727072\ttotal: 12.3s\tremaining: 8.54s\n",
      "177:\tlearn: 89059.1779400\ttotal: 12.4s\tremaining: 8.47s\n",
      "178:\tlearn: 89057.0632338\ttotal: 12.4s\tremaining: 8.4s\n",
      "179:\tlearn: 89055.7419628\ttotal: 12.5s\tremaining: 8.34s\n",
      "180:\tlearn: 89054.2913848\ttotal: 12.6s\tremaining: 8.27s\n",
      "181:\tlearn: 89053.0629169\ttotal: 12.6s\tremaining: 8.2s\n",
      "182:\tlearn: 89051.6146656\ttotal: 12.7s\tremaining: 8.13s\n",
      "183:\tlearn: 89049.7451213\ttotal: 12.8s\tremaining: 8.06s\n",
      "184:\tlearn: 89048.3891607\ttotal: 12.9s\tremaining: 7.99s\n",
      "185:\tlearn: 89047.4114323\ttotal: 12.9s\tremaining: 7.92s\n",
      "186:\tlearn: 89046.1073161\ttotal: 13s\tremaining: 7.85s\n",
      "187:\tlearn: 89045.1514898\ttotal: 13.1s\tremaining: 7.79s\n",
      "188:\tlearn: 89043.4806218\ttotal: 13.1s\tremaining: 7.72s\n",
      "189:\tlearn: 89039.8160917\ttotal: 13.2s\tremaining: 7.64s\n",
      "190:\tlearn: 89036.4487343\ttotal: 13.3s\tremaining: 7.57s\n",
      "191:\tlearn: 89035.1221601\ttotal: 13.3s\tremaining: 7.5s\n",
      "192:\tlearn: 89033.3910922\ttotal: 13.4s\tremaining: 7.43s\n",
      "193:\tlearn: 89031.3998910\ttotal: 13.5s\tremaining: 7.36s\n",
      "194:\tlearn: 89030.5732827\ttotal: 13.6s\tremaining: 7.3s\n",
      "195:\tlearn: 89029.8670710\ttotal: 13.6s\tremaining: 7.22s\n",
      "196:\tlearn: 89028.8832461\ttotal: 13.7s\tremaining: 7.15s\n",
      "197:\tlearn: 89027.0734691\ttotal: 13.8s\tremaining: 7.08s\n",
      "198:\tlearn: 89026.6499221\ttotal: 13.8s\tremaining: 7.01s\n",
      "199:\tlearn: 89024.9526826\ttotal: 13.9s\tremaining: 6.94s\n",
      "200:\tlearn: 89021.1232170\ttotal: 14s\tremaining: 6.87s\n",
      "201:\tlearn: 89018.7787135\ttotal: 14s\tremaining: 6.8s\n",
      "202:\tlearn: 89017.9745804\ttotal: 14.1s\tremaining: 6.73s\n",
      "203:\tlearn: 89016.3751758\ttotal: 14.2s\tremaining: 6.66s\n",
      "204:\tlearn: 89014.5180744\ttotal: 14.2s\tremaining: 6.6s\n",
      "205:\tlearn: 89013.8603999\ttotal: 14.3s\tremaining: 6.53s\n",
      "206:\tlearn: 89011.3427233\ttotal: 14.4s\tremaining: 6.46s\n",
      "207:\tlearn: 89010.8280548\ttotal: 14.5s\tremaining: 6.39s\n",
      "208:\tlearn: 89008.8514530\ttotal: 14.5s\tremaining: 6.32s\n",
      "209:\tlearn: 89007.4548446\ttotal: 14.6s\tremaining: 6.26s\n",
      "210:\tlearn: 89005.6361851\ttotal: 14.7s\tremaining: 6.19s\n",
      "211:\tlearn: 89002.0822763\ttotal: 14.7s\tremaining: 6.12s\n",
      "212:\tlearn: 89000.2535724\ttotal: 14.8s\tremaining: 6.05s\n",
      "213:\tlearn: 88999.1895305\ttotal: 14.9s\tremaining: 5.97s\n",
      "214:\tlearn: 88998.0146415\ttotal: 14.9s\tremaining: 5.9s\n",
      "215:\tlearn: 88996.9261839\ttotal: 15s\tremaining: 5.83s\n",
      "216:\tlearn: 88995.4161532\ttotal: 15.1s\tremaining: 5.76s\n",
      "217:\tlearn: 88993.1634671\ttotal: 15.1s\tremaining: 5.69s\n",
      "218:\tlearn: 88991.6743343\ttotal: 15.2s\tremaining: 5.62s\n",
      "219:\tlearn: 88991.0963528\ttotal: 15.3s\tremaining: 5.55s\n",
      "220:\tlearn: 88990.1643761\ttotal: 15.3s\tremaining: 5.48s\n",
      "221:\tlearn: 88988.6218735\ttotal: 15.4s\tremaining: 5.41s\n",
      "222:\tlearn: 88985.4572812\ttotal: 15.5s\tremaining: 5.34s\n",
      "223:\tlearn: 88984.4622826\ttotal: 15.5s\tremaining: 5.27s\n",
      "224:\tlearn: 88983.6969627\ttotal: 15.6s\tremaining: 5.2s\n",
      "225:\tlearn: 88981.7887289\ttotal: 15.7s\tremaining: 5.13s\n",
      "226:\tlearn: 88980.4259634\ttotal: 15.7s\tremaining: 5.06s\n",
      "227:\tlearn: 88979.4242781\ttotal: 15.8s\tremaining: 4.99s\n",
      "228:\tlearn: 88977.9820633\ttotal: 15.9s\tremaining: 4.92s\n",
      "229:\tlearn: 88976.2942497\ttotal: 15.9s\tremaining: 4.85s\n",
      "230:\tlearn: 88974.6534368\ttotal: 16s\tremaining: 4.78s\n",
      "231:\tlearn: 88974.2701729\ttotal: 16.1s\tremaining: 4.71s\n",
      "232:\tlearn: 88973.3180572\ttotal: 16.1s\tremaining: 4.64s\n",
      "233:\tlearn: 88971.7171008\ttotal: 16.2s\tremaining: 4.57s\n",
      "234:\tlearn: 88970.0359281\ttotal: 16.3s\tremaining: 4.5s\n",
      "235:\tlearn: 88969.5986926\ttotal: 16.3s\tremaining: 4.43s\n",
      "236:\tlearn: 88968.2943072\ttotal: 16.4s\tremaining: 4.36s\n",
      "237:\tlearn: 88965.3902616\ttotal: 16.5s\tremaining: 4.29s\n",
      "238:\tlearn: 88964.5983674\ttotal: 16.6s\tremaining: 4.22s\n",
      "239:\tlearn: 88963.6753949\ttotal: 16.6s\tremaining: 4.16s\n",
      "240:\tlearn: 88962.2067975\ttotal: 16.7s\tremaining: 4.09s\n",
      "241:\tlearn: 88961.4999546\ttotal: 16.8s\tremaining: 4.02s\n",
      "242:\tlearn: 88960.0134314\ttotal: 16.8s\tremaining: 3.95s\n",
      "243:\tlearn: 88958.8909385\ttotal: 16.9s\tremaining: 3.88s\n",
      "244:\tlearn: 88957.1512503\ttotal: 17s\tremaining: 3.81s\n",
      "245:\tlearn: 88955.5682465\ttotal: 17s\tremaining: 3.74s\n",
      "246:\tlearn: 88954.2538424\ttotal: 17.1s\tremaining: 3.67s\n",
      "247:\tlearn: 88952.3823433\ttotal: 17.2s\tremaining: 3.6s\n",
      "248:\tlearn: 88951.3461412\ttotal: 17.3s\tremaining: 3.53s\n",
      "249:\tlearn: 88948.6059639\ttotal: 17.3s\tremaining: 3.46s\n",
      "250:\tlearn: 88947.1118797\ttotal: 17.4s\tremaining: 3.39s\n",
      "251:\tlearn: 88945.8501964\ttotal: 17.5s\tremaining: 3.33s\n",
      "252:\tlearn: 88945.4633696\ttotal: 17.5s\tremaining: 3.25s\n",
      "253:\tlearn: 88942.9751011\ttotal: 17.6s\tremaining: 3.19s\n",
      "254:\tlearn: 88941.3903958\ttotal: 17.7s\tremaining: 3.12s\n",
      "255:\tlearn: 88938.8111419\ttotal: 17.7s\tremaining: 3.05s\n",
      "256:\tlearn: 88936.2677773\ttotal: 17.8s\tremaining: 2.98s\n",
      "257:\tlearn: 88935.7245307\ttotal: 17.9s\tremaining: 2.91s\n",
      "258:\tlearn: 88934.9552047\ttotal: 17.9s\tremaining: 2.84s\n",
      "259:\tlearn: 88933.5358062\ttotal: 18s\tremaining: 2.77s\n",
      "260:\tlearn: 88932.0117369\ttotal: 18.1s\tremaining: 2.7s\n",
      "261:\tlearn: 88930.6491137\ttotal: 18.1s\tremaining: 2.63s\n",
      "262:\tlearn: 88927.5152282\ttotal: 18.2s\tremaining: 2.56s\n",
      "263:\tlearn: 88925.9067341\ttotal: 18.3s\tremaining: 2.49s\n",
      "264:\tlearn: 88923.6905257\ttotal: 18.3s\tremaining: 2.42s\n",
      "265:\tlearn: 88923.0686924\ttotal: 18.4s\tremaining: 2.35s\n",
      "266:\tlearn: 88922.5547634\ttotal: 18.5s\tremaining: 2.28s\n",
      "267:\tlearn: 88921.2996366\ttotal: 18.5s\tremaining: 2.21s\n",
      "268:\tlearn: 88920.5930310\ttotal: 18.6s\tremaining: 2.14s\n",
      "269:\tlearn: 88919.9930581\ttotal: 18.7s\tremaining: 2.08s\n",
      "270:\tlearn: 88919.0703825\ttotal: 18.7s\tremaining: 2s\n",
      "271:\tlearn: 88917.2700493\ttotal: 18.8s\tremaining: 1.94s\n",
      "272:\tlearn: 88916.5481593\ttotal: 18.9s\tremaining: 1.87s\n",
      "273:\tlearn: 88915.8837523\ttotal: 18.9s\tremaining: 1.8s\n",
      "274:\tlearn: 88914.8428229\ttotal: 19s\tremaining: 1.73s\n",
      "275:\tlearn: 88914.3526669\ttotal: 19.1s\tremaining: 1.66s\n",
      "276:\tlearn: 88913.8662756\ttotal: 19.2s\tremaining: 1.59s\n",
      "277:\tlearn: 88912.4123243\ttotal: 19.2s\tremaining: 1.52s\n",
      "278:\tlearn: 88911.8397728\ttotal: 19.3s\tremaining: 1.45s\n",
      "279:\tlearn: 88909.7137197\ttotal: 19.4s\tremaining: 1.38s\n",
      "280:\tlearn: 88908.5264605\ttotal: 19.5s\tremaining: 1.31s\n",
      "281:\tlearn: 88907.2189839\ttotal: 19.5s\tremaining: 1.25s\n",
      "282:\tlearn: 88905.9451080\ttotal: 19.6s\tremaining: 1.18s\n",
      "283:\tlearn: 88905.6502136\ttotal: 19.7s\tremaining: 1.11s\n",
      "284:\tlearn: 88905.1007750\ttotal: 19.7s\tremaining: 1.04s\n",
      "285:\tlearn: 88904.5965683\ttotal: 19.8s\tremaining: 969ms\n",
      "286:\tlearn: 88903.6276497\ttotal: 19.9s\tremaining: 899ms\n",
      "287:\tlearn: 88901.8301461\ttotal: 19.9s\tremaining: 830ms\n",
      "288:\tlearn: 88899.8403084\ttotal: 20s\tremaining: 761ms\n",
      "289:\tlearn: 88899.1256112\ttotal: 20.1s\tremaining: 692ms\n",
      "290:\tlearn: 88898.5892670\ttotal: 20.1s\tremaining: 623ms\n",
      "291:\tlearn: 88896.3167835\ttotal: 20.2s\tremaining: 554ms\n",
      "292:\tlearn: 88895.3369646\ttotal: 20.3s\tremaining: 485ms\n",
      "293:\tlearn: 88893.1221684\ttotal: 20.3s\tremaining: 415ms\n",
      "294:\tlearn: 88892.2625790\ttotal: 20.4s\tremaining: 346ms\n",
      "295:\tlearn: 88891.7188389\ttotal: 20.5s\tremaining: 277ms\n",
      "296:\tlearn: 88890.6432089\ttotal: 20.6s\tremaining: 208ms\n",
      "297:\tlearn: 88889.9280997\ttotal: 20.6s\tremaining: 138ms\n",
      "298:\tlearn: 88888.8908404\ttotal: 20.7s\tremaining: 69.2ms\n",
      "299:\tlearn: 88887.7856911\ttotal: 20.8s\tremaining: 0us\n"
     ]
    },
    {
     "data": {
      "text/plain": [
       "<catboost.core.CatBoostRegressor at 0x121ca358>"
      ]
     },
     "execution_count": 152,
     "metadata": {},
     "output_type": "execute_result"
    }
   ],
   "source": [
    "# Fit model\n",
    "model.fit(X, Y)"
   ]
  },
  {
   "cell_type": "code",
   "execution_count": 153,
   "metadata": {},
   "outputs": [],
   "source": [
    "preds = model.predict(Z)"
   ]
  },
  {
   "cell_type": "code",
   "execution_count": 154,
   "metadata": {},
   "outputs": [
    {
     "data": {
      "text/html": [
       "<div>\n",
       "<style scoped>\n",
       "    .dataframe tbody tr th:only-of-type {\n",
       "        vertical-align: middle;\n",
       "    }\n",
       "\n",
       "    .dataframe tbody tr th {\n",
       "        vertical-align: top;\n",
       "    }\n",
       "\n",
       "    .dataframe thead th {\n",
       "        text-align: right;\n",
       "    }\n",
       "</style>\n",
       "<table border=\"1\" class=\"dataframe\">\n",
       "  <thead>\n",
       "    <tr style=\"text-align: right;\">\n",
       "      <th></th>\n",
       "      <th>0</th>\n",
       "    </tr>\n",
       "  </thead>\n",
       "  <tbody>\n",
       "    <tr>\n",
       "      <th>0</th>\n",
       "      <td>171316.473036</td>\n",
       "    </tr>\n",
       "    <tr>\n",
       "      <th>1</th>\n",
       "      <td>177562.457035</td>\n",
       "    </tr>\n",
       "    <tr>\n",
       "      <th>2</th>\n",
       "      <td>56113.654288</td>\n",
       "    </tr>\n",
       "    <tr>\n",
       "      <th>3</th>\n",
       "      <td>182678.672915</td>\n",
       "    </tr>\n",
       "    <tr>\n",
       "      <th>4</th>\n",
       "      <td>87329.881239</td>\n",
       "    </tr>\n",
       "  </tbody>\n",
       "</table>\n",
       "</div>"
      ],
      "text/plain": [
       "               0\n",
       "0  171316.473036\n",
       "1  177562.457035\n",
       "2   56113.654288\n",
       "3  182678.672915\n",
       "4   87329.881239"
      ]
     },
     "execution_count": 154,
     "metadata": {},
     "output_type": "execute_result"
    }
   ],
   "source": [
    "pd.DataFrame(preds).head()"
   ]
  },
  {
   "cell_type": "code",
   "execution_count": 155,
   "metadata": {},
   "outputs": [
    {
     "data": {
      "text/html": [
       "<div>\n",
       "<style scoped>\n",
       "    .dataframe tbody tr th:only-of-type {\n",
       "        vertical-align: middle;\n",
       "    }\n",
       "\n",
       "    .dataframe tbody tr th {\n",
       "        vertical-align: top;\n",
       "    }\n",
       "\n",
       "    .dataframe thead th {\n",
       "        text-align: right;\n",
       "    }\n",
       "</style>\n",
       "<table border=\"1\" class=\"dataframe\">\n",
       "  <thead>\n",
       "    <tr style=\"text-align: right;\">\n",
       "      <th></th>\n",
       "      <th>24_26_st</th>\n",
       "    </tr>\n",
       "  </thead>\n",
       "  <tbody>\n",
       "    <tr>\n",
       "      <th>0</th>\n",
       "      <td>259200.000000</td>\n",
       "    </tr>\n",
       "    <tr>\n",
       "      <th>5</th>\n",
       "      <td>259200.000000</td>\n",
       "    </tr>\n",
       "    <tr>\n",
       "      <th>7</th>\n",
       "      <td>259200.000000</td>\n",
       "    </tr>\n",
       "    <tr>\n",
       "      <th>9</th>\n",
       "      <td>259200.000000</td>\n",
       "    </tr>\n",
       "    <tr>\n",
       "      <th>10</th>\n",
       "      <td>250362.048531</td>\n",
       "    </tr>\n",
       "  </tbody>\n",
       "</table>\n",
       "</div>"
      ],
      "text/plain": [
       "         24_26_st\n",
       "0   259200.000000\n",
       "5   259200.000000\n",
       "7   259200.000000\n",
       "9   259200.000000\n",
       "10  250362.048531"
      ]
     },
     "execution_count": 155,
     "metadata": {},
     "output_type": "execute_result"
    }
   ],
   "source": [
    "st_24_26.head()"
   ]
  },
  {
   "cell_type": "markdown",
   "metadata": {},
   "source": [
    "### Calculamos el RMSE"
   ]
  },
  {
   "cell_type": "code",
   "execution_count": 156,
   "metadata": {},
   "outputs": [],
   "source": [
    "from sklearn.metrics import mean_squared_error"
   ]
  },
  {
   "cell_type": "code",
   "execution_count": 157,
   "metadata": {},
   "outputs": [
    {
     "name": "stdout",
     "output_type": "stream",
     "text": [
      "RMSE: 89111.349624\n"
     ]
    }
   ],
   "source": [
    "rmse = np.sqrt( mean_squared_error(st_24_26, preds) )\n",
    "print(\"RMSE: %f\" % (rmse) )"
   ]
  },
  {
   "cell_type": "code",
   "execution_count": null,
   "metadata": {},
   "outputs": [],
   "source": []
  }
 ],
 "metadata": {
  "kernelspec": {
   "display_name": "Python 3",
   "language": "python",
   "name": "python3"
  },
  "language_info": {
   "codemirror_mode": {
    "name": "ipython",
    "version": 3
   },
   "file_extension": ".py",
   "mimetype": "text/x-python",
   "name": "python",
   "nbconvert_exporter": "python",
   "pygments_lexer": "ipython3",
   "version": "3.7.3"
  }
 },
 "nbformat": 4,
 "nbformat_minor": 2
}
