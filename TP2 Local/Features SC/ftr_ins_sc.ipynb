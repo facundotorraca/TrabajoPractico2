{
 "cells": [
  {
   "cell_type": "code",
   "execution_count": 1,
   "metadata": {},
   "outputs": [],
   "source": [
    "import pandas as pd\n",
    "import numpy as np\n",
    "import datetime as dt\n",
    "import warnings as wn\n",
    "import sklearn.preprocessing as skpre\n",
    "import category_encoders as ce\n",
    "\n",
    "wn.simplefilter( \"ignore\" )"
   ]
  },
  {
   "cell_type": "code",
   "execution_count": 2,
   "metadata": {},
   "outputs": [],
   "source": [
    "loc_ftr = r\"D:\\FacundoTorraca\\Documents\\TP2_ML\\FeaturesLocal\\FeaturesSC\""
   ]
  },
  {
   "cell_type": "markdown",
   "metadata": {},
   "source": [
    "## <span style=\"color:yellow\"> **Preparamos el set de entramiento para sacar features** </span> "
   ]
  },
  {
   "cell_type": "code",
   "execution_count": 3,
   "metadata": {},
   "outputs": [],
   "source": [
    "loc_ts = r\"D:\\FacundoTorraca\\Documents\\TP2_ML\\Training Sets\""
   ]
  },
  {
   "cell_type": "code",
   "execution_count": 4,
   "metadata": {},
   "outputs": [],
   "source": [
    "ins_trn = pd.read_csv( loc_ts + \"\\\\ins_18_20.csv\" ); ins_trn[\"_sc\"] = pd.to_datetime(ins_trn[\"date\"]) - dt.datetime( year = 2019, month = 4, day = 18 ); ins_trn[\"_sc\"] = ins_trn[\"_sc\"].dt.total_seconds();\n",
    "ins_tst = pd.read_csv( loc_ts + \"\\\\ins_21_23.csv\" ); ins_tst[\"_sc\"] = pd.to_datetime(ins_trn[\"date\"]) - dt.datetime( year = 2019, month = 4, day = 21 ); ins_tst[\"_sc\"] = ins_tst[\"_sc\"].dt.total_seconds(); "
   ]
  },
  {
   "cell_type": "code",
   "execution_count": 5,
   "metadata": {},
   "outputs": [],
   "source": [
    "ins_trn_frt = ins_trn.sort_values( by = [\"ref_hash\",\"_sc\"], ascending = True ).drop_duplicates( subset = [\"ref_hash\"], keep = \"first\" )\n",
    "ins_tst_frt = ins_tst.sort_values( by = [\"ref_hash\",\"_sc\"], ascending = True ).drop_duplicates( subset = [\"ref_hash\"], keep = \"first\" )"
   ]
  },
  {
   "cell_type": "markdown",
   "metadata": {},
   "source": [
    "## <span style=\"color:yellow\"> **Preparamos el ref_hash de cada ventana** </span> "
   ]
  },
  {
   "cell_type": "code",
   "execution_count": 6,
   "metadata": {},
   "outputs": [],
   "source": [
    "loc_lb = r\"D:\\FacundoTorraca\\Documents\\TP2_ML\\Labels\""
   ]
  },
  {
   "cell_type": "code",
   "execution_count": 7,
   "metadata": {},
   "outputs": [],
   "source": [
    "lb_ins_trn = pd.read_csv( loc_lb + \"\\\\label_ins_21_23.csv\" );\n",
    "lb_ins_tst = pd.read_csv( loc_lb + \"\\\\label_ins_24_26.csv\" ); "
   ]
  },
  {
   "cell_type": "code",
   "execution_count": 8,
   "metadata": {},
   "outputs": [],
   "source": [
    "rh_trn = lb_ins_trn[ [\"ref_hash\"] ]\n",
    "rh_tst = lb_ins_tst[ [\"ref_hash\"] ]\n",
    "\n",
    "tg_trn = lb_ins_trn[ [\"21_23_sc\"] ]\n",
    "tg_tst = lb_ins_tst[ [\"24_26_sc\"] ]"
   ]
  },
  {
   "cell_type": "markdown",
   "metadata": {},
   "source": [
    "## <span style=\"color:yellow\"> **=======================================================================================================** </span> "
   ]
  },
  {
   "cell_type": "markdown",
   "metadata": {},
   "source": [
    "## <span style=\"color:green\"> **Cantidad de instalaciones por dispositivo en la ventana previa a la conversion** </span> "
   ]
  },
  {
   "cell_type": "code",
   "execution_count": 9,
   "metadata": {},
   "outputs": [],
   "source": [
    "cant_ins_trn = rh_trn.copy()\n",
    "cant_ins_tst = rh_tst.copy()\n",
    "\n",
    "cant_ins_trn = cant_ins_trn.merge( ins_trn[\"ref_hash\"].value_counts().to_frame().reset_index().rename( columns = {\"ref_hash\": \"cant_ins\", \"index\":\"ref_hash\"} ), how = \"left\", on = \"ref_hash\" ).fillna( 0 )\n",
    "cant_ins_tst = cant_ins_tst.merge( ins_tst[\"ref_hash\"].value_counts().to_frame().reset_index().rename( columns = {\"ref_hash\": \"cant_ins\", \"index\":\"ref_hash\"} ), how = \"left\", on = \"ref_hash\" ).fillna( 0 )\n",
    "\n",
    "cant_ins_trn.to_csv( loc_ftr + \"\\\\cant_ins_trn.csv\", index = False )\n",
    "cant_ins_tst.to_csv( loc_ftr + \"\\\\cant_ins_tst.csv\", index = False )"
   ]
  },
  {
   "cell_type": "markdown",
   "metadata": {},
   "source": [
    "## <span style=\"color:green\"> **Aplicacion mas instalada por el usuario** </span>\n",
    "\n",
    "#### <span style=\"color:orange\"> **Mean Encoding** </span> (Usamos el promedio de la cantidad de veces que que es la app principal de algun dispositivo)"
   ]
  },
  {
   "cell_type": "code",
   "execution_count": 10,
   "metadata": {},
   "outputs": [],
   "source": [
    "main_app_trn = rh_trn.copy()\n",
    "main_app_tst = rh_tst.copy()\n",
    "\n",
    "app_mas_ins_trn = ins_trn.groupby( by = [\"ref_hash\",\"application_id\"] ).agg( {\"application_id\":\"count\"} ).rename( columns = {\"application_id\":\"cant_ins\"} ).reset_index()\n",
    "app_mas_ins_tst = ins_tst.groupby( by = [\"ref_hash\",\"application_id\"] ).agg( {\"application_id\":\"count\"} ).rename( columns = {\"application_id\":\"cant_ins\"} ).reset_index()\n",
    "\n",
    "app_mas_ins_trn = app_mas_ins_trn.sort_values( by = [\"ref_hash\", \"cant_ins\"], ascending = True ).drop_duplicates( subset = \"ref_hash\", keep = \"last\" ); del( app_mas_ins_trn[\"cant_ins\"] )\n",
    "app_mas_ins_tst = app_mas_ins_tst.sort_values( by = [\"ref_hash\", \"cant_ins\"], ascending = True ).drop_duplicates( subset = \"ref_hash\", keep = \"last\" ); del( app_mas_ins_tst[\"cant_ins\"] ) \n",
    "\n",
    "main_app_trn = main_app_trn.merge( app_mas_ins_trn, how = \"left\", on = \"ref_hash\" )\n",
    "main_app_tst = main_app_tst.merge( app_mas_ins_tst, how = \"left\", on = \"ref_hash\" )\n",
    "\n",
    "main_app_trn[\"to_count\"] = 1; main_app_trn[\"application_id\"] = main_app_trn[[\"application_id\", \"to_count\"]].groupby(\"application_id\").transform( \"sum\" ) / len(main_app_trn); del(main_app_trn[\"to_count\"])\n",
    "main_app_tst[\"to_count\"] = 1; main_app_tst[\"application_id\"] = main_app_tst[[\"application_id\", \"to_count\"]].groupby(\"application_id\").transform( \"sum\" ) / len(main_app_tst); del(main_app_tst[\"to_count\"])\n",
    "\n",
    "main_app_trn.fillna( main_app_trn.isnull().sum()/len(main_app_trn) )\n",
    "main_app_tst.fillna( main_app_tst.isnull().sum()/len(main_app_tst) )\n",
    "\n",
    "main_app_trn.to_csv( loc_ftr + \"\\\\main_app_trn.csv\", index = False )\n",
    "main_app_tst.to_csv( loc_ftr + \"\\\\main_app_tst.csv\", index = False )"
   ]
  },
  {
   "cell_type": "markdown",
   "metadata": {},
   "source": [
    "## <span style=\"color:green\"> **Cantidad de instalaciones implicitas por dispositivo** </span> "
   ]
  },
  {
   "cell_type": "code",
   "execution_count": 11,
   "metadata": {},
   "outputs": [],
   "source": [
    "cins_imp_trn = rh_trn.copy()\n",
    "cins_imp_tst = rh_tst.copy()\n",
    "\n",
    "cins_imp_trn[\"cant_imp\"] = ins_trn[\"implicit\"].apply( lambda x: 1 if x else 0 ); cins_imp_trn = cins_imp_trn.groupby( \"ref_hash\" ).agg( {\"cant_imp\":\"sum\"} ).reset_index()\n",
    "cins_imp_tst[\"cant_imp\"] = ins_tst[\"implicit\"].apply( lambda x: 1 if x else 0 ); cins_imp_tst = cins_imp_tst.groupby( \"ref_hash\" ).agg( {\"cant_imp\":\"sum\"} ).reset_index()\n",
    "\n",
    "cins_imp_trn.to_csv( loc_ftr + \"\\\\cins_imp_trn.csv\", index = False )\n",
    "cins_imp_tst.to_csv( loc_ftr + \"\\\\cins_imp_tst.csv\", index = False )"
   ]
  },
  {
   "cell_type": "markdown",
   "metadata": {},
   "source": [
    "## <span style=\"color:green\"> **Cantidad de instalaciones atribuidas por dispositivo** </span> "
   ]
  },
  {
   "cell_type": "code",
   "execution_count": 12,
   "metadata": {},
   "outputs": [],
   "source": [
    "cins_atr_trn = rh_trn.copy()\n",
    "cins_atr_tst = rh_tst.copy()\n",
    "\n",
    "cins_atr_trn[\"cant_atr\"] = ins_trn[\"attributed\"].apply( lambda x: 1 if x else 0 ); cins_atr_trn = cins_atr_trn.groupby( \"ref_hash\" ).agg( {\"cant_atr\":\"sum\"} ).reset_index()\n",
    "cins_atr_tst[\"cant_atr\"] = ins_tst[\"attributed\"].apply( lambda x: 1 if x else 0 ); cins_atr_tst = cins_atr_tst.groupby( \"ref_hash\" ).agg( {\"cant_atr\":\"sum\"} ).reset_index()\n",
    "\n",
    "cins_atr_trn.to_csv( loc_ftr + \"\\\\cins_atr_trn.csv\", index = False )\n",
    "cins_atr_tst.to_csv( loc_ftr + \"\\\\cins_atr_tst.csv\", index = False )"
   ]
  },
  {
   "cell_type": "markdown",
   "metadata": {},
   "source": [
    "## <span style=\"color:green\"> **Tiempo hasta la primera instalacion en la ventana anterior** </span>\n",
    "Se define con el tiempo maximo si la persona no realizo una instalacion en la ventana anterior"
   ]
  },
  {
   "cell_type": "code",
   "execution_count": 16,
   "metadata": {},
   "outputs": [],
   "source": [
    "frst_ins_trn = rh_trn.copy()\n",
    "frst_ins_tst = rh_tst.copy()\n",
    "\n",
    "time_to_first_ind_trn = ins_trn_frt[ [\"ref_hash\",\"_sc\"] ]\n",
    "time_to_first_ind_tst = ins_tst_frt[ [\"ref_hash\",\"_sc\"] ]\n",
    "\n",
    "frst_ins_trn = frst_ins_trn.merge( time_to_first_ind_trn, how = \"left\", on = \"ref_hash\" ).fillna( 3*3600*24 )\n",
    "frst_ins_tst = frst_ins_tst.merge( time_to_first_ind_tst, how = \"left\", on = \"ref_hash\" ).fillna( 3*3600*24 )\n",
    "\n",
    "frst_ins_trn.to_csv( loc_ftr + \"\\\\frst_ins_trn.csv\", index = False )\n",
    "frst_ins_tst.to_csv( loc_ftr + \"\\\\frst_ins_tst.csv\", index = False )"
   ]
  },
  {
   "cell_type": "markdown",
   "metadata": {},
   "source": [
    "## <span style=\"color:green\"> **Instalo entre 4 hs y 10 hs (Mañana)** </span> "
   ]
  },
  {
   "cell_type": "markdown",
   "metadata": {},
   "source": [
    "#### <span style=\"color:Orange\"> **One-hot Encoding** </span> "
   ]
  },
  {
   "cell_type": "code",
   "execution_count": 17,
   "metadata": {},
   "outputs": [],
   "source": [
    "ins_trn['ins_4_10'] = ( pd.to_datetime( ins_trn['date'] ).dt.hour > 3) & ( pd.to_datetime( ins_trn['date'] ).dt.hour < 11) \n",
    "ins_tst['ins_4_10'] = ( pd.to_datetime( ins_tst['date'] ).dt.hour > 3) & ( pd.to_datetime( ins_tst['date'] ).dt.hour < 11)\n",
    "\n",
    "ins_morn_trn = rh_trn.copy()\n",
    "ins_morn_tst = rh_tst.copy()\n",
    "\n",
    "hour_mode_trn = ins_trn.groupby('ref_hash').agg({'ins_4_10':'sum'}).reset_index()\n",
    "hour_mode_tst = ins_tst.groupby('ref_hash').agg({'ins_4_10':'sum'}).reset_index()\n",
    "\n",
    "ins_morn_trn = ins_morn_trn.merge( hour_mode_tst, how = \"left\", on = \"ref_hash\" )\n",
    "ins_morn_tst = ins_morn_tst.merge( hour_mode_trn, how = \"left\", on = \"ref_hash\" )\n",
    "\n",
    "ins_morn_trn[\"ins_4_10\"] =  (ins_morn_trn[\"ins_4_10\"] > 1).astype('int8')\n",
    "ins_morn_tst[\"ins_4_10\"] =  (ins_morn_tst[\"ins_4_10\"] > 1).astype('int8')\n",
    "\n",
    "ins_morn_trn.to_csv( loc_ftr + \"\\\\ins_morn_trn.csv\", index = False )\n",
    "ins_morn_tst.to_csv( loc_ftr + \"\\\\ins_morn_tst.csv\", index = False )\n",
    "\n",
    "del ins_trn['ins_4_10']\n",
    "del ins_tst['ins_4_10']"
   ]
  },
  {
   "cell_type": "markdown",
   "metadata": {},
   "source": [
    "## <span style=\"color:green\"> **Instalo entre 11 hs y 15 hs (Medio dia)** </span> "
   ]
  },
  {
   "cell_type": "markdown",
   "metadata": {},
   "source": [
    "#### <span style=\"color:Orange\"> **One-hot Encoding** </span> "
   ]
  },
  {
   "cell_type": "code",
   "execution_count": 18,
   "metadata": {},
   "outputs": [],
   "source": [
    "ins_trn['ins_11_15'] = ( pd.to_datetime( ins_trn['date'] ).dt.hour > 10) & ( pd.to_datetime( ins_trn['date'] ).dt.hour < 16) \n",
    "ins_tst['ins_11_15'] = ( pd.to_datetime( ins_tst['date'] ).dt.hour > 10) & ( pd.to_datetime( ins_tst['date'] ).dt.hour < 16)\n",
    "\n",
    "ins_midday_trn = rh_trn.copy()\n",
    "ins_midday_tst = rh_tst.copy()\n",
    "\n",
    "hour_mode_trn = ins_trn.groupby('ref_hash').agg({'ins_11_15':'sum'}).reset_index()\n",
    "hour_mode_tst = ins_tst.groupby('ref_hash').agg({'ins_11_15':'sum'}).reset_index()\n",
    "\n",
    "ins_midday_trn = ins_midday_trn.merge( hour_mode_trn, how = \"left\", on = \"ref_hash\" )\n",
    "ins_midday_tst = ins_midday_tst.merge( hour_mode_tst, how = \"left\", on = \"ref_hash\" )\n",
    "\n",
    "ins_midday_trn[\"ins_11_15\"] =  (ins_midday_trn[\"ins_11_15\"] > 1).astype('int8')\n",
    "ins_midday_tst[\"ins_11_15\"] =  (ins_midday_tst[\"ins_11_15\"] > 1).astype('int8')\n",
    "\n",
    "ins_midday_trn.to_csv( loc_ftr + \"\\\\ins_mday_trn.csv\", index = False )\n",
    "ins_midday_tst.to_csv( loc_ftr + \"\\\\ins_mday_tst.csv\", index = False )\n",
    "\n",
    "del ins_trn['ins_11_15']\n",
    "del ins_tst['ins_11_15']"
   ]
  },
  {
   "cell_type": "markdown",
   "metadata": {},
   "source": [
    "## <span style=\"color:green\"> **Instalo entre 16 hs y 20 hs (Tarde)** </span> "
   ]
  },
  {
   "cell_type": "markdown",
   "metadata": {},
   "source": [
    "#### <span style=\"color:Orange\"> **One-hot Encoding** </span> "
   ]
  },
  {
   "cell_type": "code",
   "execution_count": 19,
   "metadata": {},
   "outputs": [],
   "source": [
    "ins_trn['ins_16_20'] = ( pd.to_datetime( ins_trn['date'] ).dt.hour > 15) & ( pd.to_datetime( ins_trn['date'] ).dt.hour < 21) \n",
    "ins_tst['ins_16_20'] = ( pd.to_datetime( ins_tst['date'] ).dt.hour > 15) & ( pd.to_datetime( ins_tst['date'] ).dt.hour < 21)\n",
    "\n",
    "ins_after_trn = rh_trn.copy()\n",
    "ins_after_tst = rh_tst.copy()\n",
    "\n",
    "hour_mode_trn = ins_trn.groupby('ref_hash').agg({'ins_16_20':'sum'}).reset_index()\n",
    "hour_mode_tst = ins_tst.groupby('ref_hash').agg({'ins_16_20':'sum'}).reset_index()\n",
    "\n",
    "ins_after_trn = ins_after_trn.merge( hour_mode_trn, how = \"left\", on = \"ref_hash\" )\n",
    "ins_after_tst = ins_after_tst.merge( hour_mode_tst, how = \"left\", on = \"ref_hash\" )\n",
    "\n",
    "ins_after_trn[\"ins_16_20\"] =  (ins_after_trn[\"ins_16_20\"] > 1).astype('int8')\n",
    "ins_after_tst[\"ins_16_20\"] =  (ins_after_tst[\"ins_16_20\"] > 1).astype('int8')\n",
    "\n",
    "ins_after_trn.to_csv( loc_ftr + \"\\\\ins_aftr_trn.csv\", index = False )\n",
    "ins_after_tst.to_csv( loc_ftr + \"\\\\ins_aftr_tst.csv\", index = False )\n",
    "\n",
    "del ins_trn['ins_16_20']\n",
    "del ins_tst['ins_16_20']"
   ]
  },
  {
   "cell_type": "markdown",
   "metadata": {},
   "source": [
    "## <span style=\"color:green\"> **Instalo entre 21 hs y 3 hs (Noche)** </span> "
   ]
  },
  {
   "cell_type": "markdown",
   "metadata": {},
   "source": [
    "#### <span style=\"color:Orange\"> **One-hot Encoding** </span> "
   ]
  },
  {
   "cell_type": "code",
   "execution_count": 20,
   "metadata": {},
   "outputs": [],
   "source": [
    "ins_trn['ins_21_3'] = ( pd.to_datetime( ins_trn['date'] ).dt.hour > 20) | ( pd.to_datetime( ins_trn['date'] ).dt.hour < 4) \n",
    "ins_tst['ins_21_3'] = ( pd.to_datetime( ins_tst['date'] ).dt.hour > 20) | ( pd.to_datetime( ins_tst['date'] ).dt.hour < 4)\n",
    "\n",
    "ins_night_trn = rh_trn.copy()\n",
    "ins_night_tst = rh_tst.copy()\n",
    "\n",
    "hour_mode_trn = ins_trn.groupby('ref_hash').agg({'ins_21_3':'sum'}).reset_index()\n",
    "hour_mode_tst = ins_tst.groupby('ref_hash').agg({'ins_21_3':'sum'}).reset_index()\n",
    "\n",
    "ins_night_trn = ins_night_trn.merge( hour_mode_trn, how = \"left\", on = \"ref_hash\" )\n",
    "ins_night_tst = ins_night_tst.merge( hour_mode_tst, how = \"left\", on = \"ref_hash\" )\n",
    "\n",
    "ins_night_trn[\"ins_21_3\"] =  (ins_night_trn[\"ins_21_3\"] > 1).astype('int8')\n",
    "ins_night_tst[\"ins_21_3\"] =  (ins_night_tst[\"ins_21_3\"] > 1).astype('int8')\n",
    "\n",
    "ins_night_trn.to_csv( loc_ftr + \"\\\\ins_nght_trn.csv\", index = False )\n",
    "ins_night_tst.to_csv( loc_ftr + \"\\\\ins_nght_tst.csv\", index = False )\n",
    "\n",
    "del ins_trn['ins_21_3']\n",
    "del ins_tst['ins_21_3']"
   ]
  }
 ],
 "metadata": {
  "kernelspec": {
   "display_name": "Python 3",
   "language": "python",
   "name": "python3"
  },
  "language_info": {
   "codemirror_mode": {
    "name": "ipython",
    "version": 3
   },
   "file_extension": ".py",
   "mimetype": "text/x-python",
   "name": "python",
   "nbconvert_exporter": "python",
   "pygments_lexer": "ipython3",
   "version": "3.7.0"
  }
 },
 "nbformat": 4,
 "nbformat_minor": 2
}
