{
 "cells": [
  {
   "cell_type": "code",
   "execution_count": 1,
   "metadata": {},
   "outputs": [],
   "source": [
    "import pandas as pd\n",
    "import numpy as np\n",
    "import datetime as dt\n",
    "import warnings as wn\n",
    "import sklearn.preprocessing as skpre\n",
    "import category_encoders as ce\n",
    "\n",
    "wn.simplefilter( \"ignore\" )"
   ]
  },
  {
   "cell_type": "code",
   "execution_count": 2,
   "metadata": {},
   "outputs": [],
   "source": [
    "loc_ftr = r\"D:\\FacundoTorraca\\Documents\\TP2_ML\\FeaturesLocal\\FeaturesSC\""
   ]
  },
  {
   "cell_type": "markdown",
   "metadata": {},
   "source": [
    "## <span style=\"color:yellow\"> **Preparamos el set de entramiento para sacar features** </span> "
   ]
  },
  {
   "cell_type": "code",
   "execution_count": 3,
   "metadata": {},
   "outputs": [],
   "source": [
    "loc_ts = r\"D:\\FacundoTorraca\\Documents\\TP2_ML\\Training Sets\""
   ]
  },
  {
   "cell_type": "code",
   "execution_count": 4,
   "metadata": {},
   "outputs": [],
   "source": [
    "auc_trn = pd.read_csv( loc_ts + \"\\\\auc_18_20.csv\" ); \n",
    "auc_tst = pd.read_csv( loc_ts + \"\\\\auc_21_23.csv\" );  "
   ]
  },
  {
   "cell_type": "markdown",
   "metadata": {},
   "source": [
    "## <span style=\"color:yellow\"> **Preparamos el ref_hash de cada ventana** </span> "
   ]
  },
  {
   "cell_type": "code",
   "execution_count": 5,
   "metadata": {},
   "outputs": [],
   "source": [
    "loc_lb = r\"D:\\FacundoTorraca\\Documents\\TP2_ML\\Labels\""
   ]
  },
  {
   "cell_type": "code",
   "execution_count": 6,
   "metadata": {},
   "outputs": [],
   "source": [
    "lb_ins_trn = pd.read_csv( loc_lb + \"\\\\label_ins_21_23.csv\" );\n",
    "lb_ins_tst = pd.read_csv( loc_lb + \"\\\\label_ins_24_26.csv\" ); "
   ]
  },
  {
   "cell_type": "code",
   "execution_count": 7,
   "metadata": {},
   "outputs": [],
   "source": [
    "rh_trn = lb_ins_trn[ [\"ref_hash\"] ]\n",
    "rh_tst = lb_ins_tst[ [\"ref_hash\"] ]\n",
    "\n",
    "tg_trn = lb_ins_trn[ [\"21_23_sc\"] ]"
   ]
  },
  {
   "cell_type": "markdown",
   "metadata": {},
   "source": [
    "## <span style=\"color:yellow\"> **=======================================================================================================** </span> "
   ]
  },
  {
   "cell_type": "markdown",
   "metadata": {},
   "source": [
    "## <span style=\"color:green\"> **Hora mas popular del usuario en las subastas** </span> \n",
    "\n",
    "Le aplicamos la transformacion sin( (hora * pi)/24 ) para agregarle periodicidad. "
   ]
  },
  {
   "cell_type": "code",
   "execution_count": 8,
   "metadata": {},
   "outputs": [],
   "source": [
    "main_ahr_trn = rh_trn.copy()\n",
    "main_ahr_tst = rh_tst.copy()\n",
    "\n",
    "hour_mode_trn = auc_trn[ [\"device_id\"] ]; hour_mode_trn[\"hour\"] = pd.to_datetime( auc_trn[\"date\"] ).dt.hour\n",
    "hour_mode_tst = auc_tst[ [\"device_id\"] ]; hour_mode_tst[\"hour\"] = pd.to_datetime( auc_tst[\"date\"] ).dt.hour\n",
    "\n",
    "hour_mode_trn = hour_mode_trn.groupby( [\"device_id\", \"hour\"] ).agg( { \"hour\":\"count\" } ).rename( columns = {\"hour\":\"count\"} ).reset_index()\n",
    "hour_mode_tst = hour_mode_tst.groupby( [\"device_id\", \"hour\"] ).agg( { \"hour\":\"count\" } ).rename( columns = {\"hour\":\"count\"} ).reset_index()\n",
    "\n",
    "hour_mode_trn = hour_mode_trn.sort_values( [\"device_id\",\"count\"], ascending = False ).drop_duplicates( subset = [\"device_id\"], keep = \"first\" ).rename( columns = {\"device_id\":\"ref_hash\"} ).drop(\"count\",axis = 1)\n",
    "hour_mode_tst = hour_mode_tst.sort_values( [\"device_id\",\"count\"], ascending = False ).drop_duplicates( subset = [\"device_id\"], keep = \"first\" ).rename( columns = {\"device_id\":\"ref_hash\"} ).drop(\"count\",axis = 1)\n",
    "\n",
    "main_ahr_trn = main_ahr_trn.merge( hour_mode_trn, how = \"left\", on = \"ref_hash\" ).rename( columns = {\"hour\":\"main_hour\"} )\n",
    "main_ahr_tst = main_ahr_tst.merge( hour_mode_tst, how = \"left\", on = \"ref_hash\" ).rename( columns = {\"hour\":\"main_hour\"} )\n",
    "\n",
    "main_ahr_trn[\"main_hour\"] =  main_ahr_trn[\"main_hour\"].apply( lambda x: np.sin( (x*np.pi)/24 ) )\n",
    "main_ahr_tst[\"main_hour\"] =  main_ahr_tst[\"main_hour\"].apply( lambda x: np.sin( (x*np.pi)/24 ) )\n",
    "\n",
    "main_ahr_trn.to_csv( loc_ftr + \"\\\\main_ahr_trn.csv\", index = False )\n",
    "main_ahr_tst.to_csv( loc_ftr + \"\\\\main_ahr_tst.csv\", index = False )"
   ]
  },
  {
   "cell_type": "markdown",
   "metadata": {},
   "source": [
    "## <span style=\"color:green\"> **Horario de la primer subasta en ese ventana** </span> "
   ]
  },
  {
   "cell_type": "code",
   "execution_count": 9,
   "metadata": {},
   "outputs": [],
   "source": [
    "hr_f_auc_trn = rh_trn.copy()\n",
    "hr_f_auc_tst = rh_tst.copy()\n",
    "\n",
    "first_auc_hour_trn = auc_trn[ [\"device_id\",\"date\"] ].sort_values( \"date\" ).drop_duplicates( subset = \"device_id\", keep = \"first\" ).rename( columns = {\"device_id\":\"ref_hash\"} )\n",
    "first_auc_hour_tst = auc_tst[ [\"device_id\",\"date\"] ].sort_values( \"date\" ).drop_duplicates( subset = \"device_id\", keep = \"first\" ).rename( columns = {\"device_id\":\"ref_hash\"} )\n",
    "\n",
    "first_auc_hour_trn[\"time_to_frt_auc\"] = ( pd.to_datetime( first_auc_hour_trn[\"date\"] ) -  dt.datetime( year = 2019, month = 4, day = 18 ) ).dt.total_seconds()\n",
    "first_auc_hour_tst[\"time_to_frt_auc\"] = ( pd.to_datetime( first_auc_hour_tst[\"date\"] ) -  dt.datetime( year = 2019, month = 4, day = 21 ) ).dt.total_seconds()\n",
    "\n",
    "first_auc_hour_trn[\"hour_frt_auc\"] = pd.to_datetime( first_auc_hour_trn[\"date\"] ).dt.hour\n",
    "first_auc_hour_tst[\"hour_frt_auc\"] = pd.to_datetime( first_auc_hour_tst[\"date\"] ).dt.hour\n",
    "\n",
    "first_auc_hour_trn.drop( [\"date\", \"time_to_frt_auc\"], axis = 1, inplace = True )\n",
    "first_auc_hour_tst.drop( [\"date\", \"time_to_frt_auc\"], axis = 1, inplace = True )\n",
    "\n",
    "hr_f_auc_trn = hr_f_auc_trn.merge( first_auc_hour_trn, how = \"left\", on = \"ref_hash\" )\n",
    "hr_f_auc_tst = hr_f_auc_tst.merge( first_auc_hour_tst, how = \"left\", on = \"ref_hash\" )\n",
    "\n",
    "hr_f_auc_trn.to_csv( loc_ftr + \"\\\\hr_f_auc_trn.csv\", index = False )\n",
    "hr_f_auc_tst.to_csv( loc_ftr + \"\\\\hr_f_auc_tst.csv\", index = False )"
   ]
  },
  {
   "cell_type": "markdown",
   "metadata": {},
   "source": [
    "## <span style=\"color:green\"> **Cantidad de Subastas por dispositivo en la ventana previa a la conversion** </span>"
   ]
  },
  {
   "cell_type": "code",
   "execution_count": 10,
   "metadata": {},
   "outputs": [],
   "source": [
    "cant_auc_trn = rh_trn.copy()\n",
    "cant_auc_tst = rh_tst.copy()\n",
    "\n",
    "cant_auc_trn = cant_auc_trn.merge( auc_trn[\"device_id\"].value_counts().to_frame().reset_index().rename( columns = {\"device_id\": \"cant_auc\", \"index\":\"ref_hash\"} ), how = \"left\", on = \"ref_hash\" )\n",
    "cant_auc_tst = cant_auc_tst.merge( auc_tst[\"device_id\"].value_counts().to_frame().reset_index().rename( columns = {\"device_id\": \"cant_auc\", \"index\":\"ref_hash\"} ), how = \"left\", on = \"ref_hash\" )\n",
    "\n",
    "cant_auc_trn.fillna( 0, inplace = True )\n",
    "cant_auc_tst.fillna( 0, inplace = True )\n",
    "\n",
    "cant_auc_trn.to_csv( loc_ftr + \"\\\\cant_auc_trn.csv\", index = False )\n",
    "cant_auc_tst.to_csv( loc_ftr + \"\\\\cant_auc_tst.csv\", index = False )"
   ]
  },
  {
   "cell_type": "markdown",
   "metadata": {},
   "source": [
    "## <span style=\"color:green\"> **Tiempo hasta la primer auction en ese ventana** </span> \n",
    "\n",
    "Le asignamos cuanto tiempo, en la ventana del 18-20, tardo en realizar su primer auction"
   ]
  },
  {
   "cell_type": "code",
   "execution_count": 11,
   "metadata": {},
   "outputs": [],
   "source": [
    "frst_auc_trn = rh_trn.copy()\n",
    "frst_auc_tst = rh_tst.copy()\n",
    "\n",
    "first_auctions_rh_ins_trn = auc_trn[ [\"device_id\",\"date\"] ].sort_values( \"date\" ).drop_duplicates( subset = \"device_id\", keep = \"first\" ).rename( columns = {\"device_id\":\"ref_hash\"} )\n",
    "first_auctions_rh_ins_tst = auc_tst[ [\"device_id\",\"date\"] ].sort_values( \"date\" ).drop_duplicates( subset = \"device_id\", keep = \"first\" ).rename( columns = {\"device_id\":\"ref_hash\"} )\n",
    "\n",
    "first_auctions_rh_ins_trn[\"time_to_frt_auc\"] = ( pd.to_datetime( first_auctions_rh_ins_trn[\"date\"] ) -  dt.datetime( year = 2019, month = 4, day = 18 ) ).dt.total_seconds()\n",
    "first_auctions_rh_ins_tst[\"time_to_frt_auc\"] = ( pd.to_datetime( first_auctions_rh_ins_tst[\"date\"] ) -  dt.datetime( year = 2019, month = 4, day = 21 ) ).dt.total_seconds()\n",
    "\n",
    "first_auctions_rh_ins_trn.drop( \"date\", axis = 1, inplace = True )\n",
    "first_auctions_rh_ins_tst.drop( \"date\", axis = 1, inplace = True )\n",
    "\n",
    "frst_auc_trn = frst_auc_trn.merge( first_auctions_rh_ins_trn, how = \"left\", on = \"ref_hash\" )\n",
    "frst_auc_tst = frst_auc_tst.merge( first_auctions_rh_ins_tst, how = \"left\", on = \"ref_hash\" )\n",
    "\n",
    "#Los que tienen NaN es que nunca convirtieron. Los marcamos con el tiempo maximo\n",
    "frst_auc_trn.fillna( 3 * 24 * 3600, inplace = True )\n",
    "frst_auc_tst.fillna( 3 * 24 * 3600, inplace = True )\n",
    "\n",
    "frst_auc_trn.to_csv( loc_ftr + \"\\\\frst_auc_trn.csv\", index = False )\n",
    "frst_auc_tst.to_csv( loc_ftr + \"\\\\frst_auc_tst.csv\", index = False )"
   ]
  },
  {
   "cell_type": "markdown",
   "metadata": {},
   "source": [
    "## <span style=\"color:green\"> **Source que recibio mas instalaciones por dispositivo** </span> "
   ]
  },
  {
   "cell_type": "markdown",
   "metadata": {},
   "source": [
    "#### <span style=\"color:orange\"> **OneHotEncoding** </span> "
   ]
  },
  {
   "cell_type": "code",
   "execution_count": 12,
   "metadata": {},
   "outputs": [],
   "source": [
    "srce_auc_trn = rh_trn.copy()\n",
    "srce_auc_tst = rh_tst.copy()\n",
    "\n",
    "main_source_trn = auc_trn.groupby( [\"device_id\", \"source_id\"] ).agg( {\"source_id\":\"count\"} ).rename( columns = {\"source_id\":\"cant_auc\"} ).reset_index()\n",
    "main_source_tst = auc_tst.groupby( [\"device_id\", \"source_id\"] ).agg( {\"source_id\":\"count\"} ).rename( columns = {\"source_id\":\"cant_auc\"} ).reset_index()\n",
    "\n",
    "main_source_trn = main_source_trn.sort_values( by = [\"device_id\",\"cant_auc\"], ascending = True ).drop_duplicates( subset = [\"device_id\"], keep = \"last\" ); del( main_source_trn[\"cant_auc\"] )\n",
    "main_source_tst = main_source_tst.sort_values( by = [\"device_id\",\"cant_auc\"], ascending = True ).drop_duplicates( subset = [\"device_id\"], keep = \"last\" ); del( main_source_tst[\"cant_auc\"] )\n",
    "\n",
    "srce_auc_trn = srce_auc_trn.merge( main_source_trn.rename(columns = {\"device_id\":\"ref_hash\"}), how = \"left\", on = \"ref_hash\" ); srce_auc_trn.fillna( \"no_font\", inplace = True )\n",
    "srce_auc_tst = srce_auc_tst.merge( main_source_tst.rename(columns = {\"device_id\":\"ref_hash\"}), how = \"left\", on = \"ref_hash\" ); srce_auc_tst.fillna( \"no_font\", inplace = True )\n",
    "\n",
    "#Ya fue controlado que quedan las mismas fuentes para ambas ventanas, no quedan columnas distintas\n",
    "srce_auc_ohe_trn = pd.get_dummies( srce_auc_trn[ [\"source_id\"] ].astype( \"category\" ) )\n",
    "srce_auc_ohe_tst = pd.get_dummies( srce_auc_tst[ [\"source_id\"] ].astype( \"category\" ) )\n",
    "\n",
    "srce_auc_trn = pd.concat( [srce_auc_trn, srce_auc_ohe_trn], axis = 1 ); del( srce_auc_trn[\"source_id\"] )\n",
    "srce_auc_tst = pd.concat( [srce_auc_tst, srce_auc_ohe_tst], axis = 1 ); del( srce_auc_tst[\"source_id\"] )\n",
    "\n",
    "srce_auc_trn.to_csv( loc_ftr + \"\\\\srce_auc_trn.csv\", index = False )\n",
    "srce_auc_tst.to_csv( loc_ftr + \"\\\\srce_auc_tst.csv\", index = False )"
   ]
  },
  {
   "cell_type": "markdown",
   "metadata": {},
   "source": [
    "## <span style=\"color:green\"> **Tiempo hasta la ultima auction en esa ventana** </span> "
   ]
  },
  {
   "cell_type": "code",
   "execution_count": 13,
   "metadata": {},
   "outputs": [],
   "source": [
    "last_auc_trn = rh_trn.copy()\n",
    "last_auc_tst = rh_tst.copy()\n",
    "\n",
    "last_auctions_rh_ins_trn = auc_trn[ [\"device_id\",\"date\"] ].sort_values( \"date\", ascending = False ).drop_duplicates( subset = \"device_id\", keep = \"first\" ).rename( columns = {\"device_id\":\"ref_hash\"} )\n",
    "last_auctions_rh_ins_tst = auc_tst[ [\"device_id\",\"date\"] ].sort_values( \"date\", ascending = False ).drop_duplicates( subset = \"device_id\", keep = \"first\" ).rename( columns = {\"device_id\":\"ref_hash\"} )\n",
    "\n",
    "last_auctions_rh_ins_trn[\"time_to_lst_auc\"] = ( pd.to_datetime( last_auctions_rh_ins_trn[\"date\"] ) -  dt.datetime( year = 2019, month = 4, day = 18 ) ).dt.total_seconds()\n",
    "last_auctions_rh_ins_tst[\"time_to_lst_auc\"] = ( pd.to_datetime( last_auctions_rh_ins_tst[\"date\"] ) -  dt.datetime( year = 2019, month = 4, day = 21 ) ).dt.total_seconds()\n",
    "\n",
    "last_auctions_rh_ins_trn.drop( \"date\", axis = 1, inplace = True )\n",
    "last_auctions_rh_ins_tst.drop( \"date\", axis = 1, inplace = True )\n",
    "\n",
    "last_auc_trn = last_auc_trn.merge( last_auctions_rh_ins_trn, how = \"left\", on = \"ref_hash\" )\n",
    "last_auc_tst = last_auc_tst.merge( last_auctions_rh_ins_tst, how = \"left\", on = \"ref_hash\" )\n",
    "\n",
    "#Los que tienen NaN es que nunca convirtieron. Los marcamos con el tiempo maximo\n",
    "last_auc_trn.fillna( 3 * 24 * 3600, inplace = True )\n",
    "last_auc_tst.fillna( 3 * 24 * 3600, inplace = True )\n",
    "\n",
    "last_auc_trn.to_csv( loc_ftr + \"\\\\last_auc_trn.csv\", index = False )\n",
    "last_auc_tst.to_csv( loc_ftr + \"\\\\last_auc_tst.csv\", index = False )"
   ]
  },
  {
   "cell_type": "markdown",
   "metadata": {},
   "source": [
    "## <span style=\"color:green\"> **Participo en mas de una subasta** </span> "
   ]
  },
  {
   "cell_type": "markdown",
   "metadata": {},
   "source": [
    "#### <span style=\"color:Orange\"> **One-hot Encoding** </span> "
   ]
  },
  {
   "cell_type": "code",
   "execution_count": 14,
   "metadata": {},
   "outputs": [],
   "source": [
    "cant_auc_trn = rh_trn.copy()\n",
    "cant_auc_tst = rh_tst.copy()\n",
    "\n",
    "cant_auc_trn = cant_auc_trn.merge( auc_trn[\"device_id\"].value_counts().to_frame().reset_index().rename( columns = {\"device_id\": \"mt_1_ins\", \"index\":\"ref_hash\"} ), how = \"left\", on = \"ref_hash\" )\n",
    "cant_auc_tst = cant_auc_tst.merge( auc_tst[\"device_id\"].value_counts().to_frame().reset_index().rename( columns = {\"device_id\": \"mt_1_ins\", \"index\":\"ref_hash\"} ), how = \"left\", on = \"ref_hash\" )\n",
    "\n",
    "cant_auc_trn.fillna( 0, inplace = True )\n",
    "cant_auc_tst.fillna( 0, inplace = True )\n",
    "\n",
    "cant_auc_trn['mt_1_ins'] = (cant_auc_trn['mt_1_ins'] > 1).astype('int8')\n",
    "cant_auc_tst['mt_1_ins'] = (cant_auc_tst['mt_1_ins'] > 1).astype('int8')\n",
    "\n",
    "cant_auc_trn.to_csv( loc_ftr + \"\\\\mas1_auc_trn.csv\", index = False )\n",
    "cant_auc_tst.to_csv( loc_ftr + \"\\\\mas1_auc_tst.csv\", index = False )"
   ]
  },
  {
   "cell_type": "markdown",
   "metadata": {},
   "source": [
    "## <span style=\"color:green\"> **Recibio subasta entre 21 hs y 3 hs (Noche)** </span> "
   ]
  },
  {
   "cell_type": "markdown",
   "metadata": {},
   "source": [
    "#### <span style=\"color:Orange\"> **One-hot Encoding** </span> "
   ]
  },
  {
   "cell_type": "code",
   "execution_count": 15,
   "metadata": {},
   "outputs": [],
   "source": [
    "auc_trn['auc_21_3'] = ( pd.to_datetime( auc_trn['date'] ).dt.hour < 4) | ( pd.to_datetime( auc_trn['date'] ).dt.hour > 20)\n",
    "auc_tst['auc_21_3'] = ( pd.to_datetime( auc_tst['date'] ).dt.hour < 4) | ( pd.to_datetime( auc_tst['date'] ).dt.hour > 20)\n",
    "\n",
    "auc_night_trn = rh_trn.copy()\n",
    "auc_night_tst = rh_tst.copy()\n",
    "\n",
    "hour_mode_trn = auc_trn.groupby('device_id').agg({'auc_21_3':'sum'}).reset_index().rename( columns = {\"device_id\":\"ref_hash\"} )\n",
    "hour_mode_tst = auc_tst.groupby('device_id').agg({'auc_21_3':'sum'}).reset_index().rename( columns = {\"device_id\":\"ref_hash\"} )\n",
    "\n",
    "auc_night_trn = auc_night_trn.merge( hour_mode_trn, how = \"left\", on = \"ref_hash\" )\n",
    "auc_night_tst = auc_night_tst.merge( hour_mode_tst, how = \"left\", on = \"ref_hash\" )\n",
    "\n",
    "auc_night_trn[\"auc_21_3\"] =  (auc_night_trn[\"auc_21_3\"] > 1).astype('int8')\n",
    "auc_night_tst[\"auc_21_3\"] =  (auc_night_tst[\"auc_21_3\"] > 1).astype('int8')\n",
    "\n",
    "auc_night_trn.to_csv( loc_ftr + \"\\\\auc_nght_trn.csv\", index = False )\n",
    "auc_night_tst.to_csv( loc_ftr + \"\\\\auc_nght_tst.csv\", index = False )\n",
    "\n",
    "del auc_trn['auc_21_3']\n",
    "del auc_tst['auc_21_3']"
   ]
  },
  {
   "cell_type": "markdown",
   "metadata": {},
   "source": [
    "## <span style=\"color:green\"> **Recibio subasta entre 4 hs y 10 hs (Mañana)** </span> "
   ]
  },
  {
   "cell_type": "markdown",
   "metadata": {},
   "source": [
    "#### <span style=\"color:Orange\"> **One-hot Encoding** </span> "
   ]
  },
  {
   "cell_type": "code",
   "execution_count": 16,
   "metadata": {},
   "outputs": [],
   "source": [
    "auc_trn['auc_4_10'] = ( pd.to_datetime( auc_trn['date'] ).dt.hour < 11) & ( pd.to_datetime( auc_trn['date'] ).dt.hour > 3)\n",
    "auc_tst['auc_4_10'] = ( pd.to_datetime( auc_tst['date'] ).dt.hour < 11) & ( pd.to_datetime( auc_tst['date'] ).dt.hour > 3)\n",
    "\n",
    "auc_morn_trn = rh_trn.copy()\n",
    "auc_morn_tst = rh_tst.copy()\n",
    "\n",
    "hour_mode_trn = auc_trn.groupby('device_id').agg({'auc_4_10':'sum'}).reset_index().rename( columns = {\"device_id\":\"ref_hash\"} )\n",
    "hour_mode_tst = auc_tst.groupby('device_id').agg({'auc_4_10':'sum'}).reset_index().rename( columns = {\"device_id\":\"ref_hash\"} )\n",
    "\n",
    "auc_morn_trn = auc_morn_trn.merge( hour_mode_trn, how = \"left\", on = \"ref_hash\" )\n",
    "auc_morn_tst = auc_morn_tst.merge( hour_mode_tst, how = \"left\", on = \"ref_hash\" )\n",
    "\n",
    "auc_morn_trn[\"auc_4_10\"] =  (auc_morn_trn[\"auc_4_10\"] > 1).astype('int8')\n",
    "auc_morn_tst[\"auc_4_10\"] =  (auc_morn_tst[\"auc_4_10\"] > 1).astype('int8')\n",
    "\n",
    "auc_morn_trn.to_csv( loc_ftr + \"\\\\auc_morn_trn.csv\", index = False )\n",
    "auc_morn_tst.to_csv( loc_ftr + \"\\\\auc_morn_tst.csv\", index = False )\n",
    "\n",
    "del auc_trn['auc_4_10']\n",
    "del auc_tst['auc_4_10']"
   ]
  },
  {
   "cell_type": "markdown",
   "metadata": {},
   "source": [
    "## <span style=\"color:green\"> **Recibio subasta entre 11 hs y 15 hs (Mediodia)** </span> "
   ]
  },
  {
   "cell_type": "markdown",
   "metadata": {},
   "source": [
    "#### <span style=\"color:Orange\"> **One-hot Encoding** </span> "
   ]
  },
  {
   "cell_type": "code",
   "execution_count": 17,
   "metadata": {},
   "outputs": [],
   "source": [
    "auc_trn['auc_11_15'] = ( pd.to_datetime( auc_trn['date'] ).dt.hour < 16) & ( pd.to_datetime( auc_trn['date'] ).dt.hour > 10)\n",
    "auc_tst['auc_11_15'] = ( pd.to_datetime( auc_tst['date'] ).dt.hour < 16) & ( pd.to_datetime( auc_tst['date'] ).dt.hour > 10)\n",
    "\n",
    "auc_midday_trn = rh_trn.copy()\n",
    "auc_midday_tst = rh_tst.copy()\n",
    "\n",
    "hour_mode_trn = auc_trn.groupby('device_id').agg({'auc_11_15':'sum'}).reset_index().rename( columns = {\"device_id\":\"ref_hash\"} )\n",
    "hour_mode_tst = auc_tst.groupby('device_id').agg({'auc_11_15':'sum'}).reset_index().rename( columns = {\"device_id\":\"ref_hash\"} )\n",
    "\n",
    "auc_midday_trn = auc_midday_trn.merge( hour_mode_trn, how = \"left\", on = \"ref_hash\" )\n",
    "auc_midday_tst = auc_midday_tst.merge( hour_mode_tst, how = \"left\", on = \"ref_hash\" )\n",
    "\n",
    "auc_midday_trn[\"auc_11_15\"] =  (auc_midday_trn[\"auc_11_15\"] > 1).astype('int8')\n",
    "auc_midday_tst[\"auc_11_15\"] =  (auc_midday_tst[\"auc_11_15\"] > 1).astype('int8')\n",
    "\n",
    "auc_midday_trn.to_csv( loc_ftr + \"\\\\auc_mday_trn.csv\", index = False )\n",
    "auc_midday_tst.to_csv( loc_ftr + \"\\\\auc_mday_tst.csv\", index = False )\n",
    "\n",
    "del auc_trn['auc_11_15']\n",
    "del auc_tst['auc_11_15']"
   ]
  },
  {
   "cell_type": "markdown",
   "metadata": {},
   "source": [
    "## <span style=\"color:green\"> **Recibio subasta entre 16 hs y 20 hs (Tarde)** </span> "
   ]
  },
  {
   "cell_type": "markdown",
   "metadata": {},
   "source": [
    "#### <span style=\"color:Orange\"> **One-hot Encoding** </span> "
   ]
  },
  {
   "cell_type": "code",
   "execution_count": 20,
   "metadata": {},
   "outputs": [],
   "source": [
    "auc_trn['auc_16_20'] = ( pd.to_datetime( auc_trn['date'] ).dt.hour < 21) & ( pd.to_datetime( auc_trn['date'] ).dt.hour > 15)\n",
    "auc_tst['auc_16_20'] = ( pd.to_datetime( auc_tst['date'] ).dt.hour < 21) & ( pd.to_datetime( auc_tst['date'] ).dt.hour > 15)\n",
    "\n",
    "auc_after_trn = rh_trn.copy()\n",
    "auc_after_tst = rh_tst.copy()\n",
    "\n",
    "hour_mode_trn = auc_trn.groupby('device_id').agg({'auc_16_20':'sum'}).reset_index().rename( columns = {\"device_id\":\"ref_hash\"} )\n",
    "hour_mode_tst = auc_tst.groupby('device_id').agg({'auc_16_20':'sum'}).reset_index().rename( columns = {\"device_id\":\"ref_hash\"} )\n",
    "\n",
    "auc_after_trn = auc_after_trn.merge( hour_mode_trn, how = \"left\", on = \"ref_hash\" )\n",
    "auc_after_tst = auc_after_tst.merge( hour_mode_tst, how = \"left\", on = \"ref_hash\" )\n",
    "\n",
    "auc_after_trn[\"auc_16_20\"] =  (auc_after_trn[\"auc_16_20\"] > 1).astype('int8')\n",
    "auc_after_tst[\"auc_16_20\"] =  (auc_after_tst[\"auc_16_20\"] > 1).astype('int8')\n",
    "\n",
    "auc_after_trn.to_csv( loc_ftr + \"\\\\auc_aftr_trn.csv\", index = False )\n",
    "auc_after_tst.to_csv( loc_ftr + \"\\\\auc_aftr_tst.csv\", index = False )\n",
    "\n",
    "del auc_trn['auc_16_20']\n",
    "del auc_tst['auc_16_20']"
   ]
  },
  {
   "cell_type": "markdown",
   "metadata": {},
   "source": [
    "## <span style=\"color:green\"> **Dia de la semana realizacion de la primera subasta** </span> "
   ]
  },
  {
   "cell_type": "code",
   "execution_count": 10,
   "metadata": {},
   "outputs": [],
   "source": [
    "sdia_auc_trn = rh_trn.copy()\n",
    "sdia_auc_tst = rh_tst.copy()\n",
    "\n",
    "first_auc_wday_trn = auc_trn[ [\"device_id\",\"date\"] ].sort_values( \"date\" ).drop_duplicates( subset = \"device_id\", keep = \"first\" ).rename( columns = {\"device_id\":\"ref_hash\"} )\n",
    "first_auc_wday_tst = auc_tst[ [\"device_id\",\"date\"] ].sort_values( \"date\" ).drop_duplicates( subset = \"device_id\", keep = \"first\" ).rename( columns = {\"device_id\":\"ref_hash\"} )\n",
    "\n",
    "first_auc_wday_trn[\"time_to_frt_auc\"] = ( pd.to_datetime( first_auc_wday_trn[\"date\"] ) -  dt.datetime( year = 2019, month = 4, day = 18 ) ).dt.total_seconds()\n",
    "first_auc_wday_tst[\"time_to_frt_auc\"] = ( pd.to_datetime( first_auc_wday_tst[\"date\"] ) -  dt.datetime( year = 2019, month = 4, day = 21 ) ).dt.total_seconds()\n",
    "\n",
    "first_auc_wday_trn[\"wday_frt_auc\"] = pd.to_datetime( first_auc_wday_trn[\"date\"] ).dt.weekday\n",
    "first_auc_wday_tst[\"wday_frt_auc\"] = pd.to_datetime( first_auc_wday_tst[\"date\"] ).dt.weekday\n",
    "\n",
    "first_auc_wday_trn.drop( [\"date\", \"time_to_frt_auc\"], axis = 1, inplace = True )\n",
    "first_auc_wday_tst.drop( [\"date\", \"time_to_frt_auc\"], axis = 1, inplace = True )\n",
    "\n",
    "sdia_auc_trn = sdia_auc_trn.merge( first_auc_wday_trn, how = \"left\", on = \"ref_hash\" )\n",
    "sdia_auc_tst = sdia_auc_tst.merge( first_auc_wday_tst, how = \"left\", on = \"ref_hash\" )\n",
    "\n",
    "sdia_auc_trn[\"wday_frt_auc\"] = sdia_auc_trn[\"wday_frt_auc\"].apply( lambda x: np.sin( (x*np.pi)/6 ) )\n",
    "sdia_auc_tst[\"wday_frt_auc\"] = sdia_auc_tst[\"wday_frt_auc\"].apply( lambda x: np.sin( (x*np.pi)/6 ) )\n",
    "\n",
    "sdia_auc_trn.to_csv( loc_ftr + \"\\\\sdia_auc_trn.csv\", index = False )\n",
    "sdia_auc_tst.to_csv( loc_ftr + \"\\\\sdia_auc_tst.csv\", index = False )"
   ]
  },
  {
   "cell_type": "markdown",
   "metadata": {},
   "source": [
    "## <span style=\"color:green\"> **Cantidad de auctions entre 3 hs y 21 hs (Noche)** </span>"
   ]
  },
  {
   "cell_type": "code",
   "execution_count": 8,
   "metadata": {},
   "outputs": [],
   "source": [
    "auc_trn['date'] = pd.to_datetime(auc_trn['date'])\n",
    "auc_tst['date'] = pd.to_datetime(auc_tst['date'])\n",
    "\n",
    "auc_trn['auc_21_3'] = (auc_trn['date'].dt.hour < 4) | (auc_trn['date'].dt.hour > 20)\n",
    "auc_tst['auc_21_3'] = (auc_tst['date'].dt.hour < 4) | (auc_tst['date'].dt.hour > 20)\n",
    "\n",
    "auc_night_trn = rh_trn.copy()\n",
    "auc_night_tst = rh_tst.copy()\n",
    "\n",
    "hour_mode_trn = auc_trn.rename( columns = {\"device_id\":\"ref_hash\"} ).groupby('ref_hash').agg({'auc_21_3':'sum'}).reset_index()\n",
    "hour_mode_tst = auc_tst.rename( columns = {\"device_id\":\"ref_hash\"} ).groupby('ref_hash').agg({'auc_21_3':'sum'}).reset_index()\n",
    "\n",
    "auc_night_trn = auc_night_trn.merge( hour_mode_trn, how = \"left\", on = \"ref_hash\" )\n",
    "auc_night_tst = auc_night_tst.merge( hour_mode_tst, how = \"left\", on = \"ref_hash\" )\n",
    "\n",
    "auc_night_trn.fillna( 0.0 , inplace = True )\n",
    "auc_night_tst.fillna( 0.0 , inplace = True )\n",
    "\n",
    "auc_night_trn.to_csv( loc_ftr + \"\\\\cauc_nig_trn.csv\", index = False )\n",
    "auc_night_tst.to_csv( loc_ftr + \"\\\\cauc_nig_tst.csv\", index = False )\n",
    "\n",
    "del auc_trn['auc_21_3']\n",
    "del auc_tst['auc_21_3']"
   ]
  },
  {
   "cell_type": "markdown",
   "metadata": {},
   "source": [
    "## <span style=\"color:green\"> **Cantidad de auctions entre 4 hs y 10 hs (Mañana)** </span>"
   ]
  },
  {
   "cell_type": "code",
   "execution_count": 9,
   "metadata": {},
   "outputs": [],
   "source": [
    "auc_trn['date'] = pd.to_datetime(auc_trn['date'])\n",
    "auc_tst['date'] = pd.to_datetime(auc_tst['date'])\n",
    "\n",
    "auc_trn['auc_4_10'] = (auc_trn['date'].dt.hour < 11) & (auc_trn['date'].dt.hour > 3)\n",
    "auc_tst['auc_4_10'] = (auc_tst['date'].dt.hour < 11) & (auc_tst['date'].dt.hour > 3)\n",
    "\n",
    "auc_morn_trn = rh_trn.copy()\n",
    "auc_morn_tst = rh_tst.copy()\n",
    "\n",
    "hour_mode_trn = auc_trn.rename( columns = {\"device_id\":\"ref_hash\"} ).groupby('ref_hash').agg({'auc_4_10':'sum'}).reset_index()\n",
    "hour_mode_tst = auc_tst.rename( columns = {\"device_id\":\"ref_hash\"} ).groupby('ref_hash').agg({'auc_4_10':'sum'}).reset_index()\n",
    "\n",
    "auc_morn_trn = auc_morn_trn.merge( hour_mode_trn, how = \"left\", on = \"ref_hash\" )\n",
    "auc_morn_tst = auc_morn_tst.merge( hour_mode_tst, how = \"left\", on = \"ref_hash\" )\n",
    "\n",
    "auc_morn_trn.fillna( 0.0 , inplace = True )\n",
    "auc_morn_tst.fillna( 0.0 , inplace = True )\n",
    "\n",
    "auc_morn_trn.to_csv( loc_ftr + \"\\\\cauc_mor_trn.csv\", index = False )\n",
    "auc_morn_tst.to_csv( loc_ftr + \"\\\\cauc_mor_tst.csv\", index = False )\n",
    "\n",
    "del auc_trn['auc_4_10']\n",
    "del auc_tst['auc_4_10']"
   ]
  },
  {
   "cell_type": "markdown",
   "metadata": {},
   "source": [
    "## <span style=\"color:green\"> **Cantidad de auctions entre 11 hs y 15 hs (Mediodia)** </span>"
   ]
  },
  {
   "cell_type": "code",
   "execution_count": 10,
   "metadata": {},
   "outputs": [],
   "source": [
    "auc_trn['date'] = pd.to_datetime(auc_trn['date'])\n",
    "auc_tst['date'] = pd.to_datetime(auc_tst['date'])\n",
    "\n",
    "auc_trn['auc_11_15'] = (auc_trn['date'].dt.hour < 16) & (auc_trn['date'].dt.hour > 10)\n",
    "auc_tst['auc_11_15'] = (auc_tst['date'].dt.hour < 16) & (auc_tst['date'].dt.hour > 10)\n",
    "\n",
    "auc_midday_trn = rh_trn.copy()\n",
    "auc_midday_tst = rh_tst.copy()\n",
    "\n",
    "hour_mode_trn = auc_trn.rename( columns = {\"device_id\":\"ref_hash\"} ).groupby('ref_hash').agg({'auc_11_15':'sum'}).reset_index()\n",
    "hour_mode_tst = auc_tst.rename( columns = {\"device_id\":\"ref_hash\"} ).groupby('ref_hash').agg({'auc_11_15':'sum'}).reset_index()\n",
    "\n",
    "auc_midday_trn = auc_midday_trn.merge( hour_mode_trn, how = \"left\", on = \"ref_hash\" )\n",
    "auc_midday_tst = auc_midday_tst.merge( hour_mode_tst, how = \"left\", on = \"ref_hash\" )\n",
    "\n",
    "auc_midday_trn.fillna( 0.0 , inplace = True )\n",
    "auc_midday_tst.fillna( 0.0 , inplace = True )\n",
    "\n",
    "auc_midday_trn.to_csv( loc_ftr + \"\\\\cauc_mid_trn.csv\", index = False )\n",
    "auc_midday_tst.to_csv( loc_ftr + \"\\\\cauc_mid_tst.csv\", index = False )\n",
    "\n",
    "del auc_trn['auc_11_15']\n",
    "del auc_tst['auc_11_15']"
   ]
  },
  {
   "cell_type": "markdown",
   "metadata": {},
   "source": [
    "## <span style=\"color:green\"> **Cantidad de auctions entre 16 hs y 20 hs (Tarde)** </span>"
   ]
  },
  {
   "cell_type": "code",
   "execution_count": 12,
   "metadata": {},
   "outputs": [],
   "source": [
    "auc_trn['date'] = pd.to_datetime(auc_trn['date'])\n",
    "auc_tst['date'] = pd.to_datetime(auc_tst['date'])\n",
    "\n",
    "auc_trn['auc_16_20'] = (auc_trn['date'].dt.hour < 21) & (auc_trn['date'].dt.hour > 15)\n",
    "auc_tst['auc_16_20'] = (auc_tst['date'].dt.hour < 21) & (auc_tst['date'].dt.hour > 15)\n",
    "\n",
    "auc_after_trn = rh_trn.copy()\n",
    "auc_after_tst = rh_tst.copy()\n",
    "\n",
    "hour_mode_trn = auc_trn.rename( columns = {\"device_id\":\"ref_hash\"} ).groupby('ref_hash').agg({'auc_16_20':'sum'}).reset_index()\n",
    "hour_mode_tst = auc_tst.rename( columns = {\"device_id\":\"ref_hash\"} ).groupby('ref_hash').agg({'auc_16_20':'sum'}).reset_index()\n",
    "\n",
    "auc_after_trn = auc_after_trn.merge( hour_mode_trn, how = \"left\", on = \"ref_hash\" )\n",
    "auc_after_tst = auc_after_tst.merge( hour_mode_tst, how = \"left\", on = \"ref_hash\" )\n",
    "\n",
    "auc_after_trn.fillna( 0.0 , inplace = True )\n",
    "auc_after_tst.fillna( 0.0 , inplace = True )\n",
    "\n",
    "auc_after_trn.to_csv( loc_ftr + \"\\\\cauc_aft_trn.csv\", index = False )\n",
    "auc_after_tst.to_csv( loc_ftr + \"\\\\cauc_aft_tst.csv\", index = False )\n",
    "\n",
    "del auc_trn['auc_16_20']\n",
    "del auc_tst['auc_16_20']"
   ]
  }
 ],
 "metadata": {
  "kernelspec": {
   "display_name": "Python 3",
   "language": "python",
   "name": "python3"
  },
  "language_info": {
   "codemirror_mode": {
    "name": "ipython",
    "version": 3
   },
   "file_extension": ".py",
   "mimetype": "text/x-python",
   "name": "python",
   "nbconvert_exporter": "python",
   "pygments_lexer": "ipython3",
   "version": "3.7.0"
  }
 },
 "nbformat": 4,
 "nbformat_minor": 2
}
