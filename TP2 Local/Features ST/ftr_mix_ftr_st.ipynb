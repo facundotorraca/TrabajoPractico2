{
 "cells": [
  {
   "cell_type": "code",
   "execution_count": 1,
   "metadata": {},
   "outputs": [],
   "source": [
    "import pandas as pd\n",
    "import numpy as np\n",
    "import datetime as dt\n",
    "import warnings as wn\n",
    "import sklearn.preprocessing as skpre\n",
    "import category_encoders as ce\n",
    "\n",
    "wn.simplefilter( \"ignore\" )"
   ]
  },
  {
   "cell_type": "code",
   "execution_count": 2,
   "metadata": {},
   "outputs": [],
   "source": [
    "loc_ftr = r\"D:\\TP2_ML\\FeaturesLocal\\FeaturesST\""
   ]
  },
  {
   "cell_type": "code",
   "execution_count": 3,
   "metadata": {},
   "outputs": [
    {
     "data": {
      "text/html": [
       "<div>\n",
       "<style scoped>\n",
       "    .dataframe tbody tr th:only-of-type {\n",
       "        vertical-align: middle;\n",
       "    }\n",
       "\n",
       "    .dataframe tbody tr th {\n",
       "        vertical-align: top;\n",
       "    }\n",
       "\n",
       "    .dataframe thead th {\n",
       "        text-align: right;\n",
       "    }\n",
       "</style>\n",
       "<table border=\"1\" class=\"dataframe\">\n",
       "  <thead>\n",
       "    <tr style=\"text-align: right;\">\n",
       "      <th></th>\n",
       "      <th>ref_hash</th>\n",
       "      <th>cant_auc</th>\n",
       "    </tr>\n",
       "  </thead>\n",
       "  <tbody>\n",
       "    <tr>\n",
       "      <th>0</th>\n",
       "      <td>40621409780134</td>\n",
       "      <td>1</td>\n",
       "    </tr>\n",
       "    <tr>\n",
       "      <th>1</th>\n",
       "      <td>168103949904656</td>\n",
       "      <td>1</td>\n",
       "    </tr>\n",
       "  </tbody>\n",
       "</table>\n",
       "</div>"
      ],
      "text/plain": [
       "          ref_hash  cant_auc\n",
       "0   40621409780134         1\n",
       "1  168103949904656         1"
      ]
     },
     "execution_count": 3,
     "metadata": {},
     "output_type": "execute_result"
    }
   ],
   "source": [
    "cant_auc_trn = pd.read_csv(loc_ftr + \"\\\\cant_auc_trn.csv\")\n",
    "cant_auc_tst = pd.read_csv(loc_ftr + \"\\\\cant_auc_tst.csv\")\n",
    "\n",
    "cant_clk_trn = pd.read_csv(loc_ftr + \"\\\\cant_clk_trn.csv\")\n",
    "cant_clk_tst = pd.read_csv(loc_ftr + \"\\\\cant_clk_tst.csv\")\n",
    "\n",
    "cant_ins_trn = pd.read_csv(loc_ftr + \"\\\\cant_ins_trn.csv\")\n",
    "cant_ins_tst = pd.read_csv(loc_ftr + \"\\\\cant_ins_tst.csv\")\n",
    "\n",
    "cant_evt_trn = pd.read_csv(loc_ftr + \"\\\\cant_evt_trn.csv\")\n",
    "cant_evt_tst = pd.read_csv(loc_ftr + \"\\\\cant_evt_tst.csv\")\n",
    "\n",
    "cant_auc_trn.head(2)"
   ]
  },
  {
   "cell_type": "markdown",
   "metadata": {},
   "source": [
    "## <span style=\"color:yellow\"> **=======================================================================================================** </span> "
   ]
  },
  {
   "cell_type": "markdown",
   "metadata": {},
   "source": [
    "## <span style=\"color:green\"> **Cantidad de Clicks dividido la cantidad de subastas** </span>"
   ]
  },
  {
   "cell_type": "code",
   "execution_count": 23,
   "metadata": {},
   "outputs": [],
   "source": [
    "#Sumo 1 a la cantidad de subastas para evitar dividir por 0\n",
    "clk_auc_trn = cant_clk_trn.copy()\n",
    "clk_auc_tst = cant_clk_tst.copy()\n",
    "\n",
    "clk_auc_trn.columns = ['ref_hash','clk/auc']\n",
    "clk_auc_tst.columns = ['ref_hash','clk/auc']\n",
    "\n",
    "clk_auc_trn['clk/auc'] = clk_auc_trn['clk/auc'] / (cant_auc_trn['cant_auc'] + 1)\n",
    "clk_auc_tst['clk/auc'] = clk_auc_tst['clk/auc'] / (cant_auc_tst['cant_auc'] + 1)\n",
    "\n",
    "clk_auc_trn.to_csv( loc_ftr + \"\\\\dv_cl_au_trn.csv\", index = False )\n",
    "clk_auc_tst.to_csv( loc_ftr + \"\\\\dv_cl_au_tst.csv\", index = False )"
   ]
  },
  {
   "cell_type": "markdown",
   "metadata": {},
   "source": [
    "## <span style=\"color:green\"> **Cantidad de instalaciones dividido la cantidad de subastas** </span>"
   ]
  },
  {
   "cell_type": "code",
   "execution_count": 24,
   "metadata": {},
   "outputs": [],
   "source": [
    "#Sumo 1 a la cantidad de subastas para evitar dividir por 0\n",
    "ins_auc_trn = cant_ins_trn.copy()\n",
    "ins_auc_tst = cant_ins_tst.copy()\n",
    "\n",
    "ins_auc_trn.columns = ['ref_hash','ins/auc']\n",
    "ins_auc_tst.columns = ['ref_hash','ins/auc']\n",
    "\n",
    "ins_auc_trn['ins/auc'] = ins_auc_trn['ins/auc'] / (cant_auc_trn['cant_auc'] + 1)\n",
    "ins_auc_tst['ins/auc'] = ins_auc_tst['ins/auc'] / (cant_auc_tst['cant_auc'] + 1)\n",
    "\n",
    "ins_auc_trn.to_csv( loc_ftr + \"\\\\dv_in_au_trn.csv\", index = False )\n",
    "ins_auc_tst.to_csv( loc_ftr + \"\\\\dv_in_au_tst.csv\", index = False )"
   ]
  },
  {
   "cell_type": "markdown",
   "metadata": {},
   "source": [
    "## <span style=\"color:green\"> **Cantidad de eventos dividido la cantidad de subastas** </span>"
   ]
  },
  {
   "cell_type": "code",
   "execution_count": 25,
   "metadata": {},
   "outputs": [],
   "source": [
    "#Sumo 1 a la cantidad de subastas para evitar dividir por 0\n",
    "evt_auc_trn = cant_evt_trn.copy()\n",
    "evt_auc_tst = cant_evt_tst.copy()\n",
    "\n",
    "evt_auc_trn.columns = ['ref_hash','evt/auc']\n",
    "evt_auc_tst.columns = ['ref_hash','evt/auc']\n",
    "\n",
    "evt_auc_trn['evt/auc'] = evt_auc_trn['evt/auc'] / (cant_auc_trn['cant_auc'] + 1)\n",
    "evt_auc_tst['evt/auc'] = evt_auc_tst['evt/auc'] / (cant_auc_tst['cant_auc'] + 1)\n",
    "\n",
    "evt_auc_trn.to_csv( loc_ftr + \"\\\\dv_ev_au_trn.csv\", index = False )\n",
    "evt_auc_tst.to_csv( loc_ftr + \"\\\\dv_ev_au_tst.csv\", index = False )"
   ]
  },
  {
   "cell_type": "markdown",
   "metadata": {},
   "source": [
    "## <span style=\"color:green\"> **Cantidad de sucesos del dispositivo** </span>"
   ]
  },
  {
   "cell_type": "code",
   "execution_count": 26,
   "metadata": {},
   "outputs": [],
   "source": [
    "#Da una idea de la actividad total del dispositivo\n",
    "sum_trn = cant_clk_trn.copy()\n",
    "sum_tst = cant_clk_tst.copy()\n",
    "\n",
    "sum_trn.columns = ['ref_hash','sum_cl_ev_in_au']\n",
    "sum_tst.columns = ['ref_hash','sum_cl_ev_in_au']\n",
    "\n",
    "sum_trn['clk/auc'] = sum_trn['sum_cl_ev_in_au'] + cant_evt_trn['cant_evt'] + cant_ins_trn['cant_ins'] + cant_auc_trn['cant_auc']\n",
    "sum_tst['clk/auc'] = sum_tst['sum_cl_ev_in_au'] + cant_evt_tst['cant_evt'] + cant_ins_tst['cant_ins'] + cant_auc_tst['cant_auc']\n",
    "\n",
    "sum_trn.to_csv( loc_ftr + \"\\\\sum_ceia_trn.csv\", index = False )\n",
    "sum_tst.to_csv( loc_ftr + \"\\\\sum_ceia_tst.csv\", index = False )"
   ]
  },
  {
   "cell_type": "markdown",
   "metadata": {},
   "source": [
    "# <span style=\"color:black\"> **Importo eventos para proximos features** </span>"
   ]
  },
  {
   "cell_type": "markdown",
   "metadata": {},
   "source": [
    "## <span style=\"color:yellow\"> **Preparamos los Sets de Training** </span> "
   ]
  },
  {
   "cell_type": "code",
   "execution_count": 4,
   "metadata": {},
   "outputs": [],
   "source": [
    "loc_ts = r\"D:\\TP2_ML\\Training Sets\""
   ]
  },
  {
   "cell_type": "code",
   "execution_count": 5,
   "metadata": {},
   "outputs": [],
   "source": [
    "evt_trn = pd.read_csv( loc_ts + \"\\\\evt_18_20.csv\" ); \n",
    "evt_tst = pd.read_csv( loc_ts + \"\\\\evt_21_23.csv\" );  "
   ]
  },
  {
   "cell_type": "markdown",
   "metadata": {},
   "source": [
    "## <span style=\"color:yellow\"> **Preparamos el ref_hash de cada ventana** </span> "
   ]
  },
  {
   "cell_type": "code",
   "execution_count": 6,
   "metadata": {},
   "outputs": [],
   "source": [
    "loc_lb = r\"D:\\TP2_ML\\Labels\""
   ]
  },
  {
   "cell_type": "code",
   "execution_count": 7,
   "metadata": {},
   "outputs": [],
   "source": [
    "lb_auc_trn = pd.read_csv( loc_lb + \"\\\\label_auc_21_23.csv\" );\n",
    "lb_auc_tst = pd.read_csv( loc_lb + \"\\\\target.csv\" ); "
   ]
  },
  {
   "cell_type": "code",
   "execution_count": 8,
   "metadata": {},
   "outputs": [],
   "source": [
    "rh_trn = lb_auc_trn[ [\"ref_hash\"] ]\n",
    "rh_tst = lb_auc_tst[ [\"ref_hash\"] ]\n",
    "\n",
    "tg_trn = lb_auc_trn[ [\"21_23_st\"] ]"
   ]
  },
  {
   "cell_type": "code",
   "execution_count": 9,
   "metadata": {},
   "outputs": [],
   "source": [
    "evt_trn['date'] = pd.to_datetime(evt_trn['date'])\n",
    "evt_tst['date'] = pd.to_datetime(evt_tst['date'])\n"
   ]
  },
  {
   "cell_type": "markdown",
   "metadata": {},
   "source": [
    "## <span style=\"color:black\"> **Mas features usando datos de eventos** </span>"
   ]
  },
  {
   "cell_type": "markdown",
   "metadata": {},
   "source": [
    "## <span style=\"color:green\"> **Cantidad de eventos antes de la primer subasta en la ventana** </span>"
   ]
  },
  {
   "cell_type": "code",
   "execution_count": 36,
   "metadata": {},
   "outputs": [],
   "source": [
    "frst_auc_trn = pd.read_csv( loc_ftr + \"\\\\frst_auc_trn.csv\")\n",
    "frst_auc_tst = pd.read_csv( loc_ftr + \"\\\\frst_auc_tst.csv\")\n",
    "\n",
    "evt_loc_trn=evt_trn.loc[:,['ref_hash','date']]\n",
    "evt_loc_tst=evt_trn.loc[:,['ref_hash','date']]\n",
    "\n",
    "evt_loc_trn[\"time_to_frt_evt\"] = ( pd.to_datetime( evt_loc_trn[\"date\"] ) -  dt.datetime( year = 2019, month = 4, day = 18 ) ).dt.total_seconds()\n",
    "evt_loc_tst[\"time_to_frt_evt\"] = ( pd.to_datetime( evt_loc_tst[\"date\"] ) -  dt.datetime( year = 2019, month = 4, day = 21 ) ).dt.total_seconds()\n",
    "\n",
    "evt_loc_trn = evt_loc_trn.merge(frst_auc_trn, on = 'ref_hash', how = 'left')\n",
    "evt_loc_tst = evt_loc_tst.merge(frst_auc_tst, on = 'ref_hash', how = 'left')\n",
    "\n",
    "evt_loc_trn = evt_loc_trn.fillna(0)\n",
    "evt_loc_tst = evt_loc_tst.fillna(0)\n",
    "\n",
    "evt_loc_trn['cant_ev_before_auc'] = evt_loc_trn['time_to_frt_evt'] < evt_loc_trn['time_to_frt_auc']\n",
    "evt_loc_tst['cant_ev_before_auc'] = evt_loc_tst['time_to_frt_evt'] < evt_loc_trn['time_to_frt_auc']\n",
    "\n",
    "evt_loc_trn = evt_loc_trn.loc[evt_loc_trn['cant_ev_before_auc'] == True]\n",
    "evt_loc_tst = evt_loc_tst.loc[evt_loc_tst['cant_ev_before_auc'] == True]\n",
    "\n",
    "evt_loc_trn = evt_loc_trn.drop(['date','time_to_frt_evt','time_to_frt_auc'],axis=1)\n",
    "evt_loc_tst = evt_loc_tst.drop(['date','time_to_frt_evt','time_to_frt_auc'],axis=1)\n",
    "\n",
    "evt_loc_trn = evt_loc_trn.groupby('ref_hash').agg({'cant_ev_before_auc':'count'}).reset_index()\n",
    "evt_loc_tst = evt_loc_tst.groupby('ref_hash').agg({'cant_ev_before_auc':'count'}).reset_index()\n",
    "\n",
    "evt_bef_auc_trn = frst_auc_trn.merge(evt_loc_trn, on='ref_hash', how='left') \n",
    "evt_bef_auc_tst = frst_auc_tst.merge(evt_loc_tst, on='ref_hash', how='left') \n",
    "\n",
    "evt_bef_auc_trn = evt_bef_auc_trn.drop(['time_to_frt_auc'],axis=1)\n",
    "evt_bef_auc_tst = evt_bef_auc_tst.drop(['time_to_frt_auc'],axis=1)\n",
    "\n",
    "#Reemplazo los NANS con 0 (Son bastantes, no se si esta bien esto porque no es seguro que haya participado en al menos una subasta)\n",
    "evt_bef_auc_trn = evt_bef_auc_trn.fillna(0)\n",
    "evt_bef_auc_tst = evt_bef_auc_tst.fillna(0)\n",
    "\n",
    "evt_bef_auc_trn.to_csv( loc_ftr + \"\\\\ev_be_au_trn.csv\", index = False )\n",
    "evt_bef_auc_tst.to_csv( loc_ftr + \"\\\\ev_be_au_tst.csv\", index = False )"
   ]
  },
  {
   "cell_type": "code",
   "execution_count": 21,
   "metadata": {},
   "outputs": [
    {
     "data": {
      "text/plain": [
       "326945"
      ]
     },
     "execution_count": 21,
     "metadata": {},
     "output_type": "execute_result"
    }
   ],
   "source": [
    "#len(frst_auc_trn.loc[frst_auc_trn['time_to_frt_auc'] < 259200])\n"
   ]
  },
  {
   "cell_type": "code",
   "execution_count": 27,
   "metadata": {},
   "outputs": [
    {
     "data": {
      "text/html": [
       "<div>\n",
       "<style scoped>\n",
       "    .dataframe tbody tr th:only-of-type {\n",
       "        vertical-align: middle;\n",
       "    }\n",
       "\n",
       "    .dataframe tbody tr th {\n",
       "        vertical-align: top;\n",
       "    }\n",
       "\n",
       "    .dataframe thead th {\n",
       "        text-align: right;\n",
       "    }\n",
       "</style>\n",
       "<table border=\"1\" class=\"dataframe\">\n",
       "  <thead>\n",
       "    <tr style=\"text-align: right;\">\n",
       "      <th></th>\n",
       "      <th>ref_hash</th>\n",
       "      <th>time_to_frt_auc</th>\n",
       "    </tr>\n",
       "  </thead>\n",
       "  <tbody>\n",
       "    <tr>\n",
       "      <th>0</th>\n",
       "      <td>40621409780134</td>\n",
       "      <td>226857.222979</td>\n",
       "    </tr>\n",
       "    <tr>\n",
       "      <th>1</th>\n",
       "      <td>168103949904656</td>\n",
       "      <td>173044.526198</td>\n",
       "    </tr>\n",
       "    <tr>\n",
       "      <th>2</th>\n",
       "      <td>186034136943920</td>\n",
       "      <td>88.851558</td>\n",
       "    </tr>\n",
       "    <tr>\n",
       "      <th>3</th>\n",
       "      <td>295841792051458</td>\n",
       "      <td>432.827168</td>\n",
       "    </tr>\n",
       "    <tr>\n",
       "      <th>4</th>\n",
       "      <td>345999128501141</td>\n",
       "      <td>164703.549846</td>\n",
       "    </tr>\n",
       "  </tbody>\n",
       "</table>\n",
       "</div>"
      ],
      "text/plain": [
       "          ref_hash  time_to_frt_auc\n",
       "0   40621409780134    226857.222979\n",
       "1  168103949904656    173044.526198\n",
       "2  186034136943920        88.851558\n",
       "3  295841792051458       432.827168\n",
       "4  345999128501141    164703.549846"
      ]
     },
     "execution_count": 27,
     "metadata": {},
     "output_type": "execute_result"
    }
   ],
   "source": [
    "#frst_auc_trn.head()"
   ]
  },
  {
   "cell_type": "markdown",
   "metadata": {},
   "source": [
    "## <span style=\"color:green\"> **Diferencia de tiempo entre primer subasta y proximo evento** </span>"
   ]
  },
  {
   "cell_type": "code",
   "execution_count": 13,
   "metadata": {},
   "outputs": [],
   "source": [
    "frst_auc_trn = pd.read_csv( loc_ftr + \"\\\\frst_auc_trn.csv\")\n",
    "frst_auc_tst = pd.read_csv( loc_ftr + \"\\\\frst_auc_tst.csv\")\n",
    "\n",
    "evt_loc_trn=evt_trn.loc[:,['ref_hash','date']]\n",
    "evt_loc_tst=evt_trn.loc[:,['ref_hash','date']]\n",
    "\n",
    "evt_loc_trn[\"time_to_frt_evt\"] = ( pd.to_datetime( evt_loc_trn[\"date\"] ) -  dt.datetime( year = 2019, month = 4, day = 18 ) ).dt.total_seconds()\n",
    "evt_loc_tst[\"time_to_frt_evt\"] = ( pd.to_datetime( evt_loc_tst[\"date\"] ) -  dt.datetime( year = 2019, month = 4, day = 21 ).dt.total_seconds()\n",
    "\n",
    "evt_loc_trn = evt_loc_trn.merge(frst_auc_trn, on = 'ref_hash', how = 'left')\n",
    "evt_loc_tst = evt_loc_tst.merge(frst_auc_tst, on = 'ref_hash', how = 'left')\n",
    "\n",
    "evt_loc_trn = evt_loc_trn.fillna(259200.0)\n",
    "evt_loc_tst = evt_loc_tst.fillna(259200.0)\n",
    "\n",
    "evt_loc_trn['time_f_ev_aftr_auc'] = evt_loc_trn['time_to_frt_evt'] > evt_loc_trn['time_to_frt_auc']\n",
    "evt_loc_tst['time_f_ev_aftr_auc'] = evt_loc_tst['time_to_frt_evt'] > evt_loc_trn['time_to_frt_auc']\n",
    "\n",
    "evt_loc_trn = evt_loc_trn.loc[evt_loc_trn['time_f_ev_aftr_auc'] == True]\n",
    "evt_loc_tst = evt_loc_tst.loc[evt_loc_tst['time_f_ev_aftr_auc'] == True]\n",
    "\n",
    "evt_loc_trn['time_f_ev_aftr_auc'] = evt_loc_trn['time_to_frt_evt'] - evt_loc_trn['time_to_frt_auc']\n",
    "evt_loc_tst['time_f_ev_aftr_auc'] = evt_loc_tst['time_to_frt_evt'] - evt_loc_trn['time_to_frt_auc']\n",
    "\n",
    "evt_loc_trn = evt_loc_trn.groupby('ref_hash').agg({'time_f_ev_aftr_auc':'min'}).reset_index()\n",
    "evt_loc_tst = evt_loc_tst.groupby('ref_hash').agg({'time_f_ev_aftr_auc':'min'}).reset_index()\n",
    "\n",
    "time_f_ev_aftr_auc_trn = frst_auc_trn.merge(evt_loc_trn, on='ref_hash', how='left') \n",
    "time_f_ev_aftr_auc_tst = frst_auc_tst.merge(evt_loc_tst, on='ref_hash', how='left') \n",
    "\n",
    "time_f_ev_aftr_auc_trn = time_f_ev_aftr_auc_trn.drop(['time_to_frt_auc'],axis=1)\n",
    "time_f_ev_aftr_auc_tst = time_f_ev_aftr_auc_tst.drop(['time_to_frt_auc'],axis=1)\n",
    "\n",
    "#Reemplazo los NANS con el tiempo maximo 259200 (Son bastantes, no se si esta bien esto porque no es seguro que haya participado en al menos una subasta)\n",
    "time_f_ev_aftr_auc_trn = time_f_ev_aftr_auc_trn.fillna(259200)\n",
    "time_f_ev_aftr_auc_tst = time_f_ev_aftr_auc_tst.fillna(259200)\n",
    "\n",
    "time_f_ev_aftr_auc_trn.to_csv( loc_ftr + \"\\\\tevaf_au_trn.csv\", index = False )\n",
    "time_f_ev_aftr_auc_tst.to_csv( loc_ftr + \"\\\\tevaf_au_tst.csv\", index = False )"
   ]
  },
  {
   "cell_type": "markdown",
   "metadata": {},
   "source": [
    "## <span style=\"color:green\"> **Primer tipo de evento despues de primer subasta** </span>\n",
    "\n",
    "#### <span style=\"color:orange\"> **Mean Encoding** </span>"
   ]
  },
  {
   "cell_type": "code",
   "execution_count": 16,
   "metadata": {},
   "outputs": [],
   "source": [
    "frst_auc_trn = pd.read_csv( loc_ftr + \"\\\\frst_auc_trn.csv\")\n",
    "frst_auc_tst = pd.read_csv( loc_ftr + \"\\\\frst_auc_tst.csv\")\n",
    "\n",
    "evt_loc_trn=evt_trn.loc[:,['ref_hash','date','kind']]\n",
    "evt_loc_tst=evt_trn.loc[:,['ref_hash','date','kind']]\n",
    "\n",
    "evt_loc_trn[\"time_to_frt_evt\"] = ( pd.to_datetime( evt_loc_trn[\"date\"] ) -  dt.datetime( year = 2019, month = 4, day = 18 ) ).dt.total_seconds()\n",
    "evt_loc_tst[\"time_to_frt_evt\"] = ( pd.to_datetime( evt_loc_tst[\"date\"] ) -  dt.datetime( year = 2019, month = 4, day = 21 ) ).dt.total_seconds()\n",
    "\n",
    "evt_loc_trn = evt_loc_trn.merge(frst_auc_trn, on = 'ref_hash', how = 'left')\n",
    "evt_loc_tst = evt_loc_tst.merge(frst_auc_tst, on = 'ref_hash', how = 'left')\n",
    "\n",
    "evt_loc_trn = evt_loc_trn.fillna(259200.0)\n",
    "evt_loc_tst = evt_loc_tst.fillna(259200.0)\n",
    "\n",
    "evt_loc_trn['time_f_ev_aftr_auc'] = evt_loc_trn['time_to_frt_evt'] > evt_loc_trn['time_to_frt_auc']\n",
    "evt_loc_tst['time_f_ev_aftr_auc'] = evt_loc_tst['time_to_frt_evt'] > evt_loc_trn['time_to_frt_auc']\n",
    "\n",
    "evt_loc_trn = evt_loc_trn.loc[evt_loc_trn['time_f_ev_aftr_auc'] == True]\n",
    "evt_loc_tst = evt_loc_tst.loc[evt_loc_tst['time_f_ev_aftr_auc'] == True]\n",
    "\n",
    "evt_loc_trn['time_f_ev_aftr_auc'] = evt_loc_trn.groupby('ref_hash')['time_to_frt_evt'].transform('min')\n",
    "evt_loc_tst['time_f_ev_aftr_auc'] = evt_loc_tst.groupby('ref_hash')['time_to_frt_evt'].transform('min')\n",
    "\n",
    "evt_loc_trn['kind'] = evt_loc_trn.groupby('kind')['ref_hash'].transform('count')\n",
    "evt_loc_tst['kind'] = evt_loc_tst.groupby('kind')['ref_hash'].transform('count')\n",
    "\n",
    "evt_loc_trn['time_f_ev_aftr_auc'] = (evt_loc_trn['time_f_ev_aftr_auc'] == evt_loc_trn['time_to_frt_evt'])\n",
    "evt_loc_tst['time_f_ev_aftr_auc'] = (evt_loc_tst['time_f_ev_aftr_auc'] == evt_loc_tst['time_to_frt_evt'])\n",
    "\n",
    "evt_loc_trn = evt_loc_trn.loc[evt_loc_trn['time_f_ev_aftr_auc'] == True]\n",
    "evt_loc_tst = evt_loc_tst.loc[evt_loc_tst['time_f_ev_aftr_auc'] == True]\n",
    "\n",
    "evt_loc_trn = evt_loc_trn.groupby('ref_hash').agg({'kind':'min'}).reset_index()\n",
    "evt_loc_tst = evt_loc_tst.groupby('ref_hash').agg({'kind':'min'}).reset_index()\n",
    "\n",
    "kind_f_ev_aftr_auc_trn = frst_auc_trn.merge(evt_loc_trn, on='ref_hash', how='left') \n",
    "kind_f_ev_aftr_auc_tst = frst_auc_tst.merge(evt_loc_tst, on='ref_hash', how='left') \n",
    "\n",
    "kind_f_ev_aftr_auc_trn = kind_f_ev_aftr_auc_trn.drop(['time_to_frt_auc'],axis=1)\n",
    "kind_f_ev_aftr_auc_tst = kind_f_ev_aftr_auc_tst.drop(['time_to_frt_auc'],axis=1)\n",
    "\n",
    "kind_f_ev_aftr_auc_trn['kind'] = ( kind_f_ev_aftr_auc_trn['kind'] / len(kind_f_ev_aftr_auc_trn) )\n",
    "kind_f_ev_aftr_auc_tst['kind'] = ( kind_f_ev_aftr_auc_tst['kind'] / len(kind_f_ev_aftr_auc_tst) )\n",
    "\n",
    "#Reemplazo los NANS\n",
    "kind_f_ev_aftr_auc_trn = kind_f_ev_aftr_auc_trn.fillna( ( kind_f_ev_aftr_auc_trn['kind'].isnull().sum() / len(kind_f_ev_aftr_auc_trn) ) )\n",
    "kind_f_ev_aftr_auc_tst = kind_f_ev_aftr_auc_tst.fillna( ( kind_f_ev_aftr_auc_tst['kind'].isnull().sum() / len(kind_f_ev_aftr_auc_tst) ) )\n",
    "\n",
    "kind_f_ev_aftr_auc_trn.to_csv( loc_ftr + \"\\\\kevaf_au_trn.csv\", index = False )\n",
    "kind_f_ev_aftr_auc_tst.to_csv( loc_ftr + \"\\\\kevaf_au_tst.csv\", index = False )"
   ]
  },
  {
   "cell_type": "markdown",
   "metadata": {},
   "source": [
    "## <span style=\"color:green\"> **Primer tipo de event id despues de primer subasta** </span>\n",
    "\n",
    "#### <span style=\"color:orange\"> **Mean Encoding** </span>"
   ]
  },
  {
   "cell_type": "code",
   "execution_count": 17,
   "metadata": {},
   "outputs": [],
   "source": [
    "frst_auc_trn = pd.read_csv( loc_ftr + \"\\\\frst_auc_trn.csv\")\n",
    "frst_auc_tst = pd.read_csv( loc_ftr + \"\\\\frst_auc_tst.csv\")\n",
    "\n",
    "evt_loc_trn=evt_trn.loc[:,['ref_hash','date','event_id']]\n",
    "evt_loc_tst=evt_trn.loc[:,['ref_hash','date','event_id']]\n",
    "\n",
    "evt_loc_trn[\"time_to_frt_evt\"] = ( pd.to_datetime( evt_loc_trn[\"date\"] ) -  dt.datetime( year = 2019, month = 4, day = 18 ) ).dt.total_seconds()\n",
    "evt_loc_tst[\"time_to_frt_evt\"] = ( pd.to_datetime( evt_loc_tst[\"date\"] ) -  dt.datetime( year = 2019, month = 4, day = 21 ) ).dt.total_seconds()\n",
    "\n",
    "evt_loc_trn = evt_loc_trn.merge(frst_auc_trn, on = 'ref_hash', how = 'left')\n",
    "evt_loc_tst = evt_loc_tst.merge(frst_auc_tst, on = 'ref_hash', how = 'left')\n",
    "\n",
    "evt_loc_trn = evt_loc_trn.fillna(259200.0)\n",
    "evt_loc_tst = evt_loc_tst.fillna(259200.0)\n",
    "\n",
    "evt_loc_trn['time_f_ev_aftr_auc'] = evt_loc_trn['time_to_frt_evt'] > evt_loc_trn['time_to_frt_auc']\n",
    "evt_loc_tst['time_f_ev_aftr_auc'] = evt_loc_tst['time_to_frt_evt'] > evt_loc_trn['time_to_frt_auc']\n",
    "\n",
    "evt_loc_trn = evt_loc_trn.loc[evt_loc_trn['time_f_ev_aftr_auc'] == True]\n",
    "evt_loc_tst = evt_loc_tst.loc[evt_loc_tst['time_f_ev_aftr_auc'] == True]\n",
    "\n",
    "evt_loc_trn['time_f_ev_aftr_auc'] = evt_loc_trn.groupby('ref_hash')['time_to_frt_evt'].transform('min')\n",
    "evt_loc_tst['time_f_ev_aftr_auc'] = evt_loc_tst.groupby('ref_hash')['time_to_frt_evt'].transform('min')\n",
    "\n",
    "evt_loc_trn['event_id'] = evt_loc_trn.groupby('event_id')['ref_hash'].transform('count')\n",
    "evt_loc_tst['event_id'] = evt_loc_tst.groupby('event_id')['ref_hash'].transform('count')\n",
    "\n",
    "evt_loc_trn['time_f_ev_aftr_auc'] = (evt_loc_trn['time_f_ev_aftr_auc'] == evt_loc_trn['time_to_frt_evt'])\n",
    "evt_loc_tst['time_f_ev_aftr_auc'] = (evt_loc_tst['time_f_ev_aftr_auc'] == evt_loc_tst['time_to_frt_evt'])\n",
    "\n",
    "evt_loc_trn = evt_loc_trn.loc[evt_loc_trn['time_f_ev_aftr_auc'] == True]\n",
    "evt_loc_tst = evt_loc_tst.loc[evt_loc_tst['time_f_ev_aftr_auc'] == True]\n",
    "\n",
    "evt_loc_trn = evt_loc_trn.groupby('ref_hash').agg({'event_id':'min'}).reset_index()\n",
    "evt_loc_tst = evt_loc_tst.groupby('ref_hash').agg({'event_id':'min'}).reset_index()\n",
    "\n",
    "evid_f_ev_aftr_auc_trn = frst_auc_trn.merge(evt_loc_trn, on='ref_hash', how='left') \n",
    "evid_f_ev_aftr_auc_tst = frst_auc_tst.merge(evt_loc_tst, on='ref_hash', how='left') \n",
    "\n",
    "evid_f_ev_aftr_auc_trn = evid_f_ev_aftr_auc_trn.drop(['time_to_frt_auc'],axis=1)\n",
    "evid_f_ev_aftr_auc_tst = evid_f_ev_aftr_auc_tst.drop(['time_to_frt_auc'],axis=1)\n",
    "\n",
    "evid_f_ev_aftr_auc_trn['event_id'] = ( evid_f_ev_aftr_auc_trn['event_id'] / len(evid_f_ev_aftr_auc_trn) )\n",
    "evid_f_ev_aftr_auc_tst['event_id'] = ( evid_f_ev_aftr_auc_tst['event_id'] / len(evid_f_ev_aftr_auc_tst) )\n",
    "\n",
    "#Reemplazo los NANS\n",
    "evid_f_ev_aftr_auc_trn = evid_f_ev_aftr_auc_trn.fillna( ( evid_f_ev_aftr_auc_trn['event_id'].isnull().sum() / len(evid_f_ev_aftr_auc_trn) ) )\n",
    "evid_f_ev_aftr_auc_tst = evid_f_ev_aftr_auc_tst.fillna( ( evid_f_ev_aftr_auc_tst['event_id'].isnull().sum() / len(evid_f_ev_aftr_auc_tst) ) )\n",
    "\n",
    "evid_f_ev_aftr_auc_trn.to_csv( loc_ftr + \"\\\\eviaf_au_trn.csv\", index = False )\n",
    "evid_f_ev_aftr_auc_tst.to_csv( loc_ftr + \"\\\\eviaf_au_tst.csv\", index = False )"
   ]
  },
  {
   "cell_type": "code",
   "execution_count": null,
   "metadata": {},
   "outputs": [],
   "source": []
  }
 ],
 "metadata": {
  "kernelspec": {
   "display_name": "Python 3",
   "language": "python",
   "name": "python3"
  },
  "language_info": {
   "codemirror_mode": {
    "name": "ipython",
    "version": 3
   },
   "file_extension": ".py",
   "mimetype": "text/x-python",
   "name": "python",
   "nbconvert_exporter": "python",
   "pygments_lexer": "ipython3",
   "version": "3.7.3"
  }
 },
 "nbformat": 4,
 "nbformat_minor": 2
}
