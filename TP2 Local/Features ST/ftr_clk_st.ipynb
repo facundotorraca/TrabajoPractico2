{
 "cells": [
  {
   "cell_type": "code",
   "execution_count": 1,
   "metadata": {},
   "outputs": [],
   "source": [
    "import pandas as pd\n",
    "import numpy as np\n",
    "import datetime as dt\n",
    "import warnings as wn\n",
    "import sklearn.preprocessing as skpre\n",
    "import category_encoders as ce\n",
    "\n",
    "wn.simplefilter( \"ignore\" )"
   ]
  },
  {
   "cell_type": "code",
   "execution_count": 2,
   "metadata": {},
   "outputs": [],
   "source": [
    "loc_ftr = r\"D:\\FacundoTorraca\\Documents\\TP2_ML\\FeaturesLocal\\FeaturesST\""
   ]
  },
  {
   "cell_type": "markdown",
   "metadata": {},
   "source": [
    "## <span style=\"color:yellow\"> **Preparamos los Sets de Training** </span> "
   ]
  },
  {
   "cell_type": "code",
   "execution_count": 3,
   "metadata": {},
   "outputs": [],
   "source": [
    "loc_ts = r\"D:\\FacundoTorraca\\Documents\\TP2_ML\\Training Sets\""
   ]
  },
  {
   "cell_type": "code",
   "execution_count": 4,
   "metadata": {},
   "outputs": [],
   "source": [
    "clk_trn = pd.read_csv( loc_ts + \"\\\\clk_18_20.csv\" ); \n",
    "clk_tst = pd.read_csv( loc_ts + \"\\\\clk_21_23.csv\" );"
   ]
  },
  {
   "cell_type": "markdown",
   "metadata": {},
   "source": [
    "## <span style=\"color:yellow\"> **Preparamos el ref_hash de cada ventana** </span> "
   ]
  },
  {
   "cell_type": "code",
   "execution_count": 8,
   "metadata": {},
   "outputs": [],
   "source": [
    "loc_lb = r\"D:\\FacundoTorraca\\Documents\\TP2_ML\\Labels\""
   ]
  },
  {
   "cell_type": "code",
   "execution_count": 9,
   "metadata": {},
   "outputs": [],
   "source": [
    "lb_auc_trn = pd.read_csv( loc_lb + \"\\\\label_auc_21_23.csv\" );\n",
    "lb_auc_tst = pd.read_csv( loc_lb + \"\\\\label_auc_24_26.csv\" ); "
   ]
  },
  {
   "cell_type": "code",
   "execution_count": 10,
   "metadata": {},
   "outputs": [],
   "source": [
    "rh_trn = lb_auc_trn[ [\"ref_hash\"] ]\n",
    "rh_tst = lb_auc_tst[ [\"ref_hash\"] ]\n",
    "\n",
    "tg_trn = lb_auc_trn[ [\"21_23_st\"] ]\n",
    "tg_tst = lb_auc_tst[ [\"24_26_st\"] ]"
   ]
  },
  {
   "cell_type": "markdown",
   "metadata": {},
   "source": [
    "## <span style=\"color:yellow\"> **=================================================================================================** </span> "
   ]
  },
  {
   "cell_type": "markdown",
   "metadata": {},
   "source": [
    "## <span style=\"color:green\"> **Cantidad de Clicks en la ventana anterior** </span> "
   ]
  },
  {
   "cell_type": "code",
   "execution_count": null,
   "metadata": {},
   "outputs": [],
   "source": [
    "cant_clk_trn = rh_trn.copy()\n",
    "cant_clk_tst = rh_tst.copy()\n",
    "\n",
    "cant_clk_trn = cant_clk_trn.merge( clk_trn[\"ref_hash\"].value_counts().to_frame().reset_index().rename( columns = {\"ref_hash\": \"cant_clk\", \"index\":\"ref_hash\"} ), how = \"left\", on = \"ref_hash\" )\n",
    "cant_clk_tst = cant_clk_tst.merge( clk_tst[\"ref_hash\"].value_counts().to_frame().reset_index().rename( columns = {\"ref_hash\": \"cant_clk\", \"index\":\"ref_hash\"} ), how = \"left\", on = \"ref_hash\" )\n",
    "\n",
    "cant_clk_trn.fillna( 0, inplace = True )\n",
    "cant_clk_tst.fillna( 0, inplace = True )\n",
    "\n",
    "cant_clk_trn.to_csv( loc_ftr + \"\\\\cant_clk_trn.csv\", index = False )\n",
    "cant_clk_tst.to_csv( loc_ftr + \"\\\\cant_clk_tst.csv\", index = False )"
   ]
  },
  {
   "cell_type": "markdown",
   "metadata": {},
   "source": [
    "## <span style=\"color:green\"> **Promedio del TimeToClick es un anuncio** </span> "
   ]
  },
  {
   "cell_type": "code",
   "execution_count": 9,
   "metadata": {},
   "outputs": [],
   "source": [
    "ttc_mean_trn = rh_trn.copy()\n",
    "ttc_mean_tst = rh_tst.copy()\n",
    "\n",
    "ttc_by_rh_trn = clk_trn[ [\"ref_hash\", \"timeToClick\"] ].groupby( \"ref_hash\" ).agg( \"mean\" ); ttc_by_rh_trn = ttc_by_rh_trn.reset_index()\n",
    "ttc_by_rh_tst = clk_tst[ [\"ref_hash\", \"timeToClick\"] ].groupby( \"ref_hash\" ).agg( \"mean\" ); ttc_by_rh_tst = ttc_by_rh_tst.reset_index()\n",
    "\n",
    "ttc_mean_trn = ttc_mean_trn.merge( ttc_by_rh_trn, how = \"left\", on = \"ref_hash\" )\n",
    "ttc_mean_tst = ttc_mean_tst.merge( ttc_by_rh_tst, how = \"left\", on = \"ref_hash\" )"
   ]
  },
  {
   "cell_type": "markdown",
   "metadata": {},
   "source": [
    "Casi todos los valores nulos!\n",
    "\n"
   ]
  },
  {
   "cell_type": "markdown",
   "metadata": {},
   "source": [
    "## <span style=\"color:green\"> **Tiempo hasta el primer click** </span> \n",
    "\n",
    "Le asignamos cuanto tiempo, en la ventana del 18-20, tardo en realizar su primer instlacion"
   ]
  },
  {
   "cell_type": "code",
   "execution_count": 10,
   "metadata": {},
   "outputs": [],
   "source": [
    "frst_clk_trn = rh_trn.copy()\n",
    "frst_clk_tst = rh_tst.copy()\n",
    "\n",
    "first_click_rh_auc_trn = clk_trn[ [\"ref_hash\",\"date\"] ].sort_values( \"date\" ).drop_duplicates( subset = \"ref_hash\", keep = \"first\" )\n",
    "first_click_rh_auc_tst = clk_tst[ [\"ref_hash\",\"date\"] ].sort_values( \"date\" ).drop_duplicates( subset = \"ref_hash\", keep = \"first\" )\n",
    "\n",
    "first_click_rh_auc_trn[\"time_to_frt_clk\"] = ( pd.to_datetime( first_click_rh_auc_trn[\"date\"] ) -  dt.datetime( year = 2019, month = 4, day = 18 ) ).dt.total_seconds()\n",
    "first_click_rh_auc_tst[\"time_to_frt_clk\"] = ( pd.to_datetime( first_click_rh_auc_tst[\"date\"] ) -  dt.datetime( year = 2019, month = 4, day = 21 ) ).dt.total_seconds()\n",
    "\n",
    "first_click_rh_auc_trn.drop( \"date\", axis = 1, inplace = True )\n",
    "first_click_rh_auc_tst.drop( \"date\", axis = 1, inplace = True )\n",
    "\n",
    "frst_clk_trn = frst_clk_trn.merge( first_click_rh_auc_trn, how = \"left\", on = \"ref_hash\" )\n",
    "frst_clk_tst = frst_clk_tst.merge( first_click_rh_auc_tst, how = \"left\", on = \"ref_hash\" )\n",
    "\n",
    "#Los que tienen NaN es que nunca convirtieron. Los marcamos con el tiempo maximo\n",
    "frst_clk_trn.fillna( 3 * 24 * 3600, inplace = True )\n",
    "frst_clk_tst.fillna( 3 * 24 * 3600, inplace = True )\n",
    "\n",
    "frst_clk_trn.to_csv( loc_ftr + \"\\\\frst_clk_trn.csv\", index = False )\n",
    "frst_clk_tst.to_csv( loc_ftr + \"\\\\frst_clk_tst.csv\", index = False )"
   ]
  },
  {
   "cell_type": "markdown",
   "metadata": {},
   "source": [
    "## <span style=\"color:green\"> **Recibio clicks entre 16 hs y 20 hs (Tarde)** </span> "
   ]
  },
  {
   "cell_type": "markdown",
   "metadata": {},
   "source": [
    "## <span style=\"color:Orange\"> **One-hot Encoding** </span> "
   ]
  },
  {
   "cell_type": "code",
   "execution_count": 11,
   "metadata": {},
   "outputs": [],
   "source": [
    "clk_trn['clk_16_20'] = ( pd.to_datetime( clk_trn['date'] ).dt.hour > 15) & ( pd.to_datetime( clk_trn['date'] ).dt.hour < 21) \n",
    "clk_tst['clk_16_20'] = ( pd.to_datetime( clk_tst['date'] ).dt.hour > 15) & ( pd.to_datetime( clk_tst['date'] ).dt.hour < 21)\n",
    "\n",
    "clk_after_trn = rh_trn.copy()\n",
    "clk_after_tst = rh_tst.copy()\n",
    "\n",
    "hour_mode_trn = clk_trn.groupby('ref_hash').agg({'clk_16_20':'sum'}).reset_index()\n",
    "hour_mode_tst = clk_tst.groupby('ref_hash').agg({'clk_16_20':'sum'}).reset_index()\n",
    "\n",
    "clk_after_trn = clk_after_trn.merge( hour_mode_trn, how = \"left\", on = \"ref_hash\" )\n",
    "clk_after_tst = clk_after_tst.merge( hour_mode_tst, how = \"left\", on = \"ref_hash\" )\n",
    "\n",
    "clk_after_trn[\"clk_16_20\"] = (clk_after_trn[\"clk_16_20\"] > 1).astype('int8')\n",
    "clk_after_tst[\"clk_16_20\"] = (clk_after_tst[\"clk_16_20\"] > 1).astype('int8')\n",
    "\n",
    "clk_after_trn.to_csv( loc_ftr + \"\\\\clk_aftr_trn.csv\", index = False )\n",
    "clk_after_tst.to_csv( loc_ftr + \"\\\\clk_aftr_tst.csv\", index = False )\n",
    "\n",
    "del clk_trn['clk_16_20']\n",
    "del clk_tst['clk_16_20']"
   ]
  },
  {
   "cell_type": "markdown",
   "metadata": {},
   "source": [
    "## <span style=\"color:green\"> **Recibio clikcs entre 21 hs y 3 hs (Noche)** </span> "
   ]
  },
  {
   "cell_type": "markdown",
   "metadata": {},
   "source": [
    "## <span style=\"color:Orange\"> **One-hot Encoding** </span> "
   ]
  },
  {
   "cell_type": "code",
   "execution_count": 12,
   "metadata": {},
   "outputs": [],
   "source": [
    "clk_trn['clk_21_3'] = ( pd.to_datetime( clk_trn['date'] ).dt.hour < 4) | ( pd.to_datetime( clk_trn['date'] ).dt.hour > 20)\n",
    "clk_tst['clk_21_3'] = ( pd.to_datetime( clk_tst['date'] ).dt.hour < 4) | ( pd.to_datetime( clk_tst['date'] ).dt.hour > 20)\n",
    "\n",
    "clk_night_trn = rh_trn.copy()\n",
    "clk_night_tst = rh_tst.copy()\n",
    "\n",
    "hour_mode_trn = clk_trn.groupby('ref_hash').agg({'clk_21_3':'sum'}).reset_index()\n",
    "hour_mode_tst = clk_tst.groupby('ref_hash').agg({'clk_21_3':'sum'}).reset_index()\n",
    "\n",
    "clk_night_trn = clk_night_trn.merge( hour_mode_trn, how = \"left\", on = \"ref_hash\" )\n",
    "clk_night_tst = clk_night_tst.merge( hour_mode_tst, how = \"left\", on = \"ref_hash\" )\n",
    "\n",
    "clk_night_trn[\"clk_21_3\"] =  (clk_night_trn[\"clk_21_3\"] > 1).astype('int8')\n",
    "clk_night_tst[\"clk_21_3\"] =  (clk_night_tst[\"clk_21_3\"] > 1).astype('int8')\n",
    "\n",
    "clk_night_trn.to_csv( loc_ftr + \"\\\\clk_ngth_trn.csv\", index = False )\n",
    "clk_night_tst.to_csv( loc_ftr + \"\\\\clk_ngth_tst.csv\", index = False )\n",
    "\n",
    "del clk_trn['clk_21_3']\n",
    "del clk_tst['clk_21_3']"
   ]
  },
  {
   "cell_type": "markdown",
   "metadata": {},
   "source": [
    "## <span style=\"color:green\"> **Recibio clicks entre 11 hs y 15 hs (Medio dia)** </span> "
   ]
  },
  {
   "cell_type": "markdown",
   "metadata": {},
   "source": [
    "## <span style=\"color:Orange\"> **One-hot Encoding** </span> "
   ]
  },
  {
   "cell_type": "code",
   "execution_count": null,
   "metadata": {},
   "outputs": [],
   "source": [
    "clk_trn['clk_11_15'] = ( pd.to_datetime( clk_trn['date'] ).dt.hour > 10) & ( pd.to_datetime( clk_trn['date'] ).dt.hour < 16) \n",
    "clk_tst['clk_11_15'] = ( pd.to_datetime( clk_tst['date'] ).dt.hour > 10) & ( pd.to_datetime( clk_tst['date'] ).dt.hour < 16)\n",
    "\n",
    "clk_midday_trn = rh_trn.copy()\n",
    "clk_midday_tst = rh_tst.copy()\n",
    "\n",
    "hour_mode_trn = clk_trn.groupby('ref_hash').agg({'clk_11_15':'sum'}).reset_index()\n",
    "hour_mode_tst = clk_tst.groupby('ref_hash').agg({'clk_11_15':'sum'}).reset_index()\n",
    "\n",
    "clk_midday_trn = clk_midday_trn.merge( hour_mode_trn, how = \"left\", on = \"ref_hash\" )\n",
    "clk_midday_tst = clk_midday_tst.merge( hour_mode_tst, how = \"left\", on = \"ref_hash\" )\n",
    "\n",
    "clk_midday_trn[\"clk_11_15\"] =  (clk_midday_trn[\"clk_11_15\"] > 1).astype('int8')\n",
    "clk_midday_tst[\"clk_11_15\"] =  (clk_midday_tst[\"clk_11_15\"] > 1).astype('int8')\n",
    "\n",
    "clk_midday_trn.to_csv( loc_ftr + \"\\\\clk_mday_trn.csv\", index = False )\n",
    "clk_midday_tst.to_csv( loc_ftr + \"\\\\clk_mday_tst.csv\", index = False )\n",
    "\n",
    "del clk_trn['clk_11_15']\n",
    "del clk_tst['clk_11_15']"
   ]
  },
  {
   "cell_type": "markdown",
   "metadata": {},
   "source": [
    "## <span style=\"color:green\"> **Recibio clicks entre 4 hs y 10 hs (Mañana)** </span> "
   ]
  },
  {
   "cell_type": "markdown",
   "metadata": {},
   "source": [
    "## <span style=\"color:Orange\"> **One-hot Encoding** </span> "
   ]
  },
  {
   "cell_type": "code",
   "execution_count": null,
   "metadata": {},
   "outputs": [],
   "source": [
    "clk_trn['clk_4_10'] = ( pd.to_datetime( clk_trn['date'] ).dt.hour > 3) & ( pd.to_datetime( clk_trn['date'] ).dt.hour < 11) \n",
    "clk_tst['clk_4_10'] = ( pd.to_datetime( clk_tst['date'] ).dt.hour > 3) & ( pd.to_datetime( clk_tst['date'] ).dt.hour < 11)\n",
    "\n",
    "clk_morn_trn = rh_trn.copy()\n",
    "clk_morn_tst = rh_tst.copy()\n",
    "\n",
    "hour_mode_trn = clk_trn.groupby('ref_hash').agg({'clk_4_10':'sum'}).reset_index()\n",
    "hour_mode_tst = clk_tst.groupby('ref_hash').agg({'clk_4_10':'sum'}).reset_index()\n",
    "\n",
    "clk_morn_trn = clk_morn_trn.merge( hour_mode_trn, how = \"left\", on = \"ref_hash\" )\n",
    "clk_morn_tst = clk_morn_tst.merge( hour_mode_tst, how = \"left\", on = \"ref_hash\" )\n",
    "\n",
    "clk_morn_trn[\"ins_4_10\"] =  (clk_morn_trn[\"clk_4_10\"] > 1).astype('int8')\n",
    "clk_morn_tst[\"ins_4_10\"] =  (clk_morn_tst[\"clk_4_10\"] > 1).astype('int8')\n",
    "\n",
    "clk_morn_trn.to_csv( loc_ftr + \"\\\\clk_morn_trn.csv\", index = False )\n",
    "clk_morn_tst.to_csv( loc_ftr + \"\\\\clk_morn_tst.csv\", index = False )\n",
    "\n",
    "del clk_trn['clk_4_10']\n",
    "del clk_tst['clk_4_10']"
   ]
  }
 ],
 "metadata": {
  "kernelspec": {
   "display_name": "Python 3",
   "language": "python",
   "name": "python3"
  },
  "language_info": {
   "codemirror_mode": {
    "name": "ipython",
    "version": 3
   },
   "file_extension": ".py",
   "mimetype": "text/x-python",
   "name": "python",
   "nbconvert_exporter": "python",
   "pygments_lexer": "ipython3",
   "version": "3.7.0"
  }
 },
 "nbformat": 4,
 "nbformat_minor": 2
}
