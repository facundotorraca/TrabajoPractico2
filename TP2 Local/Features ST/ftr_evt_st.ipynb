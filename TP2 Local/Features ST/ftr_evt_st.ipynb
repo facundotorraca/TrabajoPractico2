{
 "cells": [
  {
   "cell_type": "code",
   "execution_count": 1,
   "metadata": {},
   "outputs": [],
   "source": [
    "import pandas as pd\n",
    "import numpy as np\n",
    "import datetime as dt\n",
    "import warnings as wn\n",
    "import sklearn.preprocessing as skpre\n",
    "import category_encoders as ce\n",
    "\n",
    "wn.simplefilter( \"ignore\" )"
   ]
  },
  {
   "cell_type": "code",
   "execution_count": 2,
   "metadata": {},
   "outputs": [],
   "source": [
    "loc_ftr = r\"D:\\FacundoTorraca\\Documents\\TP2_ML\\FeaturesLocal\\FeaturesST\""
   ]
  },
  {
   "cell_type": "markdown",
   "metadata": {},
   "source": [
    "## <span style=\"color:yellow\"> **Preparamos los Sets de Training** </span> "
   ]
  },
  {
   "cell_type": "code",
   "execution_count": 3,
   "metadata": {},
   "outputs": [],
   "source": [
    "loc_ts = r\"D:\\FacundoTorraca\\Documents\\TP2_ML\\Training Sets\""
   ]
  },
  {
   "cell_type": "code",
   "execution_count": 4,
   "metadata": {},
   "outputs": [],
   "source": [
    "evt_trn = pd.read_csv( loc_ts + \"\\\\evt_18_20.csv\" ); \n",
    "evt_tst = pd.read_csv( loc_ts + \"\\\\evt_21_23.csv\" );  "
   ]
  },
  {
   "cell_type": "markdown",
   "metadata": {},
   "source": [
    "## <span style=\"color:yellow\"> **Preparamos el ref_hash de cada ventana** </span> "
   ]
  },
  {
   "cell_type": "code",
   "execution_count": 5,
   "metadata": {},
   "outputs": [],
   "source": [
    "loc_lb = r\"D:\\FacundoTorraca\\Documents\\TP2_ML\\Labels\""
   ]
  },
  {
   "cell_type": "code",
   "execution_count": 6,
   "metadata": {},
   "outputs": [],
   "source": [
    "lb_ins_trn = pd.read_csv( loc_lb + \"\\\\label_auc_21_23.csv\" );\n",
    "lb_ins_tst = pd.read_csv( loc_lb + \"\\\\label_auc_24_26.csv\" ); "
   ]
  },
  {
   "cell_type": "code",
   "execution_count": 7,
   "metadata": {},
   "outputs": [],
   "source": [
    "rh_trn = lb_ins_trn[ [\"ref_hash\"] ]\n",
    "rh_tst = lb_ins_tst[ [\"ref_hash\"] ]\n",
    "\n",
    "tg_trn = lb_auc_trn[ [\"24_26_st\"] ]\n",
    "tg_tst = lb_auc_tst[ [\"24_26_st\"] ]"
   ]
  },
  {
   "cell_type": "markdown",
   "metadata": {},
   "source": [
    "## <span style=\"color:yellow\"> **=======================================================================================================** </span> "
   ]
  },
  {
   "cell_type": "markdown",
   "metadata": {},
   "source": [
    "## <span style=\"color:green\"> **Cantidad de eventos por dispositivo en la ventana previa a la conversion** </span> "
   ]
  },
  {
   "cell_type": "code",
   "execution_count": 9,
   "metadata": {},
   "outputs": [],
   "source": [
    "cant_evt_trn = rh_trn.copy()\n",
    "cant_evt_tst = rh_tst.copy()\n",
    "\n",
    "cant_evt_trn = cant_evt_trn.merge( evt_trn[\"ref_hash\"].value_counts().to_frame().reset_index().rename( columns = {\"ref_hash\": \"cant_evt\", \"index\":\"ref_hash\"} ), how = \"left\", on = \"ref_hash\" )\n",
    "cant_evt_tst = cant_evt_tst.merge( evt_tst[\"ref_hash\"].value_counts().to_frame().reset_index().rename( columns = {\"ref_hash\": \"cant_evt\", \"index\":\"ref_hash\"} ), how = \"left\", on = \"ref_hash\" )\n",
    "\n",
    "cant_evt_trn.fillna( 0, inplace = True )\n",
    "cant_evt_tst.fillna( 0, inplace = True )\n",
    "\n",
    "cant_evt_trn.to_csv( loc_ftr + \"\\\\cant_evt_trn.csv\", index = False )\n",
    "cant_evt_tst.to_csv( loc_ftr + \"\\\\cant_evt_tst.csv\", index = False )"
   ]
  },
  {
   "cell_type": "markdown",
   "metadata": {},
   "source": [
    "## <span style=\"color:green\"> **Cantidad de eventos atribuidos por dispositivo** </span> "
   ]
  },
  {
   "cell_type": "code",
   "execution_count": 10,
   "metadata": {},
   "outputs": [],
   "source": [
    "cevt_atr_trn = rh_trn.copy()\n",
    "cevt_atr_tst = rh_tst.copy()\n",
    "\n",
    "cant_atr_evt_trn = evt_trn[[\"ref_hash\", \"attributed\"]]; cant_atr_evt_trn[\"attributed\"] = cant_atr_evt_trn[\"attributed\"].apply( lambda x: 1 if x else 0 );\n",
    "cant_atr_evt_tst = evt_tst[[\"ref_hash\", \"attributed\"]]; cant_atr_evt_tst[\"attributed\"] = cant_atr_evt_tst[\"attributed\"].apply( lambda x: 1 if x else 0 );\n",
    "\n",
    "cant_atr_evt_trn = cant_atr_evt_trn.groupby( \"ref_hash\" ).agg( \"sum\" )\n",
    "cant_atr_evt_tst = cant_atr_evt_tst.groupby( \"ref_hash\" ).agg( \"sum\" )\n",
    "\n",
    "cevt_atr_trn = cevt_atr_trn.merge( cant_atr_evt_trn, how = \"left\", on = \"ref_hash\" ).fillna( 0 )\n",
    "cevt_atr_tst = cevt_atr_tst.merge( cant_atr_evt_tst, how = \"left\", on = \"ref_hash\" ).fillna( 0 )\n",
    "\n",
    "cevt_atr_trn.to_csv( loc_ftr + \"\\\\cevt_atr_trn.csv\", index = False )\n",
    "cevt_atr_tst.to_csv( loc_ftr + \"\\\\cevt_atr_tst.csv\", index = False )"
   ]
  },
  {
   "cell_type": "markdown",
   "metadata": {},
   "source": [
    "## <span style=\"color:green\"> **Cantidad de eventos realizados con WiFi** </span> "
   ]
  },
  {
   "cell_type": "code",
   "execution_count": 11,
   "metadata": {},
   "outputs": [],
   "source": [
    "wifi_evt_trn = rh_trn.copy()\n",
    "wifi_evt_tst = rh_tst.copy()\n",
    "\n",
    "cant_wifi_evt_trn = evt_trn[[\"ref_hash\", \"wifi\"]]; cant_wifi_evt_trn[\"wifi\"] = cant_wifi_evt_trn[\"wifi\"].apply( lambda x: 1 if x else 0 );\n",
    "cant_wifi_evt_tst = evt_tst[[\"ref_hash\", \"wifi\"]]; cant_wifi_evt_tst[\"wifi\"] = cant_wifi_evt_tst[\"wifi\"].apply( lambda x: 1 if x else 0 );\n",
    "\n",
    "cant_wifi_evt_trn = cant_wifi_evt_trn.groupby( \"ref_hash\" ).agg( \"sum\" )\n",
    "cant_wifi_evt_tst = cant_wifi_evt_tst.groupby( \"ref_hash\" ).agg( \"sum\" )\n",
    "\n",
    "wifi_evt_trn = wifi_evt_trn.merge( cant_wifi_evt_trn, how = \"left\", on = \"ref_hash\" ).fillna( 0 )\n",
    "wifi_evt_tst = wifi_evt_tst.merge( cant_wifi_evt_tst, how = \"left\", on = \"ref_hash\" ).fillna( 0 )\n",
    "\n",
    "wifi_evt_trn.to_csv( loc_ftr + \"\\\\wifi_evt_trn.csv\", index = False )\n",
    "wifi_evt_tst.to_csv( loc_ftr + \"\\\\wifi_evt_tst.csv\", index = False )"
   ]
  },
  {
   "cell_type": "markdown",
   "metadata": {},
   "source": [
    "## <span style=\"color:green\"> **Horario del primer evento en ese ventana** </span> \n",
    "\n",
    "Al agregarle la transformacion senoidal para agregarle perdiodicidad a la hora, la prediccion del algoritmo fue peor por lo que decidimos no agregarla"
   ]
  },
  {
   "cell_type": "code",
   "execution_count": 18,
   "metadata": {},
   "outputs": [],
   "source": [
    "hr_f_evt_trn = rh_trn.copy()\n",
    "hr_f_evt_tst = rh_tst.copy()\n",
    "\n",
    "first_evt_hour_trn = evt_trn[ [\"ref_hash\",\"date\"] ].sort_values( \"date\" ).drop_duplicates( subset = \"ref_hash\", keep = \"first\" )\n",
    "first_evt_hour_tst = evt_tst[ [\"ref_hash\",\"date\"] ].sort_values( \"date\" ).drop_duplicates( subset = \"ref_hash\", keep = \"first\" )\n",
    "\n",
    "first_evt_hour_trn[\"time_to_frt_evt\"] = ( pd.to_datetime( first_evt_hour_trn[\"date\"] ) -  dt.datetime( year = 2019, month = 4, day = 21 ) ).dt.total_seconds()\n",
    "first_evt_hour_tst[\"time_to_frt_evt\"] = ( pd.to_datetime( first_evt_hour_tst[\"date\"] ) -  dt.datetime( year = 2019, month = 4, day = 24 ) ).dt.total_seconds()\n",
    "\n",
    "first_evt_hour_trn[\"hour_frt_evt\"] = pd.to_datetime( first_evt_hour_trn[\"date\"] ).dt.hour\n",
    "first_evt_hour_tst[\"hour_frt_evt\"] = pd.to_datetime( first_evt_hour_tst[\"date\"] ).dt.hour\n",
    "\n",
    "first_evt_hour_trn.drop( [\"date\", \"time_to_frt_evt\"], axis = 1, inplace = True )\n",
    "first_evt_hour_tst.drop( [\"date\", \"time_to_frt_evt\"], axis = 1, inplace = True )\n",
    "\n",
    "hr_f_evt_trn = hr_f_evt_trn.merge( first_evt_hour_trn, how = \"left\", on = \"ref_hash\" )\n",
    "hr_f_evt_tst = hr_f_evt_tst.merge( first_evt_hour_tst, how = \"left\", on = \"ref_hash\" )\n",
    "\n",
    "#hr_f_evt_trn[\"hour_frt_evt\"] = hr_f_evt_trn[\"hour_frt_evt\"].apply( lambda x: np.sin( (x *np.pi)/24 ) )\n",
    "#hr_f_evt_tst[\"hour_frt_evt\"] = hr_f_evt_tst[\"hour_frt_evt\"].apply( lambda x: np.sin( (x *np.pi)/24 ) )\n",
    "\n",
    "hr_f_evt_trn.to_csv( loc_ftr + \"\\\\hr_f_evt_trn.csv\", index = False )\n",
    "hr_f_evt_tst.to_csv( loc_ftr + \"\\\\hr_f_evt_tst.csv\", index = False )"
   ]
  },
  {
   "cell_type": "markdown",
   "metadata": {},
   "source": [
    "## <span style=\"color:green\"> **Hora mas popular del usuario en los eventos** </span> \n",
    "\n",
    "Le aplicamos la transformacion sin( (hora * pi)/24 ) para agregarle periodicidad. "
   ]
  },
  {
   "cell_type": "code",
   "execution_count": 13,
   "metadata": {},
   "outputs": [],
   "source": [
    "main_ehr_trn = rh_trn.copy()\n",
    "main_ehr_tst = rh_tst.copy()\n",
    "\n",
    "hour_mode_trn = evt_trn[[\"ref_hash\"]]; hour_mode_trn[\"hour\"] = pd.to_datetime( evt_trn[\"date\"] ).dt.hour\n",
    "hour_mode_tst = evt_tst[[\"ref_hash\"]]; hour_mode_tst[\"hour\"] = pd.to_datetime( evt_tst[\"date\"] ).dt.hour\n",
    "\n",
    "hour_mode_trn = hour_mode_trn.groupby( [\"ref_hash\", \"hour\"] ).agg( { \"hour\":\"count\" } ).rename( columns = {\"hour\":\"count\"} ).reset_index()\n",
    "hour_mode_tst = hour_mode_tst.groupby( [\"ref_hash\", \"hour\"] ).agg( { \"hour\":\"count\" } ).rename( columns = {\"hour\":\"count\"} ).reset_index()\n",
    "\n",
    "hour_mode_trn = hour_mode_trn.sort_values( [\"ref_hash\",\"count\"], ascending = False ).drop_duplicates( subset = [\"ref_hash\"], keep = \"first\" ).drop(\"count\",axis = 1)\n",
    "hour_mode_tst = hour_mode_tst.sort_values( [\"ref_hash\",\"count\"], ascending = False ).drop_duplicates( subset = [\"ref_hash\"], keep = \"first\" ).drop(\"count\",axis = 1)\n",
    "\n",
    "main_ehr_trn = main_ehr_trn.merge( hour_mode_trn, how = \"left\", on = \"ref_hash\" ).rename( columns = {\"hour\":\"main_hour\"} )\n",
    "main_ehr_tst = main_ehr_tst.merge( hour_mode_tst, how = \"left\", on = \"ref_hash\" ).rename( columns = {\"hour\":\"main_hour\"} )\n",
    "\n",
    "main_ehr_trn[\"main_hour\"] =  main_ehr_trn[\"main_hour\"].apply( lambda x: np.sin( (x*np.pi)/24 ) )\n",
    "main_ehr_tst[\"main_hour\"] =  main_ehr_tst[\"main_hour\"].apply( lambda x: np.sin( (x*np.pi)/24 ) )\n",
    "\n",
    "main_ehr_trn.to_csv( loc_ftr + \"\\\\main_ehr_trn.csv\", index = False )\n",
    "main_ehr_tst.to_csv( loc_ftr + \"\\\\main_ehr_tst.csv\", index = False )"
   ]
  },
  {
   "cell_type": "markdown",
   "metadata": {},
   "source": [
    "## <span style=\"color:green\"> **Tiempo hasta el primer evento** </span> "
   ]
  },
  {
   "cell_type": "code",
   "execution_count": 17,
   "metadata": {},
   "outputs": [],
   "source": [
    "frst_evt_trn = rh_trn.copy()\n",
    "frst_evt_tst = rh_tst.copy()\n",
    "\n",
    "first_event_rh_auc_trn = evt_trn[ [\"ref_hash\",\"date\"] ].sort_values( \"date\" ).drop_duplicates( subset = \"ref_hash\", keep = \"first\" )\n",
    "first_event_rh_auc_tst = evt_tst[ [\"ref_hash\",\"date\"] ].sort_values( \"date\" ).drop_duplicates( subset = \"ref_hash\", keep = \"first\" )\n",
    "\n",
    "first_event_rh_auc_trn[\"time_to_frt_evt\"] = ( pd.to_datetime( first_event_rh_auc_trn[\"date\"] ) -  dt.datetime( year = 2019, month = 4, day = 21 ) ).dt.total_seconds()\n",
    "first_event_rh_auc_tst[\"time_to_frt_evt\"] = ( pd.to_datetime( first_event_rh_auc_tst[\"date\"] ) -  dt.datetime( year = 2019, month = 4, day = 24 ) ).dt.total_seconds()\n",
    "\n",
    "first_event_rh_auc_trn.drop( \"date\", axis = 1, inplace = True )\n",
    "first_event_rh_auc_tst.drop( \"date\", axis = 1, inplace = True )\n",
    "\n",
    "frst_evt_trn = frst_evt_trn.merge( first_event_rh_auc_trn, how = \"left\", on = \"ref_hash\" )\n",
    "frst_evt_tst = frst_evt_tst.merge( first_event_rh_auc_tst, how = \"left\", on = \"ref_hash\" )\n",
    "\n",
    "#Los que tienen NaN es que nunca convirtieron. Los marcamos con el tiempo maximo\n",
    "frst_evt_trn.fillna( 3 * 24 * 3600, inplace = True )\n",
    "frst_evt_tst.fillna( 3 * 24 * 3600, inplace = True )\n",
    "\n",
    "frst_evt_trn.to_csv( loc_ftr + \"\\\\frst_evt_trn.csv\", index = False )\n",
    "frst_evt_tst.to_csv( loc_ftr + \"\\\\frst_evt_tst.csv\", index = False )"
   ]
  },
  {
   "cell_type": "markdown",
   "metadata": {},
   "source": [
    "## <span style=\"color:green\"> **ID de evento mas realizado por el dispositivo** </span> \n",
    "\n",
    "#### <span style=\"color:orange\"> **Mean Encoding** </span> (Lo codificamos haciendo la cantidad de eventos que se realizaron de ese id sobre el total de eventos realizados)"
   ]
  },
  {
   "cell_type": "code",
   "execution_count": 19,
   "metadata": {},
   "outputs": [],
   "source": [
    "event_id_trn = rh_trn.copy()\n",
    "event_id_tst = rh_tst.copy()\n",
    "\n",
    "main_evt_id_trn = evt_trn.groupby( by = [\"ref_hash\",\"event_id\"] ).agg( {\"event_id\":\"count\"} ).rename( columns = {\"event_id\":\"cant_evt\"} ).reset_index()\n",
    "main_evt_id_tst = evt_tst.groupby( by = [\"ref_hash\",\"event_id\"] ).agg( {\"event_id\":\"count\"} ).rename( columns = {\"event_id\":\"cant_evt\"} ).reset_index()\n",
    "\n",
    "main_evt_id_trn = main_evt_id_trn.sort_values( by = [\"ref_hash\", \"cant_evt\"], ascending = True ).drop_duplicates( subset = \"ref_hash\", keep = \"last\" ); del( main_evt_id_trn[\"cant_evt\"] )\n",
    "main_evt_id_tst = main_evt_id_tst.sort_values( by = [\"ref_hash\", \"cant_evt\"], ascending = True ).drop_duplicates( subset = \"ref_hash\", keep = \"last\" ); del( main_evt_id_tst[\"cant_evt\"] ) \n",
    "\n",
    "event_id_trn = event_id_trn.merge( main_evt_id_trn, how = \"left\", on = \"ref_hash\" )\n",
    "event_id_tst = event_id_tst.merge( main_evt_id_tst, how = \"left\", on = \"ref_hash\" )\n",
    "\n",
    "cant_event_id_trn = evt_trn[[\"ref_hash\",\"event_id\"]].groupby( \"event_id\" ).agg(\"count\").reset_index().rename( columns = {\"ref_hash\":\"cant_id\"} )\n",
    "cant_event_id_tst = evt_tst[[\"ref_hash\",\"event_id\"]].groupby( \"event_id\" ).agg(\"count\").reset_index().rename( columns = {\"ref_hash\":\"cant_id\"} )\n",
    "\n",
    "event_id_trn = event_id_trn.merge( cant_event_id_trn, how = \"left\", on = \"event_id\" ).drop( \"event_id\", axis = 1 )\n",
    "event_id_tst = event_id_tst.merge( cant_event_id_tst, how = \"left\", on = \"event_id\" ).drop( \"event_id\", axis = 1 )\n",
    "\n",
    "event_id_trn[\"evt_id_mean\"] = event_id_trn[\"cant_id\"] / len(evt_trn); event_id_trn.fillna( event_id_trn[\"evt_id_mean\"].isnull().sum() / len(evt_trn), inplace = True ); del(event_id_trn[\"evt_id_mean\"])\n",
    "event_id_tst[\"evt_id_mean\"] = event_id_tst[\"cant_id\"] / len(evt_tst); event_id_tst.fillna( event_id_tst[\"evt_id_mean\"].isnull().sum() / len(evt_tst), inplace = True ); del(event_id_tst[\"evt_id_mean\"])\n",
    "\n",
    "event_id_trn.to_csv( loc_ftr + \"\\\\event_id_trn.csv\", index = False )\n",
    "event_id_tst.to_csv( loc_ftr + \"\\\\event_id_tst.csv\", index = False )"
   ]
  },
  {
   "cell_type": "markdown",
   "metadata": {},
   "source": [
    "## <span style=\"color:green\"> **Aplicacion que mas recibio eventos por cada dispositivo** </span> \n",
    "\n",
    "#### <span style=\"color:orange\"> **Mean Encoding** </span> (Codificiamos sobre cuantas veces la aplicacion fue la principal de un dispositivo sobre el total de dispositivos)"
   ]
  },
  {
   "cell_type": "code",
   "execution_count": 20,
   "metadata": {},
   "outputs": [],
   "source": [
    "mapp_evt_trn = rh_trn.copy()\n",
    "mapp_evt_tst = rh_tst.copy()\n",
    "\n",
    "app_mas_evt_trn = evt_trn.groupby( by = [\"ref_hash\",\"application_id\"] ).agg( {\"application_id\":\"count\"} ).rename( columns = {\"application_id\":\"cant_evt\"} ).reset_index()\n",
    "app_mas_evt_tst = evt_tst.groupby( by = [\"ref_hash\",\"application_id\"] ).agg( {\"application_id\":\"count\"} ).rename( columns = {\"application_id\":\"cant_evt\"} ).reset_index()\n",
    "\n",
    "app_mas_evt_trn = app_mas_evt_trn.sort_values( by = [\"ref_hash\", \"cant_evt\"], ascending = True ).drop_duplicates( subset = \"ref_hash\", keep = \"last\" ); del( app_mas_evt_trn[\"cant_evt\"] )\n",
    "app_mas_evt_tst = app_mas_evt_tst.sort_values( by = [\"ref_hash\", \"cant_evt\"], ascending = True ).drop_duplicates( subset = \"ref_hash\", keep = \"last\" ); del( app_mas_evt_tst[\"cant_evt\"] ) \n",
    "\n",
    "mapp_evt_trn = mapp_evt_trn.merge( app_mas_evt_trn, how = \"left\", on = \"ref_hash\" )\n",
    "mapp_evt_tst = mapp_evt_tst.merge( app_mas_evt_tst, how = \"left\", on = \"ref_hash\" )\n",
    "\n",
    "mapp_evt_trn[\"to_count\"] = 1; mapp_evt_trn[\"application_id\"] = mapp_evt_trn[[\"application_id\", \"to_count\"]].groupby(\"application_id\").transform( \"sum\" ) / len(mapp_evt_trn); del(mapp_evt_trn[\"to_count\"])\n",
    "mapp_evt_tst[\"to_count\"] = 1; mapp_evt_tst[\"application_id\"] = mapp_evt_tst[[\"application_id\", \"to_count\"]].groupby(\"application_id\").transform( \"sum\" ) / len(mapp_evt_tst); del(mapp_evt_tst[\"to_count\"])\n",
    "\n",
    "#Completamos los NaNs con el promedio de su cantidad\n",
    "mapp_evt_trn[\"application_id\"].fillna( mapp_evt_trn[\"application_id\"].isnull().sum() / len( mapp_evt_trn ), inplace = True )\n",
    "mapp_evt_tst[\"application_id\"].fillna( mapp_evt_tst[\"application_id\"].isnull().sum() / len( mapp_evt_tst ), inplace = True )\n",
    "\n",
    "mapp_evt_trn.to_csv( loc_ftr + \"\\\\mapp_evt_trn.csv\", index = False )\n",
    "mapp_evt_tst.to_csv( loc_ftr + \"\\\\mapp_evt_tst.csv\", index = False )"
   ]
  },
  {
   "cell_type": "markdown",
   "metadata": {},
   "source": [
    "## <span style=\"color:green\"> **Tiempo hasta la ultimo evento en esa ventana** </span> "
   ]
  },
  {
   "cell_type": "code",
   "execution_count": 25,
   "metadata": {},
   "outputs": [],
   "source": [
    "last_evt_trn = rh_trn.copy()\n",
    "last_evt_tst = rh_tst.copy()\n",
    "\n",
    "last_event_rh_auc_trn = evt_trn[ [\"ref_hash\",\"date\"] ].sort_values( \"date\", ascending = False ).drop_duplicates( subset = \"ref_hash\", keep = \"first\" )\n",
    "last_event_rh_auc_tst = evt_tst[ [\"ref_hash\",\"date\"] ].sort_values( \"date\", ascending = False ).drop_duplicates( subset = \"ref_hash\", keep = \"first\" )\n",
    "\n",
    "last_event_rh_auc_trn[\"time_to_lst_evt\"] = ( pd.to_datetime( last_event_rh_auc_trn[\"date\"] ) -  dt.datetime( year = 2019, month = 4, day = 21 ) ).dt.total_seconds()\n",
    "last_event_rh_auc_tst[\"time_to_lst_evt\"] = ( pd.to_datetime( last_event_rh_auc_tst[\"date\"] ) -  dt.datetime( year = 2019, month = 4, day = 24 ) ).dt.total_seconds()\n",
    "\n",
    "last_event_rh_auc_trn.drop( \"date\", axis = 1, inplace = True )\n",
    "last_event_rh_auc_tst.drop( \"date\", axis = 1, inplace = True )\n",
    "\n",
    "last_evt_trn = last_evt_trn.merge( last_event_rh_auc_trn, how = \"left\", on = \"ref_hash\" )\n",
    "last_evt_tst = last_evt_tst.merge( last_event_rh_auc_tst, how = \"left\", on = \"ref_hash\" )\n",
    "\n",
    "#Los que tienen NaN es que nunca convirtieron. Los marcamos con el tiempo maximo\n",
    "last_evt_trn.fillna( 3 * 24 * 3600, inplace = True )\n",
    "last_evt_tst.fillna( 3 * 24 * 3600, inplace = True )\n",
    "\n",
    "last_evt_trn.to_csv( loc_ftr + \"\\\\last_evt_trn.csv\", index = False )\n",
    "last_evt_tst.to_csv( loc_ftr + \"\\\\last_evt_tst.csv\", index = False )"
   ]
  },
  {
   "cell_type": "markdown",
   "metadata": {},
   "source": [
    "## <span style=\"color:green\"> **Hizo eventos entre 21 hs y 3 hs (Noche)** </span>"
   ]
  },
  {
   "cell_type": "markdown",
   "metadata": {},
   "source": [
    "## <span style=\"color:Orange\"> **One-Hot Encoding** </span> "
   ]
  },
  {
   "cell_type": "code",
   "execution_count": 26,
   "metadata": {},
   "outputs": [],
   "source": [
    "evt_trn['date'] = pd.to_datetime(evt_trn['date'])\n",
    "evt_tst['date'] = pd.to_datetime(evt_tst['date'])\n",
    "\n",
    "evt_trn['evt_21_3'] = (evt_trn['date'].dt.hour < 4) | (evt_trn['date'].dt.hour > 20)\n",
    "evt_tst['evt_21_3'] = (evt_tst['date'].dt.hour < 4) | (evt_tst['date'].dt.hour > 20)\n",
    "\n",
    "evt_night_trn = rh_trn.copy()\n",
    "evt_night_tst = rh_tst.copy()\n",
    "\n",
    "hour_mode_trn = evt_trn.groupby('ref_hash').agg({'evt_21_3':'sum'}).reset_index()\n",
    "hour_mode_tst = evt_tst.groupby('ref_hash').agg({'evt_21_3':'sum'}).reset_index()\n",
    "\n",
    "evt_night_trn = evt_night_trn.merge( hour_mode_trn, how = \"left\", on = \"ref_hash\" )\n",
    "evt_night_tst = evt_night_tst.merge( hour_mode_tst, how = \"left\", on = \"ref_hash\" )\n",
    "\n",
    "evt_night_trn[\"evt_21_3\"] =  (evt_night_trn[\"evt_21_3\"] > 1).astype('int8')\n",
    "evt_night_tst[\"evt_21_3\"] =  (evt_night_tst[\"evt_21_3\"] > 1).astype('int8')\n",
    "\n",
    "evt_night_trn.to_csv( loc_ftr + \"\\\\evt_nght_trn.csv\", index = False )\n",
    "evt_night_tst.to_csv( loc_ftr + \"\\\\evt_nght_tst.csv\", index = False )\n",
    "\n",
    "del evt_trn['evt_21_3']\n",
    "del evt_tst['evt_21_3']"
   ]
  },
  {
   "cell_type": "markdown",
   "metadata": {},
   "source": [
    "## <span style=\"color:green\"> **Hizo eventos entre 4 hs y 10 hs (Mañana)** </span>"
   ]
  },
  {
   "cell_type": "markdown",
   "metadata": {},
   "source": [
    "## <span style=\"color:Orange\"> **One-Hot Encoding** </span> "
   ]
  },
  {
   "cell_type": "code",
   "execution_count": 27,
   "metadata": {},
   "outputs": [],
   "source": [
    "evt_trn['date'] = pd.to_datetime(evt_trn['date'])\n",
    "evt_tst['date'] = pd.to_datetime(evt_tst['date'])\n",
    "\n",
    "evt_trn['evt_4_10'] = (evt_trn['date'].dt.hour < 11) & (evt_trn['date'].dt.hour > 3)\n",
    "evt_tst['evt_4_10'] = (evt_tst['date'].dt.hour < 11) & (evt_tst['date'].dt.hour > 3)\n",
    "\n",
    "evt_morn_trn = rh_trn.copy()\n",
    "evt_morn_tst = rh_tst.copy()\n",
    "\n",
    "hour_mode_trn = evt_trn.groupby('ref_hash').agg({'evt_4_10':'sum'}).reset_index()\n",
    "hour_mode_tst = evt_tst.groupby('ref_hash').agg({'evt_4_10':'sum'}).reset_index()\n",
    "\n",
    "evt_morn_trn = evt_morn_trn.merge( hour_mode_trn, how = \"left\", on = \"ref_hash\" )\n",
    "evt_morn_tst = evt_morn_tst.merge( hour_mode_tst, how = \"left\", on = \"ref_hash\" )\n",
    "\n",
    "evt_morn_trn[\"evt_4_10\"] =  (evt_morn_trn[\"evt_4_10\"] > 1).astype('int8')\n",
    "evt_morn_tst[\"evt_4_10\"] =  (evt_morn_tst[\"evt_4_10\"] > 1).astype('int8')\n",
    "\n",
    "evt_morn_trn.to_csv( loc_ftr + \"\\\\evt_morn_trn.csv\", index = False )\n",
    "evt_morn_tst.to_csv( loc_ftr + \"\\\\evt_morn_tst.csv\", index = False )\n",
    "\n",
    "del evt_trn['evt_4_10']\n",
    "del evt_tst['evt_4_10']"
   ]
  },
  {
   "cell_type": "markdown",
   "metadata": {},
   "source": [
    "## <span style=\"color:green\"> **Hizo eventos entre 11 hs y 15 hs (Mediodia)** </span>"
   ]
  },
  {
   "cell_type": "markdown",
   "metadata": {},
   "source": [
    "## <span style=\"color:Orange\"> **One-Hot Encoding** </span> "
   ]
  },
  {
   "cell_type": "code",
   "execution_count": 28,
   "metadata": {},
   "outputs": [],
   "source": [
    "evt_trn['date'] = pd.to_datetime(evt_trn['date'])\n",
    "evt_tst['date'] = pd.to_datetime(evt_tst['date'])\n",
    "\n",
    "evt_trn['evt_11_15'] = (evt_trn['date'].dt.hour < 16) & (evt_trn['date'].dt.hour > 10)\n",
    "evt_tst['evt_11_15'] = (evt_tst['date'].dt.hour < 16) & (evt_tst['date'].dt.hour > 10)\n",
    "\n",
    "evt_midday_trn = rh_trn.copy()\n",
    "evt_midday_tst = rh_tst.copy()\n",
    "\n",
    "hour_mode_trn = evt_trn.groupby('ref_hash').agg({'evt_11_15':'sum'}).reset_index()\n",
    "hour_mode_tst = evt_tst.groupby('ref_hash').agg({'evt_11_15':'sum'}).reset_index()\n",
    "\n",
    "evt_midday_trn = evt_midday_trn.merge( hour_mode_trn, how = \"left\", on = \"ref_hash\" )\n",
    "evt_midday_tst = evt_midday_tst.merge( hour_mode_tst, how = \"left\", on = \"ref_hash\" )\n",
    "\n",
    "evt_midday_trn[\"evt_11_15\"] =  (evt_midday_trn[\"evt_11_15\"] > 1).astype('int8')\n",
    "evt_midday_tst[\"evt_11_15\"] =  (evt_midday_tst[\"evt_11_15\"] > 1).astype('int8')\n",
    "\n",
    "evt_midday_trn.to_csv( loc_ftr + \"\\\\evt_mday_trn.csv\", index = False )\n",
    "evt_midday_tst.to_csv( loc_ftr + \"\\\\evt_mday_tst.csv\", index = False )\n",
    "\n",
    "del evt_trn['evt_11_15']\n",
    "del evt_tst['evt_11_15']"
   ]
  },
  {
   "cell_type": "markdown",
   "metadata": {},
   "source": [
    "## <span style=\"color:green\"> **Hizo eventos entre 16 hs y 20 hs (Tarde)** </span>"
   ]
  },
  {
   "cell_type": "markdown",
   "metadata": {},
   "source": [
    "## <span style=\"color:Orange\"> **One-Hot Encoding** </span> "
   ]
  },
  {
   "cell_type": "code",
   "execution_count": 30,
   "metadata": {},
   "outputs": [],
   "source": [
    "evt_trn['date'] = pd.to_datetime(evt_trn['date'])\n",
    "evt_tst['date'] = pd.to_datetime(evt_tst['date'])\n",
    "\n",
    "evt_trn['evt_16_20'] = (evt_trn['date'].dt.hour < 21) & (evt_trn['date'].dt.hour > 15)\n",
    "evt_tst['evt_16_20'] = (evt_tst['date'].dt.hour < 21) & (evt_tst['date'].dt.hour > 15)\n",
    "\n",
    "evt_after_trn = rh_trn.copy()\n",
    "evt_after_tst = rh_tst.copy()\n",
    "\n",
    "hour_mode_trn = evt_trn.groupby('ref_hash').agg({'evt_16_20':'sum'}).reset_index()\n",
    "hour_mode_tst = evt_tst.groupby('ref_hash').agg({'evt_16_20':'sum'}).reset_index()\n",
    "\n",
    "evt_after_trn = evt_after_trn.merge( hour_mode_trn, how = \"left\", on = \"ref_hash\" )\n",
    "evt_after_tst = evt_after_tst.merge( hour_mode_tst, how = \"left\", on = \"ref_hash\" )\n",
    "\n",
    "evt_after_trn[\"evt_16_20\"] =  (evt_after_trn[\"evt_16_20\"] > 1).astype('int8')\n",
    "evt_after_tst[\"evt_16_20\"] =  (evt_after_tst[\"evt_16_20\"] > 1).astype('int8')\n",
    "\n",
    "evt_after_trn.to_csv( loc_ftr + \"\\\\evt_aftr_trn.csv\", index = False )\n",
    "evt_after_tst.to_csv( loc_ftr + \"\\\\evt_aftr_tst.csv\", index = False )\n",
    "\n",
    "del evt_trn['evt_16_20']\n",
    "del evt_tst['evt_16_20']"
   ]
  },
  {
   "cell_type": "markdown",
   "metadata": {},
   "source": [
    "## <span style=\"color:green\"> **Tipo de evento mas realizado por el dispositivo** </span> \n",
    "\n",
    "#### <span style=\"color:orange\"> **Mean Encoding** </span> (Lo codificamos haciendo la cantidad de eventos que se realizaron de ese tipo sobre el total de eventos realizados)"
   ]
  },
  {
   "cell_type": "code",
   "execution_count": 31,
   "metadata": {},
   "outputs": [],
   "source": [
    "kind_evt_trn = rh_trn.copy()\n",
    "kind_evt_tst = rh_tst.copy()\n",
    "\n",
    "kind_evt_trn = rh_trn.copy()\n",
    "kind_evt_tst = rh_tst.copy()\n",
    "\n",
    "main_kind_evt_trn = evt_trn.groupby( by = [\"ref_hash\",\"kind\"] ).agg( {\"kind\":\"count\"} ).rename( columns = {\"kind\":\"cant_evt\"} ).reset_index()\n",
    "main_kind_evt_tst = evt_tst.groupby( by = [\"ref_hash\",\"kind\"] ).agg( {\"kind\":\"count\"} ).rename( columns = {\"kind\":\"cant_evt\"} ).reset_index()\n",
    "\n",
    "main_kind_evt_trn = main_kind_evt_trn.sort_values( by = [\"ref_hash\", \"cant_evt\"], ascending = True ).drop_duplicates( subset = \"ref_hash\", keep = \"last\" ); del( main_kind_evt_trn[\"cant_evt\"] )\n",
    "main_kind_evt_tst = main_kind_evt_tst.sort_values( by = [\"ref_hash\", \"cant_evt\"], ascending = True ).drop_duplicates( subset = \"ref_hash\", keep = \"last\" ); del( main_kind_evt_tst[\"cant_evt\"] ) \n",
    "\n",
    "kind_evt_trn = kind_evt_trn.merge( main_kind_evt_trn, how = \"left\", on = \"ref_hash\" )\n",
    "kind_evt_tst = kind_evt_tst.merge( main_kind_evt_tst, how = \"left\", on = \"ref_hash\" )\n",
    "\n",
    "cant_kind_evt_trn = evt_trn[[\"ref_hash\",\"kind\"]].groupby( \"kind\" ).agg(\"count\").reset_index().rename( columns = {\"ref_hash\":\"cant_kind\"} )\n",
    "cant_kind_evt_tst = evt_tst[[\"ref_hash\",\"kind\"]].groupby( \"kind\" ).agg(\"count\").reset_index().rename( columns = {\"ref_hash\":\"cant_kind\"} )\n",
    "\n",
    "kind_evt_trn = kind_evt_trn.merge( cant_kind_evt_trn, how = \"left\", on = \"kind\" ).drop( \"kind\", axis = 1 )\n",
    "kind_evt_tst = kind_evt_tst.merge( cant_kind_evt_tst, how = \"left\", on = \"kind\" ).drop( \"kind\", axis = 1 )\n",
    "\n",
    "kind_evt_trn[\"kind_mean\"] = kind_evt_trn[\"cant_kind\"] / len(evt_trn); kind_evt_trn.fillna( kind_evt_trn[\"kind_mean\"].isnull().sum() / len(evt_trn), inplace = True ); del(kind_evt_trn[\"cant_kind\"])\n",
    "kind_evt_tst[\"kind_mean\"] = kind_evt_tst[\"cant_kind\"] / len(evt_tst); kind_evt_tst.fillna( kind_evt_tst[\"kind_mean\"].isnull().sum() / len(evt_tst), inplace = True ); del(kind_evt_tst[\"cant_kind\"])\n",
    "\n",
    "kind_evt_trn.to_csv( loc_ftr + \"\\\\kind_evt_trn.csv\", index = False )\n",
    "kind_evt_tst.to_csv( loc_ftr + \"\\\\kind_evt_tst.csv\", index = False )"
   ]
  },
  {
   "cell_type": "code",
   "execution_count": null,
   "metadata": {},
   "outputs": [],
   "source": []
  }
 ],
 "metadata": {
  "kernelspec": {
   "display_name": "Python 3",
   "language": "python",
   "name": "python3"
  },
  "language_info": {
   "codemirror_mode": {
    "name": "ipython",
    "version": 3
   },
   "file_extension": ".py",
   "mimetype": "text/x-python",
   "name": "python",
   "nbconvert_exporter": "python",
   "pygments_lexer": "ipython3",
   "version": "3.7.0"
  }
 },
 "nbformat": 4,
 "nbformat_minor": 2
}
