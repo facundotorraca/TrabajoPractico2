{
 "cells": [
  {
   "cell_type": "code",
   "execution_count": 1,
   "metadata": {},
   "outputs": [],
   "source": [
    "import pandas as pd\n",
    "import numpy as np\n",
    "import warnings as wr\n",
    "from sklearn.ensemble import RandomForestRegressor\n",
    "from sklearn.metrics import mean_squared_error\n",
    "\n",
    "wr.filterwarnings(\"ignore\")"
   ]
  },
  {
   "cell_type": "code",
   "execution_count": 2,
   "metadata": {},
   "outputs": [],
   "source": [
    "loc_lbl = r\"D:\\Documentos\\Facu\\Organizacion de Datos\\TP2\\Labels\"\n",
    "loc_ftr = r\"D:\\Documentos\\Facu\\Organizacion de Datos\\TP2\\Features\\FeaturesLocalST\"\n",
    "\n",
    "label_trn = pd.read_csv( loc_lbl + \"\\\\label_auc_21_23.csv\" )\n",
    "label_tst = pd.read_csv( loc_lbl + \"\\\\label_auc_24_26.csv\" )\n",
    "\n",
    "X = label_trn[ [\"ref_hash\"] ]; Z = label_tst[ [\"ref_hash\"] ]\n",
    "Y = label_trn[ [\"ref_hash\",\"21_23_st\"] ]; W = label_tst[ [\"ref_hash\",\"24_26_st\"] ] \n"
   ]
  },
  {
   "cell_type": "markdown",
   "metadata": {},
   "source": [
    "# <span style=\"color:orange\">  Preparo los datos para predecir </span>\n",
    "Con los datos 21-23 predecimos \"24-26_sc\""
   ]
  },
  {
   "cell_type": "code",
   "execution_count": 3,
   "metadata": {},
   "outputs": [],
   "source": [
    "Z_var = Z; W_var = W"
   ]
  },
  {
   "cell_type": "markdown",
   "metadata": {},
   "source": [
    "### Agregamos los features "
   ]
  },
  {
   "cell_type": "code",
   "execution_count": 4,
   "metadata": {},
   "outputs": [
    {
     "ename": "MemoryError",
     "evalue": "",
     "output_type": "error",
     "traceback": [
      "\u001b[1;31m---------------------------------------------------------------------------\u001b[0m",
      "\u001b[1;31mMemoryError\u001b[0m                               Traceback (most recent call last)",
      "\u001b[1;32m<ipython-input-4-af56b8954858>\u001b[0m in \u001b[0;36m<module>\u001b[1;34m\u001b[0m\n\u001b[1;32m----> 1\u001b[1;33m \u001b[0mftr_01_Z\u001b[0m \u001b[1;33m=\u001b[0m \u001b[0mpd\u001b[0m\u001b[1;33m.\u001b[0m\u001b[0mread_csv\u001b[0m\u001b[1;33m(\u001b[0m \u001b[0mloc_ftr\u001b[0m \u001b[1;33m+\u001b[0m \u001b[1;34m\"\\\\auc_aftr_tst.csv\"\u001b[0m \u001b[1;33m)\u001b[0m\u001b[1;33m;\u001b[0m \u001b[0mZ_var\u001b[0m \u001b[1;33m=\u001b[0m \u001b[0mZ_var\u001b[0m\u001b[1;33m.\u001b[0m\u001b[0mmerge\u001b[0m\u001b[1;33m(\u001b[0m \u001b[0mftr_01_Z\u001b[0m\u001b[1;33m,\u001b[0m \u001b[0mhow\u001b[0m \u001b[1;33m=\u001b[0m \u001b[1;34m\"inner\"\u001b[0m\u001b[1;33m,\u001b[0m \u001b[0mon\u001b[0m \u001b[1;33m=\u001b[0m \u001b[1;34m\"ref_hash\"\u001b[0m \u001b[1;33m)\u001b[0m\u001b[1;33m\u001b[0m\u001b[1;33m\u001b[0m\u001b[0m\n\u001b[0m\u001b[0;32m      2\u001b[0m \u001b[0mftr_02_Z\u001b[0m \u001b[1;33m=\u001b[0m \u001b[0mpd\u001b[0m\u001b[1;33m.\u001b[0m\u001b[0mread_csv\u001b[0m\u001b[1;33m(\u001b[0m \u001b[0mloc_ftr\u001b[0m \u001b[1;33m+\u001b[0m \u001b[1;34m\"\\\\auc_mday_tst.csv\"\u001b[0m \u001b[1;33m)\u001b[0m\u001b[1;33m;\u001b[0m \u001b[0mZ_var\u001b[0m \u001b[1;33m=\u001b[0m \u001b[0mZ_var\u001b[0m\u001b[1;33m.\u001b[0m\u001b[0mmerge\u001b[0m\u001b[1;33m(\u001b[0m \u001b[0mftr_02_Z\u001b[0m\u001b[1;33m,\u001b[0m \u001b[0mhow\u001b[0m \u001b[1;33m=\u001b[0m \u001b[1;34m\"inner\"\u001b[0m\u001b[1;33m,\u001b[0m \u001b[0mon\u001b[0m \u001b[1;33m=\u001b[0m \u001b[1;34m\"ref_hash\"\u001b[0m \u001b[1;33m)\u001b[0m\u001b[1;33m\u001b[0m\u001b[1;33m\u001b[0m\u001b[0m\n\u001b[0;32m      3\u001b[0m \u001b[0mftr_03_Z\u001b[0m \u001b[1;33m=\u001b[0m \u001b[0mpd\u001b[0m\u001b[1;33m.\u001b[0m\u001b[0mread_csv\u001b[0m\u001b[1;33m(\u001b[0m \u001b[0mloc_ftr\u001b[0m \u001b[1;33m+\u001b[0m \u001b[1;34m\"\\\\auc_morn_tst.csv\"\u001b[0m \u001b[1;33m)\u001b[0m\u001b[1;33m;\u001b[0m \u001b[0mZ_var\u001b[0m \u001b[1;33m=\u001b[0m \u001b[0mZ_var\u001b[0m\u001b[1;33m.\u001b[0m\u001b[0mmerge\u001b[0m\u001b[1;33m(\u001b[0m \u001b[0mftr_03_Z\u001b[0m\u001b[1;33m,\u001b[0m \u001b[0mhow\u001b[0m \u001b[1;33m=\u001b[0m \u001b[1;34m\"inner\"\u001b[0m\u001b[1;33m,\u001b[0m \u001b[0mon\u001b[0m \u001b[1;33m=\u001b[0m \u001b[1;34m\"ref_hash\"\u001b[0m \u001b[1;33m)\u001b[0m\u001b[1;33m\u001b[0m\u001b[1;33m\u001b[0m\u001b[0m\n\u001b[0;32m      4\u001b[0m \u001b[0mftr_04_Z\u001b[0m \u001b[1;33m=\u001b[0m \u001b[0mpd\u001b[0m\u001b[1;33m.\u001b[0m\u001b[0mread_csv\u001b[0m\u001b[1;33m(\u001b[0m \u001b[0mloc_ftr\u001b[0m \u001b[1;33m+\u001b[0m \u001b[1;34m\"\\\\auc_nght_tst.csv\"\u001b[0m \u001b[1;33m)\u001b[0m\u001b[1;33m;\u001b[0m \u001b[0mZ_var\u001b[0m \u001b[1;33m=\u001b[0m \u001b[0mZ_var\u001b[0m\u001b[1;33m.\u001b[0m\u001b[0mmerge\u001b[0m\u001b[1;33m(\u001b[0m \u001b[0mftr_04_Z\u001b[0m\u001b[1;33m,\u001b[0m \u001b[0mhow\u001b[0m \u001b[1;33m=\u001b[0m \u001b[1;34m\"inner\"\u001b[0m\u001b[1;33m,\u001b[0m \u001b[0mon\u001b[0m \u001b[1;33m=\u001b[0m \u001b[1;34m\"ref_hash\"\u001b[0m \u001b[1;33m)\u001b[0m\u001b[1;33m\u001b[0m\u001b[1;33m\u001b[0m\u001b[0m\n\u001b[0;32m      5\u001b[0m \u001b[0mftr_05_Z\u001b[0m \u001b[1;33m=\u001b[0m \u001b[0mpd\u001b[0m\u001b[1;33m.\u001b[0m\u001b[0mread_csv\u001b[0m\u001b[1;33m(\u001b[0m \u001b[0mloc_ftr\u001b[0m \u001b[1;33m+\u001b[0m \u001b[1;34m\"\\\\cant_auc_tst.csv\"\u001b[0m \u001b[1;33m)\u001b[0m\u001b[1;33m;\u001b[0m \u001b[0mZ_var\u001b[0m \u001b[1;33m=\u001b[0m \u001b[0mZ_var\u001b[0m\u001b[1;33m.\u001b[0m\u001b[0mmerge\u001b[0m\u001b[1;33m(\u001b[0m \u001b[0mftr_05_Z\u001b[0m\u001b[1;33m,\u001b[0m \u001b[0mhow\u001b[0m \u001b[1;33m=\u001b[0m \u001b[1;34m\"inner\"\u001b[0m\u001b[1;33m,\u001b[0m \u001b[0mon\u001b[0m \u001b[1;33m=\u001b[0m \u001b[1;34m\"ref_hash\"\u001b[0m \u001b[1;33m)\u001b[0m\u001b[1;33m\u001b[0m\u001b[1;33m\u001b[0m\u001b[0m\n",
      "\u001b[1;32m~\\Anaconda3\\lib\\site-packages\\pandas\\core\\frame.py\u001b[0m in \u001b[0;36mmerge\u001b[1;34m(self, right, how, on, left_on, right_on, left_index, right_index, sort, suffixes, copy, indicator, validate)\u001b[0m\n\u001b[0;32m   6387\u001b[0m                      \u001b[0mright_on\u001b[0m\u001b[1;33m=\u001b[0m\u001b[0mright_on\u001b[0m\u001b[1;33m,\u001b[0m \u001b[0mleft_index\u001b[0m\u001b[1;33m=\u001b[0m\u001b[0mleft_index\u001b[0m\u001b[1;33m,\u001b[0m\u001b[1;33m\u001b[0m\u001b[1;33m\u001b[0m\u001b[0m\n\u001b[0;32m   6388\u001b[0m                      \u001b[0mright_index\u001b[0m\u001b[1;33m=\u001b[0m\u001b[0mright_index\u001b[0m\u001b[1;33m,\u001b[0m \u001b[0msort\u001b[0m\u001b[1;33m=\u001b[0m\u001b[0msort\u001b[0m\u001b[1;33m,\u001b[0m \u001b[0msuffixes\u001b[0m\u001b[1;33m=\u001b[0m\u001b[0msuffixes\u001b[0m\u001b[1;33m,\u001b[0m\u001b[1;33m\u001b[0m\u001b[1;33m\u001b[0m\u001b[0m\n\u001b[1;32m-> 6389\u001b[1;33m                      copy=copy, indicator=indicator, validate=validate)\n\u001b[0m\u001b[0;32m   6390\u001b[0m \u001b[1;33m\u001b[0m\u001b[0m\n\u001b[0;32m   6391\u001b[0m     \u001b[1;32mdef\u001b[0m \u001b[0mround\u001b[0m\u001b[1;33m(\u001b[0m\u001b[0mself\u001b[0m\u001b[1;33m,\u001b[0m \u001b[0mdecimals\u001b[0m\u001b[1;33m=\u001b[0m\u001b[1;36m0\u001b[0m\u001b[1;33m,\u001b[0m \u001b[1;33m*\u001b[0m\u001b[0margs\u001b[0m\u001b[1;33m,\u001b[0m \u001b[1;33m**\u001b[0m\u001b[0mkwargs\u001b[0m\u001b[1;33m)\u001b[0m\u001b[1;33m:\u001b[0m\u001b[1;33m\u001b[0m\u001b[1;33m\u001b[0m\u001b[0m\n",
      "\u001b[1;32m~\\Anaconda3\\lib\\site-packages\\pandas\\core\\reshape\\merge.py\u001b[0m in \u001b[0;36mmerge\u001b[1;34m(left, right, how, on, left_on, right_on, left_index, right_index, sort, suffixes, copy, indicator, validate)\u001b[0m\n\u001b[0;32m     60\u001b[0m                          \u001b[0mcopy\u001b[0m\u001b[1;33m=\u001b[0m\u001b[0mcopy\u001b[0m\u001b[1;33m,\u001b[0m \u001b[0mindicator\u001b[0m\u001b[1;33m=\u001b[0m\u001b[0mindicator\u001b[0m\u001b[1;33m,\u001b[0m\u001b[1;33m\u001b[0m\u001b[1;33m\u001b[0m\u001b[0m\n\u001b[0;32m     61\u001b[0m                          validate=validate)\n\u001b[1;32m---> 62\u001b[1;33m     \u001b[1;32mreturn\u001b[0m \u001b[0mop\u001b[0m\u001b[1;33m.\u001b[0m\u001b[0mget_result\u001b[0m\u001b[1;33m(\u001b[0m\u001b[1;33m)\u001b[0m\u001b[1;33m\u001b[0m\u001b[1;33m\u001b[0m\u001b[0m\n\u001b[0m\u001b[0;32m     63\u001b[0m \u001b[1;33m\u001b[0m\u001b[0m\n\u001b[0;32m     64\u001b[0m \u001b[1;33m\u001b[0m\u001b[0m\n",
      "\u001b[1;32m~\\Anaconda3\\lib\\site-packages\\pandas\\core\\reshape\\merge.py\u001b[0m in \u001b[0;36mget_result\u001b[1;34m(self)\u001b[0m\n\u001b[0;32m    566\u001b[0m                 self.left, self.right)\n\u001b[0;32m    567\u001b[0m \u001b[1;33m\u001b[0m\u001b[0m\n\u001b[1;32m--> 568\u001b[1;33m         \u001b[0mjoin_index\u001b[0m\u001b[1;33m,\u001b[0m \u001b[0mleft_indexer\u001b[0m\u001b[1;33m,\u001b[0m \u001b[0mright_indexer\u001b[0m \u001b[1;33m=\u001b[0m \u001b[0mself\u001b[0m\u001b[1;33m.\u001b[0m\u001b[0m_get_join_info\u001b[0m\u001b[1;33m(\u001b[0m\u001b[1;33m)\u001b[0m\u001b[1;33m\u001b[0m\u001b[1;33m\u001b[0m\u001b[0m\n\u001b[0m\u001b[0;32m    569\u001b[0m \u001b[1;33m\u001b[0m\u001b[0m\n\u001b[0;32m    570\u001b[0m         \u001b[0mldata\u001b[0m\u001b[1;33m,\u001b[0m \u001b[0mrdata\u001b[0m \u001b[1;33m=\u001b[0m \u001b[0mself\u001b[0m\u001b[1;33m.\u001b[0m\u001b[0mleft\u001b[0m\u001b[1;33m.\u001b[0m\u001b[0m_data\u001b[0m\u001b[1;33m,\u001b[0m \u001b[0mself\u001b[0m\u001b[1;33m.\u001b[0m\u001b[0mright\u001b[0m\u001b[1;33m.\u001b[0m\u001b[0m_data\u001b[0m\u001b[1;33m\u001b[0m\u001b[1;33m\u001b[0m\u001b[0m\n",
      "\u001b[1;32m~\\Anaconda3\\lib\\site-packages\\pandas\\core\\reshape\\merge.py\u001b[0m in \u001b[0;36m_get_join_info\u001b[1;34m(self)\u001b[0m\n\u001b[0;32m    775\u001b[0m         \u001b[1;32melse\u001b[0m\u001b[1;33m:\u001b[0m\u001b[1;33m\u001b[0m\u001b[1;33m\u001b[0m\u001b[0m\n\u001b[0;32m    776\u001b[0m             (left_indexer,\n\u001b[1;32m--> 777\u001b[1;33m              right_indexer) = self._get_join_indexers()\n\u001b[0m\u001b[0;32m    778\u001b[0m \u001b[1;33m\u001b[0m\u001b[0m\n\u001b[0;32m    779\u001b[0m             \u001b[1;32mif\u001b[0m \u001b[0mself\u001b[0m\u001b[1;33m.\u001b[0m\u001b[0mright_index\u001b[0m\u001b[1;33m:\u001b[0m\u001b[1;33m\u001b[0m\u001b[1;33m\u001b[0m\u001b[0m\n",
      "\u001b[1;32m~\\Anaconda3\\lib\\site-packages\\pandas\\core\\reshape\\merge.py\u001b[0m in \u001b[0;36m_get_join_indexers\u001b[1;34m(self)\u001b[0m\n\u001b[0;32m    754\u001b[0m                                   \u001b[0mself\u001b[0m\u001b[1;33m.\u001b[0m\u001b[0mright_join_keys\u001b[0m\u001b[1;33m,\u001b[0m\u001b[1;33m\u001b[0m\u001b[1;33m\u001b[0m\u001b[0m\n\u001b[0;32m    755\u001b[0m                                   \u001b[0msort\u001b[0m\u001b[1;33m=\u001b[0m\u001b[0mself\u001b[0m\u001b[1;33m.\u001b[0m\u001b[0msort\u001b[0m\u001b[1;33m,\u001b[0m\u001b[1;33m\u001b[0m\u001b[1;33m\u001b[0m\u001b[0m\n\u001b[1;32m--> 756\u001b[1;33m                                   how=self.how)\n\u001b[0m\u001b[0;32m    757\u001b[0m \u001b[1;33m\u001b[0m\u001b[0m\n\u001b[0;32m    758\u001b[0m     \u001b[1;32mdef\u001b[0m \u001b[0m_get_join_info\u001b[0m\u001b[1;33m(\u001b[0m\u001b[0mself\u001b[0m\u001b[1;33m)\u001b[0m\u001b[1;33m:\u001b[0m\u001b[1;33m\u001b[0m\u001b[1;33m\u001b[0m\u001b[0m\n",
      "\u001b[1;32m~\\Anaconda3\\lib\\site-packages\\pandas\\core\\reshape\\merge.py\u001b[0m in \u001b[0;36m_get_join_indexers\u001b[1;34m(left_keys, right_keys, sort, how, **kwargs)\u001b[0m\n\u001b[0;32m   1146\u001b[0m     \u001b[0mjoin_func\u001b[0m \u001b[1;33m=\u001b[0m \u001b[0m_join_functions\u001b[0m\u001b[1;33m[\u001b[0m\u001b[0mhow\u001b[0m\u001b[1;33m]\u001b[0m\u001b[1;33m\u001b[0m\u001b[1;33m\u001b[0m\u001b[0m\n\u001b[0;32m   1147\u001b[0m \u001b[1;33m\u001b[0m\u001b[0m\n\u001b[1;32m-> 1148\u001b[1;33m     \u001b[1;32mreturn\u001b[0m \u001b[0mjoin_func\u001b[0m\u001b[1;33m(\u001b[0m\u001b[0mlkey\u001b[0m\u001b[1;33m,\u001b[0m \u001b[0mrkey\u001b[0m\u001b[1;33m,\u001b[0m \u001b[0mcount\u001b[0m\u001b[1;33m,\u001b[0m \u001b[1;33m**\u001b[0m\u001b[0mkwargs\u001b[0m\u001b[1;33m)\u001b[0m\u001b[1;33m\u001b[0m\u001b[1;33m\u001b[0m\u001b[0m\n\u001b[0m\u001b[0;32m   1149\u001b[0m \u001b[1;33m\u001b[0m\u001b[0m\n\u001b[0;32m   1150\u001b[0m \u001b[1;33m\u001b[0m\u001b[0m\n",
      "\u001b[1;32mpandas\\_libs\\join.pyx\u001b[0m in \u001b[0;36mpandas._libs.join.inner_join\u001b[1;34m()\u001b[0m\n",
      "\u001b[1;31mMemoryError\u001b[0m: "
     ]
    }
   ],
   "source": [
    "ftr_01_Z = pd.read_csv( loc_ftr + \"\\\\auc_aftr_tst.csv\" ); Z_var = Z_var.merge( ftr_01_Z, how = \"inner\", on = \"ref_hash\" ) \n",
    "ftr_02_Z = pd.read_csv( loc_ftr + \"\\\\auc_mday_tst.csv\" ); Z_var = Z_var.merge( ftr_02_Z, how = \"inner\", on = \"ref_hash\" ) \n",
    "ftr_03_Z = pd.read_csv( loc_ftr + \"\\\\auc_morn_tst.csv\" ); Z_var = Z_var.merge( ftr_03_Z, how = \"inner\", on = \"ref_hash\" ) \n",
    "ftr_04_Z = pd.read_csv( loc_ftr + \"\\\\auc_nght_tst.csv\" ); Z_var = Z_var.merge( ftr_04_Z, how = \"inner\", on = \"ref_hash\" ) \n",
    "ftr_05_Z = pd.read_csv( loc_ftr + \"\\\\cant_auc_tst.csv\" ); Z_var = Z_var.merge( ftr_05_Z, how = \"inner\", on = \"ref_hash\" ) \n",
    "ftr_06_Z = pd.read_csv( loc_ftr + \"\\\\cant_clk_tst.csv\" ); Z_var = Z_var.merge( ftr_06_Z, how = \"inner\", on = \"ref_hash\" ) \n",
    "ftr_07_Z = pd.read_csv( loc_ftr + \"\\\\cant_evt_tst.csv\" ); Z_var = Z_var.merge( ftr_07_Z, how = \"inner\", on = \"ref_hash\" ) \n",
    "ftr_08_Z = pd.read_csv( loc_ftr + \"\\\\cevt_atr_tst.csv\" ); Z_var = Z_var.merge( ftr_08_Z, how = \"inner\", on = \"ref_hash\" ) \n",
    "ftr_09_Z = pd.read_csv( loc_ftr + \"\\\\cins_atr_tst.csv\" ); Z_var = Z_var.merge( ftr_09_Z, how = \"inner\", on = \"ref_hash\" ) \n",
    "ftr_10_Z = pd.read_csv( loc_ftr + \"\\\\cins_imp_tst.csv\" ); Z_var = Z_var.merge( ftr_10_Z, how = \"inner\", on = \"ref_hash\" ) \n",
    "# ftr_11_Z = pd.read_csv( loc_ftr + \"\\\\clk_aftr_tst.csv\" ); Z_var = Z_var.merge( ftr_11_Z, how = \"inner\", on = \"ref_hash\" ) \n",
    "# ftr_12_Z = pd.read_csv( loc_ftr + \"\\\\clk_mday_tst.csv\" ); Z_var = Z_var.merge( ftr_12_Z, how = \"inner\", on = \"ref_hash\" ) \n",
    "# ftr_13_Z = pd.read_csv( loc_ftr + \"\\\\clk_morn_tst.csv\" ); Z_var = Z_var.merge( ftr_13_Z, how = \"inner\", on = \"ref_hash\" ) \n",
    "# ftr_14_Z = pd.read_csv( loc_ftr + \"\\\\clk_ngth_tst.csv\" ); Z_var = Z_var.merge( ftr_14_Z, how = \"inner\", on = \"ref_hash\" ) \n",
    "# ftr_15_Z = pd.read_csv( loc_ftr + \"\\\\event_id_tst.csv\" ); Z_var = Z_var.merge( ftr_15_Z, how = \"inner\", on = \"ref_hash\" ) \n",
    "# ftr_16_Z = pd.read_csv( loc_ftr + \"\\\\evt_aftr_tst.csv\" ); Z_var = Z_var.merge( ftr_16_Z, how = \"inner\", on = \"ref_hash\" ) \n",
    "# ftr_17_Z = pd.read_csv( loc_ftr + \"\\\\evt_mday_tst.csv\" ); Z_var = Z_var.merge( ftr_17_Z, how = \"inner\", on = \"ref_hash\" ) \n",
    "# ftr_18_Z = pd.read_csv( loc_ftr + \"\\\\evt_morn_tst.csv\" ); Z_var = Z_var.merge( ftr_18_Z, how = \"inner\", on = \"ref_hash\" ) \n",
    "# ftr_19_Z = pd.read_csv( loc_ftr + \"\\\\evt_nght_tst.csv\" ); Z_var = Z_var.merge( ftr_19_Z, how = \"inner\", on = \"ref_hash\" ) \n",
    "# ftr_20_Z = pd.read_csv( loc_ftr + \"\\\\frst_auc_tst.csv\" ); Z_var = Z_var.merge( ftr_20_Z, how = \"inner\", on = \"ref_hash\" ) \n",
    "# ftr_21_Z = pd.read_csv( loc_ftr + \"\\\\frst_clk_tst.csv\" ); Z_var = Z_var.merge( ftr_21_Z, how = \"inner\", on = \"ref_hash\" ) \n",
    "# ftr_22_Z = pd.read_csv( loc_ftr + \"\\\\frst_evt_tst.csv\" ); Z_var = Z_var.merge( ftr_22_Z, how = \"inner\", on = \"ref_hash\" ) \n",
    "# ftr_23_Z = pd.read_csv( loc_ftr + \"\\\\frst_ins_tst.csv\" ); Z_var = Z_var.merge( ftr_23_Z, how = \"inner\", on = \"ref_hash\" ) \n",
    "# ftr_24_Z = pd.read_csv( loc_ftr + \"\\\\hora_auc_tst.csv\" ); Z_var = Z_var.merge( ftr_24_Z, how = \"inner\", on = \"ref_hash\" ) \n",
    "# ftr_25_Z = pd.read_csv( loc_ftr + \"\\\\hr_f_evt_tst.csv\" ); Z_var = Z_var.merge( ftr_25_Z, how = \"inner\", on = \"ref_hash\" ) \n",
    "# ftr_26_Z = pd.read_csv( loc_ftr + \"\\\\ins_afme_tst.csv\" ); Z_var = Z_var.merge( ftr_26_Z, how = \"inner\", on = \"ref_hash\" ) \n",
    "# ftr_27_Z = pd.read_csv( loc_ftr + \"\\\\ins_mdoh_tst.csv\" ); Z_var = Z_var.merge( ftr_27_Z, how = \"inner\", on = \"ref_hash\" ) \n",
    "# ftr_28_Z = pd.read_csv( loc_ftr + \"\\\\ins_mroh_tst.csv\" ); Z_var = Z_var.merge( ftr_28_Z, how = \"inner\", on = \"ref_hash\" ) \n",
    "# ftr_29_Z = pd.read_csv( loc_ftr + \"\\\\ins_ngoh_tst.csv\" ); Z_var = Z_var.merge( ftr_29_Z, how = \"inner\", on = \"ref_hash\" ) \n",
    "# ftr_30_Z = pd.read_csv( loc_ftr + \"\\\\kind_evt_tst.csv\" ); Z_var = Z_var.merge( ftr_30_Z, how = \"inner\", on = \"ref_hash\" ) \n",
    "# ftr_31_Z = pd.read_csv( loc_ftr + \"\\\\last_auc_tst.csv\" ); Z_var = Z_var.merge( ftr_31_Z, how = \"inner\", on = \"ref_hash\" ) \n",
    "# ftr_32_Z = pd.read_csv( loc_ftr + \"\\\\last_evt_tst.csv\" ); Z_var = Z_var.merge( ftr_32_Z, how = \"inner\", on = \"ref_hash\" ) \n",
    "# ftr_33_Z = pd.read_csv( loc_ftr + \"\\\\last_ins_tst.csv\" ); Z_var = Z_var.merge( ftr_33_Z, how = \"inner\", on = \"ref_hash\" ) \n",
    "# ftr_34_Z = pd.read_csv( loc_ftr + \"\\\\m1oh_auc_tst.csv\" ); Z_var = Z_var.merge( ftr_34_Z, how = \"inner\", on = \"ref_hash\" ) \n",
    "# ftr_35_Z = pd.read_csv( loc_ftr + \"\\\\main_ahr_tst.csv\" ); Z_var = Z_var.merge( ftr_35_Z, how = \"inner\", on = \"ref_hash\" ) \n",
    "# ftr_36_Z = pd.read_csv( loc_ftr + \"\\\\main_ehr_tst.csv\" ); Z_var = Z_var.merge( ftr_36_Z, how = \"inner\", on = \"ref_hash\" ) \n",
    "# ftr_37_Z = pd.read_csv( loc_ftr + \"\\\\ref_type_tst.csv\" ); Z_var = Z_var.merge( ftr_37_Z, how = \"inner\", on = \"ref_hash\" ) \n",
    "# ftr_38_Z = pd.read_csv( loc_ftr + \"\\\\rh_encod_tst.csv\" ); Z_var = Z_var.merge( ftr_38_Z, how = \"inner\", on = \"ref_hash\" ) \n",
    "# ftr_39_Z = pd.read_csv( loc_ftr + \"\\\\sdia_auc_tst.csv\" ); Z_var = Z_var.merge( ftr_39_Z, how = \"inner\", on = \"ref_hash\" ) \n",
    "# ftr_40_Z = pd.read_csv( loc_ftr + \"\\\\srce_auc_tst.csv\" ); Z_var = Z_var.merge( ftr_40_Z, how = \"inner\", on = \"ref_hash\" ) \n",
    "# ftr_41_Z = pd.read_csv( loc_ftr + \"\\\\wifi_evt_tst.csv\" ); Z_var = Z_var.merge( ftr_41_Z, how = \"inner\", on = \"ref_hash\" ) "
   ]
  },
  {
   "cell_type": "markdown",
   "metadata": {},
   "source": [
    "# <span style=\"color:orange\">  Preparo los datos para entrenar </span>"
   ]
  },
  {
   "cell_type": "markdown",
   "metadata": {},
   "source": [
    "Con los datos 18-20 + \"21-23_sc\" entrenamos"
   ]
  },
  {
   "cell_type": "code",
   "execution_count": null,
   "metadata": {},
   "outputs": [],
   "source": [
    "Y_var = Y; X_var = X"
   ]
  },
  {
   "cell_type": "markdown",
   "metadata": {},
   "source": [
    "### Agregamos los features"
   ]
  },
  {
   "cell_type": "code",
   "execution_count": null,
   "metadata": {},
   "outputs": [],
   "source": [
    "ftr_01_X = pd.read_csv( loc_ftr + \"\\\\auc_aftr_trn.csv\" ); X_var = X_var.merge( ftr_01_X, how = \"inner\", on = \"ref_hash\" ) \n",
    "ftr_02_X = pd.read_csv( loc_ftr + \"\\\\auc_mday_trn.csv\" ); X_var = X_var.merge( ftr_02_X, how = \"inner\", on = \"ref_hash\" ) \n",
    "ftr_03_X = pd.read_csv( loc_ftr + \"\\\\auc_morn_trn.csv\" ); X_var = X_var.merge( ftr_03_X, how = \"inner\", on = \"ref_hash\" ) \n",
    "ftr_04_X = pd.read_csv( loc_ftr + \"\\\\auc_nght_trn.csv\" ); X_var = X_var.merge( ftr_04_X, how = \"inner\", on = \"ref_hash\" ) \n",
    "ftr_05_X = pd.read_csv( loc_ftr + \"\\\\cant_auc_trn.csv\" ); X_var = X_var.merge( ftr_05_X, how = \"inner\", on = \"ref_hash\" ) \n",
    "ftr_06_X = pd.read_csv( loc_ftr + \"\\\\cant_clk_trn.csv\" ); X_var = X_var.merge( ftr_06_X, how = \"inner\", on = \"ref_hash\" ) \n",
    "ftr_07_X = pd.read_csv( loc_ftr + \"\\\\cant_evt_trn.csv\" ); X_var = X_var.merge( ftr_07_X, how = \"inner\", on = \"ref_hash\" ) \n",
    "ftr_08_X = pd.read_csv( loc_ftr + \"\\\\cevt_atr_trn.csv\" ); X_var = X_var.merge( ftr_08_X, how = \"inner\", on = \"ref_hash\" ) \n",
    "ftr_09_X = pd.read_csv( loc_ftr + \"\\\\cins_atr_trn.csv\" ); X_var = X_var.merge( ftr_09_X, how = \"inner\", on = \"ref_hash\" ) \n",
    "ftr_10_X = pd.read_csv( loc_ftr + \"\\\\cins_imp_trn.csv\" ); X_var = X_var.merge( ftr_10_X, how = \"inner\", on = \"ref_hash\" ) \n",
    "# ftr_11_X = pd.read_csv( loc_ftr + \"\\\\clk_aftr_trn.csv\" ); X_var = X_var.merge( ftr_11_X, how = \"inner\", on = \"ref_hash\" ) \n",
    "# ftr_12_X = pd.read_csv( loc_ftr + \"\\\\clk_mday_trn.csv\" ); X_var = X_var.merge( ftr_12_X, how = \"inner\", on = \"ref_hash\" ) \n",
    "# ftr_13_X = pd.read_csv( loc_ftr + \"\\\\clk_morn_trn.csv\" ); X_var = X_var.merge( ftr_13_X, how = \"inner\", on = \"ref_hash\" ) \n",
    "# ftr_14_X = pd.read_csv( loc_ftr + \"\\\\clk_ngth_trn.csv\" ); X_var = X_var.merge( ftr_14_X, how = \"inner\", on = \"ref_hash\" ) \n",
    "# ftr_15_X = pd.read_csv( loc_ftr + \"\\\\event_id_trn.csv\" ); X_var = X_var.merge( ftr_15_X, how = \"inner\", on = \"ref_hash\" ) \n",
    "# ftr_16_X = pd.read_csv( loc_ftr + \"\\\\evt_aftr_trn.csv\" ); X_var = X_var.merge( ftr_16_X, how = \"inner\", on = \"ref_hash\" ) \n",
    "# ftr_17_X = pd.read_csv( loc_ftr + \"\\\\evt_mday_trn.csv\" ); X_var = X_var.merge( ftr_17_X, how = \"inner\", on = \"ref_hash\" ) \n",
    "# ftr_18_X = pd.read_csv( loc_ftr + \"\\\\evt_morn_trn.csv\" ); X_var = X_var.merge( ftr_18_X, how = \"inner\", on = \"ref_hash\" ) \n",
    "# ftr_19_X = pd.read_csv( loc_ftr + \"\\\\evt_nght_trn.csv\" ); X_var = X_var.merge( ftr_19_X, how = \"inner\", on = \"ref_hash\" ) \n",
    "# ftr_20_X = pd.read_csv( loc_ftr + \"\\\\frst_auc_trn.csv\" ); X_var = X_var.merge( ftr_20_X, how = \"inner\", on = \"ref_hash\" ) \n",
    "# ftr_21_X = pd.read_csv( loc_ftr + \"\\\\frst_clk_trn.csv\" ); X_var = X_var.merge( ftr_21_X, how = \"inner\", on = \"ref_hash\" ) \n",
    "# ftr_22_X = pd.read_csv( loc_ftr + \"\\\\frst_evt_trn.csv\" ); X_var = X_var.merge( ftr_22_X, how = \"inner\", on = \"ref_hash\" ) \n",
    "# ftr_23_X = pd.read_csv( loc_ftr + \"\\\\frst_ins_trn.csv\" ); X_var = X_var.merge( ftr_23_X, how = \"inner\", on = \"ref_hash\" ) \n",
    "# ftr_24_X = pd.read_csv( loc_ftr + \"\\\\hora_auc_trn.csv\" ); X_var = X_var.merge( ftr_24_X, how = \"inner\", on = \"ref_hash\" ) \n",
    "# ftr_25_X = pd.read_csv( loc_ftr + \"\\\\hr_f_evt_trn.csv\" ); X_var = X_var.merge( ftr_25_X, how = \"inner\", on = \"ref_hash\" ) \n",
    "# ftr_26_X = pd.read_csv( loc_ftr + \"\\\\ins_afme_trn.csv\" ); X_var = X_var.merge( ftr_26_X, how = \"inner\", on = \"ref_hash\" ) \n",
    "# ftr_27_X = pd.read_csv( loc_ftr + \"\\\\ins_mdoh_trn.csv\" ); X_var = X_var.merge( ftr_27_X, how = \"inner\", on = \"ref_hash\" ) \n",
    "# ftr_28_X = pd.read_csv( loc_ftr + \"\\\\ins_mroh_trn.csv\" ); X_var = X_var.merge( ftr_28_X, how = \"inner\", on = \"ref_hash\" ) \n",
    "# ftr_29_X = pd.read_csv( loc_ftr + \"\\\\ins_ngoh_trn.csv\" ); X_var = X_var.merge( ftr_29_X, how = \"inner\", on = \"ref_hash\" ) \n",
    "# ftr_30_X = pd.read_csv( loc_ftr + \"\\\\kind_evt_trn.csv\" ); X_var = X_var.merge( ftr_30_X, how = \"inner\", on = \"ref_hash\" ) \n",
    "# ftr_31_X = pd.read_csv( loc_ftr + \"\\\\last_auc_trn.csv\" ); X_var = X_var.merge( ftr_31_X, how = \"inner\", on = \"ref_hash\" ) \n",
    "# ftr_32_X = pd.read_csv( loc_ftr + \"\\\\last_evt_trn.csv\" ); X_var = X_var.merge( ftr_32_X, how = \"inner\", on = \"ref_hash\" ) \n",
    "# ftr_33_X = pd.read_csv( loc_ftr + \"\\\\last_ins_trn.csv\" ); X_var = X_var.merge( ftr_33_X, how = \"inner\", on = \"ref_hash\" ) \n",
    "# ftr_34_X = pd.read_csv( loc_ftr + \"\\\\m1oh_auc_trn.csv\" ); X_var = X_var.merge( ftr_34_X, how = \"inner\", on = \"ref_hash\" ) \n",
    "# ftr_35_X = pd.read_csv( loc_ftr + \"\\\\main_ahr_trn.csv\" ); X_var = X_var.merge( ftr_35_X, how = \"inner\", on = \"ref_hash\" ) \n",
    "# ftr_36_X = pd.read_csv( loc_ftr + \"\\\\main_ehr_trn.csv\" ); X_var = X_var.merge( ftr_36_X, how = \"inner\", on = \"ref_hash\" ) \n",
    "# ftr_37_X = pd.read_csv( loc_ftr + \"\\\\ref_type_trn.csv\" ); X_var = X_var.merge( ftr_37_X, how = \"inner\", on = \"ref_hash\" ) \n",
    "# ftr_38_X = pd.read_csv( loc_ftr + \"\\\\rh_encod_trn.csv\" ); X_var = X_var.merge( ftr_38_X, how = \"inner\", on = \"ref_hash\" ) \n",
    "# ftr_39_X = pd.read_csv( loc_ftr + \"\\\\sdia_auc_trn.csv\" ); X_var = X_var.merge( ftr_39_X, how = \"inner\", on = \"ref_hash\" ) \n",
    "# ftr_40_X = pd.read_csv( loc_ftr + \"\\\\srce_auc_trn.csv\" ); X_var = X_var.merge( ftr_40_X, how = \"inner\", on = \"ref_hash\" ) \n",
    "# ftr_41_X = pd.read_csv( loc_ftr + \"\\\\wifi_evt_trn.csv\" ); X_var = X_var.merge( ftr_41_X, how = \"inner\", on = \"ref_hash\" ) "
   ]
  },
  {
   "cell_type": "code",
   "execution_count": null,
   "metadata": {},
   "outputs": [],
   "source": [
    "X_var = X_var.merge( Y_var, how = \"inner\", on = \"ref_hash\" ); \n",
    "Z_var = Z_var.merge( W_var, how = \"inner\", on = \"ref_hash\" ); \n",
    "\n",
    "Y_var = X_var[ [\"21_23_sc\"] ]; X_var = X_var.drop( [\"ref_hash\", \"21_23_sc\"], axis = 1 )\n",
    "W_var = Z_var[ [\"24_26_sc\"] ]; Z_var = Z_var.drop( [\"ref_hash\", \"24_26_sc\"], axis = 1 )"
   ]
  },
  {
   "cell_type": "code",
   "execution_count": null,
   "metadata": {},
   "outputs": [],
   "source": [
    "for column in X_var.columns:\n",
    "    X_var[column] = X_var[column].fillna((X_var[column].mean()))\n",
    "\n",
    "for column in Z_var.columns:\n",
    "    Z_var[column] = Z_var[column].fillna((Z_var[column].mean()))"
   ]
  },
  {
   "cell_type": "markdown",
   "metadata": {},
   "source": [
    "# Prediccion con <span style=\"color:green\"> *Random Forest*</span> "
   ]
  },
  {
   "cell_type": "code",
   "execution_count": null,
   "metadata": {},
   "outputs": [],
   "source": [
    "prm = {\"max_depth\":4, \"random_state\":50, \"n_estimators\":250, \"oob_score\":True, \"criterion\":'mse'}\n",
    "\n",
    "estimator = RandomForestRegressor(bootstrap=True, criterion='mse', max_depth=3, max_leaf_nodes=None,\n",
    "           min_impurity_decrease=0.1, min_impurity_split=None,\n",
    "           min_samples_leaf=1, min_samples_split=10,\n",
    "           min_weight_fraction_leaf=0.1, n_estimators=200, n_jobs=None,\n",
    "           oob_score=True, random_state=0, verbose=0, warm_start=False)"
   ]
  },
  {
   "cell_type": "code",
   "execution_count": null,
   "metadata": {},
   "outputs": [],
   "source": [
    "fit = estimator.fit( X_var,Y_var )"
   ]
  },
  {
   "cell_type": "code",
   "execution_count": null,
   "metadata": {},
   "outputs": [],
   "source": [
    "prd = estimator.predict( Z_var )"
   ]
  },
  {
   "cell_type": "markdown",
   "metadata": {},
   "source": [
    "### Calculamos el RMSE"
   ]
  },
  {
   "cell_type": "code",
   "execution_count": null,
   "metadata": {},
   "outputs": [],
   "source": [
    "rmse = np.sqrt( mean_squared_error(W_var, prd) )\n",
    "print(\"RMSE: %f\" % (rmse) )"
   ]
  },
  {
   "cell_type": "code",
   "execution_count": null,
   "metadata": {},
   "outputs": [],
   "source": [
    "RMSE: 72762.380589\n"
   ]
  },
  {
   "cell_type": "markdown",
   "metadata": {},
   "source": [
    "### Probamos features"
   ]
  },
  {
   "cell_type": "code",
   "execution_count": null,
   "metadata": {},
   "outputs": [],
   "source": [
    "from numpy import sort\n",
    "from sklearn.feature_selection import SelectFromModel\n",
    "\n",
    "thresholds = sort(fit.feature_importances_)\n",
    "i = 0; pred = []; mod_sel = [];\n",
    "for thresh in thresholds:\n",
    "    # select features using threshold\n",
    "    selection = SelectFromModel(fit, threshold=thresh, prefit=True)\n",
    "    select_X = selection.transform(X_var)\n",
    "    # train model\n",
    "    selection_model = xgb.XGBRegressor( **prm )\n",
    "    mod_sel.append( selection_model.fit(select_X, Y_var) )\n",
    "    # eval model\n",
    "    select_Z = selection.transform(Z_var)\n",
    "    pred.append( selection_model.predict(select_Z) )\n",
    "    rmse = np.sqrt( mean_squared_error(pred[i], W_var) )\n",
    "    print(\"Thresh=%.3f, n=%d, RMSE:%f, model=%d\" % (thresh, select_X.shape[1], rmse, i) )\n",
    "    i = i + 1"
   ]
  },
  {
   "cell_type": "markdown",
   "metadata": {},
   "source": [
    "## Tunning de HyperParameters"
   ]
  },
  {
   "cell_type": "code",
   "execution_count": null,
   "metadata": {},
   "outputs": [],
   "source": [
    "from sklearn.model_selection import RandomizedSearchCV\n",
    "\n",
    "from sklearn.metrics import mean_squared_error, make_scorer\n",
    "#greater_is_better = False -> Transformar score_function en loss_function\n",
    "mse = make_scorer( mean_squared_error, greater_is_better = False )\n",
    "\n",
    "reg = RandomForestRegressor()\n",
    "\n",
    "tune_prms = {'max_depth': [1,2,3,4],\n",
    "             'n_estimators': [80,120,200,250],\n",
    "             'random_state': [0,10,50]\n",
    "            }\n",
    "\n",
    "grid = RandomizedSearchCV( estimator = estimator, param_distributions = tune_prms, cv = 10, n_jobs = 1, scoring = mse, n_iter = 20 ) \n",
    "grid.fit(X.fillna(0),Y.fillna(0))    \n",
    "\n",
    "# Results from Grid Search\n",
    "print(\"==========================================================\")\n",
    "print(\"||            Results from Grid Search                  ||\")\n",
    "print(\"==========================================================\")    \n",
    "    \n",
    "print(\"\\n The best estimator across ALL searched params:\\n\", grid.best_estimator_)\n",
    "print(\"\\n The best score across ALL searched params:\\n\", grid.best_score_)\n",
    "print(\"\\n The best parameters across ALL searched params:\\n\", grid.best_params_)"
   ]
  },
  {
   "cell_type": "markdown",
   "metadata": {},
   "source": [
    "## Ploteamos el Feature Importance"
   ]
  },
  {
   "cell_type": "code",
   "execution_count": 17,
   "metadata": {},
   "outputs": [
    {
     "name": "stdout",
     "output_type": "stream",
     "text": [
      "Feature ranking:\n",
      "1. feature 31 (0.610192)\n",
      "2. feature 3 (0.204599)\n",
      "3. feature 22 (0.150102)\n",
      "4. feature 9 (0.012492)\n",
      "5. feature 7 (0.007798)\n",
      "6. feature 8 (0.004516)\n",
      "7. feature 33 (0.004092)\n",
      "8. feature 35 (0.002691)\n",
      "9. feature 32 (0.000767)\n",
      "10. feature 4 (0.000536)\n",
      "11. feature 24 (0.000495)\n",
      "12. feature 36 (0.000310)\n",
      "13. feature 26 (0.000228)\n",
      "14. feature 5 (0.000209)\n",
      "15. feature 34 (0.000165)\n",
      "16. feature 6 (0.000158)\n",
      "17. feature 23 (0.000098)\n",
      "18. feature 12 (0.000097)\n",
      "19. feature 25 (0.000097)\n",
      "20. feature 2 (0.000068)\n",
      "21. feature 0 (0.000065)\n",
      "22. feature 19 (0.000035)\n",
      "23. feature 10 (0.000031)\n",
      "24. feature 30 (0.000031)\n",
      "25. feature 18 (0.000023)\n",
      "26. feature 20 (0.000021)\n",
      "27. feature 29 (0.000020)\n",
      "28. feature 21 (0.000019)\n",
      "29. feature 27 (0.000016)\n",
      "30. feature 1 (0.000013)\n",
      "31. feature 28 (0.000011)\n",
      "32. feature 15 (0.000004)\n",
      "33. feature 17 (0.000002)\n",
      "34. feature 14 (0.000000)\n",
      "35. feature 13 (0.000000)\n",
      "36. feature 16 (0.000000)\n",
      "37. feature 11 (0.000000)\n"
     ]
    },
    {
     "data": {
      "image/png": "[encoded data removed]",
      "text/plain": [
       "<Figure size 1080x1080 with 1 Axes>"
      ]
     },
     "metadata": {
      "needs_background": "light"
     },
     "output_type": "display_data"
    }
   ],
   "source": [
    "import matplotlib.pyplot as plt\n",
    "forest = estimator\n",
    "\n",
    "importances = forest.feature_importances_\n",
    "std = np.std([tree.feature_importances_ for tree in forest.estimators_],\n",
    "             axis=0)\n",
    "indices = np.argsort(importances)[::-1]\n",
    "features = X_var.columns\n",
    "# Print the feature ranking\n",
    "print(\"Feature ranking:\")\n",
    "\n",
    "#for f in range(X_var.shape[1]):\n",
    "#    print(\"%d. feature %d (%f)\" % (f + 1, indices[f], importances[indices[f]]))\n",
    "\n",
    "# Plot the feature importances of the forest\n",
    "plt.figure(figsize=(20, 15))\n",
    "plt.title(\"Feature importances\")\n",
    "plt.bar(range(X_var.shape[1]), importances[indices],\n",
    "       color=\"r\", yerr=std[indices], align=\"center\")\n",
    "plt.xticks(range(X_var.shape[1]), [features[i] for i in indices],rotation='vertical')\n",
    "plt.xlim([-1, X_var.shape[1]])\n",
    "plt.show()"
   ]
  },
  {
   "cell_type": "code",
   "execution_count": 4,
   "metadata": {},
   "outputs": [
    {
     "data": {
      "text/plain": [
       "['D:\\\\Documentos\\\\Facu\\\\Organizacion de Datos\\\\TP2\\\\Features\\\\FeaturesLocalST\\\\auc_aftr_trn.csv',\n",
       " 'D:\\\\Documentos\\\\Facu\\\\Organizacion de Datos\\\\TP2\\\\Features\\\\FeaturesLocalST\\\\auc_aftr_tst.csv',\n",
       " 'D:\\\\Documentos\\\\Facu\\\\Organizacion de Datos\\\\TP2\\\\Features\\\\FeaturesLocalST\\\\auc_mday_trn.csv',\n",
       " 'D:\\\\Documentos\\\\Facu\\\\Organizacion de Datos\\\\TP2\\\\Features\\\\FeaturesLocalST\\\\auc_mday_tst.csv',\n",
       " 'D:\\\\Documentos\\\\Facu\\\\Organizacion de Datos\\\\TP2\\\\Features\\\\FeaturesLocalST\\\\auc_morn_trn.csv',\n",
       " 'D:\\\\Documentos\\\\Facu\\\\Organizacion de Datos\\\\TP2\\\\Features\\\\FeaturesLocalST\\\\auc_morn_tst.csv',\n",
       " 'D:\\\\Documentos\\\\Facu\\\\Organizacion de Datos\\\\TP2\\\\Features\\\\FeaturesLocalST\\\\auc_nght_trn.csv',\n",
       " 'D:\\\\Documentos\\\\Facu\\\\Organizacion de Datos\\\\TP2\\\\Features\\\\FeaturesLocalST\\\\auc_nght_tst.csv',\n",
       " 'D:\\\\Documentos\\\\Facu\\\\Organizacion de Datos\\\\TP2\\\\Features\\\\FeaturesLocalST\\\\cant_auc_trn.csv',\n",
       " 'D:\\\\Documentos\\\\Facu\\\\Organizacion de Datos\\\\TP2\\\\Features\\\\FeaturesLocalST\\\\cant_auc_tst.csv',\n",
       " 'D:\\\\Documentos\\\\Facu\\\\Organizacion de Datos\\\\TP2\\\\Features\\\\FeaturesLocalST\\\\cant_clk_trn.csv',\n",
       " 'D:\\\\Documentos\\\\Facu\\\\Organizacion de Datos\\\\TP2\\\\Features\\\\FeaturesLocalST\\\\cant_clk_tst.csv',\n",
       " 'D:\\\\Documentos\\\\Facu\\\\Organizacion de Datos\\\\TP2\\\\Features\\\\FeaturesLocalST\\\\cant_evt_trn.csv',\n",
       " 'D:\\\\Documentos\\\\Facu\\\\Organizacion de Datos\\\\TP2\\\\Features\\\\FeaturesLocalST\\\\cant_evt_tst.csv',\n",
       " 'D:\\\\Documentos\\\\Facu\\\\Organizacion de Datos\\\\TP2\\\\Features\\\\FeaturesLocalST\\\\cevt_atr_trn.csv',\n",
       " 'D:\\\\Documentos\\\\Facu\\\\Organizacion de Datos\\\\TP2\\\\Features\\\\FeaturesLocalST\\\\cevt_atr_tst.csv',\n",
       " 'D:\\\\Documentos\\\\Facu\\\\Organizacion de Datos\\\\TP2\\\\Features\\\\FeaturesLocalST\\\\cins_atr_trn.csv',\n",
       " 'D:\\\\Documentos\\\\Facu\\\\Organizacion de Datos\\\\TP2\\\\Features\\\\FeaturesLocalST\\\\cins_atr_tst.csv',\n",
       " 'D:\\\\Documentos\\\\Facu\\\\Organizacion de Datos\\\\TP2\\\\Features\\\\FeaturesLocalST\\\\cins_imp_trn.csv',\n",
       " 'D:\\\\Documentos\\\\Facu\\\\Organizacion de Datos\\\\TP2\\\\Features\\\\FeaturesLocalST\\\\cins_imp_tst.csv',\n",
       " 'D:\\\\Documentos\\\\Facu\\\\Organizacion de Datos\\\\TP2\\\\Features\\\\FeaturesLocalST\\\\clk_aftr_trn.csv',\n",
       " 'D:\\\\Documentos\\\\Facu\\\\Organizacion de Datos\\\\TP2\\\\Features\\\\FeaturesLocalST\\\\clk_aftr_tst.csv',\n",
       " 'D:\\\\Documentos\\\\Facu\\\\Organizacion de Datos\\\\TP2\\\\Features\\\\FeaturesLocalST\\\\clk_mday_trn.csv',\n",
       " 'D:\\\\Documentos\\\\Facu\\\\Organizacion de Datos\\\\TP2\\\\Features\\\\FeaturesLocalST\\\\clk_mday_tst.csv',\n",
       " 'D:\\\\Documentos\\\\Facu\\\\Organizacion de Datos\\\\TP2\\\\Features\\\\FeaturesLocalST\\\\clk_morn_trn.csv',\n",
       " 'D:\\\\Documentos\\\\Facu\\\\Organizacion de Datos\\\\TP2\\\\Features\\\\FeaturesLocalST\\\\clk_morn_tst.csv',\n",
       " 'D:\\\\Documentos\\\\Facu\\\\Organizacion de Datos\\\\TP2\\\\Features\\\\FeaturesLocalST\\\\clk_ngth_trn.csv',\n",
       " 'D:\\\\Documentos\\\\Facu\\\\Organizacion de Datos\\\\TP2\\\\Features\\\\FeaturesLocalST\\\\clk_ngth_tst.csv',\n",
       " 'D:\\\\Documentos\\\\Facu\\\\Organizacion de Datos\\\\TP2\\\\Features\\\\FeaturesLocalST\\\\event_id_trn.csv',\n",
       " 'D:\\\\Documentos\\\\Facu\\\\Organizacion de Datos\\\\TP2\\\\Features\\\\FeaturesLocalST\\\\event_id_tst.csv',\n",
       " 'D:\\\\Documentos\\\\Facu\\\\Organizacion de Datos\\\\TP2\\\\Features\\\\FeaturesLocalST\\\\evt_aftr_trn.csv',\n",
       " 'D:\\\\Documentos\\\\Facu\\\\Organizacion de Datos\\\\TP2\\\\Features\\\\FeaturesLocalST\\\\evt_aftr_tst.csv',\n",
       " 'D:\\\\Documentos\\\\Facu\\\\Organizacion de Datos\\\\TP2\\\\Features\\\\FeaturesLocalST\\\\evt_mday_trn.csv',\n",
       " 'D:\\\\Documentos\\\\Facu\\\\Organizacion de Datos\\\\TP2\\\\Features\\\\FeaturesLocalST\\\\evt_mday_tst.csv',\n",
       " 'D:\\\\Documentos\\\\Facu\\\\Organizacion de Datos\\\\TP2\\\\Features\\\\FeaturesLocalST\\\\evt_morn_trn.csv',\n",
       " 'D:\\\\Documentos\\\\Facu\\\\Organizacion de Datos\\\\TP2\\\\Features\\\\FeaturesLocalST\\\\evt_morn_tst.csv',\n",
       " 'D:\\\\Documentos\\\\Facu\\\\Organizacion de Datos\\\\TP2\\\\Features\\\\FeaturesLocalST\\\\evt_nght_trn.csv',\n",
       " 'D:\\\\Documentos\\\\Facu\\\\Organizacion de Datos\\\\TP2\\\\Features\\\\FeaturesLocalST\\\\evt_nght_tst.csv',\n",
       " 'D:\\\\Documentos\\\\Facu\\\\Organizacion de Datos\\\\TP2\\\\Features\\\\FeaturesLocalST\\\\frst_auc_trn.csv',\n",
       " 'D:\\\\Documentos\\\\Facu\\\\Organizacion de Datos\\\\TP2\\\\Features\\\\FeaturesLocalST\\\\frst_auc_tst.csv',\n",
       " 'D:\\\\Documentos\\\\Facu\\\\Organizacion de Datos\\\\TP2\\\\Features\\\\FeaturesLocalST\\\\frst_clk_trn.csv',\n",
       " 'D:\\\\Documentos\\\\Facu\\\\Organizacion de Datos\\\\TP2\\\\Features\\\\FeaturesLocalST\\\\frst_clk_tst.csv',\n",
       " 'D:\\\\Documentos\\\\Facu\\\\Organizacion de Datos\\\\TP2\\\\Features\\\\FeaturesLocalST\\\\frst_evt_trn.csv',\n",
       " 'D:\\\\Documentos\\\\Facu\\\\Organizacion de Datos\\\\TP2\\\\Features\\\\FeaturesLocalST\\\\frst_evt_tst.csv',\n",
       " 'D:\\\\Documentos\\\\Facu\\\\Organizacion de Datos\\\\TP2\\\\Features\\\\FeaturesLocalST\\\\frst_ins_trn.csv',\n",
       " 'D:\\\\Documentos\\\\Facu\\\\Organizacion de Datos\\\\TP2\\\\Features\\\\FeaturesLocalST\\\\frst_ins_tst.csv',\n",
       " 'D:\\\\Documentos\\\\Facu\\\\Organizacion de Datos\\\\TP2\\\\Features\\\\FeaturesLocalST\\\\hora_auc_trn.csv',\n",
       " 'D:\\\\Documentos\\\\Facu\\\\Organizacion de Datos\\\\TP2\\\\Features\\\\FeaturesLocalST\\\\hora_auc_tst.csv',\n",
       " 'D:\\\\Documentos\\\\Facu\\\\Organizacion de Datos\\\\TP2\\\\Features\\\\FeaturesLocalST\\\\hr_f_evt_trn.csv',\n",
       " 'D:\\\\Documentos\\\\Facu\\\\Organizacion de Datos\\\\TP2\\\\Features\\\\FeaturesLocalST\\\\hr_f_evt_tst.csv',\n",
       " 'D:\\\\Documentos\\\\Facu\\\\Organizacion de Datos\\\\TP2\\\\Features\\\\FeaturesLocalST\\\\ins_afme_trn.csv',\n",
       " 'D:\\\\Documentos\\\\Facu\\\\Organizacion de Datos\\\\TP2\\\\Features\\\\FeaturesLocalST\\\\ins_afme_tst.csv',\n",
       " 'D:\\\\Documentos\\\\Facu\\\\Organizacion de Datos\\\\TP2\\\\Features\\\\FeaturesLocalST\\\\ins_mdoh_trn.csv',\n",
       " 'D:\\\\Documentos\\\\Facu\\\\Organizacion de Datos\\\\TP2\\\\Features\\\\FeaturesLocalST\\\\ins_mdoh_tst.csv',\n",
       " 'D:\\\\Documentos\\\\Facu\\\\Organizacion de Datos\\\\TP2\\\\Features\\\\FeaturesLocalST\\\\ins_mroh_trn.csv',\n",
       " 'D:\\\\Documentos\\\\Facu\\\\Organizacion de Datos\\\\TP2\\\\Features\\\\FeaturesLocalST\\\\ins_mroh_tst.csv',\n",
       " 'D:\\\\Documentos\\\\Facu\\\\Organizacion de Datos\\\\TP2\\\\Features\\\\FeaturesLocalST\\\\ins_ngoh_trn.csv',\n",
       " 'D:\\\\Documentos\\\\Facu\\\\Organizacion de Datos\\\\TP2\\\\Features\\\\FeaturesLocalST\\\\ins_ngoh_tst.csv',\n",
       " 'D:\\\\Documentos\\\\Facu\\\\Organizacion de Datos\\\\TP2\\\\Features\\\\FeaturesLocalST\\\\kind_evt_trn.csv',\n",
       " 'D:\\\\Documentos\\\\Facu\\\\Organizacion de Datos\\\\TP2\\\\Features\\\\FeaturesLocalST\\\\kind_evt_tst.csv',\n",
       " 'D:\\\\Documentos\\\\Facu\\\\Organizacion de Datos\\\\TP2\\\\Features\\\\FeaturesLocalST\\\\last_auc_trn.csv',\n",
       " 'D:\\\\Documentos\\\\Facu\\\\Organizacion de Datos\\\\TP2\\\\Features\\\\FeaturesLocalST\\\\last_auc_tst.csv',\n",
       " 'D:\\\\Documentos\\\\Facu\\\\Organizacion de Datos\\\\TP2\\\\Features\\\\FeaturesLocalST\\\\last_evt_trn.csv',\n",
       " 'D:\\\\Documentos\\\\Facu\\\\Organizacion de Datos\\\\TP2\\\\Features\\\\FeaturesLocalST\\\\last_evt_tst.csv',\n",
       " 'D:\\\\Documentos\\\\Facu\\\\Organizacion de Datos\\\\TP2\\\\Features\\\\FeaturesLocalST\\\\last_ins_trn.csv',\n",
       " 'D:\\\\Documentos\\\\Facu\\\\Organizacion de Datos\\\\TP2\\\\Features\\\\FeaturesLocalST\\\\last_ins_tst.csv',\n",
       " 'D:\\\\Documentos\\\\Facu\\\\Organizacion de Datos\\\\TP2\\\\Features\\\\FeaturesLocalST\\\\m1oh_auc_trn.csv',\n",
       " 'D:\\\\Documentos\\\\Facu\\\\Organizacion de Datos\\\\TP2\\\\Features\\\\FeaturesLocalST\\\\m1oh_auc_tst.csv',\n",
       " 'D:\\\\Documentos\\\\Facu\\\\Organizacion de Datos\\\\TP2\\\\Features\\\\FeaturesLocalST\\\\main_ahr_trn.csv',\n",
       " 'D:\\\\Documentos\\\\Facu\\\\Organizacion de Datos\\\\TP2\\\\Features\\\\FeaturesLocalST\\\\main_ahr_tst.csv',\n",
       " 'D:\\\\Documentos\\\\Facu\\\\Organizacion de Datos\\\\TP2\\\\Features\\\\FeaturesLocalST\\\\main_ehr_trn.csv',\n",
       " 'D:\\\\Documentos\\\\Facu\\\\Organizacion de Datos\\\\TP2\\\\Features\\\\FeaturesLocalST\\\\main_ehr_tst.csv',\n",
       " 'D:\\\\Documentos\\\\Facu\\\\Organizacion de Datos\\\\TP2\\\\Features\\\\FeaturesLocalST\\\\ref_type_trn.csv',\n",
       " 'D:\\\\Documentos\\\\Facu\\\\Organizacion de Datos\\\\TP2\\\\Features\\\\FeaturesLocalST\\\\ref_type_tst.csv',\n",
       " 'D:\\\\Documentos\\\\Facu\\\\Organizacion de Datos\\\\TP2\\\\Features\\\\FeaturesLocalST\\\\rh_encod_trn.csv',\n",
       " 'D:\\\\Documentos\\\\Facu\\\\Organizacion de Datos\\\\TP2\\\\Features\\\\FeaturesLocalST\\\\rh_encod_tst.csv',\n",
       " 'D:\\\\Documentos\\\\Facu\\\\Organizacion de Datos\\\\TP2\\\\Features\\\\FeaturesLocalST\\\\sdia_auc_trn.csv',\n",
       " 'D:\\\\Documentos\\\\Facu\\\\Organizacion de Datos\\\\TP2\\\\Features\\\\FeaturesLocalST\\\\sdia_auc_tst.csv',\n",
       " 'D:\\\\Documentos\\\\Facu\\\\Organizacion de Datos\\\\TP2\\\\Features\\\\FeaturesLocalST\\\\srce_auc_trn.csv',\n",
       " 'D:\\\\Documentos\\\\Facu\\\\Organizacion de Datos\\\\TP2\\\\Features\\\\FeaturesLocalST\\\\srce_auc_tst.csv',\n",
       " 'D:\\\\Documentos\\\\Facu\\\\Organizacion de Datos\\\\TP2\\\\Features\\\\FeaturesLocalST\\\\wifi_evt_trn.csv',\n",
       " 'D:\\\\Documentos\\\\Facu\\\\Organizacion de Datos\\\\TP2\\\\Features\\\\FeaturesLocalST\\\\wifi_evt_tst.csv']"
      ]
     },
     "execution_count": 4,
     "metadata": {},
     "output_type": "execute_result"
    }
   ],
   "source": [
    "import glob\n",
    "glob.glob(\"D:\\Documentos\\Facu\\Organizacion de Datos\\TP2\\Features\\FeaturesLocalST\\*.csv\")"
   ]
  }
 ],
 "metadata": {
  "kernelspec": {
   "display_name": "Python 3",
   "language": "python",
   "name": "python3"
  },
  "language_info": {
   "codemirror_mode": {
    "name": "ipython",
    "version": 3
   },
   "file_extension": ".py",
   "mimetype": "text/x-python",
   "name": "python",
   "nbconvert_exporter": "python",
   "pygments_lexer": "ipython3",
   "version": "3.7.3"
  }
 },
 "nbformat": 4,
 "nbformat_minor": 2
}
