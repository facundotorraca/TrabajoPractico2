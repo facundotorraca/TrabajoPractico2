{
 "cells": [
  {
   "cell_type": "code",
   "execution_count": 22,
   "metadata": {},
   "outputs": [],
   "source": [
    "import pandas as pd\n",
    "import numpy as np\n",
    "import warnings as wn\n",
    "\n",
    "wn.simplefilter( \"ignore\" )"
   ]
  },
  {
   "cell_type": "code",
   "execution_count": 23,
   "metadata": {},
   "outputs": [],
   "source": [
    "loc_lbl = r\"D:\\FacundoTorraca\\Documents\\TP2_Machine_Learning\\Labels\""
   ]
  },
  {
   "cell_type": "code",
   "execution_count": 24,
   "metadata": {},
   "outputs": [],
   "source": [
    "loc_ftr = r\"D:\\FacundoTorraca\\Documents\\TP2_Machine_Learning\\Features\\ftr_ins\""
   ]
  },
  {
   "cell_type": "code",
   "execution_count": 25,
   "metadata": {},
   "outputs": [],
   "source": [
    "ins_lb = pd.read_csv( loc_lbl + \"\\\\ins_lb.csv\", dtype = {\"obs_18_20\":\"bool\", \"obs_21_23\":\"bool\", \"obs_24_26\":\"bool\"} )"
   ]
  },
  {
   "cell_type": "markdown",
   "metadata": {},
   "source": [
    "### Filtro de manera que tenga los datos necesarios"
   ]
  },
  {
   "cell_type": "code",
   "execution_count": 26,
   "metadata": {},
   "outputs": [],
   "source": [
    "rh_18_20 = pd.read_csv( \"D:\\FacundoTorraca\\Documents\\TP2_Machine_Learning\\Training Sets\\ins_18_20.csv\" ); rh_18_20 = rh_18_20[\"ref_hash\"].drop_duplicates().tolist()\n",
    "rh_21_23 = pd.read_csv( \"D:\\FacundoTorraca\\Documents\\TP2_Machine_Learning\\Training Sets\\ins_21_23.csv\" ); rh_21_23 = rh_21_23[\"ref_hash\"].drop_duplicates().tolist()"
   ]
  },
  {
   "cell_type": "code",
   "execution_count": 27,
   "metadata": {},
   "outputs": [],
   "source": [
    "set_trn = ins_lb.loc[ ins_lb[\"ref_hash\"].isin( rh_18_20 ), [\"ref_hash\", \"21_23_sc\", \"obs_21_23\"] ]\n",
    "set_tst = ins_lb.loc[ ins_lb[\"ref_hash\"].isin( rh_21_23 ), [\"ref_hash\", \"24_26_sc\", \"obs_24_26\"] ]\n",
    "\n",
    "t_lim = 259200; max_t = 3800\n",
    "set_trn_loc = pd.concat( [ set_trn.loc[ set_trn[\"21_23_sc\"] < t_lim ], set_trn.loc[ set_trn[\"21_23_sc\"] == t_lim ].reset_index( drop = True ).loc[: max_t] ], axis = 0 ).sample(frac=1).reset_index(drop=True)\n",
    "set_tst_loc = pd.concat( [ set_tst.loc[ set_tst[\"24_26_sc\"] < t_lim ], set_tst.loc[ set_tst[\"24_26_sc\"] == t_lim ].reset_index( drop = True ).loc[: max_t] ], axis = 0 ).sample(frac=1).reset_index(drop=True)"
   ]
  },
  {
   "cell_type": "markdown",
   "metadata": {},
   "source": [
    "### Creamos los Train/Test"
   ]
  },
  {
   "cell_type": "code",
   "execution_count": 28,
   "metadata": {},
   "outputs": [],
   "source": [
    "Z = set_tst[ [\"ref_hash\"] ] #Datos test\n",
    "W = set_tst[ [\"ref_hash\",\"24_26_sc\", \"obs_24_26\"] ] #Label test"
   ]
  },
  {
   "cell_type": "code",
   "execution_count": 29,
   "metadata": {},
   "outputs": [],
   "source": [
    "X = set_trn[ [\"ref_hash\"] ] #Datos train\n",
    "Y = set_trn[ [\"ref_hash\",\"21_23_sc\", \"obs_21_23\"] ] #Label train"
   ]
  },
  {
   "cell_type": "code",
   "execution_count": 30,
   "metadata": {},
   "outputs": [],
   "source": [
    "Z_loc = set_tst_loc[ [\"ref_hash\"] ] #Datos test reducido\n",
    "W_loc = set_tst_loc[ [\"ref_hash\",\"24_26_sc\",\"obs_24_26\"] ] #Label test reducido"
   ]
  },
  {
   "cell_type": "code",
   "execution_count": 31,
   "metadata": {},
   "outputs": [],
   "source": [
    "X_loc = set_trn_loc[ [\"ref_hash\"] ] #Datos train reducido\n",
    "Y_loc = set_trn_loc[ [\"ref_hash\",\"21_23_sc\",\"obs_21_23\"] ] #Label train reducido"
   ]
  },
  {
   "cell_type": "markdown",
   "metadata": {},
   "source": [
    "# <span style=\"color:orange\">  Preparo los datos para predecir </span>\n",
    "Con los datos 21-23 predecimos \"24-26_sc\""
   ]
  },
  {
   "cell_type": "code",
   "execution_count": 260,
   "metadata": {},
   "outputs": [],
   "source": [
    "Z_var = Z_loc\n",
    "W_var = W_loc"
   ]
  },
  {
   "cell_type": "markdown",
   "metadata": {},
   "source": [
    "### Agregamos los features "
   ]
  },
  {
   "cell_type": "code",
   "execution_count": 261,
   "metadata": {},
   "outputs": [],
   "source": [
    "ftr_01_Z = pd.read_csv( loc_ftr + \"\\\\sin_hour_21_23.csv\" ); Z_var = Z_var.merge( ftr_01_Z, how = \"inner\", on = \"ref_hash\" ) \n",
    "ftr_02_Z = pd.read_csv( loc_ftr + \"\\\\cant_ins_21_23.csv\" ); Z_var = Z_var.merge( ftr_02_Z, how = \"inner\", on = \"ref_hash\" ) \n",
    "#ftr_03_Z = pd.read_csv( loc_ftr + \"\\\\cins_imp_21_23.csv\" ); Z_var = Z_var.merge( ftr_03_Z, how = \"inner\", on = \"ref_hash\" ) \n",
    "#ftr_04_Z = pd.read_csv( loc_ftr + \"\\\\cant_evt_21_23.csv\" ); Z_var = Z_var.merge( ftr_04_Z, how = \"inner\", on = \"ref_hash\" )\n",
    "ftr_05_Z = pd.read_csv( loc_ftr + \"\\\\cant_auc_21_23.csv\" ); Z_var = Z_var.merge( ftr_05_Z, how = \"inner\", on = \"ref_hash\" ) #FeaturesWorking\n",
    "#ftr_06_Z = pd.read_csv( loc_ftr + \"\\\\wifi_ins_21_23.csv\" ); Z_var = Z_var.merge( ftr_06_Z, how = \"inner\", on = \"ref_hash\" )\n",
    "ftr_07_Z = pd.read_csv( loc_ftr + \"\\\\main_app_21_23.csv\" ); Z_var = Z_var.merge( ftr_07_Z, how = \"inner\", on = \"ref_hash\" ) #FeaturesWorking \n",
    "#ftr_08_Z = pd.read_csv( loc_ftr + \"\\\\type_ins_21_23.csv\" ); Z_var = Z_var.merge( ftr_08_Z, how = \"inner\", on = \"ref_hash\" ) \n",
    "#ftr_09_Z = pd.read_csv( loc_ftr + \"\\\\ref_type_21_23.csv\" ); Z_var = Z_var.merge( ftr_09_Z, how = \"inner\", on = \"ref_hash\" ) \n",
    "ftr_10_Z = pd.read_csv( loc_ftr + \"\\\\ip_encod_21_23.csv\" ); Z_var = Z_var.merge( ftr_10_Z, how = \"inner\", on = \"ref_hash\" ) \n",
    "ftr_11_Z = pd.read_csv( loc_ftr + \"\\\\frst_ins_21_23.csv\" ); Z_var = Z_var.merge( ftr_11_Z, how = \"inner\", on = \"ref_hash\" ) #FeaturesWorking\n",
    "#ftr_12_Z = pd.read_csv( loc_ftr + \"\\\\cevt_atr_21_23.csv\" ); Z_var = Z_var.merge( ftr_12_Z, how = \"inner\", on = \"ref_hash\" )\n",
    "ftr_13_Z = pd.read_csv( loc_ftr + \"\\\\kind_evt_21_23.csv\" ); Z_var = Z_var.merge( ftr_13_Z, how = \"inner\", on = \"ref_hash\" )\n",
    "ftr_14_Z = pd.read_csv( loc_ftr + \"\\\\frst_auc_21_23.csv\" ); Z_var = Z_var.merge( ftr_14_Z, how = \"inner\", on = \"ref_hash\" ) #FeaturesWorking"
   ]
  },
  {
   "cell_type": "markdown",
   "metadata": {},
   "source": [
    "# <span style=\"color:orange\">  Preparo los datos para entrenar </span>"
   ]
  },
  {
   "cell_type": "markdown",
   "metadata": {},
   "source": [
    "Con los datos 18-20 + \"21-23_sc\" entrenamos"
   ]
  },
  {
   "cell_type": "code",
   "execution_count": 262,
   "metadata": {},
   "outputs": [],
   "source": [
    "Y_var = Y_loc\n",
    "X_var = X_loc"
   ]
  },
  {
   "cell_type": "markdown",
   "metadata": {},
   "source": [
    "### Agregamos los features"
   ]
  },
  {
   "cell_type": "code",
   "execution_count": 263,
   "metadata": {},
   "outputs": [],
   "source": [
    "ftr_01_X = pd.read_csv( loc_ftr + \"\\\\sin_hour_18_20.csv\" ); X_var = X_var.merge( ftr_01_X, how = \"inner\", on = \"ref_hash\" ) \n",
    "ftr_02_X = pd.read_csv( loc_ftr + \"\\\\cant_ins_18_20.csv\" ); X_var = X_var.merge( ftr_02_X, how = \"inner\", on = \"ref_hash\" ) \n",
    "#ftr_03_X = pd.read_csv( loc_ftr + \"\\\\cins_imp_18_20.csv\" ); X_var = X_var.merge( ftr_03_X, how = \"inner\", on = \"ref_hash\" ) \n",
    "#ftr_04_X = pd.read_csv( loc_ftr + \"\\\\cant_evt_18_20.csv\" ); X_var = X_var.merge( ftr_04_X, how = \"inner\", on = \"ref_hash\" )\n",
    "ftr_05_X = pd.read_csv( loc_ftr + \"\\\\cant_auc_18_20.csv\" ); X_var = X_var.merge( ftr_05_X, how = \"inner\", on = \"ref_hash\" ) #FeaturesWorking\n",
    "#ftr_06_X = pd.read_csv( loc_ftr + \"\\\\wifi_ins_18_20.csv\" ); X_var = X_var.merge( ftr_06_X, how = \"inner\", on = \"ref_hash\" )\n",
    "ftr_07_X = pd.read_csv( loc_ftr + \"\\\\main_app_18_20.csv\" ); X_var = X_var.merge( ftr_07_X, how = \"inner\", on = \"ref_hash\" ) #FeaturesWorking\n",
    "#ftr_08_X = pd.read_csv( loc_ftr + \"\\\\type_ins_18_20.csv\" ); X_var = X_var.merge( ftr_08_X, how = \"inner\", on = \"ref_hash\" )\n",
    "#ftr_09_X = pd.read_csv( loc_ftr + \"\\\\ref_type_18_20.csv\" ); X_var = X_var.merge( ftr_09_X, how = \"inner\", on = \"ref_hash\" ) \n",
    "ftr_10_X = pd.read_csv( loc_ftr + \"\\\\ip_encod_18_20.csv\" ); X_var = X_var.merge( ftr_10_X, how = \"inner\", on = \"ref_hash\" ) \n",
    "ftr_11_X = pd.read_csv( loc_ftr + \"\\\\frst_ins_18_20.csv\" ); X_var = X_var.merge( ftr_11_X, how = \"inner\", on = \"ref_hash\" ) #FeaturesWorking\n",
    "#ftr_12_X = pd.read_csv( loc_ftr + \"\\\\cevt_atr_18_20.csv\" ); X_var = X_var.merge( ftr_12_X, how = \"inner\", on = \"ref_hash\" ) \n",
    "ftr_13_X = pd.read_csv( loc_ftr + \"\\\\kind_evt_18_20.csv\" ); X_var = X_var.merge( ftr_13_X, how = \"inner\", on = \"ref_hash\" )\n",
    "ftr_14_X = pd.read_csv( loc_ftr + \"\\\\frst_auc_18_20.csv\" ); X_var = X_var.merge( ftr_14_X, how = \"inner\", on = \"ref_hash\" ) #FeaturesWorking"
   ]
  },
  {
   "cell_type": "markdown",
   "metadata": {},
   "source": [
    "## Reacomodamos los SC para que queden junto a su ref_hash correspondiente"
   ]
  },
  {
   "cell_type": "code",
   "execution_count": 264,
   "metadata": {},
   "outputs": [],
   "source": [
    "X_var = X_var.merge( Y_var, how = \"inner\", on = \"ref_hash\" ); Y_var = X_var[ [\"21_23_sc\",\"obs_21_23\"] ]\n",
    "Z_var = Z_var.merge( W_var, how = \"inner\", on = \"ref_hash\" ); W_var = Z_var[ [\"24_26_sc\",\"obs_24_26\"] ]"
   ]
  },
  {
   "cell_type": "markdown",
   "metadata": {},
   "source": [
    "## Dropeamos algunos valores maximos (No convirtieron)\n",
    "\n",
    "Los \"loc\" es el DataFrame de entrenamiento recortado con 200 valores maximos (No conversion) y 3848 valores que convirtieron"
   ]
  },
  {
   "cell_type": "code",
   "execution_count": 265,
   "metadata": {},
   "outputs": [],
   "source": [
    "X_var = X_var.drop( [\"ref_hash\", \"21_23_sc\",\"obs_21_23\"], axis = 1 )\n",
    "Z_var = Z_var.drop( [\"ref_hash\", \"24_26_sc\",\"obs_24_26\"], axis = 1 )"
   ]
  },
  {
   "cell_type": "markdown",
   "metadata": {},
   "source": [
    "# Prediccion con <span style=\"color:green\"> *XGBoost*</span> -  <span style=\"color:orange\"> *Classifier*</span>"
   ]
  },
  {
   "cell_type": "code",
   "execution_count": 266,
   "metadata": {},
   "outputs": [],
   "source": [
    "from xgboost import XGBClassifier\n",
    "\n",
    "Y_var_clf = Y_var.drop( [\"21_23_sc\"], axis = 1 )[\"obs_21_23\"].apply( lambda x: int(x) ).to_frame()\n",
    "W_var_clf = W_var.drop( [\"24_26_sc\"], axis = 1 )[\"obs_24_26\"].apply( lambda x: int(x) ).to_frame()"
   ]
  },
  {
   "cell_type": "code",
   "execution_count": 267,
   "metadata": {},
   "outputs": [],
   "source": [
    "prm = { \"max_depth\": 3, \"learning_rate\":0.101, \"n_estimators\":500, \"objective\":'binary:logistic', \"booster\":'gbtree', \"colsample_bytree\" : 0.3 }\n",
    "\n",
    "classfier = XGBClassifier( **prm )"
   ]
  },
  {
   "cell_type": "code",
   "execution_count": 268,
   "metadata": {},
   "outputs": [],
   "source": [
    "mdl_clf = classfier.fit( X_var, Y_var_clf )"
   ]
  },
  {
   "cell_type": "code",
   "execution_count": 269,
   "metadata": {},
   "outputs": [],
   "source": [
    "prd_clf = mdl_clf.predict( Z_var )\n",
    "predictions = [round(value) for value in prd_clf]"
   ]
  },
  {
   "cell_type": "code",
   "execution_count": 270,
   "metadata": {},
   "outputs": [
    {
     "name": "stdout",
     "output_type": "stream",
     "text": [
      "Accuracy: 56.45%\n"
     ]
    }
   ],
   "source": [
    "from sklearn.metrics import accuracy_score\n",
    "accuracy = accuracy_score( W_var_clf, predictions)\n",
    "print(\"Accuracy: %.2f%%\" % (accuracy * 100.0) )"
   ]
  },
  {
   "cell_type": "code",
   "execution_count": 271,
   "metadata": {},
   "outputs": [
    {
     "data": {
      "text/plain": [
       "4239"
      ]
     },
     "execution_count": 271,
     "metadata": {},
     "output_type": "execute_result"
    }
   ],
   "source": [
    "(W_var_clf[\"obs_24_26\"] == prd_clf).sum()"
   ]
  },
  {
   "cell_type": "code",
   "execution_count": 272,
   "metadata": {},
   "outputs": [
    {
     "data": {
      "image/png": "[encoded data removed]",
      "text/plain": [
       "<Figure size 720x720 with 1 Axes>"
      ]
     },
     "metadata": {
      "needs_background": "light"
     },
     "output_type": "display_data"
    }
   ],
   "source": [
    "import matplotlib.pyplot as plt\n",
    "import xgboost as xgb\n",
    "xgb.plot_importance(mdl_clf)\n",
    "plt.rcParams['figure.figsize'] = [10, 10]\n",
    "plt.show()"
   ]
  },
  {
   "cell_type": "code",
   "execution_count": null,
   "metadata": {},
   "outputs": [],
   "source": []
  }
 ],
 "metadata": {
  "kernelspec": {
   "display_name": "Python 3",
   "language": "python",
   "name": "python3"
  },
  "language_info": {
   "codemirror_mode": {
    "name": "ipython",
    "version": 3
   },
   "file_extension": ".py",
   "mimetype": "text/x-python",
   "name": "python",
   "nbconvert_exporter": "python",
   "pygments_lexer": "ipython3",
   "version": "3.7.0"
  }
 },
 "nbformat": 4,
 "nbformat_minor": 2
}
