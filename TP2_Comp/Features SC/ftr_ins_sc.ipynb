{
 "cells": [
  {
   "cell_type": "code",
   "execution_count": 1,
   "metadata": {},
   "outputs": [],
   "source": [
    "import pandas as pd\n",
    "import numpy as np\n",
    "import datetime as dt\n",
    "import warnings as wn\n",
    "import sklearn.preprocessing as skpre\n",
    "import category_encoders as ce\n",
    "\n",
    "wn.simplefilter( \"ignore\" )"
   ]
  },
  {
   "cell_type": "code",
   "execution_count": 2,
   "metadata": {},
   "outputs": [],
   "source": [
    "loc_ftr = r\"D:\\FacundoTorraca\\Documents\\TP2_Machine_Learning_v4\\Features\\FeaturesSC\""
   ]
  },
  {
   "cell_type": "markdown",
   "metadata": {},
   "source": [
    "## <span style=\"color:yellow\"> **Preparamos el set de entramiento para sacar features** </span> "
   ]
  },
  {
   "cell_type": "code",
   "execution_count": 3,
   "metadata": {},
   "outputs": [],
   "source": [
    "loc_ts = r\"D:\\FacundoTorraca\\Documents\\TP2_Machine_Learning_v4\\Training Sets\""
   ]
  },
  {
   "cell_type": "code",
   "execution_count": 4,
   "metadata": {},
   "outputs": [],
   "source": [
    "ins_18_20 = pd.read_csv( loc_ts + \"\\\\ins_18_20.csv\" ); ins_18_20[\"_sc\"] = pd.to_datetime(ins_18_20[\"date\"]) - dt.datetime( year = 2019, month = 4, day = 18 ); \n",
    "ins_18_20[\"_sc\"] = ins_18_20[\"_sc\"].dt.total_seconds();\n",
    "ins_21_23 = pd.read_csv( loc_ts + \"\\\\ins_21_23.csv\" ); ins_21_23[\"_sc\"] = pd.to_datetime(ins_21_23[\"date\"]) - dt.datetime( year = 2019, month = 4, day = 21 ); \n",
    "ins_21_23[\"_sc\"] = ins_21_23[\"_sc\"].dt.total_seconds(); "
   ]
  },
  {
   "cell_type": "code",
   "execution_count": 5,
   "metadata": {},
   "outputs": [],
   "source": [
    "ins_18_20_frt = ins_18_20.sort_values( by = [\"ref_hash\",\"_sc\"], ascending = True ).drop_duplicates( subset = [\"ref_hash\"], keep = \"first\" )\n",
    "ins_21_23_frt = ins_21_23.sort_values( by = [\"ref_hash\",\"_sc\"], ascending = True ).drop_duplicates( subset = [\"ref_hash\"], keep = \"first\" )"
   ]
  },
  {
   "cell_type": "markdown",
   "metadata": {},
   "source": [
    "## <span style=\"color:yellow\"> **Preparamos el ref_hash de cada ventana** </span> "
   ]
  },
  {
   "cell_type": "code",
   "execution_count": 6,
   "metadata": {},
   "outputs": [],
   "source": [
    "loc_lb = r\"D:\\FacundoTorraca\\Documents\\TP2_Machine_Learning_v4\\Labels\""
   ]
  },
  {
   "cell_type": "code",
   "execution_count": 7,
   "metadata": {},
   "outputs": [],
   "source": [
    "lb_ins_21_23 = pd.read_csv( loc_lb + \"\\\\label_ins_21_23.csv\" );\n",
    "lb_ins_24_26 = pd.read_csv( loc_lb + \"\\\\label_ins_24_26.csv\" ); "
   ]
  },
  {
   "cell_type": "code",
   "execution_count": 8,
   "metadata": {},
   "outputs": [],
   "source": [
    "rh_trn = lb_ins_21_23[ [\"ref_hash\"] ]\n",
    "rh_tst = lb_ins_24_26[ [\"ref_hash\"] ]\n",
    "\n",
    "tg_trn = lb_ins_21_23[ [\"21_23_sc\"] ]\n",
    "tg_tst = lb_ins_24_26[ [\"24_26_sc\"] ]"
   ]
  },
  {
   "cell_type": "markdown",
   "metadata": {},
   "source": [
    "## <span style=\"color:yellow\"> **=======================================================================================================** </span> "
   ]
  },
  {
   "cell_type": "markdown",
   "metadata": {},
   "source": [
    "## <span style=\"color:green\"> **Cantidad de instalaciones por dispositivo en la ventana previa a la conversion** </span> "
   ]
  },
  {
   "cell_type": "code",
   "execution_count": 9,
   "metadata": {},
   "outputs": [],
   "source": [
    "cant_ins_trn = rh_trn.copy()\n",
    "cant_ins_tst = rh_tst.copy()\n",
    "\n",
    "cant_ins_trn = cant_ins_trn.merge( ins_18_20[\"ref_hash\"].value_counts().to_frame().reset_index().rename( columns = {\"ref_hash\": \"cant_ins\", \"index\":\"ref_hash\"} ), how = \"left\", on = \"ref_hash\" ).fillna( 0 )\n",
    "cant_ins_tst = cant_ins_tst.merge( ins_21_23[\"ref_hash\"].value_counts().to_frame().reset_index().rename( columns = {\"ref_hash\": \"cant_ins\", \"index\":\"ref_hash\"} ), how = \"left\", on = \"ref_hash\" ).fillna( 0 )\n",
    "\n",
    "cant_ins_trn.to_csv( loc_ftr + \"\\\\cant_ins_trn.csv\", index = False )\n",
    "cant_ins_tst.to_csv( loc_ftr + \"\\\\cant_ins_tst.csv\", index = False )"
   ]
  },
  {
   "cell_type": "markdown",
   "metadata": {},
   "source": [
    "## <span style=\"color:green\"> **Aplicacion mas instalada por el usuario** </span>\n",
    "\n",
    "#### <span style=\"color:orange\"> **Mean Encoding** </span> (Usamos el promedio de la cantidad de veces que que es la app principal de algun dispositivo)"
   ]
  },
  {
   "cell_type": "code",
   "execution_count": 10,
   "metadata": {},
   "outputs": [],
   "source": [
    "main_app_trn = rh_trn.copy()\n",
    "main_app_tst = rh_tst.copy()\n",
    "\n",
    "app_mas_ins_trn = ins_18_20.groupby( by = [\"ref_hash\",\"application_id\"] ).agg( {\"application_id\":\"count\"} ).rename( columns = {\"application_id\":\"cant_ins\"} ).reset_index()\n",
    "app_mas_ins_tst = ins_21_23.groupby( by = [\"ref_hash\",\"application_id\"] ).agg( {\"application_id\":\"count\"} ).rename( columns = {\"application_id\":\"cant_ins\"} ).reset_index()\n",
    "\n",
    "app_mas_ins_trn = app_mas_ins_trn.sort_values( by = [\"ref_hash\", \"cant_ins\"], ascending = True ).drop_duplicates( subset = \"ref_hash\", keep = \"last\" ); del( app_mas_ins_trn[\"cant_ins\"] )\n",
    "app_mas_ins_tst = app_mas_ins_tst.sort_values( by = [\"ref_hash\", \"cant_ins\"], ascending = True ).drop_duplicates( subset = \"ref_hash\", keep = \"last\" ); del( app_mas_ins_tst[\"cant_ins\"] ) \n",
    "\n",
    "main_app_trn = main_app_trn.merge( app_mas_ins_trn, how = \"left\", on = \"ref_hash\" )\n",
    "main_app_tst = main_app_tst.merge( app_mas_ins_tst, how = \"left\", on = \"ref_hash\" )\n",
    "\n",
    "main_app_trn[\"to_count\"] = 1; main_app_trn[\"application_id\"] = main_app_trn[[\"application_id\", \"to_count\"]].groupby(\"application_id\").transform( \"sum\" ) / len(main_app_trn); del(main_app_trn[\"to_count\"])\n",
    "main_app_tst[\"to_count\"] = 1; main_app_tst[\"application_id\"] = main_app_tst[[\"application_id\", \"to_count\"]].groupby(\"application_id\").transform( \"sum\" ) / len(main_app_tst); del(main_app_tst[\"to_count\"])\n",
    "\n",
    "main_app_trn.fillna( main_app_trn.isnull().sum()/len(main_app_trn) )\n",
    "main_app_tst.fillna( main_app_tst.isnull().sum()/len(main_app_tst) )\n",
    "\n",
    "main_app_trn.to_csv( loc_ftr + \"\\\\main_app_trn.csv\", index = False )\n",
    "main_app_tst.to_csv( loc_ftr + \"\\\\main_app_tst.csv\", index = False )"
   ]
  },
  {
   "cell_type": "markdown",
   "metadata": {},
   "source": [
    "## <span style=\"color:green\"> **Cantidad de instalaciones implicitas por dispositivo** </span> "
   ]
  },
  {
   "cell_type": "code",
   "execution_count": 11,
   "metadata": {},
   "outputs": [],
   "source": [
    "cins_imp_trn = rh_trn.copy()\n",
    "cins_imp_tst = rh_tst.copy()\n",
    "\n",
    "cins_imp_trn[\"cant_imp\"] = ins_18_20[\"implicit\"].apply( lambda x: 1 if x else 0 ); cins_imp_trn = cins_imp_trn.groupby( \"ref_hash\" ).agg( {\"cant_imp\":\"sum\"} ).reset_index()\n",
    "cins_imp_tst[\"cant_imp\"] = ins_21_23[\"implicit\"].apply( lambda x: 1 if x else 0 ); cins_imp_tst = cins_imp_tst.groupby( \"ref_hash\" ).agg( {\"cant_imp\":\"sum\"} ).reset_index()\n",
    "\n",
    "cins_imp_trn.to_csv( loc_ftr + \"\\\\cins_imp_trn.csv\", index = False )\n",
    "cins_imp_tst.to_csv( loc_ftr + \"\\\\cins_imp_tst.csv\", index = False )"
   ]
  },
  {
   "cell_type": "markdown",
   "metadata": {},
   "source": [
    "## <span style=\"color:green\"> **Cantidad de instalaciones atribuidas por dispositivo** </span> "
   ]
  },
  {
   "cell_type": "code",
   "execution_count": 12,
   "metadata": {},
   "outputs": [],
   "source": [
    "cins_atr_trn = rh_trn.copy()\n",
    "cins_atr_tst = rh_tst.copy()\n",
    "\n",
    "cins_atr_trn[\"cant_atr\"] = ins_18_20[\"attributed\"].apply( lambda x: 1 if x else 0 ); cins_atr_trn = cins_atr_trn.groupby( \"ref_hash\" ).agg( {\"cant_atr\":\"sum\"} ).reset_index()\n",
    "cins_atr_tst[\"cant_atr\"] = ins_21_23[\"attributed\"].apply( lambda x: 1 if x else 0 ); cins_atr_tst = cins_atr_tst.groupby( \"ref_hash\" ).agg( {\"cant_atr\":\"sum\"} ).reset_index()\n",
    "\n",
    "cins_atr_trn.to_csv( loc_ftr + \"\\\\cins_atr_trn.csv\", index = False )\n",
    "cins_atr_tst.to_csv( loc_ftr + \"\\\\cins_atr_tst.csv\", index = False )"
   ]
  },
  {
   "cell_type": "markdown",
   "metadata": {},
   "source": [
    "## <span style=\"color:green\"> **Tiempo hasta la primera instalacion en la ventana anterior** </span>\n",
    "Se define con el tiempo maximo si la persona no realizo una instalacion en la ventana anterior"
   ]
  },
  {
   "cell_type": "code",
   "execution_count": 13,
   "metadata": {},
   "outputs": [],
   "source": [
    "frst_ins_trn = rh_trn.copy()\n",
    "frst_ins_tst = rh_tst.copy()"
   ]
  },
  {
   "cell_type": "code",
   "execution_count": 14,
   "metadata": {},
   "outputs": [],
   "source": [
    "time_to_first_ind_18_20 = ins_18_20_frt[ [\"ref_hash\",\"_sc\"] ]\n",
    "time_to_first_ind_21_23 = ins_21_23_frt[ [\"ref_hash\",\"_sc\"] ]"
   ]
  },
  {
   "cell_type": "code",
   "execution_count": 15,
   "metadata": {},
   "outputs": [],
   "source": [
    "frst_ins_trn = frst_ins_trn.merge( time_to_first_ind_18_20, how = \"left\", on = \"ref_hash\" ).fillna( 3*3600*24 )\n",
    "frst_ins_tst = frst_ins_tst.merge( time_to_first_ind_21_23, how = \"left\", on = \"ref_hash\" ).fillna( 3*3600*24 )"
   ]
  },
  {
   "cell_type": "code",
   "execution_count": 17,
   "metadata": {},
   "outputs": [],
   "source": [
    "frst_ins_trn.to_csv( loc_ftr + \"\\\\frst_ins_trn.csv\", index = False )\n",
    "frst_ins_tst.to_csv( loc_ftr + \"\\\\frst_ins_tst.csv\", index = False )"
   ]
  },
  {
   "cell_type": "markdown",
   "metadata": {},
   "source": [
    "## <span style=\"color:green\"> **Instalo entre 4 hs y 10 hs (Mañana)** </span> "
   ]
  },
  {
   "cell_type": "markdown",
   "metadata": {},
   "source": [
    "#### <span style=\"color:Orange\"> **One-hot Encoding** </span> "
   ]
  },
  {
   "cell_type": "code",
   "execution_count": 19,
   "metadata": {},
   "outputs": [],
   "source": [
    "ins_18_20['ins_4_10'] = ( pd.to_datetime( ins_18_20['date'] ).dt.hour > 3) & ( pd.to_datetime( ins_18_20['date'] ).dt.hour < 11) \n",
    "ins_21_23['ins_4_10'] = ( pd.to_datetime( ins_21_23['date'] ).dt.hour > 3) & ( pd.to_datetime( ins_21_23['date'] ).dt.hour < 11)\n",
    "\n",
    "ins_morn_18_20 = rh_trn.copy()\n",
    "ins_morn_21_23 = rh_tst.copy()\n",
    "\n",
    "hour_mode_18_20 = ins_18_20.groupby('ref_hash').agg({'ins_4_10':'sum'}).reset_index()\n",
    "hour_mode_21_23 = ins_21_23.groupby('ref_hash').agg({'ins_4_10':'sum'}).reset_index()\n",
    "\n",
    "ins_morn_18_20 = ins_morn_18_20.merge( hour_mode_18_20, how = \"left\", on = \"ref_hash\" )\n",
    "ins_morn_21_23 = ins_morn_21_23.merge( hour_mode_21_23, how = \"left\", on = \"ref_hash\" )\n",
    "\n",
    "ins_morn_18_20[\"ins_4_10\"] =  (ins_morn_18_20[\"ins_4_10\"] > 1).astype('int8')\n",
    "ins_morn_21_23[\"ins_4_10\"] =  (ins_morn_21_23[\"ins_4_10\"] > 1).astype('int8')\n",
    "\n",
    "ins_morn_18_20.to_csv( loc_ftr + \"\\\\ins_morn_trn.csv\", index = False )\n",
    "ins_morn_21_23.to_csv( loc_ftr + \"\\\\ins_morn_tst.csv\", index = False )\n",
    "\n",
    "del ins_18_20['ins_4_10']\n",
    "del ins_21_23['ins_4_10']"
   ]
  },
  {
   "cell_type": "markdown",
   "metadata": {},
   "source": [
    "## <span style=\"color:green\"> **Instalo entre 11 hs y 15 hs (Medio dia)** </span> "
   ]
  },
  {
   "cell_type": "markdown",
   "metadata": {},
   "source": [
    "#### <span style=\"color:Orange\"> **One-hot Encoding** </span> "
   ]
  },
  {
   "cell_type": "code",
   "execution_count": 21,
   "metadata": {},
   "outputs": [],
   "source": [
    "ins_18_20['ins_11_15'] = ( pd.to_datetime( ins_18_20['date'] ).dt.hour > 10) & ( pd.to_datetime( ins_18_20['date'] ).dt.hour < 16) \n",
    "ins_21_23['ins_11_15'] = ( pd.to_datetime( ins_21_23['date'] ).dt.hour > 10) & ( pd.to_datetime( ins_21_23['date'] ).dt.hour < 16)\n",
    "\n",
    "ins_midday_18_20 = rh_trn.copy()\n",
    "ins_midday_21_23 = rh_tst.copy()\n",
    "\n",
    "hour_mode_18_20 = ins_18_20.groupby('ref_hash').agg({'ins_11_15':'sum'}).reset_index()\n",
    "hour_mode_21_23 = ins_21_23.groupby('ref_hash').agg({'ins_11_15':'sum'}).reset_index()\n",
    "\n",
    "ins_midday_18_20 = ins_midday_18_20.merge( hour_mode_18_20, how = \"left\", on = \"ref_hash\" )\n",
    "ins_midday_21_23 = ins_midday_21_23.merge( hour_mode_21_23, how = \"left\", on = \"ref_hash\" )\n",
    "\n",
    "ins_midday_18_20[\"ins_11_15\"] =  (ins_midday_18_20[\"ins_11_15\"] > 1).astype('int8')\n",
    "ins_midday_21_23[\"ins_11_15\"] =  (ins_midday_21_23[\"ins_11_15\"] > 1).astype('int8')\n",
    "\n",
    "ins_midday_18_20.to_csv( loc_ftr + \"\\\\ins_mday_trn.csv\", index = False )\n",
    "ins_midday_21_23.to_csv( loc_ftr + \"\\\\ins_mday_tst.csv\", index = False )\n",
    "\n",
    "del ins_18_20['ins_11_15']\n",
    "del ins_21_23['ins_11_15']"
   ]
  },
  {
   "cell_type": "markdown",
   "metadata": {},
   "source": [
    "## <span style=\"color:green\"> **Instalo entre 16 hs y 20 hs (Tarde)** </span> "
   ]
  },
  {
   "cell_type": "markdown",
   "metadata": {},
   "source": [
    "#### <span style=\"color:Orange\"> **One-hot Encoding** </span> "
   ]
  },
  {
   "cell_type": "code",
   "execution_count": 23,
   "metadata": {},
   "outputs": [],
   "source": [
    "ins_18_20['ins_16_20'] = ( pd.to_datetime( ins_18_20['date'] ).dt.hour > 15) & ( pd.to_datetime( ins_18_20['date'] ).dt.hour < 21) \n",
    "ins_21_23['ins_16_20'] = ( pd.to_datetime( ins_21_23['date'] ).dt.hour > 15) & ( pd.to_datetime( ins_21_23['date'] ).dt.hour < 21)\n",
    "\n",
    "ins_after_18_20 = rh_trn.copy()\n",
    "ins_after_21_23 = rh_tst.copy()\n",
    "\n",
    "hour_mode_18_20 = ins_18_20.groupby('ref_hash').agg({'ins_16_20':'sum'}).reset_index()\n",
    "hour_mode_21_23 = ins_21_23.groupby('ref_hash').agg({'ins_16_20':'sum'}).reset_index()\n",
    "\n",
    "ins_after_18_20 = ins_after_18_20.merge( hour_mode_18_20, how = \"left\", on = \"ref_hash\" )\n",
    "ins_after_21_23 = ins_after_21_23.merge( hour_mode_21_23, how = \"left\", on = \"ref_hash\" )\n",
    "\n",
    "ins_after_18_20[\"ins_16_20\"] =  (ins_after_18_20[\"ins_16_20\"] > 1).astype('int8')\n",
    "ins_after_21_23[\"ins_16_20\"] =  (ins_after_21_23[\"ins_16_20\"] > 1).astype('int8')\n",
    "\n",
    "ins_after_18_20.to_csv( loc_ftr + \"\\\\ins_aftr_trn.csv\", index = False )\n",
    "ins_after_21_23.to_csv( loc_ftr + \"\\\\ins_aftr_tst.csv\", index = False )\n",
    "\n",
    "del ins_18_20['ins_16_20']\n",
    "del ins_21_23['ins_16_20']"
   ]
  },
  {
   "cell_type": "markdown",
   "metadata": {},
   "source": [
    "## <span style=\"color:green\"> **Instalo entre 21 hs y 3 hs (Noche)** </span> "
   ]
  },
  {
   "cell_type": "markdown",
   "metadata": {},
   "source": [
    "#### <span style=\"color:Orange\"> **One-hot Encoding** </span> "
   ]
  },
  {
   "cell_type": "code",
   "execution_count": 24,
   "metadata": {},
   "outputs": [],
   "source": [
    "ins_18_20['ins_21_3'] = ( pd.to_datetime( ins_18_20['date'] ).dt.hour > 20) | ( pd.to_datetime( ins_18_20['date'] ).dt.hour < 4) \n",
    "ins_21_23['ins_21_3'] = ( pd.to_datetime( ins_21_23['date'] ).dt.hour > 20) | ( pd.to_datetime( ins_21_23['date'] ).dt.hour < 4)\n",
    "\n",
    "ins_night_18_20 = rh_trn.copy()\n",
    "ins_night_21_23 = rh_tst.copy()\n",
    "\n",
    "hour_mode_18_20 = ins_18_20.groupby('ref_hash').agg({'ins_21_3':'sum'}).reset_index()\n",
    "hour_mode_21_23 = ins_21_23.groupby('ref_hash').agg({'ins_21_3':'sum'}).reset_index()\n",
    "\n",
    "ins_night_18_20 = ins_night_18_20.merge( hour_mode_18_20, how = \"left\", on = \"ref_hash\" )\n",
    "ins_night_21_23 = ins_night_21_23.merge( hour_mode_21_23, how = \"left\", on = \"ref_hash\" )\n",
    "\n",
    "ins_night_18_20[\"ins_21_3\"] =  (ins_night_18_20[\"ins_21_3\"] > 1).astype('int8')\n",
    "ins_night_21_23[\"ins_21_3\"] =  (ins_night_21_23[\"ins_21_3\"] > 1).astype('int8')\n",
    "\n",
    "ins_night_18_20.to_csv( loc_ftr + \"\\\\ins_nght_trn.csv\", index = False )\n",
    "ins_night_21_23.to_csv( loc_ftr + \"\\\\ins_nght_tst.csv\", index = False )\n",
    "\n",
    "del ins_18_20['ins_21_3']\n",
    "del ins_21_23['ins_21_3']"
   ]
  },
  {
   "cell_type": "markdown",
   "metadata": {},
   "source": [
    "## <span style=\"color:green\"> **Realizo alguna instalacion del TOP 3 de apps** </span>\n",
    "Se corroboro inicialmente que las top3 aplicaciones mas instaladas coinciden en las 3 ventanas"
   ]
  },
  {
   "cell_type": "markdown",
   "metadata": {},
   "source": [
    "#### <span style=\"color:orange\"> **OneHotEncoding** </span>"
   ]
  },
  {
   "cell_type": "code",
   "execution_count": 28,
   "metadata": {},
   "outputs": [],
   "source": [
    "top3_app_18_20 = rh_trn.copy()\n",
    "top3_app_21_23 = rh_tst.copy()\n",
    "\n",
    "cond_1_18_20 = ins_18_20['application_id'] == ins_18_20['application_id'].value_counts().head().index[0]; cond_1_21_23 = ins_21_23['application_id'] == ins_21_23['application_id'].value_counts().head().index[0];\n",
    "cond_2_18_20 = ins_18_20['application_id'] == ins_18_20['application_id'].value_counts().head().index[1]; cond_2_21_23 = ins_21_23['application_id'] == ins_21_23['application_id'].value_counts().head().index[1];\n",
    "cond_3_18_20 = ins_18_20['application_id'] == ins_18_20['application_id'].value_counts().head().index[2]; cond_3_21_23 = ins_21_23['application_id'] == ins_21_23['application_id'].value_counts().head().index[2];\n",
    "\n",
    "m1 = ins_18_20.loc[ cond_1_18_20 | cond_2_18_20 | cond_3_18_20, [\"ref_hash\", \"application_id\"] ]; m1[\"application_id\"] = m1[\"application_id\"].astype( \"category\" )\n",
    "m2 = ins_21_23.loc[ cond_1_21_23 | cond_2_21_23 | cond_3_21_23, [\"ref_hash\", \"application_id\"] ]; m2[\"application_id\"] = m2[\"application_id\"].astype( \"category\" )\n",
    "\n",
    "m1 = m1.groupby( \"ref_hash\" ).agg( {\"application_id\":\"value_counts\"} ).unstack( level = 1 )\n",
    "m2 = m2.groupby( \"ref_hash\" ).agg( {\"application_id\":\"value_counts\"} ).unstack( level = 1 )\n",
    "\n",
    "top3_app_18_20 = top3_app_18_20.merge( m1, how = \"left\", on = \"ref_hash\" ); top3_app_18_20.columns = [\"ref_hash\", \"app1\", \"app2\", \"app3\" ]\n",
    "top3_app_21_23 = top3_app_21_23.merge( m2, how = \"left\", on = \"ref_hash\" ); top3_app_21_23.columns = [\"ref_hash\", \"app1\", \"app2\", \"app3\" ]\n",
    "\n",
    "top3_app_18_20[\"app1\"] = top3_app_18_20[\"app1\"].apply( lambda x: 1 if x > 0 else 0 ); top3_app_21_23[\"app1\"] = top3_app_21_23[\"app1\"].apply( lambda x: 1 if x > 0 else 0 );\n",
    "top3_app_18_20[\"app2\"] = top3_app_18_20[\"app2\"].apply( lambda x: 1 if x > 0 else 0 ); top3_app_21_23[\"app2\"] = top3_app_21_23[\"app1\"].apply( lambda x: 1 if x > 0 else 0 );\n",
    "top3_app_18_20[\"app3\"] = top3_app_18_20[\"app3\"].apply( lambda x: 1 if x > 0 else 0 ); top3_app_21_23[\"app3\"] = top3_app_21_23[\"app3\"].apply( lambda x: 1 if x > 0 else 0 );\n",
    "\n",
    "top3_app_18_20.to_csv( loc_ftr + \"\\\\top3_app_trn.csv\", index = False )\n",
    "top3_app_21_23.to_csv( loc_ftr + \"\\\\top3_app_tst.csv\", index = False )"
   ]
  }
 ],
 "metadata": {
  "kernelspec": {
   "display_name": "Python 3",
   "language": "python",
   "name": "python3"
  },
  "language_info": {
   "codemirror_mode": {
    "name": "ipython",
    "version": 3
   },
   "file_extension": ".py",
   "mimetype": "text/x-python",
   "name": "python",
   "nbconvert_exporter": "python",
   "pygments_lexer": "ipython3",
   "version": "3.7.0"
  }
 },
 "nbformat": 4,
 "nbformat_minor": 2
}
