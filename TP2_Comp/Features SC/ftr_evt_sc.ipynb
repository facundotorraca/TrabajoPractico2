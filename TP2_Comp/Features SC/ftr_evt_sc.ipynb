{
 "cells": [
  {
   "cell_type": "code",
   "execution_count": 2,
   "metadata": {},
   "outputs": [],
   "source": [
    "import pandas as pd\n",
    "import numpy as np\n",
    "import datetime as dt\n",
    "import warnings as wn\n",
    "import sklearn.preprocessing as skpre\n",
    "import category_encoders as ce\n",
    "\n",
    "wn.simplefilter( \"ignore\" )"
   ]
  },
  {
   "cell_type": "code",
   "execution_count": 3,
   "metadata": {},
   "outputs": [],
   "source": [
    "loc_ftr = r\"D:\\FacundoTorraca\\Documents\\TP2_Machine_Learning_v4\\Features\\FeaturesSC\""
   ]
  },
  {
   "cell_type": "markdown",
   "metadata": {},
   "source": [
    "## <span style=\"color:yellow\"> **Preparamos el set de entramiento para sacar features** </span> "
   ]
  },
  {
   "cell_type": "code",
   "execution_count": 4,
   "metadata": {},
   "outputs": [],
   "source": [
    "loc_ts = r\"D:\\FacundoTorraca\\Documents\\TP2_Machine_Learning_v4\\Training Sets\""
   ]
  },
  {
   "cell_type": "code",
   "execution_count": 5,
   "metadata": {},
   "outputs": [],
   "source": [
    "evt_18_20 = pd.read_csv( loc_ts + \"\\\\evt_18_20.csv\" ); \n",
    "evt_21_23 = pd.read_csv( loc_ts + \"\\\\evt_21_23.csv\" );  "
   ]
  },
  {
   "cell_type": "markdown",
   "metadata": {},
   "source": [
    "## <span style=\"color:yellow\"> **Preparamos el ref_hash de cada ventana** </span> "
   ]
  },
  {
   "cell_type": "code",
   "execution_count": 6,
   "metadata": {},
   "outputs": [],
   "source": [
    "loc_lb = r\"D:\\FacundoTorraca\\Documents\\TP2_Machine_Learning_v4\\Labels\""
   ]
  },
  {
   "cell_type": "code",
   "execution_count": 7,
   "metadata": {},
   "outputs": [],
   "source": [
    "lb_ins_21_23 = pd.read_csv( loc_lb + \"\\\\label_ins_21_23.csv\" );\n",
    "lb_ins_24_26 = pd.read_csv( loc_lb + \"\\\\label_ins_24_26.csv\" ); "
   ]
  },
  {
   "cell_type": "code",
   "execution_count": 8,
   "metadata": {},
   "outputs": [],
   "source": [
    "rh_trn = lb_ins_21_23[ [\"ref_hash\"] ]\n",
    "rh_tst = lb_ins_24_26[ [\"ref_hash\"] ]\n",
    "\n",
    "tg_trn = lb_ins_21_23[ [\"21_23_sc\"] ]\n",
    "tg_tst = lb_ins_24_26[ [\"24_26_sc\"] ]"
   ]
  },
  {
   "cell_type": "markdown",
   "metadata": {},
   "source": [
    "## <span style=\"color:yellow\"> **=======================================================================================================** </span> "
   ]
  },
  {
   "cell_type": "markdown",
   "metadata": {},
   "source": [
    "## <span style=\"color:green\"> **Horario del primer evento en ese ventana** </span> \n",
    "\n",
    "Al agregarle la transformacion senoidal para agregarle perdiodicidad a la hora, la prediccion del algoritmo fue peor por lo que decidimos no agregarla"
   ]
  },
  {
   "cell_type": "code",
   "execution_count": 8,
   "metadata": {},
   "outputs": [],
   "source": [
    "hr_f_evt_18_20 = rh_trn.copy()\n",
    "hr_f_evt_21_23 = rh_tst.copy()\n",
    "\n",
    "first_evt_hour_18_20 = evt_18_20[ [\"ref_hash\",\"date\"] ].sort_values( \"date\" ).drop_duplicates( subset = \"ref_hash\", keep = \"first\" )\n",
    "first_evt_hour_21_23 = evt_21_23[ [\"ref_hash\",\"date\"] ].sort_values( \"date\" ).drop_duplicates( subset = \"ref_hash\", keep = \"first\" )\n",
    "\n",
    "first_evt_hour_18_20[\"time_to_frt_evt\"] = ( pd.to_datetime( first_evt_hour_18_20[\"date\"] ) -  dt.datetime( year = 2019, month = 4, day = 18 ) ).dt.total_seconds()\n",
    "first_evt_hour_21_23[\"time_to_frt_evt\"] = ( pd.to_datetime( first_evt_hour_21_23[\"date\"] ) -  dt.datetime( year = 2019, month = 4, day = 21 ) ).dt.total_seconds()\n",
    "\n",
    "first_evt_hour_18_20[\"hour_frt_evt\"] = pd.to_datetime( first_evt_hour_18_20[\"date\"] ).dt.hour\n",
    "first_evt_hour_21_23[\"hour_frt_evt\"] = pd.to_datetime( first_evt_hour_21_23[\"date\"] ).dt.hour\n",
    "\n",
    "first_evt_hour_18_20.drop( [\"date\", \"time_to_frt_evt\"], axis = 1, inplace = True )\n",
    "first_evt_hour_21_23.drop( [\"date\", \"time_to_frt_evt\"], axis = 1, inplace = True )\n",
    "\n",
    "hr_f_evt_18_20 = hr_f_evt_18_20.merge( first_evt_hour_18_20, how = \"left\", on = \"ref_hash\" )\n",
    "hr_f_evt_21_23 = hr_f_evt_21_23.merge( first_evt_hour_21_23, how = \"left\", on = \"ref_hash\" )\n",
    "\n",
    "#hr_f_evt_18_20[\"hour_frt_evt\"] = hr_f_evt_18_20[\"hour_frt_evt\"].apply( lambda x: np.sin( (x *np.pi)/24 ) )\n",
    "#hr_f_evt_21_23[\"hour_frt_evt\"] = hr_f_evt_21_23[\"hour_frt_evt\"].apply( lambda x: np.sin( (x *np.pi)/24 ) )\n",
    "\n",
    "hr_f_evt_18_20.to_csv( loc_ftr + \"\\\\hr_f_evt_trn.csv\", index = False )\n",
    "hr_f_evt_21_23.to_csv( loc_ftr + \"\\\\hr_f_evt_tst.csv\", index = False )"
   ]
  },
  {
   "cell_type": "markdown",
   "metadata": {},
   "source": [
    "Si bien hay varios valores NaN en el feature, lo decidimos probar de igual manera, ya que los algoritmos de boosting aceptan valores NaNs.\n",
    "\n",
    "* https://datascience.stackexchange.com/questions/15305/how-does-xgboost-learn-what-are-the-inputs-for-missing-values/15306#15306\n",
    "* The procedure is described in [their paper, section 3.4: Sparsity aware split-finding](https://arxiv.org/pdf/1603.02754v3.pdf).\n"
   ]
  },
  {
   "cell_type": "markdown",
   "metadata": {},
   "source": [
    "## <span style=\"color:green\"> **Cantidad de Eventos por dispositivo en la ventana previa a la conversion** </span>"
   ]
  },
  {
   "cell_type": "code",
   "execution_count": 9,
   "metadata": {},
   "outputs": [],
   "source": [
    "cant_evt_18_20 = rh_trn.copy()\n",
    "cant_evt_21_23 = rh_tst.copy()\n",
    "\n",
    "cant_evt_18_20 = cant_evt_18_20.merge( evt_18_20[\"ref_hash\"].value_counts().to_frame().reset_index().rename( columns = {\"ref_hash\": \"cant_evt\", \"index\":\"ref_hash\"} ), how = \"left\", on = \"ref_hash\" )\n",
    "cant_evt_21_23 = cant_evt_21_23.merge( evt_21_23[\"ref_hash\"].value_counts().to_frame().reset_index().rename( columns = {\"ref_hash\": \"cant_evt\", \"index\":\"ref_hash\"} ), how = \"left\", on = \"ref_hash\" )\n",
    "\n",
    "cant_evt_18_20.fillna( 0, inplace = True )\n",
    "cant_evt_21_23.fillna( 0, inplace = True )\n",
    "\n",
    "cant_evt_18_20.to_csv( loc_ftr + \"\\\\cant_evt_trn.csv\", index = False )\n",
    "cant_evt_21_23.to_csv( loc_ftr + \"\\\\cant_evt_tst.csv\", index = False )"
   ]
  },
  {
   "cell_type": "markdown",
   "metadata": {},
   "source": [
    "## <span style=\"color:green\"> **Cantidad de eventos atribuidas por dispositivo** </span> "
   ]
  },
  {
   "cell_type": "code",
   "execution_count": 10,
   "metadata": {},
   "outputs": [],
   "source": [
    "cevt_atr_18_20 = rh_trn.copy()\n",
    "cevt_atr_21_23 = rh_tst.copy()\n",
    "\n",
    "cant_atr_evt_18_20 = evt_18_20[[\"ref_hash\", \"attributed\"]]; cant_atr_evt_18_20[\"attributed\"] = cant_atr_evt_18_20[\"attributed\"].apply( lambda x: 1 if x else 0 );\n",
    "cant_atr_evt_21_23 = evt_21_23[[\"ref_hash\", \"attributed\"]]; cant_atr_evt_21_23[\"attributed\"] = cant_atr_evt_21_23[\"attributed\"].apply( lambda x: 1 if x else 0 );\n",
    "\n",
    "cant_atr_evt_18_20 = cant_atr_evt_18_20.groupby( \"ref_hash\" ).agg( \"sum\" )\n",
    "cant_atr_evt_21_23 = cant_atr_evt_21_23.groupby( \"ref_hash\" ).agg( \"sum\" )\n",
    "\n",
    "cevt_atr_18_20 = cevt_atr_18_20.merge( cant_atr_evt_18_20, how = \"left\", on = \"ref_hash\" ).fillna( 0 )\n",
    "cevt_atr_21_23 = cevt_atr_21_23.merge( cant_atr_evt_21_23, how = \"left\", on = \"ref_hash\" ).fillna( 0 )\n",
    "\n",
    "cevt_atr_18_20.to_csv( loc_ftr + \"\\\\cevt_atr_trn.csv\", index = False )\n",
    "cevt_atr_21_23.to_csv( loc_ftr + \"\\\\cevt_atr_tst.csv\", index = False )"
   ]
  },
  {
   "cell_type": "markdown",
   "metadata": {},
   "source": [
    "## <span style=\"color:green\"> **Tiempo hasta el primer evento en ese ventana** </span> \n",
    "\n",
    "Le asignamos cuanto tiempo, en la ventana del 18-20, tardo en realizar su primer evento"
   ]
  },
  {
   "cell_type": "code",
   "execution_count": 11,
   "metadata": {},
   "outputs": [],
   "source": [
    "frst_evt_18_20 = rh_trn.copy()\n",
    "frst_evt_21_23 = rh_tst.copy()\n",
    "\n",
    "first_event_rh_ins_18_20 = evt_18_20[ [\"ref_hash\",\"date\"] ].sort_values( \"date\" ).drop_duplicates( subset = \"ref_hash\", keep = \"first\" )\n",
    "first_event_rh_ins_21_23 = evt_21_23[ [\"ref_hash\",\"date\"] ].sort_values( \"date\" ).drop_duplicates( subset = \"ref_hash\", keep = \"first\" )\n",
    "\n",
    "first_event_rh_ins_18_20[\"time_to_frt_evt\"] = ( pd.to_datetime( first_event_rh_ins_18_20[\"date\"] ) -  dt.datetime( year = 2019, month = 4, day = 18 ) ).dt.total_seconds()\n",
    "first_event_rh_ins_21_23[\"time_to_frt_evt\"] = ( pd.to_datetime( first_event_rh_ins_21_23[\"date\"] ) -  dt.datetime( year = 2019, month = 4, day = 21 ) ).dt.total_seconds()\n",
    "\n",
    "first_event_rh_ins_18_20.drop( \"date\", axis = 1, inplace = True )\n",
    "first_event_rh_ins_21_23.drop( \"date\", axis = 1, inplace = True )\n",
    "\n",
    "frst_evt_18_20 = frst_evt_18_20.merge( first_event_rh_ins_18_20, how = \"left\", on = \"ref_hash\" )\n",
    "frst_evt_21_23 = frst_evt_21_23.merge( first_event_rh_ins_21_23, how = \"left\", on = \"ref_hash\" )\n",
    "\n",
    "#Los que tienen NaN es que nunca convirtieron. Los marcamos con el tiempo maximo\n",
    "frst_evt_18_20.fillna( 3 * 24 * 3600, inplace = True )\n",
    "frst_evt_21_23.fillna( 3 * 24 * 3600, inplace = True )\n",
    "\n",
    "frst_evt_18_20.to_csv( loc_ftr + \"\\\\frst_evt_trn.csv\", index = False )\n",
    "frst_evt_21_23.to_csv( loc_ftr + \"\\\\frst_evt_tst.csv\", index = False )"
   ]
  },
  {
   "cell_type": "markdown",
   "metadata": {},
   "source": [
    "## <span style=\"color:green\"> **Tipo de evento mas realizado por el dispositivo** </span> \n",
    "\n",
    "#### <span style=\"color:orange\"> **Mean Encoding** </span> (Lo codificamos haciendo la cantidad de eventos que se realizaron de ese tipo sobre el total de eventos realizados)"
   ]
  },
  {
   "cell_type": "code",
   "execution_count": 12,
   "metadata": {},
   "outputs": [],
   "source": [
    "kind_evt_18_20 = rh_trn.copy()\n",
    "kind_evt_21_23 = rh_tst.copy()\n",
    "\n",
    "main_kind_evt_18_20 = evt_18_20.groupby( by = [\"ref_hash\",\"kind\"] ).agg( {\"kind\":\"count\"} ).rename( columns = {\"kind\":\"cant_evt\"} ).reset_index()\n",
    "main_kind_evt_21_23 = evt_21_23.groupby( by = [\"ref_hash\",\"kind\"] ).agg( {\"kind\":\"count\"} ).rename( columns = {\"kind\":\"cant_evt\"} ).reset_index()\n",
    "\n",
    "main_kind_evt_18_20 = main_kind_evt_18_20.sort_values( by = [\"ref_hash\", \"cant_evt\"], ascending = True ).drop_duplicates( subset = \"ref_hash\", keep = \"last\" ); del( main_kind_evt_18_20[\"cant_evt\"] )\n",
    "main_kind_evt_21_23 = main_kind_evt_21_23.sort_values( by = [\"ref_hash\", \"cant_evt\"], ascending = True ).drop_duplicates( subset = \"ref_hash\", keep = \"last\" ); del( main_kind_evt_21_23[\"cant_evt\"] ) \n",
    "\n",
    "kind_evt_18_20 = kind_evt_18_20.merge( main_kind_evt_18_20, how = \"left\", on = \"ref_hash\" )\n",
    "kind_evt_21_23 = kind_evt_21_23.merge( main_kind_evt_21_23, how = \"left\", on = \"ref_hash\" )\n",
    "\n",
    "cant_kind_evt_18_20 = evt_18_20[[\"ref_hash\",\"kind\"]].groupby( \"kind\" ).agg(\"count\").reset_index().rename( columns = {\"ref_hash\":\"cant_kind\"} )\n",
    "cant_kind_evt_21_23 = evt_21_23[[\"ref_hash\",\"kind\"]].groupby( \"kind\" ).agg(\"count\").reset_index().rename( columns = {\"ref_hash\":\"cant_kind\"} )\n",
    "\n",
    "kind_evt_18_20 = kind_evt_18_20.merge( cant_kind_evt_18_20, how = \"left\", on = \"kind\" ).drop( \"kind\", axis = 1 )\n",
    "kind_evt_21_23 = kind_evt_21_23.merge( cant_kind_evt_21_23, how = \"left\", on = \"kind\" ).drop( \"kind\", axis = 1 )\n",
    "\n",
    "kind_evt_18_20[\"kind_mean\"] = kind_evt_18_20[\"cant_kind\"] / len(evt_18_20); kind_evt_18_20.fillna( kind_evt_18_20[\"kind_mean\"].isnull().sum() / len(evt_18_20), inplace = True ); del(kind_evt_18_20[\"cant_kind\"])\n",
    "kind_evt_21_23[\"kind_mean\"] = kind_evt_21_23[\"cant_kind\"] / len(evt_21_23); kind_evt_21_23.fillna( kind_evt_21_23[\"kind_mean\"].isnull().sum() / len(evt_21_23), inplace = True ); del(kind_evt_21_23[\"cant_kind\"])\n",
    "\n",
    "kind_evt_18_20.to_csv( loc_ftr + \"\\\\kind_evt_trn.csv\", index = False )\n",
    "kind_evt_21_23.to_csv( loc_ftr + \"\\\\kind_evt_tst.csv\", index = False )"
   ]
  },
  {
   "cell_type": "markdown",
   "metadata": {},
   "source": [
    "## <span style=\"color:green\"> **Aplicaciones que mas realizaron eventos cada usuario** </span>\n",
    "\n",
    "#### <span style=\"color:orange\"> **Mean Encoding** </span> (Usamos el promedio de la cantidad de veces que que es la app principal de algun dispositivo)"
   ]
  },
  {
   "cell_type": "code",
   "execution_count": 14,
   "metadata": {},
   "outputs": [],
   "source": [
    "mapp_evt_18_20 = rh_trn.copy()\n",
    "mapp_evt_21_23 = rh_tst.copy()\n",
    "\n",
    "app_mas_evt_18_20 = evt_18_20.groupby( by = [\"ref_hash\",\"application_id\"] ).agg( {\"application_id\":\"count\"} ).rename( columns = {\"application_id\":\"cant_evt\"} ).reset_index()\n",
    "app_mas_evt_21_23 = evt_21_23.groupby( by = [\"ref_hash\",\"application_id\"] ).agg( {\"application_id\":\"count\"} ).rename( columns = {\"application_id\":\"cant_evt\"} ).reset_index()\n",
    "\n",
    "app_mas_evt_18_20 = app_mas_evt_18_20.sort_values( by = [\"ref_hash\", \"cant_evt\"], ascending = True ).drop_duplicates( subset = \"ref_hash\", keep = \"last\" ); del( app_mas_evt_18_20[\"cant_evt\"] )\n",
    "app_mas_evt_21_23 = app_mas_evt_21_23.sort_values( by = [\"ref_hash\", \"cant_evt\"], ascending = True ).drop_duplicates( subset = \"ref_hash\", keep = \"last\" ); del( app_mas_evt_21_23[\"cant_evt\"] ) \n",
    "\n",
    "mapp_evt_18_20 = mapp_evt_18_20.merge( app_mas_evt_18_20, how = \"left\", on = \"ref_hash\" )\n",
    "mapp_evt_21_23 = mapp_evt_21_23.merge( app_mas_evt_21_23, how = \"left\", on = \"ref_hash\" )\n",
    "\n",
    "mapp_evt_18_20[\"to_count\"] = 1; mapp_evt_18_20[\"application_id\"] = mapp_evt_18_20[[\"application_id\", \"to_count\"]].groupby(\"application_id\").transform( \"sum\" ) / len(mapp_evt_18_20); del(mapp_evt_18_20[\"to_count\"])\n",
    "mapp_evt_21_23[\"to_count\"] = 1; mapp_evt_21_23[\"application_id\"] = mapp_evt_21_23[[\"application_id\", \"to_count\"]].groupby(\"application_id\").transform( \"sum\" ) / len(mapp_evt_21_23); del(mapp_evt_21_23[\"to_count\"])\n",
    "\n",
    "#Completamos los NaNs con el promedio de su cantidad\n",
    "mapp_evt_18_20[\"application_id\"].fillna( mapp_evt_18_20[\"application_id\"].isnull().sum() / len( mapp_evt_18_20 ) , inplace = True )\n",
    "mapp_evt_21_23[\"application_id\"].fillna( mapp_evt_21_23[\"application_id\"].isnull().sum() / len( mapp_evt_21_23 ), inplace = True )\n",
    "\n",
    "mapp_evt_18_20.to_csv( loc_ftr + \"\\\\mapp_evt_trn.csv\", index = False )\n",
    "mapp_evt_21_23.to_csv( loc_ftr + \"\\\\mapp_evt_tst.csv\", index = False )"
   ]
  },
  {
   "cell_type": "markdown",
   "metadata": {},
   "source": [
    "## <span style=\"color:green\"> **Cantidad de eventos realizados con WiFi** </span>  "
   ]
  },
  {
   "cell_type": "code",
   "execution_count": 15,
   "metadata": {},
   "outputs": [],
   "source": [
    "wifi_evt_18_20 = rh_trn.copy()\n",
    "wifi_evt_21_23 = rh_tst.copy()\n",
    "\n",
    "cant_wifi_evt_18_20 = evt_18_20[[\"ref_hash\", \"wifi\"]]; cant_wifi_evt_18_20[\"wifi\"] = cant_wifi_evt_18_20[\"wifi\"].apply( lambda x: 1 if x else 0 );\n",
    "cant_wifi_evt_21_23 = evt_21_23[[\"ref_hash\", \"wifi\"]]; cant_wifi_evt_21_23[\"wifi\"] = cant_wifi_evt_21_23[\"wifi\"].apply( lambda x: 1 if x else 0 );\n",
    "\n",
    "cant_wifi_evt_18_20 = cant_wifi_evt_18_20.groupby( \"ref_hash\" ).agg( \"sum\" )\n",
    "cant_wifi_evt_21_23 = cant_wifi_evt_21_23.groupby( \"ref_hash\" ).agg( \"sum\" )\n",
    "\n",
    "wifi_evt_18_20 = wifi_evt_18_20.merge( cant_wifi_evt_18_20, how = \"left\", on = \"ref_hash\" ).fillna( 0 )\n",
    "wifi_evt_21_23 = wifi_evt_21_23.merge( cant_wifi_evt_21_23, how = \"left\", on = \"ref_hash\" ).fillna( 0 )\n",
    "\n",
    "wifi_evt_18_20.to_csv( loc_ftr + \"\\\\wifi_evt_trn.csv\", index = False )\n",
    "wifi_evt_21_23.to_csv( loc_ftr + \"\\\\wifi_evt_tst.csv\", index = False )"
   ]
  },
  {
   "cell_type": "markdown",
   "metadata": {},
   "source": [
    "## <span style=\"color:green\"> **Tiempo hasta la ultimo evento en esa ventana** </span> "
   ]
  },
  {
   "cell_type": "code",
   "execution_count": 17,
   "metadata": {},
   "outputs": [],
   "source": [
    "last_evt_18_20 = rh_trn.copy()\n",
    "last_evt_21_23 = rh_tst.copy()\n",
    "\n",
    "last_event_rh_ins_18_20 = evt_18_20[ [\"ref_hash\",\"date\"] ].sort_values( \"date\", ascending = False ).drop_duplicates( subset = \"ref_hash\", keep = \"first\" )\n",
    "last_event_rh_ins_21_23 = evt_21_23[ [\"ref_hash\",\"date\"] ].sort_values( \"date\", ascending = False ).drop_duplicates( subset = \"ref_hash\", keep = \"first\" )\n",
    "\n",
    "last_event_rh_ins_18_20[\"time_to_lst_evt\"] = ( pd.to_datetime( last_event_rh_ins_18_20[\"date\"] ) -  dt.datetime( year = 2019, month = 4, day = 18 ) ).dt.total_seconds()\n",
    "last_event_rh_ins_21_23[\"time_to_lst_evt\"] = ( pd.to_datetime( last_event_rh_ins_21_23[\"date\"] ) -  dt.datetime( year = 2019, month = 4, day = 21 ) ).dt.total_seconds()\n",
    "\n",
    "last_event_rh_ins_18_20.drop( \"date\", axis = 1, inplace = True )\n",
    "last_event_rh_ins_21_23.drop( \"date\", axis = 1, inplace = True )\n",
    "\n",
    "last_evt_18_20 = last_evt_18_20.merge( last_event_rh_ins_18_20, how = \"left\", on = \"ref_hash\" )\n",
    "last_evt_21_23 = last_evt_21_23.merge( last_event_rh_ins_21_23, how = \"left\", on = \"ref_hash\" )\n",
    "\n",
    "#Los que tienen NaN es que nunca convirtieron. Los marcamos con el tiempo maximo\n",
    "last_evt_18_20.fillna( 3 * 24 * 3600, inplace = True )\n",
    "last_evt_21_23.fillna( 3 * 24 * 3600, inplace = True )\n",
    "\n",
    "last_evt_18_20.to_csv( loc_ftr + \"\\\\last_evt_trn.csv\", index = False )\n",
    "last_evt_21_23.to_csv( loc_ftr + \"\\\\last_evt_tst.csv\", index = False )"
   ]
  },
  {
   "cell_type": "markdown",
   "metadata": {},
   "source": [
    "## <span style=\"color:green\"> **Hizo eventos entre 21 hs y 3 hs (Noche)** </span>"
   ]
  },
  {
   "cell_type": "markdown",
   "metadata": {},
   "source": [
    "#### <span style=\"color:Orange\"> **One-Hot Encoding** </span> "
   ]
  },
  {
   "cell_type": "code",
   "execution_count": 18,
   "metadata": {},
   "outputs": [],
   "source": [
    "evt_18_20['date'] = pd.to_datetime(evt_18_20['date'])\n",
    "evt_21_23['date'] = pd.to_datetime(evt_21_23['date'])\n",
    "\n",
    "evt_18_20['evt_21_3'] = (evt_18_20['date'].dt.hour < 4) | (evt_18_20['date'].dt.hour > 20)\n",
    "evt_21_23['evt_21_3'] = (evt_21_23['date'].dt.hour < 4) | (evt_18_20['date'].dt.hour > 20)\n",
    "\n",
    "evt_night_18_20 = rh_trn.copy()\n",
    "evt_night_21_23 = rh_tst.copy()\n",
    "\n",
    "hour_mode_18_20 = evt_18_20.groupby('ref_hash').agg({'evt_21_3':'sum'}).reset_index()\n",
    "hour_mode_21_23 = evt_21_23.groupby('ref_hash').agg({'evt_21_3':'sum'}).reset_index()\n",
    "\n",
    "evt_night_18_20 = evt_night_18_20.merge( hour_mode_18_20, how = \"left\", on = \"ref_hash\" )\n",
    "evt_night_21_23 = evt_night_21_23.merge( hour_mode_21_23, how = \"left\", on = \"ref_hash\" )\n",
    "\n",
    "evt_night_18_20[\"evt_21_3\"] =  (evt_night_18_20[\"evt_21_3\"] > 1).astype('int8')\n",
    "evt_night_21_23[\"evt_21_3\"] =  (evt_night_21_23[\"evt_21_3\"] > 1).astype('int8')\n",
    "\n",
    "evt_night_18_20.to_csv( loc_ftr + \"\\\\evt_nght_trn.csv\", index = False )\n",
    "evt_night_21_23.to_csv( loc_ftr + \"\\\\evt_nght_tst.csv\", index = False )\n",
    "\n",
    "del evt_18_20['evt_21_3']\n",
    "del evt_21_23['evt_21_3']"
   ]
  },
  {
   "cell_type": "markdown",
   "metadata": {},
   "source": [
    "## <span style=\"color:green\"> **Hizo eventos entre 4 hs y 10 hs (Mañana)** </span>"
   ]
  },
  {
   "cell_type": "markdown",
   "metadata": {},
   "source": [
    "#### <span style=\"color:Orange\"> **One-Hot Encoding** </span> "
   ]
  },
  {
   "cell_type": "code",
   "execution_count": 19,
   "metadata": {},
   "outputs": [],
   "source": [
    "evt_18_20['date'] = pd.to_datetime(evt_18_20['date'])\n",
    "evt_21_23['date'] = pd.to_datetime(evt_21_23['date'])\n",
    "\n",
    "evt_18_20['evt_4_10'] = (evt_18_20['date'].dt.hour < 11) & (evt_18_20['date'].dt.hour > 3)\n",
    "evt_21_23['evt_4_10'] = (evt_21_23['date'].dt.hour < 11) & (evt_18_20['date'].dt.hour > 3)\n",
    "\n",
    "evt_morn_18_20 = rh_trn.copy()\n",
    "evt_morn_21_23 = rh_tst.copy()\n",
    "\n",
    "hour_mode_18_20 = evt_18_20.groupby('ref_hash').agg({'evt_4_10':'sum'}).reset_index()\n",
    "hour_mode_21_23 = evt_21_23.groupby('ref_hash').agg({'evt_4_10':'sum'}).reset_index()\n",
    "\n",
    "evt_morn_18_20 = evt_morn_18_20.merge( hour_mode_18_20, how = \"left\", on = \"ref_hash\" )\n",
    "evt_morn_21_23 = evt_morn_21_23.merge( hour_mode_21_23, how = \"left\", on = \"ref_hash\" )\n",
    "\n",
    "evt_morn_18_20[\"evt_4_10\"] =  (evt_morn_18_20[\"evt_4_10\"] > 1).astype('int8')\n",
    "evt_morn_21_23[\"evt_4_10\"] =  (evt_morn_21_23[\"evt_4_10\"] > 1).astype('int8')\n",
    "\n",
    "evt_morn_18_20.to_csv( loc_ftr + \"\\\\evt_morn_trn.csv\", index = False )\n",
    "evt_morn_21_23.to_csv( loc_ftr + \"\\\\evt_morn_tst.csv\", index = False )\n",
    "\n",
    "del evt_18_20['evt_4_10']\n",
    "del evt_21_23['evt_4_10']"
   ]
  },
  {
   "cell_type": "markdown",
   "metadata": {},
   "source": [
    "## <span style=\"color:green\"> **Hizo eventos entre 11 hs y 15 hs (Mediodia)** </span>"
   ]
  },
  {
   "cell_type": "markdown",
   "metadata": {},
   "source": [
    "#### <span style=\"color:Orange\"> **One-Hot Encoding** </span> "
   ]
  },
  {
   "cell_type": "code",
   "execution_count": 20,
   "metadata": {},
   "outputs": [],
   "source": [
    "evt_18_20['date'] = pd.to_datetime(evt_18_20['date'])\n",
    "evt_21_23['date'] = pd.to_datetime(evt_21_23['date'])\n",
    "\n",
    "evt_18_20['evt_11_15'] = (evt_18_20['date'].dt.hour < 16) & (evt_18_20['date'].dt.hour > 10)\n",
    "evt_21_23['evt_11_15'] = (evt_21_23['date'].dt.hour < 16) & (evt_18_20['date'].dt.hour > 10)\n",
    "\n",
    "evt_midday_18_20 = rh_trn.copy()\n",
    "evt_midday_21_23 = rh_tst.copy()\n",
    "\n",
    "hour_mode_18_20 = evt_18_20.groupby('ref_hash').agg({'evt_11_15':'sum'}).reset_index()\n",
    "hour_mode_21_23 = evt_21_23.groupby('ref_hash').agg({'evt_11_15':'sum'}).reset_index()\n",
    "\n",
    "evt_midday_18_20 = evt_midday_18_20.merge( hour_mode_18_20, how = \"left\", on = \"ref_hash\" )\n",
    "evt_midday_21_23 = evt_midday_21_23.merge( hour_mode_21_23, how = \"left\", on = \"ref_hash\" )\n",
    "\n",
    "evt_midday_18_20[\"evt_11_15\"] =  (evt_midday_18_20[\"evt_11_15\"] > 1).astype('int8')\n",
    "evt_midday_21_23[\"evt_11_15\"] =  (evt_midday_21_23[\"evt_11_15\"] > 1).astype('int8')\n",
    "\n",
    "evt_midday_18_20.to_csv( loc_ftr + \"\\\\evt_mday_tst.csv\", index = False )\n",
    "evt_midday_21_23.to_csv( loc_ftr + \"\\\\evt_mday_trn.csv\", index = False )\n",
    "\n",
    "del evt_18_20['evt_11_15']\n",
    "del evt_21_23['evt_11_15']"
   ]
  },
  {
   "cell_type": "markdown",
   "metadata": {},
   "source": [
    "## <span style=\"color:green\"> **Hizo eventos entre 16 hs y 20 hs (Tarde)** </span>"
   ]
  },
  {
   "cell_type": "markdown",
   "metadata": {},
   "source": [
    "#### <span style=\"color:Orange\"> **One-Hot Encoding** </span> "
   ]
  },
  {
   "cell_type": "code",
   "execution_count": 21,
   "metadata": {},
   "outputs": [],
   "source": [
    "evt_18_20['date'] = pd.to_datetime(evt_18_20['date'])\n",
    "evt_21_23['date'] = pd.to_datetime(evt_21_23['date'])\n",
    "\n",
    "evt_18_20['evt_16_20'] = (evt_18_20['date'].dt.hour < 21) & (evt_18_20['date'].dt.hour > 15)\n",
    "evt_21_23['evt_16_20'] = (evt_21_23['date'].dt.hour < 21) & (evt_18_20['date'].dt.hour > 15)\n",
    "\n",
    "evt_after_18_20 = rh_trn.copy()\n",
    "evt_after_21_23 = rh_tst.copy()\n",
    "\n",
    "hour_mode_18_20 = evt_18_20.groupby('ref_hash').agg({'evt_16_20':'sum'}).reset_index()\n",
    "hour_mode_21_23 = evt_21_23.groupby('ref_hash').agg({'evt_16_20':'sum'}).reset_index()\n",
    "\n",
    "evt_after_18_20 = evt_after_18_20.merge( hour_mode_18_20, how = \"left\", on = \"ref_hash\" )\n",
    "evt_after_21_23 = evt_after_21_23.merge( hour_mode_21_23, how = \"left\", on = \"ref_hash\" )\n",
    "\n",
    "evt_after_18_20[\"evt_16_20\"] =  (evt_after_18_20[\"evt_16_20\"] > 1).astype('int8')\n",
    "evt_after_21_23[\"evt_16_20\"] =  (evt_after_21_23[\"evt_16_20\"] > 1).astype('int8')\n",
    "\n",
    "evt_after_18_20.to_csv( loc_ftr + \"\\\\evt_aftr_trn.csv\", index = False )\n",
    "evt_after_21_23.to_csv( loc_ftr + \"\\\\evt_aftr_tst.csv\", index = False )\n",
    "\n",
    "del evt_18_20['evt_16_20']\n",
    "del evt_21_23['evt_16_20']"
   ]
  },
  {
   "cell_type": "markdown",
   "metadata": {},
   "source": [
    "## <span style=\"color:green\"> **Tiempo hasta que el usuario realizo algun evento evento del TOP 3** </span>"
   ]
  },
  {
   "cell_type": "code",
   "execution_count": 9,
   "metadata": {},
   "outputs": [],
   "source": [
    "tt_3_evt_18_20 = rh_trn.copy()\n",
    "tt_3_evt_21_23 = rh_tst.copy()\n",
    "\n",
    "cond_1_18_20 = evt_18_20['kind'] == evt_18_20['kind'].value_counts().head().index[0]; cond_1_21_23 = evt_21_23['kind'] == evt_21_23['kind'].value_counts().head().index[0];\n",
    "cond_2_18_20 = evt_18_20['kind'] == evt_18_20['kind'].value_counts().head().index[1]; cond_2_21_23 = evt_21_23['kind'] == evt_21_23['kind'].value_counts().head().index[1];\n",
    "cond_3_18_20 = evt_18_20['kind'] == evt_18_20['kind'].value_counts().head().index[2]; cond_3_21_23 = evt_21_23['kind'] == evt_21_23['kind'].value_counts().head().index[2];\n",
    "\n",
    "k1 = evt_18_20.loc[ cond_1_18_20 | cond_2_18_20 | cond_3_18_20, [\"ref_hash\", \"date\"] ].sort_values( by = \"date\", ascending = True ).drop_duplicates( subset = [\"ref_hash\"], keep = \"first\" )\n",
    "k2 = evt_21_23.loc[ cond_1_21_23 | cond_2_21_23 | cond_3_21_23, [\"ref_hash\", \"date\"] ].sort_values( by = \"date\", ascending = True ).drop_duplicates( subset = [\"ref_hash\"], keep = \"first\" )\n",
    "\n",
    "tt_3_evt_18_20 = tt_3_evt_18_20.merge( k1, how = \"left\", on = \"ref_hash\" )\n",
    "tt_3_evt_21_23 = tt_3_evt_21_23.merge( k2, how = \"left\", on = \"ref_hash\" )\n",
    "\n",
    "tt_3_evt_18_20[\"date\"] = ( pd.to_datetime( tt_3_evt_18_20[\"date\"] ) - dt.datetime( 2019, 4, 18 ) ).dt.total_seconds()\n",
    "tt_3_evt_21_23[\"date\"] = ( pd.to_datetime( tt_3_evt_21_23[\"date\"] ) - dt.datetime( 2019, 4, 21 ) ).dt.total_seconds()\n",
    "\n",
    "tt_3_evt_18_20.fillna( 3*24*3600, inplace = True ) #Quiere decir que no lo realizo\n",
    "tt_3_evt_21_23.fillna( 3*24*3600, inplace = True ) #Quiere decir que no lo realizo\n",
    "\n",
    "tt_3_evt_21_23.to_csv( loc_ftr + \"\\\\tt_3_evt_trn.csv\", index = False )\n",
    "tt_3_evt_21_23.to_csv( loc_ftr + \"\\\\tt_3_evt_tst.csv\", index = False )"
   ]
  },
  {
   "cell_type": "markdown",
   "metadata": {},
   "source": [
    "## <span style=\"color:green\"> **Realizo algun evento del TOP 3** </span>\n",
    "Se corroboro inicialmente que los top3 tipos de eventos coinciden en las 3 ventanas"
   ]
  },
  {
   "cell_type": "markdown",
   "metadata": {},
   "source": [
    "#### <span style=\"color:orange\"> **OneHotEncoding** </span>"
   ]
  },
  {
   "cell_type": "code",
   "execution_count": 22,
   "metadata": {},
   "outputs": [],
   "source": [
    "top3_evt_18_20 = rh_trn.copy()\n",
    "top3_evt_21_23 = rh_tst.copy()\n",
    "\n",
    "cond_1_18_20 = evt_18_20['kind'] == evt_18_20['kind'].value_counts().head().index[0]; cond_1_21_23 = evt_21_23['kind'] == evt_21_23['kind'].value_counts().head().index[0];\n",
    "cond_2_18_20 = evt_18_20['kind'] == evt_18_20['kind'].value_counts().head().index[1]; cond_2_21_23 = evt_21_23['kind'] == evt_21_23['kind'].value_counts().head().index[1];\n",
    "cond_3_18_20 = evt_18_20['kind'] == evt_18_20['kind'].value_counts().head().index[2]; cond_3_21_23 = evt_21_23['kind'] == evt_21_23['kind'].value_counts().head().index[2];\n",
    "\n",
    "k1 = evt_18_20.loc[ cond_1_18_20 | cond_2_18_20 | cond_3_18_20, [\"ref_hash\", \"kind\"] ]; k1[\"kind\"] = k1[\"kind\"].astype( \"category\" )\n",
    "k2 = evt_21_23.loc[ cond_1_21_23 | cond_2_21_23 | cond_3_21_23, [\"ref_hash\", \"kind\"] ]; k2[\"kind\"] = k2[\"kind\"].astype( \"category\" )\n",
    "\n",
    "k1 = k1.groupby( \"ref_hash\" ).agg( {\"kind\":\"value_counts\"} ).unstack( level = 1 ).fillna( 0 )\n",
    "k2 = k2.groupby( \"ref_hash\" ).agg( {\"kind\":\"value_counts\"} ).unstack( level = 1 ).fillna( 0 )\n",
    "\n",
    "top3_evt_18_20 = top3_evt_18_20.merge( k1, how = \"left\", on = \"ref_hash\" ).fillna( 0 ); top3_evt_18_20.columns = [\"ref_hash\", \"evt1\", \"evt2\", \"evt3\" ]\n",
    "top3_evt_21_23 = top3_evt_21_23.merge( k2, how = \"left\", on = \"ref_hash\" ).fillna( 0 ); top3_evt_21_23.columns = [\"ref_hash\", \"evt1\", \"evt2\", \"evt3\" ]\n",
    "\n",
    "top3_evt_18_20[\"evt1\"] = top3_evt_18_20[\"evt1\"].apply( lambda x: 1 if x > 0 else 0 ); top3_evt_21_23[\"evt1\"] = top3_evt_21_23[\"evt1\"].apply( lambda x: 1 if x > 0 else 0 );\n",
    "top3_evt_18_20[\"evt2\"] = top3_evt_18_20[\"evt2\"].apply( lambda x: 1 if x > 0 else 0 ); top3_evt_21_23[\"evt2\"] = top3_evt_21_23[\"evt1\"].apply( lambda x: 1 if x > 0 else 0 );\n",
    "top3_evt_18_20[\"evt3\"] = top3_evt_18_20[\"evt3\"].apply( lambda x: 1 if x > 0 else 0 ); top3_evt_21_23[\"evt3\"] = top3_evt_21_23[\"evt3\"].apply( lambda x: 1 if x > 0 else 0 );\n",
    "\n",
    "top3_evt_18_20.to_csv( loc_ftr + \"\\\\top3_evt_trn.csv\", index = False )\n",
    "top3_evt_21_23.to_csv( loc_ftr + \"\\\\top3_evt_tst.csv\", index = False )"
   ]
  },
  {
   "cell_type": "markdown",
   "metadata": {},
   "source": [
    "## <span style=\"color:green\"> **Realizo un evento de la aplicacion: 210** </span>\n",
    "Esta aplicacion es la mas popular respecto a eventos, con mas del 25% del total"
   ]
  },
  {
   "cell_type": "code",
   "execution_count": 23,
   "metadata": {},
   "outputs": [],
   "source": [
    "evt_a210_18_20 = rh_trn.copy()\n",
    "evt_a210_21_23 = rh_tst.copy()\n",
    "\n",
    "do_evt_app_210_18_20 = evt_18_20[ [\"ref_hash\", \"application_id\"] ]; do_evt_app_210_18_20[\"do_it_210\"] = do_evt_app_210_18_20[\"application_id\"].apply( lambda x: 1 if x == 210 else 0 )\n",
    "do_evt_app_210_21_23 = evt_21_23[ [\"ref_hash\", \"application_id\"] ]; do_evt_app_210_21_23[\"do_it_210\"] = do_evt_app_210_21_23[\"application_id\"].apply( lambda x: 1 if x == 210 else 0 )\n",
    "\n",
    "evt_a210_18_20 = evt_a210_18_20.merge( do_evt_app_210_18_20, how = \"left\", on = \"ref_hash\" ); del( evt_a210_18_20[\"application_id\"] )\n",
    "evt_a210_21_23 = evt_a210_21_23.merge( do_evt_app_210_21_23, how = \"left\", on = \"ref_hash\" ); del( evt_a210_21_23[\"application_id\"] )\n",
    "\n",
    "evt_a210_18_20.to_csv( loc_ftr + \"\\\\evt_a210_trn.csv\", index = False )\n",
    "evt_a210_21_23.to_csv( loc_ftr + \"\\\\evt_a210_tst.csv\", index = False )"
   ]
  },
  {
   "cell_type": "markdown",
   "metadata": {},
   "source": [
    "## <span style=\"color:green\"> **Realizo un evento de ID: 1** </span>\n",
    "Esta id de evento es la mas popular en todas las ventanas"
   ]
  },
  {
   "cell_type": "code",
   "execution_count": 24,
   "metadata": {},
   "outputs": [],
   "source": [
    "evt_id01_18_20 = rh_trn.copy()\n",
    "evt_id01_21_23 = rh_tst.copy()\n",
    "\n",
    "do_evt_id_1_18_20 = evt_18_20[ [\"ref_hash\", \"event_id\"] ]; do_evt_id_1_18_20[\"do_id_1\"] = do_evt_id_1_18_20[\"event_id\"].apply( lambda x: 1 if x == 1 else 0 )\n",
    "do_evt_id_1_21_23 = evt_21_23[ [\"ref_hash\", \"event_id\"] ]; do_evt_id_1_21_23[\"do_id_1\"] = do_evt_id_1_21_23[\"event_id\"].apply( lambda x: 1 if x == 1 else 0 )\n",
    "\n",
    "evt_id01_18_20 = evt_id01_18_20.merge( do_evt_id_1_18_20, how = \"left\", on = \"ref_hash\" ); del( evt_id01_18_20[\"event_id\"] )\n",
    "evt_id01_21_23 = evt_id01_21_23.merge( do_evt_id_1_21_23, how = \"left\", on = \"ref_hash\" ); del( evt_id01_21_23[\"event_id\"] )\n",
    "\n",
    "evt_a210_18_20.to_csv( loc_ftr + \"\\\\evt_id01_trn.csv\", index = False )\n",
    "evt_a210_21_23.to_csv( loc_ftr + \"\\\\evt_id01_tst.csv\", index = False )"
   ]
  }
 ],
 "metadata": {
  "kernelspec": {
   "display_name": "Python 3",
   "language": "python",
   "name": "python3"
  },
  "language_info": {
   "codemirror_mode": {
    "name": "ipython",
    "version": 3
   },
   "file_extension": ".py",
   "mimetype": "text/x-python",
   "name": "python",
   "nbconvert_exporter": "python",
   "pygments_lexer": "ipython3",
   "version": "3.7.0"
  }
 },
 "nbformat": 4,
 "nbformat_minor": 2
}
