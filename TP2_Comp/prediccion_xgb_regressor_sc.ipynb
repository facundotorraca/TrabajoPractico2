{
 "cells": [
  {
   "cell_type": "code",
   "execution_count": 1,
   "metadata": {},
   "outputs": [],
   "source": [
    "import pandas as pd\n",
    "import numpy as np"
   ]
  },
  {
   "cell_type": "code",
   "execution_count": 2,
   "metadata": {},
   "outputs": [],
   "source": [
    "loc_lbl = r\"D:\\FacundoTorraca\\Documents\\TP2_ML\\Labels\""
   ]
  },
  {
   "cell_type": "code",
   "execution_count": 3,
   "metadata": {},
   "outputs": [],
   "source": [
    "loc_ftr = r\"D:\\FacundoTorraca\\Documents\\TP2_ML\\FeaturesComp\\FeaturesSC\""
   ]
  },
  {
   "cell_type": "code",
   "execution_count": 4,
   "metadata": {},
   "outputs": [],
   "source": [
    "lbl_24_26 = pd.read_csv( loc_lbl + \"\\\\label_ins_24_26.csv\" )\n",
    "lbl_target = pd.read_csv( loc_lbl + \"\\\\target.csv\" )"
   ]
  },
  {
   "cell_type": "code",
   "execution_count": 5,
   "metadata": {},
   "outputs": [],
   "source": [
    "X = lbl_24_26[ [\"ref_hash\"] ]; Y = lbl_24_26[ [\"ref_hash\",\"24_26_sc\"] ]; Z = lbl_target[ [\"ref_hash\"] ]; "
   ]
  },
  {
   "cell_type": "markdown",
   "metadata": {},
   "source": [
    "# <span style=\"color:orange\">  Preparo los datos para predecir </span>"
   ]
  },
  {
   "cell_type": "code",
   "execution_count": 6,
   "metadata": {},
   "outputs": [],
   "source": [
    "Z_var = Z;"
   ]
  },
  {
   "cell_type": "markdown",
   "metadata": {},
   "source": [
    "### Agregamos los features "
   ]
  },
  {
   "cell_type": "code",
   "execution_count": 7,
   "metadata": {},
   "outputs": [],
   "source": [
    "ftr_01_Z = pd.read_csv( loc_ftr + \"\\\\hr_f_evt_tst.csv\" ); Z_var = Z_var.merge( ftr_01_Z, how = \"inner\", on = \"ref_hash\" ) \n",
    "ftr_02_Z = pd.read_csv( loc_ftr + \"\\\\cant_evt_tst.csv\" ); Z_var = Z_var.merge( ftr_02_Z, how = \"inner\", on = \"ref_hash\" ) \n",
    "ftr_03_Z = pd.read_csv( loc_ftr + \"\\\\cevt_atr_tst.csv\" ); Z_var = Z_var.merge( ftr_03_Z, how = \"inner\", on = \"ref_hash\" ) \n",
    "ftr_04_Z = pd.read_csv( loc_ftr + \"\\\\frst_evt_tst.csv\" ); Z_var = Z_var.merge( ftr_04_Z, how = \"inner\", on = \"ref_hash\" ) \n",
    "#ftr_05_Z = pd.read_csv( loc_ftr + \"\\\\kind_evt_tst.csv\" ); Z_var = Z_var.merge( ftr_05_Z, how = \"inner\", on = \"ref_hash\" ) \n",
    "ftr_06_Z = pd.read_csv( loc_ftr + \"\\\\mapp_evt_tst.csv\" ); Z_var = Z_var.merge( ftr_06_Z, how = \"inner\", on = \"ref_hash\" ) \n",
    "ftr_07_Z = pd.read_csv( loc_ftr + \"\\\\wifi_evt_tst.csv\" ); Z_var = Z_var.merge( ftr_07_Z, how = \"inner\", on = \"ref_hash\" ) \n",
    "ftr_08_Z = pd.read_csv( loc_ftr + \"\\\\last_evt_tst.csv\" ); Z_var = Z_var.merge( ftr_08_Z, how = \"inner\", on = \"ref_hash\" ) \n",
    "#ftr_09_Z = pd.read_csv( loc_ftr + \"\\\\evt_morn_tst.csv\" ); Z_var = Z_var.merge( ftr_09_Z, how = \"inner\", on = \"ref_hash\" ) \n",
    "#ftr_10_Z = pd.read_csv( loc_ftr + \"\\\\evt_mday_tst.csv\" ); Z_var = Z_var.merge( ftr_10_Z, how = \"inner\", on = \"ref_hash\" ) \n",
    "#ftr_11_Z = pd.read_csv( loc_ftr + \"\\\\evt_aftr_tst.csv\" ); Z_var = Z_var.merge( ftr_11_Z, how = \"inner\", on = \"ref_hash\" ) \n",
    "#ftr_12_Z = pd.read_csv( loc_ftr + \"\\\\evt_nght_tst.csv\" ); Z_var = Z_var.merge( ftr_12_Z, how = \"inner\", on = \"ref_hash\" ) \n",
    "#ftr_13_Z = pd.read_csv( loc_ftr + \"\\\\tt_3_evt_tst.csv\" ); Z_var = Z_var.merge( ftr_13_Z, how = \"inner\", on = \"ref_hash\" ) \n",
    "#ftr_14_Z = pd.read_csv( loc_ftr + \"\\\\top3_evt_tst.csv\" ); Z_var = Z_var.merge( ftr_14_Z, how = \"inner\", on = \"ref_hash\" ) \n",
    "#ftr_15_Z = pd.read_csv( loc_ftr + \"\\\\evt_a210_tst.csv\" ); Z_var = Z_var.merge( ftr_15_Z, how = \"inner\", on = \"ref_hash\" ) \n",
    "#ftr_16_Z = pd.read_csv( loc_ftr + \"\\\\evt_id01_tst.csv\" ); Z_var = Z_var.merge( ftr_16_Z, how = \"inner\", on = \"ref_hash\" ) \n",
    "\n",
    "#ftr_17_Z = pd.read_csv( loc_ftr + \"\\\\main_ahr_tst.csv\" ); Z_var = Z_var.merge( ftr_17_Z, how = \"inner\", on = \"ref_hash\" ) \n",
    "#ftr_18_Z = pd.read_csv( loc_ftr + \"\\\\hr_f_auc_tst.csv\" ); Z_var = Z_var.merge( ftr_18_Z, how = \"inner\", on = \"ref_hash\" )\n",
    "#ftr_19_Z = pd.read_csv( loc_ftr + \"\\\\cant_auc_tst.csv\" ); Z_var = Z_var.merge( ftr_19_Z, how = \"inner\", on = \"ref_hash\" ) \n",
    "ftr_20_Z = pd.read_csv( loc_ftr + \"\\\\frst_auc_tst.csv\" ); Z_var = Z_var.merge( ftr_20_Z, how = \"inner\", on = \"ref_hash\" ) \n",
    "ftr_21_Z = pd.read_csv( loc_ftr + \"\\\\srce_auc_tst.csv\" ); Z_var = Z_var.merge( ftr_21_Z, how = \"inner\", on = \"ref_hash\" ) \n",
    "ftr_22_Z = pd.read_csv( loc_ftr + \"\\\\last_auc_tst.csv\" ); Z_var = Z_var.merge( ftr_22_Z, how = \"inner\", on = \"ref_hash\" ) \n",
    "#ftr_23_Z = pd.read_csv( loc_ftr + \"\\\\mas1_auc_tst.csv\" ); Z_var = Z_var.merge( ftr_23_Z, how = \"inner\", on = \"ref_hash\" ) \n",
    "ftr_24_Z = pd.read_csv( loc_ftr + \"\\\\auc_morn_tst.csv\" ); Z_var = Z_var.merge( ftr_24_Z, how = \"inner\", on = \"ref_hash\" ) \n",
    "ftr_25_Z = pd.read_csv( loc_ftr + \"\\\\auc_mday_tst.csv\" ); Z_var = Z_var.merge( ftr_25_Z, how = \"inner\", on = \"ref_hash\" ) \n",
    "ftr_26_Z = pd.read_csv( loc_ftr + \"\\\\auc_aftr_tst.csv\" ); Z_var = Z_var.merge( ftr_26_Z, how = \"inner\", on = \"ref_hash\" ) \n",
    "ftr_27_Z = pd.read_csv( loc_ftr + \"\\\\auc_nght_tst.csv\" ); Z_var = Z_var.merge( ftr_27_Z, how = \"inner\", on = \"ref_hash\" ) \n",
    "\n",
    "ftr_28_Z = pd.read_csv( loc_ftr + \"\\\\cant_clk_tst.csv\" ); Z_var = Z_var.merge( ftr_28_Z, how = \"inner\", on = \"ref_hash\" ) \n",
    "#ftr_29_Z = pd.read_csv( loc_ftr + \"\\\\frst_clk_tst.csv\" ); Z_var = Z_var.merge( ftr_29_Z, how = \"inner\", on = \"ref_hash\" ) \n",
    "#ftr_30_Z = pd.read_csv( loc_ftr + \"\\\\last_clk_tst.csv\" ); Z_var = Z_var.merge( ftr_30_Z, how = \"inner\", on = \"ref_hash\" ) \n",
    "ftr_31_Z = pd.read_csv( loc_ftr + \"\\\\clk_morn_tst.csv\" ); Z_var = Z_var.merge( ftr_31_Z, how = \"inner\", on = \"ref_hash\" ) \n",
    "ftr_32_Z = pd.read_csv( loc_ftr + \"\\\\clk_mday_tst.csv\" ); Z_var = Z_var.merge( ftr_32_Z, how = \"inner\", on = \"ref_hash\" ) \n",
    "ftr_33_Z = pd.read_csv( loc_ftr + \"\\\\clk_aftr_tst.csv\" ); Z_var = Z_var.merge( ftr_33_Z, how = \"inner\", on = \"ref_hash\" ) \n",
    "#ftr_34_Z = pd.read_csv( loc_ftr + \"\\\\clk_nght_tst.csv\" ); Z_var = Z_var.merge( ftr_34_Z, how = \"inner\", on = \"ref_hash\" ) \n",
    "\n",
    "ftr_35_Z = pd.read_csv( loc_ftr + \"\\\\cant_ins_tst.csv\" ); Z_var = Z_var.merge( ftr_35_Z, how = \"inner\", on = \"ref_hash\" ) \n",
    "ftr_36_Z = pd.read_csv( loc_ftr + \"\\\\main_app_tst.csv\" ); Z_var = Z_var.merge( ftr_36_Z, how = \"inner\", on = \"ref_hash\" ) \n",
    "#ftr_37_Z = pd.read_csv( loc_ftr + \"\\\\cins_imp_tst.csv\" ); Z_var = Z_var.merge( ftr_37_Z, how = \"inner\", on = \"ref_hash\" ) \n",
    "ftr_38_Z = pd.read_csv( loc_ftr + \"\\\\cins_atr_tst.csv\" ); Z_var = Z_var.merge( ftr_38_Z, how = \"inner\", on = \"ref_hash\" ) \n",
    "ftr_39_Z = pd.read_csv( loc_ftr + \"\\\\frst_ins_tst.csv\" ); Z_var = Z_var.merge( ftr_39_Z, how = \"inner\", on = \"ref_hash\" )\n",
    "ftr_40_Z = pd.read_csv( loc_ftr + \"\\\\ins_morn_tst.csv\" ); Z_var = Z_var.merge( ftr_40_Z, how = \"inner\", on = \"ref_hash\" ) \n",
    "ftr_41_Z = pd.read_csv( loc_ftr + \"\\\\ins_mday_tst.csv\" ); Z_var = Z_var.merge( ftr_41_Z, how = \"inner\", on = \"ref_hash\" ) \n",
    "ftr_42_Z = pd.read_csv( loc_ftr + \"\\\\ins_aftr_tst.csv\" ); Z_var = Z_var.merge( ftr_42_Z, how = \"inner\", on = \"ref_hash\" ) \n",
    "ftr_43_Z = pd.read_csv( loc_ftr + \"\\\\ins_nght_tst.csv\" ); Z_var = Z_var.merge( ftr_43_Z, how = \"inner\", on = \"ref_hash\" ) \n",
    "\n",
    "#ftr_44_Z = pd.read_csv( loc_ftr + \"\\\\wif_fevt_tst.csv\" ); Z_var = Z_var.merge( ftr_44_Z, how = \"inner\", on = \"ref_hash\" ) \n",
    "#ftr_45_Z = pd.read_csv( loc_ftr + \"\\\\wif_levt_tst.csv\" ); Z_var = Z_var.merge( ftr_45_Z, how = \"inner\", on = \"ref_hash\" ) \n",
    "ftr_46_Z = pd.read_csv( loc_ftr + \"\\\\knd_levt_tst.csv\" ); Z_var = Z_var.merge( ftr_46_Z, how = \"inner\", on = \"ref_hash\" ) \n",
    "ftr_47_Z = pd.read_csv( loc_ftr + \"\\\\cevt_nig_tst.csv\" ); Z_var = Z_var.merge( ftr_47_Z, how = \"inner\", on = \"ref_hash\" ) \n",
    "ftr_48_Z = pd.read_csv( loc_ftr + \"\\\\cevt_mor_tst.csv\" ); Z_var = Z_var.merge( ftr_48_Z, how = \"inner\", on = \"ref_hash\" ) \n",
    "ftr_49_Z = pd.read_csv( loc_ftr + \"\\\\cevt_mid_tst.csv\" ); Z_var = Z_var.merge( ftr_49_Z, how = \"inner\", on = \"ref_hash\" ) \n",
    "ftr_50_Z = pd.read_csv( loc_ftr + \"\\\\cevt_aft_tst.csv\" ); Z_var = Z_var.merge( ftr_50_Z, how = \"inner\", on = \"ref_hash\" ) \n",
    "#ftr_51_Z = pd.read_csv( loc_ftr + \"\\\\cevt_wat_tst.csv\" ); Z_var = Z_var.merge( ftr_51_Z, how = \"inner\", on = \"ref_hash\" ) \n",
    "#ftr_52_Z = pd.read_csv( loc_ftr + \"\\\\mapw_evt_tst.csv\" ); Z_var = Z_var.merge( ftr_52_Z, how = \"inner\", on = \"ref_hash\" ) \n",
    "#ftr_53_Z = pd.read_csv( loc_ftr + \"\\\\cmapw_ev_tst.csv\" ); Z_var = Z_var.merge( ftr_53_Z, how = \"inner\", on = \"ref_hash\" ) \n",
    "\n",
    "#ftr_54_Z = pd.read_csv( loc_ftr + \"\\\\sdia_auc_tst.csv\" ); Z_var = Z_var.merge( ftr_54_Z, how = \"inner\", on = \"ref_hash\" )"
   ]
  },
  {
   "cell_type": "markdown",
   "metadata": {},
   "source": [
    "# <span style=\"color:orange\">  Preparo los datos para entrenar </span>"
   ]
  },
  {
   "cell_type": "code",
   "execution_count": 8,
   "metadata": {},
   "outputs": [],
   "source": [
    "Y_var = Y; X_var = X"
   ]
  },
  {
   "cell_type": "markdown",
   "metadata": {},
   "source": [
    "### Agregamos los features "
   ]
  },
  {
   "cell_type": "code",
   "execution_count": 9,
   "metadata": {},
   "outputs": [],
   "source": [
    "ftr_01_X = pd.read_csv( loc_ftr + \"\\\\hr_f_evt_trn.csv\" ); X_var = X_var.merge( ftr_01_X, how = \"inner\", on = \"ref_hash\" ) \n",
    "ftr_02_X = pd.read_csv( loc_ftr + \"\\\\cant_evt_trn.csv\" ); X_var = X_var.merge( ftr_02_X, how = \"inner\", on = \"ref_hash\" ) \n",
    "ftr_03_X = pd.read_csv( loc_ftr + \"\\\\cevt_atr_trn.csv\" ); X_var = X_var.merge( ftr_03_X, how = \"inner\", on = \"ref_hash\" ) \n",
    "ftr_04_X = pd.read_csv( loc_ftr + \"\\\\frst_evt_trn.csv\" ); X_var = X_var.merge( ftr_04_X, how = \"inner\", on = \"ref_hash\" ) \n",
    "#ftr_05_X = pd.read_csv( loc_ftr + \"\\\\kind_evt_trn.csv\" ); X_var = X_var.merge( ftr_05_X, how = \"inner\", on = \"ref_hash\" ) \n",
    "ftr_06_X = pd.read_csv( loc_ftr + \"\\\\mapp_evt_trn.csv\" ); X_var = X_var.merge( ftr_06_X, how = \"inner\", on = \"ref_hash\" ) \n",
    "ftr_07_X = pd.read_csv( loc_ftr + \"\\\\wifi_evt_trn.csv\" ); X_var = X_var.merge( ftr_07_X, how = \"inner\", on = \"ref_hash\" ) \n",
    "ftr_08_X = pd.read_csv( loc_ftr + \"\\\\last_evt_trn.csv\" ); X_var = X_var.merge( ftr_08_X, how = \"inner\", on = \"ref_hash\" ) \n",
    "#ftr_09_X = pd.read_csv( loc_ftr + \"\\\\evt_morn_trn.csv\" ); X_var = X_var.merge( ftr_09_X, how = \"inner\", on = \"ref_hash\" ) \n",
    "#ftr_10_X = pd.read_csv( loc_ftr + \"\\\\evt_mday_trn.csv\" ); X_var = X_var.merge( ftr_10_X, how = \"inner\", on = \"ref_hash\" ) \n",
    "#ftr_11_X = pd.read_csv( loc_ftr + \"\\\\evt_aftr_trn.csv\" ); X_var = X_var.merge( ftr_11_X, how = \"inner\", on = \"ref_hash\" ) \n",
    "#ftr_12_X = pd.read_csv( loc_ftr + \"\\\\evt_nght_trn.csv\" ); X_var = X_var.merge( ftr_12_X, how = \"inner\", on = \"ref_hash\" ) \n",
    "#ftr_13_X = pd.read_csv( loc_ftr + \"\\\\tt_3_evt_trn.csv\" ); X_var = X_var.merge( ftr_13_X, how = \"inner\", on = \"ref_hash\" ) \n",
    "#ftr_14_X = pd.read_csv( loc_ftr + \"\\\\top3_evt_trn.csv\" ); X_var = X_var.merge( ftr_14_X, how = \"inner\", on = \"ref_hash\" ) \n",
    "#ftr_15_X = pd.read_csv( loc_ftr + \"\\\\evt_a210_trn.csv\" ); X_var = X_var.merge( ftr_15_X, how = \"inner\", on = \"ref_hash\" ) \n",
    "#ftr_16_X = pd.read_csv( loc_ftr + \"\\\\evt_id01_trn.csv\" ); X_var = X_var.merge( ftr_16_X, how = \"inner\", on = \"ref_hash\" ) \n",
    "\n",
    "#ftr_17_X = pd.read_csv( loc_ftr + \"\\\\main_ahr_trn.csv\" ); X_var = X_var.merge( ftr_17_X, how = \"inner\", on = \"ref_hash\" ) \n",
    "#ftr_18_X = pd.read_csv( loc_ftr + \"\\\\hr_f_auc_trn.csv\" ); X_var = X_var.merge( ftr_18_X, how = \"inner\", on = \"ref_hash\" )\n",
    "#ftr_19_X = pd.read_csv( loc_ftr + \"\\\\cant_auc_trn.csv\" ); X_var = X_var.merge( ftr_19_X, how = \"inner\", on = \"ref_hash\" ) \n",
    "ftr_20_X = pd.read_csv( loc_ftr + \"\\\\frst_auc_trn.csv\" ); X_var = X_var.merge( ftr_20_X, how = \"inner\", on = \"ref_hash\" ) \n",
    "ftr_21_X = pd.read_csv( loc_ftr + \"\\\\srce_auc_trn.csv\" ); X_var = X_var.merge( ftr_21_X, how = \"inner\", on = \"ref_hash\" ) \n",
    "ftr_22_X = pd.read_csv( loc_ftr + \"\\\\last_auc_trn.csv\" ); X_var = X_var.merge( ftr_22_X, how = \"inner\", on = \"ref_hash\" ) \n",
    "#ftr_23_X = pd.read_csv( loc_ftr + \"\\\\mas1_auc_trn.csv\" ); X_var = X_var.merge( ftr_23_X, how = \"inner\", on = \"ref_hash\" ) \n",
    "ftr_24_X = pd.read_csv( loc_ftr + \"\\\\auc_morn_trn.csv\" ); X_var = X_var.merge( ftr_24_X, how = \"inner\", on = \"ref_hash\" ) \n",
    "ftr_25_X = pd.read_csv( loc_ftr + \"\\\\auc_mday_trn.csv\" ); X_var = X_var.merge( ftr_25_X, how = \"inner\", on = \"ref_hash\" ) \n",
    "ftr_26_X = pd.read_csv( loc_ftr + \"\\\\auc_aftr_trn.csv\" ); X_var = X_var.merge( ftr_26_X, how = \"inner\", on = \"ref_hash\" ) \n",
    "ftr_27_X = pd.read_csv( loc_ftr + \"\\\\auc_nght_trn.csv\" ); X_var = X_var.merge( ftr_27_X, how = \"inner\", on = \"ref_hash\" ) \n",
    "\n",
    "ftr_28_X = pd.read_csv( loc_ftr + \"\\\\cant_clk_trn.csv\" ); X_var = X_var.merge( ftr_28_X, how = \"inner\", on = \"ref_hash\" ) \n",
    "#ftr_29_X = pd.read_csv( loc_ftr + \"\\\\frst_clk_trn.csv\" ); X_var = X_var.merge( ftr_29_X, how = \"inner\", on = \"ref_hash\" ) \n",
    "#ftr_30_X = pd.read_csv( loc_ftr + \"\\\\last_clk_trn.csv\" ); X_var = X_var.merge( ftr_30_X, how = \"inner\", on = \"ref_hash\" ) \n",
    "ftr_31_X = pd.read_csv( loc_ftr + \"\\\\clk_morn_trn.csv\" ); X_var = X_var.merge( ftr_31_X, how = \"inner\", on = \"ref_hash\" ) \n",
    "ftr_32_X = pd.read_csv( loc_ftr + \"\\\\clk_mday_trn.csv\" ); X_var = X_var.merge( ftr_32_X, how = \"inner\", on = \"ref_hash\" ) \n",
    "ftr_33_X = pd.read_csv( loc_ftr + \"\\\\clk_aftr_trn.csv\" ); X_var = X_var.merge( ftr_33_X, how = \"inner\", on = \"ref_hash\" ) \n",
    "#ftr_34_X = pd.read_csv( loc_ftr + \"\\\\clk_nght_trn.csv\" ); X_var = X_var.merge( ftr_34_X, how = \"inner\", on = \"ref_hash\" ) \n",
    "\n",
    "ftr_35_X = pd.read_csv( loc_ftr + \"\\\\cant_ins_trn.csv\" ); X_var = X_var.merge( ftr_35_X, how = \"inner\", on = \"ref_hash\" ) \n",
    "ftr_36_X = pd.read_csv( loc_ftr + \"\\\\main_app_trn.csv\" ); X_var = X_var.merge( ftr_36_X, how = \"inner\", on = \"ref_hash\" ) \n",
    "#ftr_37_X = pd.read_csv( loc_ftr + \"\\\\cins_imp_trn.csv\" ); X_var = X_var.merge( ftr_37_X, how = \"inner\", on = \"ref_hash\" ) \n",
    "ftr_38_X = pd.read_csv( loc_ftr + \"\\\\cins_atr_trn.csv\" ); X_var = X_var.merge( ftr_38_X, how = \"inner\", on = \"ref_hash\" ) \n",
    "ftr_39_X = pd.read_csv( loc_ftr + \"\\\\frst_ins_trn.csv\" ); X_var = X_var.merge( ftr_39_X, how = \"inner\", on = \"ref_hash\" ) \n",
    "ftr_40_X = pd.read_csv( loc_ftr + \"\\\\ins_morn_trn.csv\" ); X_var = X_var.merge( ftr_40_X, how = \"inner\", on = \"ref_hash\" ) \n",
    "ftr_41_X = pd.read_csv( loc_ftr + \"\\\\ins_mday_trn.csv\" ); X_var = X_var.merge( ftr_41_X, how = \"inner\", on = \"ref_hash\" ) \n",
    "ftr_42_X = pd.read_csv( loc_ftr + \"\\\\ins_aftr_trn.csv\" ); X_var = X_var.merge( ftr_42_X, how = \"inner\", on = \"ref_hash\" ) \n",
    "ftr_43_X = pd.read_csv( loc_ftr + \"\\\\ins_nght_trn.csv\" ); X_var = X_var.merge( ftr_43_X, how = \"inner\", on = \"ref_hash\" ) \n",
    "\n",
    "#ftr_44_X = pd.read_csv( loc_ftr + \"\\\\wif_fevt_trn.csv\" ); X_var = X_var.merge( ftr_44_X, how = \"inner\", on = \"ref_hash\" ) \n",
    "#ftr_45_X = pd.read_csv( loc_ftr + \"\\\\wif_levt_trn.csv\" ); X_var = X_var.merge( ftr_45_X, how = \"inner\", on = \"ref_hash\" ) \n",
    "ftr_46_X = pd.read_csv( loc_ftr + \"\\\\knd_levt_trn.csv\" ); X_var = X_var.merge( ftr_46_X, how = \"inner\", on = \"ref_hash\" ) \n",
    "ftr_47_X = pd.read_csv( loc_ftr + \"\\\\cevt_nig_trn.csv\" ); X_var = X_var.merge( ftr_47_X, how = \"inner\", on = \"ref_hash\" ) \n",
    "ftr_48_X = pd.read_csv( loc_ftr + \"\\\\cevt_mor_trn.csv\" ); X_var = X_var.merge( ftr_48_X, how = \"inner\", on = \"ref_hash\" ) \n",
    "ftr_49_X = pd.read_csv( loc_ftr + \"\\\\cevt_mid_trn.csv\" ); X_var = X_var.merge( ftr_49_X, how = \"inner\", on = \"ref_hash\" ) \n",
    "ftr_50_X = pd.read_csv( loc_ftr + \"\\\\cevt_aft_trn.csv\" ); X_var = X_var.merge( ftr_50_X, how = \"inner\", on = \"ref_hash\" ) \n",
    "#ftr_51_X = pd.read_csv( loc_ftr + \"\\\\cevt_wat_trn.csv\" ); X_var = X_var.merge( ftr_51_X, how = \"inner\", on = \"ref_hash\" ) \n",
    "#ftr_52_X = pd.read_csv( loc_ftr + \"\\\\mapw_evt_trn.csv\" ); X_var = X_var.merge( ftr_52_X, how = \"inner\", on = \"ref_hash\" ) \n",
    "#ftr_53_X = pd.read_csv( loc_ftr + \"\\\\cmapw_ev_trn.csv\" ); X_var = X_var.merge( ftr_53_X, how = \"inner\", on = \"ref_hash\" ) \n",
    "\n",
    "#ftr_54_X = pd.read_csv( loc_ftr + \"\\\\sdia_auc_trn.csv\" ); X_var = X_var.merge( ftr_54_Z, how = \"inner\", on = \"ref_hash\" )"
   ]
  },
  {
   "cell_type": "markdown",
   "metadata": {},
   "source": [
    "### <span style=\"color:purple\"> Reacomodamos los SC para que queden junto a su ref_hash correspondiente </span>"
   ]
  },
  {
   "cell_type": "code",
   "execution_count": 10,
   "metadata": {},
   "outputs": [],
   "source": [
    "X_var = X_var.merge( Y_var, how = \"inner\", on = \"ref_hash\" ); Y_var = X_var[ [\"24_26_sc\"] ]; X_var = X_var.drop( [\"ref_hash\", \"24_26_sc\"], axis = 1 )"
   ]
  },
  {
   "cell_type": "code",
   "execution_count": 11,
   "metadata": {},
   "outputs": [],
   "source": [
    "Z_var = Z_var.drop( \"ref_hash\", axis = 1 )"
   ]
  },
  {
   "cell_type": "markdown",
   "metadata": {},
   "source": [
    "# Prediccion con <span style=\"color:green\"> *XGBoost*</span> "
   ]
  },
  {
   "cell_type": "code",
   "execution_count": 12,
   "metadata": {},
   "outputs": [],
   "source": [
    "import xgboost as xgb\n",
    "import graphviz as gr "
   ]
  },
  {
   "cell_type": "code",
   "execution_count": 13,
   "metadata": {},
   "outputs": [],
   "source": [
    "prm = { \"booster\":\"gbtree\",\n",
    "        \"objective\":\"reg:linear\",\n",
    "        \"colsample_bytree\" : 0.3, \n",
    "        \"learning_rate\" : 0.106,\n",
    "        \"max_depth\": 3,\n",
    "        \"n_estimators\": 70,\n",
    "        \"eval_metric\": \"rmse\",\n",
    "        \"num_parallel_tree\":40\n",
    "      }\n",
    "\n",
    "mdl = xgb.XGBRegressor( **prm )"
   ]
  },
  {
   "cell_type": "code",
   "execution_count": null,
   "metadata": {},
   "outputs": [],
   "source": [
    "fit = mdl.fit( X_var,Y_var )"
   ]
  },
  {
   "cell_type": "code",
   "execution_count": null,
   "metadata": {},
   "outputs": [],
   "source": [
    "prd = fit.predict( Z_var )"
   ]
  },
  {
   "cell_type": "markdown",
   "metadata": {},
   "source": [
    "## Guardamos las predicciones de SC"
   ]
  },
  {
   "cell_type": "code",
   "execution_count": 21,
   "metadata": {},
   "outputs": [],
   "source": [
    "loc_prd = r\"D:\\FacundoTorraca\\Documents\\TP2_ML\\Prediction\"\n",
    "prediction = pd.concat( [Z, pd.DataFrame( prd )], axis = 1 )\n",
    "prediction.to_csv( loc_prd + \"\\\\pred_sc.csv\", index = False )"
   ]
  },
  {
   "cell_type": "markdown",
   "metadata": {},
   "source": [
    "## Graficamos el Arbol"
   ]
  },
  {
   "cell_type": "code",
   "execution_count": null,
   "metadata": {},
   "outputs": [],
   "source": [
    "import matplotlib.pyplot as plt\n",
    "\n",
    "import os; os.environ[\"PATH\"] += os.pathsep + 'C:/Program Files (x86)/Graphviz2.38/bin/'\n",
    "\n",
    "dtrn = xgb.DMatrix(X_var,Y_var)\n",
    "\n",
    "xg_reg = xgb.train(params = prm, dtrain = dtrn, num_boost_round=12)\n",
    "\n",
    "xgb.plot_tree(xg_reg)\n",
    "plt.rcParams['figure.figsize'] = [15, 25]\n",
    "plt.show()"
   ]
  },
  {
   "cell_type": "markdown",
   "metadata": {},
   "source": [
    "## Ploteamos el Feature Importance"
   ]
  },
  {
   "cell_type": "code",
   "execution_count": 540,
   "metadata": {},
   "outputs": [
    {
     "data": {
      "image/png": "[encoded data removed]",
      "text/plain": [
       "<Figure size 504x504 with 1 Axes>"
      ]
     },
     "metadata": {
      "needs_background": "light"
     },
     "output_type": "display_data"
    }
   ],
   "source": [
    "import matplotlib.pyplot as plt\n",
    "xgb.plot_importance(fit, importance_type = \"weight\" )\n",
    "plt.rcParams['figure.figsize'] = [7, 7]\n",
    "plt.show()"
   ]
  }
 ],
 "metadata": {
  "kernelspec": {
   "display_name": "Python 3",
   "language": "python",
   "name": "python3"
  },
  "language_info": {
   "codemirror_mode": {
    "name": "ipython",
    "version": 3
   },
   "file_extension": ".py",
   "mimetype": "text/x-python",
   "name": "python",
   "nbconvert_exporter": "python",
   "pygments_lexer": "ipython3",
   "version": "3.7.0"
  }
 },
 "nbformat": 4,
 "nbformat_minor": 2
}
