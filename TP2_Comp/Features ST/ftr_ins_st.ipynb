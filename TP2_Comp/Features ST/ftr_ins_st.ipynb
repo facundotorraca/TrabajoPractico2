{
 "cells": [
  {
   "cell_type": "code",
   "execution_count": 19,
   "metadata": {},
   "outputs": [],
   "source": [
    "import pandas as pd\n",
    "import numpy as np\n",
    "import datetime as dt\n",
    "import warnings as wn\n",
    "import sklearn.preprocessing as skpre\n",
    "import category_encoders as ce\n",
    "\n",
    "wn.simplefilter( \"ignore\" )"
   ]
  },
  {
   "cell_type": "code",
   "execution_count": 20,
   "metadata": {},
   "outputs": [],
   "source": [
    "loc_ftr = r\"D:\\FacundoTorraca\\Documents\\TP2_ML\\FeaturesComp\\FeaturesST\""
   ]
  },
  {
   "cell_type": "markdown",
   "metadata": {},
   "source": [
    "## <span style=\"color:yellow\"> **Preparamos los Sets de Training** </span> "
   ]
  },
  {
   "cell_type": "code",
   "execution_count": 21,
   "metadata": {},
   "outputs": [],
   "source": [
    "loc_ts = r\"D:\\FacundoTorraca\\Documents\\TP2_ML\\Training Sets\""
   ]
  },
  {
   "cell_type": "code",
   "execution_count": 22,
   "metadata": {},
   "outputs": [],
   "source": [
    "ins_trn = pd.read_csv( loc_ts + \"\\\\ins_21_23.csv\" ); \n",
    "ins_tst = pd.read_csv( loc_ts + \"\\\\ins_24_26.csv\" ); "
   ]
  },
  {
   "cell_type": "markdown",
   "metadata": {},
   "source": [
    "## <span style=\"color:yellow\"> **Preparamos el ref_hash de cada ventana** </span> "
   ]
  },
  {
   "cell_type": "code",
   "execution_count": 23,
   "metadata": {},
   "outputs": [],
   "source": [
    "loc_lb = r\"D:\\FacundoTorraca\\Documents\\TP2_ML\\Labels\""
   ]
  },
  {
   "cell_type": "code",
   "execution_count": 24,
   "metadata": {},
   "outputs": [],
   "source": [
    "lb_auc_trn = pd.read_csv( loc_lb + \"\\\\label_auc_24_26.csv\" );\n",
    "lb_auc_tst = pd.read_csv( loc_lb + \"\\\\target.csv\" ); "
   ]
  },
  {
   "cell_type": "code",
   "execution_count": 25,
   "metadata": {},
   "outputs": [],
   "source": [
    "rh_trn = lb_auc_trn[ [\"ref_hash\"] ]\n",
    "rh_tst = lb_auc_tst[ [\"ref_hash\"] ]\n",
    "\n",
    "tg_trn = lb_auc_trn[ [\"24_26_st\"] ]"
   ]
  },
  {
   "cell_type": "markdown",
   "metadata": {},
   "source": [
    "## <span style=\"color:yellow\"> **=======================================================================================================** </span> "
   ]
  },
  {
   "cell_type": "markdown",
   "metadata": {},
   "source": [
    "## <span style=\"color:green\"> **Tiempo hasta la primer instlacion en ese ventana** </span> \n",
    "\n",
    "Le asignamos cuanto tiempo, en la ventana del 18-20, tardo en realizar su primer instlacion"
   ]
  },
  {
   "cell_type": "code",
   "execution_count": 26,
   "metadata": {},
   "outputs": [],
   "source": [
    "frst_ins_tst = rh_trn.copy()\n",
    "frst_ins_trn = rh_tst.copy()\n",
    "\n",
    "first_installs_rh_auc_tst = ins_tst[ [\"ref_hash\",\"date\"] ].sort_values( \"date\" ).drop_duplicates( subset = \"ref_hash\", keep = \"first\" )\n",
    "first_installs_rh_auc_trn = ins_trn[ [\"ref_hash\",\"date\"] ].sort_values( \"date\" ).drop_duplicates( subset = \"ref_hash\", keep = \"first\" )\n",
    "\n",
    "first_installs_rh_auc_tst[\"time_to_frt_ins\"] = ( pd.to_datetime( first_installs_rh_auc_trn[\"date\"] ) -  dt.datetime( year = 2019, month = 4, day = 21 ) ).dt.total_seconds()\n",
    "first_installs_rh_auc_trn[\"time_to_frt_ins\"] = ( pd.to_datetime( first_installs_rh_auc_tst[\"date\"] ) -  dt.datetime( year = 2019, month = 4, day = 24 ) ).dt.total_seconds()\n",
    "\n",
    "first_installs_rh_auc_trn.drop( \"date\", axis = 1, inplace = True )\n",
    "first_installs_rh_auc_tst.drop( \"date\", axis = 1, inplace = True )\n",
    "\n",
    "frst_ins_trn = frst_ins_trn.merge( first_installs_rh_auc_trn, how = \"left\", on = \"ref_hash\" )\n",
    "frst_ins_tst = frst_ins_tst.merge( first_installs_rh_auc_tst, how = \"left\", on = \"ref_hash\" )\n",
    "\n",
    "#Los que tienen NaN es que nunca convirtieron. Los marcamos con el tiempo maximo\n",
    "frst_ins_trn.fillna( 3 * 24 * 3600, inplace = True )\n",
    "frst_ins_tst.fillna( 3 * 24 * 3600, inplace = True )\n",
    "\n",
    "frst_ins_trn.to_csv( loc_ftr + \"\\\\frst_ins_trn.csv\", index = False )\n",
    "frst_ins_tst.to_csv( loc_ftr + \"\\\\frst_ins_tst.csv\", index = False )"
   ]
  },
  {
   "cell_type": "markdown",
   "metadata": {},
   "source": [
    "## <span style=\"color:green\"> **Aplicacion mas instalada por el usuario** </span>\n",
    "\n",
    "#### <span style=\"color:orange\"> **Mean Encoding** </span> (Usamos el promedio de la cantidad de veces que que es la app principal de algun dispositivo)"
   ]
  },
  {
   "cell_type": "code",
   "execution_count": 27,
   "metadata": {},
   "outputs": [],
   "source": [
    "main_app_trn = rh_trn.copy()\n",
    "main_app_tst = rh_tst.copy()\n",
    "\n",
    "app_mas_ins_trn = ins_trn.groupby( by = [\"ref_hash\",\"application_id\"] ).agg( {\"application_id\":\"count\"} ).rename( columns = {\"application_id\":\"cant_ins\"} ).reset_index()\n",
    "app_mas_ins_tst = ins_tst.groupby( by = [\"ref_hash\",\"application_id\"] ).agg( {\"application_id\":\"count\"} ).rename( columns = {\"application_id\":\"cant_ins\"} ).reset_index()\n",
    "\n",
    "app_mas_ins_trn = app_mas_ins_trn.sort_values( by = [\"ref_hash\", \"cant_ins\"], ascending = True ).drop_duplicates( subset = \"ref_hash\", keep = \"last\" ); del( app_mas_ins_trn[\"cant_ins\"] )\n",
    "app_mas_ins_tst = app_mas_ins_tst.sort_values( by = [\"ref_hash\", \"cant_ins\"], ascending = True ).drop_duplicates( subset = \"ref_hash\", keep = \"last\" ); del( app_mas_ins_tst[\"cant_ins\"] ) \n",
    "\n",
    "main_app_trn = main_app_trn.merge( app_mas_ins_trn, how = \"left\", on = \"ref_hash\" )\n",
    "main_app_tst = main_app_tst.merge( app_mas_ins_tst, how = \"left\", on = \"ref_hash\" )\n",
    "\n",
    "main_app_trn[\"to_count\"] = 1; main_app_trn[\"application_id\"] = main_app_trn[[\"application_id\", \"to_count\"]].groupby(\"application_id\").transform( \"sum\" ) / len(main_app_trn); del(main_app_trn[\"to_count\"])\n",
    "main_app_tst[\"to_count\"] = 1; main_app_tst[\"application_id\"] = main_app_tst[[\"application_id\", \"to_count\"]].groupby(\"application_id\").transform( \"sum\" ) / len(main_app_tst); del(main_app_tst[\"to_count\"])\n",
    "\n",
    "main_app_trn[\"application_id\"].fillna( main_app_trn[\"application_id\"].isnull().sum() / len(main_app_trn), inplace = True )\n",
    "main_app_tst[\"application_id\"].fillna( main_app_tst[\"application_id\"].isnull().sum() / len(main_app_tst), inplace = True )\n",
    "\n",
    "main_app_trn.to_csv( loc_ftr + \"\\\\main_app_trn.csv\", index = False )\n",
    "main_app_tst.to_csv( loc_ftr + \"\\\\main_app_trn.csv\", index = False )"
   ]
  },
  {
   "cell_type": "markdown",
   "metadata": {},
   "source": [
    "## <span style=\"color:green\"> **Cantidad de instalaciones atribuidas por dispositivo** </span> "
   ]
  },
  {
   "cell_type": "code",
   "execution_count": 28,
   "metadata": {},
   "outputs": [],
   "source": [
    "cins_atr_trn = rh_trn.copy()\n",
    "cins_atr_tst = rh_tst.copy()\n",
    "\n",
    "cant_atr_ins_trn = ins_trn[[\"ref_hash\", \"attributed\"]]; cant_atr_ins_trn[\"attributed\"] = cant_atr_ins_trn[\"attributed\"].apply( lambda x: 1 if x else 0 );\n",
    "cant_atr_ins_tst = ins_tst[[\"ref_hash\", \"attributed\"]]; cant_atr_ins_tst[\"attributed\"] = cant_atr_ins_tst[\"attributed\"].apply( lambda x: 1 if x else 0 );\n",
    "\n",
    "cant_atr_ins_trn = cant_atr_ins_trn.groupby( \"ref_hash\" ).agg( \"sum\" )\n",
    "cant_atr_ins_tst = cant_atr_ins_tst.groupby( \"ref_hash\" ).agg( \"sum\" )\n",
    "\n",
    "cins_atr_trn = cins_atr_trn.merge( cant_atr_ins_trn, how = \"left\", on = \"ref_hash\" ).fillna( 0 )\n",
    "cins_atr_tst = cins_atr_tst.merge( cant_atr_ins_tst, how = \"left\", on = \"ref_hash\" ).fillna( 0 )\n",
    "\n",
    "cins_atr_trn.to_csv( loc_ftr + \"\\\\cins_atr_trn.csv\", index = False )\n",
    "cins_atr_tst.to_csv( loc_ftr + \"\\\\cins_atr_tst.csv\", index = False )"
   ]
  },
  {
   "cell_type": "markdown",
   "metadata": {},
   "source": [
    "## <span style=\"color:green\"> **Cantidad de instalaciones implicitas por dispositivo** </span> "
   ]
  },
  {
   "cell_type": "code",
   "execution_count": 29,
   "metadata": {},
   "outputs": [],
   "source": [
    "cins_imp_trn = rh_trn.copy()\n",
    "cins_imp_tst = rh_tst.copy()\n",
    "\n",
    "cant_imp_ins_trn = ins_trn[[\"ref_hash\", \"implicit\"]]; cant_imp_ins_trn[\"implicit\"] = cant_imp_ins_trn[\"implicit\"].apply( lambda x: 1 if x else 0 );\n",
    "cant_imp_ins_tst = ins_tst[[\"ref_hash\", \"implicit\"]]; cant_imp_ins_tst[\"implicit\"] = cant_imp_ins_tst[\"implicit\"].apply( lambda x: 1 if x else 0 );\n",
    "\n",
    "cant_imp_ins_trn = cant_imp_ins_trn.groupby( \"ref_hash\" ).agg( \"sum\" )\n",
    "cant_imp_ins_tst = cant_imp_ins_tst.groupby( \"ref_hash\" ).agg( \"sum\" )\n",
    "\n",
    "cins_imp_trn = cins_imp_trn.merge( cant_imp_ins_trn, how = \"left\", on = \"ref_hash\" ).fillna( 0 )\n",
    "cins_imp_tst = cins_imp_tst.merge( cant_imp_ins_tst, how = \"left\", on = \"ref_hash\" ).fillna( 0 )\n",
    "\n",
    "cins_imp_trn.to_csv( loc_ftr + \"\\\\cins_imp_trn.csv\", index = False )\n",
    "cins_imp_tst.to_csv( loc_ftr + \"\\\\cins_imp_tst.csv\", index = False )"
   ]
  },
  {
   "cell_type": "markdown",
   "metadata": {},
   "source": [
    "## <span style=\"color:green\"> **Tiempo hasta la ultima instalacion en esa ventana** </span>"
   ]
  },
  {
   "cell_type": "code",
   "execution_count": 30,
   "metadata": {},
   "outputs": [],
   "source": [
    "last_ins_trn = rh_trn.copy()\n",
    "last_ins_tst = rh_tst.copy()\n",
    "\n",
    "last_installs_rh_auc_trn = ins_trn[ [\"ref_hash\",\"date\"] ].sort_values( \"date\", ascending = False ).drop_duplicates( subset = \"ref_hash\", keep = \"first\" )\n",
    "last_installs_rh_auc_tst = ins_tst[ [\"ref_hash\",\"date\"] ].sort_values( \"date\", ascending = False ).drop_duplicates( subset = \"ref_hash\", keep = \"first\" )\n",
    "\n",
    "last_installs_rh_auc_trn[\"time_to_lst_ins\"] = ( pd.to_datetime( last_installs_rh_auc_trn[\"date\"] ) -  dt.datetime( year = 2019, month = 4, day = 21 ) ).dt.total_seconds()\n",
    "last_installs_rh_auc_tst[\"time_to_lst_ins\"] = ( pd.to_datetime( last_installs_rh_auc_tst[\"date\"] ) -  dt.datetime( year = 2019, month = 4, day = 24 ) ).dt.total_seconds()\n",
    "\n",
    "last_installs_rh_auc_trn.drop( \"date\", axis = 1, inplace = True )\n",
    "last_installs_rh_auc_tst.drop( \"date\", axis = 1, inplace = True )\n",
    "\n",
    "last_ins_trn = last_ins_trn.merge( last_installs_rh_auc_trn, how = \"left\", on = \"ref_hash\" )\n",
    "last_ins_tst = last_ins_tst.merge( last_installs_rh_auc_tst, how = \"left\", on = \"ref_hash\" )\n",
    "\n",
    "#Los que tienen NaN es que nunca convirtieron. Los marcamos con el tiempo maximo\n",
    "last_ins_trn.fillna( 3 * 24 * 3600, inplace = True )\n",
    "last_ins_tst.fillna( 3 * 24 * 3600, inplace = True )\n",
    "\n",
    "last_ins_trn.to_csv( loc_ftr + \"\\\\last_ins_trn.csv\", index = False )\n",
    "last_ins_tst.to_csv( loc_ftr + \"\\\\last_ins_tst.csv\", index = False )"
   ]
  },
  {
   "cell_type": "markdown",
   "metadata": {},
   "source": [
    "## <span style=\"color:green\"> **Instalo entre 21 hs y 3 hs (Noche)** </span> "
   ]
  },
  {
   "cell_type": "markdown",
   "metadata": {},
   "source": [
    "#### <span style=\"color:Orange\"> **One-hot Encoding** </span> "
   ]
  },
  {
   "cell_type": "code",
   "execution_count": 31,
   "metadata": {},
   "outputs": [],
   "source": [
    "ins_trn['ins_21_3'] = ( pd.to_datetime( ins_trn['date'] ).dt.hour > 20) | ( pd.to_datetime( ins_trn['date'] ).dt.hour < 4) \n",
    "ins_tst['ins_21_3'] = ( pd.to_datetime( ins_tst['date'] ).dt.hour > 20) | ( pd.to_datetime( ins_tst['date'] ).dt.hour < 4)\n",
    "\n",
    "ins_night_trn = rh_trn.copy()\n",
    "ins_night_tst = rh_tst.copy()\n",
    "\n",
    "hour_mode_trn = ins_trn.groupby('ref_hash').agg({'ins_21_3':'sum'}).reset_index()\n",
    "hour_mode_tst = ins_tst.groupby('ref_hash').agg({'ins_21_3':'sum'}).reset_index()\n",
    "\n",
    "ins_night_trn = ins_night_trn.merge( hour_mode_trn, how = \"left\", on = \"ref_hash\" )\n",
    "ins_night_tst = ins_night_tst.merge( hour_mode_tst, how = \"left\", on = \"ref_hash\" )\n",
    "\n",
    "ins_night_trn[\"ins_21_3\"] =  (ins_night_trn[\"ins_21_3\"] > 1).astype('int8')\n",
    "ins_night_tst[\"ins_21_3\"] =  (ins_night_tst[\"ins_21_3\"] > 1).astype('int8')\n",
    "\n",
    "ins_night_trn.to_csv( loc_ftr + \"\\\\ins_nght_trn.csv\", index = False )\n",
    "ins_night_tst.to_csv( loc_ftr + \"\\\\ins_nght_tst.csv\", index = False )\n",
    "\n",
    "del ins_trn['ins_21_3']\n",
    "del ins_tst['ins_21_3']"
   ]
  },
  {
   "cell_type": "markdown",
   "metadata": {},
   "source": [
    "## <span style=\"color:green\"> **Instalo entre 4 hs y 10 hs (Mañana)** </span> "
   ]
  },
  {
   "cell_type": "markdown",
   "metadata": {},
   "source": [
    "#### <span style=\"color:Orange\"> **One-hot Encoding** </span> "
   ]
  },
  {
   "cell_type": "code",
   "execution_count": 32,
   "metadata": {},
   "outputs": [],
   "source": [
    "ins_trn['ins_4_10'] = ( pd.to_datetime( ins_trn['date'] ).dt.hour > 3) & ( pd.to_datetime( ins_trn['date'] ).dt.hour< 11) \n",
    "ins_tst['ins_4_10'] = ( pd.to_datetime( ins_tst['date'] ).dt.hour > 3) & ( pd.to_datetime( ins_tst['date'] ).dt.hour < 11)\n",
    "\n",
    "ins_morn_trn = rh_trn.copy()\n",
    "ins_morn_tst = rh_tst.copy()\n",
    "\n",
    "hour_mode_trn = ins_trn.groupby('ref_hash').agg({'ins_4_10':'sum'}).reset_index()\n",
    "hour_mode_tst = ins_tst.groupby('ref_hash').agg({'ins_4_10':'sum'}).reset_index()\n",
    "\n",
    "ins_morn_trn = ins_morn_trn.merge( hour_mode_trn, how = \"left\", on = \"ref_hash\" )\n",
    "ins_morn_tst = ins_morn_tst.merge( hour_mode_tst, how = \"left\", on = \"ref_hash\" )\n",
    "\n",
    "ins_morn_trn[\"ins_4_10\"] =  (ins_morn_trn[\"ins_4_10\"] > 1).astype('int8')\n",
    "ins_morn_tst[\"ins_4_10\"] =  (ins_morn_tst[\"ins_4_10\"] > 1).astype('int8')\n",
    "\n",
    "ins_morn_trn.to_csv( loc_ftr + \"\\\\ins_morn_trn.csv\", index = False )\n",
    "ins_morn_tst.to_csv( loc_ftr + \"\\\\ins_morn_tst.csv\", index = False )\n",
    "\n",
    "del ins_tst['ins_4_10']\n",
    "del ins_trn['ins_4_10']"
   ]
  },
  {
   "cell_type": "markdown",
   "metadata": {},
   "source": [
    "## <span style=\"color:green\"> **Instalo entre 11 hs y 15 hs (Medio dia)** </span> "
   ]
  },
  {
   "cell_type": "markdown",
   "metadata": {},
   "source": [
    "#### <span style=\"color:Orange\"> **One-hot Encoding** </span> "
   ]
  },
  {
   "cell_type": "code",
   "execution_count": 33,
   "metadata": {},
   "outputs": [],
   "source": [
    "ins_trn['ins_11_15'] = ( pd.to_datetime( ins_trn['date'] ).dt.hour > 10) & ( pd.to_datetime( ins_trn['date'] ).dt.hour < 16) \n",
    "ins_tst['ins_11_15'] = ( pd.to_datetime( ins_tst['date'] ).dt.hour > 10) & ( pd.to_datetime( ins_tst['date'] ).dt.hour < 16)\n",
    "\n",
    "ins_midday_trn = rh_trn.copy()\n",
    "ins_midday_tst = rh_tst.copy()\n",
    "\n",
    "hour_mode_trn = ins_trn.groupby('ref_hash').agg({'ins_11_15':'sum'}).reset_index()\n",
    "hour_mode_tst = ins_tst.groupby('ref_hash').agg({'ins_11_15':'sum'}).reset_index()\n",
    "\n",
    "ins_midday_trn = ins_midday_trn.merge( hour_mode_trn, how = \"left\", on = \"ref_hash\" )\n",
    "ins_midday_tst = ins_midday_tst.merge( hour_mode_tst, how = \"left\", on = \"ref_hash\" )\n",
    "\n",
    "ins_midday_trn[\"ins_11_15\"] =  (ins_midday_trn[\"ins_11_15\"] > 1).astype('int8')\n",
    "ins_midday_tst[\"ins_11_15\"] =  (ins_midday_tst[\"ins_11_15\"] > 1).astype('int8')\n",
    "\n",
    "ins_midday_trn.to_csv( loc_ftr + \"\\\\ins_mday_trn.csv\", index = False )\n",
    "ins_midday_tst.to_csv( loc_ftr + \"\\\\ins_mday_tst.csv\", index = False )\n",
    "\n",
    "del ins_trn['ins_11_15']\n",
    "del ins_tst['ins_11_15']"
   ]
  },
  {
   "cell_type": "markdown",
   "metadata": {},
   "source": [
    "## <span style=\"color:green\"> **Instalo entre 16 hs y 20 hs (Tarde)** </span> "
   ]
  },
  {
   "cell_type": "markdown",
   "metadata": {},
   "source": [
    "#### <span style=\"color:Orange\"> **One-hot Encoding** </span> "
   ]
  },
  {
   "cell_type": "code",
   "execution_count": 34,
   "metadata": {},
   "outputs": [],
   "source": [
    "ins_trn['ins_16_20'] = ( pd.to_datetime( ins_trn['date'] ).dt.hour > 15) & ( pd.to_datetime( ins_trn['date'] ).dt.hour < 21) \n",
    "ins_tst['ins_16_20'] = ( pd.to_datetime( ins_tst['date'] ).dt.hour > 15) & ( pd.to_datetime( ins_tst['date'] ).dt.hour < 21)\n",
    "\n",
    "ins_after_trn = rh_trn.copy()\n",
    "ins_after_tst = rh_tst.copy()\n",
    "\n",
    "hour_mode_trn = ins_trn.groupby('ref_hash').agg({'ins_16_20':'sum'}).reset_index()\n",
    "hour_mode_tst = ins_tst.groupby('ref_hash').agg({'ins_16_20':'sum'}).reset_index()\n",
    "\n",
    "ins_after_trn = ins_after_trn.merge( hour_mode_trn, how = \"left\", on = \"ref_hash\" )\n",
    "ins_after_tst = ins_after_tst.merge( hour_mode_tst, how = \"left\", on = \"ref_hash\" )\n",
    "\n",
    "ins_after_trn[\"ins_16_20\"] =  (ins_after_trn[\"ins_16_20\"] > 1).astype('int8')\n",
    "ins_after_tst[\"ins_16_20\"] =  (ins_after_tst[\"ins_16_20\"] > 1).astype('int8')\n",
    "\n",
    "ins_after_trn.to_csv( loc_ftr + \"\\\\ins_aftr_trn.csv\", index = False )\n",
    "ins_after_tst.to_csv( loc_ftr + \"\\\\ins_aftr_tst.csv\", index = False )\n",
    "\n",
    "del ins_trn['ins_16_20']\n",
    "del ins_tst['ins_16_20']"
   ]
  }
 ],
 "metadata": {
  "kernelspec": {
   "display_name": "Python 3",
   "language": "python",
   "name": "python3"
  },
  "language_info": {
   "codemirror_mode": {
    "name": "ipython",
    "version": 3
   },
   "file_extension": ".py",
   "mimetype": "text/x-python",
   "name": "python",
   "nbconvert_exporter": "python",
   "pygments_lexer": "ipython3",
   "version": "3.7.0"
  }
 },
 "nbformat": 4,
 "nbformat_minor": 2
}
