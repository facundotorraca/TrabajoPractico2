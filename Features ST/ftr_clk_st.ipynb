{
 "cells": [
  {
   "cell_type": "code",
   "execution_count": 1,
   "metadata": {},
   "outputs": [],
   "source": [
    "import pandas as pd\n",
    "import numpy as np\n",
    "import datetime as dt\n",
    "import warnings as wn\n",
    "import sklearn.preprocessing as skpre\n",
    "import category_encoders as ce\n",
    "\n",
    "wn.simplefilter( \"ignore\" )"
   ]
  },
  {
   "cell_type": "markdown",
   "metadata": {},
   "source": [
    "# Preparamos los Sets de Training"
   ]
  },
  {
   "cell_type": "code",
   "execution_count": 2,
   "metadata": {},
   "outputs": [],
   "source": [
    "loc_ts = r\"D:\\FacundoTorraca\\Documents\\TP2_Machine_Learning\\Training Sets\""
   ]
  },
  {
   "cell_type": "code",
   "execution_count": 5,
   "metadata": {},
   "outputs": [],
   "source": [
    "auc_18_20 = pd.read_csv( loc_ts + \"\\\\auc_18_20.csv\" ); \n",
    "auc_21_23 = pd.read_csv( loc_ts + \"\\\\auc_21_23.csv\" );\n",
    "auc_24_26 = pd.read_csv( loc_ts + \"\\\\auc_24_26.csv\" );"
   ]
  },
  {
   "cell_type": "code",
   "execution_count": 6,
   "metadata": {},
   "outputs": [],
   "source": [
    "clk_18_20 = pd.read_csv( loc_ts + \"\\\\clk_18_20.csv\" );\n",
    "clk_21_23 = pd.read_csv( loc_ts + \"\\\\clk_21_23.csv\" );\n",
    "clk_24_26 = pd.read_csv( loc_ts + \"\\\\clk_24_26.csv\" );"
   ]
  },
  {
   "cell_type": "markdown",
   "metadata": {},
   "source": [
    "# Genero los Sets con el primer install"
   ]
  },
  {
   "cell_type": "code",
   "execution_count": 7,
   "metadata": {},
   "outputs": [],
   "source": [
    "auc_18_20[\"date\"] =  pd.to_datetime( auc_18_20[\"date\"] ); auc_18_20[\"_st\"] = auc_18_20[\"date\"] - dt.datetime( year = 2019, month = 4, day = 18 ); auc_18_20[\"_st\"] = auc_18_20[\"_st\"].dt.total_seconds();\n",
    "auc_21_23[\"date\"] =  pd.to_datetime( auc_21_23[\"date\"] ); auc_21_23[\"_st\"] = auc_21_23[\"date\"] - dt.datetime( year = 2019, month = 4, day = 21 ); auc_21_23[\"_st\"] = auc_21_23[\"_st\"].dt.total_seconds(); \n",
    "auc_24_26[\"date\"] =  pd.to_datetime( auc_24_26[\"date\"] ); auc_24_26[\"_st\"] = auc_24_26[\"date\"] - dt.datetime( year = 2019, month = 4, day = 24 ); auc_24_26[\"_st\"] = auc_24_26[\"_st\"].dt.total_seconds(); "
   ]
  },
  {
   "cell_type": "code",
   "execution_count": 8,
   "metadata": {},
   "outputs": [],
   "source": [
    "auc_18_20_first_auc = auc_18_20.sort_values( by = [\"device_id\",\"_st\"], ascending = True ).drop_duplicates( subset = [\"device_id\"], keep = \"first\" ).rename( columns = {\"device_id\": \"ref_hash\"} )\n",
    "auc_21_23_first_auc = auc_21_23.sort_values( by = [\"device_id\",\"_st\"], ascending = True ).drop_duplicates( subset = [\"device_id\"], keep = \"first\" ).rename( columns = {\"device_id\": \"ref_hash\"} )\n",
    "auc_24_26_first_auc = auc_24_26.sort_values( by = [\"device_id\",\"_st\"], ascending = True ).drop_duplicates( subset = [\"device_id\"], keep = \"first\" ).rename( columns = {\"device_id\": \"ref_hash\"} )"
   ]
  },
  {
   "cell_type": "markdown",
   "metadata": {},
   "source": [
    "# Sacamos los Features"
   ]
  },
  {
   "cell_type": "code",
   "execution_count": 9,
   "metadata": {},
   "outputs": [],
   "source": [
    "loc_ftr = r\"D:\\FacundoTorraca\\Documents\\TP2_Machine_Learning\\Features\\ftr_auc\""
   ]
  },
  {
   "cell_type": "code",
   "execution_count": 10,
   "metadata": {},
   "outputs": [],
   "source": [
    "rh_18_20 = auc_18_20_first_auc[ [\"ref_hash\"] ] #RH unicos que coinciden con los datos que usamos para entrenar\n",
    "rh_21_23 = auc_21_23_first_auc[ [\"ref_hash\"] ] #RH unicos que coinciden con los datos que queremos predecir\n",
    "\n",
    "tg_18_20 = auc_18_20_first_auc[ [\"_st\"] ]\n",
    "tg_21_23 = auc_21_23_first_auc[ [\"_st\"] ]"
   ]
  },
  {
   "cell_type": "markdown",
   "metadata": {},
   "source": [
    "## <span style=\"color:green\"> **Cantidad de Clicks en la ventana anterior** </span> "
   ]
  },
  {
   "cell_type": "code",
   "execution_count": 69,
   "metadata": {},
   "outputs": [],
   "source": [
    "cant_clk_18_20 = rh_18_20.copy()\n",
    "cant_clk_21_23 = rh_21_23.copy()\n",
    "\n",
    "cant_clk_18_20 = cant_clk_18_20.merge( clk_18_20[\"ref_hash\"].value_counts().to_frame().reset_index().rename( columns = {\"ref_hash\": \"cant_clk\", \"index\":\"ref_hash\"} ), how = \"left\", on = \"ref_hash\" )\n",
    "cant_clk_21_23 = cant_clk_21_23.merge( clk_21_23[\"ref_hash\"].value_counts().to_frame().reset_index().rename( columns = {\"ref_hash\": \"cant_clk\", \"index\":\"ref_hash\"} ), how = \"left\", on = \"ref_hash\" )\n",
    "\n",
    "cant_clk_18_20.fillna( 0, inplace = True )\n",
    "cant_clk_21_23.fillna( 0, inplace = True )\n",
    "\n",
    "cant_clk_18_20.to_csv( loc_ftr + \"\\\\cant_clk_18_20.csv\", index = False )\n",
    "cant_clk_21_23.to_csv( loc_ftr + \"\\\\cant_clk_21_23.csv\", index = False )"
   ]
  },
  {
   "cell_type": "markdown",
   "metadata": {},
   "source": [
    "## <span style=\"color:green\"> **Promedio del TimeToClick es un anuncio** </span> "
   ]
  },
  {
   "cell_type": "code",
   "execution_count": null,
   "metadata": {},
   "outputs": [],
   "source": [
    "ttc_mean_18_20 = rh_18_20.copy()\n",
    "ttc_mean_21_23 = rh_21_23.copy()\n",
    "\n",
    "ttc_by_rh_18_20 = clk_18_20[ [\"ref_hash\", \"timeToClick\"] ].groupby( \"ref_hash\" ).agg( \"mean\" ); ttc_by_rh_18_20 = ttc_by_rh_18_20.reset_index()\n",
    "ttc_by_rh_21_23 = clk_21_23[ [\"ref_hash\", \"timeToClick\"] ].groupby( \"ref_hash\" ).agg( \"mean\" ); ttc_by_rh_21_23 = ttc_by_rh_21_23.reset_index()\n",
    "\n",
    "ttc_mean_18_20 = ttc_mean_18_20.merge( ttc_by_rh_18_20, how = \"left\", on = \"ref_hash\" )\n",
    "ttc_mean_21_23 = ttc_mean_21_23.merge( ttc_by_rh_21_23, how = \"left\", on = \"ref_hash\" )"
   ]
  },
  {
   "cell_type": "markdown",
   "metadata": {},
   "source": [
    "Casi todos los valores nulos!\n",
    "\n"
   ]
  },
  {
   "cell_type": "markdown",
   "metadata": {},
   "source": [
    "## <span style=\"color:green\"> **Tiempo hasta el primer click** </span> \n",
    "\n",
    "Le asignamos cuanto tiempo, en la ventana del 18-20, tardo en realizar su primer instlacion"
   ]
  },
  {
   "cell_type": "code",
   "execution_count": null,
   "metadata": {},
   "outputs": [],
   "source": [
    "frst_clk_18_20 = rh_18_20.copy()\n",
    "frst_clk_21_23 = rh_21_23.copy()\n",
    "\n",
    "first_click_rh_auc_18_20 = clk_18_20[ [\"ref_hash\",\"date\"] ].sort_values( \"date\" ).drop_duplicates( subset = \"ref_hash\", keep = \"first\" )\n",
    "first_click_rh_auc_21_23 = clk_21_23[ [\"ref_hash\",\"date\"] ].sort_values( \"date\" ).drop_duplicates( subset = \"ref_hash\", keep = \"first\" )\n",
    "\n",
    "first_click_rh_auc_18_20[\"time_to_frt_clk\"] = ( pd.to_datetime( first_click_rh_auc_18_20[\"date\"] ) -  dt.datetime( year = 2019, month = 4, day = 18 ) ).dt.total_seconds()\n",
    "first_click_rh_auc_21_23[\"time_to_frt_clk\"] = ( pd.to_datetime( first_click_rh_auc_21_23[\"date\"] ) -  dt.datetime( year = 2019, month = 4, day = 21 ) ).dt.total_seconds()\n",
    "\n",
    "first_click_rh_auc_18_20.drop( \"date\", axis = 1, inplace = True )\n",
    "first_click_rh_auc_21_23.drop( \"date\", axis = 1, inplace = True )\n",
    "\n",
    "frst_clk_18_20 = frst_clk_18_20.merge( first_click_rh_auc_18_20, how = \"left\", on = \"ref_hash\" )\n",
    "frst_clk_21_23 = frst_clk_21_23.merge( first_click_rh_auc_21_23, how = \"left\", on = \"ref_hash\" )\n",
    "\n",
    "#Los que tienen NaN es que nunca convirtieron. Los marcamos con el tiempo maximo\n",
    "frst_clk_18_20.fillna( 3 * 24 * 3600, inplace = True )\n",
    "frst_clk_21_23.fillna( 3 * 24 * 3600, inplace = True )\n",
    "\n",
    "frst_clk_18_20.to_csv( loc_ftr + \"\\\\frst_clk_18_20.csv\", index = False )\n",
    "frst_clk_21_23.to_csv( loc_ftr + \"\\\\frst_clk_21_23.csv\", index = False )"
   ]
  },
  {
   "cell_type": "markdown",
   "metadata": {},
   "source": [
    "## <span style=\"color:green\"> **Recibio clicks entre 16 hs y 20 hs (Tarde)** </span> "
   ]
  },
  {
   "cell_type": "markdown",
   "metadata": {},
   "source": [
    "## <span style=\"color:Orange\"> **Mean Encoding** </span> "
   ]
  },
  {
   "cell_type": "code",
   "execution_count": 31,
   "metadata": {},
   "outputs": [],
   "source": [
    "clk_18_20['clk_16_20'] = ( pd.to_datetime( clk_18_20['date'] ).dt.hour > 15) & ( pd.to_datetime( clk_18_20['date'] ).dt.hour < 21) \n",
    "clk_21_23['clk_16_20'] = ( pd.to_datetime( clk_21_23['date'] ).dt.hour > 15) & ( pd.to_datetime( clk_21_23['date'] ).dt.hour < 21)\n",
    "\n",
    "clk_after_18_20 = rh_18_20.copy()\n",
    "clk_after_21_23 = rh_21_23.copy()\n",
    "\n",
    "hour_mode_18_20 = clk_18_20.groupby('ref_hash').agg({'clk_16_20':'sum'}).reset_index()\n",
    "hour_mode_21_23 = clk_21_23.groupby('ref_hash').agg({'clk_16_20':'sum'}).reset_index()\n",
    "\n",
    "clk_after_18_20 = clk_after_18_20.merge( hour_mode_18_20, how = \"left\", on = \"ref_hash\" )\n",
    "clk_after_21_23 = clk_after_21_23.merge( hour_mode_21_23, how = \"left\", on = \"ref_hash\" )\n",
    "\n",
    "clk_after_18_20[\"clk_16_20\"] = (clk_after_18_20[\"clk_16_20\"] > 1).astype('int8')\n",
    "clk_after_21_23[\"clk_16_20\"] = (clk_after_21_23[\"clk_16_20\"] > 1).astype('int8')\n",
    "\n",
    "clk_after_18_20['me_clk_16_20'] = ( clk_after_18_20.groupby('clk_16_20').transform('count') ) / len(clk_after_18_20['clk_16_20'])\n",
    "clk_after_21_23['me_clk_16_20'] = ( clk_after_21_23.groupby('clk_16_20').transform('count') ) / len(clk_after_21_23['clk_16_20'])\n",
    "\n",
    "del clk_after_18_20[\"clk_16_20\"]\n",
    "del clk_after_21_23[\"clk_16_20\"]\n",
    "\n",
    "clk_after_18_20.to_csv( loc_ftr + \"\\\\clk_afme_18_20.csv\", index = False )\n",
    "clk_after_21_23.to_csv( loc_ftr + \"\\\\clk_afme_21_23.csv\", index = False )\n",
    "\n",
    "del clk_18_20['clk_16_20']\n",
    "del clk_21_23['clk_16_20']"
   ]
  },
  {
   "cell_type": "markdown",
   "metadata": {},
   "source": [
    "## <span style=\"color:Orange\"> **One-hot Encoding** </span> "
   ]
  },
  {
   "cell_type": "code",
   "execution_count": 32,
   "metadata": {},
   "outputs": [],
   "source": [
    "clk_18_20['clk_16_20'] = ( pd.to_datetime( clk_18_20['date'] ).dt.hour > 15) & ( pd.to_datetime( clk_18_20['date'] ).dt.hour < 21) \n",
    "clk_21_23['clk_16_20'] = ( pd.to_datetime( clk_21_23['date'] ).dt.hour > 15) & ( pd.to_datetime( clk_21_23['date'] ).dt.hour < 21)\n",
    "\n",
    "clk_after_18_20 = rh_18_20.copy()\n",
    "clk_after_21_23 = rh_21_23.copy()\n",
    "\n",
    "hour_mode_18_20 = clk_18_20.groupby('ref_hash').agg({'clk_16_20':'sum'}).reset_index()\n",
    "hour_mode_21_23 = clk_21_23.groupby('ref_hash').agg({'clk_16_20':'sum'}).reset_index()\n",
    "\n",
    "clk_after_18_20 = clk_after_18_20.merge( hour_mode_18_20, how = \"left\", on = \"ref_hash\" )\n",
    "clk_after_21_23 = clk_after_21_23.merge( hour_mode_21_23, how = \"left\", on = \"ref_hash\" )\n",
    "\n",
    "clk_after_18_20[\"clk_16_20\"] = (clk_after_18_20[\"clk_16_20\"] > 1).astype('int8')\n",
    "clk_after_21_23[\"clk_16_20\"] = (clk_after_21_23[\"clk_16_20\"] > 1).astype('int8')\n",
    "\n",
    "clk_after_18_20.to_csv( loc_ftr + \"\\\\clk_afoh_18_20.csv\", index = False )\n",
    "clk_after_21_23.to_csv( loc_ftr + \"\\\\clk_afoh_21_23.csv\", index = False )\n",
    "\n",
    "del clk_18_20['clk_16_20']\n",
    "del clk_21_23['clk_16_20']"
   ]
  },
  {
   "cell_type": "markdown",
   "metadata": {},
   "source": [
    "## <span style=\"color:green\"> **Recibio clikcs entre 21 hs y 3 hs (Noche)** </span> "
   ]
  },
  {
   "cell_type": "markdown",
   "metadata": {},
   "source": [
    "## <span style=\"color:Orange\"> **Mean Encoding** </span> "
   ]
  },
  {
   "cell_type": "code",
   "execution_count": 33,
   "metadata": {},
   "outputs": [],
   "source": [
    "clk_18_20['clk_21_3'] = ( pd.to_datetime( clk_18_20['date'] ).dt.hour < 4) | ( pd.to_datetime( clk_18_20['date'] ).dt.hour > 20)\n",
    "clk_21_23['clk_21_3'] = ( pd.to_datetime( clk_21_23['date'] ).dt.hour < 4) | ( pd.to_datetime( clk_21_23['date'] ).dt.hour > 20)\n",
    "\n",
    "clk_night_18_20 = rh_18_20.copy()\n",
    "clk_night_21_23 = rh_21_23.copy()\n",
    "\n",
    "hour_mode_18_20 = clk_18_20.groupby('ref_hash').agg({'clk_21_3':'sum'}).reset_index()\n",
    "hour_mode_21_23 = clk_21_23.groupby('ref_hash').agg({'clk_21_3':'sum'}).reset_index()\n",
    "\n",
    "clk_night_18_20 = clk_night_18_20.merge( hour_mode_18_20, how = \"left\", on = \"ref_hash\" )\n",
    "clk_night_21_23 = clk_night_21_23.merge( hour_mode_21_23, how = \"left\", on = \"ref_hash\" )\n",
    "\n",
    "clk_night_18_20[\"clk_21_3\"] =  (clk_night_18_20[\"clk_21_3\"] > 1).astype('int8')\n",
    "clk_night_21_23[\"clk_21_3\"] =  (clk_night_21_23[\"clk_21_3\"] > 1).astype('int8')\n",
    "\n",
    "clk_night_18_20['me_clk_21_3'] = ( clk_night_18_20.groupby('clk_21_3').transform('count') ) / len(clk_night_18_20['clk_21_3'])\n",
    "clk_night_21_23['me_clk_21_3'] = ( clk_night_21_23.groupby('clk_21_3').transform('count') ) / len(clk_night_21_23['clk_21_3'])\n",
    "\n",
    "del clk_night_18_20[\"clk_21_3\"]\n",
    "del clk_night_21_23[\"clk_21_3\"]\n",
    "\n",
    "clk_night_18_20.to_csv( loc_ftr + \"\\\\clk_ngme_18_20.csv\", index = False )\n",
    "clk_night_21_23.to_csv( loc_ftr + \"\\\\clk_ngme_21_23.csv\", index = False )\n",
    "\n",
    "del clk_18_20['clk_21_3']\n",
    "del clk_21_23['clk_21_3']"
   ]
  },
  {
   "cell_type": "markdown",
   "metadata": {},
   "source": [
    "## <span style=\"color:Orange\"> **One-hot Encoding** </span> "
   ]
  },
  {
   "cell_type": "code",
   "execution_count": 34,
   "metadata": {},
   "outputs": [],
   "source": [
    "clk_18_20['clk_21_3'] = ( pd.to_datetime( clk_18_20['date'] ).dt.hour < 4) | ( pd.to_datetime( clk_18_20['date'] ).dt.hour > 20)\n",
    "clk_21_23['clk_21_3'] = ( pd.to_datetime( clk_21_23['date'] ).dt.hour < 4) | ( pd.to_datetime( clk_21_23['date'] ).dt.hour > 20)\n",
    "\n",
    "clk_night_18_20 = rh_18_20.copy()\n",
    "clk_night_21_23 = rh_21_23.copy()\n",
    "\n",
    "hour_mode_18_20 = clk_18_20.groupby('ref_hash').agg({'clk_21_3':'sum'}).reset_index()\n",
    "hour_mode_21_23 = clk_21_23.groupby('ref_hash').agg({'clk_21_3':'sum'}).reset_index()\n",
    "\n",
    "clk_night_18_20 = clk_night_18_20.merge( hour_mode_18_20, how = \"left\", on = \"ref_hash\" )\n",
    "clk_night_21_23 = clk_night_21_23.merge( hour_mode_21_23, how = \"left\", on = \"ref_hash\" )\n",
    "\n",
    "clk_night_18_20[\"clk_21_3\"] =  (clk_night_18_20[\"clk_21_3\"] > 1).astype('int8')\n",
    "clk_night_21_23[\"clk_21_3\"] =  (clk_night_21_23[\"clk_21_3\"] > 1).astype('int8')\n",
    "\n",
    "clk_night_18_20.to_csv( loc_ftr + \"\\\\clk_ngoh_18_20.csv\", index = False )\n",
    "clk_night_21_23.to_csv( loc_ftr + \"\\\\clk_ngoh_21_23.csv\", index = False )\n",
    "\n",
    "del clk_18_20['clk_21_3']\n",
    "del clk_21_23['clk_21_3']"
   ]
  },
  {
   "cell_type": "markdown",
   "metadata": {},
   "source": [
    "## <span style=\"color:green\"> **Recibio clicks entre 11 hs y 15 hs (Medio dia)** </span> "
   ]
  },
  {
   "cell_type": "markdown",
   "metadata": {},
   "source": [
    "## <span style=\"color:Orange\"> **Mean Encoding** </span> "
   ]
  },
  {
   "cell_type": "code",
   "execution_count": 35,
   "metadata": {},
   "outputs": [],
   "source": [
    "clk_18_20['clk_11_15'] = ( pd.to_datetime( clk_18_20['date'] ).dt.hour > 10) & ( pd.to_datetime( clk_18_20['date'] ).dt.hour < 16) \n",
    "clk_21_23['clk_11_15'] = ( pd.to_datetime( clk_21_23['date'] ).dt.hour > 10) & ( pd.to_datetime( clk_21_23['date'] ).dt.hour < 16)\n",
    "\n",
    "clk_midday_18_20 = rh_18_20.copy()\n",
    "clk_midday_21_23 = rh_21_23.copy()\n",
    "\n",
    "hour_mode_18_20 = clk_18_20.groupby('ref_hash').agg({'clk_11_15':'sum'}).reset_index()\n",
    "hour_mode_21_23 = clk_21_23.groupby('ref_hash').agg({'clk_11_15':'sum'}).reset_index()\n",
    "\n",
    "clk_midday_18_20 = clk_midday_18_20.merge( hour_mode_18_20, how = \"left\", on = \"ref_hash\" )\n",
    "clk_midday_21_23 = clk_midday_21_23.merge( hour_mode_21_23, how = \"left\", on = \"ref_hash\" )\n",
    "\n",
    "clk_midday_18_20[\"clk_11_15\"] =  (clk_midday_18_20[\"clk_11_15\"] > 1).astype('int8')\n",
    "clk_midday_21_23[\"clk_11_15\"] =  (clk_midday_21_23[\"clk_11_15\"] > 1).astype('int8')\n",
    "\n",
    "clk_midday_18_20['me_clk_11_15'] = ( clk_midday_18_20.groupby('clk_11_15').transform('count') ) / len(clk_midday_18_20['clk_11_15'])\n",
    "clk_midday_21_23['me_clk_11_15'] = ( clk_midday_21_23.groupby('clk_11_15').transform('count') ) / len(clk_midday_21_23['clk_11_15'])\n",
    "\n",
    "del clk_midday_18_20[\"clk_11_15\"]\n",
    "del clk_midday_21_23[\"clk_11_15\"]\n",
    "\n",
    "clk_midday_18_20.to_csv( loc_ftr + \"\\\\clk_mdme_18_20.csv\", index = False )\n",
    "clk_midday_21_23.to_csv( loc_ftr + \"\\\\clk_mdme_21_23.csv\", index = False )\n",
    "\n",
    "del clk_18_20['clk_11_15']\n",
    "del clk_21_23['clk_11_15']"
   ]
  },
  {
   "cell_type": "markdown",
   "metadata": {},
   "source": [
    "## <span style=\"color:Orange\"> **One-hot Encoding** </span> "
   ]
  },
  {
   "cell_type": "code",
   "execution_count": 36,
   "metadata": {},
   "outputs": [],
   "source": [
    "clk_18_20['clk_11_15'] = ( pd.to_datetime( clk_18_20['date'] ).dt.hour > 10) & ( pd.to_datetime( clk_18_20['date'] ).dt.hour < 16) \n",
    "clk_21_23['clk_11_15'] = ( pd.to_datetime( clk_21_23['date'] ).dt.hour > 10) & ( pd.to_datetime( clk_21_23['date'] ).dt.hour < 16)\n",
    "\n",
    "clk_midday_18_20 = rh_18_20.copy()\n",
    "clk_midday_21_23 = rh_21_23.copy()\n",
    "\n",
    "hour_mode_18_20 = clk_18_20.groupby('ref_hash').agg({'clk_11_15':'sum'}).reset_index()\n",
    "hour_mode_21_23 = clk_21_23.groupby('ref_hash').agg({'clk_11_15':'sum'}).reset_index()\n",
    "\n",
    "clk_midday_18_20 = clk_midday_18_20.merge( hour_mode_18_20, how = \"left\", on = \"ref_hash\" )\n",
    "clk_midday_21_23 = clk_midday_21_23.merge( hour_mode_21_23, how = \"left\", on = \"ref_hash\" )\n",
    "\n",
    "clk_midday_18_20[\"clk_11_15\"] =  (clk_midday_18_20[\"clk_11_15\"] > 1).astype('int8')\n",
    "clk_midday_21_23[\"clk_11_15\"] =  (clk_midday_21_23[\"clk_11_15\"] > 1).astype('int8')\n",
    "\n",
    "clk_midday_18_20.to_csv( loc_ftr + \"\\\\clk_mdoh_18_20.csv\", index = False )\n",
    "clk_midday_21_23.to_csv( loc_ftr + \"\\\\clk_mdoh_21_23.csv\", index = False )\n",
    "\n",
    "del clk_18_20['clk_11_15']\n",
    "del clk_21_23['clk_11_15']"
   ]
  },
  {
   "cell_type": "markdown",
   "metadata": {},
   "source": [
    "## <span style=\"color:green\"> **Recibio clicks entre 4 hs y 10 hs (Mañana)** </span> "
   ]
  },
  {
   "cell_type": "markdown",
   "metadata": {},
   "source": [
    "## <span style=\"color:Orange\"> **Mean Encoding** </span> "
   ]
  },
  {
   "cell_type": "code",
   "execution_count": 38,
   "metadata": {},
   "outputs": [],
   "source": [
    "clk_18_20['clk_4_10'] = ( pd.to_datetime( clk_18_20['date'] ).dt.hour > 3) & ( pd.to_datetime( clk_18_20['date'] ).dt.hour < 11) \n",
    "clk_21_23['clk_4_10'] = ( pd.to_datetime( clk_21_23['date'] ).dt.hour > 3) & ( pd.to_datetime( clk_21_23['date'] ).dt.hour < 11)\n",
    "\n",
    "clk_morn_18_20 = rh_18_20.copy()\n",
    "clk_morn_21_23 = rh_21_23.copy()\n",
    "\n",
    "hour_mode_18_20 = clk_18_20.groupby('ref_hash').agg({'clk_4_10':'sum'}).reset_index()\n",
    "hour_mode_21_23 = clk_21_23.groupby('ref_hash').agg({'clk_4_10':'sum'}).reset_index()\n",
    "\n",
    "clk_morn_18_20 = clk_morn_18_20.merge( hour_mode_18_20, how = \"left\", on = \"ref_hash\" )\n",
    "clk_morn_21_23 = clk_morn_21_23.merge( hour_mode_21_23, how = \"left\", on = \"ref_hash\" )\n",
    "\n",
    "clk_morn_18_20[\"clk_4_10\"] =  (clk_morn_18_20[\"clk_4_10\"] > 1).astype('int8')\n",
    "clk_morn_21_23[\"clk_4_10\"] =  (clk_morn_21_23[\"clk_4_10\"] > 1).astype('int8')\n",
    "\n",
    "clk_morn_18_20['me_clk_4_10'] = ( clk_morn_18_20.groupby('clk_4_10').transform('count') ) / len(clk_morn_18_20['clk_4_10'])\n",
    "clk_morn_21_23['me_clk_4_10'] = ( clk_morn_21_23.groupby('clk_4_10').transform('count') ) / len(clk_morn_21_23['clk_4_10'])\n",
    "\n",
    "del clk_morn_18_20[\"clk_4_10\"]\n",
    "del clk_morn_21_23[\"clk_4_10\"]\n",
    "\n",
    "clk_morn_18_20.to_csv( loc_ftr + \"\\\\clk_mrme_18_20.csv\", index = False )\n",
    "clk_morn_21_23.to_csv( loc_ftr + \"\\\\clk_mrme_21_23.csv\", index = False )\n",
    "\n",
    "del clk_18_20['clk_4_10']\n",
    "del clk_21_23['clk_4_10']"
   ]
  },
  {
   "cell_type": "markdown",
   "metadata": {},
   "source": [
    "## <span style=\"color:Orange\"> **One-hot Encoding** </span> "
   ]
  },
  {
   "cell_type": "code",
   "execution_count": 39,
   "metadata": {},
   "outputs": [],
   "source": [
    "clk_18_20['clk_4_10'] = ( pd.to_datetime( clk_18_20['date'] ).dt.hour > 3) & ( pd.to_datetime( clk_18_20['date'] ).dt.hour < 11) \n",
    "clk_21_23['clk_4_10'] = ( pd.to_datetime( clk_21_23['date'] ).dt.hour > 3) & ( pd.to_datetime( clk_21_23['date'] ).dt.hour < 11)\n",
    "\n",
    "clk_morn_18_20 = rh_18_20.copy()\n",
    "clk_morn_21_23 = rh_21_23.copy()\n",
    "\n",
    "hour_mode_18_20 = clk_18_20.groupby('ref_hash').agg({'clk_4_10':'sum'}).reset_index()\n",
    "hour_mode_21_23 = clk_21_23.groupby('ref_hash').agg({'clk_4_10':'sum'}).reset_index()\n",
    "\n",
    "clk_morn_18_20 = clk_morn_18_20.merge( hour_mode_18_20, how = \"left\", on = \"ref_hash\" )\n",
    "clk_morn_21_23 = clk_morn_21_23.merge( hour_mode_21_23, how = \"left\", on = \"ref_hash\" )\n",
    "\n",
    "clk_morn_18_20[\"ins_4_10\"] =  (clk_morn_18_20[\"clk_4_10\"] > 1).astype('int8')\n",
    "clk_morn_21_23[\"ins_4_10\"] =  (clk_morn_21_23[\"clk_4_10\"] > 1).astype('int8')\n",
    "\n",
    "clk_morn_18_20.to_csv( loc_ftr + \"\\\\clk_mroh_18_20.csv\", index = False )\n",
    "clk_morn_21_23.to_csv( loc_ftr + \"\\\\clk_mroh_21_23.csv\", index = False )\n",
    "\n",
    "del clk_18_20['clk_4_10']\n",
    "del clk_21_23['clk_4_10']"
   ]
  }
 ],
 "metadata": {
  "kernelspec": {
   "display_name": "Python 3",
   "language": "python",
   "name": "python3"
  },
  "language_info": {
   "codemirror_mode": {
    "name": "ipython",
    "version": 3
   },
   "file_extension": ".py",
   "mimetype": "text/x-python",
   "name": "python",
   "nbconvert_exporter": "python",
   "pygments_lexer": "ipython3",
   "version": "3.7.0"
  }
 },
 "nbformat": 4,
 "nbformat_minor": 2
}
