{
 "cells": [
  {
   "cell_type": "code",
   "execution_count": 1,
   "metadata": {},
   "outputs": [],
   "source": [
    "import pandas as pd\n",
    "import numpy as np\n",
    "import datetime as dt\n",
    "import warnings as wn\n",
    "import sklearn.preprocessing as skpre\n",
    "import category_encoders as ce\n",
    "\n",
    "wn.simplefilter( \"ignore\" )"
   ]
  },
  {
   "cell_type": "code",
   "execution_count": 2,
   "metadata": {},
   "outputs": [],
   "source": [
    "loc_ftr = r\"D:\\FacundoTorraca\\Documents\\TP2_ML_Kaggle\\Features\\FeaturesST\""
   ]
  },
  {
   "cell_type": "markdown",
   "metadata": {},
   "source": [
    "## <span style=\"color:yellow\"> **Preparamos los Sets de Training** </span> "
   ]
  },
  {
   "cell_type": "code",
   "execution_count": 3,
   "metadata": {},
   "outputs": [],
   "source": [
    "loc_ts = r\"D:\\FacundoTorraca\\Documents\\TP2_ML_Kaggle\\Training Sets\""
   ]
  },
  {
   "cell_type": "code",
   "execution_count": 4,
   "metadata": {},
   "outputs": [],
   "source": [
    "auc_trn = pd.read_csv( loc_ts + \"\\\\auc_21_23.csv\" ); \n",
    "auc_tst = pd.read_csv( loc_ts + \"\\\\auc_24_26.csv\" );"
   ]
  },
  {
   "cell_type": "markdown",
   "metadata": {},
   "source": [
    "## <span style=\"color:yellow\"> **Genero los Sets con el primer auction** </span> "
   ]
  },
  {
   "cell_type": "code",
   "execution_count": 5,
   "metadata": {},
   "outputs": [],
   "source": [
    "auc_trn[\"date\"] =  pd.to_datetime( auc_trn[\"date\"] ); auc_trn[\"_st\"] = auc_trn[\"date\"] - dt.datetime( year = 2019, month = 4, day = 18 ); auc_trn[\"_st\"] = auc_trn[\"_st\"].dt.total_seconds();\n",
    "auc_tst[\"date\"] =  pd.to_datetime( auc_tst[\"date\"] ); auc_tst[\"_st\"] = auc_tst[\"date\"] - dt.datetime( year = 2019, month = 4, day = 21 ); auc_tst[\"_st\"] = auc_tst[\"_st\"].dt.total_seconds(); "
   ]
  },
  {
   "cell_type": "code",
   "execution_count": 6,
   "metadata": {},
   "outputs": [],
   "source": [
    "auc_trn_frt = auc_trn.sort_values( by = [\"device_id\",\"_st\"], ascending = True ).drop_duplicates( subset = [\"device_id\"], keep = \"first\" ).rename( columns = {\"device_id\": \"ref_hash\"} )\n",
    "auc_tst_frt = auc_tst.sort_values( by = [\"device_id\",\"_st\"], ascending = True ).drop_duplicates( subset = [\"device_id\"], keep = \"first\" ).rename( columns = {\"device_id\": \"ref_hash\"} )"
   ]
  },
  {
   "cell_type": "markdown",
   "metadata": {},
   "source": [
    "## <span style=\"color:yellow\"> **Preparamos el ref_hash de cada ventana** </span> "
   ]
  },
  {
   "cell_type": "code",
   "execution_count": 8,
   "metadata": {},
   "outputs": [],
   "source": [
    "loc_lb = r\"D:\\FacundoTorraca\\Documents\\TP2_ML_Kaggle\\Labels\""
   ]
  },
  {
   "cell_type": "code",
   "execution_count": 9,
   "metadata": {},
   "outputs": [],
   "source": [
    "lb_auc_trn = pd.read_csv( loc_lb + \"\\\\label_auc_24_26.csv\" );\n",
    "lb_auc_tst = pd.read_csv( loc_lb + \"\\\\target.csv\" ); "
   ]
  },
  {
   "cell_type": "code",
   "execution_count": 10,
   "metadata": {},
   "outputs": [],
   "source": [
    "rh_trn = lb_auc_trn[ [\"ref_hash\"] ]\n",
    "rh_tst = lb_auc_tst[ [\"ref_hash\"] ]\n",
    "\n",
    "tg_trn = lb_auc_trn[ [\"24_26_st\"] ]"
   ]
  },
  {
   "cell_type": "markdown",
   "metadata": {},
   "source": [
    "## <span style=\"color:yellow\"> **=================================================================================================** </span> "
   ]
  },
  {
   "cell_type": "markdown",
   "metadata": {},
   "source": [
    "## <span style=\"color:green\"> **Hora de la realizacion de la primera subasta** </span> "
   ]
  },
  {
   "cell_type": "markdown",
   "metadata": {},
   "source": [
    "Le aplicamos la transformacion sin( (hora * pi)/24 ) para agregarle periodicidad. Por ejemplo que las 00 hs tengan un valor similar a 2"
   ]
  },
  {
   "cell_type": "code",
   "execution_count": 11,
   "metadata": {},
   "outputs": [],
   "source": [
    "hora_auc_trn = rh_trn.copy()\n",
    "hora_auc_tst = rh_tst.copy()\n",
    "\n",
    "hora_auc_trn[\"hour\"] = auc_trn_frt[\"date\"].dt.hour; hora_auc_trn[\"hour\"] = hora_auc_trn[\"hour\"].apply( lambda x: np.sin( (x*np.pi)/24 ) )\n",
    "hora_auc_tst[\"hour\"] = auc_tst_frt[\"date\"].dt.hour; hora_auc_tst[\"hour\"] = hora_auc_tst[\"hour\"].apply( lambda x: np.sin( (x*np.pi)/24 ) )\n",
    "\n",
    "hora_auc_trn.to_csv( loc_ftr + \"\\\\hora_auc_trn.csv\", index = False )\n",
    "hora_auc_tst.to_csv( loc_ftr + \"\\\\hora_auc_tst.csv\", index = False )"
   ]
  },
  {
   "cell_type": "markdown",
   "metadata": {},
   "source": [
    "## <span style=\"color:green\"> **Hora mas popular del usuario en las subastas** </span> \n",
    "\n",
    "Le aplicamos la transformacion sin( (hora * pi)/24 ) para agregarle periodicidad. "
   ]
  },
  {
   "cell_type": "code",
   "execution_count": 12,
   "metadata": {},
   "outputs": [],
   "source": [
    "main_ahr_trn = rh_trn.copy()\n",
    "main_ahr_tst = rh_tst.copy()\n",
    "\n",
    "hour_mode_trn = auc_trn[[\"device_id\"]]; hour_mode_trn[\"hour\"] = pd.to_datetime( auc_trn[\"date\"] ).dt.hour\n",
    "hour_mode_tst = auc_tst[[\"device_id\"]]; hour_mode_tst[\"hour\"] = pd.to_datetime( auc_tst[\"date\"] ).dt.hour\n",
    "\n",
    "hour_mode_trn = hour_mode_trn.groupby( [\"device_id\", \"hour\"] ).agg( { \"hour\":\"count\" } ).rename( columns = {\"hour\":\"count\"} ).reset_index()\n",
    "hour_mode_tst = hour_mode_tst.groupby( [\"device_id\", \"hour\"] ).agg( { \"hour\":\"count\" } ).rename( columns = {\"hour\":\"count\"} ).reset_index()\n",
    "\n",
    "hour_mode_trn = hour_mode_trn.sort_values( [\"device_id\",\"count\"], ascending = False ).drop_duplicates( subset = [\"device_id\"], keep = \"first\" ).rename( columns = {\"device_id\":\"ref_hash\"} ).drop(\"count\",axis = 1)\n",
    "hour_mode_tst = hour_mode_tst.sort_values( [\"device_id\",\"count\"], ascending = False ).drop_duplicates( subset = [\"device_id\"], keep = \"first\" ).rename( columns = {\"device_id\":\"ref_hash\"} ).drop(\"count\",axis = 1)\n",
    "\n",
    "main_ahr_trn = main_ahr_trn.merge( hour_mode_trn, how = \"left\", on = \"ref_hash\" ).rename( columns = {\"hour\":\"main_hour\"} )\n",
    "main_ahr_tst = main_ahr_tst.merge( hour_mode_tst, how = \"left\", on = \"ref_hash\" ).rename( columns = {\"hour\":\"main_hour\"} )\n",
    "\n",
    "main_ahr_trn[\"main_hour\"] =  main_ahr_trn[\"main_hour\"].apply( lambda x: np.sin( (x*np.pi)/24 ) )\n",
    "main_ahr_tst[\"main_hour\"] =  main_ahr_tst[\"main_hour\"].apply( lambda x: np.sin( (x*np.pi)/24 ) )\n",
    "\n",
    "main_ahr_trn.to_csv( loc_ftr + \"\\\\main_ahr_trn.csv\", index = False )\n",
    "main_ahr_tst.to_csv( loc_ftr + \"\\\\main_ahr_tst.csv\", index = False )"
   ]
  },
  {
   "cell_type": "markdown",
   "metadata": {},
   "source": [
    "## <span style=\"color:green\"> **Cantidad de subastas por dispositivo en la ventana previa a la conversion** </span> "
   ]
  },
  {
   "cell_type": "code",
   "execution_count": 13,
   "metadata": {},
   "outputs": [],
   "source": [
    "cant_auc_trn = rh_trn.copy()\n",
    "cant_auc_tst = rh_tst.copy()\n",
    "\n",
    "cant_auc_trn = cant_auc_trn.merge( auc_trn[\"device_id\"].value_counts().to_frame().reset_index().rename( columns = {\"device_id\": \"cant_auc\", \"index\":\"ref_hash\"} ), how = \"left\", on = \"ref_hash\" )\n",
    "cant_auc_tst = cant_auc_tst.merge( auc_tst[\"device_id\"].value_counts().to_frame().reset_index().rename( columns = {\"device_id\": \"cant_auc\", \"index\":\"ref_hash\"} ), how = \"left\", on = \"ref_hash\" )\n",
    "\n",
    "cant_auc_trn.fillna( 0, inplace = True )\n",
    "cant_auc_tst.fillna( 0, inplace = True )\n",
    "\n",
    "cant_auc_trn.to_csv( loc_ftr + \"\\\\cant_auc_trn.csv\", index = False )\n",
    "cant_auc_tst.to_csv( loc_ftr + \"\\\\cant_auc_tst.csv\", index = False )"
   ]
  },
  {
   "cell_type": "markdown",
   "metadata": {},
   "source": [
    "## <span style=\"color:green\"> **Ref Type del dispositivo que realizo la subasta** </span> \n",
    "\n",
    "#### <span style=\"color:orange\"> **OneHotEncoding** </span> "
   ]
  },
  {
   "cell_type": "code",
   "execution_count": 14,
   "metadata": {},
   "outputs": [],
   "source": [
    "ref_type_trn = rh_trn.copy()\n",
    "ref_type_tst = rh_tst.copy()\n",
    "\n",
    "rt_ohe_trn = pd.get_dummies( auc_trn_frt[\"ref_type_id\"] )\n",
    "rt_ohe_tst = pd.get_dummies( auc_tst_frt[\"ref_type_id\"] )\n",
    "\n",
    "ref_type_trn = pd.concat( [ref_type_trn, rt_ohe_trn], axis = 1 )\n",
    "ref_type_tst = pd.concat( [ref_type_tst, rt_ohe_tst], axis = 1 )\n",
    "\n",
    "ref_type_trn.to_csv( loc_ftr + \"\\\\ref_type_trn.csv\", index = False )\n",
    "ref_type_tst.to_csv( loc_ftr + \"\\\\ref_type_tst.csv\", index = False )"
   ]
  },
  {
   "cell_type": "markdown",
   "metadata": {},
   "source": [
    "## <span style=\"color:green\"> **Source que recibio mas instalaciones por dispositivo** </span> \n",
    "\n",
    "#### <span style=\"color:orange\"> **Mean Encoding** </span> (Usamos el promedio de la cantidad de veces que que es la fuente principal de algun dispositivo)"
   ]
  },
  {
   "cell_type": "code",
   "execution_count": 15,
   "metadata": {},
   "outputs": [],
   "source": [
    "srce_auc_trn = rh_trn.copy()\n",
    "srce_auc_tst = rh_tst.copy()\n",
    "\n",
    "main_source_trn = auc_trn.groupby( [\"device_id\", \"source_id\"] ).agg( {\"source_id\":\"count\"} ).rename( columns = {\"source_id\":\"cant_auc\"} ).reset_index()\n",
    "main_source_tst = auc_tst.groupby( [\"device_id\", \"source_id\"] ).agg( {\"source_id\":\"count\"} ).rename( columns = {\"source_id\":\"cant_auc\"} ).reset_index()\n",
    "\n",
    "main_source_trn = main_source_trn.sort_values( by = [\"device_id\",\"cant_auc\"], ascending = True ).drop_duplicates( subset = [\"device_id\"], keep = \"last\" ); del( main_source_trn[\"cant_auc\"] )\n",
    "main_sourcetst3 = main_source_tst.sort_values( by = [\"device_id\",\"cant_auc\"], ascending = True ).drop_duplicates( subset = [\"device_id\"], keep = \"last\" ); del( main_source_tst[\"cant_auc\"] )\n",
    "\n",
    "srce_auc_trn = srce_auc_trn.merge( main_source_trn.rename(columns = {\"device_id\":\"ref_hash\"}), how = \"left\", on = \"ref_hash\" ); srce_auc_trn.fillna( \"no_font\", inplace = True )\n",
    "srce_auc_tst = srce_auc_tst.merge( main_source_tst.rename(columns = {\"device_id\":\"ref_hash\"}), how = \"left\", on = \"ref_hash\" ); srce_auc_tst.fillna( \"no_font\", inplace = True )\n",
    "\n",
    "srce_auc_trn[\"to_count\"] = 1; srce_auc_trn[\"source_id\"] = srce_auc_trn[[\"source_id\", \"to_count\"]].groupby(\"source_id\").transform( \"sum\" ) / len(srce_auc_trn); del(srce_auc_trn[\"to_count\"])\n",
    "srce_auc_tst[\"to_count\"] = 1; srce_auc_tst[\"source_id\"] = srce_auc_tst[[\"source_id\", \"to_count\"]].groupby(\"source_id\").transform( \"sum\" ) / len(srce_auc_tst); del(srce_auc_tst[\"to_count\"])\n",
    "\n",
    "srce_auc_trn.to_csv( loc_ftr + \"\\\\srce_auc_trn.csv\", index = False )\n",
    "srce_auc_tst.to_csv( loc_ftr + \"\\\\srce_auc_tst.csv\", index = False )"
   ]
  },
  {
   "cell_type": "markdown",
   "metadata": {},
   "source": [
    "## <span style=\"color:green\"> **Ref Hash** </span> \n",
    "\n",
    "\n",
    "#### <span style=\"color:orange\"> **Mean Encoding** </span> (Usamos el promedio de la cantidad de apariciones en las subastas en la ventana anterior)"
   ]
  },
  {
   "cell_type": "code",
   "execution_count": 17,
   "metadata": {},
   "outputs": [],
   "source": [
    "rh_encod_trn = rh_trn.copy()\n",
    "rh_encod_tst = rh_tst.copy()\n",
    "\n",
    "appces_trn_auc = auc_trn[\"device_id\"].value_counts().reset_index().rename( columns = {\"index\":\"ref_hash\", \"device_id\":\"appearances\"} )\n",
    "appces_tst_auc = auc_tst[\"device_id\"].value_counts().reset_index().rename( columns = {\"index\":\"ref_hash\", \"device_id\":\"appearances\"} )\n",
    "\n",
    "appces_trn_auc[\"ref_hash_mean\"] = appces_trn_auc[\"appearances\"] / len( auc_trn ); appces_trn_auc.drop( \"appearances\", axis = 1, inplace = True )\n",
    "appces_tst_auc[\"ref_hash_mean\"] = appces_tst_auc[\"appearances\"] / len( auc_tst ); appces_tst_auc.drop( \"appearances\", axis = 1, inplace = True )\n",
    "\n",
    "rh_encod_trn = rh_encod_trn.merge( appces_trn_auc, how = \"left\", on = \"ref_hash\" )\n",
    "rh_encod_tst = rh_encod_tst.merge( appces_tst_auc, how = \"left\", on = \"ref_hash\" )\n",
    "\n",
    "rh_encod_trn.to_csv( loc_ftr + \"\\\\rh_encod_trn.csv\", index = False )\n",
    "rh_encod_tst.to_csv( loc_ftr + \"\\\\rh_encod_tst.csv\", index = False )"
   ]
  },
  {
   "cell_type": "markdown",
   "metadata": {},
   "source": [
    "## <span style=\"color:green\"> **Dia de la semana realizacion de la primera subasta** </span> "
   ]
  },
  {
   "cell_type": "markdown",
   "metadata": {},
   "source": [
    "Le aplicamos la transformacion sin( (hora * pi)/6 ) para agregarle periodicidad. Por ejemplo 0 (lunes) tengan un valor similar a 6 (domingo)"
   ]
  },
  {
   "cell_type": "code",
   "execution_count": 18,
   "metadata": {},
   "outputs": [],
   "source": [
    "sdia_auc_trn = rh_trn.copy()\n",
    "sdia_auc_tst = rh_tst.copy()\n",
    "\n",
    "sdia_auc_trn[\"hour\"] = auc_trn_frt[\"date\"].dt.hour; sdia_auc_trn[\"hour\"] = sdia_auc_trn[\"hour\"].apply( lambda x: np.sin( (x*np.pi)/6 ) )\n",
    "sdia_auc_tst[\"hour\"] = auc_tst_frt[\"date\"].dt.hour; sdia_auc_tst[\"hour\"] = sdia_auc_tst[\"hour\"].apply( lambda x: np.sin( (x*np.pi)/6 ) )\n",
    "\n",
    "sdia_auc_trn.to_csv( loc_ftr + \"\\\\sdia_auc_trn.csv\", index = False )\n",
    "sdia_auc_tst.to_csv( loc_ftr + \"\\\\sdia_auc_tst.csv\", index = False )"
   ]
  },
  {
   "cell_type": "markdown",
   "metadata": {},
   "source": [
    "## <span style=\"color:green\"> **Tiempo hasta la primer auction en ese ventana** </span> \n",
    "\n",
    "Le asignamos cuanto tiempo, en la ventana del 18-20, tardo en realizar su primer auction"
   ]
  },
  {
   "cell_type": "code",
   "execution_count": 19,
   "metadata": {},
   "outputs": [],
   "source": [
    "frst_auc_trn = rh_trn.copy()\n",
    "frst_auc_tst = rh_tst.copy()\n",
    "\n",
    "first_auctions_rh_ins_trn = auc_trn[ [\"device_id\",\"date\"] ].sort_values( \"date\" ).drop_duplicates( subset = \"device_id\", keep = \"first\" ).rename( columns = {\"device_id\":\"ref_hash\"} )\n",
    "first_auctions_rh_ins_tst = auc_tst[ [\"device_id\",\"date\"] ].sort_values( \"date\" ).drop_duplicates( subset = \"device_id\", keep = \"first\" ).rename( columns = {\"device_id\":\"ref_hash\"} )\n",
    "\n",
    "first_auctions_rh_ins_trn[\"time_to_frt_auc\"] = ( pd.to_datetime( first_auctions_rh_ins_trn[\"date\"] ) -  dt.datetime( year = 2019, month = 4, day = 18 ) ).dt.total_seconds()\n",
    "first_auctions_rh_ins_tst[\"time_to_frt_auc\"] = ( pd.to_datetime( first_auctions_rh_ins_tst[\"date\"] ) -  dt.datetime( year = 2019, month = 4, day = 21 ) ).dt.total_seconds()\n",
    "\n",
    "first_auctions_rh_ins_trn.drop( \"date\", axis = 1, inplace = True )\n",
    "first_auctions_rh_ins_tst.drop( \"date\", axis = 1, inplace = True )\n",
    "\n",
    "frst_auc_trn = frst_auc_trn.merge( first_auctions_rh_ins_trn, how = \"left\", on = \"ref_hash\" )\n",
    "frst_auc_tst = frst_auc_tst.merge( first_auctions_rh_ins_tst, how = \"left\", on = \"ref_hash\" )\n",
    "\n",
    "#Los que tienen NaN es que nunca convirtieron. Los marcamos con el tiempo maximo\n",
    "frst_auc_trn.fillna( 3 * 24 * 3600, inplace = True )\n",
    "frst_auc_tst.fillna( 3 * 24 * 3600, inplace = True )\n",
    "\n",
    "frst_auc_trn.to_csv( loc_ftr + \"\\\\frst_auc_trn.csv\", index = False )\n",
    "frst_auc_tst.to_csv( loc_ftr + \"\\\\frst_auc_tst.csv\", index = False )"
   ]
  },
  {
   "cell_type": "markdown",
   "metadata": {},
   "source": [
    "## <span style=\"color:green\"> **Tiempo hasta la ultima auction en esa ventana** </span> "
   ]
  },
  {
   "cell_type": "code",
   "execution_count": 21,
   "metadata": {},
   "outputs": [],
   "source": [
    "last_auc_trn = rh_trn.copy()\n",
    "last_auc_tst = rh_tst.copy()\n",
    "\n",
    "last_auctions_rh_auc_trn = auc_trn[ [\"device_id\",\"date\"] ].sort_values( \"date\", ascending = False ).drop_duplicates( subset = \"device_id\", keep = \"first\" ).rename( columns = {\"device_id\":\"ref_hash\"} )\n",
    "last_auctions_rh_auc_tst = auc_tst[ [\"device_id\",\"date\"] ].sort_values( \"date\", ascending = False ).drop_duplicates( subset = \"device_id\", keep = \"first\" ).rename( columns = {\"device_id\":\"ref_hash\"} )\n",
    "\n",
    "last_auctions_rh_auc_trn[\"time_to_lst_auc\"] = ( pd.to_datetime( last_auctions_rh_auc_trn[\"date\"] ) -  dt.datetime( year = 2019, month = 4, day = 18 ) ).dt.total_seconds()\n",
    "last_auctions_rh_auc_tst[\"time_to_lst_auc\"] = ( pd.to_datetime( last_auctions_rh_auc_tst[\"date\"] ) -  dt.datetime( year = 2019, month = 4, day = 21 ) ).dt.total_seconds()\n",
    "\n",
    "last_auctions_rh_auc_trn.drop( \"date\", axis = 1, inplace = True )\n",
    "last_auctions_rh_auc_tst.drop( \"date\", axis = 1, inplace = True )\n",
    "\n",
    "last_auc_trn = last_auc_trn.merge( last_auctions_rh_auc_trn, how = \"left\", on = \"ref_hash\" )\n",
    "last_auc_tst = last_auc_tst.merge( last_auctions_rh_auc_tst, how = \"left\", on = \"ref_hash\" )\n",
    "\n",
    "#Los que tienen NaN es que nunca convirtieron. Los marcamos con el tiempo maximo\n",
    "last_auc_trn.fillna( 3 * 24 * 3600, inplace = True )\n",
    "last_auc_tst.fillna( 3 * 24 * 3600, inplace = True )\n",
    "\n",
    "last_auc_trn.to_csv( loc_ftr + \"\\\\last_auc_trn.csv\", index = False )\n",
    "last_auc_tst.to_csv( loc_ftr + \"\\\\last_auc_tst.csv\", index = False )"
   ]
  },
  {
   "cell_type": "markdown",
   "metadata": {},
   "source": [
    "## <span style=\"color:green\"> **Participo en mas de una subasta** </span> "
   ]
  },
  {
   "cell_type": "markdown",
   "metadata": {},
   "source": [
    "#### <span style=\"color:Orange\"> **One-Hot Encoding** </span> "
   ]
  },
  {
   "cell_type": "code",
   "execution_count": 23,
   "metadata": {},
   "outputs": [],
   "source": [
    "cant_auc_trn = rh_trn.copy()\n",
    "cant_auc_tst = rh_tst.copy()\n",
    "\n",
    "cant_auc_trn = cant_auc_trn.merge( auc_trn[\"device_id\"].value_counts().to_frame().reset_index().rename( columns = {\"device_id\": \"mt_1_auc\", \"index\":\"ref_hash\"} ), how = \"left\", on = \"ref_hash\" )\n",
    "cant_auc_tst = cant_auc_tst.merge( auc_tst[\"device_id\"].value_counts().to_frame().reset_index().rename( columns = {\"device_id\": \"mt_1_auc\", \"index\":\"ref_hash\"} ), how = \"left\", on = \"ref_hash\" )\n",
    "\n",
    "cant_auc_trn.fillna( 0, inplace = True )\n",
    "cant_auc_tst.fillna( 0, inplace = True )\n",
    "\n",
    "cant_auc_trn['mt_1_auc'] = (cant_auc_trn['mt_1_auc'] > 1).astype('int8')\n",
    "cant_auc_tst['mt_1_auc'] = (cant_auc_tst['mt_1_auc'] > 1).astype('int8')\n",
    "\n",
    "cant_auc_trn.to_csv( loc_ftr + \"\\\\m1oh_auc_trn.csv\", index = False )\n",
    "cant_auc_tst.to_csv( loc_ftr + \"\\\\m1oh_auc_tst.csv\", index = False )"
   ]
  },
  {
   "cell_type": "markdown",
   "metadata": {},
   "source": [
    "## <span style=\"color:green\"> **Recibio subasta entre 21 y 3** </span> "
   ]
  },
  {
   "cell_type": "markdown",
   "metadata": {},
   "source": [
    "#### <span style=\"color:Orange\"> **One-Hot Encoding** </span> "
   ]
  },
  {
   "cell_type": "code",
   "execution_count": 25,
   "metadata": {},
   "outputs": [],
   "source": [
    "auc_trn['auc_21_3'] = (auc_trn['date'].dt.hour < 4) | (auc_trn['date'].dt.hour > 20)\n",
    "auc_tst['auc_21_3'] = (auc_tst['date'].dt.hour < 4) | (auc_tst['date'].dt.hour > 20)\n",
    "\n",
    "auc_night_trn = rh_trn.copy()\n",
    "auc_night_tst = rh_tst.copy()\n",
    "\n",
    "hour_mode_trn = auc_trn.groupby('device_id').agg({'auc_21_3':'sum'}).reset_index().rename( columns = {\"device_id\":\"ref_hash\"} )\n",
    "hour_mode_tst = auc_tst.groupby('device_id').agg({'auc_21_3':'sum'}).reset_index().rename( columns = {\"device_id\":\"ref_hash\"} )\n",
    "\n",
    "auc_night_trn = auc_night_trn.merge( hour_mode_trn, how = \"left\", on = \"ref_hash\" )\n",
    "auc_night_tst = auc_night_tst.merge( hour_mode_tst, how = \"left\", on = \"ref_hash\" )\n",
    "\n",
    "auc_night_trn[\"auc_21_3\"] =  (auc_night_trn[\"auc_21_3\"] > 1).astype('int8')\n",
    "auc_night_tst[\"auc_21_3\"] =  (auc_night_tst[\"auc_21_3\"] > 1).astype('int8')\n",
    "\n",
    "auc_night_trn.to_csv( loc_ftr + \"\\\\auc_nght_trn.csv\", index = False )\n",
    "auc_night_tst.to_csv( loc_ftr + \"\\\\auc_nght_tst.csv\", index = False )\n",
    "\n",
    "del auc_trn['auc_21_3']\n",
    "del auc_tst['auc_21_3']"
   ]
  },
  {
   "cell_type": "markdown",
   "metadata": {},
   "source": [
    "## <span style=\"color:green\"> **Recibio subasta entre 4 y 10** </span> "
   ]
  },
  {
   "cell_type": "markdown",
   "metadata": {},
   "source": [
    "#### <span style=\"color:Orange\"> **One-Hot Encoding** </span> "
   ]
  },
  {
   "cell_type": "code",
   "execution_count": 27,
   "metadata": {},
   "outputs": [],
   "source": [
    "auc_trn['auc_4_10'] = (auc_trn['date'].dt.hour > 3) & (auc_trn['date'].dt.hour < 11) \n",
    "auc_tst['auc_4_10'] = (auc_tst['date'].dt.hour > 3) & (auc_tst['date'].dt.hour < 11)\n",
    "\n",
    "auc_morn_trn = rh_trn.copy()\n",
    "auc_morn_tst = rh_tst.copy()\n",
    "\n",
    "hour_mode_trn = auc_trn.groupby('device_id').agg({'auc_4_10':'sum'}).reset_index().rename( columns = {\"device_id\":\"ref_hash\"} )\n",
    "hour_mode_tst = auc_tst.groupby('device_id').agg({'auc_4_10':'sum'}).reset_index().rename( columns = {\"device_id\":\"ref_hash\"} )\n",
    "\n",
    "auc_morn_trn = auc_morn_trn.merge( hour_mode_trn, how = \"left\", on = \"ref_hash\" )\n",
    "auc_morn_tst = auc_morn_tst.merge( hour_mode_tst, how = \"left\", on = \"ref_hash\" )\n",
    "\n",
    "auc_morn_trn[\"auc_4_10\"] =  (auc_morn_trn[\"auc_4_10\"] > 1).astype('int8')\n",
    "auc_morn_tst[\"auc_4_10\"] =  (auc_morn_tst[\"auc_4_10\"] > 1).astype('int8')\n",
    "\n",
    "auc_morn_trn.to_csv( loc_ftr + \"\\\\auc_morn_trn.csv\", index = False )\n",
    "auc_morn_tst.to_csv( loc_ftr + \"\\\\auc_morn_tst.csv\", index = False )\n",
    "\n",
    "del auc_trn['auc_4_10']\n",
    "del auc_tst['auc_4_10']"
   ]
  },
  {
   "cell_type": "markdown",
   "metadata": {},
   "source": [
    "## <span style=\"color:green\"> **Recibio subasta entre 11 y 15** </span> "
   ]
  },
  {
   "cell_type": "markdown",
   "metadata": {},
   "source": [
    "#### <span style=\"color:Orange\"> **One-Hot Encoding** </span> "
   ]
  },
  {
   "cell_type": "code",
   "execution_count": 29,
   "metadata": {},
   "outputs": [],
   "source": [
    "auc_trn['auc_11_15'] = (auc_trn['date'].dt.hour > 10) & (auc_trn['date'].dt.hour < 16) \n",
    "auc_tst['auc_11_15'] = (auc_tst['date'].dt.hour > 10) & (auc_tst['date'].dt.hour < 16)\n",
    "\n",
    "auc_midday_trn = rh_trn.copy()\n",
    "auc_midday_tst = rh_tst.copy()\n",
    "\n",
    "hour_mode_trn = auc_trn.groupby('device_id').agg({'auc_11_15':'sum'}).reset_index().rename( columns = {\"device_id\":\"ref_hash\"} )\n",
    "hour_mode_tst = auc_tst.groupby('device_id').agg({'auc_11_15':'sum'}).reset_index().rename( columns = {\"device_id\":\"ref_hash\"} )\n",
    "\n",
    "auc_midday_trn = auc_midday_trn.merge( hour_mode_trn, how = \"left\", on = \"ref_hash\" )\n",
    "auc_midday_tst = auc_midday_tst.merge( hour_mode_tst, how = \"left\", on = \"ref_hash\" )\n",
    "\n",
    "auc_midday_trn[\"auc_11_15\"] =  (auc_midday_trn[\"auc_11_15\"] > 1).astype('int8')\n",
    "auc_midday_tst[\"auc_11_15\"] =  (auc_midday_tst[\"auc_11_15\"] > 1).astype('int8')\n",
    "\n",
    "auc_midday_trn.to_csv( loc_ftr + \"\\\\auc_mday_trn.csv\", index = False )\n",
    "auc_midday_tst.to_csv( loc_ftr + \"\\\\auc_mday_tst.csv\", index = False )\n",
    "\n",
    "del auc_trn['auc_11_15']\n",
    "del auc_tst['auc_11_15']"
   ]
  },
  {
   "cell_type": "markdown",
   "metadata": {},
   "source": [
    "## <span style=\"color:green\"> **Recibio subasta entre 16 y 20** </span> "
   ]
  },
  {
   "cell_type": "markdown",
   "metadata": {},
   "source": [
    "#### <span style=\"color:Orange\"> **One-Hot Encoding** </span> "
   ]
  },
  {
   "cell_type": "code",
   "execution_count": null,
   "metadata": {},
   "outputs": [],
   "source": [
    "auc_trn['auc_16_20'] = (auc_trn['date'].dt.hour > 15) & (auc_trn['date'].dt.hour < 21) \n",
    "auc_tst['auc_16_20'] = (auc_tst['date'].dt.hour > 15) & (auc_tst['date'].dt.hour < 21)\n",
    "\n",
    "auc_after_trn = rh_trn.copy()\n",
    "auc_after_tst = rh_tst.copy()\n",
    "\n",
    "hour_mode_trn = auc_trn.groupby('device_id').agg({'auc_16_20':'sum'}).reset_index().rename( columns = {\"device_id\":\"ref_hash\"} )\n",
    "hour_mode_tst = auc_tst.groupby('device_id').agg({'auc_16_20':'sum'}).reset_index().rename( columns = {\"device_id\":\"ref_hash\"} )\n",
    "\n",
    "auc_after_trn = auc_after_trn.merge( hour_mode_trn, how = \"left\", on = \"ref_hash\" )\n",
    "auc_after_tst = auc_after_tst.merge( hour_mode_tst, how = \"left\", on = \"ref_hash\" )\n",
    "\n",
    "auc_after_trn[\"auc_16_20\"] =  (auc_after_trn[\"auc_16_20\"] > 1).astype('int8')\n",
    "auc_after_tst[\"auc_16_20\"] =  (auc_after_tst[\"auc_16_20\"] > 1).astype('int8')\n",
    "\n",
    "auc_after_trn.to_csv( loc_ftr + \"\\\\auc_aftr_trn.csv\", index = False )\n",
    "auc_after_tst.to_csv( loc_ftr + \"\\\\auc_aftr_tst.csv\", index = False )\n",
    "\n",
    "del auc_trn['auc_16_20']\n",
    "del auc_tst['auc_16_20']"
   ]
  }
 ],
 "metadata": {
  "kernelspec": {
   "display_name": "Python 3",
   "language": "python",
   "name": "python3"
  },
  "language_info": {
   "codemirror_mode": {
    "name": "ipython",
    "version": 3
   },
   "file_extension": ".py",
   "mimetype": "text/x-python",
   "name": "python",
   "nbconvert_exporter": "python",
   "pygments_lexer": "ipython3",
   "version": "3.7.0"
  }
 },
 "nbformat": 4,
 "nbformat_minor": 2
}
