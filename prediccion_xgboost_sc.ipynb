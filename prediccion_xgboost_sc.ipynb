{
 "cells": [
  {
   "cell_type": "code",
   "execution_count": 2,
   "metadata": {},
   "outputs": [],
   "source": [
    "import pandas as pd\n",
    "import numpy as np"
   ]
  },
  {
   "cell_type": "code",
   "execution_count": 3,
   "metadata": {},
   "outputs": [],
   "source": [
    "loc_lbl = r\"D:\\FacundoTorraca\\Documents\\TP2_Machine_Learning\\Labels\""
   ]
  },
  {
   "cell_type": "code",
   "execution_count": 4,
   "metadata": {},
   "outputs": [],
   "source": [
    "loc_ftr = r\"D:\\FacundoTorraca\\Documents\\TP2_Machine_Learning\\Features\\ftr_ins\""
   ]
  },
  {
   "cell_type": "code",
   "execution_count": 5,
   "metadata": {},
   "outputs": [],
   "source": [
    "ins_lb = pd.read_csv( loc_lbl + \"\\\\ins_lb.csv\", dtype = {\"obs_18_20\":\"bool\", \"obs_21_23\":\"bool\", \"obs_24_26\":\"bool\"} )"
   ]
  },
  {
   "cell_type": "markdown",
   "metadata": {},
   "source": [
    "### Filtro de manera que tenga los datos necesarios"
   ]
  },
  {
   "cell_type": "code",
   "execution_count": 121,
   "metadata": {},
   "outputs": [],
   "source": [
    "rh_18_20 = pd.read_csv( \"D:\\FacundoTorraca\\Documents\\TP2_Machine_Learning\\Training Sets\\ins_18_20.csv\" ); rh_18_20 = rh_18_20[\"ref_hash\"].drop_duplicates().tolist()\n",
    "rh_21_23 = pd.read_csv( \"D:\\FacundoTorraca\\Documents\\TP2_Machine_Learning\\Training Sets\\ins_21_23.csv\" ); rh_21_23 = rh_21_23[\"ref_hash\"].drop_duplicates().tolist()"
   ]
  },
  {
   "cell_type": "code",
   "execution_count": 122,
   "metadata": {},
   "outputs": [],
   "source": [
    "dt_18_20 = ins_lb.loc[ ins_lb[\"ref_hash\"].isin( rh_18_20 ), [\"ref_hash\"] ] #Datos del (18-20)\n",
    "sc_21_23 = ins_lb.loc[ ins_lb[\"ref_hash\"].isin( rh_18_20 ), [\"21_23_sc\"] ] #SC del (21-23)\n",
    "\n",
    "dt_21_23 = ins_lb.loc[ ins_lb[\"ref_hash\"].isin( rh_21_23 ), [\"ref_hash\"] ] #Datos del (21-23)\n",
    "sc_24_26 = ins_lb.loc[ ins_lb[\"ref_hash\"].isin( rh_21_23 ), [\"24_26_sc\"] ] #SC del (24-26)"
   ]
  },
  {
   "cell_type": "markdown",
   "metadata": {},
   "source": [
    "# <span style=\"color:orange\">  Preparo los datos para predecir </span>\n",
    "Con los datos 21-23 predecimos \"24-26_sc\""
   ]
  },
  {
   "cell_type": "code",
   "execution_count": 211,
   "metadata": {},
   "outputs": [],
   "source": [
    "Z = dt_21_23"
   ]
  },
  {
   "cell_type": "markdown",
   "metadata": {},
   "source": [
    "### Agregamos los features "
   ]
  },
  {
   "cell_type": "code",
   "execution_count": 212,
   "metadata": {},
   "outputs": [],
   "source": [
    "ftr_01_Z = pd.read_csv( loc_ftr + \"\\\\sin_hour_21_23.csv\" ) \n",
    "ftr_02_Z = pd.read_csv( loc_ftr + \"\\\\cant_ins_21_23.csv\" )\n",
    "ftr_03_Z = pd.read_csv( loc_ftr + \"\\\\cins_imp_21_23.csv\" )\n",
    "ftr_04_Z = pd.read_csv( loc_ftr + \"\\\\cant_evt_21_23.csv\" )\n",
    "ftr_05_Z = pd.read_csv( loc_ftr + \"\\\\cant_auc_21_23.csv\" )\n",
    "ftr_06_Z = pd.read_csv( loc_ftr + \"\\\\wifi_ins_21_23.csv\" )\n",
    "ftr_07_Z = pd.read_csv( loc_ftr + \"\\\\main_app_21_23.csv\" )\n",
    "ftr_08_Z = pd.read_csv( loc_ftr + \"\\\\type_ins_21_23.csv\" )\n",
    "ftr_09_Z = pd.read_csv( loc_ftr + \"\\\\ref_type_21_23.csv\" )\n",
    "ftr_10_Z = pd.read_csv( loc_ftr + \"\\\\ip_encod_21_23.csv\" )\n",
    "ftr_11_Z = pd.read_csv( loc_ftr + \"\\\\cevt_atr_21_23.csv\" )\n",
    "ftr_12_Z = pd.read_csv( loc_ftr + \"\\\\kind_evt_21_23.csv\" )"
   ]
  },
  {
   "cell_type": "code",
   "execution_count": 213,
   "metadata": {},
   "outputs": [],
   "source": [
    "Z = Z.merge( ftr_01_Z, how = \"inner\", on = \"ref_hash\" )\n",
    "Z = Z.merge( ftr_02_Z, how = \"inner\", on = \"ref_hash\" )\n",
    "Z = Z.merge( ftr_03_Z, how = \"inner\", on = \"ref_hash\" )\n",
    "Z = Z.merge( ftr_04_Z, how = \"inner\", on = \"ref_hash\" )\n",
    "Z = Z.merge( ftr_05_Z, how = \"inner\", on = \"ref_hash\" )\n",
    "Z = Z.merge( ftr_06_Z, how = \"inner\", on = \"ref_hash\" )\n",
    "Z = Z.merge( ftr_07_Z, how = \"inner\", on = \"ref_hash\" )\n",
    "Z = Z.merge( ftr_08_Z, how = \"inner\", on = \"ref_hash\" )\n",
    "Z = Z.merge( ftr_09_Z, how = \"inner\", on = \"ref_hash\" )\n",
    "Z = Z.merge( ftr_10_Z, how = \"inner\", on = \"ref_hash\" )\n",
    "Z = Z.merge( ftr_11_Z, how = \"inner\", on = \"ref_hash\" )\n",
    "Z = Z.merge( ftr_12_Z, how = \"inner\", on = \"ref_hash\" )"
   ]
  },
  {
   "cell_type": "markdown",
   "metadata": {},
   "source": [
    "# <span style=\"color:orange\">  Preparo los datos para entrenar </span>"
   ]
  },
  {
   "cell_type": "markdown",
   "metadata": {},
   "source": [
    "Con los datos 18-20 + \"21-23_sc\" entrenamos"
   ]
  },
  {
   "cell_type": "code",
   "execution_count": 214,
   "metadata": {},
   "outputs": [],
   "source": [
    "Y = sc_21_23"
   ]
  },
  {
   "cell_type": "code",
   "execution_count": 215,
   "metadata": {},
   "outputs": [],
   "source": [
    "X = dt_18_20"
   ]
  },
  {
   "cell_type": "markdown",
   "metadata": {},
   "source": [
    "### Agregamos los features"
   ]
  },
  {
   "cell_type": "code",
   "execution_count": 216,
   "metadata": {},
   "outputs": [],
   "source": [
    "ftr_01_X = pd.read_csv( loc_ftr + \"\\\\sin_hour_18_20.csv\" )\n",
    "ftr_02_X = pd.read_csv( loc_ftr + \"\\\\cant_ins_18_20.csv\" )\n",
    "ftr_03_X = pd.read_csv( loc_ftr + \"\\\\cins_imp_18_20.csv\" )\n",
    "ftr_04_X = pd.read_csv( loc_ftr + \"\\\\cant_evt_18_20.csv\" )\n",
    "ftr_05_X = pd.read_csv( loc_ftr + \"\\\\cant_auc_18_20.csv\" )\n",
    "ftr_06_X = pd.read_csv( loc_ftr + \"\\\\wifi_ins_18_20.csv\" )\n",
    "ftr_07_X = pd.read_csv( loc_ftr + \"\\\\main_app_18_20.csv\" )\n",
    "ftr_08_X = pd.read_csv( loc_ftr + \"\\\\type_ins_18_20.csv\" )\n",
    "ftr_09_X = pd.read_csv( loc_ftr + \"\\\\ref_type_18_20.csv\" )\n",
    "ftr_10_X = pd.read_csv( loc_ftr + \"\\\\ip_encod_18_20.csv\" )\n",
    "ftr_11_X = pd.read_csv( loc_ftr + \"\\\\cevt_atr_18_20.csv\" )\n",
    "ftr_12_X = pd.read_csv( loc_ftr + \"\\\\kind_evt_18_20.csv\" )"
   ]
  },
  {
   "cell_type": "code",
   "execution_count": 217,
   "metadata": {},
   "outputs": [],
   "source": [
    "X = X.merge( ftr_01_X, how = \"inner\", on = \"ref_hash\" )\n",
    "X = X.merge( ftr_02_X, how = \"inner\", on = \"ref_hash\" )\n",
    "X = X.merge( ftr_03_X, how = \"inner\", on = \"ref_hash\" )\n",
    "X = X.merge( ftr_04_X, how = \"inner\", on = \"ref_hash\" )\n",
    "X = X.merge( ftr_05_X, how = \"inner\", on = \"ref_hash\" )\n",
    "X = X.merge( ftr_06_X, how = \"inner\", on = \"ref_hash\" )\n",
    "X = X.merge( ftr_07_X, how = \"inner\", on = \"ref_hash\" )\n",
    "X = X.merge( ftr_08_X, how = \"inner\", on = \"ref_hash\" )\n",
    "X = X.merge( ftr_09_X, how = \"inner\", on = \"ref_hash\" )\n",
    "X = X.merge( ftr_10_X, how = \"inner\", on = \"ref_hash\" )\n",
    "X = X.merge( ftr_11_X, how = \"inner\", on = \"ref_hash\" )\n",
    "X = X.merge( ftr_12_X, how = \"inner\", on = \"ref_hash\" )"
   ]
  },
  {
   "cell_type": "markdown",
   "metadata": {},
   "source": [
    "## Dropeamos los ref_hash (No estan codificados)"
   ]
  },
  {
   "cell_type": "code",
   "execution_count": 218,
   "metadata": {},
   "outputs": [],
   "source": [
    "X = X.drop( \"ref_hash\", axis = 1 )\n",
    "Z = Z.drop( \"ref_hash\", axis = 1 )"
   ]
  },
  {
   "cell_type": "markdown",
   "metadata": {},
   "source": [
    "# Prediccion con <span style=\"color:green\"> *XGBoost*</span> "
   ]
  },
  {
   "cell_type": "code",
   "execution_count": 219,
   "metadata": {},
   "outputs": [],
   "source": [
    "import xgboost as xgb\n",
    "import graphviz as gr "
   ]
  },
  {
   "cell_type": "code",
   "execution_count": 220,
   "metadata": {},
   "outputs": [],
   "source": [
    "prm = {\"objective\" :'reg:linear', \n",
    "       \"colsample_bytree\" : 0.5, \n",
    "       \"learning_rate\" :0.1,\n",
    "       \"max_depth\" : 2,\n",
    "       \"alpha\" : 10, \n",
    "       \"n_estimators\" : 110 }\n",
    "\n",
    "estimator = xgb.XGBRegressor( **prm )"
   ]
  },
  {
   "cell_type": "code",
   "execution_count": 221,
   "metadata": {},
   "outputs": [],
   "source": [
    "pmt = estimator.fit( X,Y )"
   ]
  },
  {
   "cell_type": "code",
   "execution_count": 222,
   "metadata": {},
   "outputs": [],
   "source": [
    "prd = estimator.predict( Z )"
   ]
  },
  {
   "cell_type": "markdown",
   "metadata": {},
   "source": [
    "### Calculamos el RMSE"
   ]
  },
  {
   "cell_type": "code",
   "execution_count": 223,
   "metadata": {},
   "outputs": [],
   "source": [
    "from sklearn.metrics import mean_squared_error"
   ]
  },
  {
   "cell_type": "code",
   "execution_count": 224,
   "metadata": {},
   "outputs": [
    {
     "name": "stdout",
     "output_type": "stream",
     "text": [
      "RMSE: 25511.292327\n"
     ]
    }
   ],
   "source": [
    "rmse = np.sqrt( mean_squared_error(sc_24_26, prd) )\n",
    "print(\"RMSE: %f\" % (rmse) )"
   ]
  },
  {
   "cell_type": "code",
   "execution_count": 226,
   "metadata": {},
   "outputs": [],
   "source": [
    "record = 25511.292327"
   ]
  },
  {
   "cell_type": "markdown",
   "metadata": {},
   "source": [
    "## Graficamos el Arbol"
   ]
  },
  {
   "cell_type": "code",
   "execution_count": 227,
   "metadata": {},
   "outputs": [
    {
     "data": {
      "image/png": "[encoded data removed]",
      "text/plain": [
       "<Figure size 1800x1080 with 1 Axes>"
      ]
     },
     "metadata": {
      "needs_background": "light"
     },
     "output_type": "display_data"
    }
   ],
   "source": [
    "import matplotlib.pyplot as plt\n",
    "\n",
    "import os; os.environ[\"PATH\"] += os.pathsep + 'C:/Program Files (x86)/Graphviz2.38/bin/'\n",
    "\n",
    "dtrn = xgb.DMatrix(X,Y)\n",
    "\n",
    "xg_reg = xgb.train(params = prm, dtrain = dtrn, num_boost_round=1)\n",
    "\n",
    "xgb.plot_tree(xg_reg)\n",
    "plt.rcParams['figure.figsize'] = [25, 15]\n",
    "plt.show()"
   ]
  },
  {
   "cell_type": "code",
   "execution_count": null,
   "metadata": {},
   "outputs": [],
   "source": []
  }
 ],
 "metadata": {
  "kernelspec": {
   "display_name": "Python 3",
   "language": "python",
   "name": "python3"
  },
  "language_info": {
   "codemirror_mode": {
    "name": "ipython",
    "version": 3
   },
   "file_extension": ".py",
   "mimetype": "text/x-python",
   "name": "python",
   "nbconvert_exporter": "python",
   "pygments_lexer": "ipython3",
   "version": "3.7.0"
  }
 },
 "nbformat": 4,
 "nbformat_minor": 2
}
