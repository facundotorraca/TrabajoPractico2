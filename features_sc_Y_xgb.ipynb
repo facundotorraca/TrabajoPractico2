{
 "cells": [
  {
   "cell_type": "code",
   "execution_count": 1,
   "metadata": {},
   "outputs": [],
   "source": [
    "import pandas as pd\n",
    "import numpy as np\n",
    "import datetime as dt\n",
    "import warnings as wn\n",
    "import sklearn.preprocessing as skpre\n",
    "import category_encoders as ce\n",
    "\n",
    "wn.simplefilter( \"ignore\" )"
   ]
  },
  {
   "cell_type": "markdown",
   "metadata": {},
   "source": [
    "# Preparamos los Sets de Training"
   ]
  },
  {
   "cell_type": "code",
   "execution_count": 2,
   "metadata": {},
   "outputs": [],
   "source": [
    "loc_ts = r\"D:\\FacundoTorraca\\Documents\\TP2_Machine_Learning\\Training Sets\""
   ]
  },
  {
   "cell_type": "code",
   "execution_count": 3,
   "metadata": {},
   "outputs": [],
   "source": [
    "ins_18_20 = pd.read_csv( loc_ts + \"\\\\ins_18_20.csv\" ); \n",
    "ins_21_23 = pd.read_csv( loc_ts + \"\\\\ins_21_23.csv\" ); \n",
    "ins_24_26 = pd.read_csv( loc_ts + \"\\\\ins_24_26.csv\" ); "
   ]
  },
  {
   "cell_type": "code",
   "execution_count": 4,
   "metadata": {},
   "outputs": [],
   "source": [
    "evt_18_20 = pd.read_csv( loc_ts + \"\\\\evt_18_20.csv\" );\n",
    "evt_21_23 = pd.read_csv( loc_ts + \"\\\\evt_21_23.csv\" );\n",
    "evt_24_26 = pd.read_csv( loc_ts + \"\\\\evt_24_26.csv\" );"
   ]
  },
  {
   "cell_type": "code",
   "execution_count": 5,
   "metadata": {},
   "outputs": [],
   "source": [
    "auc_18_20 = pd.read_csv( loc_ts + \"\\\\auc_18_20.csv\" ); \n",
    "auc_21_23 = pd.read_csv( loc_ts + \"\\\\auc_21_23.csv\" );\n",
    "auc_24_26 = pd.read_csv( loc_ts + \"\\\\auc_24_26.csv\" );"
   ]
  },
  {
   "cell_type": "code",
   "execution_count": 6,
   "metadata": {},
   "outputs": [],
   "source": [
    "clk_18_20 = pd.read_csv( loc_ts + \"\\\\clk_18_20.csv\" );\n",
    "clk_21_23 = pd.read_csv( loc_ts + \"\\\\clk_21_23.csv\" );\n",
    "clk_24_26 = pd.read_csv( loc_ts + \"\\\\clk_24_26.csv\" );"
   ]
  },
  {
   "cell_type": "markdown",
   "metadata": {},
   "source": [
    "# Genero los Sets con el primer install"
   ]
  },
  {
   "cell_type": "code",
   "execution_count": 7,
   "metadata": {},
   "outputs": [],
   "source": [
    "ins_18_20[\"date\"] =  pd.to_datetime( ins_18_20[\"date\"] ); ins_18_20[\"_sc\"] = ins_18_20[\"date\"] - dt.datetime( year = 2019, month = 4, day = 18 ); ins_18_20[\"_sc\"] = ins_18_20[\"_sc\"].dt.total_seconds();\n",
    "ins_21_23[\"date\"] =  pd.to_datetime( ins_21_23[\"date\"] ); ins_21_23[\"_sc\"] = ins_21_23[\"date\"] - dt.datetime( year = 2019, month = 4, day = 21 ); ins_21_23[\"_sc\"] = ins_21_23[\"_sc\"].dt.total_seconds(); \n",
    "ins_24_26[\"date\"] =  pd.to_datetime( ins_24_26[\"date\"] ); ins_24_26[\"_sc\"] = ins_24_26[\"date\"] - dt.datetime( year = 2019, month = 4, day = 24 ); ins_24_26[\"_sc\"] = ins_24_26[\"_sc\"].dt.total_seconds(); "
   ]
  },
  {
   "cell_type": "code",
   "execution_count": 8,
   "metadata": {},
   "outputs": [],
   "source": [
    "ins_18_20_first_ins = ins_18_20.sort_values( by = [\"ref_hash\",\"_sc\"], ascending = True ).drop_duplicates( subset = [\"ref_hash\"], keep = \"first\" )\n",
    "ins_21_23_first_ins = ins_21_23.sort_values( by = [\"ref_hash\",\"_sc\"], ascending = True ).drop_duplicates( subset = [\"ref_hash\"], keep = \"first\" )\n",
    "ins_24_26_first_ins = ins_24_26.sort_values( by = [\"ref_hash\",\"_sc\"], ascending = True ).drop_duplicates( subset = [\"ref_hash\"], keep = \"first\" )"
   ]
  },
  {
   "cell_type": "markdown",
   "metadata": {},
   "source": [
    "# Sacamos los Features"
   ]
  },
  {
   "cell_type": "code",
   "execution_count": 9,
   "metadata": {},
   "outputs": [],
   "source": [
    "loc_ftr = r\"D:\\FacundoTorraca\\Documents\\TP2_Machine_Learning\\Features\\ftr_ins\""
   ]
  },
  {
   "cell_type": "code",
   "execution_count": 10,
   "metadata": {},
   "outputs": [],
   "source": [
    "rh_18_20 = ins_18_20_first_ins[ [\"ref_hash\"] ] #RH unicos que coinciden con los datos que usamos para entrenar\n",
    "rh_21_23 = ins_21_23_first_ins[ [\"ref_hash\"] ] #RH unicos que coinciden con los datos que queremos predecir\n",
    "\n",
    "tg_18_20 = ins_18_20_first_ins[ [\"_sc\"] ]\n",
    "tg_21_23 = ins_21_23_first_ins[ [\"_sc\"] ]"
   ]
  },
  {
   "cell_type": "markdown",
   "metadata": {},
   "source": [
    "## ========================================================================="
   ]
  },
  {
   "cell_type": "markdown",
   "metadata": {},
   "source": [
    "## <span style=\"color:green\"> **Hora de la conversion** </span> "
   ]
  },
  {
   "cell_type": "markdown",
   "metadata": {},
   "source": [
    "Le aplicamos la transformacion sin( (hora * pi)/24 ) para agregarle periodicidad. Por ejemplo que las 00 hs tengan un valor similar a 23"
   ]
  },
  {
   "cell_type": "code",
   "execution_count": 897,
   "metadata": {},
   "outputs": [],
   "source": [
    "hour_18_20 = rh_18_20.copy()\n",
    "hour_21_23 = rh_21_23.copy()"
   ]
  },
  {
   "cell_type": "code",
   "execution_count": null,
   "metadata": {},
   "outputs": [],
   "source": [
    "hour_18_20[\"sin_hour\"] = pd.to_datetime( ins_18_20_first_ins[\"date\"] ).dt.hour; hour_18_20[\"sin_hour\"] = hour_18_20[\"sin_hour\"].apply( lambda x: np.sin( (x *np.pi)/24 ) )\n",
    "hour_21_23[\"sin_hour\"] = pd.to_datetime( ins_21_23_first_ins[\"date\"] ).dt.hour; hour_21_23[\"sin_hour\"] = hour_21_23[\"sin_hour\"].apply( lambda x: np.sin( (x *np.pi)/24 ) )"
   ]
  },
  {
   "cell_type": "code",
   "execution_count": null,
   "metadata": {},
   "outputs": [],
   "source": [
    "hour_18_20.to_csv( loc_ftr + \"\\\\sin_hour_18_20.csv\", index = False )\n",
    "hour_21_23.to_csv( loc_ftr + \"\\\\sin_hour_21_23.csv\", index = False )"
   ]
  },
  {
   "cell_type": "markdown",
   "metadata": {},
   "source": [
    "## <span style=\"color:green\"> **Horario del primer evento en ese ventana** </span> \n",
    "\n",
    "Al agregarle la transformacion senoidal para agregarle perdiodicidad a la hora, la prediccion del algoritmo fue peor por lo que decidimos no agregarla"
   ]
  },
  {
   "cell_type": "code",
   "execution_count": 93,
   "metadata": {},
   "outputs": [],
   "source": [
    "hr_f_evt_18_20 = rh_18_20.copy()\n",
    "hr_f_evt_21_23 = rh_21_23.copy()"
   ]
  },
  {
   "cell_type": "code",
   "execution_count": 94,
   "metadata": {},
   "outputs": [],
   "source": [
    "first_evt_hour_18_20 = evt_18_20[ [\"ref_hash\",\"date\"] ].sort_values( \"date\" ).drop_duplicates( subset = \"ref_hash\", keep = \"first\" )\n",
    "first_evt_hour_21_23 = evt_21_23[ [\"ref_hash\",\"date\"] ].sort_values( \"date\" ).drop_duplicates( subset = \"ref_hash\", keep = \"first\" )"
   ]
  },
  {
   "cell_type": "code",
   "execution_count": 95,
   "metadata": {},
   "outputs": [],
   "source": [
    "first_evt_hour_18_20[\"time_to_frt_evt\"] = ( pd.to_datetime( first_evt_hour_18_20[\"date\"] ) -  dt.datetime( year = 2019, month = 4, day = 18 ) ).dt.total_seconds()\n",
    "first_evt_hour_21_23[\"time_to_frt_evt\"] = ( pd.to_datetime( first_evt_hour_21_23[\"date\"] ) -  dt.datetime( year = 2019, month = 4, day = 21 ) ).dt.total_seconds()"
   ]
  },
  {
   "cell_type": "code",
   "execution_count": 96,
   "metadata": {},
   "outputs": [],
   "source": [
    "first_evt_hour_18_20[\"hour_frt_evt\"] = pd.to_datetime( first_evt_hour_18_20[\"date\"] ).dt.hour\n",
    "first_evt_hour_21_23[\"hour_frt_evt\"] = pd.to_datetime( first_evt_hour_21_23[\"date\"] ).dt.hour"
   ]
  },
  {
   "cell_type": "code",
   "execution_count": 97,
   "metadata": {},
   "outputs": [],
   "source": [
    "first_evt_hour_18_20.drop( [\"date\", \"time_to_frt_evt\"], axis = 1, inplace = True )\n",
    "first_evt_hour_21_23.drop( [\"date\", \"time_to_frt_evt\"], axis = 1, inplace = True )"
   ]
  },
  {
   "cell_type": "code",
   "execution_count": 98,
   "metadata": {},
   "outputs": [],
   "source": [
    "hr_f_evt_18_20 = hr_f_evt_18_20.merge( first_evt_hour_18_20, how = \"left\", on = \"ref_hash\" )\n",
    "hr_f_evt_21_23 = hr_f_evt_21_23.merge( first_evt_hour_21_23, how = \"left\", on = \"ref_hash\" )"
   ]
  },
  {
   "cell_type": "code",
   "execution_count": 99,
   "metadata": {},
   "outputs": [],
   "source": [
    "#hr_f_evt_18_20[\"hour_frt_evt\"] = hr_f_evt_18_20[\"hour_frt_evt\"].apply( lambda x: np.sin( (x *np.pi)/24 ) )\n",
    "#hr_f_evt_21_23[\"hour_frt_evt\"] = hr_f_evt_21_23[\"hour_frt_evt\"].apply( lambda x: np.sin( (x *np.pi)/24 ) )"
   ]
  },
  {
   "cell_type": "code",
   "execution_count": 100,
   "metadata": {},
   "outputs": [],
   "source": [
    "hr_f_evt_18_20.to_csv( loc_ftr + \"\\\\hr_f_evt_18_20.csv\", index = False )\n",
    "hr_f_evt_21_23.to_csv( loc_ftr + \"\\\\hr_f_evt_21_23.csv\", index = False )"
   ]
  },
  {
   "cell_type": "markdown",
   "metadata": {},
   "source": [
    "Si bien hay varios valores NaN en el feature, lo decidimos probar de igual manera, ya que los algoritmos de boosting aceptan valores NaNs.\n",
    "\n",
    "* https://datascience.stackexchange.com/questions/15305/how-does-xgboost-learn-what-are-the-inputs-for-missing-values/15306#15306\n",
    "* The procedure is described in [their paper, section 3.4: Sparsity aware split-finding](https://arxiv.org/pdf/1603.02754v3.pdf).\n"
   ]
  },
  {
   "cell_type": "markdown",
   "metadata": {},
   "source": [
    "## <span style=\"color:green\"> **Hora mas popular del usuario en las instalaciones** </span> \n",
    "\n",
    "Le aplicamos la transformacion sin( (hora * pi)/24 ) para agregarle periodicidad. "
   ]
  },
  {
   "cell_type": "code",
   "execution_count": null,
   "metadata": {},
   "outputs": [],
   "source": [
    "main_ihr_18_20 = rh_18_20.copy()\n",
    "main_ihr_21_23 = rh_21_23.copy()\n",
    "\n",
    "hour_mode_18_20 = ins_18_20[[\"ref_hash\"]]; hour_mode_18_20[\"hour\"] = pd.to_datetime( ins_18_20[\"date\"] ).dt.hour\n",
    "hour_mode_21_23 = ins_21_23[[\"ref_hash\"]]; hour_mode_21_23[\"hour\"] = pd.to_datetime( ins_21_23[\"date\"] ).dt.hour\n",
    "\n",
    "hour_mode_18_20 = hour_mode_18_20.groupby( [\"ref_hash\", \"hour\"] ).agg( { \"hour\":\"count\" } ).rename( columns = {\"hour\":\"count\"} ).reset_index()\n",
    "hour_mode_21_23 = hour_mode_21_23.groupby( [\"ref_hash\", \"hour\"] ).agg( { \"hour\":\"count\" } ).rename( columns = {\"hour\":\"count\"} ).reset_index()\n",
    "\n",
    "hour_mode_18_20 = hour_mode_18_20.sort_values( [\"ref_hash\",\"count\"], ascending = False ).drop_duplicates( subset = [\"ref_hash\"], keep = \"first\" ).drop(\"count\",axis = 1)\n",
    "hour_mode_21_23 = hour_mode_21_23.sort_values( [\"ref_hash\",\"count\"], ascending = False ).drop_duplicates( subset = [\"ref_hash\"], keep = \"first\" ).drop(\"count\",axis = 1)\n",
    "\n",
    "main_ihr_18_20 = main_ihr_18_20.merge( hour_mode_18_20, how = \"left\", on = \"ref_hash\" ).rename( columns = {\"hour\":\"main_hour\"} )\n",
    "main_ihr_21_23 = main_ihr_21_23.merge( hour_mode_21_23, how = \"left\", on = \"ref_hash\" ).rename( columns = {\"hour\":\"main_hour\"} )\n",
    "\n",
    "main_ihr_18_20[\"main_hour\"] =  main_ihr_18_20[\"main_hour\"].apply( lambda x: np.sin( (x*np.pi)/24 ) )\n",
    "main_ihr_21_23[\"main_hour\"] =  main_ihr_21_23[\"main_hour\"].apply( lambda x: np.sin( (x*np.pi)/24 ) )\n",
    "\n",
    "main_ihr_18_20.to_csv( loc_ftr + \"\\\\main_ihr_18_20.csv\", index = False )\n",
    "main_ihr_21_23.to_csv( loc_ftr + \"\\\\main_ihr_21_23.csv\", index = False )"
   ]
  },
  {
   "cell_type": "markdown",
   "metadata": {},
   "source": [
    "## <span style=\"color:green\"> **Hora mas popular del usuario en las subastas** </span> \n",
    "\n",
    "Le aplicamos la transformacion sin( (hora * pi)/24 ) para agregarle periodicidad. "
   ]
  },
  {
   "cell_type": "code",
   "execution_count": null,
   "metadata": {},
   "outputs": [],
   "source": [
    "main_ahr_18_20 = rh_18_20.copy()\n",
    "main_ahr_21_23 = rh_21_23.copy()\n",
    "\n",
    "hour_mode_18_20 = auc_18_20[[\"device_id\"]]; hour_mode_18_20[\"hour\"] = pd.to_datetime( auc_18_20[\"date\"] ).dt.hour\n",
    "hour_mode_21_23 = auc_21_23[[\"device_id\"]]; hour_mode_21_23[\"hour\"] = pd.to_datetime( auc_21_23[\"date\"] ).dt.hour\n",
    "\n",
    "hour_mode_18_20 = hour_mode_18_20.groupby( [\"device_id\", \"hour\"] ).agg( { \"hour\":\"count\" } ).rename( columns = {\"hour\":\"count\"} ).reset_index()\n",
    "hour_mode_21_23 = hour_mode_21_23.groupby( [\"device_id\", \"hour\"] ).agg( { \"hour\":\"count\" } ).rename( columns = {\"hour\":\"count\"} ).reset_index()\n",
    "\n",
    "hour_mode_18_20 = hour_mode_18_20.sort_values( [\"device_id\",\"count\"], ascending = False ).drop_duplicates( subset = [\"device_id\"], keep = \"first\" ).rename( columns = {\"device_id\":\"ref_hash\"} ).drop(\"count\",axis = 1)\n",
    "hour_mode_21_23 = hour_mode_21_23.sort_values( [\"device_id\",\"count\"], ascending = False ).drop_duplicates( subset = [\"device_id\"], keep = \"first\" ).rename( columns = {\"device_id\":\"ref_hash\"} ).drop(\"count\",axis = 1)\n",
    "\n",
    "main_ahr_18_20 = main_ahr_18_20.merge( hour_mode_18_20, how = \"left\", on = \"ref_hash\" ).rename( columns = {\"hour\":\"main_hour\"} )\n",
    "main_ahr_21_23 = main_ahr_21_23.merge( hour_mode_21_23, how = \"left\", on = \"ref_hash\" ).rename( columns = {\"hour\":\"main_hour\"} )\n",
    "\n",
    "main_ahr_18_20[\"main_hour\"] =  main_ahr_18_20[\"main_hour\"].apply( lambda x: np.sin( (x*np.pi)/24 ) )\n",
    "main_ahr_21_23[\"main_hour\"] =  main_ahr_21_23[\"main_hour\"].apply( lambda x: np.sin( (x*np.pi)/24 ) )\n",
    "\n",
    "main_ahr_18_20.to_csv( loc_ftr + \"\\\\main_ahr_18_20.csv\", index = False )\n",
    "main_ahr_21_23.to_csv( loc_ftr + \"\\\\main_ahr_21_23.csv\", index = False )"
   ]
  },
  {
   "cell_type": "markdown",
   "metadata": {},
   "source": [
    "## <span style=\"color:green\"> **Horario de la primer subasta en ese ventana** </span> "
   ]
  },
  {
   "cell_type": "code",
   "execution_count": null,
   "metadata": {},
   "outputs": [],
   "source": [
    "hr_f_auc_18_20 = rh_18_20.copy()\n",
    "hr_f_auc_21_23 = rh_21_23.copy()\n",
    "\n",
    "first_auc_hour_18_20 = auc_18_20[ [\"device_id\",\"date\"] ].sort_values( \"date\" ).drop_duplicates( subset = \"device_id\", keep = \"first\" ).rename( columns = {\"device_id\":\"ref_hash\"} )\n",
    "first_auc_hour_21_23 = auc_21_23[ [\"device_id\",\"date\"] ].sort_values( \"date\" ).drop_duplicates( subset = \"device_id\", keep = \"first\" ).rename( columns = {\"device_id\":\"ref_hash\"} )\n",
    "\n",
    "first_auc_hour_18_20[\"time_to_frt_auc\"] = ( pd.to_datetime( first_auc_hour_18_20[\"date\"] ) -  dt.datetime( year = 2019, month = 4, day = 18 ) ).dt.total_seconds()\n",
    "first_auc_hour_21_23[\"time_to_frt_auc\"] = ( pd.to_datetime( first_auc_hour_21_23[\"date\"] ) -  dt.datetime( year = 2019, month = 4, day = 21 ) ).dt.total_seconds()\n",
    "\n",
    "first_auc_hour_18_20[\"hour_frt_auc\"] = pd.to_datetime( first_auc_hour_18_20[\"date\"] ).dt.hour\n",
    "first_auc_hour_21_23[\"hour_frt_auc\"] = pd.to_datetime( first_auc_hour_21_23[\"date\"] ).dt.hour\n",
    "\n",
    "first_auc_hour_18_20.drop( [\"date\", \"time_to_frt_auc\"], axis = 1, inplace = True )\n",
    "first_auc_hour_21_23.drop( [\"date\", \"time_to_frt_auc\"], axis = 1, inplace = True )\n",
    "\n",
    "hr_f_auc_18_20 = hr_f_auc_18_20.merge( first_auc_hour_18_20, how = \"left\", on = \"ref_hash\" )\n",
    "hr_f_auc_21_23 = hr_f_auc_21_23.merge( first_auc_hour_21_23, how = \"left\", on = \"ref_hash\" )\n",
    "\n",
    "hr_f_auc_18_20.to_csv( loc_ftr + \"\\\\hr_f_auc_18_20.csv\", index = False )\n",
    "hr_f_auc_21_23.to_csv( loc_ftr + \"\\\\hr_f_auc_21_23.csv\", index = False )"
   ]
  },
  {
   "cell_type": "markdown",
   "metadata": {},
   "source": [
    "## ========================================================================="
   ]
  },
  {
   "cell_type": "markdown",
   "metadata": {},
   "source": [
    "## <span style=\"color:green\"> **Cantidad de instalaciones por dispositivo en la ventana previa a la conversion** </span> "
   ]
  },
  {
   "cell_type": "code",
   "execution_count": 898,
   "metadata": {},
   "outputs": [],
   "source": [
    "cant_ins_18_20 = rh_18_20.copy()\n",
    "cant_ins_21_23 = rh_21_23.copy()"
   ]
  },
  {
   "cell_type": "code",
   "execution_count": 50,
   "metadata": {},
   "outputs": [],
   "source": [
    "cant_ins_18_20 = cant_ins_18_20.merge( ins_18_20[\"ref_hash\"].value_counts().to_frame().reset_index().rename( columns = {\"ref_hash\": \"cant_ins\", \"index\":\"ref_hash\"} ), how = \"left\", on = \"ref_hash\" )\n",
    "cant_ins_21_23 = cant_ins_21_23.merge( ins_21_23[\"ref_hash\"].value_counts().to_frame().reset_index().rename( columns = {\"ref_hash\": \"cant_ins\", \"index\":\"ref_hash\"} ), how = \"left\", on = \"ref_hash\" )"
   ]
  },
  {
   "cell_type": "code",
   "execution_count": 51,
   "metadata": {},
   "outputs": [],
   "source": [
    "cant_ins_18_20.to_csv( loc_ftr + \"\\\\cant_ins_18_20.csv\", index = False )\n",
    "cant_ins_21_23.to_csv( loc_ftr + \"\\\\cant_ins_21_23.csv\", index = False )"
   ]
  },
  {
   "cell_type": "markdown",
   "metadata": {},
   "source": [
    "## <span style=\"color:green\"> **Cantidad de Eventos por dispositivo en la ventana previa a la conversion** </span>"
   ]
  },
  {
   "cell_type": "code",
   "execution_count": 29,
   "metadata": {},
   "outputs": [],
   "source": [
    "cant_evt_18_20 = rh_18_20\n",
    "cant_evt_21_23 = rh_21_23"
   ]
  },
  {
   "cell_type": "code",
   "execution_count": 30,
   "metadata": {},
   "outputs": [],
   "source": [
    "cant_evt_18_20 = cant_evt_18_20.merge( evt_18_20[\"ref_hash\"].value_counts().to_frame().reset_index().rename( columns = {\"ref_hash\": \"cant_evt\", \"index\":\"ref_hash\"} ), how = \"left\", on = \"ref_hash\" )\n",
    "cant_evt_21_23 = cant_evt_21_23.merge( evt_21_23[\"ref_hash\"].value_counts().to_frame().reset_index().rename( columns = {\"ref_hash\": \"cant_evt\", \"index\":\"ref_hash\"} ), how = \"left\", on = \"ref_hash\" )"
   ]
  },
  {
   "cell_type": "code",
   "execution_count": 32,
   "metadata": {},
   "outputs": [],
   "source": [
    "cant_evt_18_20.fillna( 0, inplace = True )\n",
    "cant_evt_21_23.fillna( 0, inplace = True )"
   ]
  },
  {
   "cell_type": "code",
   "execution_count": 33,
   "metadata": {},
   "outputs": [],
   "source": [
    "cant_evt_18_20.to_csv( loc_ftr + \"\\\\cant_evt_18_20.csv\", index = False )\n",
    "cant_evt_21_23.to_csv( loc_ftr + \"\\\\cant_evt_21_23.csv\", index = False )"
   ]
  },
  {
   "cell_type": "markdown",
   "metadata": {},
   "source": [
    "## <span style=\"color:green\"> **Cantidad de Subastas por dispositivo en la ventana previa a la conversion** </span>"
   ]
  },
  {
   "cell_type": "code",
   "execution_count": 115,
   "metadata": {},
   "outputs": [],
   "source": [
    "cant_auc_18_20 = rh_18_20.copy()\n",
    "cant_auc_21_23 = rh_21_23.copy()"
   ]
  },
  {
   "cell_type": "code",
   "execution_count": 116,
   "metadata": {},
   "outputs": [],
   "source": [
    "cant_auc_18_20 = cant_auc_18_20.merge( auc_18_20[\"device_id\"].value_counts().to_frame().reset_index().rename( columns = {\"device_id\": \"cant_auc\", \"index\":\"ref_hash\"} ), how = \"left\", on = \"ref_hash\" )\n",
    "cant_auc_21_23 = cant_auc_21_23.merge( auc_21_23[\"device_id\"].value_counts().to_frame().reset_index().rename( columns = {\"device_id\": \"cant_auc\", \"index\":\"ref_hash\"} ), how = \"left\", on = \"ref_hash\" )"
   ]
  },
  {
   "cell_type": "code",
   "execution_count": 117,
   "metadata": {},
   "outputs": [],
   "source": [
    "cant_auc_18_20.fillna( 0, inplace = True )\n",
    "cant_auc_21_23.fillna( 0, inplace = True )"
   ]
  },
  {
   "cell_type": "code",
   "execution_count": 118,
   "metadata": {},
   "outputs": [],
   "source": [
    "cant_auc_18_20.to_csv( loc_ftr + \"\\\\cant_auc_18_20.csv\", index = False )\n",
    "cant_auc_21_23.to_csv( loc_ftr + \"\\\\cant_auc_21_23.csv\", index = False )"
   ]
  },
  {
   "cell_type": "markdown",
   "metadata": {},
   "source": [
    "## ========================================================================="
   ]
  },
  {
   "cell_type": "markdown",
   "metadata": {},
   "source": [
    "## <span style=\"color:green\"> **IP del dispositivo al realizar la primera instalacion** </span> "
   ]
  },
  {
   "cell_type": "code",
   "execution_count": 108,
   "metadata": {},
   "outputs": [],
   "source": [
    "ip_encod_18_20 = rh_18_20.copy()\n",
    "ip_encod_21_23 = rh_21_23.copy()"
   ]
  },
  {
   "cell_type": "code",
   "execution_count": 109,
   "metadata": {},
   "outputs": [],
   "source": [
    "ip_encod_18_20[\"ip_address\"] = ins_18_20_first_ins[\"ip_address\"];\n",
    "ip_encod_21_23[\"ip_address\"] = ins_21_23_first_ins[\"ip_address\"];"
   ]
  },
  {
   "cell_type": "code",
   "execution_count": 110,
   "metadata": {},
   "outputs": [],
   "source": [
    "appces_18_20_ins = ins_18_20[\"ip_address\"].value_counts().reset_index().rename( columns = {\"index\":\"ip_address\", \"ip_address\":\"appearances\"} )\n",
    "appces_21_23_ins = ins_21_23[\"ip_address\"].value_counts().reset_index().rename( columns = {\"index\":\"ip_address\", \"ip_address\":\"appearances\"} )"
   ]
  },
  {
   "cell_type": "code",
   "execution_count": 111,
   "metadata": {},
   "outputs": [],
   "source": [
    "appces_18_20_ins[\"ip_address_mean\"] = appces_18_20_ins[\"appearances\"] / len( ins_18_20 ); appces_18_20_ins.drop( \"appearances\", axis = 1, inplace = True )\n",
    "appces_21_23_ins[\"ip_address_mean\"] = appces_21_23_ins[\"appearances\"] / len( ins_21_23 ); appces_21_23_ins.drop( \"appearances\", axis = 1, inplace = True )"
   ]
  },
  {
   "cell_type": "code",
   "execution_count": 112,
   "metadata": {},
   "outputs": [],
   "source": [
    "ip_encod_18_20 = ip_encod_18_20.merge( appces_18_20_ins, how = \"left\", on = \"ip_address\" ).drop( \"ip_address\", axis = 1 )\n",
    "ip_encod_21_23 = ip_encod_21_23.merge( appces_21_23_ins, how = \"left\", on = \"ip_address\" ).drop( \"ip_address\", axis = 1 )"
   ]
  },
  {
   "cell_type": "code",
   "execution_count": 114,
   "metadata": {},
   "outputs": [],
   "source": [
    "ip_encod_18_20.to_csv( loc_ftr + \"\\\\ip_encod_18_20.csv\", index = False )\n",
    "ip_encod_21_23.to_csv( loc_ftr + \"\\\\ip_encod_21_23.csv\", index = False )"
   ]
  },
  {
   "cell_type": "markdown",
   "metadata": {},
   "source": [
    "## <span style=\"color:green\"> **WiFi en la instalacion** </span>"
   ]
  },
  {
   "cell_type": "markdown",
   "metadata": {},
   "source": [
    "#### <span style=\"color:orange\"> **Mean Encoding** </span> (Usando el SC para el promedio) - <span style=\"color:red\"> **No Mejora este tipo de codificacion** </span>"
   ]
  },
  {
   "cell_type": "code",
   "execution_count": 856,
   "metadata": {},
   "outputs": [],
   "source": [
    "wifi_ins_18_20 = rh_18_20.copy()\n",
    "wifi_ins_21_23 = rh_21_23.copy()"
   ]
  },
  {
   "cell_type": "code",
   "execution_count": 611,
   "metadata": {},
   "outputs": [],
   "source": [
    "sc = ins_21_23_first_ins.loc[ ins_21_23_first_ins[\"ref_hash\"].isin( rh_18_20[\"ref_hash\"] ), [\"ref_hash\",\"_sc\"] ]\n",
    "\n",
    "wf_18_20_sc = ins_18_20_first_ins[ [\"ref_hash\",\"wifi\"] ].merge( sc, how = \"left\", on = \"ref_hash\" ); \n",
    "\n",
    "X_wf = wf_18_20_sc[ [\"wifi\"] ].astype(str)\n",
    "Y_wf = wf_18_20_sc[ [\"_sc\"] ]"
   ]
  },
  {
   "cell_type": "code",
   "execution_count": 612,
   "metadata": {},
   "outputs": [],
   "source": [
    "te = ce.TargetEncoder(smoothing=True); te.fit( X_wf, Y_wf );"
   ]
  },
  {
   "cell_type": "code",
   "execution_count": 613,
   "metadata": {},
   "outputs": [],
   "source": [
    "wifi_ins_18_20[\"wifi\"] = te.transform( ins_18_20_first_ins[ [\"wifi\"] ].astype( str ) );\n",
    "wifi_ins_21_23[\"wifi\"] = te.transform( ins_21_23_first_ins[ [\"wifi\"] ].astype( str ) ); "
   ]
  },
  {
   "cell_type": "code",
   "execution_count": 616,
   "metadata": {},
   "outputs": [],
   "source": [
    "wifi_ins_18_20.to_csv( loc_ftr + \"\\\\wifi_ins_18_20.csv\", index = False )\n",
    "wifi_ins_21_23.to_csv( loc_ftr + \"\\\\wifi_ins_21_23.csv\", index = False )"
   ]
  },
  {
   "cell_type": "markdown",
   "metadata": {},
   "source": [
    "#### <span style=\"color:orange\"> **OneHotEncoding** </span> "
   ]
  },
  {
   "cell_type": "code",
   "execution_count": 894,
   "metadata": {},
   "outputs": [],
   "source": [
    "wifi_ins_18_20 = rh_18_20.copy()\n",
    "wifi_ins_21_23 = rh_21_23.copy()"
   ]
  },
  {
   "cell_type": "code",
   "execution_count": 623,
   "metadata": {},
   "outputs": [],
   "source": [
    "wf_ohe_18_20 = pd.get_dummies( ins_18_20_first_ins[ [\"wifi\"] ] )\n",
    "wf_ohe_21_23 = pd.get_dummies( ins_21_23_first_ins[ [\"wifi\"] ] )"
   ]
  },
  {
   "cell_type": "code",
   "execution_count": 624,
   "metadata": {},
   "outputs": [],
   "source": [
    "wifi_ins_18_20 = pd.concat( [wifi_ins_18_20, wf_ohe_18_20], axis = 1 )\n",
    "wifi_ins_21_23 = pd.concat( [wifi_ins_21_23, wf_ohe_21_23], axis = 1 )"
   ]
  },
  {
   "cell_type": "code",
   "execution_count": 625,
   "metadata": {},
   "outputs": [],
   "source": [
    "wifi_ins_18_20.to_csv( loc_ftr + \"\\\\wifi_ins_18_20.csv\", index = False )\n",
    "wifi_ins_21_23.to_csv( loc_ftr + \"\\\\wifi_ins_21_23.csv\", index = False )"
   ]
  },
  {
   "cell_type": "markdown",
   "metadata": {},
   "source": [
    "## <span style=\"color:green\"> **Aplicacion mas instalada por el usuario** </span>\n",
    "\n",
    "#### <span style=\"color:orange\"> **Mean Encoding** </span> (Usamos el promedio de la cantidad de veces que que es la app principal de algun dispositivo)"
   ]
  },
  {
   "cell_type": "code",
   "execution_count": 19,
   "metadata": {},
   "outputs": [],
   "source": [
    "main_app_18_20 = rh_18_20.copy()\n",
    "main_app_21_23 = rh_21_23.copy()\n",
    "\n",
    "app_mas_ins_18_20 = ins_18_20.groupby( by = [\"ref_hash\",\"application_id\"] ).agg( {\"application_id\":\"count\"} ).rename( columns = {\"application_id\":\"cant_ins\"} ).reset_index()\n",
    "app_mas_ins_21_23 = ins_21_23.groupby( by = [\"ref_hash\",\"application_id\"] ).agg( {\"application_id\":\"count\"} ).rename( columns = {\"application_id\":\"cant_ins\"} ).reset_index()\n",
    "\n",
    "app_mas_ins_18_20 = app_mas_ins_18_20.sort_values( by = [\"ref_hash\", \"cant_ins\"], ascending = True ).drop_duplicates( subset = \"ref_hash\", keep = \"last\" ); del( app_mas_ins_18_20[\"cant_ins\"] )\n",
    "app_mas_ins_21_23 = app_mas_ins_21_23.sort_values( by = [\"ref_hash\", \"cant_ins\"], ascending = True ).drop_duplicates( subset = \"ref_hash\", keep = \"last\" ); del( app_mas_ins_21_23[\"cant_ins\"] ) \n",
    "\n",
    "main_app_18_20 = main_app_18_20.merge( app_mas_ins_18_20, how = \"left\", on = \"ref_hash\" )\n",
    "main_app_21_23 = main_app_21_23.merge( app_mas_ins_21_23, how = \"left\", on = \"ref_hash\" )\n",
    "\n",
    "main_app_18_20[\"to_count\"] = 1; main_app_18_20[\"application_id\"] = main_app_18_20[[\"application_id\", \"to_count\"]].groupby(\"application_id\").transform( \"sum\" ) / len(main_app_18_20); del(main_app_18_20[\"to_count\"])\n",
    "main_app_21_23[\"to_count\"] = 1; main_app_21_23[\"application_id\"] = main_app_21_23[[\"application_id\", \"to_count\"]].groupby(\"application_id\").transform( \"sum\" ) / len(main_app_21_23); del(main_app_21_23[\"to_count\"])\n",
    "\n",
    "main_app_18_20.to_csv( loc_ftr + \"\\\\main_app_18_20.csv\", index = False )\n",
    "main_app_21_23.to_csv( loc_ftr + \"\\\\main_app_21_23.csv\", index = False )"
   ]
  },
  {
   "cell_type": "markdown",
   "metadata": {},
   "source": [
    "## <span style=\"color:green\"> **Cantidad de instalaciones implicitas por dispositivo** </span> "
   ]
  },
  {
   "cell_type": "code",
   "execution_count": 873,
   "metadata": {},
   "outputs": [],
   "source": [
    "cins_imp_18_20 = rh_18_20.copy()\n",
    "cins_imp_21_23 = rh_21_23.copy()"
   ]
  },
  {
   "cell_type": "code",
   "execution_count": 873,
   "metadata": {},
   "outputs": [],
   "source": [
    "cins_imp_18_20[\"cant_imp\"] = ins_18_20[\"implicit\"].apply( lambda x: 1 if x else 0 ); cins_imp_18_20 = cins_imp_18_20.groupby( \"ref_hash\" ).agg( {\"cant_imp\":\"sum\"} ).reset_index()\n",
    "cins_imp_21_23[\"cant_imp\"] = ins_21_23[\"implicit\"].apply( lambda x: 1 if x else 0 ); cins_imp_21_23 = cins_imp_21_23.groupby( \"ref_hash\" ).agg( {\"cant_imp\":\"sum\"} ).reset_index()"
   ]
  },
  {
   "cell_type": "code",
   "execution_count": 873,
   "metadata": {},
   "outputs": [],
   "source": [
    "cins_imp_18_20.to_csv( loc_ftr + \"\\\\cins_imp_18_20.csv\", index = False )\n",
    "cins_imp_21_23.to_csv( loc_ftr + \"\\\\cins_imp_21_23.csv\", index = False )"
   ]
  },
  {
   "cell_type": "markdown",
   "metadata": {},
   "source": [
    "## <span style=\"color:green\"> **Tipo de la primera instalacion (implicita/no implicita)** </span> "
   ]
  },
  {
   "cell_type": "markdown",
   "metadata": {},
   "source": [
    "#### <span style=\"color:orange\"> **OneHotEncoding** </span> "
   ]
  },
  {
   "cell_type": "code",
   "execution_count": 891,
   "metadata": {},
   "outputs": [],
   "source": [
    "type_ins_18_20 = rh_18_20.copy()\n",
    "type_ins_21_23 = rh_21_23.copy()"
   ]
  },
  {
   "cell_type": "code",
   "execution_count": 879,
   "metadata": {},
   "outputs": [],
   "source": [
    "type_ins_ohe_18_20 = pd.get_dummies( ins_18_20_first_ins[ [\"implicit\"] ].astype( \"category\" ) )\n",
    "type_ins_ohe_21_23 = pd.get_dummies( ins_21_23_first_ins[ [\"implicit\"] ].astype( \"category\" ) )"
   ]
  },
  {
   "cell_type": "code",
   "execution_count": 881,
   "metadata": {},
   "outputs": [],
   "source": [
    "type_ins_18_20 = pd.concat( [type_ins_18_20, type_ins_ohe_18_20], axis = 1 )\n",
    "type_ins_21_23 = pd.concat( [type_ins_21_23, type_ins_ohe_21_23], axis = 1 )"
   ]
  },
  {
   "cell_type": "code",
   "execution_count": 882,
   "metadata": {},
   "outputs": [],
   "source": [
    "type_ins_18_20.to_csv( loc_ftr + \"\\\\type_ins_18_20.csv\", index = False )\n",
    "type_ins_21_23.to_csv( loc_ftr + \"\\\\type_ins_21_23.csv\", index = False )"
   ]
  },
  {
   "cell_type": "markdown",
   "metadata": {},
   "source": [
    "## <span style=\"color:green\"> **Ref Type del dispositivo que realizo la instalacion** </span>\n",
    "\n",
    "#### <span style=\"color:orange\"> **Mean Encoding** </span> (Usamos el promedio de la cantidad de instalaciones con ese ref_type en la ventana)"
   ]
  },
  {
   "cell_type": "code",
   "execution_count": 1016,
   "metadata": {},
   "outputs": [],
   "source": [
    "ref_type_18_20 = rh_18_20.copy()\n",
    "ref_type_21_23 = rh_21_23.copy()"
   ]
  },
  {
   "cell_type": "code",
   "execution_count": 1017,
   "metadata": {},
   "outputs": [],
   "source": [
    "rt_18_20_mean = ins_18_20[ [\"ref_type\"] ].groupby( \"ref_type\" ).agg( {\"ref_type\":\"count\"} ).rename( columns = {\"ref_type\":\"cant_ins\"} ).reset_index()\n",
    "rt_21_23_mean = ins_21_23[ [\"ref_type\"] ].groupby( \"ref_type\" ).agg( {\"ref_type\":\"count\"} ).rename( columns = {\"ref_type\":\"cant_ins\"} ).reset_index()"
   ]
  },
  {
   "cell_type": "code",
   "execution_count": 1018,
   "metadata": {},
   "outputs": [],
   "source": [
    "rt_18_20_mean[\"ref_type_mean\"] = rt_18_20_mean[\"cant_ins\"] / len(ins_18_20); del( rt_18_20_mean[\"cant_ins\"] )\n",
    "rt_21_23_mean[\"ref_type_mean\"] = rt_21_23_mean[\"cant_ins\"] / len(ins_21_23); del( rt_21_23_mean[\"cant_ins\"] )"
   ]
  },
  {
   "cell_type": "code",
   "execution_count": 1019,
   "metadata": {},
   "outputs": [],
   "source": [
    "ref_type_18_20[\"ref_type\"] = ins_18_20_first_ins[\"ref_type\"]; ref_type_18_20 = ref_type_18_20.merge( rt_18_20_mean, how = \"left\", on = \"ref_type\" ); del( ref_type_18_20[\"ref_type\"] )\n",
    "ref_type_21_23[\"ref_type\"] = ins_21_23_first_ins[\"ref_type\"]; ref_type_21_23 = ref_type_21_23.merge( rt_21_23_mean, how = \"left\", on = \"ref_type\" ); del( ref_type_21_23[\"ref_type\"] )"
   ]
  },
  {
   "cell_type": "code",
   "execution_count": 1021,
   "metadata": {},
   "outputs": [],
   "source": [
    "ref_type_18_20.to_csv( loc_ftr + \"\\\\ref_type_18_20.csv\", index = False )\n",
    "ref_type_21_23.to_csv( loc_ftr + \"\\\\ref_type_21_23.csv\", index = False )"
   ]
  },
  {
   "cell_type": "markdown",
   "metadata": {},
   "source": [
    "## ========================================================================="
   ]
  },
  {
   "cell_type": "markdown",
   "metadata": {},
   "source": [
    "## <span style=\"color:green\"> **Cantidad de instalaciones atribuidas por dispositivo** </span> "
   ]
  },
  {
   "cell_type": "code",
   "execution_count": 79,
   "metadata": {},
   "outputs": [],
   "source": [
    "cins_atr_18_20 = rh_18_20.copy()\n",
    "cins_atr_21_23 = rh_21_23.copy()"
   ]
  },
  {
   "cell_type": "code",
   "execution_count": 79,
   "metadata": {},
   "outputs": [],
   "source": [
    "cins_atr_18_20[\"cant_atr\"] = ins_18_20[\"attributed\"].apply( lambda x: 1 if x else 0 ); cins_atr_18_20 = cins_atr_18_20.groupby( \"ref_hash\" ).agg( {\"cant_atr\":\"sum\"} ).reset_index()\n",
    "cins_atr_21_23[\"cant_atr\"] = ins_21_23[\"attributed\"].apply( lambda x: 1 if x else 0 ); cins_atr_21_23 = cins_atr_21_23.groupby( \"ref_hash\" ).agg( {\"cant_atr\":\"sum\"} ).reset_index()"
   ]
  },
  {
   "cell_type": "code",
   "execution_count": 79,
   "metadata": {},
   "outputs": [],
   "source": [
    "cins_atr_18_20.to_csv( loc_ftr + \"\\\\cins_atr_18_20.csv\", index = False )\n",
    "cins_atr_21_23.to_csv( loc_ftr + \"\\\\cins_atr_21_23.csv\", index = False )"
   ]
  },
  {
   "cell_type": "markdown",
   "metadata": {},
   "source": [
    "## <span style=\"color:green\"> **Cantidad de eventos atribuidas por dispositivo** </span> "
   ]
  },
  {
   "cell_type": "code",
   "execution_count": 82,
   "metadata": {},
   "outputs": [],
   "source": [
    "cevt_atr_18_20 = rh_18_20.copy()\n",
    "cevt_atr_21_23 = rh_21_23.copy()"
   ]
  },
  {
   "cell_type": "code",
   "execution_count": 83,
   "metadata": {},
   "outputs": [],
   "source": [
    "cant_atr_evt_18_20 = evt_18_20[[\"ref_hash\", \"attributed\"]]; cant_atr_evt_18_20[\"attributed\"] = cant_atr_evt_18_20[\"attributed\"].apply( lambda x: 1 if x else 0 );\n",
    "cant_atr_evt_21_23 = evt_21_23[[\"ref_hash\", \"attributed\"]]; cant_atr_evt_21_23[\"attributed\"] = cant_atr_evt_21_23[\"attributed\"].apply( lambda x: 1 if x else 0 );"
   ]
  },
  {
   "cell_type": "code",
   "execution_count": 84,
   "metadata": {},
   "outputs": [],
   "source": [
    "cant_atr_evt_18_20 = cant_atr_evt_18_20.groupby( \"ref_hash\" ).agg( \"sum\" )\n",
    "cant_atr_evt_21_23 = cant_atr_evt_21_23.groupby( \"ref_hash\" ).agg( \"sum\" )"
   ]
  },
  {
   "cell_type": "code",
   "execution_count": 85,
   "metadata": {},
   "outputs": [],
   "source": [
    "cevt_atr_18_20 = cevt_atr_18_20.merge( cant_atr_evt_18_20, how = \"left\", on = \"ref_hash\" ).fillna( 0 )\n",
    "cevt_atr_21_23 = cevt_atr_21_23.merge( cant_atr_evt_21_23, how = \"left\", on = \"ref_hash\" ).fillna( 0 )"
   ]
  },
  {
   "cell_type": "code",
   "execution_count": 86,
   "metadata": {},
   "outputs": [],
   "source": [
    "cevt_atr_18_20.to_csv( loc_ftr + \"\\\\cevt_atr_18_20.csv\", index = False )\n",
    "cevt_atr_21_23.to_csv( loc_ftr + \"\\\\cevt_atr_21_23.csv\", index = False )"
   ]
  },
  {
   "cell_type": "markdown",
   "metadata": {},
   "source": [
    "## ========================================================================="
   ]
  },
  {
   "cell_type": "markdown",
   "metadata": {},
   "source": [
    "## <span style=\"color:green\"> **Tiempo hasta la primer auction en ese ventana** </span> \n",
    "\n",
    "Le asignamos cuanto tiempo, en la ventana del 18-20, tardo en realizar su primer auction"
   ]
  },
  {
   "cell_type": "code",
   "execution_count": 12,
   "metadata": {},
   "outputs": [],
   "source": [
    "frst_auc_18_20 = rh_18_20.copy()\n",
    "frst_auc_21_23 = rh_21_23.copy()"
   ]
  },
  {
   "cell_type": "code",
   "execution_count": 13,
   "metadata": {},
   "outputs": [],
   "source": [
    "first_auctions_rh_ins_18_20 = auc_18_20[ [\"device_id\",\"date\"] ].sort_values( \"date\" ).drop_duplicates( subset = \"device_id\", keep = \"first\" ).rename( columns = {\"device_id\":\"ref_hash\"} )\n",
    "first_auctions_rh_ins_21_23 = auc_21_23[ [\"device_id\",\"date\"] ].sort_values( \"date\" ).drop_duplicates( subset = \"device_id\", keep = \"first\" ).rename( columns = {\"device_id\":\"ref_hash\"} )"
   ]
  },
  {
   "cell_type": "code",
   "execution_count": 19,
   "metadata": {},
   "outputs": [],
   "source": [
    "first_auctions_rh_ins_18_20[\"time_to_frt_auc\"] = ( pd.to_datetime( first_auctions_rh_ins_18_20[\"date\"] ) -  dt.datetime( year = 2019, month = 4, day = 18 ) ).dt.total_seconds()\n",
    "first_auctions_rh_ins_21_23[\"time_to_frt_auc\"] = ( pd.to_datetime( first_auctions_rh_ins_21_23[\"date\"] ) -  dt.datetime( year = 2019, month = 4, day = 21 ) ).dt.total_seconds()"
   ]
  },
  {
   "cell_type": "code",
   "execution_count": 25,
   "metadata": {},
   "outputs": [],
   "source": [
    "first_auctions_rh_ins_18_20.drop( \"date\", axis = 1, inplace = True )\n",
    "first_auctions_rh_ins_21_23.drop( \"date\", axis = 1, inplace = True )"
   ]
  },
  {
   "cell_type": "code",
   "execution_count": 26,
   "metadata": {},
   "outputs": [],
   "source": [
    "frst_auc_18_20 = frst_auc_18_20.merge( first_auctions_rh_ins_18_20, how = \"left\", on = \"ref_hash\" )\n",
    "frst_auc_21_23 = frst_auc_21_23.merge( first_auctions_rh_ins_21_23, how = \"left\", on = \"ref_hash\" )"
   ]
  },
  {
   "cell_type": "code",
   "execution_count": 29,
   "metadata": {},
   "outputs": [],
   "source": [
    "#Los que tienen NaN es que nunca convirtieron. Los marcamos con el tiempo maximo\n",
    "frst_auc_18_20.fillna( 3 * 24 * 3600, inplace = True )\n",
    "frst_auc_21_23.fillna( 3 * 24 * 3600, inplace = True )"
   ]
  },
  {
   "cell_type": "code",
   "execution_count": 30,
   "metadata": {},
   "outputs": [],
   "source": [
    "frst_auc_18_20.to_csv( loc_ftr + \"\\\\frst_auc_18_20.csv\", index = False )\n",
    "frst_auc_21_23.to_csv( loc_ftr + \"\\\\frst_auc_21_23.csv\", index = False )"
   ]
  },
  {
   "cell_type": "markdown",
   "metadata": {},
   "source": [
    "## <span style=\"color:green\"> **Tiempo hasta el primer evento en ese ventana** </span> \n",
    "\n",
    "Le asignamos cuanto tiempo, en la ventana del 18-20, tardo en realizar su primer evento"
   ]
  },
  {
   "cell_type": "code",
   "execution_count": 46,
   "metadata": {},
   "outputs": [],
   "source": [
    "frst_evt_18_20 = rh_18_20.copy()\n",
    "frst_evt_21_23 = rh_21_23.copy()"
   ]
  },
  {
   "cell_type": "code",
   "execution_count": 46,
   "metadata": {},
   "outputs": [],
   "source": [
    "first_event_rh_ins_18_20 = evt_18_20[ [\"ref_hash\",\"date\"] ].sort_values( \"date\" ).drop_duplicates( subset = \"ref_hash\", keep = \"first\" )\n",
    "first_event_rh_ins_21_23 = evt_21_23[ [\"ref_hash\",\"date\"] ].sort_values( \"date\" ).drop_duplicates( subset = \"ref_hash\", keep = \"first\" )"
   ]
  },
  {
   "cell_type": "code",
   "execution_count": 46,
   "metadata": {},
   "outputs": [],
   "source": [
    "first_event_rh_ins_18_20[\"time_to_frt_evt\"] = ( pd.to_datetime( first_event_rh_ins_18_20[\"date\"] ) -  dt.datetime( year = 2019, month = 4, day = 18 ) ).dt.total_seconds()\n",
    "first_event_rh_ins_21_23[\"time_to_frt_evt\"] = ( pd.to_datetime( first_event_rh_ins_21_23[\"date\"] ) -  dt.datetime( year = 2019, month = 4, day = 21 ) ).dt.total_seconds()"
   ]
  },
  {
   "cell_type": "code",
   "execution_count": 46,
   "metadata": {},
   "outputs": [],
   "source": [
    "first_event_rh_ins_18_20.drop( \"date\", axis = 1, inplace = True )\n",
    "first_event_rh_ins_21_23.drop( \"date\", axis = 1, inplace = True )"
   ]
  },
  {
   "cell_type": "code",
   "execution_count": 46,
   "metadata": {},
   "outputs": [],
   "source": [
    "frst_evt_18_20 = frst_evt_18_20.merge( first_event_rh_ins_18_20, how = \"left\", on = \"ref_hash\" )\n",
    "frst_evt_21_23 = frst_evt_21_23.merge( first_event_rh_ins_21_23, how = \"left\", on = \"ref_hash\" )"
   ]
  },
  {
   "cell_type": "code",
   "execution_count": 46,
   "metadata": {},
   "outputs": [],
   "source": [
    "#Los que tienen NaN es que nunca convirtieron. Los marcamos con el tiempo maximo\n",
    "frst_evt_18_20.fillna( 3 * 24 * 3600, inplace = True )\n",
    "frst_evt_21_23.fillna( 3 * 24 * 3600, inplace = True )"
   ]
  },
  {
   "cell_type": "code",
   "execution_count": 46,
   "metadata": {},
   "outputs": [],
   "source": [
    "frst_evt_18_20.to_csv( loc_ftr + \"\\\\frst_evt_18_20.csv\", index = False )\n",
    "frst_evt_21_23.to_csv( loc_ftr + \"\\\\frst_evt_21_23.csv\", index = False )"
   ]
  },
  {
   "cell_type": "markdown",
   "metadata": {},
   "source": [
    "## ========================================================================="
   ]
  },
  {
   "cell_type": "markdown",
   "metadata": {},
   "source": [
    "## <span style=\"color:green\"> **Cantidad de Clicks por dispositivo en la ventana previa a la conversion** </span>"
   ]
  },
  {
   "cell_type": "code",
   "execution_count": null,
   "metadata": {},
   "outputs": [],
   "source": [
    "cant_clk_18_20 = rh_18_20\n",
    "cant_clk_21_23 = rh_21_23\n",
    "\n",
    "cant_clk_18_20 = cant_clk_18_20.merge( clk_18_20[\"ref_hash\"].value_counts().to_frame().reset_index().rename( columns = {\"ref_hash\": \"cant_clk\", \"index\":\"ref_hash\"} ), how = \"left\", on = \"ref_hash\" )\n",
    "cant_clk_21_23 = cant_clk_21_23.merge( clk_21_23[\"ref_hash\"].value_counts().to_frame().reset_index().rename( columns = {\"ref_hash\": \"cant_clk\", \"index\":\"ref_hash\"} ), how = \"left\", on = \"ref_hash\" )\n",
    "\n",
    "cant_clk_18_20.fillna( 0, inplace = True )\n",
    "cant_clk_21_23.fillna( 0, inplace = True )\n",
    "\n",
    "cant_clk_18_20.to_csv( loc_ftr + \"\\\\cant_clk_18_20.csv\", index = False )\n",
    "cant_clk_21_23.to_csv( loc_ftr + \"\\\\cant_clk_21_23.csv\", index = False )"
   ]
  },
  {
   "cell_type": "markdown",
   "metadata": {},
   "source": [
    "## ========================================================================="
   ]
  },
  {
   "cell_type": "markdown",
   "metadata": {},
   "source": [
    "## <span style=\"color:green\"> **Ref Type del dispositivo que realizo la instalacion** </span> "
   ]
  },
  {
   "cell_type": "markdown",
   "metadata": {},
   "source": [
    "#### <span style=\"color:orange\"> **Mean Encoding** </span> "
   ]
  },
  {
   "cell_type": "code",
   "execution_count": null,
   "metadata": {},
   "outputs": [],
   "source": [
    "ref_type_18_20 = rh_18_20.copy()\n",
    "ref_type_21_23 = rh_21_23.copy()\n",
    "\n",
    "sc = ins_21_23_first_ins.loc[ ins_21_23_first_ins[\"ref_hash\"].isin( rh_18_20[\"ref_hash\"] ), [\"ref_hash\",\"_sc\"] ]\n",
    "\n",
    "rt_18_20_sc = ins_18_20_first_ins[ [\"ref_hash\",\"ref_type\"] ].merge( sc, how = \"left\", on = \"ref_hash\" ); dl_18_20_sc.fillna( 259200, inplace = True )\n",
    "\n",
    "X_rt = dl_18_20_sc[ [\"device_language\"] ]\n",
    "Y_rt = dl_18_20_sc[ [\"_sc\"] ]\n",
    "\n",
    "te = ce.TargetEncoder(smoothing=True)\n",
    "te.fit_transform( X_rt Y_rt );\n",
    "\n",
    "ref_type_18_20[\"ref_type_enc\"] = te.transform( ins_18_20_first_ins[[\"ref_type\"]].astype(str) )\n",
    "ref_type_21_23[\"ref_type_enc\"] = te.transform( ins_21_23_first_ins[[\"ref_type\"]].astype(str) )\n",
    "\n",
    "ref_type_18_20.to_csv( loc_ftr + \"\\\\ref_type_18_20.csv\", index = False )\n",
    "ref_type_21_23.to_csv( loc_ftr + \"\\\\ref_type_21_23.csv\", index = False )"
   ]
  },
  {
   "cell_type": "markdown",
   "metadata": {},
   "source": [
    "#### <span style=\"color:orange\"> **OneHotEncoding** </span> "
   ]
  },
  {
   "cell_type": "code",
   "execution_count": null,
   "metadata": {},
   "outputs": [],
   "source": [
    "ref_type_18_20 = rh_18_20\n",
    "ref_type_21_23 = rh_21_23\n",
    "\n",
    "rt_ohe_18_20 = pd.get_dummies( ins_18_20_first_ins[ [\"ref_type\"] ].astype(\"category\") )\n",
    "rt_ohe_21_23 = pd.get_dummies( ins_21_23_first_ins[ [\"ref_type\"] ].astype(\"category\") )\n",
    "\n",
    "ref_type_18_20 = pd.concat( [ref_type_18_20, rt_ohe_18_20], axis = 1 )\n",
    "ref_type_21_23 = pd.concat( [ref_type_21_23, rt_ohe_21_23], axis = 1 )"
   ]
  },
  {
   "cell_type": "markdown",
   "metadata": {},
   "source": [
    "## <span style=\"color:green\"> **DeviceLenguage del dispositivo al realizar la instlacion** </span>"
   ]
  },
  {
   "cell_type": "markdown",
   "metadata": {},
   "source": [
    "#### <span style=\"color:orange\"> **Mean Encoding** </span> (Usando el SC para el promedio)"
   ]
  },
  {
   "cell_type": "code",
   "execution_count": null,
   "metadata": {},
   "outputs": [],
   "source": [
    "dev_lang_18_20 = rh_18_20.copy()\n",
    "dev_lang_21_23 = rh_21_23.copy()\n",
    "\n",
    "sc = ins_21_23_first_ins.loc[ ins_21_23_first_ins[\"ref_hash\"].isin( rh_18_20[\"ref_hash\"] ), [\"ref_hash\",\"_sc\"] ]\n",
    "\n",
    "dl_18_20_sc = ins_18_20_first_ins[ [\"ref_hash\",\"device_language\"] ].merge( sc, how = \"left\", on = \"ref_hash\" ); dl_18_20_sc.fillna( 259200, inplace = True )\n",
    "\n",
    "X_dl = dl_18_20_sc[ [\"device_language\"] ]\n",
    "Y_dl = dl_18_20_sc[ [\"_sc\"] ]\n",
    "\n",
    "te = ce.TargetEncoder(smoothing=True); te.fit( X_dl, Y_dl );\n",
    "\n",
    "# replace nans with the global mean ( https://necromuralist.github.io/kaggle-competitions/posts/mean-encoding/ )\n",
    "global_mean = Y_dl[\"_sc\"].mean()\n",
    "\n",
    "dev_lang_18_20[\"dev_language\"] = te.transform( ins_18_20_first_ins[ [\"device_language\"] ].astype( str ) ); dev_lang_18_20[\"dev_language\"].replace( {\"nan\":global_mean}, inplace = True )\n",
    "dev_lang_21_23[\"dev_language\"] = te.transform( ins_21_23_first_ins[ [\"device_language\"] ].astype( str ) ); dev_lang_21_23[\"dev_language\"].replace( {\"nan\":global_mean}, inplace = True )\n",
    "\n",
    "dev_lang_18_20.to_csv( loc_ftr + \"\\\\dev_lang_18_20.csv\", index = False )\n",
    "dev_lang_21_23.to_csv( loc_ftr + \"\\\\dev_lang_21_23.csv\", index = False )"
   ]
  },
  {
   "cell_type": "markdown",
   "metadata": {},
   "source": [
    "#### <span style=\"color:orange\"> **OneHotEncoding** </span>"
   ]
  },
  {
   "cell_type": "code",
   "execution_count": null,
   "metadata": {},
   "outputs": [],
   "source": [
    "dev_lang_18_20 = rh_18_20\n",
    "dev_lang_21_23 = rh_21_23\n",
    "\n",
    "#Generamos todas las categorias posibles para que tengan las mismas columnas\n",
    "dl_18_20 = ins_18_20_first_ins[\"device_language\"].drop_duplicates()\n",
    "dl_21_23 = ins_21_23_first_ins[\"device_language\"].drop_duplicates()\n",
    "\n",
    "#Creamos la categoria. Los NAN son una categoria\n",
    "dl_category = pd.api.types.CategoricalDtype( dl_18_20.append( dl_21_23 ).fillna(\"NoDL\").drop_duplicates() ) \n",
    "\n",
    "dl_ohe_18_20 = pd.get_dummies( ins_18_20_first_ins[ [\"device_language\"] ].astype(dl_category) )\n",
    "dl_ohe_21_23 = pd.get_dummies( ins_21_23_first_ins[ [\"device_language\"] ].astype(dl_category) )\n",
    "\n",
    "dev_lang_18_20 = pd.concat( [dev_lang_18_20, dl_ohe_18_20], axis = 1 )\n",
    "dev_lang_21_23 = pd.concat( [dev_lang_21_23, dl_ohe_21_23], axis = 1 )\n",
    "\n",
    "dev_lang_18_20.to_csv( loc_ftr + \"\\\\dev_lang_18_20.csv\", index = False )\n",
    "dev_lang_21_23.to_csv( loc_ftr + \"\\\\dev_lang_21_23.csv\", index = False )"
   ]
  },
  {
   "cell_type": "markdown",
   "metadata": {},
   "source": [
    "## <span style=\"color:green\"> **Modelo del dispositivo uilizado** </span>"
   ]
  },
  {
   "cell_type": "markdown",
   "metadata": {},
   "source": [
    "#### <span style=\"color:orange\"> **Mean Encoding** </span> (Usando el SC para el promedio) "
   ]
  },
  {
   "cell_type": "code",
   "execution_count": null,
   "metadata": {},
   "outputs": [],
   "source": [
    "dev_modl_18_20 = rh_18_20.copy()\n",
    "dev_modl_21_23 = rh_21_23.copy()\n",
    "\n",
    "sc = ins_21_23_first_ins.loc[ ins_21_23_first_ins[\"ref_hash\"].isin( rh_18_20[\"ref_hash\"] ), [\"ref_hash\",\"_sc\"] ]\n",
    "\n",
    "dm_18_20_sc = ins_18_20_first_ins[ [\"ref_hash\",\"device_model\"] ].merge( sc, how = \"left\", on = \"ref_hash\" ); \n",
    "\n",
    "X_dm = dm_18_20_sc[ [\"device_model\"] ].astype(str)\n",
    "Y_dm = dm_18_20_sc[ [\"_sc\"] ]\n",
    "\n",
    "te = ce.TargetEncoder(smoothing=True); te.fit( X_dm, Y_dm );\n",
    "\n",
    "# replace nans with the global mean ( https://necromuralist.github.io/kaggle-competitions/posts/mean-encoding/ )\n",
    "global_mean = Y_dm[\"_sc\"].mean()\n",
    "\n",
    "dev_modl_18_20[\"device_model\"] = te.transform( ins_18_20_first_ins[ [\"device_model\"] ].astype( str ) ); dev_modl_18_20.fillna( global_mean, inplace = True )\n",
    "dev_modl_21_23[\"device_model\"] = te.transform( ins_21_23_first_ins[ [\"device_model\"] ].astype( str ) ); dev_modl_21_23.fillna( global_mean, inplace = True )\n",
    "\n",
    "dev_modl_18_20.to_csv( loc_ftr + \"\\\\dev_modl_18_20.csv\", index = False )\n",
    "dev_modl_21_23.to_csv( loc_ftr + \"\\\\dev_modl_21_23.csv\", index = False )"
   ]
  },
  {
   "cell_type": "markdown",
   "metadata": {},
   "source": [
    "#### <span style=\"color:orange\"> **Mean Encoding** </span> (Usando el promedio de cuantas veces fue utilizado) "
   ]
  },
  {
   "cell_type": "code",
   "execution_count": null,
   "metadata": {},
   "outputs": [],
   "source": [
    "dev_modl_18_20 = rh_18_20.copy()\n",
    "dev_modl_21_23 = rh_21_23.copy()\n",
    "\n",
    "dev_modl_mean_18_20 = ins_18_20[ [\"device_model\",\"ref_hash\"] ].groupby(\"device_model\").agg(\"count\"); dev_modl_mean_18_20[\"mean\"] = dev_modl_mean_18_20[\"ref_hash\"]/len(ins_18_20); del(dev_modl_mean_18_20[\"ref_hash\"])\n",
    "dev_modl_mean_21_23 = ins_21_23[ [\"device_model\",\"ref_hash\"] ].groupby(\"device_model\").agg(\"count\"); dev_modl_mean_21_23[\"mean\"] = dev_modl_mean_21_23[\"ref_hash\"]/len(ins_21_23); del(dev_modl_mean_21_23[\"ref_hash\"])\n",
    "\n",
    "dev_modl_18_20[\"device_model\"] = ins_18_20_first_ins[\"device_model\"]; dev_modl_18_20 = dev_modl_18_20.merge(dev_modl_mean_18_20, how = \"left\", on = \"device_model\" )\n",
    "dev_modl_21_23[\"device_model\"] = ins_21_23_first_ins[\"device_model\"]; dev_modl_21_23 = dev_modl_21_23.merge(dev_modl_mean_21_23, how = \"left\", on = \"device_model\" )\n",
    "\n",
    "#Contamos a los NaNs como un \"modelo\"\n",
    "mean_nan_18_20 = ins_18_20[\"device_model\"].isnull().sum() / len( ins_18_20 )\n",
    "mean_nan_21_23 = ins_21_23[\"device_model\"].isnull().sum() / len( ins_21_23 )\n",
    "\n",
    "dev_modl_18_20.fillna( mean_nan_18_20, inplace = True ); del( dev_modl_18_20[\"device_model\"] ); dev_modl_18_20.rename( {\"mean\":\"dev_mod\"}, inplace = True )\n",
    "dev_modl_21_23.fillna( mean_nan_21_23, inplace = True ); del( dev_modl_21_23[\"device_model\"] ); dev_modl_21_23.rename( {\"mean\":\"dev_mod\"}, inplace = True )\n",
    "\n",
    "dev_modl_18_20.to_csv( loc_ftr + \"\\\\dev_modl_18_20.csv\", index = False )\n",
    "dev_modl_21_23.to_csv( loc_ftr + \"\\\\dev_modl_21_23.csv\", index = False )"
   ]
  },
  {
   "cell_type": "markdown",
   "metadata": {},
   "source": [
    "## <span style=\"color:green\"> **SessionUserAgent de los dispositivos** </span>\n",
    "\n",
    "#### <span style=\"color:orange\"> **Mean Encoding** </span> (Usando el SC para el promedio)"
   ]
  },
  {
   "cell_type": "code",
   "execution_count": null,
   "metadata": {},
   "outputs": [],
   "source": [
    "ins_dsua_18_20 = rh_18_20\n",
    "ins_dsua_21_23 = rh_21_23\n",
    "\n",
    "sc = ins_21_23_first_ins.loc[ ins_21_23_first_ins[\"ref_hash\"].isin( rh_18_20[\"ref_hash\"] ), [\"ref_hash\",\"_sc\"] ]\n",
    "\n",
    "sua_18_20_sc = ins_18_20_first_ins[ [\"ref_hash\",\"session_user_agent\"] ].merge( sc, how = \"left\", on = \"ref_hash\" ); \n",
    "\n",
    "X_sua = sua_18_20_sc[ [\"session_user_agent\"] ].astype(str)\n",
    "Y_sua = sua_18_20_sc[ [\"_sc\"] ]\n",
    "\n",
    "te = ce.TargetEncoder(smoothing=True); te.fit( X_sua, Y_sua );\n",
    "\n",
    "ins_dsua_18_20[\"sua\"] = te.transform( ins_18_20_first_ins[ [\"session_user_agent\"] ].astype( str ) );\n",
    "ins_dsua_21_23[\"sua\"] = te.transform( ins_21_23_first_ins[ [\"session_user_agent\"] ].astype( str ) ); \n",
    "\n",
    "ins_dsua_18_20.fillna( Y_sua[\"_sc\"].mean(), inplace = True )\n",
    "ins_dsua_21_23.fillna( Y_sua[\"_sc\"].mean(), inplace = True )\n",
    "\n",
    "ins_dsua_18_20.to_csv( loc_ftr + \"\\\\ins_dsua_18_20.csv\", index = False )\n",
    "ins_dsua_21_23.to_csv( loc_ftr + \"\\\\ins_dsua_21_23.csv\", index = False )"
   ]
  },
  {
   "cell_type": "markdown",
   "metadata": {},
   "source": [
    "# <span style=\"color:green\"> **Source que recibio mas instalaciones por dispositivo** </span> \n",
    "\n",
    "#### <span style=\"color:orange\"> **Mean Encoding** </span> (Usamos el promedio de la cantidad de veces que que es la fuente principal de algun dispositivo)"
   ]
  },
  {
   "cell_type": "code",
   "execution_count": null,
   "metadata": {},
   "outputs": [],
   "source": [
    "srce_auc_18_20 = rh_18_20.copy()\n",
    "srce_auc_21_23 = rh_21_23.copy()\n",
    "\n",
    "main_source_18_20 = auc_18_20.groupby( [\"device_id\", \"source_id\"] ).agg( {\"source_id\":\"count\"} ).rename( columns = {\"source_id\":\"cant_auc\"} ).reset_index()\n",
    "main_source_21_23 = auc_21_23.groupby( [\"device_id\", \"source_id\"] ).agg( {\"source_id\":\"count\"} ).rename( columns = {\"source_id\":\"cant_auc\"} ).reset_index()\n",
    "\n",
    "main_source_18_20 = main_source_18_20.sort_values( by = [\"device_id\",\"cant_auc\"], ascending = True ).drop_duplicates( subset = [\"device_id\"], keep = \"last\" ); del( main_source_18_20[\"cant_auc\"] )\n",
    "main_source_21_23 = main_source_21_23.sort_values( by = [\"device_id\",\"cant_auc\"], ascending = True ).drop_duplicates( subset = [\"device_id\"], keep = \"last\" ); del( main_source_21_23[\"cant_auc\"] )\n",
    "\n",
    "srce_auc_18_20 = srce_auc_18_20.merge( main_source_18_20.rename(columns = {\"device_id\":\"ref_hash\"}), how = \"left\", on = \"ref_hash\" ); srce_auc_18_20.fillna( \"no_font\", inplace = True )\n",
    "srce_auc_21_23 = srce_auc_21_23.merge( main_source_21_23.rename(columns = {\"device_id\":\"ref_hash\"}), how = \"left\", on = \"ref_hash\" ); srce_auc_21_23.fillna( \"no_font\", inplace = True )\n",
    "\n",
    "srce_auc_18_20[\"to_count\"] = 1; srce_auc_18_20[\"source_id\"] = srce_auc_18_20[[\"source_id\", \"to_count\"]].groupby(\"source_id\").transform( \"sum\" ) / len(srce_auc_18_20); del(srce_auc_18_20[\"to_count\"])\n",
    "srce_auc_21_23[\"to_count\"] = 1; srce_auc_21_23[\"source_id\"] = srce_auc_21_23[[\"source_id\", \"to_count\"]].groupby(\"source_id\").transform( \"sum\" ) / len(srce_auc_21_23); del(srce_auc_21_23[\"to_count\"])\n",
    "\n",
    "srce_auc_18_20.to_csv( loc_ftr + \"\\\\srce_auc_18_20.csv\", index = False )\n",
    "srce_auc_21_23.to_csv( loc_ftr + \"\\\\srce_auc_21_23.csv\", index = False )"
   ]
  },
  {
   "cell_type": "markdown",
   "metadata": {},
   "source": [
    "#### <span style=\"color:orange\"> **OneHotEncoding** </span> "
   ]
  },
  {
   "cell_type": "code",
   "execution_count": null,
   "metadata": {},
   "outputs": [],
   "source": [
    "srce_auc_18_20 = rh_18_20.copy()\n",
    "srce_auc_21_23 = rh_21_23.copy()\n",
    "\n",
    "main_source_18_20 = auc_18_20.groupby( [\"device_id\", \"source_id\"] ).agg( {\"source_id\":\"count\"} ).rename( columns = {\"source_id\":\"cant_auc\"} ).reset_index()\n",
    "main_source_21_23 = auc_21_23.groupby( [\"device_id\", \"source_id\"] ).agg( {\"source_id\":\"count\"} ).rename( columns = {\"source_id\":\"cant_auc\"} ).reset_index()\n",
    "\n",
    "main_source_18_20 = main_source_18_20.sort_values( by = [\"device_id\",\"cant_auc\"], ascending = True ).drop_duplicates( subset = [\"device_id\"], keep = \"last\" ); del( main_source_18_20[\"cant_auc\"] )\n",
    "main_source_21_23 = main_source_21_23.sort_values( by = [\"device_id\",\"cant_auc\"], ascending = True ).drop_duplicates( subset = [\"device_id\"], keep = \"last\" ); del( main_source_21_23[\"cant_auc\"] )\n",
    "\n",
    "srce_auc_18_20 = srce_auc_18_20.merge( main_source_18_20.rename(columns = {\"device_id\":\"ref_hash\"}), how = \"left\", on = \"ref_hash\" ); srce_auc_18_20.fillna( \"no_font\", inplace = True )\n",
    "srce_auc_21_23 = srce_auc_21_23.merge( main_source_21_23.rename(columns = {\"device_id\":\"ref_hash\"}), how = \"left\", on = \"ref_hash\" ); srce_auc_21_23.fillna( \"no_font\", inplace = True )\n",
    "\n",
    "#Ya fue controlado que quedan las mismas fuentes para ambas ventanas, no quedan columnas distintas\n",
    "srce_auc_ohe_18_20 = pd.get_dummies( srce_auc_18_20[ [\"source_id\"] ].astype( \"category\" ) )\n",
    "srce_auc_ohe_21_23 = pd.get_dummies( srce_auc_21_23[ [\"source_id\"] ].astype( \"category\" ) )\n",
    "\n",
    "srce_auc_18_20 = pd.concat( [srce_auc_18_20, srce_auc_ohe_18_20], axis = 1 ); del( srce_auc_18_20[\"source_id\"] )\n",
    "srce_auc_21_23 = pd.concat( [srce_auc_21_23, srce_auc_ohe_21_23], axis = 1 ); del( srce_auc_21_23[\"source_id\"] )\n",
    "\n",
    "srce_auc_18_20.to_csv( loc_ftr + \"\\\\srce_auc_18_20.csv\", index = False )\n",
    "srce_auc_21_23.to_csv( loc_ftr + \"\\\\srce_auc_21_23.csv\", index = False )"
   ]
  },
  {
   "cell_type": "markdown",
   "metadata": {},
   "source": [
    "## <span style=\"color:green\"> **Ref Hash** </span> \n",
    "\n",
    "#### <span style=\"color:orange\"> **Mean Encoding** </span> (Usamos el promedio de la cantidad de apariciones en las instalaciones en la ventana anterior)"
   ]
  },
  {
   "cell_type": "code",
   "execution_count": null,
   "metadata": {},
   "outputs": [],
   "source": [
    "rh_encod_18_20 = rh_18_20.copy()\n",
    "rh_encod_21_23 = rh_21_23.copy()\n",
    "\n",
    "appces_18_20_ins = ins_18_20[\"ref_hash\"].value_counts().reset_index().rename( columns = {\"index\":\"ref_hash\", \"ref_hash\":\"appearances\"} )\n",
    "appces_21_23_ins = ins_21_23[\"ref_hash\"].value_counts().reset_index().rename( columns = {\"index\":\"ref_hash\", \"ref_hash\":\"appearances\"} )\n",
    "\n",
    "appces_18_20_ins[\"ref_hash_mean\"] = appces_18_20_ins[\"appearances\"] / len( ins_18_20 ); appces_18_20_ins.drop( \"appearances\", axis = 1, inplace = True )\n",
    "appces_21_23_ins[\"ref_hash_mean\"] = appces_21_23_ins[\"appearances\"] / len( ins_21_23 ); appces_21_23_ins.drop( \"appearances\", axis = 1, inplace = True )\n",
    "\n",
    "rh_encod_18_20 = rh_encod_18_20.merge( appces_18_20_ins, how = \"left\", on = \"ref_hash\" )\n",
    "rh_encod_21_23 = rh_encod_21_23.merge( appces_21_23_ins, how = \"left\", on = \"ref_hash\" )\n",
    "\n",
    "rh_encod_18_20.to_csv( loc_ftr + \"\\\\rh_encod_18_20.csv\", index = False )\n",
    "rh_encod_21_23.to_csv( loc_ftr + \"\\\\rh_encod_21_23.csv\", index = False )"
   ]
  },
  {
   "cell_type": "markdown",
   "metadata": {},
   "source": [
    "## ========================================================================="
   ]
  },
  {
   "cell_type": "markdown",
   "metadata": {},
   "source": [
    "Son muchos NaNs, por lo que no se pueden completar con nada coherente. Esto agrega demasiado ruido al set de entrenamiento"
   ]
  },
  {
   "cell_type": "markdown",
   "metadata": {},
   "source": [
    "## <span style=\"color:green\"> **Tipo de la primera instalacion (Atribuida/No Atribuida)** </span>\n",
    "\n",
    "#### <span style=\"color:orange\"> **OneHotEncoding** </span> - <span style=\"color:red\"> **No Mejora este tipo de codificacion** </span>"
   ]
  },
  {
   "cell_type": "code",
   "execution_count": null,
   "metadata": {},
   "outputs": [],
   "source": [
    "atbt_ins_18_20 = rh_18_20.copy()\n",
    "atbt_ins_21_23 = rh_21_23.copy()\n",
    "\n",
    "atbt_ins_ohe_18_20 = pd.get_dummies( ins_18_20_first_ins[ [\"attributed\"] ].astype( str ) )\n",
    "atbt_ins_ohe_21_23 = pd.get_dummies( ins_21_23_first_ins[ [\"attributed\"] ].astype( str ) )\n",
    "\n",
    "atbt_ins_ohe_18_20 = pd.concat( [atbt_ins_18_20, atbt_ins_ohe_18_20], axis = 1 )\n",
    "atbt_ins_ohe_21_23 = pd.concat( [atbt_ins_21_23, atbt_ins_ohe_21_23], axis = 1 )\n",
    "\n",
    "atbt_ins_18_20.to_csv( loc_ftr + \"\\\\atbt_ins_18_20.csv\", index = False )\n",
    "atbt_ins_21_23.to_csv( loc_ftr + \"\\\\atbt_ins_21_23.csv\", index = False )"
   ]
  },
  {
   "cell_type": "markdown",
   "metadata": {},
   "source": [
    "#### <span style=\"color:orange\"> **Mean Encoding** </span> (Usando como promedio la cantidad de veces que la primera instalacion fue de ese determinado tipo sobre el total de instalaciones)"
   ]
  },
  {
   "cell_type": "code",
   "execution_count": null,
   "metadata": {},
   "outputs": [],
   "source": [
    "atbt_ins_18_20 = rh_18_20.copy()\n",
    "atbt_ins_21_23 = rh_21_23.copy()\n",
    "\n",
    "atbt_ins_18_20[\"atbt\"] = ins_18_20_first_ins[\"attributed\"]; atbt_ins_18_20[\"cant_ins\"] = atbt_ins_18_20.groupby( \"atbt\" ).transform( \"count\" ); atbt_ins_18_20[\"atbt_mean\"] = atbt_ins_18_20[\"cant_ins\"]/len(rh_18_20)\n",
    "atbt_ins_21_23[\"atbt\"] = ins_21_23_first_ins[\"attributed\"]; atbt_ins_21_23[\"cant_ins\"] = atbt_ins_21_23.groupby( \"atbt\" ).transform( \"count\" ); atbt_ins_21_23[\"atbt_mean\"] = atbt_ins_21_23[\"cant_ins\"]/len(rh_21_23)\n",
    "\n",
    "atbt_ins_18_20.drop( [\"atbt\",\"cant_ins\"], axis = 1, inplace = True )\n",
    "atbt_ins_21_23.drop( [\"atbt\",\"cant_ins\"], axis = 1, inplace = True )\n",
    "\n",
    "atbt_ins_18_20.to_csv( loc_ftr + \"\\\\atbt_ins_18_20.csv\", index = False )\n",
    "atbt_ins_21_23.to_csv( loc_ftr + \"\\\\atbt_ins_21_23.csv\", index = False )"
   ]
  },
  {
   "cell_type": "markdown",
   "metadata": {},
   "source": [
    "## ========================================================================="
   ]
  },
  {
   "cell_type": "markdown",
   "metadata": {},
   "source": [
    "## <span style=\"color:green\"> **Tipo de evento mas realizado por el dispositivo** </span> \n",
    "\n",
    "#### <span style=\"color:orange\"> **Mean Encoding** </span> (Lo codificamos haciendo la cantidad de eventos que se realizaron de ese tipo sobre el total de eventos realizados)"
   ]
  },
  {
   "cell_type": "code",
   "execution_count": 144,
   "metadata": {},
   "outputs": [],
   "source": [
    "kind_evt_18_20 = rh_18_20.copy()\n",
    "kind_evt_21_23 = rh_21_23.copy()"
   ]
  },
  {
   "cell_type": "code",
   "execution_count": 145,
   "metadata": {},
   "outputs": [],
   "source": [
    "main_kind_evt_18_20 = evt_18_20.groupby( by = [\"ref_hash\",\"kind\"] ).agg( {\"kind\":\"count\"} ).rename( columns = {\"kind\":\"cant_evt\"} ).reset_index()\n",
    "main_kind_evt_21_23 = evt_21_23.groupby( by = [\"ref_hash\",\"kind\"] ).agg( {\"kind\":\"count\"} ).rename( columns = {\"kind\":\"cant_evt\"} ).reset_index()"
   ]
  },
  {
   "cell_type": "code",
   "execution_count": 146,
   "metadata": {},
   "outputs": [],
   "source": [
    "main_kind_evt_18_20 = main_kind_evt_18_20.sort_values( by = [\"ref_hash\", \"cant_evt\"], ascending = True ).drop_duplicates( subset = \"ref_hash\", keep = \"last\" ); del( main_kind_evt_18_20[\"cant_evt\"] )\n",
    "main_kind_evt_21_23 = main_kind_evt_21_23.sort_values( by = [\"ref_hash\", \"cant_evt\"], ascending = True ).drop_duplicates( subset = \"ref_hash\", keep = \"last\" ); del( main_kind_evt_21_23[\"cant_evt\"] ) "
   ]
  },
  {
   "cell_type": "code",
   "execution_count": 147,
   "metadata": {},
   "outputs": [],
   "source": [
    "kind_evt_18_20 = kind_evt_18_20.merge( main_kind_evt_18_20, how = \"left\", on = \"ref_hash\" )\n",
    "kind_evt_21_23 = kind_evt_21_23.merge( main_kind_evt_21_23, how = \"left\", on = \"ref_hash\" )"
   ]
  },
  {
   "cell_type": "code",
   "execution_count": 148,
   "metadata": {},
   "outputs": [],
   "source": [
    "cant_kind_evt_18_20 = evt_18_20[[\"ref_hash\",\"kind\"]].groupby( \"kind\" ).agg(\"count\").reset_index().rename( columns = {\"ref_hash\":\"cant_kind\"} )\n",
    "cant_kind_evt_21_23 = evt_21_23[[\"ref_hash\",\"kind\"]].groupby( \"kind\" ).agg(\"count\").reset_index().rename( columns = {\"ref_hash\":\"cant_kind\"} )"
   ]
  },
  {
   "cell_type": "code",
   "execution_count": 149,
   "metadata": {},
   "outputs": [],
   "source": [
    "kind_evt_18_20 = kind_evt_18_20.merge( cant_kind_evt_18_20, how = \"left\", on = \"kind\" ).drop( \"kind\", axis = 1 )\n",
    "kind_evt_21_23 = kind_evt_21_23.merge( cant_kind_evt_21_23, how = \"left\", on = \"kind\" ).drop( \"kind\", axis = 1 )"
   ]
  },
  {
   "cell_type": "code",
   "execution_count": 150,
   "metadata": {},
   "outputs": [],
   "source": [
    "kind_evt_18_20[\"kind_mean\"] = kind_evt_18_20[\"cant_kind\"] / len(evt_18_20); kind_evt_18_20.fillna( kind_evt_18_20[\"kind_mean\"].isnull().sum() / len(evt_18_20), inplace = True ); del(kind_evt_18_20[\"cant_kind\"])\n",
    "kind_evt_21_23[\"kind_mean\"] = kind_evt_21_23[\"cant_kind\"] / len(evt_21_23); kind_evt_21_23.fillna( kind_evt_21_23[\"kind_mean\"].isnull().sum() / len(evt_21_23), inplace = True ); del(kind_evt_21_23[\"cant_kind\"])"
   ]
  },
  {
   "cell_type": "code",
   "execution_count": 152,
   "metadata": {},
   "outputs": [],
   "source": [
    "kind_evt_18_20.to_csv( loc_ftr + \"\\\\kind_evt_18_20.csv\", index = False )\n",
    "kind_evt_21_23.to_csv( loc_ftr + \"\\\\kind_evt_21_23.csv\", index = False )"
   ]
  },
  {
   "cell_type": "markdown",
   "metadata": {},
   "source": [
    "## <span style=\"color:green\"> **Cantidad de eventos atribuidas por dispositivo** </span> "
   ]
  },
  {
   "cell_type": "code",
   "execution_count": null,
   "metadata": {},
   "outputs": [],
   "source": [
    "cevt_atr_18_20 = rh_18_20.copy()\n",
    "cevt_atr_21_23 = rh_21_23.copy()\n",
    "\n",
    "cant_atr_evt_18_20 = evt_18_20[[\"ref_hash\", \"attributed\"]]; cant_atr_evt_18_20[\"attributed\"] = cant_atr_evt_18_20[\"attributed\"].apply( lambda x: 1 if x else 0 );\n",
    "cant_atr_evt_21_23 = evt_21_23[[\"ref_hash\", \"attributed\"]]; cant_atr_evt_21_23[\"attributed\"] = cant_atr_evt_21_23[\"attributed\"].apply( lambda x: 1 if x else 0 );\n",
    "\n",
    "cant_atr_evt_18_20 = cant_atr_evt_18_20.groupby( \"ref_hash\" ).agg( \"sum\" )\n",
    "cant_atr_evt_21_23 = cant_atr_evt_21_23.groupby( \"ref_hash\" ).agg( \"sum\" )\n",
    "\n",
    "cevt_atr_18_20 = cevt_atr_18_20.merge( cant_atr_evt_18_20, how = \"left\", on = \"ref_hash\" ).fillna( 0 )\n",
    "cevt_atr_21_23 = cevt_atr_21_23.merge( cant_atr_evt_21_23, how = \"left\", on = \"ref_hash\" ).fillna( 0 )\n",
    "\n",
    "cevt_atr_18_20.to_csv( loc_ftr + \"\\\\cevt_atr_18_20.csv\", index = False )\n",
    "cevt_atr_21_23.to_csv( loc_ftr + \"\\\\cevt_atr_21_23.csv\", index = False )"
   ]
  },
  {
   "cell_type": "markdown",
   "metadata": {},
   "source": [
    "## <span style=\"color:green\"> **Aplicaciones que mas realizaron eventos cada usuario** </span>\n",
    "\n",
    "#### <span style=\"color:orange\"> **Mean Encoding** </span> (Usamos el promedio de la cantidad de veces que que es la app principal de algun dispositivo)"
   ]
  },
  {
   "cell_type": "code",
   "execution_count": null,
   "metadata": {},
   "outputs": [],
   "source": [
    "mapp_evt_18_20 = rh_18_20.copy()\n",
    "mapp_evt_21_23 = rh_21_23.copy()\n",
    "\n",
    "app_mas_evt_18_20 = evt_18_20.groupby( by = [\"ref_hash\",\"application_id\"] ).agg( {\"application_id\":\"count\"} ).rename( columns = {\"application_id\":\"cant_evt\"} ).reset_index()\n",
    "app_mas_evt_21_23 = evt_21_23.groupby( by = [\"ref_hash\",\"application_id\"] ).agg( {\"application_id\":\"count\"} ).rename( columns = {\"application_id\":\"cant_evt\"} ).reset_index()\n",
    "\n",
    "app_mas_evt_18_20 = app_mas_evt_18_20.sort_values( by = [\"ref_hash\", \"cant_evt\"], ascending = True ).drop_duplicates( subset = \"ref_hash\", keep = \"last\" ); del( app_mas_evt_18_20[\"cant_evt\"] )\n",
    "app_mas_evt_21_23 = app_mas_evt_21_23.sort_values( by = [\"ref_hash\", \"cant_evt\"], ascending = True ).drop_duplicates( subset = \"ref_hash\", keep = \"last\" ); del( app_mas_evt_21_23[\"cant_evt\"] ) \n",
    "\n",
    "mapp_evt_18_20 = mapp_evt_18_20.merge( app_mas_evt_18_20, how = \"left\", on = \"ref_hash\" )\n",
    "mapp_evt_21_23 = mapp_evt_21_23.merge( app_mas_evt_21_23, how = \"left\", on = \"ref_hash\" )\n",
    "\n",
    "mapp_evt_18_20[\"to_count\"] = 1; mapp_evt_18_20[\"application_id\"] = mapp_evt_18_20[[\"application_id\", \"to_count\"]].groupby(\"application_id\").transform( \"sum\" ) / len(mapp_evt_18_20); del(mapp_evt_18_20[\"to_count\"])\n",
    "mapp_evt_21_23[\"to_count\"] = 1; mapp_evt_21_23[\"application_id\"] = mapp_evt_21_23[[\"application_id\", \"to_count\"]].groupby(\"application_id\").transform( \"sum\" ) / len(mapp_evt_21_23); del(mapp_evt_21_23[\"to_count\"])\n",
    "\n",
    "#Completamos los NaNs con el promedio de su cantidad\n",
    "mapp_evt_18_20[\"application_id\"].fillna( mapp_evt_18_20[\"application_id\"].isnull().sum() / len( mapp_evt_18_20 ) , inplace = True )\n",
    "mapp_evt_21_23[\"application_id\"].fillna( mapp_evt_21_23[\"application_id\"].isnull().sum() / len( mapp_evt_21_23 ), inplace = True )\n",
    "\n",
    "mapp_evt_18_20.to_csv( loc_ftr + \"\\\\mapp_evt_18_20.csv\", index = False )\n",
    "mapp_evt_21_23.to_csv( loc_ftr + \"\\\\mapp_evt_21_23.csv\", index = False )"
   ]
  },
  {
   "cell_type": "markdown",
   "metadata": {},
   "source": [
    "## <span style=\"color:green\"> **Cantidad de eventos realizados con WiFi** </span> "
   ]
  },
  {
   "cell_type": "code",
   "execution_count": null,
   "metadata": {},
   "outputs": [],
   "source": [
    "wifi_evt_18_20 = rh_18_20.copy()\n",
    "wifi_evt_21_23 = rh_21_23.copy()\n",
    "\n",
    "cant_wifi_evt_18_20 = evt_18_20[[\"ref_hash\", \"wifi\"]]; cant_wifi_evt_18_20[\"wifi\"] = cant_wifi_evt_18_20[\"wifi\"].apply( lambda x: 1 if x else 0 );\n",
    "cant_wifi_evt_21_23 = evt_21_23[[\"ref_hash\", \"wifi\"]]; cant_wifi_evt_21_23[\"wifi\"] = cant_wifi_evt_21_23[\"wifi\"].apply( lambda x: 1 if x else 0 );\n",
    "\n",
    "cant_wifi_evt_18_20 = cant_wifi_evt_18_20.groupby( \"ref_hash\" ).agg( \"sum\" )\n",
    "cant_wifi_evt_21_23 = cant_wifi_evt_21_23.groupby( \"ref_hash\" ).agg( \"sum\" )\n",
    "\n",
    "wifi_evt_18_20 = wifi_evt_18_20.merge( cant_wifi_evt_18_20, how = \"left\", on = \"ref_hash\" ).fillna( 0 )\n",
    "wifi_evt_21_23 = wifi_evt_21_23.merge( cant_wifi_evt_21_23, how = \"left\", on = \"ref_hash\" ).fillna( 0 )\n",
    "\n",
    "wifi_evt_18_20.to_csv( loc_ftr + \"\\\\wifi_evt_18_20.csv\", index = False )\n",
    "wifi_evt_21_23.to_csv( loc_ftr + \"\\\\wifi_evt_21_23.csv\", index = False )"
   ]
  },
  {
   "cell_type": "markdown",
   "metadata": {},
   "source": [
    "## ========================================================================="
   ]
  },
  {
   "cell_type": "markdown",
   "metadata": {},
   "source": [
    "## <span style=\"color:green\"> **Tiempo hasta la primer instlacion en ese ventana** </span> \n",
    "\n",
    "Le asignamos cuanto tiempo, en la ventana del 18-20, tardo en realizar su primer instlacion"
   ]
  },
  {
   "cell_type": "code",
   "execution_count": null,
   "metadata": {},
   "outputs": [],
   "source": [
    "frst_ins_18_20 = ins_18_20_first_ins[ [\"ref_hash\", \"_sc\"] ]\n",
    "frst_ins_21_23 = ins_21_23_first_ins[ [\"ref_hash\", \"_sc\"] ]\n",
    "\n",
    "frst_ins_18_20.rename( columns = {\"_sc\": \"time_to_ins_auc\"}, inplace = True )\n",
    "frst_ins_21_23.rename( columns = {\"_sc\": \"time_to_ins_auc\"}, inplace = True )\n",
    "\n",
    "frst_ins_18_20.to_csv( loc_ftr + \"\\\\frst_ins_18_20.csv\", index = True )\n",
    "frst_ins_21_23.to_csv( loc_ftr + \"\\\\frst_ins_21_23.csv\", index = True )"
   ]
  },
  {
   "cell_type": "markdown",
   "metadata": {},
   "source": [
    "## <span style=\"color:green\"> **Tiempo hasta el primer click en ese ventana** </span> \n",
    "\n",
    "Le asignamos cuanto tiempo, en la ventana del 18-20, tardo en realizar su primer click"
   ]
  },
  {
   "cell_type": "code",
   "execution_count": null,
   "metadata": {},
   "outputs": [],
   "source": [
    "frst_clk_18_20 = rh_18_20.copy()\n",
    "frst_clk_21_23 = rh_21_23.copy()\n",
    "\n",
    "first_click_rh_ins_18_20 = clk_18_20[ [\"ref_hash\",\"date\"] ].sort_values( \"date\" ).drop_duplicates( subset = \"ref_hash\", keep = \"first\" )\n",
    "first_click_rh_ins_21_23 = clk_21_23[ [\"ref_hash\",\"date\"] ].sort_values( \"date\" ).drop_duplicates( subset = \"ref_hash\", keep = \"first\" )\n",
    "\n",
    "first_click_rh_ins_18_20[\"time_to_frt_evt\"] = ( pd.to_datetime( first_click_rh_ins_18_20[\"date\"] ) -  dt.datetime( year = 2019, month = 4, day = 18 ) ).dt.total_seconds()\n",
    "first_click_rh_ins_21_23[\"time_to_frt_evt\"] = ( pd.to_datetime( first_click_rh_ins_21_23[\"date\"] ) -  dt.datetime( year = 2019, month = 4, day = 21 ) ).dt.total_seconds()\n",
    "\n",
    "first_click_rh_ins_18_20.drop( \"date\", axis = 1, inplace = True )\n",
    "first_click_rh_ins_21_23.drop( \"date\", axis = 1, inplace = True )\n",
    "\n",
    "frst_clk_18_20 = frst_clk_18_20.merge( first_click_rh_ins_18_20, how = \"left\", on = \"ref_hash\" )\n",
    "frst_clk_21_23 = frst_clk_21_23.merge( first_click_rh_ins_21_23, how = \"left\", on = \"ref_hash\" )\n",
    "\n",
    "#Los que tienen NaN es que nunca convirtieron. Los marcamos con el tiempo maximo\n",
    "frst_clk_18_20.fillna( 3 * 24 * 3600, inplace = True )\n",
    "frst_clk_21_23.fillna( 3 * 24 * 3600, inplace = True )\n",
    "\n",
    "frst_clk_18_20.to_csv( loc_ftr + \"\\\\frst_clk_18_20.csv\", index = False )\n",
    "frst_clk_21_23.to_csv( loc_ftr + \"\\\\frst_clk_21_23.csv\", index = False )"
   ]
  },
  {
   "cell_type": "markdown",
   "metadata": {},
   "source": [
    "## ========================================================================="
   ]
  },
  {
   "cell_type": "markdown",
   "metadata": {},
   "source": [
    "## <span style=\"color:green\"> **Tiempo hasta la ultima instalacion en esa ventana** </span> "
   ]
  },
  {
   "cell_type": "code",
   "execution_count": 15,
   "metadata": {},
   "outputs": [],
   "source": [
    "last_ins_18_20 = rh_18_20.copy()\n",
    "last_ins_21_23 = rh_21_23.copy()\n",
    "\n",
    "last_installs_rh_ins_18_20 = ins_18_20[ [\"ref_hash\",\"date\"] ].sort_values( \"date\", ascending = False ).drop_duplicates( subset = \"ref_hash\", keep = \"first\" )\n",
    "last_installs_rh_ins_21_23 = ins_21_23[ [\"ref_hash\",\"date\"] ].sort_values( \"date\", ascending = False ).drop_duplicates( subset = \"ref_hash\", keep = \"first\" )\n",
    "\n",
    "last_installs_rh_ins_18_20[\"time_to_lst_ins\"] = ( pd.to_datetime( last_installs_rh_ins_18_20[\"date\"] ) -  dt.datetime( year = 2019, month = 4, day = 18 ) ).dt.total_seconds()\n",
    "last_installs_rh_ins_21_23[\"time_to_lst_ins\"] = ( pd.to_datetime( last_installs_rh_ins_21_23[\"date\"] ) -  dt.datetime( year = 2019, month = 4, day = 21 ) ).dt.total_seconds()\n",
    "\n",
    "last_installs_rh_ins_18_20.drop( \"date\", axis = 1, inplace = True )\n",
    "last_installs_rh_ins_21_23.drop( \"date\", axis = 1, inplace = True )\n",
    "\n",
    "last_ins_18_20 = last_ins_18_20.merge( last_installs_rh_ins_18_20, how = \"left\", on = \"ref_hash\" )\n",
    "last_ins_21_23 = last_ins_21_23.merge( last_installs_rh_ins_21_23, how = \"left\", on = \"ref_hash\" )\n",
    "\n",
    "#Los que tienen NaN es que nunca convirtieron. Los marcamos con el tiempo maximo\n",
    "last_ins_18_20.fillna( 3 * 24 * 3600, inplace = True )\n",
    "last_ins_21_23.fillna( 3 * 24 * 3600, inplace = True )\n",
    "\n",
    "last_ins_18_20.to_csv( loc_ftr + \"\\\\last_ins_18_20.csv\", index = False )\n",
    "last_ins_21_23.to_csv( loc_ftr + \"\\\\last_ins_21_23.csv\", index = False )"
   ]
  },
  {
   "cell_type": "markdown",
   "metadata": {},
   "source": [
    "## <span style=\"color:green\"> **Tiempo hasta la ultima auction en esa ventana** </span> "
   ]
  },
  {
   "cell_type": "code",
   "execution_count": 11,
   "metadata": {},
   "outputs": [],
   "source": [
    "last_auc_18_20 = rh_18_20.copy()\n",
    "last_auc_21_23 = rh_21_23.copy()\n",
    "\n",
    "last_auctions_rh_ins_18_20 = auc_18_20[ [\"device_id\",\"date\"] ].sort_values( \"date\", ascending = False ).drop_duplicates( subset = \"device_id\", keep = \"first\" ).rename( columns = {\"device_id\":\"ref_hash\"} )\n",
    "last_auctions_rh_ins_21_23 = auc_21_23[ [\"device_id\",\"date\"] ].sort_values( \"date\", ascending = False ).drop_duplicates( subset = \"device_id\", keep = \"first\" ).rename( columns = {\"device_id\":\"ref_hash\"} )\n",
    "\n",
    "last_auctions_rh_ins_18_20[\"time_to_lst_auc\"] = ( pd.to_datetime( last_auctions_rh_ins_18_20[\"date\"] ) -  dt.datetime( year = 2019, month = 4, day = 18 ) ).dt.total_seconds()\n",
    "last_auctions_rh_ins_21_23[\"time_to_lst_auc\"] = ( pd.to_datetime( last_auctions_rh_ins_21_23[\"date\"] ) -  dt.datetime( year = 2019, month = 4, day = 21 ) ).dt.total_seconds()\n",
    "\n",
    "last_auctions_rh_ins_18_20.drop( \"date\", axis = 1, inplace = True )\n",
    "last_auctions_rh_ins_21_23.drop( \"date\", axis = 1, inplace = True )\n",
    "\n",
    "last_auc_18_20 = last_auc_18_20.merge( last_auctions_rh_ins_18_20, how = \"left\", on = \"ref_hash\" )\n",
    "last_auc_21_23 = last_auc_21_23.merge( last_auctions_rh_ins_21_23, how = \"left\", on = \"ref_hash\" )\n",
    "\n",
    "#Los que tienen NaN es que nunca convirtieron. Los marcamos con el tiempo maximo\n",
    "last_auc_18_20.fillna( 3 * 24 * 3600, inplace = True )\n",
    "last_auc_21_23.fillna( 3 * 24 * 3600, inplace = True )\n",
    "\n",
    "last_auc_18_20.to_csv( loc_ftr + \"\\\\last_auc_18_20.csv\", index = False )\n",
    "last_auc_21_23.to_csv( loc_ftr + \"\\\\last_auc_21_23.csv\", index = False )"
   ]
  },
  {
   "cell_type": "markdown",
   "metadata": {},
   "source": [
    "## <span style=\"color:green\"> **Tiempo hasta la ultimo evento en esa ventana** </span> "
   ]
  },
  {
   "cell_type": "code",
   "execution_count": 12,
   "metadata": {},
   "outputs": [],
   "source": [
    "last_evt_18_20 = rh_18_20.copy()\n",
    "last_evt_21_23 = rh_21_23.copy()\n",
    "\n",
    "last_event_rh_ins_18_20 = evt_18_20[ [\"ref_hash\",\"date\"] ].sort_values( \"date\", ascending = False ).drop_duplicates( subset = \"ref_hash\", keep = \"first\" )\n",
    "last_event_rh_ins_21_23 = evt_21_23[ [\"ref_hash\",\"date\"] ].sort_values( \"date\", ascending = False ).drop_duplicates( subset = \"ref_hash\", keep = \"first\" )\n",
    "\n",
    "last_event_rh_ins_18_20[\"time_to_lst_evt\"] = ( pd.to_datetime( last_event_rh_ins_18_20[\"date\"] ) -  dt.datetime( year = 2019, month = 4, day = 18 ) ).dt.total_seconds()\n",
    "last_event_rh_ins_21_23[\"time_to_lst_evt\"] = ( pd.to_datetime( last_event_rh_ins_21_23[\"date\"] ) -  dt.datetime( year = 2019, month = 4, day = 21 ) ).dt.total_seconds()\n",
    "\n",
    "last_event_rh_ins_18_20.drop( \"date\", axis = 1, inplace = True )\n",
    "last_event_rh_ins_21_23.drop( \"date\", axis = 1, inplace = True )\n",
    "\n",
    "last_evt_18_20 = last_evt_18_20.merge( last_event_rh_ins_18_20, how = \"left\", on = \"ref_hash\" )\n",
    "last_evt_21_23 = last_evt_21_23.merge( last_event_rh_ins_21_23, how = \"left\", on = \"ref_hash\" )\n",
    "\n",
    "#Los que tienen NaN es que nunca convirtieron. Los marcamos con el tiempo maximo\n",
    "last_evt_18_20.fillna( 3 * 24 * 3600, inplace = True )\n",
    "last_evt_21_23.fillna( 3 * 24 * 3600, inplace = True )\n",
    "\n",
    "last_evt_18_20.to_csv( loc_ftr + \"\\\\last_evt_18_20.csv\", index = False )\n",
    "last_evt_21_23.to_csv( loc_ftr + \"\\\\last_evt_21_23.csv\", index = False )"
   ]
  },
  {
   "cell_type": "markdown",
   "metadata": {},
   "source": [
    "## <span style=\"color:green\"> **Tiempo hasta el ultimo click en esa ventana** </span> "
   ]
  },
  {
   "cell_type": "code",
   "execution_count": 20,
   "metadata": {},
   "outputs": [],
   "source": [
    "last_clk_18_20 = rh_18_20.copy()\n",
    "last_clk_21_23 = rh_21_23.copy()\n",
    "\n",
    "last_click_rh_ins_18_20 = clk_18_20[ [\"ref_hash\",\"date\"] ].sort_values( \"date\", ascending = False ).drop_duplicates( subset = \"ref_hash\", keep = \"first\" )\n",
    "last_click_rh_ins_21_23 = clk_21_23[ [\"ref_hash\",\"date\"] ].sort_values( \"date\", ascending = False ).drop_duplicates( subset = \"ref_hash\", keep = \"first\" )\n",
    "\n",
    "last_click_rh_ins_18_20[\"time_to_lst_evt\"] = ( pd.to_datetime( last_click_rh_ins_18_20[\"date\"] ) -  dt.datetime( year = 2019, month = 4, day = 18 ) ).dt.total_seconds()\n",
    "last_click_rh_ins_21_23[\"time_to_lst_evt\"] = ( pd.to_datetime( last_click_rh_ins_21_23[\"date\"] ) -  dt.datetime( year = 2019, month = 4, day = 21 ) ).dt.total_seconds()\n",
    "\n",
    "last_click_rh_ins_18_20.drop( \"date\", axis = 1, inplace = True )\n",
    "last_click_rh_ins_21_23.drop( \"date\", axis = 1, inplace = True )\n",
    "\n",
    "last_clk_18_20 = last_clk_18_20.merge( last_click_rh_ins_18_20, how = \"left\", on = \"ref_hash\" )\n",
    "last_clk_21_23 = last_clk_21_23.merge( last_click_rh_ins_21_23, how = \"left\", on = \"ref_hash\" )\n",
    "\n",
    "#Los que tienen NaN es que nunca convirtieron. Los marcamos con el tiempo maximo\n",
    "last_clk_18_20.fillna( 3 * 24 * 3600, inplace = True )\n",
    "last_clk_21_23.fillna( 3 * 24 * 3600, inplace = True )\n",
    "\n",
    "last_clk_18_20.to_csv( loc_ftr + \"\\\\last_clk_18_20.csv\", index = False )\n",
    "last_clk_21_23.to_csv( loc_ftr + \"\\\\last_clk_21_23.csv\", index = False )"
   ]
  },
  {
   "cell_type": "markdown",
   "metadata": {},
   "source": [
    "## ========================================================================="
   ]
  },
  {
   "cell_type": "markdown",
   "metadata": {},
   "source": [
    "## <span style=\"color:green\"> **Participo en mas de una subasta** </span> "
   ]
  },
  {
   "cell_type": "markdown",
   "metadata": {},
   "source": [
    "## <span style=\"color:Orange\"> **Mean Encoding** </span> "
   ]
  },
  {
   "cell_type": "code",
   "execution_count": 21,
   "metadata": {},
   "outputs": [],
   "source": [
    "cant_ins_18_20 = rh_18_20.copy()\n",
    "cant_ins_21_23 = rh_21_23.copy()\n",
    "\n",
    "cant_ins_18_20 = cant_ins_18_20.merge( ins_18_20[\"ref_hash\"].value_counts().to_frame().reset_index().rename( columns = {\"ref_hash\": \"mt_1_ins\", \"index\":\"ref_hash\"} ), how = \"left\", on = \"ref_hash\" )\n",
    "cant_ins_21_23 = cant_ins_21_23.merge( ins_21_23[\"ref_hash\"].value_counts().to_frame().reset_index().rename( columns = {\"ref_hash\": \"mt_1_ins\", \"index\":\"ref_hash\"} ), how = \"left\", on = \"ref_hash\" )\n",
    "\n",
    "cant_ins_18_20.fillna( 0, inplace = True )\n",
    "cant_ins_21_23.fillna( 0, inplace = True )\n",
    "\n",
    "cant_ins_18_20['mt_1_ins'] = (cant_ins_18_20['mt_1_ins'] > 1).astype('int8')\n",
    "cant_ins_21_23['mt_1_ins'] = (cant_ins_21_23['mt_1_ins'] > 1).astype('int8')\n",
    "\n",
    "cant_ins_18_20['me_mt_1_ins'] = ( cant_ins_18_20.groupby('mt_1_ins').transform('count') ) / len(cant_ins_18_20['mt_1_ins'])\n",
    "cant_ins_21_23['me_mt_1_ins'] = ( cant_ins_21_23.groupby('mt_1_ins').transform('count') ) / len(cant_ins_21_23['mt_1_ins'])\n",
    "\n",
    "del cant_ins_18_20['mt_1_ins']\n",
    "del cant_ins_21_23['mt_1_ins']\n",
    "\n",
    "cant_ins_18_20.to_csv( loc_ftr + \"\\\\me_mt_1_ins_18_20.csv\", index = False )\n",
    "cant_ins_21_23.to_csv( loc_ftr + \"\\\\me_mt_1_ins_21_23.csv\", index = False )"
   ]
  },
  {
   "cell_type": "markdown",
   "metadata": {},
   "source": [
    "## <span style=\"color:Orange\"> **One-hot Encoding** </span> "
   ]
  },
  {
   "cell_type": "code",
   "execution_count": 14,
   "metadata": {},
   "outputs": [],
   "source": [
    "cant_ins_18_20 = rh_18_20.copy()\n",
    "cant_ins_21_23 = rh_21_23.copy()\n",
    "\n",
    "cant_ins_18_20 = cant_ins_18_20.merge( ins_18_20[\"ref_hash\"].value_counts().to_frame().reset_index().rename( columns = {\"ref_hash\": \"mt_1_ins\", \"index\":\"ref_hash\"} ), how = \"left\", on = \"ref_hash\" )\n",
    "cant_ins_21_23 = cant_ins_21_23.merge( ins_21_23[\"ref_hash\"].value_counts().to_frame().reset_index().rename( columns = {\"ref_hash\": \"mt_1_ins\", \"index\":\"ref_hash\"} ), how = \"left\", on = \"ref_hash\" )\n",
    "\n",
    "cant_ins_18_20.fillna( 0, inplace = True )\n",
    "cant_ins_21_23.fillna( 0, inplace = True )\n",
    "\n",
    "cant_ins_18_20['mt_1_ins'] = (cant_ins_18_20['mt_1_ins'] > 1).astype('int8')\n",
    "cant_ins_21_23['mt_1_ins'] = (cant_ins_21_23['mt_1_ins'] > 1).astype('int8')\n",
    "\n",
    "cant_ins_18_20.to_csv( loc_ftr + \"\\\\mt_1_ins_18_20.csv\", index = False )\n",
    "cant_ins_21_23.to_csv( loc_ftr + \"\\\\mt_1_ins_21_23.csv\", index = False )"
   ]
  },
  {
   "cell_type": "markdown",
   "metadata": {},
   "source": [
    "## ========================================================================="
   ]
  },
  {
   "cell_type": "markdown",
   "metadata": {},
   "source": [
    "## <span style=\"color:green\"> **Instalo entre 21 hs y 3 hs (Noche)** </span> "
   ]
  },
  {
   "cell_type": "markdown",
   "metadata": {},
   "source": [
    "## <span style=\"color:Orange\"> **Mean Encoding** </span> "
   ]
  },
  {
   "cell_type": "code",
   "execution_count": 23,
   "metadata": {},
   "outputs": [],
   "source": [
    "ins_18_20['ins_21_3'] = (ins_18_20['date'].dt.hour > 20) | (ins_18_20['date'].dt.hour < 4) \n",
    "ins_21_23['ins_21_3'] = (ins_21_23['date'].dt.hour > 20) | (ins_21_23['date'].dt.hour < 4)\n",
    "\n",
    "ins_night_18_20 = rh_18_20.copy()\n",
    "ins_night_21_23 = rh_21_23.copy()\n",
    "\n",
    "hour_mode_18_20 = ins_18_20.groupby('ref_hash').agg({'ins_21_3':'sum'}).reset_index()\n",
    "hour_mode_21_23 = ins_21_23.groupby('ref_hash').agg({'ins_21_3':'sum'}).reset_index()\n",
    "\n",
    "ins_night_18_20 = ins_night_18_20.merge( hour_mode_18_20, how = \"left\", on = \"ref_hash\" )\n",
    "ins_night_21_23 = ins_night_21_23.merge( hour_mode_21_23, how = \"left\", on = \"ref_hash\" )\n",
    "\n",
    "ins_night_18_20[\"ins_21_3\"] =  (ins_night_18_20[\"ins_21_3\"] > 1).astype('int8')\n",
    "ins_night_21_23[\"ins_21_3\"] =  (ins_night_21_23[\"ins_21_3\"] > 1).astype('int8')\n",
    "\n",
    "ins_night_18_20['me_ins_21_3'] = ( ins_night_18_20.groupby('ins_21_3').transform('count') ) / len(ins_night_18_20['ins_21_3'])\n",
    "ins_night_21_23['me_ins_21_3'] = ( ins_night_21_23.groupby('ins_21_3').transform('count') ) / len(ins_night_21_23['ins_21_3'])\n",
    "\n",
    "del ins_night_18_20[\"ins_21_3\"]\n",
    "del ins_night_21_23[\"ins_21_3\"]\n",
    "\n",
    "ins_night_18_20.to_csv( loc_ftr + \"\\\\me_ins_night_18_20.csv\", index = False )\n",
    "ins_night_21_23.to_csv( loc_ftr + \"\\\\me_ins_night_21_23.csv\", index = False )\n",
    "\n",
    "del ins_18_20['ins_21_3']\n",
    "del ins_21_23['ins_21_3']"
   ]
  },
  {
   "cell_type": "markdown",
   "metadata": {},
   "source": [
    "## <span style=\"color:Orange\"> **One-hot Encoding** </span> "
   ]
  },
  {
   "cell_type": "code",
   "execution_count": 24,
   "metadata": {},
   "outputs": [],
   "source": [
    "ins_18_20['ins_21_3'] = (ins_18_20['date'].dt.hour > 20) | (ins_18_20['date'].dt.hour < 4) \n",
    "ins_21_23['ins_21_3'] = (ins_21_23['date'].dt.hour > 20) | (ins_21_23['date'].dt.hour < 4)\n",
    "\n",
    "ins_night_18_20 = rh_18_20.copy()\n",
    "ins_night_21_23 = rh_21_23.copy()\n",
    "\n",
    "hour_mode_18_20 = ins_18_20.groupby('ref_hash').agg({'ins_21_3':'sum'}).reset_index()\n",
    "hour_mode_21_23 = ins_21_23.groupby('ref_hash').agg({'ins_21_3':'sum'}).reset_index()\n",
    "\n",
    "ins_night_18_20 = ins_night_18_20.merge( hour_mode_18_20, how = \"left\", on = \"ref_hash\" )\n",
    "ins_night_21_23 = ins_night_21_23.merge( hour_mode_21_23, how = \"left\", on = \"ref_hash\" )\n",
    "\n",
    "ins_night_18_20[\"ins_21_3\"] =  (ins_night_18_20[\"ins_21_3\"] > 1).astype('int8')\n",
    "ins_night_21_23[\"ins_21_3\"] =  (ins_night_21_23[\"ins_21_3\"] > 1).astype('int8')\n",
    "\n",
    "ins_night_18_20.to_csv( loc_ftr + \"\\\\ins_night_18_20.csv\", index = False )\n",
    "ins_night_21_23.to_csv( loc_ftr + \"\\\\ins_night_21_23.csv\", index = False )\n",
    "\n",
    "del ins_18_20['ins_21_3']\n",
    "del ins_21_23['ins_21_3']"
   ]
  },
  {
   "cell_type": "markdown",
   "metadata": {},
   "source": [
    "## <span style=\"color:green\"> **Instalo entre 4 hs y 10 hs (Mañana)** </span> "
   ]
  },
  {
   "cell_type": "markdown",
   "metadata": {},
   "source": [
    "## <span style=\"color:Orange\"> **Mean Encoding** </span> "
   ]
  },
  {
   "cell_type": "code",
   "execution_count": 25,
   "metadata": {},
   "outputs": [],
   "source": [
    "ins_18_20['ins_4_10'] = (ins_18_20['date'].dt.hour > 3) & (ins_18_20['date'].dt.hour < 11) \n",
    "ins_21_23['ins_4_10'] = (ins_21_23['date'].dt.hour > 3) & (ins_21_23['date'].dt.hour < 11)\n",
    "\n",
    "ins_morn_18_20 = rh_18_20.copy()\n",
    "ins_morn_21_23 = rh_21_23.copy()\n",
    "\n",
    "hour_mode_18_20 = ins_18_20.groupby('ref_hash').agg({'ins_4_10':'sum'}).reset_index()\n",
    "hour_mode_21_23 = ins_21_23.groupby('ref_hash').agg({'ins_4_10':'sum'}).reset_index()\n",
    "\n",
    "ins_morn_18_20 = ins_morn_18_20.merge( hour_mode_18_20, how = \"left\", on = \"ref_hash\" )\n",
    "ins_morn_21_23 = ins_morn_21_23.merge( hour_mode_21_23, how = \"left\", on = \"ref_hash\" )\n",
    "\n",
    "ins_morn_18_20[\"ins_4_10\"] =  (ins_morn_18_20[\"ins_4_10\"] > 1).astype('int8')\n",
    "ins_morn_21_23[\"ins_4_10\"] =  (ins_morn_21_23[\"ins_4_10\"] > 1).astype('int8')\n",
    "\n",
    "ins_morn_18_20['me_ins_4_10'] = ( ins_morn_18_20.groupby('ins_4_10').transform('count') ) / len(ins_morn_18_20['ins_4_10'])\n",
    "ins_morn_21_23['me_ins_4_10'] = ( ins_morn_21_23.groupby('ins_4_10').transform('count') ) / len(ins_morn_21_23['ins_4_10'])\n",
    "\n",
    "del ins_morn_18_20[\"ins_4_10\"]\n",
    "del ins_morn_21_23[\"ins_4_10\"]\n",
    "\n",
    "ins_morn_18_20.to_csv( loc_ftr + \"\\\\me_ins_morn_18_20.csv\", index = False )\n",
    "ins_morn_21_23.to_csv( loc_ftr + \"\\\\me_ins_morn_21_23.csv\", index = False )\n",
    "\n",
    "del ins_18_20['ins_4_10']\n",
    "del ins_21_23['ins_4_10']"
   ]
  },
  {
   "cell_type": "markdown",
   "metadata": {},
   "source": [
    "## <span style=\"color:Orange\"> **One-hot Encoding** </span> "
   ]
  },
  {
   "cell_type": "code",
   "execution_count": 26,
   "metadata": {},
   "outputs": [],
   "source": [
    "ins_18_20['ins_4_10'] = (ins_18_20['date'].dt.hour > 3) & (ins_18_20['date'].dt.hour < 11) \n",
    "ins_21_23['ins_4_10'] = (ins_21_23['date'].dt.hour > 3) & (ins_21_23['date'].dt.hour < 11)\n",
    "\n",
    "ins_morn_18_20 = rh_18_20.copy()\n",
    "ins_morn_21_23 = rh_21_23.copy()\n",
    "\n",
    "hour_mode_18_20 = ins_18_20.groupby('ref_hash').agg({'ins_4_10':'sum'}).reset_index()\n",
    "hour_mode_21_23 = ins_21_23.groupby('ref_hash').agg({'ins_4_10':'sum'}).reset_index()\n",
    "\n",
    "ins_morn_18_20 = ins_morn_18_20.merge( hour_mode_18_20, how = \"left\", on = \"ref_hash\" )\n",
    "ins_morn_21_23 = ins_morn_21_23.merge( hour_mode_21_23, how = \"left\", on = \"ref_hash\" )\n",
    "\n",
    "ins_morn_18_20[\"ins_4_10\"] =  (ins_morn_18_20[\"ins_4_10\"] > 1).astype('int8')\n",
    "ins_morn_21_23[\"ins_4_10\"] =  (ins_morn_21_23[\"ins_4_10\"] > 1).astype('int8')\n",
    "\n",
    "ins_morn_18_20.to_csv( loc_ftr + \"\\\\ins_morn_18_20.csv\", index = False )\n",
    "ins_morn_21_23.to_csv( loc_ftr + \"\\\\ins_morn_21_23.csv\", index = False )\n",
    "\n",
    "del ins_18_20['ins_4_10']\n",
    "del ins_21_23['ins_4_10']"
   ]
  },
  {
   "cell_type": "markdown",
   "metadata": {},
   "source": [
    "## <span style=\"color:green\"> **Instalo entre 11 hs y 15 hs (Medio dia)** </span> "
   ]
  },
  {
   "cell_type": "markdown",
   "metadata": {},
   "source": [
    "## <span style=\"color:Orange\"> **Mean Encoding** </span> "
   ]
  },
  {
   "cell_type": "code",
   "execution_count": 27,
   "metadata": {},
   "outputs": [],
   "source": [
    "ins_18_20['ins_11_15'] = (ins_18_20['date'].dt.hour > 10) & (ins_18_20['date'].dt.hour < 16) \n",
    "ins_21_23['ins_11_15'] = (ins_21_23['date'].dt.hour > 10) & (ins_21_23['date'].dt.hour < 16)\n",
    "\n",
    "ins_midday_18_20 = rh_18_20.copy()\n",
    "ins_midday_21_23 = rh_21_23.copy()\n",
    "\n",
    "hour_mode_18_20 = ins_18_20.groupby('ref_hash').agg({'ins_11_15':'sum'}).reset_index()\n",
    "hour_mode_21_23 = ins_21_23.groupby('ref_hash').agg({'ins_11_15':'sum'}).reset_index()\n",
    "\n",
    "ins_midday_18_20 = ins_midday_18_20.merge( hour_mode_18_20, how = \"left\", on = \"ref_hash\" )\n",
    "ins_midday_21_23 = ins_midday_21_23.merge( hour_mode_21_23, how = \"left\", on = \"ref_hash\" )\n",
    "\n",
    "ins_midday_18_20[\"ins_11_15\"] =  (ins_midday_18_20[\"ins_11_15\"] > 1).astype('int8')\n",
    "ins_midday_21_23[\"ins_11_15\"] =  (ins_midday_21_23[\"ins_11_15\"] > 1).astype('int8')\n",
    "\n",
    "ins_midday_18_20['me_ins_11_15'] = ( ins_midday_18_20.groupby('ins_11_15').transform('count') ) / len(ins_midday_18_20['ins_11_15'])\n",
    "ins_midday_21_23['me_ins_11_15'] = ( ins_midday_21_23.groupby('ins_11_15').transform('count') ) / len(ins_midday_21_23['ins_11_15'])\n",
    "\n",
    "del ins_midday_18_20[\"ins_11_15\"]\n",
    "del ins_midday_21_23[\"ins_11_15\"]\n",
    "\n",
    "ins_midday_18_20.to_csv( loc_ftr + \"\\\\me_ins_midday_18_20.csv\", index = False )\n",
    "ins_midday_21_23.to_csv( loc_ftr + \"\\\\me_ins_midday_21_23.csv\", index = False )\n",
    "\n",
    "del ins_18_20['ins_11_15']\n",
    "del ins_21_23['ins_11_15']"
   ]
  },
  {
   "cell_type": "markdown",
   "metadata": {},
   "source": [
    "## <span style=\"color:Orange\"> **One-hot Encoding** </span> "
   ]
  },
  {
   "cell_type": "code",
   "execution_count": 28,
   "metadata": {},
   "outputs": [],
   "source": [
    "ins_18_20['ins_11_15'] = (ins_18_20['date'].dt.hour > 10) & (ins_18_20['date'].dt.hour < 16) \n",
    "ins_21_23['ins_11_15'] = (ins_21_23['date'].dt.hour > 10) & (ins_21_23['date'].dt.hour < 16)\n",
    "\n",
    "ins_midday_18_20 = rh_18_20.copy()\n",
    "ins_midday_21_23 = rh_21_23.copy()\n",
    "\n",
    "hour_mode_18_20 = ins_18_20.groupby('ref_hash').agg({'ins_11_15':'sum'}).reset_index()\n",
    "hour_mode_21_23 = ins_21_23.groupby('ref_hash').agg({'ins_11_15':'sum'}).reset_index()\n",
    "\n",
    "ins_midday_18_20 = ins_midday_18_20.merge( hour_mode_18_20, how = \"left\", on = \"ref_hash\" )\n",
    "ins_midday_21_23 = ins_midday_21_23.merge( hour_mode_21_23, how = \"left\", on = \"ref_hash\" )\n",
    "\n",
    "ins_midday_18_20[\"ins_11_15\"] =  (ins_midday_18_20[\"ins_11_15\"] > 1).astype('int8')\n",
    "ins_midday_21_23[\"ins_11_15\"] =  (ins_midday_21_23[\"ins_11_15\"] > 1).astype('int8')\n",
    "\n",
    "ins_midday_18_20.to_csv( loc_ftr + \"\\\\ins_midday_18_20.csv\", index = False )\n",
    "ins_midday_21_23.to_csv( loc_ftr + \"\\\\ins_midday_21_23.csv\", index = False )\n",
    "\n",
    "del ins_18_20['ins_11_15']\n",
    "del ins_21_23['ins_11_15']"
   ]
  },
  {
   "cell_type": "markdown",
   "metadata": {},
   "source": [
    "## <span style=\"color:green\"> **Instalo entre 16 hs y 20 hs (Tarde)** </span> "
   ]
  },
  {
   "cell_type": "markdown",
   "metadata": {},
   "source": [
    "## <span style=\"color:Orange\"> **Mean Encoding** </span> "
   ]
  },
  {
   "cell_type": "code",
   "execution_count": 31,
   "metadata": {},
   "outputs": [],
   "source": [
    "ins_18_20['ins_16_20'] = (ins_18_20['date'].dt.hour > 15) & (ins_18_20['date'].dt.hour < 21) \n",
    "ins_21_23['ins_16_20'] = (ins_21_23['date'].dt.hour > 15) & (ins_21_23['date'].dt.hour < 21)\n",
    "\n",
    "ins_after_18_20 = rh_18_20.copy()\n",
    "ins_after_21_23 = rh_21_23.copy()\n",
    "\n",
    "hour_mode_18_20 = ins_18_20.groupby('ref_hash').agg({'ins_16_20':'sum'}).reset_index()\n",
    "hour_mode_21_23 = ins_21_23.groupby('ref_hash').agg({'ins_16_20':'sum'}).reset_index()\n",
    "\n",
    "ins_after_18_20 = ins_after_18_20.merge( hour_mode_18_20, how = \"left\", on = \"ref_hash\" )\n",
    "ins_after_21_23 = ins_after_21_23.merge( hour_mode_21_23, how = \"left\", on = \"ref_hash\" )\n",
    "\n",
    "ins_after_18_20[\"ins_16_20\"] =  (ins_after_18_20[\"ins_16_20\"] > 1).astype('int8')\n",
    "ins_after_21_23[\"ins_16_20\"] =  (ins_after_21_23[\"ins_16_20\"] > 1).astype('int8')\n",
    "\n",
    "ins_after_18_20['me_ins_16_20'] = ( ins_after_18_20.groupby('ins_16_20').transform('count') ) / len(ins_after_18_20['ins_16_20'])\n",
    "ins_after_21_23['me_ins_16_20'] = ( ins_after_21_23.groupby('ins_16_20').transform('count') ) / len(ins_after_21_23['ins_16_20'])\n",
    "\n",
    "del ins_after_18_20[\"ins_16_20\"]\n",
    "del ins_after_21_23[\"ins_16_20\"]\n",
    "\n",
    "\n",
    "ins_after_18_20.to_csv( loc_ftr + \"\\\\me_ins_after_18_20.csv\", index = False )\n",
    "ins_after_21_23.to_csv( loc_ftr + \"\\\\me_ins_after_21_23.csv\", index = False )\n",
    "\n",
    "del ins_18_20['ins_16_20']\n",
    "del ins_21_23['ins_16_20']"
   ]
  },
  {
   "cell_type": "markdown",
   "metadata": {},
   "source": [
    "## <span style=\"color:Orange\"> **One-hot Encoding** </span> "
   ]
  },
  {
   "cell_type": "code",
   "execution_count": 30,
   "metadata": {},
   "outputs": [],
   "source": [
    "ins_18_20['ins_16_20'] = (ins_18_20['date'].dt.hour > 15) & (ins_18_20['date'].dt.hour < 21) \n",
    "ins_21_23['ins_16_20'] = (ins_21_23['date'].dt.hour > 15) & (ins_21_23['date'].dt.hour < 21)\n",
    "\n",
    "ins_after_18_20 = rh_18_20.copy()\n",
    "ins_after_21_23 = rh_21_23.copy()\n",
    "\n",
    "hour_mode_18_20 = ins_18_20.groupby('ref_hash').agg({'ins_16_20':'sum'}).reset_index()\n",
    "hour_mode_21_23 = ins_21_23.groupby('ref_hash').agg({'ins_16_20':'sum'}).reset_index()\n",
    "\n",
    "ins_after_18_20 = ins_after_18_20.merge( hour_mode_18_20, how = \"left\", on = \"ref_hash\" )\n",
    "ins_after_21_23 = ins_after_21_23.merge( hour_mode_21_23, how = \"left\", on = \"ref_hash\" )\n",
    "\n",
    "ins_after_18_20[\"ins_16_20\"] =  (ins_after_18_20[\"ins_16_20\"] > 1).astype('int8')\n",
    "ins_after_21_23[\"ins_16_20\"] =  (ins_after_21_23[\"ins_16_20\"] > 1).astype('int8')\n",
    "\n",
    "ins_after_18_20.to_csv( loc_ftr + \"\\\\ins_after_18_20.csv\", index = False )\n",
    "ins_after_21_23.to_csv( loc_ftr + \"\\\\ins_after_21_23.csv\", index = False )\n",
    "\n",
    "del ins_18_20['ins_16_20']\n",
    "del ins_21_23['ins_16_20']"
   ]
  },
  {
   "cell_type": "markdown",
   "metadata": {},
   "source": [
    "## ========================================================================="
   ]
  },
  {
   "cell_type": "markdown",
   "metadata": {},
   "source": [
    "## <span style=\"color:green\"> **Recibio subasta entre 21 hs y 3 hs (Noche)** </span> "
   ]
  },
  {
   "cell_type": "markdown",
   "metadata": {},
   "source": [
    "## <span style=\"color:Orange\"> **Mean Encoding** </span> "
   ]
  },
  {
   "cell_type": "code",
   "execution_count": 31,
   "metadata": {},
   "outputs": [],
   "source": [
    "auc_18_20['auc_21_3'] = ( pd.to_datetime( auc_18_20['date'] ).dt.hour < 4) | ( pd.to_datetime( auc_18_20['date'] ).dt.hour > 20)\n",
    "auc_21_23['auc_21_3'] = ( pd.to_datetime( auc_21_23['date'] ).dt.hour < 4) | ( pd.to_datetime( auc_21_23['date'] ).dt.hour > 20)\n",
    "\n",
    "auc_night_18_20 = rh_18_20.copy()\n",
    "auc_night_21_23 = rh_21_23.copy()\n",
    "\n",
    "hour_mode_18_20 = auc_18_20.groupby('device_id').agg({'auc_21_3':'sum'}).reset_index().rename( columns = {\"device_id\":\"ref_hash\"} )\n",
    "hour_mode_21_23 = auc_21_23.groupby('device_id').agg({'auc_21_3':'sum'}).reset_index().rename( columns = {\"device_id\":\"ref_hash\"} )\n",
    "\n",
    "auc_night_18_20 = auc_night_18_20.merge( hour_mode_18_20, how = \"left\", on = \"ref_hash\" )\n",
    "auc_night_21_23 = auc_night_21_23.merge( hour_mode_21_23, how = \"left\", on = \"ref_hash\" )\n",
    "\n",
    "auc_night_18_20[\"auc_21_3\"] =  (auc_night_18_20[\"auc_21_3\"] > 1).astype('int8')\n",
    "auc_night_21_23[\"auc_21_3\"] =  (auc_night_21_23[\"auc_21_3\"] > 1).astype('int8')\n",
    "\n",
    "auc_night_18_20['me_auc_21_3'] = ( auc_night_18_20.groupby('auc_21_3').transform('count') ) / len(auc_night_18_20['auc_21_3'])\n",
    "auc_night_21_23['me_auc_21_3'] = ( auc_night_21_23.groupby('auc_21_3').transform('count') ) / len(auc_night_21_23['auc_21_3'])\n",
    "\n",
    "del auc_night_18_20[\"auc_21_3\"]\n",
    "del auc_night_21_23[\"auc_21_3\"]\n",
    "\n",
    "auc_night_18_20.to_csv( loc_ftr + \"\\\\me_auc_night_18_20.csv\", index = False )\n",
    "auc_night_21_23.to_csv( loc_ftr + \"\\\\me_auc_night_21_23.csv\", index = False )\n",
    "\n",
    "del auc_18_20['auc_21_3']\n",
    "del auc_21_23['auc_21_3']"
   ]
  },
  {
   "cell_type": "markdown",
   "metadata": {},
   "source": [
    "## <span style=\"color:Orange\"> **One-hot Encoding** </span> "
   ]
  },
  {
   "cell_type": "code",
   "execution_count": 16,
   "metadata": {},
   "outputs": [],
   "source": [
    "auc_18_20['auc_21_3'] = ( pd.to_datetime( auc_18_20['date'] ).dt.hour < 4) | ( pd.to_datetime( auc_18_20['date'] ).dt.hour > 20)\n",
    "auc_21_23['auc_21_3'] = ( pd.to_datetime( auc_21_23['date'] ).dt.hour < 4) | ( pd.to_datetime( auc_21_23['date'] ).dt.hour > 20)\n",
    "\n",
    "auc_night_18_20 = rh_18_20.copy()\n",
    "auc_night_21_23 = rh_21_23.copy()\n",
    "\n",
    "hour_mode_18_20 = auc_18_20.groupby('device_id').agg({'auc_21_3':'sum'}).reset_index().rename( columns = {\"device_id\":\"ref_hash\"} )\n",
    "hour_mode_21_23 = auc_21_23.groupby('device_id').agg({'auc_21_3':'sum'}).reset_index().rename( columns = {\"device_id\":\"ref_hash\"} )\n",
    "\n",
    "auc_night_18_20 = auc_night_18_20.merge( hour_mode_18_20, how = \"left\", on = \"ref_hash\" )\n",
    "auc_night_21_23 = auc_night_21_23.merge( hour_mode_21_23, how = \"left\", on = \"ref_hash\" )\n",
    "\n",
    "auc_night_18_20[\"auc_21_3\"] =  (auc_night_18_20[\"auc_21_3\"] > 1).astype('int8')\n",
    "auc_night_21_23[\"auc_21_3\"] =  (auc_night_21_23[\"auc_21_3\"] > 1).astype('int8')\n",
    "\n",
    "auc_night_18_20.to_csv( loc_ftr + \"\\\\auc_night_18_20.csv\", index = False )\n",
    "auc_night_21_23.to_csv( loc_ftr + \"\\\\auc_night_21_23.csv\", index = False )\n",
    "\n",
    "del auc_18_20['auc_21_3']\n",
    "del auc_21_23['auc_21_3']"
   ]
  },
  {
   "cell_type": "markdown",
   "metadata": {},
   "source": [
    "## <span style=\"color:green\"> **Recibio subasta entre 4 hs y 10 hs (Mañana)** </span> "
   ]
  },
  {
   "cell_type": "markdown",
   "metadata": {},
   "source": [
    "## <span style=\"color:Orange\"> **Mean Encoding** </span> "
   ]
  },
  {
   "cell_type": "code",
   "execution_count": 31,
   "metadata": {},
   "outputs": [],
   "source": [
    "auc_18_20['auc_4_10'] = ( pd.to_datetime( auc_18_20['date'] ).dt.hour < 11) & ( pd.to_datetime( auc_18_20['date'] ).dt.hour > 3)\n",
    "auc_21_23['auc_4_10'] = ( pd.to_datetime( auc_21_23['date'] ).dt.hour < 11) & ( pd.to_datetime( auc_21_23['date'] ).dt.hour > 3)\n",
    "\n",
    "auc_morn_18_20 = rh_18_20.copy()\n",
    "auc_morn_21_23 = rh_21_23.copy()\n",
    "\n",
    "hour_mode_18_20 = auc_18_20.groupby('device_id').agg({'auc_4_10':'sum'}).reset_index().rename( columns = {\"device_id\":\"ref_hash\"} )\n",
    "hour_mode_21_23 = auc_21_23.groupby('device_id').agg({'auc_4_10':'sum'}).reset_index().rename( columns = {\"device_id\":\"ref_hash\"} )\n",
    "\n",
    "auc_morn_18_20 = auc_morn_18_20.merge( hour_mode_18_20, how = \"left\", on = \"ref_hash\" )\n",
    "auc_morn_21_23 = auc_morn_21_23.merge( hour_mode_21_23, how = \"left\", on = \"ref_hash\" )\n",
    "\n",
    "auc_morn_18_20[\"auc_4_10\"] =  (auc_morn_18_20[\"auc_4_10\"] > 1).astype('int8')\n",
    "auc_morn_21_23[\"auc_4_10\"] =  (auc_morn_21_23[\"auc_4_10\"] > 1).astype('int8')\n",
    "\n",
    "auc_morn_18_20['me_auc_4_10'] = ( auc_morn_18_20.groupby('auc_4_10').transform('count') ) / len(auc_morn_18_20['auc_4_10'])\n",
    "auc_morn_21_23['me_auc_4_10'] = ( auc_morn_21_23.groupby('auc_4_10').transform('count') ) / len(auc_morn_21_23['auc_4_10'])\n",
    "\n",
    "del auc_morn_18_20[\"auc_4_10\"]\n",
    "del auc_morn_21_23[\"auc_4_10\"]\n",
    "\n",
    "auc_morn_18_20.to_csv( loc_ftr + \"\\\\me_auc_morn_18_20.csv\", index = False )\n",
    "auc_morn_21_23.to_csv( loc_ftr + \"\\\\me_auc_morn_21_23.csv\", index = False )\n",
    "\n",
    "del auc_18_20['auc_4_10']\n",
    "del auc_21_23['auc_4_10']"
   ]
  },
  {
   "cell_type": "markdown",
   "metadata": {},
   "source": [
    "## <span style=\"color:Orange\"> **One-hot Encoding** </span> "
   ]
  },
  {
   "cell_type": "code",
   "execution_count": 16,
   "metadata": {},
   "outputs": [],
   "source": [
    "auc_18_20['auc_4_10'] = ( pd.to_datetime( auc_18_20['date'] ).dt.hour < 11) & ( pd.to_datetime( auc_18_20['date'] ).dt.hour > 3)\n",
    "auc_21_23['auc_4_10'] = ( pd.to_datetime( auc_21_23['date'] ).dt.hour < 11) & ( pd.to_datetime( auc_21_23['date'] ).dt.hour > 3)\n",
    "\n",
    "auc_morn_18_20 = rh_18_20.copy()\n",
    "auc_morn_21_23 = rh_21_23.copy()\n",
    "\n",
    "hour_mode_18_20 = auc_18_20.groupby('device_id').agg({'auc_4_10':'sum'}).reset_index().rename( columns = {\"device_id\":\"ref_hash\"} )\n",
    "hour_mode_21_23 = auc_21_23.groupby('device_id').agg({'auc_4_10':'sum'}).reset_index().rename( columns = {\"device_id\":\"ref_hash\"} )\n",
    "\n",
    "auc_morn_18_20 = auc_morn_18_20.merge( hour_mode_18_20, how = \"left\", on = \"ref_hash\" )\n",
    "auc_morn_21_23 = auc_morn_21_23.merge( hour_mode_21_23, how = \"left\", on = \"ref_hash\" )\n",
    "\n",
    "auc_morn_18_20[\"auc_4_10\"] =  (auc_morn_18_20[\"auc_4_10\"] > 1).astype('int8')\n",
    "auc_morn_21_23[\"auc_4_10\"] =  (auc_morn_21_23[\"auc_4_10\"] > 1).astype('int8')\n",
    "\n",
    "auc_morn_18_20.to_csv( loc_ftr + \"\\\\auc_morn_18_20.csv\", index = False )\n",
    "auc_morn_21_23.to_csv( loc_ftr + \"\\\\auc_morn_21_23.csv\", index = False )\n",
    "\n",
    "del auc_18_20['auc_4_10']\n",
    "del auc_21_23['auc_4_10']"
   ]
  },
  {
   "cell_type": "markdown",
   "metadata": {},
   "source": [
    "## <span style=\"color:green\"> **Recibio subasta entre 11 hs y 15 hs (Mediodia)** </span> "
   ]
  },
  {
   "cell_type": "markdown",
   "metadata": {},
   "source": [
    "## <span style=\"color:Orange\"> **Mean Encoding** </span> "
   ]
  },
  {
   "cell_type": "code",
   "execution_count": 31,
   "metadata": {},
   "outputs": [],
   "source": [
    "auc_18_20['auc_11_15'] = ( pd.to_datetime( auc_18_20['date'] ).dt.hour < 16) & ( pd.to_datetime( auc_18_20['date'] ).dt.hour > 10)\n",
    "auc_21_23['auc_11_15'] = ( pd.to_datetime( auc_21_23['date'] ).dt.hour < 16) & ( pd.to_datetime( auc_21_23['date'] ).dt.hour > 10)\n",
    "\n",
    "auc_midday_18_20 = rh_18_20.copy()\n",
    "auc_midday_21_23 = rh_21_23.copy()\n",
    "\n",
    "hour_mode_18_20 = auc_18_20.groupby('device_id').agg({'auc_11_15':'sum'}).reset_index().rename( columns = {\"device_id\":\"ref_hash\"} )\n",
    "hour_mode_21_23 = auc_21_23.groupby('device_id').agg({'auc_11_15':'sum'}).reset_index().rename( columns = {\"device_id\":\"ref_hash\"} )\n",
    "\n",
    "auc_midday_18_20 = auc_midday_18_20.merge( hour_mode_18_20, how = \"left\", on = \"ref_hash\" )\n",
    "auc_midday_21_23 = auc_midday_21_23.merge( hour_mode_21_23, how = \"left\", on = \"ref_hash\" )\n",
    "\n",
    "auc_midday_18_20[\"auc_11_15\"] =  (auc_midday_18_20[\"auc_11_15\"] > 1).astype('int8')\n",
    "auc_midday_21_23[\"auc_11_15\"] =  (auc_midday_21_23[\"auc_11_15\"] > 1).astype('int8')\n",
    "\n",
    "auc_midday_18_20['me_auc_11_15'] = ( auc_midday_18_20.groupby('auc_11_15').transform('count') ) / len(auc_midday_18_20['auc_11_15'])\n",
    "auc_midday_21_23['me_auc_11_15'] = ( auc_midday_21_23.groupby('auc_11_15').transform('count') ) / len(auc_midday_21_23['auc_11_15'])\n",
    "\n",
    "del auc_midday_18_20[\"auc_11_15\"]\n",
    "del auc_midday_21_23[\"auc_11_15\"]\n",
    "\n",
    "auc_midday_18_20.to_csv( loc_ftr + \"\\\\me_auc_midday_18_20.csv\", index = False )\n",
    "auc_midday_21_23.to_csv( loc_ftr + \"\\\\me_auc_midday_21_23.csv\", index = False )\n",
    "\n",
    "del auc_18_20['auc_11_15']\n",
    "del auc_21_23['auc_11_15']"
   ]
  },
  {
   "cell_type": "markdown",
   "metadata": {},
   "source": [
    "## <span style=\"color:Orange\"> **One-hot Encoding** </span> "
   ]
  },
  {
   "cell_type": "code",
   "execution_count": 16,
   "metadata": {},
   "outputs": [],
   "source": [
    "auc_18_20['auc_11_15'] = ( pd.to_datetime( auc_18_20['date'] ).dt.hour < 16) & ( pd.to_datetime( auc_18_20['date'] ).dt.hour > 10)\n",
    "auc_21_23['auc_11_15'] = ( pd.to_datetime( auc_21_23['date'] ).dt.hour < 16) & ( pd.to_datetime( auc_21_23['date'] ).dt.hour > 10)\n",
    "\n",
    "auc_midday_18_20 = rh_18_20.copy()\n",
    "auc_midday_21_23 = rh_21_23.copy()\n",
    "\n",
    "hour_mode_18_20 = auc_18_20.groupby('device_id').agg({'auc_11_15':'sum'}).reset_index().rename( columns = {\"device_id\":\"ref_hash\"} )\n",
    "hour_mode_21_23 = auc_21_23.groupby('device_id').agg({'auc_11_15':'sum'}).reset_index().rename( columns = {\"device_id\":\"ref_hash\"} )\n",
    "\n",
    "auc_midday_18_20 = auc_midday_18_20.merge( hour_mode_18_20, how = \"left\", on = \"ref_hash\" )\n",
    "auc_midday_21_23 = auc_midday_21_23.merge( hour_mode_21_23, how = \"left\", on = \"ref_hash\" )\n",
    "\n",
    "auc_midday_18_20[\"auc_11_15\"] =  (auc_midday_18_20[\"auc_11_15\"] > 1).astype('int8')\n",
    "auc_midday_21_23[\"auc_11_15\"] =  (auc_midday_21_23[\"auc_11_15\"] > 1).astype('int8')\n",
    "\n",
    "auc_midday_18_20.to_csv( loc_ftr + \"\\\\auc_midday_18_20.csv\", index = False )\n",
    "auc_midday_21_23.to_csv( loc_ftr + \"\\\\auc_midday_21_23.csv\", index = False )\n",
    "\n",
    "del auc_18_20['auc_11_15']\n",
    "del auc_21_23['auc_11_15']"
   ]
  },
  {
   "cell_type": "markdown",
   "metadata": {},
   "source": [
    "## <span style=\"color:green\"> **Recibio subasta entre 16 hs y 20 hs (Tarde)** </span> "
   ]
  },
  {
   "cell_type": "markdown",
   "metadata": {},
   "source": [
    "## <span style=\"color:Orange\"> **Mean Encoding** </span> "
   ]
  },
  {
   "cell_type": "code",
   "execution_count": 31,
   "metadata": {},
   "outputs": [],
   "source": [
    "auc_18_20['auc_16_20'] = ( pd.to_datetime( auc_18_20['date'] ).dt.hour < 21) & ( pd.to_datetime( auc_18_20['date'] ).dt.hour > 15)\n",
    "auc_21_23['auc_16_20'] = ( pd.to_datetime( auc_21_23['date'] ).dt.hour < 21) & ( pd.to_datetime( auc_21_23['date'] ).dt.hour > 15)\n",
    "\n",
    "auc_after_18_20 = rh_18_20.copy()\n",
    "auc_after_21_23 = rh_21_23.copy()\n",
    "\n",
    "hour_mode_18_20 = auc_18_20.groupby('device_id').agg({'auc_16_20':'sum'}).reset_index().rename( columns = {\"device_id\":\"ref_hash\"} )\n",
    "hour_mode_21_23 = auc_21_23.groupby('device_id').agg({'auc_16_20':'sum'}).reset_index().rename( columns = {\"device_id\":\"ref_hash\"} )\n",
    "\n",
    "auc_after_18_20 = auc_after_18_20.merge( hour_mode_18_20, how = \"left\", on = \"ref_hash\" )\n",
    "auc_after_21_23 = auc_after_21_23.merge( hour_mode_21_23, how = \"left\", on = \"ref_hash\" )\n",
    "\n",
    "auc_after_18_20[\"auc_16_20\"] =  (auc_after_18_20[\"auc_16_20\"] > 1).astype('int8')\n",
    "auc_after_21_23[\"auc_16_20\"] =  (auc_after_21_23[\"auc_16_20\"] > 1).astype('int8')\n",
    "\n",
    "auc_after_18_20['me_auc_16_20'] = ( auc_after_18_20.groupby('auc_16_20').transform('count') ) / len(auc_after_18_20['auc_16_20'])\n",
    "auc_after_21_23['me_auc_16_20'] = ( auc_after_21_23.groupby('auc_16_20').transform('count') ) / len(auc_after_21_23['auc_16_20'])\n",
    "\n",
    "del auc_after_18_20[\"auc_16_20\"]\n",
    "del auc_after_21_23[\"auc_16_20\"]\n",
    "\n",
    "auc_after_18_20.to_csv( loc_ftr + \"\\\\me_auc_after_18_20.csv\", index = False )\n",
    "auc_after_21_23.to_csv( loc_ftr + \"\\\\me_auc_after_21_23.csv\", index = False )\n",
    "\n",
    "del auc_18_20['auc_16_20']\n",
    "del auc_21_23['auc_16_20']"
   ]
  },
  {
   "cell_type": "markdown",
   "metadata": {},
   "source": [
    "## <span style=\"color:Orange\"> **One-hot Encoding** </span> "
   ]
  },
  {
   "cell_type": "code",
   "execution_count": 16,
   "metadata": {},
   "outputs": [],
   "source": [
    "auc_18_20['auc_16_20'] = ( pd.to_datetime( auc_18_20['date'] ).dt.hour < 21) & ( pd.to_datetime( auc_18_20['date'] ).dt.hour > 15)\n",
    "auc_21_23['auc_16_20'] = ( pd.to_datetime( auc_21_23['date'] ).dt.hour < 21) & ( pd.to_datetime( auc_21_23['date'] ).dt.hour > 15)\n",
    "\n",
    "auc_after_18_20 = rh_18_20.copy()\n",
    "auc_after_21_23 = rh_21_23.copy()\n",
    "\n",
    "hour_mode_18_20 = auc_18_20.groupby('device_id').agg({'auc_16_20':'sum'}).reset_index().rename( columns = {\"device_id\":\"ref_hash\"} )\n",
    "hour_mode_21_23 = auc_21_23.groupby('device_id').agg({'auc_16_20':'sum'}).reset_index().rename( columns = {\"device_id\":\"ref_hash\"} )\n",
    "\n",
    "auc_after_18_20 = auc_after_18_20.merge( hour_mode_18_20, how = \"left\", on = \"ref_hash\" )\n",
    "auc_after_21_23 = auc_after_21_23.merge( hour_mode_21_23, how = \"left\", on = \"ref_hash\" )\n",
    "\n",
    "auc_after_18_20[\"auc_16_20\"] =  (auc_after_18_20[\"auc_16_20\"] > 1).astype('int8')\n",
    "auc_after_21_23[\"auc_16_20\"] =  (auc_after_21_23[\"auc_16_20\"] > 1).astype('int8')\n",
    "\n",
    "auc_after_18_20.to_csv( loc_ftr + \"\\\\auc_after_18_20.csv\", index = False )\n",
    "auc_after_21_23.to_csv( loc_ftr + \"\\\\auc_after_21_23.csv\", index = False )\n",
    "\n",
    "del auc_18_20['auc_16_20']\n",
    "del auc_21_23['auc_16_20']"
   ]
  },
  {
   "cell_type": "markdown",
   "metadata": {},
   "source": [
    "## ========================================================================="
   ]
  },
  {
   "cell_type": "markdown",
   "metadata": {},
   "source": [
    "## <span style=\"color:green\"> **Recibio clicks entre 16 hs y 20 hs (Tarde)** </span> "
   ]
  },
  {
   "cell_type": "markdown",
   "metadata": {},
   "source": [
    "## <span style=\"color:Orange\"> **Mean Encoding** </span> "
   ]
  },
  {
   "cell_type": "code",
   "execution_count": 31,
   "metadata": {},
   "outputs": [],
   "source": [
    "clk_18_20['clk_16_20'] = ( pd.to_datetime( clk_18_20['date'] ).dt.hour > 15) & ( pd.to_datetime( clk_18_20['date'] ).dt.hour < 21) \n",
    "clk_21_23['clk_16_20'] = ( pd.to_datetime( clk_21_23['date'] ).dt.hour > 15) & ( pd.to_datetime( clk_21_23['date'] ).dt.hour < 21)\n",
    "\n",
    "clk_after_18_20 = rh_18_20.copy()\n",
    "clk_after_21_23 = rh_21_23.copy()\n",
    "\n",
    "hour_mode_18_20 = clk_18_20.groupby('ref_hash').agg({'clk_16_20':'sum'}).reset_index()\n",
    "hour_mode_21_23 = clk_21_23.groupby('ref_hash').agg({'clk_16_20':'sum'}).reset_index()\n",
    "\n",
    "clk_after_18_20 = clk_after_18_20.merge( hour_mode_18_20, how = \"left\", on = \"ref_hash\" )\n",
    "clk_after_21_23 = clk_after_21_23.merge( hour_mode_21_23, how = \"left\", on = \"ref_hash\" )\n",
    "\n",
    "clk_after_18_20[\"clk_16_20\"] = (clk_after_18_20[\"clk_16_20\"] > 1).astype('int8')\n",
    "clk_after_21_23[\"clk_16_20\"] = (clk_after_21_23[\"clk_16_20\"] > 1).astype('int8')\n",
    "\n",
    "clk_after_18_20['me_clk_16_20'] = ( clk_after_18_20.groupby('clk_16_20').transform('count') ) / len(clk_after_18_20['clk_16_20'])\n",
    "clk_after_21_23['me_clk_16_20'] = ( clk_after_21_23.groupby('clk_16_20').transform('count') ) / len(clk_after_21_23['clk_16_20'])\n",
    "\n",
    "del clk_after_18_20[\"clk_16_20\"]\n",
    "del clk_after_21_23[\"clk_16_20\"]\n",
    "\n",
    "clk_after_18_20.to_csv( loc_ftr + \"\\\\me_clk_after_18_20.csv\", index = False )\n",
    "clk_after_21_23.to_csv( loc_ftr + \"\\\\me_clk_after_21_23.csv\", index = False )\n",
    "\n",
    "del clk_18_20['clk_16_20']\n",
    "del clk_21_23['clk_16_20']"
   ]
  },
  {
   "cell_type": "markdown",
   "metadata": {},
   "source": [
    "## <span style=\"color:Orange\"> **One-hot Encoding** </span> "
   ]
  },
  {
   "cell_type": "code",
   "execution_count": 35,
   "metadata": {},
   "outputs": [],
   "source": [
    "clk_18_20['clk_16_20'] = ( pd.to_datetime( clk_18_20['date'] ).dt.hour > 15) & ( pd.to_datetime( clk_18_20['date'] ).dt.hour < 21) \n",
    "clk_21_23['clk_16_20'] = ( pd.to_datetime( clk_21_23['date'] ).dt.hour > 15) & ( pd.to_datetime( clk_21_23['date'] ).dt.hour < 21)\n",
    "\n",
    "clk_after_18_20 = rh_18_20.copy()\n",
    "clk_after_21_23 = rh_21_23.copy()\n",
    "\n",
    "hour_mode_18_20 = clk_18_20.groupby('ref_hash').agg({'clk_16_20':'sum'}).reset_index()\n",
    "hour_mode_21_23 = clk_21_23.groupby('ref_hash').agg({'clk_16_20':'sum'}).reset_index()\n",
    "\n",
    "clk_after_18_20 = clk_after_18_20.merge( hour_mode_18_20, how = \"left\", on = \"ref_hash\" )\n",
    "clk_after_21_23 = clk_after_21_23.merge( hour_mode_21_23, how = \"left\", on = \"ref_hash\" )\n",
    "\n",
    "clk_after_18_20[\"clk_16_20\"] = (clk_after_18_20[\"clk_16_20\"] > 1).astype('int8')\n",
    "clk_after_21_23[\"clk_16_20\"] = (clk_after_21_23[\"clk_16_20\"] > 1).astype('int8')\n",
    "\n",
    "clk_after_18_20.to_csv( loc_ftr + \"\\\\clk_after_18_20.csv\", index = False )\n",
    "clk_after_21_23.to_csv( loc_ftr + \"\\\\clk_after_21_23.csv\", index = False )\n",
    "\n",
    "del clk_18_20['clk_16_20']\n",
    "del clk_21_23['clk_16_20']"
   ]
  },
  {
   "cell_type": "markdown",
   "metadata": {},
   "source": [
    "## <span style=\"color:green\"> **Recibio clikcs entre 21 hs y 3 hs (Noche)** </span> "
   ]
  },
  {
   "cell_type": "markdown",
   "metadata": {},
   "source": [
    "## <span style=\"color:Orange\"> **Mean Encoding** </span> "
   ]
  },
  {
   "cell_type": "code",
   "execution_count": 31,
   "metadata": {},
   "outputs": [],
   "source": [
    "clk_18_20['clk_21_3'] = ( pd.to_datetime( clk_18_20['date'] ).dt.hour < 4) | ( pd.to_datetime( clk_18_20['date'] ).dt.hour > 20)\n",
    "clk_21_23['clk_21_3'] = ( pd.to_datetime( clk_21_23['date'] ).dt.hour < 4) | ( pd.to_datetime( clk_21_23['date'] ).dt.hour > 20)\n",
    "\n",
    "clk_night_18_20 = rh_18_20.copy()\n",
    "clk_night_21_23 = rh_21_23.copy()\n",
    "\n",
    "hour_mode_18_20 = clk_18_20.groupby('ref_hash').agg({'clk_21_3':'sum'}).reset_index()\n",
    "hour_mode_21_23 = clk_21_23.groupby('ref_hash').agg({'clk_21_3':'sum'}).reset_index()\n",
    "\n",
    "clk_night_18_20 = clk_night_18_20.merge( hour_mode_18_20, how = \"left\", on = \"ref_hash\" )\n",
    "clk_night_21_23 = clk_night_21_23.merge( hour_mode_21_23, how = \"left\", on = \"ref_hash\" )\n",
    "\n",
    "clk_night_18_20[\"clk_21_3\"] =  (clk_night_18_20[\"clk_21_3\"] > 1).astype('int8')\n",
    "clk_night_21_23[\"clk_21_3\"] =  (clk_night_21_23[\"clk_21_3\"] > 1).astype('int8')\n",
    "\n",
    "clk_night_18_20['me_clk_21_3'] = ( clk_night_18_20.groupby('clk_21_3').transform('count') ) / len(clk_night_18_20['clk_21_3'])\n",
    "clk_night_21_23['me_clk_21_3'] = ( clk_night_21_23.groupby('clk_21_3').transform('count') ) / len(clk_night_21_23['clk_21_3'])\n",
    "\n",
    "del clk_night_18_20[\"clk_21_3\"]\n",
    "del clk_night_21_23[\"clk_21_3\"]\n",
    "\n",
    "clk_night_18_20.to_csv( loc_ftr + \"\\\\me_clk_night_18_20.csv\", index = False )\n",
    "clk_night_21_23.to_csv( loc_ftr + \"\\\\me_clk_night_21_23.csv\", index = False )\n",
    "\n",
    "del clk_18_20['clk_21_3']\n",
    "del clk_21_23['clk_21_3']"
   ]
  },
  {
   "cell_type": "markdown",
   "metadata": {},
   "source": [
    "## <span style=\"color:Orange\"> **One-hot Encoding** </span> "
   ]
  },
  {
   "cell_type": "code",
   "execution_count": 36,
   "metadata": {},
   "outputs": [],
   "source": [
    "clk_18_20['clk_21_3'] = ( pd.to_datetime( clk_18_20['date'] ).dt.hour < 4) | ( pd.to_datetime( clk_18_20['date'] ).dt.hour > 20)\n",
    "clk_21_23['clk_21_3'] = ( pd.to_datetime( clk_21_23['date'] ).dt.hour < 4) | ( pd.to_datetime( clk_21_23['date'] ).dt.hour > 20)\n",
    "\n",
    "clk_night_18_20 = rh_18_20.copy()\n",
    "clk_night_21_23 = rh_21_23.copy()\n",
    "\n",
    "hour_mode_18_20 = clk_18_20.groupby('ref_hash').agg({'clk_21_3':'sum'}).reset_index()\n",
    "hour_mode_21_23 = clk_21_23.groupby('ref_hash').agg({'clk_21_3':'sum'}).reset_index()\n",
    "\n",
    "clk_night_18_20 = clk_night_18_20.merge( hour_mode_18_20, how = \"left\", on = \"ref_hash\" )\n",
    "clk_night_21_23 = clk_night_21_23.merge( hour_mode_21_23, how = \"left\", on = \"ref_hash\" )\n",
    "\n",
    "clk_night_18_20[\"clk_21_3\"] =  (clk_night_18_20[\"clk_21_3\"] > 1).astype('int8')\n",
    "clk_night_21_23[\"clk_21_3\"] =  (clk_night_21_23[\"clk_21_3\"] > 1).astype('int8')\n",
    "\n",
    "clk_night_18_20.to_csv( loc_ftr + \"\\\\clk_night_18_20.csv\", index = False )\n",
    "clk_night_21_23.to_csv( loc_ftr + \"\\\\clk_night_21_23.csv\", index = False )\n",
    "\n",
    "del clk_18_20['clk_21_3']\n",
    "del clk_21_23['clk_21_3']"
   ]
  },
  {
   "cell_type": "markdown",
   "metadata": {},
   "source": [
    "## <span style=\"color:green\"> **Recibio clicks entre 11 hs y 15 hs (Medio dia)** </span> "
   ]
  },
  {
   "cell_type": "markdown",
   "metadata": {},
   "source": [
    "## <span style=\"color:Orange\"> **Mean Encoding** </span> "
   ]
  },
  {
   "cell_type": "code",
   "execution_count": 31,
   "metadata": {},
   "outputs": [],
   "source": [
    "clk_18_20['clk_11_15'] = ( pd.to_datetime( clk_18_20['date'] ).dt.hour > 10) & ( pd.to_datetime( clk_18_20['date'] ).dt.hour < 16) \n",
    "clk_21_23['clk_11_15'] = ( pd.to_datetime( clk_21_23['date'] ).dt.hour > 10) & ( pd.to_datetime( clk_21_23['date'] ).dt.hour < 16)\n",
    "\n",
    "clk_midday_18_20 = rh_18_20.copy()\n",
    "clk_midday_21_23 = rh_21_23.copy()\n",
    "\n",
    "hour_mode_18_20 = clk_18_20.groupby('ref_hash').agg({'clk_11_15':'sum'}).reset_index()\n",
    "hour_mode_21_23 = clk_21_23.groupby('ref_hash').agg({'clk_11_15':'sum'}).reset_index()\n",
    "\n",
    "clk_midday_18_20 = clk_midday_18_20.merge( hour_mode_18_20, how = \"left\", on = \"ref_hash\" )\n",
    "clk_midday_21_23 = clk_midday_21_23.merge( hour_mode_21_23, how = \"left\", on = \"ref_hash\" )\n",
    "\n",
    "clk_midday_18_20[\"clk_11_15\"] =  (clk_midday_18_20[\"clk_11_15\"] > 1).astype('int8')\n",
    "clk_midday_21_23[\"clk_11_15\"] =  (clk_midday_21_23[\"clk_11_15\"] > 1).astype('int8')\n",
    "\n",
    "clk_midday_18_20['me_clk_11_15'] = ( clk_midday_18_20.groupby('clk_11_15').transform('count') ) / len(clk_midday_18_20['clk_11_15'])\n",
    "clk_midday_21_23['me_clk_11_15'] = ( clk_midday_21_23.groupby('clk_11_15').transform('count') ) / len(clk_midday_21_23['clk_11_15'])\n",
    "\n",
    "del clk_midday_18_20[\"clk_11_15\"]\n",
    "del clk_midday_21_23[\"clk_11_15\"]\n",
    "\n",
    "clk_midday_18_20.to_csv( loc_ftr + \"\\\\me_clk_midday_18_20.csv\", index = False )\n",
    "clk_midday_21_23.to_csv( loc_ftr + \"\\\\me_clk_midday_21_23.csv\", index = False )\n",
    "\n",
    "del clk_18_20['clk_11_15']\n",
    "del clk_21_23['clk_11_15']"
   ]
  },
  {
   "cell_type": "markdown",
   "metadata": {},
   "source": [
    "## <span style=\"color:Orange\"> **One-hot Encoding** </span> "
   ]
  },
  {
   "cell_type": "code",
   "execution_count": 38,
   "metadata": {},
   "outputs": [],
   "source": [
    "clk_18_20['clk_11_15'] = ( pd.to_datetime( clk_18_20['date'] ).dt.hour > 10) & ( pd.to_datetime( clk_18_20['date'] ).dt.hour < 16) \n",
    "clk_21_23['clk_11_15'] = ( pd.to_datetime( clk_21_23['date'] ).dt.hour > 10) & ( pd.to_datetime( clk_21_23['date'] ).dt.hour < 16)\n",
    "\n",
    "clk_midday_18_20 = rh_18_20.copy()\n",
    "clk_midday_21_23 = rh_21_23.copy()\n",
    "\n",
    "hour_mode_18_20 = clk_18_20.groupby('ref_hash').agg({'clk_11_15':'sum'}).reset_index()\n",
    "hour_mode_21_23 = clk_21_23.groupby('ref_hash').agg({'clk_11_15':'sum'}).reset_index()\n",
    "\n",
    "clk_midday_18_20 = clk_midday_18_20.merge( hour_mode_18_20, how = \"left\", on = \"ref_hash\" )\n",
    "clk_midday_21_23 = clk_midday_21_23.merge( hour_mode_21_23, how = \"left\", on = \"ref_hash\" )\n",
    "\n",
    "clk_midday_18_20[\"clk_11_15\"] =  (clk_midday_18_20[\"clk_11_15\"] > 1).astype('int8')\n",
    "clk_midday_21_23[\"clk_11_15\"] =  (clk_midday_21_23[\"clk_11_15\"] > 1).astype('int8')\n",
    "\n",
    "clk_midday_18_20.to_csv( loc_ftr + \"\\\\clk_midday_18_20.csv\", index = False )\n",
    "clk_midday_21_23.to_csv( loc_ftr + \"\\\\clk_midday_21_23.csv\", index = False )\n",
    "\n",
    "del clk_18_20['clk_11_15']\n",
    "del clk_21_23['clk_11_15']"
   ]
  },
  {
   "cell_type": "markdown",
   "metadata": {},
   "source": [
    "## <span style=\"color:green\"> **Recibio clicks entre 4 hs y 10 hs (Mañana)** </span> "
   ]
  },
  {
   "cell_type": "markdown",
   "metadata": {},
   "source": [
    "## <span style=\"color:Orange\"> **Mean Encoding** </span> "
   ]
  },
  {
   "cell_type": "code",
   "execution_count": 31,
   "metadata": {},
   "outputs": [],
   "source": [
    "clk_18_20['clk_4_10'] = ( pd.to_datetime( clk_18_20['date'] ).dt.hour > 3) & ( pd.to_datetime( clk_18_20['date'] ).dt.hour < 11) \n",
    "clk_21_23['clk_4_10'] = ( pd.to_datetime( clk_21_23['date'] ).dt.hour > 3) & ( pd.to_datetime( clk_21_23['date'] ).dt.hour < 11)\n",
    "\n",
    "clk_morn_18_20 = rh_18_20.copy()\n",
    "clk_morn_21_23 = rh_21_23.copy()\n",
    "\n",
    "hour_mode_18_20 = clk_18_20.groupby('ref_hash').agg({'clk_4_10':'sum'}).reset_index()\n",
    "hour_mode_21_23 = clk_21_23.groupby('ref_hash').agg({'clk_4_10':'sum'}).reset_index()\n",
    "\n",
    "clk_morn_18_20 = clk_morn_18_20.merge( hour_mode_18_20, how = \"left\", on = \"ref_hash\" )\n",
    "clk_morn_21_23 = clk_morn_21_23.merge( hour_mode_21_23, how = \"left\", on = \"ref_hash\" )\n",
    "\n",
    "clk_morn_18_20[\"ins_4_10\"] =  (clk_morn_18_20[\"clk_4_10\"] > 1).astype('int8')\n",
    "clk_morn_21_23[\"ins_4_10\"] =  (clk_morn_21_23[\"clk_4_10\"] > 1).astype('int8')\n",
    "\n",
    "clk_morn_18_20['me_ins_4_10'] = ( clk_morn_18_20.groupby('ins_4_10').transform('count') ) / len(clk_morn_18_20['ins_4_10'])\n",
    "clk_morn_21_23['me_ins_4_10'] = ( clk_morn_21_23.groupby('ins_4_10').transform('count') ) / len(clk_morn_21_23['ins_4_10'])\n",
    "\n",
    "del clk_morn_18_20[\"ins_4_10\"]\n",
    "del clk_morn_21_23[\"ins_4_10\"]\n",
    "\n",
    "clk_morn_18_20.to_csv( loc_ftr + \"\\\\me_clk_morn_18_20.csv\", index = False )\n",
    "clk_morn_21_23.to_csv( loc_ftr + \"\\\\me_clk_morn_21_23.csv\", index = False )\n",
    "\n",
    "del clk_18_20['clk_4_10']\n",
    "del clk_21_23['clk_4_10']"
   ]
  },
  {
   "cell_type": "markdown",
   "metadata": {},
   "source": [
    "## <span style=\"color:Orange\"> **One-hot Encoding** </span> "
   ]
  },
  {
   "cell_type": "code",
   "execution_count": 39,
   "metadata": {},
   "outputs": [],
   "source": [
    "clk_18_20['clk_4_10'] = ( pd.to_datetime( clk_18_20['date'] ).dt.hour > 3) & ( pd.to_datetime( clk_18_20['date'] ).dt.hour < 11) \n",
    "clk_21_23['clk_4_10'] = ( pd.to_datetime( clk_21_23['date'] ).dt.hour > 3) & ( pd.to_datetime( clk_21_23['date'] ).dt.hour < 11)\n",
    "\n",
    "clk_morn_18_20 = rh_18_20.copy()\n",
    "clk_morn_21_23 = rh_21_23.copy()\n",
    "\n",
    "hour_mode_18_20 = clk_18_20.groupby('ref_hash').agg({'clk_4_10':'sum'}).reset_index()\n",
    "hour_mode_21_23 = clk_21_23.groupby('ref_hash').agg({'clk_4_10':'sum'}).reset_index()\n",
    "\n",
    "clk_morn_18_20 = clk_morn_18_20.merge( hour_mode_18_20, how = \"left\", on = \"ref_hash\" )\n",
    "clk_morn_21_23 = clk_morn_21_23.merge( hour_mode_21_23, how = \"left\", on = \"ref_hash\" )\n",
    "\n",
    "clk_morn_18_20[\"ins_4_10\"] =  (clk_morn_18_20[\"clk_4_10\"] > 1).astype('int8')\n",
    "clk_morn_21_23[\"ins_4_10\"] =  (clk_morn_21_23[\"clk_4_10\"] > 1).astype('int8')\n",
    "\n",
    "clk_morn_18_20.to_csv( loc_ftr + \"\\\\clk_morn_18_20.csv\", index = False )\n",
    "clk_morn_21_23.to_csv( loc_ftr + \"\\\\clk_morn_21_23.csv\", index = False )\n",
    "\n",
    "del clk_18_20['clk_4_10']\n",
    "del clk_21_23['clk_4_10']"
   ]
  },
  {
   "cell_type": "markdown",
   "metadata": {},
   "source": [
    "## ========================================================================="
   ]
  },
  {
   "cell_type": "markdown",
   "metadata": {},
   "source": [
    "## <span style=\"color:green\"> **Hizo eventos entre 21 hs y 3 hs (Noche)** </span>"
   ]
  },
  {
   "cell_type": "markdown",
   "metadata": {},
   "source": [
    "## <span style=\"color:Orange\"> **Mean Encoding** </span> "
   ]
  },
  {
   "cell_type": "code",
   "execution_count": null,
   "metadata": {},
   "outputs": [],
   "source": [
    "evt_18_20['date'] = pd.to_datetime(evt_18_20['date'])\n",
    "evt_21_23['date'] = pd.to_datetime(evt_21_23['date'])\n",
    "\n",
    "evt_18_20['evt_21_3'] = (evt_18_20['date'].dt.hour < 4) | (evt_18_20['date'].dt.hour > 20)\n",
    "evt_21_23['evt_21_3'] = (evt_21_23['date'].dt.hour < 4) | (evt_18_20['date'].dt.hour > 20)\n",
    "\n",
    "evt_night_18_20 = rh_18_20.copy()\n",
    "evt_night_21_23 = rh_21_23.copy()\n",
    "\n",
    "hour_mode_18_20 = evt_18_20.groupby('ref_hash').agg({'evt_21_3':'sum'}).reset_index()\n",
    "hour_mode_21_23 = evt_21_23.groupby('ref_hash').agg({'evt_21_3':'sum'}).reset_index()\n",
    "\n",
    "evt_night_18_20 = evt_night_18_20.merge( hour_mode_18_20, how = \"left\", on = \"ref_hash\" )\n",
    "evt_night_21_23 = evt_night_21_23.merge( hour_mode_21_23, how = \"left\", on = \"ref_hash\" )\n",
    "\n",
    "evt_night_18_20[\"evt_21_3\"] =  (evt_night_18_20[\"evt_21_3\"] > 1).astype('int8')\n",
    "evt_night_21_23[\"evt_21_3\"] =  (evt_night_21_23[\"evt_21_3\"] > 1).astype('int8')\n",
    "\n",
    "evt_night_18_20['me_evt_21_3'] = ( evt_night_18_20.groupby('evt_21_3').transform('count') ) / len(evt_night_18_20['evt_21_3'])\n",
    "evt_night_21_23['me_evt_21_3'] = ( evt_night_21_23.groupby('evt_21_3').transform('count') ) / len(evt_night_21_23['evt_21_3'])\n",
    "\n",
    "del evt_night_18_20['evt_21_3']\n",
    "del evt_night_21_23['evt_21_3']\n",
    "\n",
    "evt_night_18_20.to_csv( loc_ftr + \"\\\\me_evt_night_18_20.csv\", index = False )\n",
    "evt_night_21_23.to_csv( loc_ftr + \"\\\\me_evt_night_21_23.csv\", index = False )\n",
    "\n",
    "del evt_18_20['evt_21_3']\n",
    "del evt_21_23['evt_21_3']"
   ]
  },
  {
   "cell_type": "markdown",
   "metadata": {},
   "source": [
    "## <span style=\"color:Orange\"> **One-Hot Encoding** </span> "
   ]
  },
  {
   "cell_type": "code",
   "execution_count": 51,
   "metadata": {},
   "outputs": [],
   "source": [
    "evt_18_20['date'] = pd.to_datetime(evt_18_20['date'])\n",
    "evt_21_23['date'] = pd.to_datetime(evt_21_23['date'])\n",
    "\n",
    "evt_18_20['evt_21_3'] = (evt_18_20['date'].dt.hour < 4) | (evt_18_20['date'].dt.hour > 20)\n",
    "evt_21_23['evt_21_3'] = (evt_21_23['date'].dt.hour < 4) | (evt_18_20['date'].dt.hour > 20)\n",
    "\n",
    "evt_night_18_20 = rh_18_20.copy()\n",
    "evt_night_21_23 = rh_21_23.copy()\n",
    "\n",
    "hour_mode_18_20 = evt_18_20.groupby('ref_hash').agg({'evt_21_3':'sum'}).reset_index()\n",
    "hour_mode_21_23 = evt_21_23.groupby('ref_hash').agg({'evt_21_3':'sum'}).reset_index()\n",
    "\n",
    "evt_night_18_20 = evt_night_18_20.merge( hour_mode_18_20, how = \"left\", on = \"ref_hash\" )\n",
    "evt_night_21_23 = evt_night_21_23.merge( hour_mode_21_23, how = \"left\", on = \"ref_hash\" )\n",
    "\n",
    "evt_night_18_20[\"evt_21_3\"] =  (evt_night_18_20[\"evt_21_3\"] > 1).astype('int8')\n",
    "evt_night_21_23[\"evt_21_3\"] =  (evt_night_21_23[\"evt_21_3\"] > 1).astype('int8')\n",
    "\n",
    "evt_night_18_20.to_csv( loc_ftr + \"\\\\evt_night_18_20.csv\", index = False )\n",
    "evt_night_21_23.to_csv( loc_ftr + \"\\\\evt_night_21_23.csv\", index = False )\n",
    "\n",
    "del evt_18_20['evt_21_3']\n",
    "del evt_21_23['evt_21_3']"
   ]
  },
  {
   "cell_type": "markdown",
   "metadata": {},
   "source": [
    "## <span style=\"color:green\"> **Hizo eventos entre 4 hs y 10 hs (Mañana)** </span>"
   ]
  },
  {
   "cell_type": "markdown",
   "metadata": {},
   "source": [
    "## <span style=\"color:Orange\"> **Mean Encoding** </span> "
   ]
  },
  {
   "cell_type": "code",
   "execution_count": null,
   "metadata": {},
   "outputs": [],
   "source": [
    "evt_18_20['date'] = pd.to_datetime(evt_18_20['date'])\n",
    "evt_21_23['date'] = pd.to_datetime(evt_21_23['date'])\n",
    "\n",
    "evt_18_20['evt_4_10'] = (evt_18_20['date'].dt.hour < 11) & (evt_18_20['date'].dt.hour > 3)\n",
    "evt_21_23['evt_4_10'] = (evt_21_23['date'].dt.hour < 11) & (evt_18_20['date'].dt.hour > 3)\n",
    "\n",
    "evt_morn_18_20 = rh_18_20.copy()\n",
    "evt_morn_21_23 = rh_21_23.copy()\n",
    "\n",
    "hour_mode_18_20 = evt_18_20.groupby('ref_hash').agg({'evt_4_10':'sum'}).reset_index()\n",
    "hour_mode_21_23 = evt_21_23.groupby('ref_hash').agg({'evt_4_10':'sum'}).reset_index()\n",
    "\n",
    "evt_morn_18_20 = evt_morn_18_20.merge( hour_mode_18_20, how = \"left\", on = \"ref_hash\" )\n",
    "evt_morn_21_23 = evt_morn_21_23.merge( hour_mode_21_23, how = \"left\", on = \"ref_hash\" )\n",
    "\n",
    "evt_morn_18_20[\"evt_4_10\"] =  (evt_morn_18_20[\"evt_4_10\"] > 1).astype('int8')\n",
    "evt_morn_21_23[\"evt_4_10\"] =  (evt_morn_21_23[\"evt_4_10\"] > 1).astype('int8')\n",
    "\n",
    "evt_morn_18_20['me_evt_4_10'] = ( evt_morn_18_20.groupby('evt_4_10').transform('count') ) / len(evt_morn_18_20['evt_4_10'])\n",
    "evt_morn_21_23['me_evt_4_10'] = ( evt_morn_21_23.groupby('evt_4_10').transform('count') ) / len(evt_morn_21_23['evt_4_10'])\n",
    "\n",
    "del evt_morn_18_20['evt_4_10']\n",
    "del evt_morn_21_23['evt_4_10']\n",
    "\n",
    "evt_morn_18_20.to_csv( loc_ftr + \"\\\\me_evt_morn_18_20.csv\", index = False )\n",
    "evt_morn_21_23.to_csv( loc_ftr + \"\\\\me_evt_morn_21_23.csv\", index = False )\n",
    "\n",
    "del evt_18_20['evt_4_10']\n",
    "del evt_21_23['evt_4_10']"
   ]
  },
  {
   "cell_type": "markdown",
   "metadata": {},
   "source": [
    "## <span style=\"color:Orange\"> **One-Hot Encoding** </span> "
   ]
  },
  {
   "cell_type": "code",
   "execution_count": 51,
   "metadata": {},
   "outputs": [],
   "source": [
    "evt_18_20['date'] = pd.to_datetime(evt_18_20['date'])\n",
    "evt_21_23['date'] = pd.to_datetime(evt_21_23['date'])\n",
    "\n",
    "evt_18_20['evt_4_10'] = (evt_18_20['date'].dt.hour < 11) & (evt_18_20['date'].dt.hour > 3)\n",
    "evt_21_23['evt_4_10'] = (evt_21_23['date'].dt.hour < 11) & (evt_18_20['date'].dt.hour > 3)\n",
    "\n",
    "evt_morn_18_20 = rh_18_20.copy()\n",
    "evt_morn_21_23 = rh_21_23.copy()\n",
    "\n",
    "hour_mode_18_20 = evt_18_20.groupby('ref_hash').agg({'evt_4_10':'sum'}).reset_index()\n",
    "hour_mode_21_23 = evt_21_23.groupby('ref_hash').agg({'evt_4_10':'sum'}).reset_index()\n",
    "\n",
    "evt_morn_18_20 = evt_morn_18_20.merge( hour_mode_18_20, how = \"left\", on = \"ref_hash\" )\n",
    "evt_morn_21_23 = evt_morn_21_23.merge( hour_mode_21_23, how = \"left\", on = \"ref_hash\" )\n",
    "\n",
    "evt_morn_18_20[\"evt_4_10\"] =  (evt_morn_18_20[\"evt_4_10\"] > 1).astype('int8')\n",
    "evt_morn_21_23[\"evt_4_10\"] =  (evt_morn_21_23[\"evt_4_10\"] > 1).astype('int8')\n",
    "\n",
    "evt_morn_18_20.to_csv( loc_ftr + \"\\\\evt_morn_18_20.csv\", index = False )\n",
    "evt_morn_21_23.to_csv( loc_ftr + \"\\\\evt_morn_21_23.csv\", index = False )\n",
    "\n",
    "del evt_18_20['evt_4_10']\n",
    "del evt_21_23['evt_4_10']"
   ]
  },
  {
   "cell_type": "markdown",
   "metadata": {},
   "source": [
    "## <span style=\"color:green\"> **Hizo eventos entre 11 hs y 15 hs (Mediodia)** </span>"
   ]
  },
  {
   "cell_type": "markdown",
   "metadata": {},
   "source": [
    "## <span style=\"color:Orange\"> **Mean Encoding** </span> "
   ]
  },
  {
   "cell_type": "code",
   "execution_count": null,
   "metadata": {},
   "outputs": [],
   "source": [
    "evt_18_20['date'] = pd.to_datetime(evt_18_20['date'])\n",
    "evt_21_23['date'] = pd.to_datetime(evt_21_23['date'])\n",
    "\n",
    "evt_18_20['evt_11_15'] = (evt_18_20['date'].dt.hour < 16) & (evt_18_20['date'].dt.hour > 10)\n",
    "evt_21_23['evt_11_15'] = (evt_21_23['date'].dt.hour < 16) & (evt_18_20['date'].dt.hour > 10)\n",
    "\n",
    "evt_midday_18_20 = rh_18_20.copy()\n",
    "evt_midday_21_23 = rh_21_23.copy()\n",
    "\n",
    "hour_mode_18_20 = evt_18_20.groupby('ref_hash').agg({'evt_11_15':'sum'}).reset_index()\n",
    "hour_mode_21_23 = evt_21_23.groupby('ref_hash').agg({'evt_11_15':'sum'}).reset_index()\n",
    "\n",
    "evt_midday_18_20 = evt_midday_18_20.merge( hour_mode_18_20, how = \"left\", on = \"ref_hash\" )\n",
    "evt_midday_21_23 = evt_midday_21_23.merge( hour_mode_21_23, how = \"left\", on = \"ref_hash\" )\n",
    "\n",
    "evt_midday_18_20[\"evt_11_15\"] =  (evt_midday_18_20[\"evt_11_15\"] > 1).astype('int8')\n",
    "evt_midday_21_23[\"evt_11_15\"] =  (evt_midday_21_23[\"evt_11_15\"] > 1).astype('int8')\n",
    "\n",
    "evt_midday_18_20['me_evt_11_15'] = ( evt_midday_18_20.groupby('evt_11_15').transform('count') ) / len(evt_midday_18_20['evt_11_15'])\n",
    "evt_midday_21_23['me_evt_11_15'] = ( evt_midday_21_23.groupby('evt_11_15').transform('count') ) / len(evt_midday_21_23['evt_11_15'])\n",
    "\n",
    "del evt_midday_18_20['evt_11_15']\n",
    "del evt_midday_21_23['evt_11_15']\n",
    "\n",
    "evt_midday_18_20.to_csv( loc_ftr + \"\\\\me_evt_midday_18_20.csv\", index = False )\n",
    "evt_midday_21_23.to_csv( loc_ftr + \"\\\\me_evt_midday_21_23.csv\", index = False )\n",
    "\n",
    "del evt_18_20['evt_11_15']\n",
    "del evt_21_23['evt_11_15']"
   ]
  },
  {
   "cell_type": "markdown",
   "metadata": {},
   "source": [
    "## <span style=\"color:Orange\"> **One-Hot Encoding** </span> "
   ]
  },
  {
   "cell_type": "code",
   "execution_count": 51,
   "metadata": {},
   "outputs": [],
   "source": [
    "evt_18_20['date'] = pd.to_datetime(evt_18_20['date'])\n",
    "evt_21_23['date'] = pd.to_datetime(evt_21_23['date'])\n",
    "\n",
    "evt_18_20['evt_11_15'] = (evt_18_20['date'].dt.hour < 16) & (evt_18_20['date'].dt.hour > 10)\n",
    "evt_21_23['evt_11_15'] = (evt_21_23['date'].dt.hour < 16) & (evt_18_20['date'].dt.hour > 10)\n",
    "\n",
    "evt_midday_18_20 = rh_18_20.copy()\n",
    "evt_midday_21_23 = rh_21_23.copy()\n",
    "\n",
    "hour_mode_18_20 = evt_18_20.groupby('ref_hash').agg({'evt_11_15':'sum'}).reset_index()\n",
    "hour_mode_21_23 = evt_21_23.groupby('ref_hash').agg({'evt_11_15':'sum'}).reset_index()\n",
    "\n",
    "evt_midday_18_20 = evt_midday_18_20.merge( hour_mode_18_20, how = \"left\", on = \"ref_hash\" )\n",
    "evt_midday_21_23 = evt_midday_21_23.merge( hour_mode_21_23, how = \"left\", on = \"ref_hash\" )\n",
    "\n",
    "evt_midday_18_20[\"evt_11_15\"] =  (evt_midday_18_20[\"evt_11_15\"] > 1).astype('int8')\n",
    "evt_midday_21_23[\"evt_11_15\"] =  (evt_midday_21_23[\"evt_11_15\"] > 1).astype('int8')\n",
    "\n",
    "evt_midday_18_20.to_csv( loc_ftr + \"\\\\evt_midday_18_20.csv\", index = False )\n",
    "evt_midday_21_23.to_csv( loc_ftr + \"\\\\evt_midday_21_23.csv\", index = False )\n",
    "\n",
    "del evt_18_20['evt_11_15']\n",
    "del evt_21_23['evt_11_15']"
   ]
  },
  {
   "cell_type": "markdown",
   "metadata": {},
   "source": [
    "## <span style=\"color:green\"> **Hizo eventos entre 16 hs y 20 hs (Tarde)** </span>"
   ]
  },
  {
   "cell_type": "markdown",
   "metadata": {},
   "source": [
    "## <span style=\"color:Orange\"> **Mean Encoding** </span> "
   ]
  },
  {
   "cell_type": "code",
   "execution_count": null,
   "metadata": {},
   "outputs": [],
   "source": [
    "evt_18_20['date'] = pd.to_datetime(evt_18_20['date'])\n",
    "evt_21_23['date'] = pd.to_datetime(evt_21_23['date'])\n",
    "\n",
    "evt_18_20['evt_16_20'] = (evt_18_20['date'].dt.hour < 21) & (evt_18_20['date'].dt.hour > 15)\n",
    "evt_21_23['evt_16_20'] = (evt_21_23['date'].dt.hour < 21) & (evt_18_20['date'].dt.hour > 15)\n",
    "\n",
    "evt_after_18_20 = rh_18_20.copy()\n",
    "evt_after_21_23 = rh_21_23.copy()\n",
    "\n",
    "hour_mode_18_20 = evt_18_20.groupby('ref_hash').agg({'evt_16_20':'sum'}).reset_index()\n",
    "hour_mode_21_23 = evt_21_23.groupby('ref_hash').agg({'evt_16_20':'sum'}).reset_index()\n",
    "\n",
    "evt_after_18_20 = evt_after_18_20.merge( hour_mode_18_20, how = \"left\", on = \"ref_hash\" )\n",
    "evt_after_21_23 = evt_after_21_23.merge( hour_mode_21_23, how = \"left\", on = \"ref_hash\" )\n",
    "\n",
    "evt_after_18_20[\"evt_16_20\"] =  (evt_after_18_20[\"evt_16_20\"] > 1).astype('int8')\n",
    "evt_after_21_23[\"evt_16_20\"] =  (evt_after_21_23[\"evt_16_20\"] > 1).astype('int8')\n",
    "\n",
    "evt_after_18_20['me_evt_16_20'] = ( evt_after_18_20.groupby('evt_16_20').transform('count') ) / len(evt_after_18_20['evt_16_20'])\n",
    "evt_after_21_23['me_evt_16_20'] = ( evt_after_21_23.groupby('evt_16_20').transform('count') ) / len(evt_after_21_23['evt_16_20'])\n",
    "\n",
    "del evt_after_18_20['evt_16_20']\n",
    "del evt_after_21_23['evt_16_20']\n",
    "\n",
    "evt_after_18_20.to_csv( loc_ftr + \"\\\\me_evt_after_18_20.csv\", index = False )\n",
    "evt_after_21_23.to_csv( loc_ftr + \"\\\\me_evt_after_21_23.csv\", index = False )\n",
    "\n",
    "del evt_18_20['evt_16_20']\n",
    "del evt_21_23['evt_16_20']"
   ]
  },
  {
   "cell_type": "markdown",
   "metadata": {},
   "source": [
    "## <span style=\"color:Orange\"> **One-Hot Encoding** </span> "
   ]
  },
  {
   "cell_type": "code",
   "execution_count": 51,
   "metadata": {},
   "outputs": [],
   "source": [
    "evt_18_20['date'] = pd.to_datetime(evt_18_20['date'])\n",
    "evt_21_23['date'] = pd.to_datetime(evt_21_23['date'])\n",
    "\n",
    "evt_18_20['evt_16_20'] = (evt_18_20['date'].dt.hour < 21) & (evt_18_20['date'].dt.hour > 15)\n",
    "evt_21_23['evt_16_20'] = (evt_21_23['date'].dt.hour < 21) & (evt_18_20['date'].dt.hour > 15)\n",
    "\n",
    "evt_after_18_20 = rh_18_20.copy()\n",
    "evt_after_21_23 = rh_21_23.copy()\n",
    "\n",
    "hour_mode_18_20 = evt_18_20.groupby('ref_hash').agg({'evt_16_20':'sum'}).reset_index()\n",
    "hour_mode_21_23 = evt_21_23.groupby('ref_hash').agg({'evt_16_20':'sum'}).reset_index()\n",
    "\n",
    "evt_after_18_20 = evt_after_18_20.merge( hour_mode_18_20, how = \"left\", on = \"ref_hash\" )\n",
    "evt_after_21_23 = evt_after_21_23.merge( hour_mode_21_23, how = \"left\", on = \"ref_hash\" )\n",
    "\n",
    "evt_after_18_20[\"evt_16_20\"] =  (evt_after_18_20[\"evt_16_20\"] > 1).astype('int8')\n",
    "evt_after_21_23[\"evt_16_20\"] =  (evt_after_21_23[\"evt_16_20\"] > 1).astype('int8')\n",
    "\n",
    "evt_after_18_20.to_csv( loc_ftr + \"\\\\evt_after_18_20.csv\", index = False )\n",
    "evt_after_21_23.to_csv( loc_ftr + \"\\\\evt_after_21_23.csv\", index = False )\n",
    "\n",
    "del evt_18_20['evt_16_20']\n",
    "del evt_21_23['evt_16_20']"
   ]
  },
  {
   "cell_type": "code",
   "execution_count": null,
   "metadata": {},
   "outputs": [],
   "source": []
  }
 ],
 "metadata": {
  "kernelspec": {
   "display_name": "Python 3",
   "language": "python",
   "name": "python3"
  },
  "language_info": {
   "codemirror_mode": {
    "name": "ipython",
    "version": 3
   },
   "file_extension": ".py",
   "mimetype": "text/x-python",
   "name": "python",
   "nbconvert_exporter": "python",
   "pygments_lexer": "ipython3",
   "version": "3.7.3"
  }
 },
 "nbformat": 4,
 "nbformat_minor": 2
}
