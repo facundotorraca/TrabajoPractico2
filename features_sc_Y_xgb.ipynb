{
 "cells": [
  {
   "cell_type": "code",
   "execution_count": 2,
   "metadata": {},
   "outputs": [],
   "source": [
    "import pandas as pd\n",
    "import numpy as np\n",
    "import datetime as dt\n",
    "import warnings as wn\n",
    "import sklearn.preprocessing as skpre\n",
    "import category_encoders as ce\n",
    "\n",
    "wn.simplefilter( \"ignore\" )"
   ]
  },
  {
   "cell_type": "markdown",
   "metadata": {},
   "source": [
    "# Preparamos los Sets de Training"
   ]
  },
  {
   "cell_type": "code",
   "execution_count": 3,
   "metadata": {},
   "outputs": [],
   "source": [
    "loc_ts = r\"D:\\FacundoTorraca\\Documents\\TP2_Machine_Learning\\Training Sets\""
   ]
  },
  {
   "cell_type": "code",
   "execution_count": 4,
   "metadata": {},
   "outputs": [
    {
     "ename": "FileNotFoundError",
     "evalue": "[Errno 2] File b'D:\\\\FacundoTorraca\\\\Documents\\\\TP2_Machine_Learning\\\\Training Sets\\\\ins_18_20.csv' does not exist: b'D:\\\\FacundoTorraca\\\\Documents\\\\TP2_Machine_Learning\\\\Training Sets\\\\ins_18_20.csv'",
     "output_type": "error",
     "traceback": [
      "\u001b[0;31m---------------------------------------------------------------------------\u001b[0m",
      "\u001b[0;31mFileNotFoundError\u001b[0m                         Traceback (most recent call last)",
      "\u001b[0;32m<ipython-input-4-b0a990b0063f>\u001b[0m in \u001b[0;36m<module>\u001b[0;34m()\u001b[0m\n\u001b[0;32m----> 1\u001b[0;31m \u001b[0mins_18_20\u001b[0m \u001b[0;34m=\u001b[0m \u001b[0mpd\u001b[0m\u001b[0;34m.\u001b[0m\u001b[0mread_csv\u001b[0m\u001b[0;34m(\u001b[0m \u001b[0mloc_ts\u001b[0m \u001b[0;34m+\u001b[0m \u001b[0;34m\"\\\\ins_18_20.csv\"\u001b[0m \u001b[0;34m)\u001b[0m\u001b[0;34m;\u001b[0m\u001b[0;34m\u001b[0m\u001b[0;34m\u001b[0m\u001b[0m\n\u001b[0m\u001b[1;32m      2\u001b[0m \u001b[0mins_21_23\u001b[0m \u001b[0;34m=\u001b[0m \u001b[0mpd\u001b[0m\u001b[0;34m.\u001b[0m\u001b[0mread_csv\u001b[0m\u001b[0;34m(\u001b[0m \u001b[0mloc_ts\u001b[0m \u001b[0;34m+\u001b[0m \u001b[0;34m\"\\\\ins_21_23.csv\"\u001b[0m \u001b[0;34m)\u001b[0m\u001b[0;34m;\u001b[0m\u001b[0;34m\u001b[0m\u001b[0;34m\u001b[0m\u001b[0m\n\u001b[1;32m      3\u001b[0m \u001b[0mins_24_26\u001b[0m \u001b[0;34m=\u001b[0m \u001b[0mpd\u001b[0m\u001b[0;34m.\u001b[0m\u001b[0mread_csv\u001b[0m\u001b[0;34m(\u001b[0m \u001b[0mloc_ts\u001b[0m \u001b[0;34m+\u001b[0m \u001b[0;34m\"\\\\ins_24_26.csv\"\u001b[0m \u001b[0;34m)\u001b[0m\u001b[0;34m;\u001b[0m\u001b[0;34m\u001b[0m\u001b[0;34m\u001b[0m\u001b[0m\n",
      "\u001b[0;32m~/.local/lib/python3.6/site-packages/pandas/io/parsers.py\u001b[0m in \u001b[0;36mparser_f\u001b[0;34m(filepath_or_buffer, sep, delimiter, header, names, index_col, usecols, squeeze, prefix, mangle_dupe_cols, dtype, engine, converters, true_values, false_values, skipinitialspace, skiprows, skipfooter, nrows, na_values, keep_default_na, na_filter, verbose, skip_blank_lines, parse_dates, infer_datetime_format, keep_date_col, date_parser, dayfirst, iterator, chunksize, compression, thousands, decimal, lineterminator, quotechar, quoting, doublequote, escapechar, comment, encoding, dialect, tupleize_cols, error_bad_lines, warn_bad_lines, delim_whitespace, low_memory, memory_map, float_precision)\u001b[0m\n\u001b[1;32m    700\u001b[0m                     skip_blank_lines=skip_blank_lines)\n\u001b[1;32m    701\u001b[0m \u001b[0;34m\u001b[0m\u001b[0m\n\u001b[0;32m--> 702\u001b[0;31m         \u001b[0;32mreturn\u001b[0m \u001b[0m_read\u001b[0m\u001b[0;34m(\u001b[0m\u001b[0mfilepath_or_buffer\u001b[0m\u001b[0;34m,\u001b[0m \u001b[0mkwds\u001b[0m\u001b[0;34m)\u001b[0m\u001b[0;34m\u001b[0m\u001b[0;34m\u001b[0m\u001b[0m\n\u001b[0m\u001b[1;32m    703\u001b[0m \u001b[0;34m\u001b[0m\u001b[0m\n\u001b[1;32m    704\u001b[0m     \u001b[0mparser_f\u001b[0m\u001b[0;34m.\u001b[0m\u001b[0m__name__\u001b[0m \u001b[0;34m=\u001b[0m \u001b[0mname\u001b[0m\u001b[0;34m\u001b[0m\u001b[0;34m\u001b[0m\u001b[0m\n",
      "\u001b[0;32m~/.local/lib/python3.6/site-packages/pandas/io/parsers.py\u001b[0m in \u001b[0;36m_read\u001b[0;34m(filepath_or_buffer, kwds)\u001b[0m\n\u001b[1;32m    427\u001b[0m \u001b[0;34m\u001b[0m\u001b[0m\n\u001b[1;32m    428\u001b[0m     \u001b[0;31m# Create the parser.\u001b[0m\u001b[0;34m\u001b[0m\u001b[0;34m\u001b[0m\u001b[0;34m\u001b[0m\u001b[0m\n\u001b[0;32m--> 429\u001b[0;31m     \u001b[0mparser\u001b[0m \u001b[0;34m=\u001b[0m \u001b[0mTextFileReader\u001b[0m\u001b[0;34m(\u001b[0m\u001b[0mfilepath_or_buffer\u001b[0m\u001b[0;34m,\u001b[0m \u001b[0;34m**\u001b[0m\u001b[0mkwds\u001b[0m\u001b[0;34m)\u001b[0m\u001b[0;34m\u001b[0m\u001b[0;34m\u001b[0m\u001b[0m\n\u001b[0m\u001b[1;32m    430\u001b[0m \u001b[0;34m\u001b[0m\u001b[0m\n\u001b[1;32m    431\u001b[0m     \u001b[0;32mif\u001b[0m \u001b[0mchunksize\u001b[0m \u001b[0;32mor\u001b[0m \u001b[0miterator\u001b[0m\u001b[0;34m:\u001b[0m\u001b[0;34m\u001b[0m\u001b[0;34m\u001b[0m\u001b[0m\n",
      "\u001b[0;32m~/.local/lib/python3.6/site-packages/pandas/io/parsers.py\u001b[0m in \u001b[0;36m__init__\u001b[0;34m(self, f, engine, **kwds)\u001b[0m\n\u001b[1;32m    893\u001b[0m             \u001b[0mself\u001b[0m\u001b[0;34m.\u001b[0m\u001b[0moptions\u001b[0m\u001b[0;34m[\u001b[0m\u001b[0;34m'has_index_names'\u001b[0m\u001b[0;34m]\u001b[0m \u001b[0;34m=\u001b[0m \u001b[0mkwds\u001b[0m\u001b[0;34m[\u001b[0m\u001b[0;34m'has_index_names'\u001b[0m\u001b[0;34m]\u001b[0m\u001b[0;34m\u001b[0m\u001b[0;34m\u001b[0m\u001b[0m\n\u001b[1;32m    894\u001b[0m \u001b[0;34m\u001b[0m\u001b[0m\n\u001b[0;32m--> 895\u001b[0;31m         \u001b[0mself\u001b[0m\u001b[0;34m.\u001b[0m\u001b[0m_make_engine\u001b[0m\u001b[0;34m(\u001b[0m\u001b[0mself\u001b[0m\u001b[0;34m.\u001b[0m\u001b[0mengine\u001b[0m\u001b[0;34m)\u001b[0m\u001b[0;34m\u001b[0m\u001b[0;34m\u001b[0m\u001b[0m\n\u001b[0m\u001b[1;32m    896\u001b[0m \u001b[0;34m\u001b[0m\u001b[0m\n\u001b[1;32m    897\u001b[0m     \u001b[0;32mdef\u001b[0m \u001b[0mclose\u001b[0m\u001b[0;34m(\u001b[0m\u001b[0mself\u001b[0m\u001b[0;34m)\u001b[0m\u001b[0;34m:\u001b[0m\u001b[0;34m\u001b[0m\u001b[0;34m\u001b[0m\u001b[0m\n",
      "\u001b[0;32m~/.local/lib/python3.6/site-packages/pandas/io/parsers.py\u001b[0m in \u001b[0;36m_make_engine\u001b[0;34m(self, engine)\u001b[0m\n\u001b[1;32m   1120\u001b[0m     \u001b[0;32mdef\u001b[0m \u001b[0m_make_engine\u001b[0m\u001b[0;34m(\u001b[0m\u001b[0mself\u001b[0m\u001b[0;34m,\u001b[0m \u001b[0mengine\u001b[0m\u001b[0;34m=\u001b[0m\u001b[0;34m'c'\u001b[0m\u001b[0;34m)\u001b[0m\u001b[0;34m:\u001b[0m\u001b[0;34m\u001b[0m\u001b[0;34m\u001b[0m\u001b[0m\n\u001b[1;32m   1121\u001b[0m         \u001b[0;32mif\u001b[0m \u001b[0mengine\u001b[0m \u001b[0;34m==\u001b[0m \u001b[0;34m'c'\u001b[0m\u001b[0;34m:\u001b[0m\u001b[0;34m\u001b[0m\u001b[0;34m\u001b[0m\u001b[0m\n\u001b[0;32m-> 1122\u001b[0;31m             \u001b[0mself\u001b[0m\u001b[0;34m.\u001b[0m\u001b[0m_engine\u001b[0m \u001b[0;34m=\u001b[0m \u001b[0mCParserWrapper\u001b[0m\u001b[0;34m(\u001b[0m\u001b[0mself\u001b[0m\u001b[0;34m.\u001b[0m\u001b[0mf\u001b[0m\u001b[0;34m,\u001b[0m \u001b[0;34m**\u001b[0m\u001b[0mself\u001b[0m\u001b[0;34m.\u001b[0m\u001b[0moptions\u001b[0m\u001b[0;34m)\u001b[0m\u001b[0;34m\u001b[0m\u001b[0;34m\u001b[0m\u001b[0m\n\u001b[0m\u001b[1;32m   1123\u001b[0m         \u001b[0;32melse\u001b[0m\u001b[0;34m:\u001b[0m\u001b[0;34m\u001b[0m\u001b[0;34m\u001b[0m\u001b[0m\n\u001b[1;32m   1124\u001b[0m             \u001b[0;32mif\u001b[0m \u001b[0mengine\u001b[0m \u001b[0;34m==\u001b[0m \u001b[0;34m'python'\u001b[0m\u001b[0;34m:\u001b[0m\u001b[0;34m\u001b[0m\u001b[0;34m\u001b[0m\u001b[0m\n",
      "\u001b[0;32m~/.local/lib/python3.6/site-packages/pandas/io/parsers.py\u001b[0m in \u001b[0;36m__init__\u001b[0;34m(self, src, **kwds)\u001b[0m\n\u001b[1;32m   1851\u001b[0m         \u001b[0mkwds\u001b[0m\u001b[0;34m[\u001b[0m\u001b[0;34m'usecols'\u001b[0m\u001b[0;34m]\u001b[0m \u001b[0;34m=\u001b[0m \u001b[0mself\u001b[0m\u001b[0;34m.\u001b[0m\u001b[0musecols\u001b[0m\u001b[0;34m\u001b[0m\u001b[0;34m\u001b[0m\u001b[0m\n\u001b[1;32m   1852\u001b[0m \u001b[0;34m\u001b[0m\u001b[0m\n\u001b[0;32m-> 1853\u001b[0;31m         \u001b[0mself\u001b[0m\u001b[0;34m.\u001b[0m\u001b[0m_reader\u001b[0m \u001b[0;34m=\u001b[0m \u001b[0mparsers\u001b[0m\u001b[0;34m.\u001b[0m\u001b[0mTextReader\u001b[0m\u001b[0;34m(\u001b[0m\u001b[0msrc\u001b[0m\u001b[0;34m,\u001b[0m \u001b[0;34m**\u001b[0m\u001b[0mkwds\u001b[0m\u001b[0;34m)\u001b[0m\u001b[0;34m\u001b[0m\u001b[0;34m\u001b[0m\u001b[0m\n\u001b[0m\u001b[1;32m   1854\u001b[0m         \u001b[0mself\u001b[0m\u001b[0;34m.\u001b[0m\u001b[0munnamed_cols\u001b[0m \u001b[0;34m=\u001b[0m \u001b[0mself\u001b[0m\u001b[0;34m.\u001b[0m\u001b[0m_reader\u001b[0m\u001b[0;34m.\u001b[0m\u001b[0munnamed_cols\u001b[0m\u001b[0;34m\u001b[0m\u001b[0;34m\u001b[0m\u001b[0m\n\u001b[1;32m   1855\u001b[0m \u001b[0;34m\u001b[0m\u001b[0m\n",
      "\u001b[0;32mpandas/_libs/parsers.pyx\u001b[0m in \u001b[0;36mpandas._libs.parsers.TextReader.__cinit__\u001b[0;34m()\u001b[0m\n",
      "\u001b[0;32mpandas/_libs/parsers.pyx\u001b[0m in \u001b[0;36mpandas._libs.parsers.TextReader._setup_parser_source\u001b[0;34m()\u001b[0m\n",
      "\u001b[0;31mFileNotFoundError\u001b[0m: [Errno 2] File b'D:\\\\FacundoTorraca\\\\Documents\\\\TP2_Machine_Learning\\\\Training Sets\\\\ins_18_20.csv' does not exist: b'D:\\\\FacundoTorraca\\\\Documents\\\\TP2_Machine_Learning\\\\Training Sets\\\\ins_18_20.csv'"
     ]
    }
   ],
   "source": [
    "ins_18_20 = pd.read_csv( loc_ts + \"\\\\ins_18_20.csv\" ); \n",
    "ins_21_23 = pd.read_csv( loc_ts + \"\\\\ins_21_23.csv\" ); \n",
    "ins_24_26 = pd.read_csv( loc_ts + \"\\\\ins_24_26.csv\" ); "
   ]
  },
  {
   "cell_type": "code",
   "execution_count": 4,
   "metadata": {},
   "outputs": [],
   "source": [
    "evt_18_20 = pd.read_csv( loc_ts + \"\\\\evt_18_20.csv\" );\n",
    "evt_21_23 = pd.read_csv( loc_ts + \"\\\\evt_21_23.csv\" );\n",
    "evt_24_26 = pd.read_csv( loc_ts + \"\\\\evt_24_26.csv\" );"
   ]
  },
  {
   "cell_type": "code",
   "execution_count": 5,
   "metadata": {},
   "outputs": [],
   "source": [
    "auc_18_20 = pd.read_csv( loc_ts + \"\\\\auc_18_20.csv\" ); \n",
    "auc_21_23 = pd.read_csv( loc_ts + \"\\\\auc_21_23.csv\" );\n",
    "auc_24_26 = pd.read_csv( loc_ts + \"\\\\auc_24_26.csv\" );"
   ]
  },
  {
   "cell_type": "code",
   "execution_count": 6,
   "metadata": {},
   "outputs": [],
   "source": [
    "clk_18_20 = pd.read_csv( loc_ts + \"\\\\clk_18_20.csv\" );\n",
    "clk_21_23 = pd.read_csv( loc_ts + \"\\\\clk_21_23.csv\" );\n",
    "clk_24_26 = pd.read_csv( loc_ts + \"\\\\clk_24_26.csv\" );"
   ]
  },
  {
   "cell_type": "markdown",
   "metadata": {},
   "source": [
    "# Genero los Sets con el primer install"
   ]
  },
  {
   "cell_type": "code",
   "execution_count": 7,
   "metadata": {},
   "outputs": [],
   "source": [
    "ins_18_20[\"date\"] =  pd.to_datetime( ins_18_20[\"date\"] ); ins_18_20[\"_sc\"] = ins_18_20[\"date\"] - dt.datetime( year = 2019, month = 4, day = 18 ); ins_18_20[\"_sc\"] = ins_18_20[\"_sc\"].dt.total_seconds();\n",
    "ins_21_23[\"date\"] =  pd.to_datetime( ins_21_23[\"date\"] ); ins_21_23[\"_sc\"] = ins_21_23[\"date\"] - dt.datetime( year = 2019, month = 4, day = 21 ); ins_21_23[\"_sc\"] = ins_21_23[\"_sc\"].dt.total_seconds(); \n",
    "ins_24_26[\"date\"] =  pd.to_datetime( ins_24_26[\"date\"] ); ins_24_26[\"_sc\"] = ins_24_26[\"date\"] - dt.datetime( year = 2019, month = 4, day = 24 ); ins_24_26[\"_sc\"] = ins_24_26[\"_sc\"].dt.total_seconds(); "
   ]
  },
  {
   "cell_type": "code",
   "execution_count": 8,
   "metadata": {},
   "outputs": [],
   "source": [
    "ins_18_20_first_ins = ins_18_20.sort_values( by = [\"ref_hash\",\"_sc\"], ascending = True ).drop_duplicates( subset = [\"ref_hash\"], keep = \"first\" )\n",
    "ins_21_23_first_ins = ins_21_23.sort_values( by = [\"ref_hash\",\"_sc\"], ascending = True ).drop_duplicates( subset = [\"ref_hash\"], keep = \"first\" )\n",
    "ins_24_26_first_ins = ins_24_26.sort_values( by = [\"ref_hash\",\"_sc\"], ascending = True ).drop_duplicates( subset = [\"ref_hash\"], keep = \"first\" )"
   ]
  },
  {
   "cell_type": "markdown",
   "metadata": {},
   "source": [
    "# Sacamos los Features"
   ]
  },
  {
   "cell_type": "code",
   "execution_count": 9,
   "metadata": {},
   "outputs": [],
   "source": [
    "loc_ftr = r\"D:\\FacundoTorraca\\Documents\\TP2_Machine_Learning\\Features\\ftr_ins\""
   ]
  },
  {
   "cell_type": "code",
   "execution_count": 10,
   "metadata": {},
   "outputs": [],
   "source": [
    "rh_18_20 = ins_18_20_first_ins[ [\"ref_hash\"] ] #RH unicos que coinciden con los datos que usamos para entrenar\n",
    "rh_21_23 = ins_21_23_first_ins[ [\"ref_hash\"] ] #RH unicos que coinciden con los datos que queremos predecir\n",
    "\n",
    "tg_18_20 = ins_18_20_first_ins[ [\"_sc\"] ]\n",
    "tg_21_23 = ins_21_23_first_ins[ [\"_sc\"] ]"
   ]
  },
  {
   "cell_type": "markdown",
   "metadata": {},
   "source": [
    "## <span style=\"color:green\"> **Hora de la conversion** </span> "
   ]
  },
  {
   "cell_type": "markdown",
   "metadata": {},
   "source": [
    "Le aplicamos la transformacion sin( (hora * pi)/24 ) para agregarle periodicidad. Por ejemplo que las 00 hs tengan un valor similar a 23"
   ]
  },
  {
   "cell_type": "code",
   "execution_count": 897,
   "metadata": {},
   "outputs": [],
   "source": [
    "hour_18_20 = rh_18_20.copy()\n",
    "hour_21_23 = rh_21_23.copy()"
   ]
  },
  {
   "cell_type": "code",
   "execution_count": null,
   "metadata": {},
   "outputs": [],
   "source": [
    "hour_18_20[\"sin_hour\"] = pd.to_datetime( ins_18_20_first_ins[\"date\"] ).dt.hour; hour_18_20[\"sin_hour\"] = hour_18_20[\"sin_hour\"].apply( lambda x: np.sin( (x *np.pi)/24 ) )\n",
    "hour_21_23[\"sin_hour\"] = pd.to_datetime( ins_21_23_first_ins[\"date\"] ).dt.hour; hour_21_23[\"sin_hour\"] = hour_21_23[\"sin_hour\"].apply( lambda x: np.sin( (x *np.pi)/24 ) )"
   ]
  },
  {
   "cell_type": "code",
   "execution_count": null,
   "metadata": {},
   "outputs": [],
   "source": [
    "hour_18_20.to_csv( loc_ftr + \"\\\\sin_hour_18_20.csv\", index = False )\n",
    "hour_21_23.to_csv( loc_ftr + \"\\\\sin_hour_21_23.csv\", index = False )"
   ]
  },
  {
   "cell_type": "markdown",
   "metadata": {},
   "source": [
    "## <span style=\"color:green\"> **Cantidad de instalaciones por dispositivo en la ventana previa a la conversion** </span> "
   ]
  },
  {
   "cell_type": "code",
   "execution_count": 51,
   "metadata": {},
   "outputs": [],
   "source": [
    "cant_ins_18_20 = rh_18_20.copy()\n",
    "cant_ins_21_23 = rh_21_23.copy()\n",
    "\n",
    "cant_ins_18_20 = cant_ins_18_20.merge( ins_18_20[\"ref_hash\"].value_counts().to_frame().reset_index().rename( columns = {\"ref_hash\": \"cant_ins\", \"index\":\"ref_hash\"} ), how = \"left\", on = \"ref_hash\" )\n",
    "cant_ins_21_23 = cant_ins_21_23.merge( ins_21_23[\"ref_hash\"].value_counts().to_frame().reset_index().rename( columns = {\"ref_hash\": \"cant_ins\", \"index\":\"ref_hash\"} ), how = \"left\", on = \"ref_hash\" )\n",
    "\n",
    "cant_ins_18_20.to_csv( loc_ftr + \"\\\\cant_ins_18_20.csv\", index = False )\n",
    "cant_ins_21_23.to_csv( loc_ftr + \"\\\\cant_ins_21_23.csv\", index = False )"
   ]
  },
  {
   "cell_type": "markdown",
   "metadata": {},
   "source": [
    "## <span style=\"color:green\"> **Cantidad de Eventos por dispositivo en la ventana previa a la conversion** </span>"
   ]
  },
  {
   "cell_type": "code",
   "execution_count": 29,
   "metadata": {},
   "outputs": [],
   "source": [
    "cant_evt_18_20 = rh_18_20\n",
    "cant_evt_21_23 = rh_21_23"
   ]
  },
  {
   "cell_type": "code",
   "execution_count": 30,
   "metadata": {},
   "outputs": [],
   "source": [
    "cant_evt_18_20 = cant_evt_18_20.merge( evt_18_20[\"ref_hash\"].value_counts().to_frame().reset_index().rename( columns = {\"ref_hash\": \"cant_evt\", \"index\":\"ref_hash\"} ), how = \"left\", on = \"ref_hash\" )\n",
    "cant_evt_21_23 = cant_evt_21_23.merge( evt_21_23[\"ref_hash\"].value_counts().to_frame().reset_index().rename( columns = {\"ref_hash\": \"cant_evt\", \"index\":\"ref_hash\"} ), how = \"left\", on = \"ref_hash\" )"
   ]
  },
  {
   "cell_type": "code",
   "execution_count": 32,
   "metadata": {},
   "outputs": [],
   "source": [
    "cant_evt_18_20.fillna( 0, inplace = True )\n",
    "cant_evt_21_23.fillna( 0, inplace = True )"
   ]
  },
  {
   "cell_type": "code",
   "execution_count": 33,
   "metadata": {},
   "outputs": [],
   "source": [
    "cant_evt_18_20.to_csv( loc_ftr + \"\\\\cant_evt_18_20.csv\", index = False )\n",
    "cant_evt_21_23.to_csv( loc_ftr + \"\\\\cant_evt_21_23.csv\", index = False )"
   ]
  },
  {
   "cell_type": "markdown",
   "metadata": {},
   "source": [
    "## <span style=\"color:green\"> **Cantidad de Subastas por dispositivo en la ventana previa a la conversion** </span>"
   ]
  },
  {
   "cell_type": "code",
   "execution_count": 115,
   "metadata": {},
   "outputs": [],
   "source": [
    "cant_auc_18_20 = rh_18_20.copy()\n",
    "cant_auc_21_23 = rh_21_23.copy()"
   ]
  },
  {
   "cell_type": "code",
   "execution_count": 116,
   "metadata": {},
   "outputs": [],
   "source": [
    "cant_auc_18_20 = cant_auc_18_20.merge( auc_18_20[\"device_id\"].value_counts().to_frame().reset_index().rename( columns = {\"device_id\": \"cant_auc\", \"index\":\"ref_hash\"} ), how = \"left\", on = \"ref_hash\" )\n",
    "cant_auc_21_23 = cant_auc_21_23.merge( auc_21_23[\"device_id\"].value_counts().to_frame().reset_index().rename( columns = {\"device_id\": \"cant_auc\", \"index\":\"ref_hash\"} ), how = \"left\", on = \"ref_hash\" )"
   ]
  },
  {
   "cell_type": "code",
   "execution_count": 117,
   "metadata": {},
   "outputs": [],
   "source": [
    "cant_auc_18_20.fillna( 0, inplace = True )\n",
    "cant_auc_21_23.fillna( 0, inplace = True )"
   ]
  },
  {
   "cell_type": "code",
   "execution_count": 118,
   "metadata": {},
   "outputs": [],
   "source": [
    "cant_auc_18_20.to_csv( loc_ftr + \"\\\\cant_auc_18_20.csv\", index = False )\n",
    "cant_auc_21_23.to_csv( loc_ftr + \"\\\\cant_auc_21_23.csv\", index = False )"
   ]
  },
  {
   "cell_type": "markdown",
   "metadata": {},
   "source": [
    "## <span style=\"color:green\"> **WiFi en la instalacion** </span>"
   ]
  },
  {
   "cell_type": "markdown",
   "metadata": {},
   "source": [
    "#### <span style=\"color:orange\"> **Mean Encoding** </span> (Usando el SC para el promedio) - <span style=\"color:red\"> **No Mejora este tipo de codificacion** </span>"
   ]
  },
  {
   "cell_type": "code",
   "execution_count": 856,
   "metadata": {},
   "outputs": [],
   "source": [
    "wifi_ins_18_20 = rh_18_20.copy()\n",
    "wifi_ins_21_23 = rh_21_23.copy()"
   ]
  },
  {
   "cell_type": "code",
   "execution_count": 611,
   "metadata": {},
   "outputs": [],
   "source": [
    "sc = ins_21_23_first_ins.loc[ ins_21_23_first_ins[\"ref_hash\"].isin( rh_18_20[\"ref_hash\"] ), [\"ref_hash\",\"_sc\"] ]\n",
    "\n",
    "wf_18_20_sc = ins_18_20_first_ins[ [\"ref_hash\",\"wifi\"] ].merge( sc, how = \"left\", on = \"ref_hash\" ); \n",
    "\n",
    "X_wf = wf_18_20_sc[ [\"wifi\"] ].astype(str)\n",
    "Y_wf = wf_18_20_sc[ [\"_sc\"] ]"
   ]
  },
  {
   "cell_type": "code",
   "execution_count": 612,
   "metadata": {},
   "outputs": [],
   "source": [
    "te = ce.TargetEncoder(smoothing=True); te.fit( X_wf, Y_wf );"
   ]
  },
  {
   "cell_type": "code",
   "execution_count": 613,
   "metadata": {},
   "outputs": [],
   "source": [
    "wifi_ins_18_20[\"wifi\"] = te.transform( ins_18_20_first_ins[ [\"wifi\"] ].astype( str ) );\n",
    "wifi_ins_21_23[\"wifi\"] = te.transform( ins_21_23_first_ins[ [\"wifi\"] ].astype( str ) ); "
   ]
  },
  {
   "cell_type": "code",
   "execution_count": 616,
   "metadata": {},
   "outputs": [],
   "source": [
    "wifi_ins_18_20.to_csv( loc_ftr + \"\\\\wifi_ins_18_20.csv\", index = False )\n",
    "wifi_ins_21_23.to_csv( loc_ftr + \"\\\\wifi_ins_21_23.csv\", index = False )"
   ]
  },
  {
   "cell_type": "markdown",
   "metadata": {},
   "source": [
    "#### <span style=\"color:orange\"> **OneHotEncoding** </span> "
   ]
  },
  {
   "cell_type": "code",
   "execution_count": 894,
   "metadata": {},
   "outputs": [],
   "source": [
    "wifi_ins_18_20 = rh_18_20.copy()\n",
    "wifi_ins_21_23 = rh_21_23.copy()"
   ]
  },
  {
   "cell_type": "code",
   "execution_count": 623,
   "metadata": {},
   "outputs": [],
   "source": [
    "wf_ohe_18_20 = pd.get_dummies( ins_18_20_first_ins[ [\"wifi\"] ] )\n",
    "wf_ohe_21_23 = pd.get_dummies( ins_21_23_first_ins[ [\"wifi\"] ] )"
   ]
  },
  {
   "cell_type": "code",
   "execution_count": 624,
   "metadata": {},
   "outputs": [],
   "source": [
    "wifi_ins_18_20 = pd.concat( [wifi_ins_18_20, wf_ohe_18_20], axis = 1 )\n",
    "wifi_ins_21_23 = pd.concat( [wifi_ins_21_23, wf_ohe_21_23], axis = 1 )"
   ]
  },
  {
   "cell_type": "code",
   "execution_count": 625,
   "metadata": {},
   "outputs": [],
   "source": [
    "wifi_ins_18_20.to_csv( loc_ftr + \"\\\\wifi_ins_18_20.csv\", index = False )\n",
    "wifi_ins_21_23.to_csv( loc_ftr + \"\\\\wifi_ins_21_23.csv\", index = False )"
   ]
  },
  {
   "cell_type": "markdown",
   "metadata": {},
   "source": [
    "## <span style=\"color:green\"> **Aplicacion mas instalada por el usuario** </span>\n",
    "\n",
    "#### <span style=\"color:orange\"> **Mean Encoding** </span> (Usamos el promedio de la cantidad de veces que que es la app principal de algun dispositivo)"
   ]
  },
  {
   "cell_type": "code",
   "execution_count": 19,
   "metadata": {},
   "outputs": [],
   "source": [
    "main_app_18_20 = rh_18_20.copy()\n",
    "main_app_21_23 = rh_21_23.copy()\n",
    "\n",
    "app_mas_ins_18_20 = ins_18_20.groupby( by = [\"ref_hash\",\"application_id\"] ).agg( {\"application_id\":\"count\"} ).rename( columns = {\"application_id\":\"cant_ins\"} ).reset_index()\n",
    "app_mas_ins_21_23 = ins_21_23.groupby( by = [\"ref_hash\",\"application_id\"] ).agg( {\"application_id\":\"count\"} ).rename( columns = {\"application_id\":\"cant_ins\"} ).reset_index()\n",
    "\n",
    "app_mas_ins_18_20 = app_mas_ins_18_20.sort_values( by = [\"ref_hash\", \"cant_ins\"], ascending = True ).drop_duplicates( subset = \"ref_hash\", keep = \"last\" ); del( app_mas_ins_18_20[\"cant_ins\"] )\n",
    "app_mas_ins_21_23 = app_mas_ins_21_23.sort_values( by = [\"ref_hash\", \"cant_ins\"], ascending = True ).drop_duplicates( subset = \"ref_hash\", keep = \"last\" ); del( app_mas_ins_21_23[\"cant_ins\"] ) \n",
    "\n",
    "main_app_18_20 = main_app_18_20.merge( app_mas_ins_18_20, how = \"left\", on = \"ref_hash\" )\n",
    "main_app_21_23 = main_app_21_23.merge( app_mas_ins_21_23, how = \"left\", on = \"ref_hash\" )\n",
    "\n",
    "main_app_18_20[\"to_count\"] = 1; main_app_18_20[\"application_id\"] = main_app_18_20[[\"application_id\", \"to_count\"]].groupby(\"application_id\").transform( \"sum\" ) / len(main_app_18_20); del(main_app_18_20[\"to_count\"])\n",
    "main_app_21_23[\"to_count\"] = 1; main_app_21_23[\"application_id\"] = main_app_21_23[[\"application_id\", \"to_count\"]].groupby(\"application_id\").transform( \"sum\" ) / len(main_app_21_23); del(main_app_21_23[\"to_count\"])\n",
    "\n",
    "main_app_18_20.to_csv( loc_ftr + \"\\\\main_app_18_20.csv\", index = False )\n",
    "main_app_21_23.to_csv( loc_ftr + \"\\\\main_app_21_23.csv\", index = False )"
   ]
  },
  {
   "cell_type": "markdown",
   "metadata": {},
   "source": [
    "## <span style=\"color:green\"> **Cantidad de instalaciones implicitas por dispositivo** </span> "
   ]
  },
  {
   "cell_type": "code",
   "execution_count": 873,
   "metadata": {},
   "outputs": [],
   "source": [
    "cins_imp_18_20 = rh_18_20.copy()\n",
    "cins_imp_21_23 = rh_21_23.copy()"
   ]
  },
  {
   "cell_type": "code",
   "execution_count": 873,
   "metadata": {},
   "outputs": [],
   "source": [
    "cins_imp_18_20[\"cant_imp\"] = ins_18_20[\"implicit\"].apply( lambda x: 1 if x else 0 ); cins_imp_18_20 = cins_imp_18_20.groupby( \"ref_hash\" ).agg( {\"cant_imp\":\"sum\"} ).reset_index()\n",
    "cins_imp_21_23[\"cant_imp\"] = ins_21_23[\"implicit\"].apply( lambda x: 1 if x else 0 ); cins_imp_21_23 = cins_imp_21_23.groupby( \"ref_hash\" ).agg( {\"cant_imp\":\"sum\"} ).reset_index()"
   ]
  },
  {
   "cell_type": "code",
   "execution_count": 873,
   "metadata": {},
   "outputs": [],
   "source": [
    "cins_imp_18_20.to_csv( loc_ftr + \"\\\\cins_imp_18_20.csv\", index = False )\n",
    "cins_imp_21_23.to_csv( loc_ftr + \"\\\\cins_imp_21_23.csv\", index = False )"
   ]
  },
  {
   "cell_type": "markdown",
   "metadata": {},
   "source": [
    "## <span style=\"color:green\"> **Tipo de la primera instalacion (implicita/no implicita)** </span> "
   ]
  },
  {
   "cell_type": "markdown",
   "metadata": {},
   "source": [
    "#### <span style=\"color:orange\"> **OneHotEncoding** </span> "
   ]
  },
  {
   "cell_type": "code",
   "execution_count": 891,
   "metadata": {},
   "outputs": [],
   "source": [
    "type_ins_18_20 = rh_18_20.copy()\n",
    "type_ins_21_23 = rh_21_23.copy()"
   ]
  },
  {
   "cell_type": "code",
   "execution_count": 879,
   "metadata": {},
   "outputs": [],
   "source": [
    "type_ins_ohe_18_20 = pd.get_dummies( ins_18_20_first_ins[ [\"implicit\"] ].astype( \"category\" ) )\n",
    "type_ins_ohe_21_23 = pd.get_dummies( ins_21_23_first_ins[ [\"implicit\"] ].astype( \"category\" ) )"
   ]
  },
  {
   "cell_type": "code",
   "execution_count": 881,
   "metadata": {},
   "outputs": [],
   "source": [
    "type_ins_18_20 = pd.concat( [type_ins_18_20, type_ins_ohe_18_20], axis = 1 )\n",
    "type_ins_21_23 = pd.concat( [type_ins_21_23, type_ins_ohe_21_23], axis = 1 )"
   ]
  },
  {
   "cell_type": "code",
   "execution_count": 882,
   "metadata": {},
   "outputs": [],
   "source": [
    "type_ins_18_20.to_csv( loc_ftr + \"\\\\type_ins_18_20.csv\", index = False )\n",
    "type_ins_21_23.to_csv( loc_ftr + \"\\\\type_ins_21_23.csv\", index = False )"
   ]
  },
  {
   "cell_type": "markdown",
   "metadata": {},
   "source": [
    "## <span style=\"color:green\"> **Ref Type del dispositivo que realizo la instalacion** </span>\n",
    "\n",
    "#### <span style=\"color:orange\"> **Mean Encoding** </span> (Usamos el promedio de la cantidad de instalaciones con ese ref_type en la ventana)"
   ]
  },
  {
   "cell_type": "code",
   "execution_count": 1016,
   "metadata": {},
   "outputs": [],
   "source": [
    "ref_type_18_20 = rh_18_20.copy()\n",
    "ref_type_21_23 = rh_21_23.copy()"
   ]
  },
  {
   "cell_type": "code",
   "execution_count": 1017,
   "metadata": {},
   "outputs": [],
   "source": [
    "rt_18_20_mean = ins_18_20[ [\"ref_type\"] ].groupby( \"ref_type\" ).agg( {\"ref_type\":\"count\"} ).rename( columns = {\"ref_type\":\"cant_ins\"} ).reset_index()\n",
    "rt_21_23_mean = ins_21_23[ [\"ref_type\"] ].groupby( \"ref_type\" ).agg( {\"ref_type\":\"count\"} ).rename( columns = {\"ref_type\":\"cant_ins\"} ).reset_index()"
   ]
  },
  {
   "cell_type": "code",
   "execution_count": 1018,
   "metadata": {},
   "outputs": [],
   "source": [
    "rt_18_20_mean[\"ref_type_mean\"] = rt_18_20_mean[\"cant_ins\"] / len(ins_18_20); del( rt_18_20_mean[\"cant_ins\"] )\n",
    "rt_21_23_mean[\"ref_type_mean\"] = rt_21_23_mean[\"cant_ins\"] / len(ins_21_23); del( rt_21_23_mean[\"cant_ins\"] )"
   ]
  },
  {
   "cell_type": "code",
   "execution_count": 1019,
   "metadata": {},
   "outputs": [],
   "source": [
    "ref_type_18_20[\"ref_type\"] = ins_18_20_first_ins[\"ref_type\"]; ref_type_18_20 = ref_type_18_20.merge( rt_18_20_mean, how = \"left\", on = \"ref_type\" ); del( ref_type_18_20[\"ref_type\"] )\n",
    "ref_type_21_23[\"ref_type\"] = ins_21_23_first_ins[\"ref_type\"]; ref_type_21_23 = ref_type_21_23.merge( rt_21_23_mean, how = \"left\", on = \"ref_type\" ); del( ref_type_21_23[\"ref_type\"] )"
   ]
  },
  {
   "cell_type": "code",
   "execution_count": 1021,
   "metadata": {},
   "outputs": [],
   "source": [
    "ref_type_18_20.to_csv( loc_ftr + \"\\\\ref_type_18_20.csv\", index = False )\n",
    "ref_type_21_23.to_csv( loc_ftr + \"\\\\ref_type_21_23.csv\", index = False )"
   ]
  },
  {
   "cell_type": "markdown",
   "metadata": {},
   "source": [
    "## <span style=\"color:green\"> **Cantidad de instalaciones atribuidas por dispositivo** </span> "
   ]
  },
  {
   "cell_type": "code",
   "execution_count": 79,
   "metadata": {},
   "outputs": [],
   "source": [
    "cins_atr_18_20 = rh_18_20.copy()\n",
    "cins_atr_21_23 = rh_21_23.copy()"
   ]
  },
  {
   "cell_type": "code",
   "execution_count": 79,
   "metadata": {},
   "outputs": [],
   "source": [
    "cins_atr_18_20[\"cant_atr\"] = ins_18_20[\"attributed\"].apply( lambda x: 1 if x else 0 ); cins_atr_18_20 = cins_atr_18_20.groupby( \"ref_hash\" ).agg( {\"cant_atr\":\"sum\"} ).reset_index()\n",
    "cins_atr_21_23[\"cant_atr\"] = ins_21_23[\"attributed\"].apply( lambda x: 1 if x else 0 ); cins_atr_21_23 = cins_atr_21_23.groupby( \"ref_hash\" ).agg( {\"cant_atr\":\"sum\"} ).reset_index()"
   ]
  },
  {
   "cell_type": "code",
   "execution_count": 79,
   "metadata": {},
   "outputs": [],
   "source": [
    "cins_atr_18_20.to_csv( loc_ftr + \"\\\\cins_atr_18_20.csv\", index = False )\n",
    "cins_atr_21_23.to_csv( loc_ftr + \"\\\\cins_atr_21_23.csv\", index = False )"
   ]
  },
  {
   "cell_type": "markdown",
   "metadata": {},
   "source": [
    "## <span style=\"color:green\"> **IP del dispositivo al realizar la primera instalacion** </span> "
   ]
  },
  {
   "cell_type": "code",
   "execution_count": 108,
   "metadata": {},
   "outputs": [],
   "source": [
    "ip_encod_18_20 = rh_18_20.copy()\n",
    "ip_encod_21_23 = rh_21_23.copy()"
   ]
  },
  {
   "cell_type": "code",
   "execution_count": 109,
   "metadata": {},
   "outputs": [],
   "source": [
    "ip_encod_18_20[\"ip_address\"] = ins_18_20_first_ins[\"ip_address\"];\n",
    "ip_encod_21_23[\"ip_address\"] = ins_21_23_first_ins[\"ip_address\"];"
   ]
  },
  {
   "cell_type": "code",
   "execution_count": 110,
   "metadata": {},
   "outputs": [],
   "source": [
    "appces_18_20_ins = ins_18_20[\"ip_address\"].value_counts().reset_index().rename( columns = {\"index\":\"ip_address\", \"ip_address\":\"appearances\"} )\n",
    "appces_21_23_ins = ins_21_23[\"ip_address\"].value_counts().reset_index().rename( columns = {\"index\":\"ip_address\", \"ip_address\":\"appearances\"} )"
   ]
  },
  {
   "cell_type": "code",
   "execution_count": 111,
   "metadata": {},
   "outputs": [],
   "source": [
    "appces_18_20_ins[\"ip_address_mean\"] = appces_18_20_ins[\"appearances\"] / len( ins_18_20 ); appces_18_20_ins.drop( \"appearances\", axis = 1, inplace = True )\n",
    "appces_21_23_ins[\"ip_address_mean\"] = appces_21_23_ins[\"appearances\"] / len( ins_21_23 ); appces_21_23_ins.drop( \"appearances\", axis = 1, inplace = True )"
   ]
  },
  {
   "cell_type": "code",
   "execution_count": 112,
   "metadata": {},
   "outputs": [],
   "source": [
    "ip_encod_18_20 = ip_encod_18_20.merge( appces_18_20_ins, how = \"left\", on = \"ip_address\" ).drop( \"ip_address\", axis = 1 )\n",
    "ip_encod_21_23 = ip_encod_21_23.merge( appces_21_23_ins, how = \"left\", on = \"ip_address\" ).drop( \"ip_address\", axis = 1 )"
   ]
  },
  {
   "cell_type": "code",
   "execution_count": 114,
   "metadata": {},
   "outputs": [],
   "source": [
    "ip_encod_18_20.to_csv( loc_ftr + \"\\\\ip_encod_18_20.csv\", index = False )\n",
    "ip_encod_21_23.to_csv( loc_ftr + \"\\\\ip_encod_21_23.csv\", index = False )"
   ]
  },
  {
   "cell_type": "markdown",
   "metadata": {},
   "source": [
    "## <span style=\"color:green\"> **Cantidad de eventos atribuidas por dispositivo** </span> "
   ]
  },
  {
   "cell_type": "code",
   "execution_count": 82,
   "metadata": {},
   "outputs": [],
   "source": [
    "cevt_atr_18_20 = rh_18_20.copy()\n",
    "cevt_atr_21_23 = rh_21_23.copy()"
   ]
  },
  {
   "cell_type": "code",
   "execution_count": 83,
   "metadata": {},
   "outputs": [],
   "source": [
    "cant_atr_evt_18_20 = evt_18_20[[\"ref_hash\", \"attributed\"]]; cant_atr_evt_18_20[\"attributed\"] = cant_atr_evt_18_20[\"attributed\"].apply( lambda x: 1 if x else 0 );\n",
    "cant_atr_evt_21_23 = evt_21_23[[\"ref_hash\", \"attributed\"]]; cant_atr_evt_21_23[\"attributed\"] = cant_atr_evt_21_23[\"attributed\"].apply( lambda x: 1 if x else 0 );"
   ]
  },
  {
   "cell_type": "code",
   "execution_count": 84,
   "metadata": {},
   "outputs": [],
   "source": [
    "cant_atr_evt_18_20 = cant_atr_evt_18_20.groupby( \"ref_hash\" ).agg( \"sum\" )\n",
    "cant_atr_evt_21_23 = cant_atr_evt_21_23.groupby( \"ref_hash\" ).agg( \"sum\" )"
   ]
  },
  {
   "cell_type": "code",
   "execution_count": 85,
   "metadata": {},
   "outputs": [],
   "source": [
    "cevt_atr_18_20 = cevt_atr_18_20.merge( cant_atr_evt_18_20, how = \"left\", on = \"ref_hash\" ).fillna( 0 )\n",
    "cevt_atr_21_23 = cevt_atr_21_23.merge( cant_atr_evt_21_23, how = \"left\", on = \"ref_hash\" ).fillna( 0 )"
   ]
  },
  {
   "cell_type": "code",
   "execution_count": 86,
   "metadata": {},
   "outputs": [],
   "source": [
    "cevt_atr_18_20.to_csv( loc_ftr + \"\\\\cevt_atr_18_20.csv\", index = False )\n",
    "cevt_atr_21_23.to_csv( loc_ftr + \"\\\\cevt_atr_21_23.csv\", index = False )"
   ]
  },
  {
   "cell_type": "markdown",
   "metadata": {},
   "source": [
    "## <span style=\"color:green\"> **Tipo de evento mas realizado por el dispositivo** </span> \n",
    "\n",
    "#### <span style=\"color:orange\"> **Mean Encoding** </span> (Lo codificamos haciendo la cantidad de eventos que se realizaron de ese tipo sobre el total de eventos realizados)"
   ]
  },
  {
   "cell_type": "code",
   "execution_count": 144,
   "metadata": {},
   "outputs": [],
   "source": [
    "kind_evt_18_20 = rh_18_20.copy()\n",
    "kind_evt_21_23 = rh_21_23.copy()"
   ]
  },
  {
   "cell_type": "code",
   "execution_count": 145,
   "metadata": {},
   "outputs": [],
   "source": [
    "main_kind_evt_18_20 = evt_18_20.groupby( by = [\"ref_hash\",\"kind\"] ).agg( {\"kind\":\"count\"} ).rename( columns = {\"kind\":\"cant_evt\"} ).reset_index()\n",
    "main_kind_evt_21_23 = evt_21_23.groupby( by = [\"ref_hash\",\"kind\"] ).agg( {\"kind\":\"count\"} ).rename( columns = {\"kind\":\"cant_evt\"} ).reset_index()"
   ]
  },
  {
   "cell_type": "code",
   "execution_count": 146,
   "metadata": {},
   "outputs": [],
   "source": [
    "main_kind_evt_18_20 = main_kind_evt_18_20.sort_values( by = [\"ref_hash\", \"cant_evt\"], ascending = True ).drop_duplicates( subset = \"ref_hash\", keep = \"last\" ); del( main_kind_evt_18_20[\"cant_evt\"] )\n",
    "main_kind_evt_21_23 = main_kind_evt_21_23.sort_values( by = [\"ref_hash\", \"cant_evt\"], ascending = True ).drop_duplicates( subset = \"ref_hash\", keep = \"last\" ); del( main_kind_evt_21_23[\"cant_evt\"] ) "
   ]
  },
  {
   "cell_type": "code",
   "execution_count": 147,
   "metadata": {},
   "outputs": [],
   "source": [
    "kind_evt_18_20 = kind_evt_18_20.merge( main_kind_evt_18_20, how = \"left\", on = \"ref_hash\" )\n",
    "kind_evt_21_23 = kind_evt_21_23.merge( main_kind_evt_21_23, how = \"left\", on = \"ref_hash\" )"
   ]
  },
  {
   "cell_type": "code",
   "execution_count": 148,
   "metadata": {},
   "outputs": [],
   "source": [
    "cant_kind_evt_18_20 = evt_18_20[[\"ref_hash\",\"kind\"]].groupby( \"kind\" ).agg(\"count\").reset_index().rename( columns = {\"ref_hash\":\"cant_kind\"} )\n",
    "cant_kind_evt_21_23 = evt_21_23[[\"ref_hash\",\"kind\"]].groupby( \"kind\" ).agg(\"count\").reset_index().rename( columns = {\"ref_hash\":\"cant_kind\"} )"
   ]
  },
  {
   "cell_type": "code",
   "execution_count": 149,
   "metadata": {},
   "outputs": [],
   "source": [
    "kind_evt_18_20 = kind_evt_18_20.merge( cant_kind_evt_18_20, how = \"left\", on = \"kind\" ).drop( \"kind\", axis = 1 )\n",
    "kind_evt_21_23 = kind_evt_21_23.merge( cant_kind_evt_21_23, how = \"left\", on = \"kind\" ).drop( \"kind\", axis = 1 )"
   ]
  },
  {
   "cell_type": "code",
   "execution_count": 150,
   "metadata": {},
   "outputs": [],
   "source": [
    "kind_evt_18_20[\"kind_mean\"] = kind_evt_18_20[\"cant_kind\"] / len(evt_18_20); kind_evt_18_20.fillna( kind_evt_18_20[\"kind_mean\"].isnull().sum() / len(evt_18_20), inplace = True ); del(kind_evt_18_20[\"cant_kind\"])\n",
    "kind_evt_21_23[\"kind_mean\"] = kind_evt_21_23[\"cant_kind\"] / len(evt_21_23); kind_evt_21_23.fillna( kind_evt_21_23[\"kind_mean\"].isnull().sum() / len(evt_21_23), inplace = True ); del(kind_evt_21_23[\"cant_kind\"])"
   ]
  },
  {
   "cell_type": "code",
   "execution_count": 152,
   "metadata": {},
   "outputs": [],
   "source": [
    "kind_evt_18_20.to_csv( loc_ftr + \"\\\\kind_evt_18_20.csv\", index = False )\n",
    "kind_evt_21_23.to_csv( loc_ftr + \"\\\\kind_evt_21_23.csv\", index = False )"
   ]
  },
  {
   "cell_type": "markdown",
   "metadata": {},
   "source": [
    "## <span style=\"color:green\"> **Tiempo hasta la primer auction en ese ventana** </span> \n",
    "\n",
    "Le asignamos cuanto tiempo, en la ventana del 18-20, tardo en realizar su primer auction"
   ]
  },
  {
   "cell_type": "code",
   "execution_count": 12,
   "metadata": {},
   "outputs": [],
   "source": [
    "frst_auc_18_20 = rh_18_20.copy()\n",
    "frst_auc_21_23 = rh_21_23.copy()"
   ]
  },
  {
   "cell_type": "code",
   "execution_count": 13,
   "metadata": {},
   "outputs": [],
   "source": [
    "first_auctions_rh_ins_18_20 = auc_18_20[ [\"device_id\",\"date\"] ].sort_values( \"date\" ).drop_duplicates( subset = \"device_id\", keep = \"first\" ).rename( columns = {\"device_id\":\"ref_hash\"} )\n",
    "first_auctions_rh_ins_21_23 = auc_21_23[ [\"device_id\",\"date\"] ].sort_values( \"date\" ).drop_duplicates( subset = \"device_id\", keep = \"first\" ).rename( columns = {\"device_id\":\"ref_hash\"} )"
   ]
  },
  {
   "cell_type": "code",
   "execution_count": 19,
   "metadata": {},
   "outputs": [],
   "source": [
    "first_auctions_rh_ins_18_20[\"time_to_frt_auc\"] = ( pd.to_datetime( first_auctions_rh_ins_18_20[\"date\"] ) -  dt.datetime( year = 2019, month = 4, day = 18 ) ).dt.total_seconds()\n",
    "first_auctions_rh_ins_21_23[\"time_to_frt_auc\"] = ( pd.to_datetime( first_auctions_rh_ins_21_23[\"date\"] ) -  dt.datetime( year = 2019, month = 4, day = 21 ) ).dt.total_seconds()"
   ]
  },
  {
   "cell_type": "code",
   "execution_count": 25,
   "metadata": {},
   "outputs": [],
   "source": [
    "first_auctions_rh_ins_18_20.drop( \"date\", axis = 1, inplace = True )\n",
    "first_auctions_rh_ins_21_23.drop( \"date\", axis = 1, inplace = True )"
   ]
  },
  {
   "cell_type": "code",
   "execution_count": 26,
   "metadata": {},
   "outputs": [],
   "source": [
    "frst_auc_18_20 = frst_auc_18_20.merge( first_auctions_rh_ins_18_20, how = \"left\", on = \"ref_hash\" )\n",
    "frst_auc_21_23 = frst_auc_21_23.merge( first_auctions_rh_ins_21_23, how = \"left\", on = \"ref_hash\" )"
   ]
  },
  {
   "cell_type": "code",
   "execution_count": 29,
   "metadata": {},
   "outputs": [],
   "source": [
    "#Los que tienen NaN es que nunca convirtieron. Los marcamos con el tiempo maximo\n",
    "frst_auc_18_20.fillna( 3 * 24 * 3600, inplace = True )\n",
    "frst_auc_21_23.fillna( 3 * 24 * 3600, inplace = True )"
   ]
  },
  {
   "cell_type": "code",
   "execution_count": 30,
   "metadata": {},
   "outputs": [],
   "source": [
    "frst_auc_18_20.to_csv( loc_ftr + \"\\\\frst_auc_18_20.csv\", index = False )\n",
    "frst_auc_21_23.to_csv( loc_ftr + \"\\\\frst_auc_21_23.csv\", index = False )"
   ]
  },
  {
   "cell_type": "markdown",
   "metadata": {},
   "source": [
    "## <span style=\"color:green\"> **Tiempo hasta el primer evento en ese ventana** </span> \n",
    "\n",
    "Le asignamos cuanto tiempo, en la ventana del 18-20, tardo en realizar su primer evento"
   ]
  },
  {
   "cell_type": "code",
   "execution_count": 46,
   "metadata": {},
   "outputs": [],
   "source": [
    "frst_evt_18_20 = rh_18_20.copy()\n",
    "frst_evt_21_23 = rh_21_23.copy()\n",
    "\n",
    "first_event_rh_ins_18_20 = evt_18_20[ [\"ref_hash\",\"date\"] ].sort_values( \"date\" ).drop_duplicates( subset = \"ref_hash\", keep = \"first\" )\n",
    "first_event_rh_ins_21_23 = evt_21_23[ [\"ref_hash\",\"date\"] ].sort_values( \"date\" ).drop_duplicates( subset = \"ref_hash\", keep = \"first\" )\n",
    "\n",
    "first_event_rh_ins_18_20[\"time_to_frt_evt\"] = ( pd.to_datetime( first_event_rh_ins_18_20[\"date\"] ) -  dt.datetime( year = 2019, month = 4, day = 18 ) ).dt.total_seconds()\n",
    "first_event_rh_ins_21_23[\"time_to_frt_evt\"] = ( pd.to_datetime( first_event_rh_ins_21_23[\"date\"] ) -  dt.datetime( year = 2019, month = 4, day = 21 ) ).dt.total_seconds()\n",
    "\n",
    "first_event_rh_ins_18_20.drop( \"date\", axis = 1, inplace = True )\n",
    "first_event_rh_ins_21_23.drop( \"date\", axis = 1, inplace = True )\n",
    "\n",
    "frst_evt_18_20 = frst_evt_18_20.merge( first_event_rh_ins_18_20, how = \"left\", on = \"ref_hash\" )\n",
    "frst_evt_21_23 = frst_evt_21_23.merge( first_event_rh_ins_21_23, how = \"left\", on = \"ref_hash\" )\n",
    "\n",
    "#Los que tienen NaN es que nunca convirtieron. Los marcamos con el tiempo maximo\n",
    "frst_evt_18_20.fillna( 3 * 24 * 3600, inplace = True )\n",
    "frst_evt_21_23.fillna( 3 * 24 * 3600, inplace = True )\n",
    "\n",
    "frst_evt_18_20.to_csv( loc_ftr + \"\\\\frst_evt_18_20.csv\", index = False )\n",
    "frst_evt_21_23.to_csv( loc_ftr + \"\\\\frst_evt_21_23.csv\", index = False )"
   ]
  },
  {
   "cell_type": "markdown",
   "metadata": {},
   "source": [
    "## <span style=\"color:green\"> **Horario del primer evento en ese ventana** </span> \n",
    "\n",
    "Al agregarle la transformacion senoidal para agregarle perdiodicidad a la hora, la prediccion del algoritmo fue peor por lo que decidimos no agregarla"
   ]
  },
  {
   "cell_type": "code",
   "execution_count": null,
   "metadata": {},
   "outputs": [],
   "source": [
    "hr_f_evt_18_20 = rh_18_20.copy()\n",
    "hr_f_evt_21_23 = rh_21_23.copy()\n",
    "\n",
    "first_evt_hour_18_20 = evt_18_20[ [\"ref_hash\",\"date\"] ].sort_values( \"date\" ).drop_duplicates( subset = \"ref_hash\", keep = \"first\" )\n",
    "first_evt_hour_21_23 = evt_21_23[ [\"ref_hash\",\"date\"] ].sort_values( \"date\" ).drop_duplicates( subset = \"ref_hash\", keep = \"first\" )\n",
    "\n",
    "first_evt_hour_18_20[\"time_to_frt_evt\"] = ( pd.to_datetime( first_evt_hour_18_20[\"date\"] ) -  dt.datetime( year = 2019, month = 4, day = 18 ) ).dt.total_seconds()\n",
    "first_evt_hour_21_23[\"time_to_frt_evt\"] = ( pd.to_datetime( first_evt_hour_21_23[\"date\"] ) -  dt.datetime( year = 2019, month = 4, day = 21 ) ).dt.total_seconds()\n",
    "\n",
    "first_evt_hour_18_20[\"hour_frt_evt\"] = pd.to_datetime( first_evt_hour_18_20[\"date\"] ).dt.hour\n",
    "first_evt_hour_21_23[\"hour_frt_evt\"] = pd.to_datetime( first_evt_hour_21_23[\"date\"] ).dt.hour\n",
    "\n",
    "first_evt_hour_18_20.drop( [\"date\", \"time_to_frt_evt\"], axis = 1, inplace = True )\n",
    "first_evt_hour_21_23.drop( [\"date\", \"time_to_frt_evt\"], axis = 1, inplace = True )\n",
    "\n",
    "hr_f_evt_18_20 = hr_f_evt_18_20.merge( first_evt_hour_18_20, how = \"left\", on = \"ref_hash\" )\n",
    "hr_f_evt_21_23 = hr_f_evt_21_23.merge( first_evt_hour_21_23, how = \"left\", on = \"ref_hash\" )\n",
    "\n",
    "#hr_f_evt_18_20[\"hour_frt_evt\"] = hr_f_evt_18_20[\"hour_frt_evt\"].apply( lambda x: np.sin( (x *np.pi)/24 ) )\n",
    "#hr_f_evt_21_23[\"hour_frt_evt\"] = hr_f_evt_21_23[\"hour_frt_evt\"].apply( lambda x: np.sin( (x *np.pi)/24 ) )\n",
    "\n",
    "hr_f_evt_18_20.to_csv( loc_ftr + \"\\\\hr_f_evt_18_20.csv\", index = False )\n",
    "hr_f_evt_21_23.to_csv( loc_ftr + \"\\\\hr_f_evt_21_23.csv\", index = False )"
   ]
  },
  {
   "cell_type": "markdown",
   "metadata": {},
   "source": [
    "Si bien hay varios valores NaN en el feature, lo decidimos probar de igual manera, ya que los algoritmos de boosting aceptan valores NaNs.\n",
    "\n",
    "* https://datascience.stackexchange.com/questions/15305/how-does-xgboost-learn-what-are-the-inputs-for-missing-values/15306#15306\n",
    "* The procedure is described in [their paper, section 3.4: Sparsity aware split-finding](https://arxiv.org/pdf/1603.02754v3.pdf).\n"
   ]
  },
  {
   "cell_type": "markdown",
   "metadata": {},
   "source": [
    "## ========================================================================="
   ]
  },
  {
   "cell_type": "markdown",
   "metadata": {},
   "source": [
    "## <span style=\"color:green\"> **Tiempo hasta la ultima instalacion en esa ventana** </span> "
   ]
  },
  {
   "cell_type": "code",
   "execution_count": null,
   "metadata": {},
   "outputs": [],
   "source": [
    "last_ins_18_20 = rh_18_20.copy()\n",
    "last_ins_21_23 = rh_21_23.copy()\n",
    "\n",
    "last_installs_rh_ins_18_20 = ins_18_20[ [\"ref_hash\",\"date\"] ].sort_values( \"date\", ascending = False ).drop_duplicates( subset = \"ref_hash\", keep = \"first\" )\n",
    "last_installs_rh_ins_21_23 = ins_21_23[ [\"ref_hash\",\"date\"] ].sort_values( \"date\", ascending = False ).drop_duplicates( subset = \"ref_hash\", keep = \"first\" )\n",
    "\n",
    "last_installs_rh_ins_18_20[\"time_to_lst_ins\"] = ( pd.to_datetime( last_installs_rh_ins_18_20[\"date\"] ) -  dt.datetime( year = 2019, month = 4, day = 18 ) ).dt.total_seconds()\n",
    "last_installs_rh_ins_21_23[\"time_to_lst_ins\"] = ( pd.to_datetime( last_installs_rh_ins_21_23[\"date\"] ) -  dt.datetime( year = 2019, month = 4, day = 21 ) ).dt.total_seconds()\n",
    "\n",
    "last_installs_rh_ins_18_20.drop( \"date\", axis = 1, inplace = True )\n",
    "last_installs_rh_ins_21_23.drop( \"date\", axis = 1, inplace = True )\n",
    "\n",
    "last_ins_18_20 = last_ins_18_20.merge( last_installs_rh_ins_18_20, how = \"left\", on = \"ref_hash\" )\n",
    "last_ins_21_23 = last_ins_21_23.merge( last_installs_rh_ins_21_23, how = \"left\", on = \"ref_hash\" )\n",
    "\n",
    "#Los que tienen NaN es que nunca convirtieron. Los marcamos con el tiempo maximo\n",
    "last_ins_18_20.fillna( 3 * 24 * 3600, inplace = True )\n",
    "last_ins_21_23.fillna( 3 * 24 * 3600, inplace = True )\n",
    "\n",
    "last_ins_18_20.to_csv( loc_ftr + \"\\\\last_ins_18_20.csv\", index = False )\n",
    "last_ins_21_23.to_csv( loc_ftr + \"\\\\last_ins_21_23.csv\", index = False )"
   ]
  },
  {
   "cell_type": "markdown",
   "metadata": {},
   "source": [
    "## <span style=\"color:green\"> **Tiempo hasta la ultima auction en esa ventana** </span> "
   ]
  },
  {
   "cell_type": "code",
   "execution_count": null,
   "metadata": {},
   "outputs": [],
   "source": [
    "hr_l_auc_18_20 = rh_18_20.copy()\n",
    "hr_l_auc_21_23 = rh_21_23.copy()\n",
    "\n",
    "last_auc_hour_18_20 = auc_18_20[ [\"device_id\",\"date\"] ].sort_values( \"date\", ascending = False ).drop_duplicates( subset = \"device_id\", keep = \"first\" ).rename( columns = {\"device_id\":\"ref_hash\"} )\n",
    "last_auc_hour_21_23 = auc_21_23[ [\"device_id\",\"date\"] ].sort_values( \"date\", ascending = False ).drop_duplicates( subset = \"device_id\", keep = \"first\" ).rename( columns = {\"device_id\":\"ref_hash\"} )\n",
    "\n",
    "last_auc_hour_18_20[\"time_to_lst_auc\"] = ( pd.to_datetime( first_auc_hour_18_20[\"date\"] ) -  dt.datetime( year = 2019, month = 4, day = 18 ) ).dt.total_seconds()\n",
    "last_auc_hour_21_23[\"time_to_lst_auc\"] = ( pd.to_datetime( first_auc_hour_21_23[\"date\"] ) -  dt.datetime( year = 2019, month = 4, day = 21 ) ).dt.total_seconds()\n",
    "\n",
    "last_auc_hour_18_20[\"hour_lst_auc\"] = pd.to_datetime( first_auc_hour_18_20[\"date\"] ).dt.hour\n",
    "last_auc_hour_21_23[\"hour_lst_auc\"] = pd.to_datetime( first_auc_hour_21_23[\"date\"] ).dt.hour\n",
    "\n",
    "last_auc_hour_18_20.drop( [\"date\", \"time_to_lst_auc\"], axis = 1, inplace = True )\n",
    "last_auc_hour_21_23.drop( [\"date\", \"time_to_lst_auc\"], axis = 1, inplace = True )\n",
    "\n",
    "hr_l_auc_18_20 = hr_l_auc_18_20.merge( last_auc_hour_18_20, how = \"left\", on = \"ref_hash\" )\n",
    "hr_l_auc_21_23 = hr_l_auc_21_23.merge( last_auc_hour_21_23, how = \"left\", on = \"ref_hash\" )\n",
    "\n",
    "hr_l_auc_18_20.to_csv( loc_ftr + \"\\\\hr_l_auc_18_20.csv\", index = False )\n",
    "hr_l_auc_21_23.to_csv( loc_ftr + \"\\\\hr_l_auc_21_23.csv\", index = False )"
   ]
  },
  {
   "cell_type": "markdown",
   "metadata": {},
   "source": [
    "## <span style=\"color:green\"> **Tiempo hasta el ultimo evento en esa ventana** </span> "
   ]
  },
  {
   "cell_type": "code",
   "execution_count": null,
   "metadata": {},
   "outputs": [],
   "source": [
    "frst_evt_18_20 = rh_18_20.copy()\n",
    "frst_evt_21_23 = rh_21_23.copy()\n",
    "\n",
    "last_event_rh_ins_18_20 = evt_18_20[ [\"ref_hash\",\"date\"] ].sort_values( \"date\", ascending = False ).drop_duplicates( subset = \"ref_hash\", keep = \"first\" )\n",
    "last_event_rh_ins_21_23 = evt_21_23[ [\"ref_hash\",\"date\"] ].sort_values( \"date\", ascending = False ).drop_duplicates( subset = \"ref_hash\", keep = \"first\" )\n",
    "\n",
    "last_event_rh_ins_18_20[\"time_to_lst_evt\"] = ( pd.to_datetime( last_event_rh_ins_18_20[\"date\"] ) -  dt.datetime( year = 2019, month = 4, day = 18 ) ).dt.total_seconds()\n",
    "last_event_rh_ins_21_23[\"time_to_lst_evt\"] = ( pd.to_datetime( last_event_rh_ins_21_23[\"date\"] ) -  dt.datetime( year = 2019, month = 4, day = 21 ) ).dt.total_seconds()\n",
    "\n",
    "last_event_rh_ins_18_20.drop( \"date\", axis = 1, inplace = True )\n",
    "last_event_rh_ins_21_23.drop( \"date\", axis = 1, inplace = True )\n",
    "\n",
    "last_evt_18_20 = last_evt_18_20.merge( last_event_rh_ins_18_20, how = \"left\", on = \"ref_hash\" )\n",
    "last_evt_21_23 = last_evt_21_23.merge( last_event_rh_ins_21_23, how = \"left\", on = \"ref_hash\" )\n",
    "\n",
    "#Los que tienen NaN es que nunca convirtieron. Los marcamos con el tiempo maximo\n",
    "last_evt_18_20.fillna( 3 * 24 * 3600, inplace = True )\n",
    "last_evt_21_23.fillna( 3 * 24 * 3600, inplace = True )\n",
    "\n",
    "last_evt_18_20.to_csv( loc_ftr + \"\\\\last_evt_18_20.csv\", index = False )\n",
    "last_evt_21_23.to_csv( loc_ftr + \"\\\\last_evt_21_23.csv\", index = False )"
   ]
  },
  {
   "cell_type": "markdown",
   "metadata": {},
   "source": [
    "## <span style=\"color:green\"> **Tiempo hasta el ultimo click en esa ventana** </span> "
   ]
  },
  {
   "cell_type": "code",
   "execution_count": null,
   "metadata": {},
   "outputs": [],
   "source": [
    "last_clk_18_20 = rh_18_20.copy()\n",
    "last_clk_21_23 = rh_21_23.copy()\n",
    "\n",
    "last_click_rh_ins_18_20 = clk_18_20[ [\"ref_hash\",\"date\"] ].sort_values( \"date\", ascending = False ).drop_duplicates( subset = \"ref_hash\", keep = \"first\" )\n",
    "last_click_rh_ins_21_23 = clk_21_23[ [\"ref_hash\",\"date\"] ].sort_values( \"date\", ascending = False ).drop_duplicates( subset = \"ref_hash\", keep = \"first\" )\n",
    "\n",
    "last_click_rh_ins_18_20[\"time_to_lst_evt\"] = ( pd.to_datetime( first_click_rh_ins_18_20[\"date\"] ) -  dt.datetime( year = 2019, month = 4, day = 18 ) ).dt.total_seconds()\n",
    "last_click_rh_ins_21_23[\"time_to_lst_evt\"] = ( pd.to_datetime( first_click_rh_ins_21_23[\"date\"] ) -  dt.datetime( year = 2019, month = 4, day = 21 ) ).dt.total_seconds()\n",
    "\n",
    "last_click_rh_ins_18_20.drop( \"date\", axis = 1, inplace = True )\n",
    "last_click_rh_ins_21_23.drop( \"date\", axis = 1, inplace = True )\n",
    "\n",
    "last_clk_18_20 = last_clk_18_20.merge( last_click_rh_ins_18_20, how = \"left\", on = \"ref_hash\" )\n",
    "last_clk_21_23 = last_clk_21_23.merge( last_click_rh_ins_21_23, how = \"left\", on = \"ref_hash\" )\n",
    "\n",
    "#Los que tienen NaN es que nunca convirtieron. Los marcamos con el tiempo maximo\n",
    "last_clk_18_20.fillna( 3 * 24 * 3600, inplace = True )\n",
    "last_clk_21_23.fillna( 3 * 24 * 3600, inplace = True )\n",
    "\n",
    "last_clk_18_20.to_csv( loc_ftr + \"\\\\last_clk_18_20.csv\", index = False )\n",
    "last_clk_21_23.to_csv( loc_ftr + \"\\\\last_clk_21_23.csv\", index = False )"
   ]
  },
  {
   "cell_type": "markdown",
   "metadata": {},
   "source": [
    "## <span style=\"color:green\"> **Instalo mas de 1 vez** </span> "
   ]
  },
  {
   "cell_type": "code",
   "execution_count": null,
   "metadata": {},
   "outputs": [],
   "source": [
    "cant_ins_18_20 = rh_18_20.copy()\n",
    "cant_ins_21_23 = rh_21_23.copy()\n",
    "\n",
    "cant_ins_18_20 = cant_ins_18_20.merge( ins_18_20[\"ref_hash\"].value_counts().to_frame().reset_index().rename( columns = {\"ref_hash\": \"mt_1_ins\", \"index\":\"ref_hash\"} ), how = \"left\", on = \"ref_hash\" )\n",
    "cant_ins_21_23 = cant_ins_21_23.merge( ins_21_23[\"ref_hash\"].value_counts().to_frame().reset_index().rename( columns = {\"ref_hash\": \"mt_1_ins\", \"index\":\"ref_hash\"} ), how = \"left\", on = \"ref_hash\" )\n",
    "\n",
    "cant_ins_18_20.fillna( 0, inplace = True )\n",
    "cant_ins_21_23.fillna( 0, inplace = True )\n",
    "\n",
    "cant_ins_18_20['mt_1_ins'] = (cant_auc_18_20['mt_1_ins'] > 1).astype('int8')\n",
    "cant_ins_21_23['mt_1_ins'] = (cant_auc_21_23['mt_1_ins'] > 1).astype('int8')\n",
    "\n",
    "cant_ins_18_20.to_csv( loc_ftr + \"\\\\mt_1_ins_18_20.csv\", index = False )\n",
    "cant_ins_21_23.to_csv( loc_ftr + \"\\\\mt_1_ins_21_23.csv\", index = False )"
   ]
  },
  {
   "cell_type": "markdown",
   "metadata": {},
   "source": [
    "## <span style=\"color:green\"> **Instalo entre 21 y 3** </span> "
   ]
  },
  {
   "cell_type": "code",
   "execution_count": null,
   "metadata": {},
   "outputs": [],
   "source": [
    "ins_18_20['ins_21_3'] = (ins_18_20['date'].dt.hour > 20) & (ins_18_20['date'].dt.hour < 4) \n",
    "ins_21_23['ins_21_3'] = (ins_21_23['date'].dt.hour > 20) & (ins_21_23['date'].dt.hour < 4)\n",
    "\n",
    "ins_night_18_20 = rh_18_20.copy()\n",
    "ins_night_21_23 = rh_21_23.copy()\n",
    "\n",
    "hour_mode_18_20 = ins_18_20.groupby('ref_hash').agg({'ins_21_3':'sum'}).reset_index()\n",
    "hour_mode_21_23 = ins_21_23.groupby('ref_hash').agg({'ins_21_3':'sum'}).reset_index()\n",
    "\n",
    "ins_night_18_20 = ins_night_18_20.merge( hour_mode_18_20, how = \"left\", on = \"ref_hash\" )\n",
    "ins_night_21_23 = ins_night_21_23.merge( hour_mode_21_23, how = \"left\", on = \"ref_hash\" )\n",
    "\n",
    "ins_night_18_20[\"ins_21_3\"] =  (ins_night_18_20[\"ins_21_3\"] > 1).astype('int8')\n",
    "ins_night_21_23[\"ins_21_3\"] =  (ins_night_21_23[\"ins_21_3\"] > 1).astype('int8')\n",
    "\n",
    "ins_night_18_20.to_csv( loc_ftr + \"\\\\ins_night_18_20.csv\", index = False )\n",
    "ins_night_21_23.to_csv( loc_ftr + \"\\\\ins_night_21_23.csv\", index = False )\n",
    "\n",
    "del ins_18_20['ins_21_3']\n",
    "del ins_21_23['ins_21_3']"
   ]
  },
  {
   "cell_type": "markdown",
   "metadata": {},
   "source": [
    "## <span style=\"color:green\"> **Instalo entre 4 y 10** </span> "
   ]
  },
  {
   "cell_type": "code",
   "execution_count": null,
   "metadata": {},
   "outputs": [],
   "source": [
    "ins_18_20['ins_4_10'] = (ins_18_20['date'].dt.hour > 3) & (ins_18_20['date'].dt.hour < 11) \n",
    "ins_21_23['ins_4_10'] = (ins_21_23['date'].dt.hour > 3) & (ins_21_23['date'].dt.hour < 11)\n",
    "\n",
    "ins_morn_18_20 = rh_18_20.copy()\n",
    "ins_morn_21_23 = rh_21_23.copy()\n",
    "\n",
    "hour_mode_18_20 = ins_18_20.groupby('ref_hash').agg({'ins_4_10':'sum'}).reset_index()\n",
    "hour_mode_21_23 = ins_21_23.groupby('ref_hash').agg({'ins_4_10':'sum'}).reset_index()\n",
    "\n",
    "ins_morn_18_20 = ins_morn_18_20.merge( hour_mode_18_20, how = \"left\", on = \"ref_hash\" )\n",
    "ins_morn_21_23 = ins_morn_21_23.merge( hour_mode_21_23, how = \"left\", on = \"ref_hash\" )\n",
    "\n",
    "ins_morn_18_20[\"ins_4_10\"] =  (ins_morn_18_20[\"ins_4_10\"] > 1).astype('int8')\n",
    "ins_morn_21_23[\"ins_4_10\"] =  (ins_morn_21_23[\"ins_4_10\"] > 1).astype('int8')\n",
    "\n",
    "ins_morn_18_20.to_csv( loc_ftr + \"\\\\ins_morn_18_20.csv\", index = False )\n",
    "ins_morn_21_23.to_csv( loc_ftr + \"\\\\ins_morn_21_23.csv\", index = False )\n",
    "\n",
    "del ins_18_20['ins_4_10']\n",
    "del ins_21_23['ins_4_10']"
   ]
  },
  {
   "cell_type": "markdown",
   "metadata": {},
   "source": [
    "## <span style=\"color:green\"> **Instalo entre 11 y 15** </span> "
   ]
  },
  {
   "cell_type": "code",
   "execution_count": null,
   "metadata": {},
   "outputs": [],
   "source": [
    "ins_18_20['ins_11_15'] = (ins_18_20['date'].dt.hour > 10) & (ins_18_20['date'].dt.hour < 16) \n",
    "ins_21_23['ins_11_15'] = (ins_21_23['date'].dt.hour > 10) & (ins_21_23['date'].dt.hour < 16)\n",
    "\n",
    "ins_midday_18_20 = rh_18_20.copy()\n",
    "ins_midday_21_23 = rh_21_23.copy()\n",
    "\n",
    "hour_mode_18_20 = ins_18_20.groupby('ref_hash').agg({'ins_11_15':'sum'}).reset_index()\n",
    "hour_mode_21_23 = ins_21_23.groupby('ref_hash').agg({'ins_11_15':'sum'}).reset_index()\n",
    "\n",
    "ins_midday_18_20 = ins_midday_18_20.merge( hour_mode_18_20, how = \"left\", on = \"ref_hash\" )\n",
    "ins_midday_21_23 = ins_midday_21_23.merge( hour_mode_21_23, how = \"left\", on = \"ref_hash\" )\n",
    "\n",
    "ins_midday_18_20[\"ins_11_15\"] =  (ins_midday_18_20[\"ins_11_15\"] > 1).astype('int8')\n",
    "ins_midday_21_23[\"ins_11_15\"] =  (ins_midday_21_23[\"ins_11_15\"] > 1).astype('int8')\n",
    "\n",
    "ins_midday_18_20.to_csv( loc_ftr + \"\\\\ins_midday_18_20.csv\", index = False )\n",
    "ins_midday_21_23.to_csv( loc_ftr + \"\\\\ins_midday_21_23.csv\", index = False )\n",
    "\n",
    "del ins_18_20['ins_11_15']\n",
    "del ins_21_23['ins_11_15']"
   ]
  },
  {
   "cell_type": "markdown",
   "metadata": {},
   "source": [
    "## <span style=\"color:green\"> **Instalo entre 16 y 20** </span> "
   ]
  },
  {
   "cell_type": "code",
   "execution_count": null,
   "metadata": {},
   "outputs": [],
   "source": [
    "ins_18_20['ins_16_20'] = (ins_18_20['date'].dt.hour > 15) & (ins_18_20['date'].dt.hour < 21) \n",
    "ins_21_23['ins_16_20'] = (ins_21_23['date'].dt.hour > 15) & (ins_21_23['date'].dt.hour < 21)\n",
    "\n",
    "ins_after_18_20 = rh_18_20.copy()\n",
    "ins_after_21_23 = rh_21_23.copy()\n",
    "\n",
    "hour_mode_18_20 = ins_18_20.groupby('ref_hash').agg({'ins_16_20':'sum'}).reset_index()\n",
    "hour_mode_21_23 = ins_21_23.groupby('ref_hash').agg({'ins_16_20':'sum'}).reset_index()\n",
    "\n",
    "ins_after_18_20 = ins_after_18_20.merge( hour_mode_18_20, how = \"left\", on = \"ref_hash\" )\n",
    "ins_after_21_23 = ins_after_21_23.merge( hour_mode_21_23, how = \"left\", on = \"ref_hash\" )\n",
    "\n",
    "ins_after_18_20[\"ins_16_20\"] =  (ins_after_18_20[\"ins_16_20\"] > 1).astype('int8')\n",
    "ins_after_21_23[\"ins_16_20\"] =  (ins_after_21_23[\"ins_16_20\"] > 1).astype('int8')\n",
    "\n",
    "ins_after_18_20.to_csv( loc_ftr + \"\\\\ins_after_18_20.csv\", index = False )\n",
    "ins_after_21_23.to_csv( loc_ftr + \"\\\\ins_after_21_23.csv\", index = False )\n",
    "\n",
    "del ins_18_20['ins_16_20']\n",
    "del ins_21_23['ins_16_20']"
   ]
  }
 ],
 "metadata": {
  "kernelspec": {
   "display_name": "Python 3",
   "language": "python",
   "name": "python3"
  },
  "language_info": {
   "codemirror_mode": {
    "name": "ipython",
    "version": 3
   },
   "file_extension": ".py",
   "mimetype": "text/x-python",
   "name": "python",
   "nbconvert_exporter": "python",
   "pygments_lexer": "ipython3",
   "version": "3.6.7"
  }
 },
 "nbformat": 4,
 "nbformat_minor": 2
}
