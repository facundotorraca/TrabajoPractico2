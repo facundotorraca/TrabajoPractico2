{
 "cells": [
  {
   "cell_type": "code",
   "execution_count": 1,
   "metadata": {},
   "outputs": [],
   "source": [
    "import pandas as pd\n",
    "import numpy as np\n",
    "import warnings as wr\n",
    "from sklearn.ensemble import RandomForestRegressor\n",
    "from sklearn.metrics import mean_squared_error\n",
    "\n",
    "wr.filterwarnings(\"ignore\")"
   ]
  },
  {
   "cell_type": "code",
   "execution_count": 2,
   "metadata": {},
   "outputs": [],
   "source": [
    "loc_lbl = r\"D:\\Documentos\\Facu\\Organizacion de Datos\\TP2\\Labels\"\n",
    "loc_ftr = r\"D:\\Documentos\\Facu\\Organizacion de Datos\\TP2\\Features\\ftr_ins\""
   ]
  },
  {
   "cell_type": "code",
   "execution_count": 3,
   "metadata": {},
   "outputs": [],
   "source": [
    "ins_lb = pd.read_csv( loc_lbl + \"\\\\ins_lb.csv\", dtype = {\"obs_18_20\":\"bool\", \"obs_21_23\":\"bool\", \"obs_24_26\":\"bool\"} )"
   ]
  },
  {
   "cell_type": "markdown",
   "metadata": {},
   "source": [
    "### Filtro de manera que tenga los datos necesarios"
   ]
  },
  {
   "cell_type": "code",
   "execution_count": 4,
   "metadata": {},
   "outputs": [],
   "source": [
    "rh_18_20 = pd.read_csv( \"D:\\Documentos\\Facu\\Organizacion de Datos\\TP2\\Training Sets\\ins_18_20.csv\" ); rh_18_20 = rh_18_20[\"ref_hash\"].drop_duplicates().tolist()\n",
    "rh_21_23 = pd.read_csv( \"D:\\Documentos\\Facu\\Organizacion de Datos\\TP2\\Training Sets\\ins_21_23.csv\" ); rh_21_23 = rh_21_23[\"ref_hash\"].drop_duplicates().tolist()"
   ]
  },
  {
   "cell_type": "code",
   "execution_count": 5,
   "metadata": {},
   "outputs": [],
   "source": [
    "dt_18_20 = ins_lb.loc[ ins_lb[\"ref_hash\"].isin( rh_18_20 ), [\"ref_hash\"] ] #Datos del (18-20)\n",
    "sc_21_23 = ins_lb.loc[ ins_lb[\"ref_hash\"].isin( rh_18_20 ), [\"ref_hash\", \"21_23_sc\"] ] #SC del (21-23)\n",
    "\n",
    "dt_21_23 = ins_lb.loc[ ins_lb[\"ref_hash\"].isin( rh_21_23 ), [\"ref_hash\"] ] #Datos del (21-23)\n",
    "sc_24_26 = ins_lb.loc[ ins_lb[\"ref_hash\"].isin( rh_21_23 ), [\"24_26_sc\"] ] #SC del (24-26)"
   ]
  },
  {
   "cell_type": "markdown",
   "metadata": {},
   "source": [
    "# <span style=\"color:orange\">  Preparo los datos para predecir </span>\n",
    "Con los datos 21-23 predecimos \"24-26_sc\""
   ]
  },
  {
   "cell_type": "code",
   "execution_count": 19,
   "metadata": {},
   "outputs": [],
   "source": [
    "Z_var = dt_21_23\n",
    "W_var = sc_24_26"
   ]
  },
  {
   "cell_type": "markdown",
   "metadata": {},
   "source": [
    "### Agregamos los features "
   ]
  },
  {
   "cell_type": "code",
   "execution_count": 20,
   "metadata": {},
   "outputs": [],
   "source": [
    "ftr_01_Z = pd.read_csv( loc_ftr + \"\\\\sin_hour_21_23.csv\" )  ; Z_var = Z_var.merge( ftr_01_Z, how = \"inner\", on = \"ref_hash\" )\n",
    "ftr_02_z = pd.read_csv( loc_ftr + \"\\\\sin_wday_21_23.csv\")   ; Z_var = Z_var.merge(  ftr_02_z, how = \"inner\", on = \"ref_hash\")\n",
    "ftr_03_z = pd.read_csv( loc_ftr + \"\\\\cant_imp_21_23.csv\")   ; Z_var = Z_var.merge(  ftr_03_z, how = \"inner\", on = \"ref_hash\")\n",
    "ftr_04_z = pd.read_csv( loc_ftr + \"\\\\cant_app_ins_21_23.csv\") ; Z_var = Z_var.merge(  ftr_04_z, how = \"inner\", on = \"ref_hash\")\n",
    "ftr_05_z = pd.read_csv( loc_ftr + \"\\\\app_id_21_23.csv\")     ; Z_var = Z_var.merge(  ftr_05_z, how = \"inner\", on = \"ref_hash\")\n",
    "ftr_06_z = pd.read_csv( loc_ftr + \"\\\\sin_hour_21_23.csv\")   ; Z_var = Z_var.merge(  ftr_06_z, how = \"inner\", on = \"ref_hash\")\n",
    "ftr_07_z = pd.read_csv( loc_ftr + \"\\\\hr_f_evt_21_23.csv\")   ; Z_var = Z_var.merge(  ftr_07_z, how = \"inner\", on = \"ref_hash\")\n",
    "ftr_08_z = pd.read_csv( loc_ftr + \"\\\\main_ihr_21_23.csv\")   ; Z_var = Z_var.merge(  ftr_08_z, how = \"inner\", on = \"ref_hash\")\n",
    "ftr_09_z = pd.read_csv( loc_ftr + \"\\\\main_ahr_21_23.csv\")   ; Z_var = Z_var.merge(  ftr_09_z, how = \"inner\", on = \"ref_hash\")\n",
    "ftr_10_z = pd.read_csv( loc_ftr + \"\\\\hr_f_auc_21_23.csv\")   ; Z_var = Z_var.merge(  ftr_10_z, how = \"inner\", on = \"ref_hash\")\n",
    "ftr_11_z = pd.read_csv( loc_ftr + \"\\\\cant_ins_21_23.csv\")   ; Z_var = Z_var.merge(  ftr_11_z, how = \"inner\", on = \"ref_hash\")\n",
    "ftr_12_z = pd.read_csv( loc_ftr + \"\\\\cant_evt_21_23.csv\")   ; Z_var = Z_var.merge(  ftr_12_z, how = \"inner\", on = \"ref_hash\")\n",
    "ftr_13_z = pd.read_csv( loc_ftr + \"\\\\cant_auc_21_23.csv\")   ; Z_var = Z_var.merge(  ftr_13_z, how = \"inner\", on = \"ref_hash\")\n",
    "ftr_14_z = pd.read_csv( loc_ftr + \"\\\\ip_encod_21_23.csv\")   ; Z_var = Z_var.merge(  ftr_14_z, how = \"inner\", on = \"ref_hash\")\n",
    "ftr_15_z = pd.read_csv( loc_ftr + \"\\\\wifi_ins_21_23.csv\")   ; Z_var = Z_var.merge(  ftr_15_z, how = \"inner\", on = \"ref_hash\")\n",
    "ftr_16_z = pd.read_csv( loc_ftr + \"\\\\main_app_21_23.csv\")   ; Z_var = Z_var.merge(  ftr_16_z, how = \"inner\", on = \"ref_hash\")\n",
    "ftr_17_z = pd.read_csv( loc_ftr + \"\\\\cins_imp_21_23.csv\")   ; Z_var = Z_var.merge(  ftr_17_z, how = \"inner\", on = \"ref_hash\")\n",
    "ftr_18_z = pd.read_csv( loc_ftr + \"\\\\type_ins_21_23.csv\")   ; Z_var = Z_var.merge(  ftr_18_z, how = \"inner\", on = \"ref_hash\")\n",
    "ftr_19_z = pd.read_csv( loc_ftr + \"\\\\ref_type_21_23.csv\")   ; Z_var = Z_var.merge(  ftr_19_z, how = \"inner\", on = \"ref_hash\")\n",
    "ftr_20_z = pd.read_csv( loc_ftr + \"\\\\cins_atr_21_23.csv\")   ; Z_var = Z_var.merge(  ftr_20_z, how = \"inner\", on = \"ref_hash\")\n",
    "ftr_21_z = pd.read_csv( loc_ftr + \"\\\\frst_auc_21_23.csv\")   ; Z_var = Z_var.merge(  ftr_21_z, how = \"inner\", on = \"ref_hash\")\n",
    "ftr_22_z = pd.read_csv( loc_ftr + \"\\\\frst_evt_21_23.csv\")   ; Z_var = Z_var.merge(  ftr_22_z, how = \"inner\", on = \"ref_hash\")\n",
    "ftr_23_z = pd.read_csv( loc_ftr + \"\\\\frst_evt_21_23.csv\")   ; Z_var = Z_var.merge(  ftr_23_z, how = \"inner\", on = \"ref_hash\")\n",
    "ftr_24_z = pd.read_csv( loc_ftr + \"\\\\cant_clk_21_23.csv\")   ; Z_var = Z_var.merge(  ftr_24_z, how = \"inner\", on = \"ref_hash\")\n",
    "ftr_25_z = pd.read_csv( loc_ftr + \"\\\\dev_lang_21_23.csv\")   ; Z_var = Z_var.merge(  ftr_25_z, how = \"inner\", on = \"ref_hash\")\n",
    "ftr_26_z = pd.read_csv( loc_ftr + \"\\\\dev_modl_21_23.csv\")   ; Z_var = Z_var.merge(  ftr_26_z, how = \"inner\", on = \"ref_hash\")\n",
    "ftr_27_z = pd.read_csv( loc_ftr + \"\\\\ins_dsua_21_23.csv\")   ; Z_var = Z_var.merge(  ftr_27_z, how = \"inner\", on = \"ref_hash\")\n",
    "ftr_28_z = pd.read_csv( loc_ftr + \"\\\\srce_auc_21_23.csv\")   ; Z_var = Z_var.merge(  ftr_28_z, how = \"inner\", on = \"ref_hash\")\n",
    "ftr_29_z = pd.read_csv( loc_ftr + \"\\\\rh_encod_21_23.csv\")   ; Z_var = Z_var.merge(  ftr_29_z, how = \"inner\", on = \"ref_hash\")\n",
    "ftr_30_z = pd.read_csv( loc_ftr + \"\\\\atbt_ins_21_23.csv\")   ; Z_var = Z_var.merge(  ftr_30_z, how = \"inner\", on = \"ref_hash\")\n",
    "ftr_31_z = pd.read_csv( loc_ftr + \"\\\\kind_evt_21_23.csv\")   ; Z_var = Z_var.merge(  ftr_31_z, how = \"inner\", on = \"ref_hash\")\n",
    "ftr_32_z = pd.read_csv( loc_ftr + \"\\\\cevt_atr_21_23.csv\")   ; Z_var = Z_var.merge(  ftr_32_z, how = \"inner\", on = \"ref_hash\")\n",
    "ftr_33_z = pd.read_csv( loc_ftr + \"\\\\mapp_evt_21_23.csv\")   ; Z_var = Z_var.merge(  ftr_33_z, how = \"inner\", on = \"ref_hash\")\n",
    "ftr_34_z = pd.read_csv( loc_ftr + \"\\\\wifi_evt_21_23.csv\")   ; Z_var = Z_var.merge(  ftr_34_z, how = \"inner\", on = \"ref_hash\")\n",
    "ftr_35_z = pd.read_csv( loc_ftr + \"\\\\frst_ins_21_23.csv\")   ; Z_var = Z_var.merge(  ftr_35_z, how = \"inner\", on = \"ref_hash\")\n",
    "ftr_36_z = pd.read_csv( loc_ftr + \"\\\\frst_clk_21_23.csv\")   ; Z_var = Z_var.merge(  ftr_36_z, how = \"inner\", on = \"ref_hash\")\n",
    "ftr_37_z = pd.read_csv( loc_ftr + \"\\\\last_ins_21_23.csv\")   ; Z_var = Z_var.merge(  ftr_37_z, how = \"inner\", on = \"ref_hash\")\n",
    "ftr_38_z = pd.read_csv( loc_ftr + \"\\\\last_auc_21_23.csv\")   ; Z_var = Z_var.merge(  ftr_38_z, how = \"inner\", on = \"ref_hash\")\n",
    "ftr_39_z = pd.read_csv( loc_ftr + \"\\\\last_evt_21_23.csv\")   ; Z_var = Z_var.merge(  ftr_39_z, how = \"inner\", on = \"ref_hash\")\n",
    "ftr_40_z = pd.read_csv( loc_ftr + \"\\\\last_clk_21_23.csv\")   ; Z_var = Z_var.merge(  ftr_40_z, how = \"inner\", on = \"ref_hash\")\n",
    "ftr_41_z = pd.read_csv( loc_ftr + \"\\\\mt_1_ins_21_23.csv\")   ; Z_var = Z_var.merge(  ftr_41_z, how = \"inner\", on = \"ref_hash\")\n",
    "ftr_42_z = pd.read_csv( loc_ftr + \"\\\\ins_night_21_23.csv\")  ; Z_var = Z_var.merge(  ftr_42_z, how = \"inner\", on = \"ref_hash\")\n",
    "ftr_43_z = pd.read_csv( loc_ftr + \"\\\\ins_morn_21_23.csv\")   ; Z_var = Z_var.merge(  ftr_43_z, how = \"inner\", on = \"ref_hash\")\n",
    "ftr_44_z = pd.read_csv( loc_ftr + \"\\\\ins_midday_21_23.csv\") ; Z_var = Z_var.merge(  ftr_44_z, how = \"inner\", on = \"ref_hash\")\n",
    "ftr_45_z = pd.read_csv( loc_ftr + \"\\\\ins_after_21_23.csv\")  ; Z_var = Z_var.merge(  ftr_45_z, how = \"inner\", on = \"ref_hash\")\n",
    "ftr_46_z = pd.read_csv( loc_ftr + \"\\\\auc_night_21_23.csv\")  ; Z_var = Z_var.merge(  ftr_46_z, how = \"inner\", on = \"ref_hash\")\n",
    "ftr_47_z = pd.read_csv( loc_ftr + \"\\\\auc_morn_21_23.csv\")   ; Z_var = Z_var.merge(  ftr_47_z, how = \"inner\", on = \"ref_hash\")\n",
    "ftr_48_z = pd.read_csv( loc_ftr + \"\\\\auc_midday_21_23.csv\") ; Z_var = Z_var.merge(  ftr_48_z, how = \"inner\", on = \"ref_hash\")\n",
    "ftr_49_z = pd.read_csv( loc_ftr + \"\\\\auc_after_21_23.csv\")  ; Z_var = Z_var.merge(  ftr_49_z, how = \"inner\", on = \"ref_hash\")\n",
    "ftr_50_z = pd.read_csv( loc_ftr + \"\\\\evt_night_21_23.csv\")  ; Z_var = Z_var.merge(  ftr_50_z, how = \"inner\", on = \"ref_hash\")\n",
    "ftr_51_z = pd.read_csv( loc_ftr + \"\\\\evt_morn_21_23.csv\")   ; Z_var = Z_var.merge(  ftr_51_z, how = \"inner\", on = \"ref_hash\")\n",
    "ftr_52_z = pd.read_csv( loc_ftr + \"\\\\evt_midday_21_23.csv\") ; Z_var = Z_var.merge(  ftr_52_z, how = \"inner\", on = \"ref_hash\")\n",
    "ftr_53_z = pd.read_csv( loc_ftr + \"\\\\evt_after_21_23.csv\")  ; Z_var = Z_var.merge(  ftr_53_z, how = \"inner\", on = \"ref_hash\")\n",
    "ftr_54_z = pd.read_csv( loc_ftr + \"\\\\auc_night_21_23.csv\")  ; Z_var = Z_var.merge(  ftr_54_z, how = \"inner\", on = \"ref_hash\")\n",
    "ftr_55_z = pd.read_csv( loc_ftr + \"\\\\auc_morn_21_23.csv\")   ; Z_var = Z_var.merge(  ftr_55_z, how = \"inner\", on = \"ref_hash\")\n",
    "ftr_56_z = pd.read_csv( loc_ftr + \"\\\\auc_midday_21_23.csv\") ; Z_var = Z_var.merge(  ftr_56_z, how = \"inner\", on = \"ref_hash\")\n",
    "ftr_57_z = pd.read_csv( loc_ftr + \"\\\\auc_after_21_23.csv\")  ; Z_var = Z_var.merge(  ftr_57_z, how = \"inner\", on = \"ref_hash\")"
   ]
  },
  {
   "cell_type": "markdown",
   "metadata": {},
   "source": [
    "# <span style=\"color:orange\">  Preparo los datos para entrenar </span>"
   ]
  },
  {
   "cell_type": "markdown",
   "metadata": {},
   "source": [
    "Con los datos 18-20 + \"21-23_sc\" entrenamos"
   ]
  },
  {
   "cell_type": "code",
   "execution_count": 24,
   "metadata": {},
   "outputs": [],
   "source": [
    "Y_var = sc_21_23"
   ]
  },
  {
   "cell_type": "code",
   "execution_count": 25,
   "metadata": {},
   "outputs": [],
   "source": [
    "X_var = dt_18_20"
   ]
  },
  {
   "cell_type": "markdown",
   "metadata": {},
   "source": [
    "### Agregamos los features"
   ]
  },
  {
   "cell_type": "code",
   "execution_count": 26,
   "metadata": {},
   "outputs": [],
   "source": [
    "ftr_01_x = pd.read_csv( loc_ftr + \"\\\\sin_hour_18_20.csv\") ; X_var = X_var.merge( ftr_01_x, how = \"inner\", on = \"ref_hash\" )\n",
    "ftr_02_x = pd.read_csv( loc_ftr + \"\\\\sin_wday_18_20.csv\")  ; X_var = X_var.merge(  ftr_02_x, how = \"inner\", on = \"ref_hash\")\n",
    "ftr_03_x = pd.read_csv( loc_ftr + \"\\\\cant_imp_18_20.csv\")  ; X_var = X_var.merge(  ftr_03_x, how = \"inner\", on = \"ref_hash\")\n",
    "ftr_04_x = pd.read_csv( loc_ftr + \"\\\\cant_app_ins_18_20.csv\") ; X_var = X_var.merge(  ftr_04_x, how = \"inner\", on = \"ref_hash\")\n",
    "ftr_05_x = pd.read_csv( loc_ftr + \"\\\\app_id_18_20.csv\")    ; X_var = X_var.merge(  ftr_05_x, how = \"inner\", on = \"ref_hash\")\n",
    "ftr_06_x = pd.read_csv( loc_ftr + \"\\\\sin_hour_18_20.csv\")  ; X_var = X_var.merge(  ftr_06_x, how = \"inner\", on = \"ref_hash\")\n",
    "ftr_07_x = pd.read_csv( loc_ftr + \"\\\\hr_f_evt_18_20.csv\")  ; X_var = X_var.merge(  ftr_07_x, how = \"inner\", on = \"ref_hash\")\n",
    "ftr_08_x = pd.read_csv( loc_ftr + \"\\\\main_ihr_18_20.csv\")  ; X_var = X_var.merge(  ftr_08_x, how = \"inner\", on = \"ref_hash\")\n",
    "ftr_09_x = pd.read_csv( loc_ftr + \"\\\\main_ahr_18_20.csv\")  ; X_var = X_var.merge(  ftr_09_x, how = \"inner\", on = \"ref_hash\")\n",
    "ftr_10_x = pd.read_csv( loc_ftr + \"\\\\hr_f_auc_18_20.csv\")  ; X_var = X_var.merge(  ftr_10_x, how = \"inner\", on = \"ref_hash\")\n",
    "ftr_11_x = pd.read_csv( loc_ftr + \"\\\\cant_ins_18_20.csv\")  ; X_var = X_var.merge(  ftr_11_x, how = \"inner\", on = \"ref_hash\")\n",
    "ftr_12_x = pd.read_csv( loc_ftr + \"\\\\cant_evt_18_20.csv\")  ; X_var = X_var.merge(  ftr_12_x, how = \"inner\", on = \"ref_hash\")\n",
    "ftr_13_x = pd.read_csv( loc_ftr + \"\\\\cant_auc_18_20.csv\")  ; X_var = X_var.merge(  ftr_13_x, how = \"inner\", on = \"ref_hash\")\n",
    "ftr_14_x = pd.read_csv( loc_ftr + \"\\\\ip_encod_18_20.csv\")  ; X_var = X_var.merge(  ftr_14_x, how = \"inner\", on = \"ref_hash\")\n",
    "ftr_15_x = pd.read_csv( loc_ftr + \"\\\\wifi_ins_18_20.csv\")  ; X_var = X_var.merge(  ftr_15_x, how = \"inner\", on = \"ref_hash\")\n",
    "ftr_16_x = pd.read_csv( loc_ftr + \"\\\\main_app_18_20.csv\")  ; X_var = X_var.merge(  ftr_16_x, how = \"inner\", on = \"ref_hash\")\n",
    "ftr_17_x = pd.read_csv( loc_ftr + \"\\\\cins_imp_18_20.csv\")  ; X_var = X_var.merge(  ftr_17_x, how = \"inner\", on = \"ref_hash\")\n",
    "ftr_18_x = pd.read_csv( loc_ftr + \"\\\\type_ins_18_20.csv\")  ; X_var = X_var.merge(  ftr_18_x, how = \"inner\", on = \"ref_hash\")\n",
    "ftr_19_x = pd.read_csv( loc_ftr + \"\\\\ref_type_18_20.csv\")  ; X_var = X_var.merge(  ftr_19_x, how = \"inner\", on = \"ref_hash\")\n",
    "ftr_20_x = pd.read_csv( loc_ftr + \"\\\\cins_atr_18_20.csv\")  ; X_var = X_var.merge(  ftr_20_x, how = \"inner\", on = \"ref_hash\")\n",
    "ftr_21_x = pd.read_csv( loc_ftr + \"\\\\frst_auc_18_20.csv\")  ; X_var = X_var.merge(  ftr_21_x, how = \"inner\", on = \"ref_hash\")\n",
    "ftr_22_x = pd.read_csv( loc_ftr + \"\\\\frst_evt_18_20.csv\")  ; X_var = X_var.merge(  ftr_22_x, how = \"inner\", on = \"ref_hash\")\n",
    "ftr_23_x = pd.read_csv( loc_ftr + \"\\\\frst_evt_18_20.csv\")  ; X_var = X_var.merge(  ftr_23_x, how = \"inner\", on = \"ref_hash\")\n",
    "ftr_24_x = pd.read_csv( loc_ftr + \"\\\\cant_clk_18_20.csv\")  ; X_var = X_var.merge(  ftr_24_x, how = \"inner\", on = \"ref_hash\")\n",
    "ftr_25_x = pd.read_csv( loc_ftr + \"\\\\dev_lang_18_20.csv\")  ; X_var = X_var.merge(  ftr_25_x, how = \"inner\", on = \"ref_hash\")\n",
    "ftr_26_x = pd.read_csv( loc_ftr + \"\\\\dev_modl_18_20.csv\")  ; X_var = X_var.merge(  ftr_26_x, how = \"inner\", on = \"ref_hash\")\n",
    "ftr_27_x = pd.read_csv( loc_ftr + \"\\\\ins_dsua_18_20.csv\")  ; X_var = X_var.merge(  ftr_27_x, how = \"inner\", on = \"ref_hash\")\n",
    "ftr_28_x = pd.read_csv( loc_ftr + \"\\\\srce_auc_18_20.csv\")  ; X_var = X_var.merge(  ftr_28_x, how = \"inner\", on = \"ref_hash\")\n",
    "ftr_29_x = pd.read_csv( loc_ftr + \"\\\\rh_encod_18_20.csv\")  ; X_var = X_var.merge(  ftr_29_x, how = \"inner\", on = \"ref_hash\")\n",
    "ftr_30_x = pd.read_csv( loc_ftr + \"\\\\atbt_ins_18_20.csv\")  ; X_var = X_var.merge(  ftr_30_x, how = \"inner\", on = \"ref_hash\")\n",
    "ftr_31_x = pd.read_csv( loc_ftr + \"\\\\kind_evt_18_20.csv\")  ; X_var = X_var.merge(  ftr_31_x, how = \"inner\", on = \"ref_hash\")\n",
    "ftr_32_x = pd.read_csv( loc_ftr + \"\\\\cevt_atr_18_20.csv\")  ; X_var = X_var.merge(  ftr_32_x, how = \"inner\", on = \"ref_hash\")\n",
    "ftr_33_x = pd.read_csv( loc_ftr + \"\\\\mapp_evt_18_20.csv\")  ; X_var = X_var.merge(  ftr_33_x, how = \"inner\", on = \"ref_hash\")\n",
    "ftr_34_x = pd.read_csv( loc_ftr + \"\\\\wifi_evt_18_20.csv\")  ; X_var = X_var.merge(  ftr_34_x, how = \"inner\", on = \"ref_hash\")\n",
    "ftr_35_x = pd.read_csv( loc_ftr + \"\\\\frst_ins_18_20.csv\")  ; X_var = X_var.merge(  ftr_35_x, how = \"inner\", on = \"ref_hash\")\n",
    "ftr_36_x = pd.read_csv( loc_ftr + \"\\\\frst_clk_18_20.csv\")  ; X_var = X_var.merge(  ftr_36_x, how = \"inner\", on = \"ref_hash\")\n",
    "ftr_37_x = pd.read_csv( loc_ftr + \"\\\\last_ins_18_20.csv\")  ; X_var = X_var.merge(  ftr_37_x, how = \"inner\", on = \"ref_hash\")\n",
    "ftr_38_x = pd.read_csv( loc_ftr + \"\\\\last_auc_18_20.csv\")  ; X_var = X_var.merge(  ftr_38_x, how = \"inner\", on = \"ref_hash\")\n",
    "ftr_39_x = pd.read_csv( loc_ftr + \"\\\\last_evt_18_20.csv\")  ; X_var = X_var.merge(  ftr_39_x, how = \"inner\", on = \"ref_hash\")\n",
    "ftr_40_x = pd.read_csv( loc_ftr + \"\\\\last_clk_18_20.csv\")  ; X_var = X_var.merge(  ftr_40_x, how = \"inner\", on = \"ref_hash\")\n",
    "ftr_41_x = pd.read_csv( loc_ftr + \"\\\\mt_1_ins_18_20.csv\")  ; X_var = X_var.merge(  ftr_41_x, how = \"inner\", on = \"ref_hash\")\n",
    "ftr_42_x = pd.read_csv( loc_ftr + \"\\\\ins_night_18_20.csv\") ; X_var = X_var.merge(  ftr_42_x, how = \"inner\", on = \"ref_hash\")\n",
    "ftr_43_x = pd.read_csv( loc_ftr + \"\\\\ins_morn_18_20.csv\")  ; X_var = X_var.merge(  ftr_43_x, how = \"inner\", on = \"ref_hash\")\n",
    "ftr_44_x = pd.read_csv( loc_ftr + \"\\\\ins_midday_18_20.csv\") ; X_var = X_var.merge(  ftr_44_x, how = \"inner\", on = \"ref_hash\")\n",
    "ftr_45_x = pd.read_csv( loc_ftr + \"\\\\ins_after_18_20.csv\") ; X_var = X_var.merge(  ftr_45_x, how = \"inner\", on = \"ref_hash\")\n",
    "ftr_46_x = pd.read_csv( loc_ftr + \"\\\\auc_night_18_20.csv\") ; X_var = X_var.merge(  ftr_46_x, how = \"inner\", on = \"ref_hash\")\n",
    "ftr_47_x = pd.read_csv( loc_ftr + \"\\\\auc_morn_18_20.csv\")  ; X_var = X_var.merge(  ftr_47_x, how = \"inner\", on = \"ref_hash\")\n",
    "ftr_48_x = pd.read_csv( loc_ftr + \"\\\\auc_midday_18_20.csv\") ; X_var = X_var.merge(  ftr_48_x, how = \"inner\", on = \"ref_hash\")\n",
    "ftr_49_x = pd.read_csv( loc_ftr + \"\\\\auc_after_18_20.csv\") ; X_var = X_var.merge(  ftr_49_x, how = \"inner\", on = \"ref_hash\")\n",
    "ftr_50_x = pd.read_csv( loc_ftr + \"\\\\evt_night_18_20.csv\") ; X_var = X_var.merge(  ftr_50_x, how = \"inner\", on = \"ref_hash\")\n",
    "ftr_51_x = pd.read_csv( loc_ftr + \"\\\\evt_morn_18_20.csv\")  ; X_var = X_var.merge(  ftr_51_x, how = \"inner\", on = \"ref_hash\")\n",
    "ftr_52_x = pd.read_csv( loc_ftr + \"\\\\evt_midday_18_20.csv\") ; X_var = X_var.merge(  ftr_52_x, how = \"inner\", on = \"ref_hash\")\n",
    "ftr_53_x = pd.read_csv( loc_ftr + \"\\\\evt_after_18_20.csv\") ; X_var = X_var.merge(  ftr_53_x, how = \"inner\", on = \"ref_hash\")\n",
    "ftr_54_x = pd.read_csv( loc_ftr + \"\\\\auc_night_18_20.csv\") ; X_var = X_var.merge(  ftr_54_x, how = \"inner\", on = \"ref_hash\")\n",
    "ftr_55_x = pd.read_csv( loc_ftr + \"\\\\auc_morn_18_20.csv\")  ; X_var = X_var.merge(  ftr_55_x, how = \"inner\", on = \"ref_hash\")\n",
    "ftr_56_x = pd.read_csv( loc_ftr + \"\\\\auc_midday_18_20.csv\") ; X_var = X_var.merge(  ftr_56_x, how = \"inner\", on = \"ref_hash\")\n",
    "ftr_57_x = pd.read_csv( loc_ftr + \"\\\\auc_after_18_20.csv\") ; X_var = X_var.merge(  ftr_57_x, how = \"inner\", on = \"ref_hash\")\n",
    "\n"
   ]
  },
  {
   "cell_type": "code",
   "execution_count": 27,
   "metadata": {},
   "outputs": [],
   "source": [
    "X = X_var.drop( \"ref_hash\", axis = 1 )\n",
    "Z = Z_var.drop( \"ref_hash\", axis = 1 )\n",
    "Y = Y_var.drop( \"ref_hash\", axis = 1 )\n"
   ]
  },
  {
   "cell_type": "code",
   "execution_count": 28,
   "metadata": {},
   "outputs": [
    {
     "ename": "KeyError",
     "evalue": "\"['clk_4_10'] not found in axis\"",
     "output_type": "error",
     "traceback": [
      "\u001b[1;31m---------------------------------------------------------------------------\u001b[0m",
      "\u001b[1;31mKeyError\u001b[0m                                  Traceback (most recent call last)",
      "\u001b[1;32m<ipython-input-28-5d0dad7fbf64>\u001b[0m in \u001b[0;36m<module>\u001b[1;34m\u001b[0m\n\u001b[1;32m----> 1\u001b[1;33m \u001b[0mX\u001b[0m \u001b[1;33m=\u001b[0m \u001b[0mX\u001b[0m\u001b[1;33m.\u001b[0m\u001b[0mdrop\u001b[0m\u001b[1;33m(\u001b[0m\u001b[1;34m\"clk_4_10\"\u001b[0m\u001b[1;33m,\u001b[0m \u001b[0maxis\u001b[0m \u001b[1;33m=\u001b[0m \u001b[1;36m1\u001b[0m \u001b[1;33m)\u001b[0m\u001b[1;33m\u001b[0m\u001b[1;33m\u001b[0m\u001b[0m\n\u001b[0m",
      "\u001b[1;32m~\\Anaconda3\\lib\\site-packages\\pandas\\core\\frame.py\u001b[0m in \u001b[0;36mdrop\u001b[1;34m(self, labels, axis, index, columns, level, inplace, errors)\u001b[0m\n\u001b[0;32m   3695\u001b[0m                                            \u001b[0mindex\u001b[0m\u001b[1;33m=\u001b[0m\u001b[0mindex\u001b[0m\u001b[1;33m,\u001b[0m \u001b[0mcolumns\u001b[0m\u001b[1;33m=\u001b[0m\u001b[0mcolumns\u001b[0m\u001b[1;33m,\u001b[0m\u001b[1;33m\u001b[0m\u001b[1;33m\u001b[0m\u001b[0m\n\u001b[0;32m   3696\u001b[0m                                            \u001b[0mlevel\u001b[0m\u001b[1;33m=\u001b[0m\u001b[0mlevel\u001b[0m\u001b[1;33m,\u001b[0m \u001b[0minplace\u001b[0m\u001b[1;33m=\u001b[0m\u001b[0minplace\u001b[0m\u001b[1;33m,\u001b[0m\u001b[1;33m\u001b[0m\u001b[1;33m\u001b[0m\u001b[0m\n\u001b[1;32m-> 3697\u001b[1;33m                                            errors=errors)\n\u001b[0m\u001b[0;32m   3698\u001b[0m \u001b[1;33m\u001b[0m\u001b[0m\n\u001b[0;32m   3699\u001b[0m     @rewrite_axis_style_signature('mapper', [('copy', True),\n",
      "\u001b[1;32m~\\Anaconda3\\lib\\site-packages\\pandas\\core\\generic.py\u001b[0m in \u001b[0;36mdrop\u001b[1;34m(self, labels, axis, index, columns, level, inplace, errors)\u001b[0m\n\u001b[0;32m   3109\u001b[0m         \u001b[1;32mfor\u001b[0m \u001b[0maxis\u001b[0m\u001b[1;33m,\u001b[0m \u001b[0mlabels\u001b[0m \u001b[1;32min\u001b[0m \u001b[0maxes\u001b[0m\u001b[1;33m.\u001b[0m\u001b[0mitems\u001b[0m\u001b[1;33m(\u001b[0m\u001b[1;33m)\u001b[0m\u001b[1;33m:\u001b[0m\u001b[1;33m\u001b[0m\u001b[1;33m\u001b[0m\u001b[0m\n\u001b[0;32m   3110\u001b[0m             \u001b[1;32mif\u001b[0m \u001b[0mlabels\u001b[0m \u001b[1;32mis\u001b[0m \u001b[1;32mnot\u001b[0m \u001b[1;32mNone\u001b[0m\u001b[1;33m:\u001b[0m\u001b[1;33m\u001b[0m\u001b[1;33m\u001b[0m\u001b[0m\n\u001b[1;32m-> 3111\u001b[1;33m                 \u001b[0mobj\u001b[0m \u001b[1;33m=\u001b[0m \u001b[0mobj\u001b[0m\u001b[1;33m.\u001b[0m\u001b[0m_drop_axis\u001b[0m\u001b[1;33m(\u001b[0m\u001b[0mlabels\u001b[0m\u001b[1;33m,\u001b[0m \u001b[0maxis\u001b[0m\u001b[1;33m,\u001b[0m \u001b[0mlevel\u001b[0m\u001b[1;33m=\u001b[0m\u001b[0mlevel\u001b[0m\u001b[1;33m,\u001b[0m \u001b[0merrors\u001b[0m\u001b[1;33m=\u001b[0m\u001b[0merrors\u001b[0m\u001b[1;33m)\u001b[0m\u001b[1;33m\u001b[0m\u001b[1;33m\u001b[0m\u001b[0m\n\u001b[0m\u001b[0;32m   3112\u001b[0m \u001b[1;33m\u001b[0m\u001b[0m\n\u001b[0;32m   3113\u001b[0m         \u001b[1;32mif\u001b[0m \u001b[0minplace\u001b[0m\u001b[1;33m:\u001b[0m\u001b[1;33m\u001b[0m\u001b[1;33m\u001b[0m\u001b[0m\n",
      "\u001b[1;32m~\\Anaconda3\\lib\\site-packages\\pandas\\core\\generic.py\u001b[0m in \u001b[0;36m_drop_axis\u001b[1;34m(self, labels, axis, level, errors)\u001b[0m\n\u001b[0;32m   3160\u001b[0m                 \u001b[0mlabels_missing\u001b[0m \u001b[1;33m=\u001b[0m \u001b[1;33m(\u001b[0m\u001b[0maxis\u001b[0m\u001b[1;33m.\u001b[0m\u001b[0mget_indexer_for\u001b[0m\u001b[1;33m(\u001b[0m\u001b[0mlabels\u001b[0m\u001b[1;33m)\u001b[0m \u001b[1;33m==\u001b[0m \u001b[1;33m-\u001b[0m\u001b[1;36m1\u001b[0m\u001b[1;33m)\u001b[0m\u001b[1;33m.\u001b[0m\u001b[0many\u001b[0m\u001b[1;33m(\u001b[0m\u001b[1;33m)\u001b[0m\u001b[1;33m\u001b[0m\u001b[1;33m\u001b[0m\u001b[0m\n\u001b[0;32m   3161\u001b[0m                 \u001b[1;32mif\u001b[0m \u001b[0merrors\u001b[0m \u001b[1;33m==\u001b[0m \u001b[1;34m'raise'\u001b[0m \u001b[1;32mand\u001b[0m \u001b[0mlabels_missing\u001b[0m\u001b[1;33m:\u001b[0m\u001b[1;33m\u001b[0m\u001b[1;33m\u001b[0m\u001b[0m\n\u001b[1;32m-> 3162\u001b[1;33m                     \u001b[1;32mraise\u001b[0m \u001b[0mKeyError\u001b[0m\u001b[1;33m(\u001b[0m\u001b[1;34m'{} not found in axis'\u001b[0m\u001b[1;33m.\u001b[0m\u001b[0mformat\u001b[0m\u001b[1;33m(\u001b[0m\u001b[0mlabels\u001b[0m\u001b[1;33m)\u001b[0m\u001b[1;33m)\u001b[0m\u001b[1;33m\u001b[0m\u001b[1;33m\u001b[0m\u001b[0m\n\u001b[0m\u001b[0;32m   3163\u001b[0m \u001b[1;33m\u001b[0m\u001b[0m\n\u001b[0;32m   3164\u001b[0m             \u001b[0mslicer\u001b[0m \u001b[1;33m=\u001b[0m \u001b[1;33m[\u001b[0m\u001b[0mslice\u001b[0m\u001b[1;33m(\u001b[0m\u001b[1;32mNone\u001b[0m\u001b[1;33m)\u001b[0m\u001b[1;33m]\u001b[0m \u001b[1;33m*\u001b[0m \u001b[0mself\u001b[0m\u001b[1;33m.\u001b[0m\u001b[0mndim\u001b[0m\u001b[1;33m\u001b[0m\u001b[1;33m\u001b[0m\u001b[0m\n",
      "\u001b[1;31mKeyError\u001b[0m: \"['clk_4_10'] not found in axis\""
     ]
    }
   ],
   "source": [
    "X = X.drop(\"clk_4_10\", axis = 1 )\n"
   ]
  },
  {
   "cell_type": "code",
   "execution_count": null,
   "metadata": {},
   "outputs": [],
   "source": [
    "Z = Z.drop(\"clk_4_10\", axis = 1 )"
   ]
  },
  {
   "cell_type": "markdown",
   "metadata": {},
   "source": [
    "# Prediccion con <span style=\"color:green\"> *Random Forest*</span> "
   ]
  },
  {
   "cell_type": "code",
   "execution_count": 29,
   "metadata": {},
   "outputs": [],
   "source": [
    "estimator = RandomForestRegressor(max_depth=4, random_state=50, n_estimators=200, oob_score = True, criterion='mse')"
   ]
  },
  {
   "cell_type": "code",
   "execution_count": 30,
   "metadata": {},
   "outputs": [],
   "source": [
    "pmt = estimator.fit( X.fillna(0),Y.fillna(0))\n"
   ]
  },
  {
   "cell_type": "code",
   "execution_count": 31,
   "metadata": {},
   "outputs": [],
   "source": [
    "prd = estimator.predict( Z.fillna(0) )"
   ]
  },
  {
   "cell_type": "markdown",
   "metadata": {},
   "source": [
    "### Calculamos el RMSE"
   ]
  },
  {
   "cell_type": "code",
   "execution_count": 32,
   "metadata": {},
   "outputs": [
    {
     "name": "stdout",
     "output_type": "stream",
     "text": [
      "RMSE: 25530.660897\n"
     ]
    }
   ],
   "source": [
    "rmse = np.sqrt( mean_squared_error(W_var.fillna(0), prd) )\n",
    "print(\"RMSE: %f\" % (rmse))"
   ]
  },
  {
   "cell_type": "code",
   "execution_count": null,
   "metadata": {},
   "outputs": [],
   "source": [
    "25519.799163"
   ]
  },
  {
   "cell_type": "markdown",
   "metadata": {},
   "source": [
    "### Probamos features"
   ]
  },
  {
   "cell_type": "code",
   "execution_count": null,
   "metadata": {},
   "outputs": [],
   "source": [
    "from numpy import sort\n",
    "from sklearn.feature_selection import SelectFromModel\n",
    "\n",
    "thresholds = sort(fit.feature_importances_)\n",
    "i = 0; pred = []; mod_sel = [];\n",
    "for thresh in thresholds:\n",
    "    # select features using threshold\n",
    "    selection = SelectFromModel(fit, threshold=thresh, prefit=True)\n",
    "    select_X = selection.transform(X_var)\n",
    "    # train model\n",
    "    selection_model = xgb.XGBRegressor( **prm )\n",
    "    mod_sel.append( selection_model.fit(select_X, Y_var) )\n",
    "    # eval model\n",
    "    select_Z = selection.transform(Z_var)\n",
    "    pred.append( selection_model.predict(select_Z) )\n",
    "    rmse = np.sqrt( mean_squared_error(pred[i], W_var) )\n",
    "    print(\"Thresh=%.3f, n=%d, RMSE:%f, model=%d\" % (thresh, select_X.shape[1], rmse, i) )\n",
    "    i = i + 1"
   ]
  },
  {
   "cell_type": "markdown",
   "metadata": {},
   "source": [
    "## Tunning de HyperParameters"
   ]
  },
  {
   "cell_type": "code",
   "execution_count": 40,
   "metadata": {},
   "outputs": [],
   "source": [
    "from sklearn.model_selection import RandomizedSearchCV\n",
    "\n",
    "from sklearn.metrics import mean_squared_error, make_scorer\n",
    "#greater_is_better = False -> Transformar score_function en loss_function\n",
    "mse = make_scorer( mean_squared_error, greater_is_better = False )"
   ]
  },
  {
   "cell_type": "code",
   "execution_count": 43,
   "metadata": {},
   "outputs": [
    {
     "data": {
      "text/plain": [
       "RandomizedSearchCV(cv=10, error_score='raise-deprecating',\n",
       "          estimator=RandomForestRegressor(bootstrap=True, criterion='mse', max_depth=7,\n",
       "           max_features='auto', max_leaf_nodes=None,\n",
       "           min_impurity_decrease=0.0, min_impurity_split=None,\n",
       "           min_samples_leaf=1, min_samples_split=2,\n",
       "           min_weight_fraction_leaf=0.0, n_estimators=100, n_jobs=None,\n",
       "           oob_score=True, random_state=0, verbose=0, warm_start=False),\n",
       "          fit_params=None, iid='warn', n_iter=20, n_jobs=1,\n",
       "          param_distributions={'max_depth': [1, 2, 3, 4], 'n_estimators': [80, 120, 200, 250], 'random_state': [0, 10, 50]},\n",
       "          pre_dispatch='2*n_jobs', random_state=None, refit=True,\n",
       "          return_train_score='warn',\n",
       "          scoring=make_scorer(mean_squared_error, greater_is_better=False),\n",
       "          verbose=0)"
      ]
     },
     "execution_count": 43,
     "metadata": {},
     "output_type": "execute_result"
    }
   ],
   "source": [
    "reg = RandomForestRegressor()\n",
    "\n",
    "tune_prms = {'max_depth': [1,2,3,4],\n",
    "             'n_estimators': [80,120,200,250],\n",
    "             'random_state': [0,10,50]\n",
    "            }\n",
    "\n",
    "grid = RandomizedSearchCV( estimator = estimator, param_distributions = tune_prms, cv = 10, n_jobs = 1, scoring = mse, n_iter = 20 ) \n",
    "grid.fit(X.fillna(0),Y.fillna(0))    "
   ]
  },
  {
   "cell_type": "code",
   "execution_count": 44,
   "metadata": {},
   "outputs": [
    {
     "name": "stdout",
     "output_type": "stream",
     "text": [
      "==========================================================\n",
      "||            Results from Grid Search                  ||\n",
      "==========================================================\n",
      "\n",
      " The best estimator across ALL searched params:\n",
      " RandomForestRegressor(bootstrap=True, criterion='mse', max_depth=4,\n",
      "           max_features='auto', max_leaf_nodes=None,\n",
      "           min_impurity_decrease=0.0, min_impurity_split=None,\n",
      "           min_samples_leaf=1, min_samples_split=2,\n",
      "           min_weight_fraction_leaf=0.0, n_estimators=120, n_jobs=None,\n",
      "           oob_score=True, random_state=50, verbose=0, warm_start=False)\n",
      "\n",
      " The best score across ALL searched params:\n",
      " -732591533.812234\n",
      "\n",
      " The best parameters across ALL searched params:\n",
      " {'random_state': 50, 'n_estimators': 120, 'max_depth': 4}\n"
     ]
    }
   ],
   "source": [
    "# Results from Grid Search\n",
    "print(\"==========================================================\")\n",
    "print(\"||            Results from Grid Search                  ||\")\n",
    "print(\"==========================================================\")    \n",
    "    \n",
    "print(\"\\n The best estimator across ALL searched params:\\n\", grid.best_estimator_)\n",
    "print(\"\\n The best score across ALL searched params:\\n\", grid.best_score_)\n",
    "print(\"\\n The best parameters across ALL searched params:\\n\", grid.best_params_)"
   ]
  },
  {
   "cell_type": "markdown",
   "metadata": {},
   "source": [
    "## Ploteamos el Feature Importanc"
   ]
  },
  {
   "cell_type": "code",
   "execution_count": 34,
   "metadata": {},
   "outputs": [
    {
     "name": "stdout",
     "output_type": "stream",
     "text": [
      "Feature ranking:\n",
      "1. feature 16 (0.194822)\n",
      "2. feature 52 (0.147230)\n",
      "3. feature 53 (0.076847)\n",
      "4. feature 57 (0.065336)\n",
      "5. feature 51 (0.054579)\n",
      "6. feature 12 (0.046131)\n",
      "7. feature 22 (0.037493)\n",
      "8. feature 31 (0.034350)\n",
      "9. feature 59 (0.031719)\n",
      "10. feature 61 (0.020681)\n",
      "11. feature 27 (0.019200)\n",
      "12. feature 25 (0.012167)\n",
      "13. feature 63 (0.012065)\n",
      "14. feature 4 (0.010124)\n",
      "15. feature 23 (0.009702)\n",
      "16. feature 9 (0.008988)\n",
      "17. feature 75 (0.008578)\n",
      "18. feature 49 (0.008143)\n",
      "19. feature 10 (0.007856)\n",
      "20. feature 11 (0.007307)\n",
      "21. feature 0 (0.007110)\n",
      "22. feature 3 (0.006949)\n",
      "23. feature 5 (0.006683)\n",
      "24. feature 55 (0.006179)\n",
      "25. feature 45 (0.006021)\n",
      "26. feature 42 (0.005611)\n",
      "27. feature 77 (0.005555)\n",
      "28. feature 96 (0.005380)\n",
      "29. feature 92 (0.005092)\n",
      "30. feature 88 (0.005058)\n",
      "31. feature 29 (0.004947)\n",
      "32. feature 85 (0.004902)\n",
      "33. feature 56 (0.004885)\n",
      "34. feature 68 (0.004713)\n",
      "35. feature 8 (0.004705)\n",
      "36. feature 80 (0.004016)\n",
      "37. feature 6 (0.003936)\n",
      "38. feature 58 (0.003906)\n",
      "39. feature 82 (0.003854)\n",
      "40. feature 43 (0.003846)\n",
      "41. feature 7 (0.003732)\n",
      "42. feature 28 (0.003549)\n",
      "43. feature 24 (0.003485)\n",
      "44. feature 97 (0.003483)\n",
      "45. feature 41 (0.003361)\n",
      "46. feature 50 (0.003321)\n",
      "47. feature 81 (0.003305)\n",
      "48. feature 94 (0.003255)\n",
      "49. feature 64 (0.003203)\n",
      "50. feature 13 (0.003112)\n",
      "51. feature 86 (0.003105)\n",
      "52. feature 76 (0.003026)\n",
      "53. feature 72 (0.002934)\n",
      "54. feature 93 (0.002934)\n",
      "55. feature 60 (0.002782)\n",
      "56. feature 44 (0.002763)\n",
      "57. feature 90 (0.002596)\n",
      "58. feature 62 (0.002585)\n",
      "59. feature 83 (0.002577)\n",
      "60. feature 91 (0.002253)\n",
      "61. feature 84 (0.002078)\n",
      "62. feature 48 (0.002043)\n",
      "63. feature 78 (0.001922)\n",
      "64. feature 47 (0.001724)\n",
      "65. feature 70 (0.001688)\n",
      "66. feature 66 (0.001602)\n",
      "67. feature 46 (0.001514)\n",
      "68. feature 74 (0.001188)\n",
      "69. feature 15 (0.001147)\n",
      "70. feature 14 (0.001123)\n",
      "71. feature 89 (0.001109)\n",
      "72. feature 26 (0.000726)\n",
      "73. feature 87 (0.000694)\n",
      "74. feature 37 (0.000673)\n",
      "75. feature 54 (0.000635)\n",
      "76. feature 30 (0.000543)\n",
      "77. feature 36 (0.000408)\n",
      "78. feature 79 (0.000371)\n",
      "79. feature 1 (0.000306)\n",
      "80. feature 2 (0.000294)\n",
      "81. feature 17 (0.000146)\n",
      "82. feature 33 (0.000034)\n",
      "83. feature 40 (0.000002)\n",
      "84. feature 95 (0.000000)\n",
      "85. feature 18 (0.000000)\n",
      "86. feature 20 (0.000000)\n",
      "87. feature 65 (0.000000)\n",
      "88. feature 67 (0.000000)\n",
      "89. feature 69 (0.000000)\n",
      "90. feature 38 (0.000000)\n",
      "91. feature 39 (0.000000)\n",
      "92. feature 19 (0.000000)\n",
      "93. feature 21 (0.000000)\n",
      "94. feature 71 (0.000000)\n",
      "95. feature 35 (0.000000)\n",
      "96. feature 34 (0.000000)\n",
      "97. feature 32 (0.000000)\n",
      "98. feature 73 (0.000000)\n"
     ]
    },
    {
     "data": {
      "image/png": "[encoded data removed]",
      "text/plain": [
       "<Figure size 1080x1080 with 1 Axes>"
      ]
     },
     "metadata": {
      "needs_background": "light"
     },
     "output_type": "display_data"
    }
   ],
   "source": [
    "import matplotlib.pyplot as plt\n",
    "forest = pmt\n",
    "\n",
    "importances = forest.feature_importances_\n",
    "std = np.std([tree.feature_importances_ for tree in forest.estimators_],\n",
    "             axis=0)\n",
    "indices = np.argsort(importances)[::-1]\n",
    "\n",
    "# Print the feature ranking\n",
    "print(\"Feature ranking:\")\n",
    "\n",
    "for f in range(X.shape[1]):\n",
    "    print(\"%d. feature %d (%f)\" % (f + 1, indices[f], importances[indices[f]]))\n",
    "\n",
    "# Plot the feature importances of the forest\n",
    "plt.figure(figsize=(15,15))\n",
    "plt.title(\"Feature importances\")\n",
    "plt.bar(range(X.shape[1]), importances[indices],\n",
    "       color=\"r\", yerr=std[indices], align=\"center\")\n",
    "plt.xticks(range(X.shape[1]), indices)\n",
    "plt.xlim([-1, X.shape[1]])\n",
    "plt.show()"
   ]
  }
 ],
 "metadata": {
  "kernelspec": {
   "display_name": "Python 3",
   "language": "python",
   "name": "python3"
  },
  "language_info": {
   "codemirror_mode": {
    "name": "ipython",
    "version": 3
   },
   "file_extension": ".py",
   "mimetype": "text/x-python",
   "name": "python",
   "nbconvert_exporter": "python",
   "pygments_lexer": "ipython3",
   "version": "3.7.3"
  }
 },
 "nbformat": 4,
 "nbformat_minor": 2
}
