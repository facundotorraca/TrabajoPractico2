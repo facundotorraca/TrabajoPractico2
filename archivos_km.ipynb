{
 "cells": [
  {
   "cell_type": "code",
   "execution_count": 23,
   "metadata": {},
   "outputs": [],
   "source": [
    "import pandas as pd\n",
    "import numpy as np"
   ]
  },
  {
   "cell_type": "markdown",
   "metadata": {},
   "source": [
    "### Cargamos los labels"
   ]
  },
  {
   "cell_type": "code",
   "execution_count": 24,
   "metadata": {},
   "outputs": [],
   "source": [
    "loc_lb = r\"D:\\FacundoTorraca\\Documents\\Datos_ML_TP2\\Targets\""
   ]
  },
  {
   "cell_type": "code",
   "execution_count": 25,
   "metadata": {},
   "outputs": [],
   "source": [
    "auc_lb = pd.read_csv( loc_lb + \"\\\\auc_labels.csv\" )\n",
    "ins_lb = pd.read_csv( loc_lb + \"\\\\ins_labels.csv\" )"
   ]
  },
  {
   "cell_type": "code",
   "execution_count": 26,
   "metadata": {},
   "outputs": [],
   "source": [
    "auc_lb_no_uns = pd.read_csv( loc_lb + \"\\\\auc_labels_no_uns.csv\" )\n",
    "ins_lb_no_uns = pd.read_csv( loc_lb + \"\\\\ins_labels_no_uns.csv\" )"
   ]
  },
  {
   "cell_type": "markdown",
   "metadata": {},
   "source": [
    "### Los acomodo para el algoritmo (Unstacked)"
   ]
  },
  {
   "cell_type": "code",
   "execution_count": 27,
   "metadata": {},
   "outputs": [],
   "source": [
    "#Creamos una columna con 1 si el evento sucedio, 0 si no, para cada ventana de tiempo\n",
    "ins_lb[\"obs_18_20\"] = ins_lb[\"18_20_sc\"].apply( lambda x: 0 if np.isnan( x ) else 1 )\n",
    "ins_lb[\"obs_21_23\"] = ins_lb[\"21_23_sc\"].apply( lambda x: 0 if np.isnan( x ) else 1 )\n",
    "ins_lb[\"obs_24_26\"] = ins_lb[\"24_26_sc\"].apply( lambda x: 0 if np.isnan( x ) else 1 )\n",
    "\n",
    "auc_lb[\"obs_18_20\"] = auc_lb[\"18_20_st\"].apply( lambda x: 0 if np.isnan( x ) else 1 )\n",
    "auc_lb[\"obs_21_23\"] = auc_lb[\"21_23_st\"].apply( lambda x: 0 if np.isnan( x ) else 1 )\n",
    "auc_lb[\"obs_24_26\"] = auc_lb[\"24_26_st\"].apply( lambda x: 0 if np.isnan( x ) else 1 )"
   ]
  },
  {
   "cell_type": "code",
   "execution_count": 28,
   "metadata": {},
   "outputs": [],
   "source": [
    "# Completamos los nans con la maxima duracion del evento = 3 dias = 259200 segundos\n",
    "seg_3_dias = 24 * 3 * 3600\n",
    "auc_lb.fillna( seg_3_dias, inplace = True )\n",
    "ins_lb.fillna( seg_3_dias, inplace = True )"
   ]
  },
  {
   "cell_type": "markdown",
   "metadata": {},
   "source": [
    "### Los acomodo para el algoritmo (No Unstacked)"
   ]
  },
  {
   "cell_type": "code",
   "execution_count": 29,
   "metadata": {},
   "outputs": [],
   "source": [
    "# #Creamos una columna con 1 si el evento sucedio, 0 si no\n",
    "ins_lb_no_uns[\"obs\"] = ins_lb_no_uns[\"_sc\"].apply( lambda x: 0 if np.isnan( x ) else 1 )\n",
    "auc_lb_no_uns[\"obs\"] = auc_lb_no_uns[\"_st\"].apply( lambda x: 0 if np.isnan( x ) else 1 )"
   ]
  },
  {
   "cell_type": "code",
   "execution_count": 30,
   "metadata": {},
   "outputs": [],
   "source": [
    "# Completamos los nans con la maxima duracion del evento = 3 dias = 259200 segundos\n",
    "seg_3_dias = 24 * 3 * 3600\n",
    "ins_lb_no_uns.fillna( seg_3_dias, inplace = True )\n",
    "auc_lb_no_uns.fillna( seg_3_dias, inplace = True )"
   ]
  },
  {
   "cell_type": "code",
   "execution_count": 31,
   "metadata": {},
   "outputs": [],
   "source": [
    "# Codificacion de las ventanas de tiempo\n",
    "def codify_time_windows( x ):\n",
    "    if x == \"18_20\":\n",
    "        return 1\n",
    "    elif x == \"21_23\":\n",
    "        return 2\n",
    "    else:\n",
    "        return 3\n",
    "    \n",
    "ins_lb_no_uns[\"ventana\"] = ins_lb_no_uns[\"ventana\"].apply( lambda x: codify_time_windows(x) )\n",
    "auc_lb_no_uns[\"ventana\"] = auc_lb_no_uns[\"ventana\"].apply( lambda x: codify_time_windows(x) )"
   ]
  },
  {
   "cell_type": "markdown",
   "metadata": {},
   "source": [
    "### Guardo el resultado en un CSV\n"
   ]
  },
  {
   "cell_type": "code",
   "execution_count": 33,
   "metadata": {},
   "outputs": [],
   "source": [
    "ins_lb.to_csv( loc_lb + \"\\\\ins_lb_km.csv\", index = False )\n",
    "auc_lb.to_csv( loc_lb + \"\\\\auc_lb_km.csv\", index = False )"
   ]
  },
  {
   "cell_type": "code",
   "execution_count": 34,
   "metadata": {},
   "outputs": [],
   "source": [
    "ins_lb_no_uns.to_csv( loc_lb + \"\\\\ins_lb_km_no_uns.csv\", index = False )\n",
    "auc_lb_no_uns.to_csv( loc_lb + \"\\\\auc_lb_km_no_uns.csv\", index = False )"
   ]
  }
 ],
 "metadata": {
  "kernelspec": {
   "display_name": "Python 3",
   "language": "python",
   "name": "python3"
  },
  "language_info": {
   "codemirror_mode": {
    "name": "ipython",
    "version": 3
   },
   "file_extension": ".py",
   "mimetype": "text/x-python",
   "name": "python",
   "nbconvert_exporter": "python",
   "pygments_lexer": "ipython3",
   "version": "3.7.0"
  }
 },
 "nbformat": 4,
 "nbformat_minor": 2
}
