{
 "cells": [
  {
   "cell_type": "code",
   "execution_count": 1,
   "metadata": {},
   "outputs": [],
   "source": [
    "import pandas as pd\n",
    "import numpy as np"
   ]
  },
  {
   "cell_type": "code",
   "execution_count": 2,
   "metadata": {},
   "outputs": [],
   "source": [
    "loc_training = r\"C:\\Users\\FacundoTorraca\\Documents\\Facultad\\Organizacion de Datos\\Trabajo Practico 2\\Sets de Entrenamiento\"\n",
    "loc_targets = r\"C:\\Users\\FacundoTorraca\\Documents\\Facultad\\Organizacion de Datos\\Trabajo Practico 2\\target_final_competencia_revamped.csv\""
   ]
  },
  {
   "cell_type": "markdown",
   "metadata": {},
   "source": [
    "### Filtro los datos del target"
   ]
  },
  {
   "cell_type": "code",
   "execution_count": 3,
   "metadata": {},
   "outputs": [],
   "source": [
    "tgt = pd.read_csv( loc_targets )"
   ]
  },
  {
   "cell_type": "code",
   "execution_count": 4,
   "metadata": {},
   "outputs": [],
   "source": [
    "ref_hash = tgt[\"ref_hash\"].apply( lambda x: x[:-3] )"
   ]
  },
  {
   "cell_type": "code",
   "execution_count": 5,
   "metadata": {},
   "outputs": [],
   "source": [
    "ref_hash = ref_hash.drop_duplicates().to_list()"
   ]
  },
  {
   "cell_type": "code",
   "execution_count": 6,
   "metadata": {},
   "outputs": [
    {
     "data": {
      "text/plain": [
       "2965"
      ]
     },
     "execution_count": 6,
     "metadata": {},
     "output_type": "execute_result"
    }
   ],
   "source": [
    "len(ref_hash)"
   ]
  },
  {
   "cell_type": "markdown",
   "metadata": {},
   "source": [
    "# AUCTIONS"
   ]
  },
  {
   "cell_type": "code",
   "execution_count": 37,
   "metadata": {},
   "outputs": [],
   "source": [
    "dtypes_auc= {\"ref_type_id\": np.int8, \"source_id\": np.int16, \"device_id\": np.int64 }"
   ]
  },
  {
   "cell_type": "markdown",
   "metadata": {},
   "source": [
    "### Intervalo (18-20)"
   ]
  },
  {
   "cell_type": "code",
   "execution_count": 4,
   "metadata": {},
   "outputs": [],
   "source": [
    "auc_18_20 = pd.read_csv( loc_training + \"\\\\auc_1.csv\", dtype = dtypes_auc )\n",
    "\n",
    "auc_18_20_tgt = auc_18_20.loc[ auc_18_20[\"device_id\"].isin( ref_hash ) ]\n",
    "auc_18_20_tng = auc_18_20.loc[ auc_18_20[\"device_id\"].isin( ref_hash ) == False  ];\n",
    "auc_18_20_ans = auc_18_20_tng[ [\"device_id\", \"_st\"] ]; del( auc_18_20_tng[\"_st\"] )"
   ]
  },
  {
   "cell_type": "markdown",
   "metadata": {},
   "source": [
    "### Intervalo (19-21)"
   ]
  },
  {
   "cell_type": "code",
   "execution_count": null,
   "metadata": {},
   "outputs": [],
   "source": [
    "auc_19_21 = pd.read_csv( loc_training + \"\\\\auc_2.csv\", dtype = dtypes_auc  )\n",
    "\n",
    "auc_19_21_tgt = auc_19_21.loc[ auc_19_21[\"device_id\"].isin( ref_hash ) ]\n",
    "auc_19_21_tng = auc_19_21.loc[ auc_19_21[\"device_id\"].isin( ref_hash ) == False  ];\n",
    "auc_19_21_ans = auc_19_21_tng[ [\"device_id\", \"_st\"] ]; del( auc_19_21_tng[\"_st\"] )"
   ]
  },
  {
   "cell_type": "markdown",
   "metadata": {},
   "source": [
    "### Intervalo (20-22)"
   ]
  },
  {
   "cell_type": "code",
   "execution_count": null,
   "metadata": {},
   "outputs": [],
   "source": [
    "auc_20_22 = pd.read_csv( loc_training + \"\\\\auc_3.csv\", dtype = dtypes_auc  )\n",
    "\n",
    "auc_20_22_tgt = auc_20_22.loc[ auc_20_22[\"device_id\"].isin( ref_hash ) ]\n",
    "auc_20_22_tng = auc_20_22.loc[ auc_20_22[\"device_id\"].isin( ref_hash ) == False  ];\n",
    "auc_20_22_ans = auc_20_22_tng[ [\"device_id\", \"_st\"] ]; del( auc_20_22_tng[\"_st\"] )"
   ]
  },
  {
   "cell_type": "markdown",
   "metadata": {},
   "source": [
    "### Intervalo (21-23)"
   ]
  },
  {
   "cell_type": "code",
   "execution_count": null,
   "metadata": {},
   "outputs": [],
   "source": [
    "auc_21_23 = pd.read_csv( loc_training + \"\\\\auc_6.csv\", dtype = dtypes_auc  )\n",
    "\n",
    "auc_21_23_tgt = auc_21_23.loc[ auc_21_23[\"device_id\"].isin( ref_hash ) ]\n",
    "auc_21_23_tng = auc_21_23.loc[ auc_21_23[\"device_id\"].isin( ref_hash ) == False  ];\n",
    "auc_21_23_ans = auc_21_23_tng[ [\"device_id\", \"_st\"] ]; del( auc_21_23_tng[\"_st\"] )"
   ]
  },
  {
   "cell_type": "markdown",
   "metadata": {},
   "source": [
    "### Intervalo (22-24)"
   ]
  },
  {
   "cell_type": "code",
   "execution_count": 32,
   "metadata": {},
   "outputs": [],
   "source": [
    "auc_22_24 = pd.read_csv( loc_training + \"\\\\auc_6.csv\", dtype = dtypes_auc  )\n",
    "\n",
    "auc_22_24_tgt = auc_22_24.loc[ auc_22_24[\"device_id\"].isin( ref_hash ) ]\n",
    "auc_22_24_tng = auc_22_24.loc[ auc_22_24[\"device_id\"].isin( ref_hash ) == False  ];\n",
    "auc_22_24_ans = auc_22_24_tng[ [\"device_id\", \"_st\"] ]; del( auc_22_24_tng[\"_st\"] )"
   ]
  },
  {
   "cell_type": "markdown",
   "metadata": {},
   "source": [
    "### Intervalo (23-25)"
   ]
  },
  {
   "cell_type": "code",
   "execution_count": 31,
   "metadata": {},
   "outputs": [],
   "source": [
    "auc_23_25 = pd.read_csv( loc_training + \"\\\\auc_6.csv\", dtype = dtypes_auc  )\n",
    "\n",
    "auc_23_25_tgt = auc_23_25.loc[ auc_23_25[\"device_id\"].isin( ref_hash ) ]\n",
    "auc_23_25_tng = auc_23_25.loc[ auc_23_25[\"device_id\"].isin( ref_hash ) == False  ];\n",
    "auc_23_25_ans = auc_23_25_tng[ [\"device_id\", \"_st\"] ]; del( auc_23_25_tng[\"_st\"] )"
   ]
  },
  {
   "cell_type": "markdown",
   "metadata": {},
   "source": [
    "### Intervalo (24-26)"
   ]
  },
  {
   "cell_type": "code",
   "execution_count": 33,
   "metadata": {},
   "outputs": [],
   "source": [
    "auc_24_26 = pd.read_csv( loc_training + \"\\\\auc_6.csv\", dtype = dtypes_auc  )\n",
    "\n",
    "auc_24_26_tgt = auc_24_26.loc[ auc_24_26[\"device_id\"].isin( ref_hash ) ]\n",
    "auc_24_26_tng = auc_24_26.loc[ auc_24_26[\"device_id\"].isin( ref_hash ) == False ];\n",
    "auc_24_26_ans = auc_24_26_tng[ [\"device_id\", \"_st\"] ]; del( auc_24_26_tng[\"_st\"] )"
   ]
  }
 ],
 "metadata": {
  "kernelspec": {
   "display_name": "Python 3",
   "language": "python",
   "name": "python3"
  },
  "language_info": {
   "codemirror_mode": {
    "name": "ipython",
    "version": 3
   },
   "file_extension": ".py",
   "mimetype": "text/x-python",
   "name": "python",
   "nbconvert_exporter": "python",
   "pygments_lexer": "ipython3",
   "version": "3.7.0"
  }
 },
 "nbformat": 4,
 "nbformat_minor": 2
}
