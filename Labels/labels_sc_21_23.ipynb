{
 "cells": [
  {
   "cell_type": "code",
   "execution_count": 30,
   "metadata": {},
   "outputs": [],
   "source": [
    "import pandas as pd\n",
    "import numpy as np"
   ]
  },
  {
   "cell_type": "code",
   "execution_count": 55,
   "metadata": {},
   "outputs": [],
   "source": [
    "loc_lb = r\"D:\\FacundoTorraca\\Documents\\TP2_Machine_Learning_v4\\Labels\""
   ]
  },
  {
   "cell_type": "code",
   "execution_count": 6,
   "metadata": {},
   "outputs": [],
   "source": [
    "ins_lb = pd.read_csv( loc_lb + \"\\\\ins_lb.csv\", dtype = {\"obs_18_20\":\"bool\", \"obs_21_23\":\"bool\", \"obs_24_26\":\"bool\"} )"
   ]
  },
  {
   "cell_type": "markdown",
   "metadata": {},
   "source": [
    "#### El Training Set consiste de:\n",
    "\n",
    "* Personas que instalaron en la ventana del 21-23 y no en 18-20\n",
    "* Personas que instalaron en la ventana del 18-20 y no en 21-23\n",
    "* Personas que instalaron en ambas ventanas"
   ]
  },
  {
   "cell_type": "code",
   "execution_count": 45,
   "metadata": {},
   "outputs": [],
   "source": [
    "onl_21_23 = ins_lb.loc[ (ins_lb[\"obs_21_23\"] == True) & (ins_lb[\"obs_18_20\"] == False), [\"ref_hash\", \"21_23_sc\"] ] #Personas que solo instalaron el 21-23\n",
    "onl_18_20 = ins_lb.loc[ (ins_lb[\"obs_18_20\"] == True) & (ins_lb[\"obs_21_23\"] == False), [\"ref_hash\", \"21_23_sc\"] ] #Personas que solo instalaron el 18-20\n",
    "both_wind = ins_lb.loc[ (ins_lb[\"obs_18_20\"] == True) & (ins_lb[\"obs_21_23\"] == True ), [\"ref_hash\", \"21_23_sc\"] ] #Personas que instalaron en 2 ventanas"
   ]
  },
  {
   "cell_type": "code",
   "execution_count": 40,
   "metadata": {},
   "outputs": [],
   "source": [
    "tam_18_20 = 13300 #10% de 133000 -> aprox total instalaciones en la ventana del 21-23"
   ]
  },
  {
   "cell_type": "code",
   "execution_count": 50,
   "metadata": {},
   "outputs": [],
   "source": [
    "tr_set_18_23 = onl_21_23.append( onl_18_20.iloc[:tam_18_20], sort = False ).append( both_wind, sort = False )"
   ]
  },
  {
   "cell_type": "code",
   "execution_count": 56,
   "metadata": {},
   "outputs": [],
   "source": [
    "tr_set_18_23.to_csv( loc_lb + \"\\\\label_ins_21_23.csv\", index = False )"
   ]
  }
 ],
 "metadata": {
  "kernelspec": {
   "display_name": "Python 3",
   "language": "python",
   "name": "python3"
  },
  "language_info": {
   "codemirror_mode": {
    "name": "ipython",
    "version": 3
   },
   "file_extension": ".py",
   "mimetype": "text/x-python",
   "name": "python",
   "nbconvert_exporter": "python",
   "pygments_lexer": "ipython3",
   "version": "3.7.0"
  }
 },
 "nbformat": 4,
 "nbformat_minor": 2
}
