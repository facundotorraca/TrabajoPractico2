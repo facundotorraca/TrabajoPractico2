{
 "cells": [
  {
   "cell_type": "code",
   "execution_count": 17,
   "metadata": {},
   "outputs": [],
   "source": [
    "import pandas as pd\n",
    "import numpy as np\n",
    "import warnings as wn\n",
    "import datetime as dt\n",
    "\n",
    "wn.simplefilter(\"ignore\")"
   ]
  },
  {
   "cell_type": "code",
   "execution_count": 18,
   "metadata": {},
   "outputs": [],
   "source": [
    "dtypes_auc = {\"ref_type_id\": np.int8, \"source_id\": np.int16, \"device_id\": np.int64 }\n",
    "\n",
    "dtypes_ins = { \"application_id\": np.int16, \"ref_type\":\"category\", \"click_hash\":\"category\", \"device_model\":\"category\",\n",
    "               \"device_countrycode\":\"category\", \"device_brand\": \"category\", \"session_user_agent\":\"category\",\n",
    "               \"kind\":\"category\", \"wifi\":\"category\", \"device_language\":\"category\"}      \n",
    "\n",
    "dtypes_clk = { \"advertiser_id\": np.int8, \"action_id\": np.float16, \"source_id\": np.int8, \"country_code\": \"category\", \n",
    "               \"latitude\": np.float16, \"longitude\": np.float16, \"wifi_connection\": \"category\", \"carrier_id\": np.float16,\n",
    "               \"trans_id\": \"object\", \"os_major\":np.float32, \"brand\": np.float16, \"touchX\": np.float16,\n",
    "               \"touchY\": np.float16  }\n",
    "\n",
    "dtypes_evt = { \"event_id\":np.int32, \"application_id\": np.int32, \"attributed\":\"category\", \"device_countrycode\":\"category\",\n",
    "               \"device_os_version\":\"category\", \"device_brand\": np.float32, \"device_model\": \"category\",\n",
    "               \"device_city\":\"category\", \"session_user_agent\":\"category\", \"user_agent\":np.float32, \"carrier\":\"category\",\n",
    "               \"kind\":\"category\", \"wifi\":\"category\", \"connection_type\":\"category\", \"device_language\":\"category\",\n",
    "               \"trans_id\":\"object\" }"
   ]
  },
  {
   "cell_type": "markdown",
   "metadata": {},
   "source": [
    "# Leo los CSV"
   ]
  },
  {
   "cell_type": "code",
   "execution_count": 23,
   "metadata": {},
   "outputs": [],
   "source": [
    "loc_to_read = r\"D:\\FacundoTorraca\\Documents\\TP2_Machine_Learning\\CSV\""
   ]
  },
  {
   "cell_type": "code",
   "execution_count": 32,
   "metadata": {},
   "outputs": [],
   "source": [
    "auc = pd.read_csv( loc_to_read + \"\\\\auctions.csv.gzip\", compression = \"gzip\", dtype = dtypes_auc ) \n",
    "auc[\"date\"] = pd.to_datetime( auc[\"date\"], errors = \"coerce\" )"
   ]
  },
  {
   "cell_type": "code",
   "execution_count": 9,
   "metadata": {},
   "outputs": [],
   "source": [
    "ins = pd.read_csv( loc_to_read + '\\\\installs.csv.gzip', compression = 'gzip', dtype = dtypes_ins )\n",
    "ins[\"created\"] = pd.to_datetime( ins[\"created\"], errors = \"coerce\" )\n",
    "ins = ins.rename( columns = {\"created\":\"date\"} )"
   ]
  },
  {
   "cell_type": "code",
   "execution_count": 33,
   "metadata": {},
   "outputs": [],
   "source": [
    "evt = pd.read_csv( loc_to_read + '\\\\events.csv.gzip', compression = \"gzip\", dtype = dtypes_evt )\n",
    "evt[\"date\"] = pd.to_datetime( evt[\"date\"], errors = \"coerce\" )"
   ]
  },
  {
   "cell_type": "code",
   "execution_count": 11,
   "metadata": {},
   "outputs": [],
   "source": [
    "clk = pd.read_csv( loc_to_read + '\\\\clicks.csv.gzip', compression = \"gzip\" )\n",
    "clk[\"touchX\"] = clk[\"touchX\"].fillna(0)\n",
    "clk[\"touchY\"] = clk[\"touchY\"].fillna(0)\n",
    "clk[\"touchX\"] = pd.to_numeric( clk[\"touchX\"], downcast = \"float\", errors = \"coerce\" )\n",
    "clk[\"touchY\"] = pd.to_numeric( clk[\"touchY\"], downcast = \"float\", errors = \"coerce\" )\n",
    "clk[\"created\"] = pd.to_datetime( clk[\"created\"], errors = \"coerce\" )\n",
    "clk = clk.rename( columns = {\"created\":\"date\"} )"
   ]
  },
  {
   "cell_type": "markdown",
   "metadata": {},
   "source": [
    "# Los separo en ventanas de 3 dias"
   ]
  },
  {
   "cell_type": "code",
   "execution_count": 12,
   "metadata": {},
   "outputs": [],
   "source": [
    "ins_18_20 = ins.loc[ ins['date'].dt.day.between(18,20) ]; ins_18_20[\"ventana\"] = \"18_20\";\n",
    "ins_21_23 = ins.loc[ ins['date'].dt.day.between(21,23) ]; ins_21_23[\"ventana\"] = \"21_23\";\n",
    "ins_24_26 = ins.loc[ ins['date'].dt.day.between(24,26) ]; ins_24_26[\"ventana\"] = \"24_26\";"
   ]
  },
  {
   "cell_type": "code",
   "execution_count": 13,
   "metadata": {},
   "outputs": [],
   "source": [
    "clk_18_20 = clk.loc[ clk['date'].dt.day.between(18,20) ]; clk_18_20[\"ventana\"] = \"18_20\";\n",
    "clk_21_23 = clk.loc[ clk['date'].dt.day.between(21,23) ]; clk_21_23[\"ventana\"] = \"21_23\";\n",
    "clk_24_26 = clk.loc[ clk['date'].dt.day.between(24,26) ]; clk_24_26[\"ventana\"] = \"24_26\";"
   ]
  },
  {
   "cell_type": "code",
   "execution_count": 34,
   "metadata": {},
   "outputs": [],
   "source": [
    "evt_18_20 = evt.loc[ evt['date'].dt.day.between(18,20) ]; evt_18_20[\"ventana\"] = \"18_20\";\n",
    "evt_21_23 = evt.loc[ evt['date'].dt.day.between(21,23) ]; evt_21_23[\"ventana\"] = \"21_23\";\n",
    "evt_24_26 = evt.loc[ evt['date'].dt.day.between(24,26) ]; evt_24_26[\"ventana\"] = \"24_26\";"
   ]
  },
  {
   "cell_type": "code",
   "execution_count": 35,
   "metadata": {},
   "outputs": [],
   "source": [
    "auc_18_20 = auc.loc[ auc['date'].dt.day.between(18,20) ]; auc_18_20[\"ventana\"] = \"18_20\";\n",
    "auc_21_23 = auc.loc[ auc['date'].dt.day.between(21,23) ]; auc_21_23[\"ventana\"] = \"21_23\";\n",
    "auc_24_26 = auc.loc[ auc['date'].dt.day.between(24,26) ]; auc_24_26[\"ventana\"] = \"24_26\";"
   ]
  },
  {
   "cell_type": "markdown",
   "metadata": {},
   "source": [
    "# Calculamos el \"ST\" y \"SD\" para cada ventana"
   ]
  },
  {
   "cell_type": "code",
   "execution_count": 20,
   "metadata": {},
   "outputs": [],
   "source": [
    "ins_18_20[\"_sc\"] = ins_18_20[\"date\"] - dt.datetime( year = 2019, month = 4, day = 18 ); ins_18_20[\"_sc\"] = ins_18_20[\"_sc\"].dt.total_seconds();\n",
    "ins_21_23[\"_sc\"] = ins_21_23[\"date\"] - dt.datetime( year = 2019, month = 4, day = 21 ); ins_21_23[\"_sc\"] = ins_21_23[\"_sc\"].dt.total_seconds(); \n",
    "ins_24_26[\"_sc\"] = ins_24_26[\"date\"] - dt.datetime( year = 2019, month = 4, day = 24 ); ins_24_26[\"_sc\"] = ins_24_26[\"_sc\"].dt.total_seconds(); "
   ]
  },
  {
   "cell_type": "code",
   "execution_count": null,
   "metadata": {},
   "outputs": [],
   "source": [
    "auc_18_20[\"_st\"] = auc_18_20[\"date\"] - dt.datetime( year = 2019, month = 4, day = 18 ); auc_18_20[\"_st\"] = auc_18_20[\"_st\"].dt.total_seconds();\n",
    "auc_21_23[\"_st\"] = auc_21_23[\"date\"] - dt.datetime( year = 2019, month = 4, day = 21 ); auc_21_23[\"_st\"] = auc_21_23[\"_st\"].dt.total_seconds(); \n",
    "auc_24_26[\"_st\"] = auc_24_26[\"date\"] - dt.datetime( year = 2019, month = 4, day = 24 ); auc_24_26[\"_st\"] = auc_24_26[\"_st\"].dt.total_seconds(); "
   ]
  },
  {
   "cell_type": "markdown",
   "metadata": {},
   "source": [
    "# Guardamos los DataFrames "
   ]
  },
  {
   "cell_type": "code",
   "execution_count": 25,
   "metadata": {},
   "outputs": [],
   "source": [
    "loc_to_save = r\"D:\\FacundoTorraca\\Documents\\TP2_Machine_Learning\\Training Sets\""
   ]
  },
  {
   "cell_type": "code",
   "execution_count": 26,
   "metadata": {},
   "outputs": [],
   "source": [
    "ins_18_20.to_csv( loc_to_save + \"\\\\ins_18_20.csv\", index = False ); clk_18_20.to_csv( loc_to_save + \"\\\\clk_18_20.csv\", index = False ); \n",
    "ins_21_23.to_csv( loc_to_save + \"\\\\ins_21_23.csv\", index = False ); clk_21_23.to_csv( loc_to_save + \"\\\\clk_21_23.csv\", index = False ); \n",
    "ins_24_26.to_csv( loc_to_save + \"\\\\ins_24_26.csv\", index = False ); clk_24_26.to_csv( loc_to_save + \"\\\\clk_24_26.csv\", index = False ); "
   ]
  },
  {
   "cell_type": "code",
   "execution_count": null,
   "metadata": {},
   "outputs": [],
   "source": [
    "auc_18_20.to_csv( loc_to_save + \"\\\\auc_18_20.csv\", index = False ); evt_18_20.to_csv( loc_to_save + \"\\\\evt_18_20.csv\", index = False ); \n",
    "auc_21_23.to_csv( loc_to_save + \"\\\\auc_21_23.csv\", index = False ); evt_21_23.to_csv( loc_to_save + \"\\\\evt_21_23.csv\", index = False ); \n",
    "auc_24_26.to_csv( loc_to_save + \"\\\\auc_24_26.csv\", index = False ); evt_24_26.to_csv( loc_to_save + \"\\\\evt_24_26.csv\", index = False ); "
   ]
  },
  {
   "cell_type": "markdown",
   "metadata": {},
   "source": [
    "# Genero los labels"
   ]
  },
  {
   "cell_type": "markdown",
   "metadata": {},
   "source": [
    "### Auc"
   ]
  },
  {
   "cell_type": "code",
   "execution_count": null,
   "metadata": {},
   "outputs": [],
   "source": [
    "auc_18_20_min_st = auc_18_20.groupby( by = [\"device_id\"] ).agg( {\"_st\":\"min\"} ).reset_index(); auc_18_20_min_st[\"ventana\"] = \"18_20\"\n",
    "auc_21_23_min_st = auc_21_23.groupby( by = [\"device_id\"] ).agg( {\"_st\":\"min\"} ).reset_index(); auc_21_23_min_st[\"ventana\"] = \"21_23\"\n",
    "auc_24_26_min_st = auc_24_26.groupby( by = [\"device_id\"] ).agg( {\"_st\":\"min\"} ).reset_index(); auc_24_26_min_st[\"ventana\"] = \"24_26\""
   ]
  },
  {
   "cell_type": "code",
   "execution_count": null,
   "metadata": {},
   "outputs": [],
   "source": [
    "auc_18_26_min_st = auc_18_26_min_st.append( auc_21_23_min_st ).append( auc_24_26_min_st )\n",
    "auc_18_26_min_st[\"ventana\"] = auc_18_26_min_st[\"ventana\"].astype( \"category\" )\n",
    "auc_lb = auc_18_26_min_st[[\"device_id\",\"ventana\",\"_st\"]].groupby( by = [\"device_id\", \"ventana\"] ).agg( \"min\" )\n",
    "auc_lb = auc_lb.unstack( level = 1 )\n",
    "auc_lb = auc_lb.reset_index()\n",
    "auc_lb.columns = [\"ref_hash\",\"18_20_st\", \"21_23_st\", \"24_26_st\"] #le cambio a ref_hash asi coincide con los demas df"
   ]
  },
  {
   "cell_type": "markdown",
   "metadata": {},
   "source": [
    "### Ins"
   ]
  },
  {
   "cell_type": "code",
   "execution_count": null,
   "metadata": {},
   "outputs": [],
   "source": [
    "ins_18_20_min_st = ins_18_20.groupby( by = [\"ref_hash\"] ).agg( {\"_sc\":\"min\"} ).reset_index(); ins_18_20_min_st[\"ventana\"] = \"18_20\"\n",
    "ins_21_23_min_st = ins_21_23.groupby( by = [\"ref_hash\"] ).agg( {\"_sc\":\"min\"} ).reset_index(); ins_21_23_min_st[\"ventana\"] = \"21_23\"\n",
    "ins_24_26_min_st = ins_24_26.groupby( by = [\"ref_hash\"] ).agg( {\"_sc\":\"min\"} ).reset_index(); ins_24_26_min_st[\"ventana\"] = \"24_26\""
   ]
  },
  {
   "cell_type": "code",
   "execution_count": null,
   "metadata": {},
   "outputs": [],
   "source": [
    "ins_18_26_min_st = ins_18_26_min_st.append( ins_21_23_min_st ).append( ins_24_26_min_st )\n",
    "ins_18_26_min_st[\"ventana\"] = ins_18_26_min_st[\"ventana\"].astype( \"category\" )\n",
    "ins_lb = ins_18_26_min_st[ [\"ref_hash\",\"ventana\",\"_st\"] ].groupby( by = [\"ref_hash\", \"ventana\"] ).agg( \"min\" )\n",
    "ins_lb = ins_lb.unstack( level = 1 )\n",
    "ins_lb = ins_lb.reset_index()\n",
    "ins_lb.columns = [\"ref_hash\",\"18_20_sc\", \"21_23_sc\", \"24_26_sc\"]"
   ]
  },
  {
   "cell_type": "markdown",
   "metadata": {},
   "source": [
    "# Censuramos los Labels "
   ]
  },
  {
   "cell_type": "code",
   "execution_count": null,
   "metadata": {},
   "outputs": [],
   "source": [
    "#Creamos una columna con 1 si el evento sucedio, 0 si no, para cada ventana de tiempo\n",
    "ins_lb[\"obs_18_20\"] = ins_lb[\"18_20_sc\"].apply( lambda x: 0 if np.isnan( x ) else 1 )\n",
    "ins_lb[\"obs_21_23\"] = ins_lb[\"21_23_sc\"].apply( lambda x: 0 if np.isnan( x ) else 1 )\n",
    "ins_lb[\"obs_24_26\"] = ins_lb[\"24_26_sc\"].apply( lambda x: 0 if np.isnan( x ) else 1 )\n",
    "\n",
    "auc_lb[\"obs_18_20\"] = auc_lb[\"18_20_st\"].apply( lambda x: 0 if np.isnan( x ) else 1 )\n",
    "auc_lb[\"obs_21_23\"] = auc_lb[\"21_23_st\"].apply( lambda x: 0 if np.isnan( x ) else 1 )\n",
    "auc_lb[\"obs_24_26\"] = auc_lb[\"24_26_st\"].apply( lambda x: 0 if np.isnan( x ) else 1 )"
   ]
  },
  {
   "cell_type": "code",
   "execution_count": null,
   "metadata": {},
   "outputs": [],
   "source": [
    "# Completamos los nans con la maxima duracion del evento = 3 dias = 259200 segundos\n",
    "seg_3_dias = 24 * 3 * 3600\n",
    "auc_lb.fillna( seg_3_dias, inplace = True )\n",
    "ins_lb.fillna( seg_3_dias, inplace = True )"
   ]
  },
  {
   "cell_type": "markdown",
   "metadata": {},
   "source": [
    "# Guardamos los Labels"
   ]
  },
  {
   "cell_type": "code",
   "execution_count": null,
   "metadata": {},
   "outputs": [],
   "source": [
    "loc_save_lb = r\"D:\\FacundoTorraca\\Documents\\TP2_Machine_Learning\\Labels\""
   ]
  },
  {
   "cell_type": "code",
   "execution_count": null,
   "metadata": {},
   "outputs": [],
   "source": [
    "ins_lb.to_csv( loc_save_lb + \"\\\\ins_lb.csv\", index = False )\n",
    "auc_lb.to_csv( loc_save_lb + \"\\\\auc_lb.csv\", index = False )"
   ]
  }
 ],
 "metadata": {
  "kernelspec": {
   "display_name": "Python 3",
   "language": "python",
   "name": "python3"
  },
  "language_info": {
   "codemirror_mode": {
    "name": "ipython",
    "version": 3
   },
   "file_extension": ".py",
   "mimetype": "text/x-python",
   "name": "python",
   "nbconvert_exporter": "python",
   "pygments_lexer": "ipython3",
   "version": "3.7.0"
  }
 },
 "nbformat": 4,
 "nbformat_minor": 2
}
