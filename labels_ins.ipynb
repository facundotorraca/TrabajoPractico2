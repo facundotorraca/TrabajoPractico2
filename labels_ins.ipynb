{
 "cells": [
  {
   "cell_type": "code",
   "execution_count": 15,
   "metadata": {},
   "outputs": [],
   "source": [
    "import pandas as pd\n",
    "import numpy as np\n",
    "import warnings as wn\n",
    "import math \n",
    "\n",
    "wn.simplefilter(\"ignore\")"
   ]
  },
  {
   "cell_type": "code",
   "execution_count": 16,
   "metadata": {},
   "outputs": [],
   "source": [
    "loc = r\"D:\\FacundoTorraca\\Documents\\Datos_ML_TP2\\SetsDeEntrenamiento\""
   ]
  },
  {
   "cell_type": "code",
   "execution_count": 17,
   "metadata": {},
   "outputs": [],
   "source": [
    "ins_18_20 = pd.read_csv( loc + \"\\\\ins_1.csv\" )\n",
    "ins_21_23 = pd.read_csv( loc + \"\\\\ins_4.csv\" )\n",
    "ins_24_26 = pd.read_csv( loc + \"\\\\ins_7.csv\" )"
   ]
  },
  {
   "cell_type": "code",
   "execution_count": 18,
   "metadata": {},
   "outputs": [],
   "source": [
    "ins_sc_prg = ins_18_20.append( ins_21_23 ).append( ins_24_26 )"
   ]
  },
  {
   "cell_type": "code",
   "execution_count": 19,
   "metadata": {},
   "outputs": [],
   "source": [
    "ins_sc_prg = ins_sc_prg.groupby( by = [\"ref_hash\", \"ventana\"] ).agg( {\"_sc\":\"min\"} ).reset_index()\n",
    "ins_sc_prg.columns = [\"ref_hash\", \"ventana\", \"_sc\"]"
   ]
  },
  {
   "cell_type": "code",
   "execution_count": 20,
   "metadata": {},
   "outputs": [],
   "source": [
    "ins_sc_prg[\"ventana\"] = ins_sc_prg[\"ventana\"].astype( \"category\" )"
   ]
  },
  {
   "cell_type": "code",
   "execution_count": 21,
   "metadata": {},
   "outputs": [],
   "source": [
    "sc_by_windows = ins_sc_prg[[\"ref_hash\",\"ventana\",\"_sc\"]].groupby( by = [\"ref_hash\", \"ventana\"] ).agg( \"min\" )"
   ]
  },
  {
   "cell_type": "code",
   "execution_count": 22,
   "metadata": {},
   "outputs": [],
   "source": [
    "no_uns_sc_by_windwos = sc_by_windows.reset_index()"
   ]
  },
  {
   "cell_type": "code",
   "execution_count": 23,
   "metadata": {},
   "outputs": [],
   "source": [
    "sc_by_windows = sc_by_windows.unstack( level = 1 )\n",
    "sc_by_windows.columns = [\"18_20_sc\", \"21_23_sc\", \"24_26_sc\"]\n",
    "sc_by_windows = sc_by_windows.reset_index()"
   ]
  },
  {
   "cell_type": "code",
   "execution_count": 24,
   "metadata": {},
   "outputs": [],
   "source": [
    "loc_to_save = r\"D:\\FacundoTorraca\\Documents\\Datos_ML_TP2\\Targets\"\n",
    "sc_by_windows.to_csv( loc_to_save + \"\\\\ins_labels.csv\", index = False )\n",
    "no_uns_sc_by_windwos.to_csv( loc_to_save + \"\\\\ins_labels_no_uns.csv\", index = False )"
   ]
  }
 ],
 "metadata": {
  "kernelspec": {
   "display_name": "Python 3",
   "language": "python",
   "name": "python3"
  },
  "language_info": {
   "codemirror_mode": {
    "name": "ipython",
    "version": 3
   },
   "file_extension": ".py",
   "mimetype": "text/x-python",
   "name": "python",
   "nbconvert_exporter": "python",
   "pygments_lexer": "ipython3",
   "version": "3.7.0"
  }
 },
 "nbformat": 4,
 "nbformat_minor": 2
}
