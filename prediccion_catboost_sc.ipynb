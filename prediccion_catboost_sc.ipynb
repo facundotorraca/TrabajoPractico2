{
 "cells": [
  {
   "cell_type": "code",
   "execution_count": 1,
   "metadata": {},
   "outputs": [],
   "source": [
    "import pandas as pd\n",
    "import numpy as np"
   ]
  },
  {
   "cell_type": "code",
   "execution_count": 2,
   "metadata": {},
   "outputs": [],
   "source": [
    "from catboost import CatBoostRegressor"
   ]
  },
  {
   "cell_type": "code",
   "execution_count": 3,
   "metadata": {},
   "outputs": [],
   "source": [
    "loc_lbl = r\"D:\\TP2_Machine_Learning\\Labels\""
   ]
  },
  {
   "cell_type": "code",
   "execution_count": 4,
   "metadata": {},
   "outputs": [],
   "source": [
    "loc_ftr = r\"D:\\TP2_Machine_Learning\\Features\\ftr_ins\""
   ]
  },
  {
   "cell_type": "code",
   "execution_count": 5,
   "metadata": {},
   "outputs": [],
   "source": [
    "ins_lb = pd.read_csv( loc_lbl + \"\\\\ins_lb.csv\", dtype = {\"obs_18_20\":\"bool\", \"obs_21_23\":\"bool\", \"obs_24_26\":\"bool\"} )"
   ]
  },
  {
   "cell_type": "markdown",
   "metadata": {},
   "source": [
    "### Filtro de manera que tenga los datos necesarios"
   ]
  },
  {
   "cell_type": "code",
   "execution_count": 6,
   "metadata": {},
   "outputs": [],
   "source": [
    "rh_18_20 = pd.read_csv( \"D:\\TP2_Machine_Learning\\Training Sets\\ins_18_20.csv\" ); rh_18_20 = rh_18_20[\"ref_hash\"].drop_duplicates().tolist()\n",
    "rh_21_23 = pd.read_csv( \"D:\\TP2_Machine_Learning\\Training Sets\\ins_21_23.csv\" ); rh_21_23 = rh_21_23[\"ref_hash\"].drop_duplicates().tolist()"
   ]
  },
  {
   "cell_type": "code",
   "execution_count": 7,
   "metadata": {},
   "outputs": [],
   "source": [
    "#rh_18_20 = pd.read_csv( r\"D:\\TP2_Machine_Learning\\Training Sets\\ins_18_20.csv\" ).rename( columns = {\"device_id\":\"ref_hash\"} ); rh_18_20 = rh_18_20.drop_duplicates(subset=[\"ref_hash\"])\n",
    "#rh_21_23 = pd.read_csv( r\"D:\\TP2_Machine_Learning\\Training Sets\\ins_21_23.csv\" ).rename( columns = {\"device_id\":\"ref_hash\"} ); rh_21_23 = rh_21_23.drop_duplicates(subset=[\"ref_hash\"])"
   ]
  },
  {
   "cell_type": "code",
   "execution_count": 8,
   "metadata": {},
   "outputs": [],
   "source": [
    "#rh_18_20 = rh_18_20.loc[:,['ref_hash']]\n",
    "#rh_21_23 = rh_21_23.loc[:,['ref_hash']]\n",
    "#rh_18_20.to_csv(r\"D:\\TP2_Machine_Learning\\Training Sets\\rh_18_20_sc.csv\", index = False)\n",
    "#rh_21_23.to_csv(r\"D:\\TP2_Machine_Learning\\Training Sets\\rh_21_23_sc.csv\", index = False)"
   ]
  },
  {
   "cell_type": "code",
   "execution_count": 9,
   "metadata": {},
   "outputs": [],
   "source": [
    "dt_18_20 = ins_lb.loc[ ins_lb[\"ref_hash\"].isin( rh_18_20 ), [\"ref_hash\"] ] #Datos del (18-20)\n",
    "sc_21_23 = ins_lb.loc[ ins_lb[\"ref_hash\"].isin( rh_18_20 ), [\"21_23_sc\"] ] #SC del (21-23)\n",
    "\n",
    "dt_21_23 = ins_lb.loc[ ins_lb[\"ref_hash\"].isin( rh_21_23 ), [\"ref_hash\"] ] #Datos del (21-23)\n",
    "sc_24_26 = ins_lb.loc[ ins_lb[\"ref_hash\"].isin( rh_21_23 ), [\"24_26_sc\"] ] #SC del (24-26)"
   ]
  },
  {
   "cell_type": "code",
   "execution_count": 12,
   "metadata": {},
   "outputs": [],
   "source": [
    "#sc_24_26"
   ]
  },
  {
   "cell_type": "markdown",
   "metadata": {},
   "source": [
    "# <span style=\"color:orange\">  Preparo los datos para predecir </span>\n",
    "Con los datos 21-23 predecimos \"24-26_sc\""
   ]
  },
  {
   "cell_type": "code",
   "execution_count": 13,
   "metadata": {},
   "outputs": [],
   "source": [
    "set_trn = ins_lb.loc[ ins_lb[\"ref_hash\"].isin( rh_18_20 ), [\"ref_hash\",\"21_23_sc\"] ]\n",
    "set_tst = ins_lb.loc[ ins_lb[\"ref_hash\"].isin( rh_21_23 ), [\"ref_hash\", \"24_26_sc\"] ]\n",
    "\n",
    "t_lim = 259200.00\n",
    "max_t = 200\n",
    "\n",
    "set_trn_loc = pd.concat( [ set_trn.loc[ set_trn[\"21_23_sc\"] < t_lim ], set_trn.loc[ set_trn[\"21_23_sc\"] == t_lim ].reset_index( drop = True ).loc[: max_t] ], axis = 0 ).sample(frac=1).reset_index(drop=True) \n",
    "set_tst_loc = pd.concat( [ set_tst.loc[ set_tst[\"24_26_sc\"] < t_lim ], set_tst.loc[ set_tst[\"24_26_sc\"] == t_lim ].reset_index( drop = True ).loc[: max_t] ], axis = 0 ).sample(frac=1).reset_index(drop=True) "
   ]
  },
  {
   "cell_type": "code",
   "execution_count": 14,
   "metadata": {},
   "outputs": [],
   "source": [
    "X_loc = set_trn_loc.loc[:,['ref_hash']] #Datos train\n",
    "Y_loc = set_trn_loc.loc[:,['21_23_sc']] #Label train\n",
    "\n",
    "Z_loc = set_tst_loc.loc[:,['ref_hash']] #Datos test\n",
    "W_loc = set_tst_loc.loc[:,['24_26_sc']] #Label test"
   ]
  },
  {
   "cell_type": "code",
   "execution_count": 176,
   "metadata": {},
   "outputs": [],
   "source": [
    "X_var = X_loc\n",
    "Y_var = Y_loc\n",
    "Z_var = Z_loc\n",
    "W_var = W_loc"
   ]
  },
  {
   "cell_type": "code",
   "execution_count": 177,
   "metadata": {},
   "outputs": [],
   "source": [
    "### Hacer features de ultima instalacion/subasta/evento, tiempo de instalacion (21-3, 4-10, 11-15, 16-20) y si hubieron subastas/eventos/clicks a la noche"
   ]
  },
  {
   "cell_type": "code",
   "execution_count": 178,
   "metadata": {},
   "outputs": [],
   "source": [
    "ftr_01_Z = pd.read_csv( loc_ftr + \"\\\\sin_hour_21_23.csv\" ) \n",
    "ftr_02_Z = pd.read_csv( loc_ftr + \"\\\\cant_ins_21_23.csv\" )\n",
    "#ftr_03_Z = pd.read_csv( loc_ftr + \"\\\\cins_imp_21_23.csv\" )\n",
    "#ftr_04_Z = pd.read_csv( loc_ftr + \"\\\\cant_evt_21_23.csv\" ) <-bad\n",
    "#ftr_05_Z = pd.read_csv( loc_ftr + \"\\\\cant_auc_21_23.csv\" )\n",
    "#ftr_06_Z = pd.read_csv( loc_ftr + \"\\\\wifi_ins_21_23.csv\" )\n",
    "#ftr_07_Z = pd.read_csv( loc_ftr + \"\\\\main_app_21_23.csv\" )\n",
    "#ftr_08_Z = pd.read_csv( loc_ftr + \"\\\\type_ins_21_23.csv\" )\n",
    "#ftr_09_Z = pd.read_csv( loc_ftr + \"\\\\ref_type_21_23.csv\" )\n",
    "#ftr_10_Z = pd.read_csv( loc_ftr + \"\\\\ip_encod_21_23.csv\" )\n",
    "#ftr_11_Z = pd.read_csv( loc_ftr + \"\\\\cevt_atr_21_23.csv\" )\n",
    "#ftr_12_Z = pd.read_csv( loc_ftr + \"\\\\kind_evt_21_23.csv\" )\n",
    "ftr_13_Z = pd.read_csv( loc_ftr + \"\\\\frst_auc_21_23.csv\" )\n",
    "ftr_14_Z = pd.read_csv( loc_ftr + \"\\\\frst_evt_21_23.csv\" )\n",
    "#ftr_15_Z = pd.read_csv( loc_ftr + \"\\\\hr_f_evt_21_23.csv\" )\n",
    "\n",
    "ftr_16_Z = pd.read_csv( loc_ftr + \"\\\\last_ins_21_23.csv\" )\n",
    "ftr_17_Z = pd.read_csv( loc_ftr + \"\\\\last_auc_21_23.csv\" )\n",
    "ftr_18_Z = pd.read_csv( loc_ftr + \"\\\\last_evt_21_23.csv\" )\n",
    "ftr_19_Z = pd.read_csv( loc_ftr + \"\\\\last_clk_21_23.csv\" )\n",
    "ftr_20_Z = pd.read_csv( loc_ftr + \"\\\\me_mt_1_ins_21_23.csv\" )\n",
    "ftr_21_Z = pd.read_csv( loc_ftr + \"\\\\mt_1_ins_21_23.csv\" )\n",
    "\n",
    "ftr_22_Z = pd.read_csv( loc_ftr + \"\\\\me_ins_night_21_23.csv\" )\n",
    "#ftr_23_Z = pd.read_csv( loc_ftr + \"\\\\ins_night_21_23.csv\" )\n",
    "ftr_24_Z = pd.read_csv( loc_ftr + \"\\\\me_ins_morn_21_23.csv\" )\n",
    "#ftr_25_Z = pd.read_csv( loc_ftr + \"\\\\ins_morn_21_23.csv\" )\n",
    "ftr_26_Z = pd.read_csv( loc_ftr + \"\\\\me_ins_midday_21_23.csv\" )\n",
    "#ftr_27_Z = pd.read_csv( loc_ftr + \"\\\\ins_midday_21_23.csv\" )\n",
    "ftr_28_Z = pd.read_csv( loc_ftr + \"\\\\me_ins_after_21_23.csv\" )\n",
    "#ftr_29_Z = pd.read_csv( loc_ftr + \"\\\\ins_after_21_23.csv\" )\n"
   ]
  },
  {
   "cell_type": "code",
   "execution_count": 179,
   "metadata": {},
   "outputs": [],
   "source": [
    "Z_var = Z_var.merge( ftr_01_Z, how = \"inner\", on = \"ref_hash\" )\n",
    "Z_var = Z_var.merge( ftr_02_Z, how = \"inner\", on = \"ref_hash\" )\n",
    "#Z_var = Z_var.merge( ftr_03_Z, how = \"inner\", on = \"ref_hash\" )\n",
    "#Z_var = Z_var.merge( ftr_04_Z, how = \"inner\", on = \"ref_hash\" ) <- bad\n",
    "#Z_var = Z_var.merge( ftr_05_Z, how = \"inner\", on = \"ref_hash\" )\n",
    "#Z_var = Z_var.merge( ftr_06_Z, how = \"inner\", on = \"ref_hash\" )\n",
    "#Z_var = Z_var.merge( ftr_07_Z, how = \"inner\", on = \"ref_hash\" )\n",
    "#Z_var = Z_var.merge( ftr_08_Z, how = \"inner\", on = \"ref_hash\" )\n",
    "#Z_var = Z_var.merge( ftr_09_Z, how = \"inner\", on = \"ref_hash\" )\n",
    "#Z_var = Z_var.merge( ftr_10_Z, how = \"inner\", on = \"ref_hash\" )\n",
    "#Z_var = Z_var.merge( ftr_11_Z, how = \"inner\", on = \"ref_hash\" )\n",
    "#Z_var = Z_var.merge( ftr_12_Z, how = \"inner\", on = \"ref_hash\" )\n",
    "Z_var = Z_var.merge( ftr_13_Z, how = \"inner\", on = \"ref_hash\" )\n",
    "Z_var = Z_var.merge( ftr_14_Z, how = \"inner\", on = \"ref_hash\" )\n",
    "#Z_var = Z_var.merge( ftr_15_Z, how = \"inner\", on = \"ref_hash\" )\n",
    "\n",
    "Z_var = Z_var.merge( ftr_16_Z, how = \"inner\", on = \"ref_hash\" )\n",
    "Z_var = Z_var.merge( ftr_17_Z, how = \"inner\", on = \"ref_hash\" )\n",
    "Z_var = Z_var.merge( ftr_18_Z, how = \"inner\", on = \"ref_hash\" )\n",
    "Z_var = Z_var.merge( ftr_19_Z, how = \"inner\", on = \"ref_hash\" )\n",
    "Z_var = Z_var.merge( ftr_20_Z, how = \"inner\", on = \"ref_hash\" )\n",
    "Z_var = Z_var.merge( ftr_21_Z, how = \"inner\", on = \"ref_hash\" )\n",
    "\n",
    "Z_var = Z_var.merge( ftr_22_Z, how = \"inner\", on = \"ref_hash\" )\n",
    "#Z_var = Z_var.merge( ftr_23_Z, how = \"inner\", on = \"ref_hash\" )\n",
    "Z_var = Z_var.merge( ftr_24_Z, how = \"inner\", on = \"ref_hash\" )\n",
    "#Z_var = Z_var.merge( ftr_25_Z, how = \"inner\", on = \"ref_hash\" )\n",
    "Z_var = Z_var.merge( ftr_26_Z, how = \"inner\", on = \"ref_hash\" )\n",
    "#Z_var = Z_var.merge( ftr_27_Z, how = \"inner\", on = \"ref_hash\" )\n",
    "Z_var = Z_var.merge( ftr_28_Z, how = \"inner\", on = \"ref_hash\" )\n",
    "#Z_var = Z_var.merge( ftr_29_Z, how = \"inner\", on = \"ref_hash\" )\n"
   ]
  },
  {
   "cell_type": "markdown",
   "metadata": {},
   "source": [
    "# <span style=\"color:orange\">  Preparo los datos para entrenar </span>\n",
    "\n",
    "Con los datos 18-20 + \"21-23_sc\" entrenamos"
   ]
  },
  {
   "cell_type": "code",
   "execution_count": 180,
   "metadata": {},
   "outputs": [],
   "source": [
    "#Y = sc_21_23"
   ]
  },
  {
   "cell_type": "code",
   "execution_count": 181,
   "metadata": {},
   "outputs": [],
   "source": [
    "#X = dt_18_20"
   ]
  },
  {
   "cell_type": "markdown",
   "metadata": {},
   "source": [
    "### Agregamos los features"
   ]
  },
  {
   "cell_type": "code",
   "execution_count": 182,
   "metadata": {},
   "outputs": [],
   "source": [
    "ftr_01_X = pd.read_csv( loc_ftr + \"\\\\sin_hour_18_20.csv\" )\n",
    "ftr_02_X = pd.read_csv( loc_ftr + \"\\\\cant_ins_18_20.csv\" )\n",
    "#ftr_03_X = pd.read_csv( loc_ftr + \"\\\\cins_imp_18_20.csv\" )\n",
    "#ftr_04_X = pd.read_csv( loc_ftr + \"\\\\cant_evt_18_20.csv\" ) <- bad\n",
    "#ftr_05_X = pd.read_csv( loc_ftr + \"\\\\cant_auc_18_20.csv\" )\n",
    "#ftr_06_X = pd.read_csv( loc_ftr + \"\\\\wifi_ins_18_20.csv\" )\n",
    "#ftr_07_X = pd.read_csv( loc_ftr + \"\\\\main_app_18_20.csv\" )\n",
    "#ftr_08_X = pd.read_csv( loc_ftr + \"\\\\type_ins_18_20.csv\" )\n",
    "#ftr_09_X = pd.read_csv( loc_ftr + \"\\\\ref_type_18_20.csv\" )\n",
    "#ftr_10_X = pd.read_csv( loc_ftr + \"\\\\ip_encod_18_20.csv\" )\n",
    "#ftr_11_X = pd.read_csv( loc_ftr + \"\\\\cevt_atr_18_20.csv\" )\n",
    "#ftr_12_X = pd.read_csv( loc_ftr + \"\\\\kind_evt_18_20.csv\" )\n",
    "ftr_13_X = pd.read_csv( loc_ftr + \"\\\\frst_auc_18_20.csv\" )\n",
    "ftr_14_X = pd.read_csv( loc_ftr + \"\\\\frst_evt_18_20.csv\" )\n",
    "#ftr_15_X = pd.read_csv( loc_ftr + \"\\\\hr_f_evt_18_20.csv\" )\n",
    "\n",
    "ftr_16_X = pd.read_csv( loc_ftr + \"\\\\last_ins_18_20.csv\" )\n",
    "ftr_17_X = pd.read_csv( loc_ftr + \"\\\\last_auc_18_20.csv\" )\n",
    "ftr_18_X = pd.read_csv( loc_ftr + \"\\\\last_evt_18_20.csv\" )\n",
    "ftr_19_X = pd.read_csv( loc_ftr + \"\\\\last_clk_18_20.csv\" )\n",
    "ftr_20_X = pd.read_csv( loc_ftr + \"\\\\me_mt_1_ins_18_20.csv\" )\n",
    "ftr_21_X = pd.read_csv( loc_ftr + \"\\\\mt_1_ins_18_20.csv\" )\n",
    "\n",
    "ftr_22_X = pd.read_csv( loc_ftr + \"\\\\me_ins_night_18_20.csv\" )\n",
    "#ftr_23_X = pd.read_csv( loc_ftr + \"\\\\ins_night_18_20.csv\" )\n",
    "ftr_24_X = pd.read_csv( loc_ftr + \"\\\\me_ins_morn_18_20.csv\" )\n",
    "#ftr_25_X = pd.read_csv( loc_ftr + \"\\\\ins_morn_18_20.csv\" )\n",
    "ftr_26_X = pd.read_csv( loc_ftr + \"\\\\me_ins_midday_18_20.csv\" )\n",
    "#ftr_27_X = pd.read_csv( loc_ftr + \"\\\\ins_midday_18_20.csv\" )\n",
    "ftr_28_X = pd.read_csv( loc_ftr + \"\\\\me_ins_after_18_20.csv\" )\n",
    "#ftr_29_X = pd.read_csv( loc_ftr + \"\\\\ins_after_18_20.csv\" )\n"
   ]
  },
  {
   "cell_type": "code",
   "execution_count": 183,
   "metadata": {},
   "outputs": [],
   "source": [
    "X_var = X_var.merge( ftr_01_X, how = \"inner\", on = \"ref_hash\" )\n",
    "X_var = X_var.merge( ftr_02_X, how = \"inner\", on = \"ref_hash\" )\n",
    "#X_var = X_var.merge( ftr_03_X, how = \"inner\", on = \"ref_hash\" )\n",
    "#X_var = X_var.merge( ftr_04_X, how = \"inner\", on = \"ref_hash\" ) <- bad\n",
    "#X_var = X_var.merge( ftr_05_X, how = \"inner\", on = \"ref_hash\" )\n",
    "#X_var = X_var.merge( ftr_06_X, how = \"inner\", on = \"ref_hash\" )\n",
    "#X_var = X_var.merge( ftr_07_X, how = \"inner\", on = \"ref_hash\" )\n",
    "#X_var = X_var.merge( ftr_08_X, how = \"inner\", on = \"ref_hash\" )\n",
    "#X_var = X_var.merge( ftr_09_X, how = \"inner\", on = \"ref_hash\" )\n",
    "#X_var = X_var.merge( ftr_10_X, how = \"inner\", on = \"ref_hash\" )\n",
    "#X_var = X_var.merge( ftr_11_X, how = \"inner\", on = \"ref_hash\" )\n",
    "#X_var = X_var.merge( ftr_12_X, how = \"inner\", on = \"ref_hash\" )\n",
    "X_var = X_var.merge( ftr_13_X, how = \"inner\", on = \"ref_hash\" )\n",
    "X_var = X_var.merge( ftr_14_X, how = \"inner\", on = \"ref_hash\" )\n",
    "#X_var = X_var.merge( ftr_15_X, how = \"inner\", on = \"ref_hash\" )\n",
    "\n",
    "X_var = X_var.merge( ftr_16_X, how = \"inner\", on = \"ref_hash\" )\n",
    "X_var = X_var.merge( ftr_17_X, how = \"inner\", on = \"ref_hash\" )\n",
    "X_var = X_var.merge( ftr_18_X, how = \"inner\", on = \"ref_hash\" )\n",
    "X_var = X_var.merge( ftr_19_X, how = \"inner\", on = \"ref_hash\" )\n",
    "X_var = X_var.merge( ftr_20_X, how = \"inner\", on = \"ref_hash\" )\n",
    "X_var = X_var.merge( ftr_21_X, how = \"inner\", on = \"ref_hash\" )\n",
    "\n",
    "X_var = X_var.merge( ftr_22_X, how = \"inner\", on = \"ref_hash\" )\n",
    "#X_var = X_var.merge( ftr_23_X, how = \"inner\", on = \"ref_hash\" )\n",
    "X_var = X_var.merge( ftr_24_X, how = \"inner\", on = \"ref_hash\" )\n",
    "#X_var = X_var.merge( ftr_25_X, how = \"inner\", on = \"ref_hash\" )\n",
    "X_var = X_var.merge( ftr_26_X, how = \"inner\", on = \"ref_hash\" )\n",
    "#X_var = X_var.merge( ftr_27_X, how = \"inner\", on = \"ref_hash\" )\n",
    "X_var = X_var.merge( ftr_28_X, how = \"inner\", on = \"ref_hash\" )\n",
    "#X_var = X_var.merge( ftr_29_X, how = \"inner\", on = \"ref_hash\" )\n"
   ]
  },
  {
   "cell_type": "markdown",
   "metadata": {},
   "source": [
    "## Dropeamos los ref_hash (No estan codificados)"
   ]
  },
  {
   "cell_type": "code",
   "execution_count": 184,
   "metadata": {},
   "outputs": [],
   "source": [
    "X_var = X_var.drop( \"ref_hash\", axis = 1 )\n",
    "Z_var = Z_var.drop( \"ref_hash\", axis = 1 )"
   ]
  },
  {
   "cell_type": "markdown",
   "metadata": {},
   "source": [
    "# Prediccion con <span style=\"color:green\"> *CATBOOST*</span> "
   ]
  },
  {
   "cell_type": "markdown",
   "metadata": {},
   "source": [
    "### X: Train Data, Y: Train Labels, Z: Test Data, sc_24_26: Test Labels"
   ]
  },
  {
   "cell_type": "markdown",
   "metadata": {},
   "source": [
    "### Record = iterations=300, learning_rate=0.06, depth=3, RMSE: 25506.739133"
   ]
  },
  {
   "cell_type": "code",
   "execution_count": 91,
   "metadata": {},
   "outputs": [],
   "source": [
    "from sklearn.model_selection import GridSearchCV\n",
    "from sklearn.metrics import mean_squared_error, make_scorer\n",
    "mse = make_scorer( mean_squared_error, greater_is_better = False ) "
   ]
  },
  {
   "cell_type": "code",
   "execution_count": 185,
   "metadata": {},
   "outputs": [
    {
     "name": "stdout",
     "output_type": "stream",
     "text": [
      "0:\tlearn: 138456.9180744\ttotal: 10.6ms\tremaining: 518ms\n",
      "1:\tlearn: 129506.9011194\ttotal: 19.9ms\tremaining: 477ms\n",
      "2:\tlearn: 121786.6611549\ttotal: 30.9ms\tremaining: 484ms\n",
      "3:\tlearn: 115143.4106864\ttotal: 46ms\tremaining: 529ms\n",
      "4:\tlearn: 109459.8126835\ttotal: 56.5ms\tremaining: 508ms\n",
      "5:\tlearn: 104583.8411013\ttotal: 66.7ms\tremaining: 489ms\n",
      "6:\tlearn: 100496.0984313\ttotal: 77ms\tremaining: 473ms\n",
      "7:\tlearn: 97060.7355856\ttotal: 87.8ms\tremaining: 461ms\n",
      "8:\tlearn: 94176.3939548\ttotal: 99.4ms\tremaining: 453ms\n",
      "9:\tlearn: 91755.6942576\ttotal: 110ms\tremaining: 439ms\n",
      "10:\tlearn: 89755.9709516\ttotal: 120ms\tremaining: 426ms\n",
      "11:\tlearn: 88105.3073372\ttotal: 130ms\tremaining: 413ms\n",
      "12:\tlearn: 86696.1292110\ttotal: 141ms\tremaining: 402ms\n",
      "13:\tlearn: 85568.6906816\ttotal: 151ms\tremaining: 389ms\n",
      "14:\tlearn: 84610.3879704\ttotal: 163ms\tremaining: 380ms\n",
      "15:\tlearn: 83849.9259179\ttotal: 173ms\tremaining: 368ms\n",
      "16:\tlearn: 83233.9413361\ttotal: 183ms\tremaining: 354ms\n",
      "17:\tlearn: 82732.9524772\ttotal: 193ms\tremaining: 343ms\n",
      "18:\tlearn: 82322.4725275\ttotal: 206ms\tremaining: 337ms\n",
      "19:\tlearn: 81946.8324935\ttotal: 215ms\tremaining: 322ms\n",
      "20:\tlearn: 81677.0051580\ttotal: 223ms\tremaining: 307ms\n",
      "21:\tlearn: 81429.7014326\ttotal: 233ms\tremaining: 297ms\n",
      "22:\tlearn: 81223.0154775\ttotal: 249ms\tremaining: 292ms\n",
      "23:\tlearn: 81073.4096529\ttotal: 260ms\tremaining: 282ms\n",
      "24:\tlearn: 80939.4876883\ttotal: 271ms\tremaining: 271ms\n",
      "25:\tlearn: 80834.1142204\ttotal: 282ms\tremaining: 260ms\n",
      "26:\tlearn: 80734.7510855\ttotal: 293ms\tremaining: 249ms\n",
      "27:\tlearn: 80656.2105607\ttotal: 304ms\tremaining: 239ms\n",
      "28:\tlearn: 80590.3222777\ttotal: 319ms\tremaining: 231ms\n",
      "29:\tlearn: 80543.9755932\ttotal: 330ms\tremaining: 220ms\n",
      "30:\tlearn: 80509.9702781\ttotal: 341ms\tremaining: 209ms\n",
      "31:\tlearn: 80451.7187537\ttotal: 352ms\tremaining: 198ms\n",
      "32:\tlearn: 80393.0144143\ttotal: 362ms\tremaining: 187ms\n",
      "33:\tlearn: 80357.9594344\ttotal: 372ms\tremaining: 175ms\n",
      "34:\tlearn: 80327.1776299\ttotal: 392ms\tremaining: 168ms\n",
      "35:\tlearn: 80298.9358209\ttotal: 402ms\tremaining: 156ms\n",
      "36:\tlearn: 80275.9059811\ttotal: 412ms\tremaining: 145ms\n",
      "37:\tlearn: 80254.1727772\ttotal: 425ms\tremaining: 134ms\n",
      "38:\tlearn: 80247.1489708\ttotal: 435ms\tremaining: 123ms\n",
      "39:\tlearn: 80228.2283455\ttotal: 446ms\tremaining: 111ms\n",
      "40:\tlearn: 80219.9771611\ttotal: 458ms\tremaining: 101ms\n",
      "41:\tlearn: 80204.1641829\ttotal: 468ms\tremaining: 89.1ms\n",
      "42:\tlearn: 80193.2091761\ttotal: 481ms\tremaining: 78.3ms\n",
      "43:\tlearn: 80188.2579392\ttotal: 490ms\tremaining: 66.8ms\n",
      "44:\tlearn: 80173.6937623\ttotal: 501ms\tremaining: 55.7ms\n",
      "45:\tlearn: 80170.6702508\ttotal: 512ms\tremaining: 44.5ms\n",
      "46:\tlearn: 80169.2818699\ttotal: 524ms\tremaining: 33.4ms\n",
      "47:\tlearn: 80154.5554367\ttotal: 534ms\tremaining: 22.2ms\n",
      "48:\tlearn: 80147.4720295\ttotal: 545ms\tremaining: 11.1ms\n",
      "49:\tlearn: 80139.8856803\ttotal: 558ms\tremaining: 0us\n"
     ]
    },
    {
     "data": {
      "text/plain": [
       "GridSearchCV(cv=4, error_score='raise-deprecating',\n",
       "       estimator=<catboost.core.CatBoostRegressor object at 0x000000000AC72860>,\n",
       "       fit_params=None, iid='warn', n_jobs=2,\n",
       "       param_grid={'depth': [2, 3, 6], 'learning_rate': [0.04, 0.06, 0.1], 'iterations': [20, 50, 200]},\n",
       "       pre_dispatch='2*n_jobs', refit=True, return_train_score='warn',\n",
       "       scoring=make_scorer(mean_squared_error, greater_is_better=False),\n",
       "       verbose=0)"
      ]
     },
     "execution_count": 185,
     "metadata": {},
     "output_type": "execute_result"
    }
   ],
   "source": [
    "model = CatBoostRegressor(loss_function='RMSE')\n",
    "parameters = {'depth'         : [2,3,6],\n",
    "              'learning_rate' : [0.04, 0.06, 0.1],\n",
    "              'iterations'    : [20, 50, 200]\n",
    "                 }\n",
    "grid = GridSearchCV(estimator=model, scoring=mse ,param_grid = parameters, cv = 4, n_jobs=2)\n",
    "grid.fit(X_var, Y_var)  "
   ]
  },
  {
   "cell_type": "code",
   "execution_count": 186,
   "metadata": {},
   "outputs": [
    {
     "name": "stdout",
     "output_type": "stream",
     "text": [
      "\n",
      "========================================================\n",
      " Results from Grid Search \n",
      "========================================================\n",
      "\n",
      " The best estimator across ALL searched params:\n",
      " <catboost.core.CatBoostRegressor object at 0x000000000E1417F0>\n",
      "\n",
      " The best score across ALL searched params:\n",
      " -6481350505.230204\n",
      "\n",
      " The best parameters across ALL searched params:\n",
      " {'depth': 2, 'iterations': 50, 'learning_rate': 0.1}\n",
      "\n",
      " ========================================================\n"
     ]
    }
   ],
   "source": [
    "    # Results from Grid Search\n",
    "    print(\"\\n========================================================\")\n",
    "    print(\" Results from Grid Search \" )\n",
    "    print(\"========================================================\")    \n",
    "    \n",
    "    print(\"\\n The best estimator across ALL searched params:\\n\",\n",
    "          grid.best_estimator_)\n",
    "    \n",
    "    print(\"\\n The best score across ALL searched params:\\n\",\n",
    "          grid.best_score_)\n",
    "    \n",
    "    print(\"\\n The best parameters across ALL searched params:\\n\",\n",
    "          grid.best_params_)\n",
    "    \n",
    "    print(\"\\n ========================================================\")"
   ]
  },
  {
   "cell_type": "code",
   "execution_count": 187,
   "metadata": {},
   "outputs": [],
   "source": [
    "preds = grid.predict(Z_var)"
   ]
  },
  {
   "cell_type": "markdown",
   "metadata": {},
   "source": [
    "### Parametros encontrados con grid-searchCV"
   ]
  },
  {
   "cell_type": "markdown",
   "metadata": {},
   "source": [
    "# Initialize CatBoostRegressor\n",
    "model = CatBoostRegressor(iterations=200,\n",
    "                          learning_rate=0.06,\n",
    "                          depth=3,\n",
    "                          loss_function='RMSE')"
   ]
  },
  {
   "cell_type": "markdown",
   "metadata": {},
   "source": [
    "# Fit model\n",
    "model.fit(X_var, Y_var)"
   ]
  },
  {
   "cell_type": "markdown",
   "metadata": {},
   "source": [
    "preds = model.predict(Z_var)"
   ]
  },
  {
   "cell_type": "markdown",
   "metadata": {},
   "source": [
    "### Calculamos el RMSE"
   ]
  },
  {
   "cell_type": "code",
   "execution_count": 95,
   "metadata": {},
   "outputs": [],
   "source": [
    "from sklearn.metrics import mean_squared_error"
   ]
  },
  {
   "cell_type": "code",
   "execution_count": 188,
   "metadata": {},
   "outputs": [
    {
     "name": "stdout",
     "output_type": "stream",
     "text": [
      "RMSE: 81184.420016\n"
     ]
    }
   ],
   "source": [
    "rmse = np.sqrt( mean_squared_error(W_var, preds) )\n",
    "print(\"RMSE: %f\" % (rmse) )"
   ]
  },
  {
   "cell_type": "code",
   "execution_count": 189,
   "metadata": {},
   "outputs": [],
   "source": [
    "record = 81101.00"
   ]
  },
  {
   "cell_type": "code",
   "execution_count": 174,
   "metadata": {},
   "outputs": [
    {
     "data": {
      "text/html": [
       "<div>\n",
       "<style scoped>\n",
       "    .dataframe tbody tr th:only-of-type {\n",
       "        vertical-align: middle;\n",
       "    }\n",
       "\n",
       "    .dataframe tbody tr th {\n",
       "        vertical-align: top;\n",
       "    }\n",
       "\n",
       "    .dataframe thead th {\n",
       "        text-align: right;\n",
       "    }\n",
       "</style>\n",
       "<table border=\"1\" class=\"dataframe\">\n",
       "  <thead>\n",
       "    <tr style=\"text-align: right;\">\n",
       "      <th></th>\n",
       "      <th>24_26_sc</th>\n",
       "    </tr>\n",
       "  </thead>\n",
       "  <tbody>\n",
       "    <tr>\n",
       "      <th>0</th>\n",
       "      <td>229990.266</td>\n",
       "    </tr>\n",
       "    <tr>\n",
       "      <th>1</th>\n",
       "      <td>205604.857</td>\n",
       "    </tr>\n",
       "    <tr>\n",
       "      <th>2</th>\n",
       "      <td>77252.910</td>\n",
       "    </tr>\n",
       "    <tr>\n",
       "      <th>3</th>\n",
       "      <td>87122.160</td>\n",
       "    </tr>\n",
       "    <tr>\n",
       "      <th>4</th>\n",
       "      <td>228383.130</td>\n",
       "    </tr>\n",
       "    <tr>\n",
       "      <th>5</th>\n",
       "      <td>257903.369</td>\n",
       "    </tr>\n",
       "    <tr>\n",
       "      <th>6</th>\n",
       "      <td>190868.366</td>\n",
       "    </tr>\n",
       "    <tr>\n",
       "      <th>7</th>\n",
       "      <td>198149.001</td>\n",
       "    </tr>\n",
       "    <tr>\n",
       "      <th>8</th>\n",
       "      <td>167000.260</td>\n",
       "    </tr>\n",
       "    <tr>\n",
       "      <th>9</th>\n",
       "      <td>95522.944</td>\n",
       "    </tr>\n",
       "  </tbody>\n",
       "</table>\n",
       "</div>"
      ],
      "text/plain": [
       "     24_26_sc\n",
       "0  229990.266\n",
       "1  205604.857\n",
       "2   77252.910\n",
       "3   87122.160\n",
       "4  228383.130\n",
       "5  257903.369\n",
       "6  190868.366\n",
       "7  198149.001\n",
       "8  167000.260\n",
       "9   95522.944"
      ]
     },
     "execution_count": 174,
     "metadata": {},
     "output_type": "execute_result"
    }
   ],
   "source": [
    "W_var.head(10)"
   ]
  },
  {
   "cell_type": "code",
   "execution_count": 175,
   "metadata": {},
   "outputs": [
    {
     "data": {
      "text/html": [
       "<div>\n",
       "<style scoped>\n",
       "    .dataframe tbody tr th:only-of-type {\n",
       "        vertical-align: middle;\n",
       "    }\n",
       "\n",
       "    .dataframe tbody tr th {\n",
       "        vertical-align: top;\n",
       "    }\n",
       "\n",
       "    .dataframe thead th {\n",
       "        text-align: right;\n",
       "    }\n",
       "</style>\n",
       "<table border=\"1\" class=\"dataframe\">\n",
       "  <thead>\n",
       "    <tr style=\"text-align: right;\">\n",
       "      <th></th>\n",
       "      <th>0</th>\n",
       "    </tr>\n",
       "  </thead>\n",
       "  <tbody>\n",
       "    <tr>\n",
       "      <th>0</th>\n",
       "      <td>124348.696202</td>\n",
       "    </tr>\n",
       "    <tr>\n",
       "      <th>1</th>\n",
       "      <td>128601.166884</td>\n",
       "    </tr>\n",
       "    <tr>\n",
       "      <th>2</th>\n",
       "      <td>100930.615748</td>\n",
       "    </tr>\n",
       "    <tr>\n",
       "      <th>3</th>\n",
       "      <td>126457.570082</td>\n",
       "    </tr>\n",
       "    <tr>\n",
       "      <th>4</th>\n",
       "      <td>121662.226277</td>\n",
       "    </tr>\n",
       "    <tr>\n",
       "      <th>5</th>\n",
       "      <td>126131.980279</td>\n",
       "    </tr>\n",
       "    <tr>\n",
       "      <th>6</th>\n",
       "      <td>122844.721198</td>\n",
       "    </tr>\n",
       "    <tr>\n",
       "      <th>7</th>\n",
       "      <td>128185.274896</td>\n",
       "    </tr>\n",
       "    <tr>\n",
       "      <th>8</th>\n",
       "      <td>125104.745964</td>\n",
       "    </tr>\n",
       "    <tr>\n",
       "      <th>9</th>\n",
       "      <td>122309.411497</td>\n",
       "    </tr>\n",
       "  </tbody>\n",
       "</table>\n",
       "</div>"
      ],
      "text/plain": [
       "               0\n",
       "0  124348.696202\n",
       "1  128601.166884\n",
       "2  100930.615748\n",
       "3  126457.570082\n",
       "4  121662.226277\n",
       "5  126131.980279\n",
       "6  122844.721198\n",
       "7  128185.274896\n",
       "8  125104.745964\n",
       "9  122309.411497"
      ]
     },
     "execution_count": 175,
     "metadata": {},
     "output_type": "execute_result"
    }
   ],
   "source": [
    "pd.DataFrame(preds).head(10)"
   ]
  },
  {
   "cell_type": "code",
   "execution_count": null,
   "metadata": {},
   "outputs": [],
   "source": []
  }
 ],
 "metadata": {
  "kernelspec": {
   "display_name": "Python 3",
   "language": "python",
   "name": "python3"
  },
  "language_info": {
   "codemirror_mode": {
    "name": "ipython",
    "version": 3
   },
   "file_extension": ".py",
   "mimetype": "text/x-python",
   "name": "python",
   "nbconvert_exporter": "python",
   "pygments_lexer": "ipython3",
   "version": "3.7.3"
  }
 },
 "nbformat": 4,
 "nbformat_minor": 2
}
