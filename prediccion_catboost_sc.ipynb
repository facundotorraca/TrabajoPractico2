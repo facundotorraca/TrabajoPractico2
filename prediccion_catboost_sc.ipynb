{
 "cells": [
  {
   "cell_type": "code",
   "execution_count": 1,
   "metadata": {},
   "outputs": [],
   "source": [
    "import pandas as pd\n",
    "import numpy as np"
   ]
  },
  {
   "cell_type": "code",
   "execution_count": 2,
   "metadata": {},
   "outputs": [],
   "source": [
    "from catboost import CatBoostRegressor"
   ]
  },
  {
   "cell_type": "code",
   "execution_count": 3,
   "metadata": {},
   "outputs": [],
   "source": [
    "from catboost import CatBoostClassifier"
   ]
  },
  {
   "cell_type": "code",
   "execution_count": 4,
   "metadata": {},
   "outputs": [],
   "source": [
    "from sklearn.metrics import mean_squared_error"
   ]
  },
  {
   "cell_type": "code",
   "execution_count": 5,
   "metadata": {},
   "outputs": [],
   "source": [
    "loc_lbl = r\"D:\\TP2_Machine_Learning\\Labels\""
   ]
  },
  {
   "cell_type": "code",
   "execution_count": 6,
   "metadata": {},
   "outputs": [],
   "source": [
    "loc_ftr = r\"D:\\TP2_Machine_Learning\\Features\\ftr_ins\""
   ]
  },
  {
   "cell_type": "code",
   "execution_count": 7,
   "metadata": {},
   "outputs": [],
   "source": [
    "loc_tr = r\"D:\\TP2_Machine_Learning\\Training Sets\""
   ]
  },
  {
   "cell_type": "code",
   "execution_count": 8,
   "metadata": {},
   "outputs": [],
   "source": [
    "ins_lb = pd.read_csv( loc_lbl + \"\\\\ins_lb.csv\", dtype = {\"obs_18_20\":\"bool\", \"obs_21_23\":\"bool\", \"obs_24_26\":\"bool\"} )"
   ]
  },
  {
   "cell_type": "code",
   "execution_count": 9,
   "metadata": {},
   "outputs": [],
   "source": [
    "auc_lb = pd.read_csv( loc_lbl + \"\\\\auc_lb.csv\", dtype = {\"obs_18_20\":\"bool\", \"obs_21_23\":\"bool\", \"obs_24_26\":\"bool\"} )"
   ]
  },
  {
   "cell_type": "code",
   "execution_count": 16,
   "metadata": {},
   "outputs": [
    {
     "data": {
      "text/html": [
       "<div>\n",
       "<style scoped>\n",
       "    .dataframe tbody tr th:only-of-type {\n",
       "        vertical-align: middle;\n",
       "    }\n",
       "\n",
       "    .dataframe tbody tr th {\n",
       "        vertical-align: top;\n",
       "    }\n",
       "\n",
       "    .dataframe thead th {\n",
       "        text-align: right;\n",
       "    }\n",
       "</style>\n",
       "<table border=\"1\" class=\"dataframe\">\n",
       "  <thead>\n",
       "    <tr style=\"text-align: right;\">\n",
       "      <th></th>\n",
       "      <th>ref_hash</th>\n",
       "    </tr>\n",
       "  </thead>\n",
       "  <tbody>\n",
       "    <tr>\n",
       "      <th>4</th>\n",
       "      <td>161514654074162</td>\n",
       "    </tr>\n",
       "    <tr>\n",
       "      <th>7</th>\n",
       "      <td>283297668933729</td>\n",
       "    </tr>\n",
       "    <tr>\n",
       "      <th>9</th>\n",
       "      <td>345999128501141</td>\n",
       "    </tr>\n",
       "    <tr>\n",
       "      <th>18</th>\n",
       "      <td>475635010681369</td>\n",
       "    </tr>\n",
       "    <tr>\n",
       "      <th>23</th>\n",
       "      <td>622102439689666</td>\n",
       "    </tr>\n",
       "    <tr>\n",
       "      <th>30</th>\n",
       "      <td>799061852287939</td>\n",
       "    </tr>\n",
       "    <tr>\n",
       "      <th>58</th>\n",
       "      <td>1432911101993339</td>\n",
       "    </tr>\n",
       "    <tr>\n",
       "      <th>66</th>\n",
       "      <td>1605639565711513</td>\n",
       "    </tr>\n",
       "    <tr>\n",
       "      <th>96</th>\n",
       "      <td>2271905966409729</td>\n",
       "    </tr>\n",
       "    <tr>\n",
       "      <th>104</th>\n",
       "      <td>2413627964099428</td>\n",
       "    </tr>\n",
       "    <tr>\n",
       "      <th>105</th>\n",
       "      <td>2438290047193753</td>\n",
       "    </tr>\n",
       "    <tr>\n",
       "      <th>107</th>\n",
       "      <td>2458196179615992</td>\n",
       "    </tr>\n",
       "    <tr>\n",
       "      <th>108</th>\n",
       "      <td>2493454867357963</td>\n",
       "    </tr>\n",
       "    <tr>\n",
       "      <th>116</th>\n",
       "      <td>2700298110464984</td>\n",
       "    </tr>\n",
       "    <tr>\n",
       "      <th>130</th>\n",
       "      <td>3031062694172161</td>\n",
       "    </tr>\n",
       "    <tr>\n",
       "      <th>132</th>\n",
       "      <td>3046642847647648</td>\n",
       "    </tr>\n",
       "    <tr>\n",
       "      <th>138</th>\n",
       "      <td>3249158768848721</td>\n",
       "    </tr>\n",
       "    <tr>\n",
       "      <th>147</th>\n",
       "      <td>3366924927615875</td>\n",
       "    </tr>\n",
       "    <tr>\n",
       "      <th>153</th>\n",
       "      <td>3462298415359952</td>\n",
       "    </tr>\n",
       "    <tr>\n",
       "      <th>154</th>\n",
       "      <td>3589607969461633</td>\n",
       "    </tr>\n",
       "    <tr>\n",
       "      <th>166</th>\n",
       "      <td>4012604344164687</td>\n",
       "    </tr>\n",
       "    <tr>\n",
       "      <th>168</th>\n",
       "      <td>4120311032683628</td>\n",
       "    </tr>\n",
       "    <tr>\n",
       "      <th>173</th>\n",
       "      <td>4192843659720066</td>\n",
       "    </tr>\n",
       "    <tr>\n",
       "      <th>175</th>\n",
       "      <td>4230548247865044</td>\n",
       "    </tr>\n",
       "    <tr>\n",
       "      <th>177</th>\n",
       "      <td>4269717102285410</td>\n",
       "    </tr>\n",
       "    <tr>\n",
       "      <th>182</th>\n",
       "      <td>4359205455891276</td>\n",
       "    </tr>\n",
       "    <tr>\n",
       "      <th>198</th>\n",
       "      <td>4810411657250168</td>\n",
       "    </tr>\n",
       "    <tr>\n",
       "      <th>201</th>\n",
       "      <td>4911636867490930</td>\n",
       "    </tr>\n",
       "    <tr>\n",
       "      <th>210</th>\n",
       "      <td>5133475695351500</td>\n",
       "    </tr>\n",
       "    <tr>\n",
       "      <th>212</th>\n",
       "      <td>5179119890628602</td>\n",
       "    </tr>\n",
       "    <tr>\n",
       "      <th>...</th>\n",
       "      <td>...</td>\n",
       "    </tr>\n",
       "    <tr>\n",
       "      <th>393348</th>\n",
       "      <td>9218092490031832785</td>\n",
       "    </tr>\n",
       "    <tr>\n",
       "      <th>393353</th>\n",
       "      <td>9218211383888175558</td>\n",
       "    </tr>\n",
       "    <tr>\n",
       "      <th>393360</th>\n",
       "      <td>9218315048944995651</td>\n",
       "    </tr>\n",
       "    <tr>\n",
       "      <th>393361</th>\n",
       "      <td>9218343761928233215</td>\n",
       "    </tr>\n",
       "    <tr>\n",
       "      <th>393363</th>\n",
       "      <td>9218383669555696877</td>\n",
       "    </tr>\n",
       "    <tr>\n",
       "      <th>393368</th>\n",
       "      <td>9218476389923851454</td>\n",
       "    </tr>\n",
       "    <tr>\n",
       "      <th>393388</th>\n",
       "      <td>9218946884615563864</td>\n",
       "    </tr>\n",
       "    <tr>\n",
       "      <th>393403</th>\n",
       "      <td>9219374768694941012</td>\n",
       "    </tr>\n",
       "    <tr>\n",
       "      <th>393413</th>\n",
       "      <td>9219487924924443202</td>\n",
       "    </tr>\n",
       "    <tr>\n",
       "      <th>393418</th>\n",
       "      <td>9219581194330017528</td>\n",
       "    </tr>\n",
       "    <tr>\n",
       "      <th>393419</th>\n",
       "      <td>9219630874665495251</td>\n",
       "    </tr>\n",
       "    <tr>\n",
       "      <th>393423</th>\n",
       "      <td>9219735747090483600</td>\n",
       "    </tr>\n",
       "    <tr>\n",
       "      <th>393427</th>\n",
       "      <td>9219760676701943054</td>\n",
       "    </tr>\n",
       "    <tr>\n",
       "      <th>393432</th>\n",
       "      <td>9219938329089779569</td>\n",
       "    </tr>\n",
       "    <tr>\n",
       "      <th>393434</th>\n",
       "      <td>9219984141177694999</td>\n",
       "    </tr>\n",
       "    <tr>\n",
       "      <th>393458</th>\n",
       "      <td>9220388805831686548</td>\n",
       "    </tr>\n",
       "    <tr>\n",
       "      <th>393461</th>\n",
       "      <td>9220423481067022948</td>\n",
       "    </tr>\n",
       "    <tr>\n",
       "      <th>393468</th>\n",
       "      <td>9220560227327479495</td>\n",
       "    </tr>\n",
       "    <tr>\n",
       "      <th>393485</th>\n",
       "      <td>9221212352505742271</td>\n",
       "    </tr>\n",
       "    <tr>\n",
       "      <th>393501</th>\n",
       "      <td>9221847630187171474</td>\n",
       "    </tr>\n",
       "    <tr>\n",
       "      <th>393505</th>\n",
       "      <td>9221935935163135787</td>\n",
       "    </tr>\n",
       "    <tr>\n",
       "      <th>393510</th>\n",
       "      <td>9222108601423203660</td>\n",
       "    </tr>\n",
       "    <tr>\n",
       "      <th>393512</th>\n",
       "      <td>9222179728590281431</td>\n",
       "    </tr>\n",
       "    <tr>\n",
       "      <th>393514</th>\n",
       "      <td>9222198970246875200</td>\n",
       "    </tr>\n",
       "    <tr>\n",
       "      <th>393518</th>\n",
       "      <td>9222220279018953476</td>\n",
       "    </tr>\n",
       "    <tr>\n",
       "      <th>393525</th>\n",
       "      <td>9222364486754568553</td>\n",
       "    </tr>\n",
       "    <tr>\n",
       "      <th>393526</th>\n",
       "      <td>9222377405556113804</td>\n",
       "    </tr>\n",
       "    <tr>\n",
       "      <th>393546</th>\n",
       "      <td>9222856470568969120</td>\n",
       "    </tr>\n",
       "    <tr>\n",
       "      <th>393549</th>\n",
       "      <td>9222941581432951568</td>\n",
       "    </tr>\n",
       "    <tr>\n",
       "      <th>393557</th>\n",
       "      <td>9223231006535555583</td>\n",
       "    </tr>\n",
       "  </tbody>\n",
       "</table>\n",
       "<p>50720 rows × 1 columns</p>\n",
       "</div>"
      ],
      "text/plain": [
       "                   ref_hash\n",
       "4           161514654074162\n",
       "7           283297668933729\n",
       "9           345999128501141\n",
       "18          475635010681369\n",
       "23          622102439689666\n",
       "30          799061852287939\n",
       "58         1432911101993339\n",
       "66         1605639565711513\n",
       "96         2271905966409729\n",
       "104        2413627964099428\n",
       "105        2438290047193753\n",
       "107        2458196179615992\n",
       "108        2493454867357963\n",
       "116        2700298110464984\n",
       "130        3031062694172161\n",
       "132        3046642847647648\n",
       "138        3249158768848721\n",
       "147        3366924927615875\n",
       "153        3462298415359952\n",
       "154        3589607969461633\n",
       "166        4012604344164687\n",
       "168        4120311032683628\n",
       "173        4192843659720066\n",
       "175        4230548247865044\n",
       "177        4269717102285410\n",
       "182        4359205455891276\n",
       "198        4810411657250168\n",
       "201        4911636867490930\n",
       "210        5133475695351500\n",
       "212        5179119890628602\n",
       "...                     ...\n",
       "393348  9218092490031832785\n",
       "393353  9218211383888175558\n",
       "393360  9218315048944995651\n",
       "393361  9218343761928233215\n",
       "393363  9218383669555696877\n",
       "393368  9218476389923851454\n",
       "393388  9218946884615563864\n",
       "393403  9219374768694941012\n",
       "393413  9219487924924443202\n",
       "393418  9219581194330017528\n",
       "393419  9219630874665495251\n",
       "393423  9219735747090483600\n",
       "393427  9219760676701943054\n",
       "393432  9219938329089779569\n",
       "393434  9219984141177694999\n",
       "393458  9220388805831686548\n",
       "393461  9220423481067022948\n",
       "393468  9220560227327479495\n",
       "393485  9221212352505742271\n",
       "393501  9221847630187171474\n",
       "393505  9221935935163135787\n",
       "393510  9222108601423203660\n",
       "393512  9222179728590281431\n",
       "393514  9222198970246875200\n",
       "393518  9222220279018953476\n",
       "393525  9222364486754568553\n",
       "393526  9222377405556113804\n",
       "393546  9222856470568969120\n",
       "393549  9222941581432951568\n",
       "393557  9223231006535555583\n",
       "\n",
       "[50720 rows x 1 columns]"
      ]
     },
     "execution_count": 16,
     "metadata": {},
     "output_type": "execute_result"
    }
   ],
   "source": [
    "lasd = auc_lb.loc[auc_lb['obs_18_20'] == True, ['ref_hash']]['ref_hash'].tolist()\n",
    "asd = ins_lb.loc[(ins_lb['obs_21_23'] == True) & ins_lb['ref_hash'].isin(lasd), ['ref_hash']]\n",
    "\n",
    "asd"
   ]
  },
  {
   "cell_type": "markdown",
   "metadata": {},
   "source": [
    "### Filtro de manera que tenga los datos necesarios"
   ]
  },
  {
   "cell_type": "code",
   "execution_count": 17,
   "metadata": {},
   "outputs": [],
   "source": [
    "rh_18_20 = pd.read_csv( loc_tr + \"\\\\rh_18_20_sc.csv\" ); rh_18_20 = rh_18_20[\"ref_hash\"].drop_duplicates().tolist()\n",
    "rh_21_23 = pd.read_csv( loc_tr + \"\\\\rh_21_23_sc.csv\" ); rh_21_23 = rh_21_23[\"ref_hash\"].drop_duplicates().tolist()"
   ]
  },
  {
   "cell_type": "code",
   "execution_count": 18,
   "metadata": {},
   "outputs": [],
   "source": [
    "#rh_18_20 = pd.read_csv( r\"D:\\TP2_Machine_Learning\\Training Sets\\ins_18_20.csv\" ).rename( columns = {\"device_id\":\"ref_hash\"} ); rh_18_20 = rh_18_20.drop_duplicates(subset=[\"ref_hash\"])\n",
    "#rh_21_23 = pd.read_csv( r\"D:\\TP2_Machine_Learning\\Training Sets\\ins_21_23.csv\" ).rename( columns = {\"device_id\":\"ref_hash\"} ); rh_21_23 = rh_21_23.drop_duplicates(subset=[\"ref_hash\"])"
   ]
  },
  {
   "cell_type": "code",
   "execution_count": 19,
   "metadata": {},
   "outputs": [],
   "source": [
    "#rh_18_20 = rh_18_20.loc[:,['ref_hash']]\n",
    "#rh_21_23 = rh_21_23.loc[:,['ref_hash']]\n",
    "#rh_18_20.to_csv(r\"D:\\TP2_Machine_Learning\\Training Sets\\rh_18_20_sc.csv\", index = False)\n",
    "#rh_21_23.to_csv(r\"D:\\TP2_Machine_Learning\\Training Sets\\rh_21_23_sc.csv\", index = False)"
   ]
  },
  {
   "cell_type": "code",
   "execution_count": 20,
   "metadata": {},
   "outputs": [],
   "source": [
    "dt_18_20 = ins_lb.loc[ ins_lb[\"ref_hash\"].isin( rh_18_20 ), [\"ref_hash\"] ] #Datos del (18-20)\n",
    "sc_21_23 = ins_lb.loc[ ins_lb[\"ref_hash\"].isin( rh_18_20 ), [\"21_23_sc\"] ] #SC del (21-23)\n",
    "\n",
    "dt_21_23 = ins_lb.loc[ ins_lb[\"ref_hash\"].isin( rh_21_23 ), [\"ref_hash\"] ] #Datos del (21-23)\n",
    "sc_24_26 = ins_lb.loc[ ins_lb[\"ref_hash\"].isin( rh_21_23 ), [\"24_26_sc\"] ] #SC del (24-26)"
   ]
  },
  {
   "cell_type": "code",
   "execution_count": 21,
   "metadata": {},
   "outputs": [],
   "source": [
    "#sc_24_26"
   ]
  },
  {
   "cell_type": "markdown",
   "metadata": {},
   "source": [
    "# <span style=\"color:orange\">  Preparo los datos para predecir </span>\n",
    "Con los datos 21-23 predecimos \"24-26_sc\""
   ]
  },
  {
   "cell_type": "code",
   "execution_count": 22,
   "metadata": {},
   "outputs": [],
   "source": [
    "set_trn = ins_lb.loc[ ins_lb[\"ref_hash\"].isin( rh_18_20 ), [\"ref_hash\",\"21_23_sc\"] ]\n",
    "set_tst = ins_lb.loc[ ins_lb[\"ref_hash\"].isin( rh_21_23 ), [\"ref_hash\", \"24_26_sc\"] ]\n",
    "\n",
    "t_lim = 259200.00\n",
    "max_t = 200\n",
    "\n",
    "set_trn_loc = pd.concat( [ set_trn.loc[ set_trn[\"21_23_sc\"] < t_lim ], set_trn.loc[ set_trn[\"21_23_sc\"] == t_lim ].reset_index( drop = True ).loc[: max_t] ], axis = 0 ).sample(frac=1).reset_index(drop=True) \n",
    "set_tst_loc = pd.concat( [ set_tst.loc[ set_tst[\"24_26_sc\"] < t_lim ], set_tst.loc[ set_tst[\"24_26_sc\"] == t_lim ].reset_index( drop = True ).loc[: max_t] ], axis = 0 ).sample(frac=1).reset_index(drop=True) "
   ]
  },
  {
   "cell_type": "code",
   "execution_count": 23,
   "metadata": {},
   "outputs": [],
   "source": [
    "#x_clas = set_trn.loc[:,['ref_hash']].copy()\n",
    "#y_clas = set_trn.loc[:,['21_23_sc']].copy()\n",
    "#y_clas['compro'] = (y_clas['21_23_sc'] == y_clas['21_23_sc'].max()).astype('int8')\n",
    "\n",
    "#del y_clas['21_23_sc']\n",
    "\n",
    "#z_clas = set_tst.loc[:,['ref_hash']].copy()\n",
    "#w_clas = set_tst.loc[:,['24_26_sc']].copy()\n",
    "#w_clas['compro'] = (w_clas['24_26_sc'] == w_clas['24_26_sc'].max()).astype('int8')\n",
    "#del w_clas['24_26_sc']"
   ]
  },
  {
   "cell_type": "code",
   "execution_count": 24,
   "metadata": {},
   "outputs": [],
   "source": [
    "X_loc = set_trn_loc.loc[:,['ref_hash']] #Datos train\n",
    "Y_loc = set_trn_loc.loc[:,['21_23_sc']] #Label train\n",
    "\n",
    "Z_loc = set_tst_loc.loc[:,['ref_hash']] #Datos test\n",
    "W_loc = set_tst_loc.loc[:,['24_26_sc']] #Label test"
   ]
  },
  {
   "cell_type": "code",
   "execution_count": 25,
   "metadata": {},
   "outputs": [],
   "source": [
    "X_var = X_loc\n",
    "Y_var = Y_loc\n",
    "Z_var = Z_loc\n",
    "W_var = W_loc"
   ]
  },
  {
   "cell_type": "code",
   "execution_count": 26,
   "metadata": {},
   "outputs": [],
   "source": [
    "### Hacer features de ultima instalacion/subasta/evento, tiempo de instalacion (21-3, 4-10, 11-15, 16-20) y si hubieron subastas/eventos/clicks a la noche"
   ]
  },
  {
   "cell_type": "code",
   "execution_count": 27,
   "metadata": {},
   "outputs": [],
   "source": [
    "ftr_01_Z = pd.read_csv( loc_ftr + \"\\\\sin_hour_21_23.csv\" ) \n",
    "ftr_02_Z = pd.read_csv( loc_ftr + \"\\\\cant_ins_21_23.csv\" ) #\n",
    "ftr_03_Z = pd.read_csv( loc_ftr + \"\\\\cins_imp_21_23.csv\" )\n",
    "#ftr_04_Z = pd.read_csv( loc_ftr + \"\\\\cant_evt_21_23.csv\" ) #<-bad\n",
    "ftr_05_Z = pd.read_csv( loc_ftr + \"\\\\cant_auc_21_23.csv\" ) \n",
    "#ftr_06_Z = pd.read_csv( loc_ftr + \"\\\\wifi_ins_21_23.csv\" ) #<-bad\n",
    "ftr_07_Z = pd.read_csv( loc_ftr + \"\\\\main_app_21_23.csv\" ) #\n",
    "ftr_08_Z = pd.read_csv( loc_ftr + \"\\\\type_ins_21_23.csv\" ) \n",
    "ftr_09_Z = pd.read_csv( loc_ftr + \"\\\\ref_type_21_23.csv\" ) #\n",
    "#ftr_10_Z = pd.read_csv( loc_ftr + \"\\\\ip_encod_21_23.csv\" ) #<-bad\n",
    "ftr_11_Z = pd.read_csv( loc_ftr + \"\\\\cevt_atr_21_23.csv\" )\n",
    "ftr_12_Z = pd.read_csv( loc_ftr + \"\\\\kind_evt_21_23.csv\" )\n",
    "#ftr_13_Z = pd.read_csv( loc_ftr + \"\\\\frst_auc_21_23.csv\" ) #<-bad\n",
    "ftr_14_Z = pd.read_csv( loc_ftr + \"\\\\frst_evt_21_23.csv\" ) #\n",
    "ftr_15_Z = pd.read_csv( loc_ftr + \"\\\\frst_ins_21_23.csv\" ) #\n",
    "ftr_16_Z = pd.read_csv( loc_ftr + \"\\\\frst_clk_21_23.csv\" ) #\n",
    "ftr_17_Z = pd.read_csv( loc_ftr + \"\\\\frst_auc_21_23.csv\" ) #\n",
    "#ftr_18_Z = pd.read_csv( loc_ftr + \"\\\\hr_f_evt_21_23.csv\" ) #<-bad\n",
    "\n",
    "#ftr_19_Z = pd.read_csv( loc_ftr + \"\\\\last_ins_21_23.csv\" ) #<-bad\n",
    "#ftr_20_Z = pd.read_csv( loc_ftr + \"\\\\last_auc_21_23.csv\" ) #<-bad\n",
    "ftr_21_Z = pd.read_csv( loc_ftr + \"\\\\last_evt_21_23.csv\" )\n",
    "#ftr_22_Z = pd.read_csv( loc_ftr + \"\\\\last_clk_21_23.csv\" ) #<-bad\n",
    "#ftr_23_Z = pd.read_csv( loc_ftr + \"\\\\me_mt_1_ins_21_23.csv\" ) #<-bad\n",
    "#ftr_24_Z = pd.read_csv( loc_ftr + \"\\\\mt_1_ins_21_23.csv\" ) #<-bad\n",
    "\n",
    "#ftr_25_Z = pd.read_csv( loc_ftr + \"\\\\me_ins_night_21_23.csv\" ) #<-bad\n",
    "#ftr_26_Z = pd.read_csv( loc_ftr + \"\\\\ins_night_21_23.csv\" ) #<-bad\n",
    "#ftr_27_Z = pd.read_csv( loc_ftr + \"\\\\me_ins_morn_21_23.csv\" ) #<-bad\n",
    "#ftr_28_Z = pd.read_csv( loc_ftr + \"\\\\ins_morn_21_23.csv\" ) #<-bad\n",
    "#ftr_29_Z = pd.read_csv( loc_ftr + \"\\\\me_ins_midday_21_23.csv\" ) #<-bad\n",
    "#ftr_30_Z = pd.read_csv( loc_ftr + \"\\\\ins_midday_21_23.csv\" ) #<-bad\n",
    "#ftr_31_Z = pd.read_csv( loc_ftr + \"\\\\me_ins_after_21_23.csv\" ) #<-bad\n",
    "#ftr_32_Z = pd.read_csv( loc_ftr + \"\\\\ins_after_21_23.csv\" ) #<-bad\n",
    "\n",
    "#ftr_33_Z = pd.read_csv( loc_ftr + \"\\\\me_auc_night_21_23.csv\" ) #<-bad\n",
    "#ftr_34_Z = pd.read_csv( loc_ftr + \"\\\\auc_night_21_23.csv\" ) #<-bad\n",
    "#ftr_35_Z = pd.read_csv( loc_ftr + \"\\\\me_auc_morn_21_23.csv\" ) #<-bad\n",
    "#ftr_36_Z = pd.read_csv( loc_ftr + \"\\\\auc_morn_21_23.csv\" ) #<-bad\n",
    "#ftr_37_Z = pd.read_csv( loc_ftr + \"\\\\me_auc_midday_21_23.csv\" ) #<-bad\n",
    "#ftr_38_Z = pd.read_csv( loc_ftr + \"\\\\auc_midday_21_23.csv\" ) #<-bad\n",
    "#ftr_39_Z = pd.read_csv( loc_ftr + \"\\\\me_auc_after_21_23.csv\" ) #<-bad\n",
    "#ftr_40_Z = pd.read_csv( loc_ftr + \"\\\\auc_after_21_23.csv\" ) #<-bad\n",
    "\n",
    "#ftr_41_Z = pd.read_csv( loc_ftr + \"\\\\me_evt_night_21_23.csv\" ) #<-bad\n",
    "#ftr_42_Z = pd.read_csv( loc_ftr + \"\\\\evt_night_21_23.csv\" ) #<-bad\n",
    "#ftr_43_Z = pd.read_csv( loc_ftr + \"\\\\me_evt_morn_21_23.csv\" ) #<-bad\n",
    "#ftr_44_Z = pd.read_csv( loc_ftr + \"\\\\evt_morn_21_23.csv\" ) #<-bad\n",
    "#ftr_45_Z = pd.read_csv( loc_ftr + \"\\\\me_evt_midday_21_23.csv\" ) #<-bad\n",
    "#ftr_46_Z = pd.read_csv( loc_ftr + \"\\\\evt_midday_21_23.csv\" ) #<-bad\n",
    "#ftr_47_Z = pd.read_csv( loc_ftr + \"\\\\me_evt_after_21_23.csv\" ) #<-bad\n",
    "#ftr_48_Z = pd.read_csv( loc_ftr + \"\\\\evt_after_21_23.csv\" ) #<-bad\n",
    "\n",
    "#ftr_49_Z = pd.read_csv( loc_ftr + \"\\\\me_clk_night_21_23.csv\" ) #<-bad\n",
    "#ftr_50_Z = pd.read_csv( loc_ftr + \"\\\\clk_night_21_23.csv\" ) #<-bad\n",
    "#ftr_51_Z = pd.read_csv( loc_ftr + \"\\\\me_clk_morn_21_23.csv\" ) #<-bad\n",
    "#ftr_52_Z = pd.read_csv( loc_ftr + \"\\\\clk_morn_21_23.csv\" ) #<-bad\n",
    "#ftr_53_Z = pd.read_csv( loc_ftr + \"\\\\me_clk_midday_21_23.csv\" ) #<-bad\n",
    "#ftr_54_Z = pd.read_csv( loc_ftr + \"\\\\clk_midday_21_23.csv\" ) #<-bad\n",
    "#ftr_55_Z = pd.read_csv( loc_ftr + \"\\\\me_clk_after_21_23.csv\" ) #<-bad\n",
    "#ftr_56_Z = pd.read_csv( loc_ftr + \"\\\\clk_after_21_23.csv\" ) #<-bad\n",
    "\n",
    "#ftr_57_Z = pd.read_csv( loc_ftr + \"\\\\me_mt_1_clk_21_23.csv\" ) #<-bad\n",
    "#ftr_58_Z = pd.read_csv( loc_ftr + \"\\\\mt_1_clk_21_23.csv\" ) #<-bad\n",
    "#ftr_59_Z = pd.read_csv( loc_ftr + \"\\\\me_mt_1_evt_21_23.csv\" ) #<-bad\n",
    "#ftr_60_Z = pd.read_csv( loc_ftr + \"\\\\mt_1_evt_21_23.csv\" ) #<-bad\n",
    "#ftr_61_Z = pd.read_csv( loc_ftr + \"\\\\me_mt_1_auc_21_23.csv\" ) #<-bad\n",
    "#ftr_62_Z = pd.read_csv( loc_ftr + \"\\\\mt_1_auc_21_23.csv\" ) #<-bad\n",
    "\n",
    "ftr_63_Z = pd.read_csv( loc_ftr + \"\\\\atbt_ins_21_23.csv\" ) #\n"
   ]
  },
  {
   "cell_type": "code",
   "execution_count": 28,
   "metadata": {},
   "outputs": [],
   "source": [
    "Z_var = Z_var.merge( ftr_01_Z, how = \"inner\", on = \"ref_hash\" )\n",
    "Z_var = Z_var.merge( ftr_02_Z, how = \"inner\", on = \"ref_hash\" )\n",
    "Z_var = Z_var.merge( ftr_03_Z, how = \"inner\", on = \"ref_hash\" )\n",
    "#Z_var = Z_var.merge( ftr_04_Z, how = \"inner\", on = \"ref_hash\" ) #<- bad\n",
    "Z_var = Z_var.merge( ftr_05_Z, how = \"inner\", on = \"ref_hash\" )\n",
    "#Z_var = Z_var.merge( ftr_06_Z, how = \"inner\", on = \"ref_hash\" ) #<-bad\n",
    "Z_var = Z_var.merge( ftr_07_Z, how = \"inner\", on = \"ref_hash\" )\n",
    "Z_var = Z_var.merge( ftr_08_Z, how = \"inner\", on = \"ref_hash\" )\n",
    "Z_var = Z_var.merge( ftr_09_Z, how = \"inner\", on = \"ref_hash\" )\n",
    "#Z_var = Z_var.merge( ftr_10_Z, how = \"inner\", on = \"ref_hash\" ) #<-bad\n",
    "Z_var = Z_var.merge( ftr_11_Z, how = \"inner\", on = \"ref_hash\" )\n",
    "Z_var = Z_var.merge( ftr_12_Z, how = \"inner\", on = \"ref_hash\" )\n",
    "#Z_var = Z_var.merge( ftr_13_Z, how = \"inner\", on = \"ref_hash\" ) #<-bad\n",
    "Z_var = Z_var.merge( ftr_14_Z, how = \"inner\", on = \"ref_hash\" )\n",
    "Z_var = Z_var.merge( ftr_15_Z, how = \"inner\", on = \"ref_hash\" )\n",
    "Z_var = Z_var.merge( ftr_16_Z, how = \"inner\", on = \"ref_hash\" )\n",
    "Z_var = Z_var.merge( ftr_17_Z, how = \"inner\", on = \"ref_hash\" )\n",
    "#Z_var = Z_var.merge( ftr_18_Z, how = \"inner\", on = \"ref_hash\" ) #<-bad\n",
    "\n",
    "#Z_var = Z_var.merge( ftr_19_Z, how = \"inner\", on = \"ref_hash\" ) #<-bad\n",
    "#Z_var = Z_var.merge( ftr_20_Z, how = \"inner\", on = \"ref_hash\" ) #<-bad\n",
    "Z_var = Z_var.merge( ftr_21_Z, how = \"inner\", on = \"ref_hash\" )\n",
    "#Z_var = Z_var.merge( ftr_22_Z, how = \"inner\", on = \"ref_hash\" ) #<-bad\n",
    "#Z_var = Z_var.merge( ftr_23_Z, how = \"inner\", on = \"ref_hash\" ) #<-bad\n",
    "#Z_var = Z_var.merge( ftr_24_Z, how = \"inner\", on = \"ref_hash\" ) #<-bad\n",
    "\n",
    "#Z_var = Z_var.merge( ftr_25_Z, how = \"inner\", on = \"ref_hash\" ) #<-bad\n",
    "#Z_var = Z_var.merge( ftr_26_Z, how = \"inner\", on = \"ref_hash\" ) #<-bad\n",
    "#Z_var = Z_var.merge( ftr_27_Z, how = \"inner\", on = \"ref_hash\" ) #<-bad\n",
    "#Z_var = Z_var.merge( ftr_28_Z, how = \"inner\", on = \"ref_hash\" ) #<-bad\n",
    "#Z_var = Z_var.merge( ftr_29_Z, how = \"inner\", on = \"ref_hash\" ) #<-bad\n",
    "#Z_var = Z_var.merge( ftr_30_Z, how = \"inner\", on = \"ref_hash\" ) #<-bad\n",
    "#Z_var = Z_var.merge( ftr_31_Z, how = \"inner\", on = \"ref_hash\" ) #<-bad\n",
    "#Z_var = Z_var.merge( ftr_32_Z, how = \"inner\", on = \"ref_hash\" ) #<-bad\n",
    "\n",
    "#Z_var = Z_var.merge( ftr_33_Z, how = \"inner\", on = \"ref_hash\" ) #<-bad\n",
    "#Z_var = Z_var.merge( ftr_34_Z, how = \"inner\", on = \"ref_hash\" ) #<-bad\n",
    "#Z_var = Z_var.merge( ftr_35_Z, how = \"inner\", on = \"ref_hash\" ) #<-bad\n",
    "#Z_var = Z_var.merge( ftr_36_Z, how = \"inner\", on = \"ref_hash\" ) #<-bad\n",
    "#Z_var = Z_var.merge( ftr_37_Z, how = \"inner\", on = \"ref_hash\" ) #<-bad\n",
    "#Z_var = Z_var.merge( ftr_38_Z, how = \"inner\", on = \"ref_hash\" ) #<-bad\n",
    "#Z_var = Z_var.merge( ftr_39_Z, how = \"inner\", on = \"ref_hash\" ) #<-bad\n",
    "#Z_var = Z_var.merge( ftr_40_Z, how = \"inner\", on = \"ref_hash\" ) #<-bad\n",
    "\n",
    "#Z_var = Z_var.merge( ftr_41_Z, how = \"inner\", on = \"ref_hash\" ) #<-bad\n",
    "#Z_var = Z_var.merge( ftr_42_Z, how = \"inner\", on = \"ref_hash\" ) #<-bad\n",
    "#Z_var = Z_var.merge( ftr_43_Z, how = \"inner\", on = \"ref_hash\" ) #<-bad\n",
    "#Z_var = Z_var.merge( ftr_44_Z, how = \"inner\", on = \"ref_hash\" ) #<-bad\n",
    "#Z_var = Z_var.merge( ftr_45_Z, how = \"inner\", on = \"ref_hash\" ) #<-bad\n",
    "#Z_var = Z_var.merge( ftr_46_Z, how = \"inner\", on = \"ref_hash\" ) #<-bad\n",
    "#Z_var = Z_var.merge( ftr_47_Z, how = \"inner\", on = \"ref_hash\" ) #<-bad\n",
    "#Z_var = Z_var.merge( ftr_48_Z, how = \"inner\", on = \"ref_hash\" ) #<-bad\n",
    "\n",
    "#Z_var = Z_var.merge( ftr_49_Z, how = \"inner\", on = \"ref_hash\" ) #<-bad\n",
    "#Z_var = Z_var.merge( ftr_50_Z, how = \"inner\", on = \"ref_hash\" ) #<-bad\n",
    "#Z_var = Z_var.merge( ftr_51_Z, how = \"inner\", on = \"ref_hash\" ) #<-bad\n",
    "#Z_var = Z_var.merge( ftr_52_Z, how = \"inner\", on = \"ref_hash\" ) #<-bad\n",
    "#Z_var = Z_var.merge( ftr_53_Z, how = \"inner\", on = \"ref_hash\" ) #<-bad\n",
    "#Z_var = Z_var.merge( ftr_54_Z, how = \"inner\", on = \"ref_hash\" ) #<-bad\n",
    "#Z_var = Z_var.merge( ftr_55_Z, how = \"inner\", on = \"ref_hash\" ) #<-bad\n",
    "#Z_var = Z_var.merge( ftr_56_Z, how = \"inner\", on = \"ref_hash\" ) #<-bad\n",
    "\n",
    "#Z_var = Z_var.merge( ftr_57_Z, how = \"inner\", on = \"ref_hash\" ) #<-bad\n",
    "#Z_var = Z_var.merge( ftr_58_Z, how = \"inner\", on = \"ref_hash\" ) #<-bad\n",
    "#Z_var = Z_var.merge( ftr_59_Z, how = \"inner\", on = \"ref_hash\" ) #<-bad\n",
    "#Z_var = Z_var.merge( ftr_60_Z, how = \"inner\", on = \"ref_hash\" ) #<-bad\n",
    "#Z_var = Z_var.merge( ftr_61_Z, how = \"inner\", on = \"ref_hash\" ) #<-bad\n",
    "#Z_var = Z_var.merge( ftr_62_Z, how = \"inner\", on = \"ref_hash\" ) #<-bad\n",
    "\n",
    "Z_var = Z_var.merge( ftr_63_Z, how = \"inner\", on = \"ref_hash\" )"
   ]
  },
  {
   "cell_type": "markdown",
   "metadata": {},
   "source": [
    "# <span style=\"color:orange\">  Preparo los datos para entrenar </span>\n",
    "\n",
    "Con los datos 18-20 + \"21-23_sc\" entrenamos"
   ]
  },
  {
   "cell_type": "code",
   "execution_count": 29,
   "metadata": {},
   "outputs": [],
   "source": [
    "#Y = sc_21_23"
   ]
  },
  {
   "cell_type": "code",
   "execution_count": 30,
   "metadata": {},
   "outputs": [],
   "source": [
    "#X = dt_18_20"
   ]
  },
  {
   "cell_type": "markdown",
   "metadata": {},
   "source": [
    "### Agregamos los features"
   ]
  },
  {
   "cell_type": "code",
   "execution_count": 31,
   "metadata": {},
   "outputs": [
    {
     "ename": "KeyboardInterrupt",
     "evalue": "",
     "output_type": "error",
     "traceback": [
      "\u001b[1;31m---------------------------------------------------------------------------\u001b[0m",
      "\u001b[1;31mKeyboardInterrupt\u001b[0m                         Traceback (most recent call last)",
      "\u001b[1;32m<ipython-input-31-6831b4be1064>\u001b[0m in \u001b[0;36m<module>\u001b[1;34m\u001b[0m\n\u001b[0;32m     68\u001b[0m \u001b[1;31m#ftr_62_X = pd.read_csv( loc_ftr + \"\\\\mt_1_auc_18_20.csv\" ) #<-bad\u001b[0m\u001b[1;33m\u001b[0m\u001b[1;33m\u001b[0m\u001b[1;33m\u001b[0m\u001b[0m\n\u001b[0;32m     69\u001b[0m \u001b[1;33m\u001b[0m\u001b[0m\n\u001b[1;32m---> 70\u001b[1;33m \u001b[0mftr_63_X\u001b[0m \u001b[1;33m=\u001b[0m \u001b[0mpd\u001b[0m\u001b[1;33m.\u001b[0m\u001b[0mread_csv\u001b[0m\u001b[1;33m(\u001b[0m \u001b[0mloc_ftr\u001b[0m \u001b[1;33m+\u001b[0m \u001b[1;34m\"\\\\atbt_ins_18_20.csv\"\u001b[0m \u001b[1;33m)\u001b[0m\u001b[1;33m\u001b[0m\u001b[1;33m\u001b[0m\u001b[0m\n\u001b[0m",
      "\u001b[1;32mC:\\ProgramData\\Anaconda3\\lib\\site-packages\\pandas\\io\\parsers.py\u001b[0m in \u001b[0;36mparser_f\u001b[1;34m(filepath_or_buffer, sep, delimiter, header, names, index_col, usecols, squeeze, prefix, mangle_dupe_cols, dtype, engine, converters, true_values, false_values, skipinitialspace, skiprows, nrows, na_values, keep_default_na, na_filter, verbose, skip_blank_lines, parse_dates, infer_datetime_format, keep_date_col, date_parser, dayfirst, iterator, chunksize, compression, thousands, decimal, lineterminator, quotechar, quoting, escapechar, comment, encoding, dialect, tupleize_cols, error_bad_lines, warn_bad_lines, skipfooter, doublequote, delim_whitespace, low_memory, memory_map, float_precision)\u001b[0m\n\u001b[0;32m    676\u001b[0m                     skip_blank_lines=skip_blank_lines)\n\u001b[0;32m    677\u001b[0m \u001b[1;33m\u001b[0m\u001b[0m\n\u001b[1;32m--> 678\u001b[1;33m         \u001b[1;32mreturn\u001b[0m \u001b[0m_read\u001b[0m\u001b[1;33m(\u001b[0m\u001b[0mfilepath_or_buffer\u001b[0m\u001b[1;33m,\u001b[0m \u001b[0mkwds\u001b[0m\u001b[1;33m)\u001b[0m\u001b[1;33m\u001b[0m\u001b[1;33m\u001b[0m\u001b[0m\n\u001b[0m\u001b[0;32m    679\u001b[0m \u001b[1;33m\u001b[0m\u001b[0m\n\u001b[0;32m    680\u001b[0m     \u001b[0mparser_f\u001b[0m\u001b[1;33m.\u001b[0m\u001b[0m__name__\u001b[0m \u001b[1;33m=\u001b[0m \u001b[0mname\u001b[0m\u001b[1;33m\u001b[0m\u001b[1;33m\u001b[0m\u001b[0m\n",
      "\u001b[1;32mC:\\ProgramData\\Anaconda3\\lib\\site-packages\\pandas\\io\\parsers.py\u001b[0m in \u001b[0;36m_read\u001b[1;34m(filepath_or_buffer, kwds)\u001b[0m\n\u001b[0;32m    444\u001b[0m \u001b[1;33m\u001b[0m\u001b[0m\n\u001b[0;32m    445\u001b[0m     \u001b[1;32mtry\u001b[0m\u001b[1;33m:\u001b[0m\u001b[1;33m\u001b[0m\u001b[1;33m\u001b[0m\u001b[0m\n\u001b[1;32m--> 446\u001b[1;33m         \u001b[0mdata\u001b[0m \u001b[1;33m=\u001b[0m \u001b[0mparser\u001b[0m\u001b[1;33m.\u001b[0m\u001b[0mread\u001b[0m\u001b[1;33m(\u001b[0m\u001b[0mnrows\u001b[0m\u001b[1;33m)\u001b[0m\u001b[1;33m\u001b[0m\u001b[1;33m\u001b[0m\u001b[0m\n\u001b[0m\u001b[0;32m    447\u001b[0m     \u001b[1;32mfinally\u001b[0m\u001b[1;33m:\u001b[0m\u001b[1;33m\u001b[0m\u001b[1;33m\u001b[0m\u001b[0m\n\u001b[0;32m    448\u001b[0m         \u001b[0mparser\u001b[0m\u001b[1;33m.\u001b[0m\u001b[0mclose\u001b[0m\u001b[1;33m(\u001b[0m\u001b[1;33m)\u001b[0m\u001b[1;33m\u001b[0m\u001b[1;33m\u001b[0m\u001b[0m\n",
      "\u001b[1;32mC:\\ProgramData\\Anaconda3\\lib\\site-packages\\pandas\\io\\parsers.py\u001b[0m in \u001b[0;36mread\u001b[1;34m(self, nrows)\u001b[0m\n\u001b[0;32m   1034\u001b[0m                 \u001b[1;32mraise\u001b[0m \u001b[0mValueError\u001b[0m\u001b[1;33m(\u001b[0m\u001b[1;34m'skipfooter not supported for iteration'\u001b[0m\u001b[1;33m)\u001b[0m\u001b[1;33m\u001b[0m\u001b[1;33m\u001b[0m\u001b[0m\n\u001b[0;32m   1035\u001b[0m \u001b[1;33m\u001b[0m\u001b[0m\n\u001b[1;32m-> 1036\u001b[1;33m         \u001b[0mret\u001b[0m \u001b[1;33m=\u001b[0m \u001b[0mself\u001b[0m\u001b[1;33m.\u001b[0m\u001b[0m_engine\u001b[0m\u001b[1;33m.\u001b[0m\u001b[0mread\u001b[0m\u001b[1;33m(\u001b[0m\u001b[0mnrows\u001b[0m\u001b[1;33m)\u001b[0m\u001b[1;33m\u001b[0m\u001b[1;33m\u001b[0m\u001b[0m\n\u001b[0m\u001b[0;32m   1037\u001b[0m \u001b[1;33m\u001b[0m\u001b[0m\n\u001b[0;32m   1038\u001b[0m         \u001b[1;31m# May alter columns / col_dict\u001b[0m\u001b[1;33m\u001b[0m\u001b[1;33m\u001b[0m\u001b[1;33m\u001b[0m\u001b[0m\n",
      "\u001b[1;32mC:\\ProgramData\\Anaconda3\\lib\\site-packages\\pandas\\io\\parsers.py\u001b[0m in \u001b[0;36mread\u001b[1;34m(self, nrows)\u001b[0m\n\u001b[0;32m   1846\u001b[0m     \u001b[1;32mdef\u001b[0m \u001b[0mread\u001b[0m\u001b[1;33m(\u001b[0m\u001b[0mself\u001b[0m\u001b[1;33m,\u001b[0m \u001b[0mnrows\u001b[0m\u001b[1;33m=\u001b[0m\u001b[1;32mNone\u001b[0m\u001b[1;33m)\u001b[0m\u001b[1;33m:\u001b[0m\u001b[1;33m\u001b[0m\u001b[1;33m\u001b[0m\u001b[0m\n\u001b[0;32m   1847\u001b[0m         \u001b[1;32mtry\u001b[0m\u001b[1;33m:\u001b[0m\u001b[1;33m\u001b[0m\u001b[1;33m\u001b[0m\u001b[0m\n\u001b[1;32m-> 1848\u001b[1;33m             \u001b[0mdata\u001b[0m \u001b[1;33m=\u001b[0m \u001b[0mself\u001b[0m\u001b[1;33m.\u001b[0m\u001b[0m_reader\u001b[0m\u001b[1;33m.\u001b[0m\u001b[0mread\u001b[0m\u001b[1;33m(\u001b[0m\u001b[0mnrows\u001b[0m\u001b[1;33m)\u001b[0m\u001b[1;33m\u001b[0m\u001b[1;33m\u001b[0m\u001b[0m\n\u001b[0m\u001b[0;32m   1849\u001b[0m         \u001b[1;32mexcept\u001b[0m \u001b[0mStopIteration\u001b[0m\u001b[1;33m:\u001b[0m\u001b[1;33m\u001b[0m\u001b[1;33m\u001b[0m\u001b[0m\n\u001b[0;32m   1850\u001b[0m             \u001b[1;32mif\u001b[0m \u001b[0mself\u001b[0m\u001b[1;33m.\u001b[0m\u001b[0m_first_chunk\u001b[0m\u001b[1;33m:\u001b[0m\u001b[1;33m\u001b[0m\u001b[1;33m\u001b[0m\u001b[0m\n",
      "\u001b[1;32mpandas\\_libs\\parsers.pyx\u001b[0m in \u001b[0;36mpandas._libs.parsers.TextReader.read\u001b[1;34m()\u001b[0m\n",
      "\u001b[1;32mpandas\\_libs\\parsers.pyx\u001b[0m in \u001b[0;36mpandas._libs.parsers.TextReader._read_low_memory\u001b[1;34m()\u001b[0m\n",
      "\u001b[1;32mpandas\\_libs\\parsers.pyx\u001b[0m in \u001b[0;36mpandas._libs.parsers._concatenate_chunks\u001b[1;34m()\u001b[0m\n",
      "\u001b[1;32mC:\\ProgramData\\Anaconda3\\lib\\site-packages\\pandas\\core\\dtypes\\common.py\u001b[0m in \u001b[0;36mis_categorical_dtype\u001b[1;34m(arr_or_dtype)\u001b[0m\n\u001b[0;32m    511\u001b[0m \u001b[1;33m\u001b[0m\u001b[0m\n\u001b[0;32m    512\u001b[0m \u001b[1;33m\u001b[0m\u001b[0m\n\u001b[1;32m--> 513\u001b[1;33m \u001b[1;32mdef\u001b[0m \u001b[0mis_categorical_dtype\u001b[0m\u001b[1;33m(\u001b[0m\u001b[0marr_or_dtype\u001b[0m\u001b[1;33m)\u001b[0m\u001b[1;33m:\u001b[0m\u001b[1;33m\u001b[0m\u001b[1;33m\u001b[0m\u001b[0m\n\u001b[0m\u001b[0;32m    514\u001b[0m     \"\"\"\n\u001b[0;32m    515\u001b[0m     \u001b[0mCheck\u001b[0m \u001b[0mwhether\u001b[0m \u001b[0man\u001b[0m \u001b[0marray\u001b[0m\u001b[1;33m-\u001b[0m\u001b[0mlike\u001b[0m \u001b[1;32mor\u001b[0m \u001b[0mdtype\u001b[0m \u001b[1;32mis\u001b[0m \u001b[0mof\u001b[0m \u001b[0mthe\u001b[0m \u001b[0mCategorical\u001b[0m \u001b[0mdtype\u001b[0m\u001b[1;33m.\u001b[0m\u001b[1;33m\u001b[0m\u001b[1;33m\u001b[0m\u001b[0m\n",
      "\u001b[1;31mKeyboardInterrupt\u001b[0m: "
     ]
    }
   ],
   "source": [
    "ftr_01_X = pd.read_csv( loc_ftr + \"\\\\sin_hour_18_20.csv\" )\n",
    "ftr_02_X = pd.read_csv( loc_ftr + \"\\\\cant_ins_18_20.csv\" )\n",
    "ftr_03_X = pd.read_csv( loc_ftr + \"\\\\cins_imp_18_20.csv\" )\n",
    "#ftr_04_X = pd.read_csv( loc_ftr + \"\\\\cant_evt_18_20.csv\" ) #<- bad\n",
    "ftr_05_X = pd.read_csv( loc_ftr + \"\\\\cant_auc_18_20.csv\" )\n",
    "#ftr_06_X = pd.read_csv( loc_ftr + \"\\\\wifi_ins_18_20.csv\" ) #<-bad\n",
    "ftr_07_X = pd.read_csv( loc_ftr + \"\\\\main_app_18_20.csv\" )\n",
    "ftr_08_X = pd.read_csv( loc_ftr + \"\\\\type_ins_18_20.csv\" )\n",
    "ftr_09_X = pd.read_csv( loc_ftr + \"\\\\ref_type_18_20.csv\" )\n",
    "#ftr_10_X = pd.read_csv( loc_ftr + \"\\\\ip_encod_18_20.csv\" ) #<-bad\n",
    "ftr_11_X = pd.read_csv( loc_ftr + \"\\\\cevt_atr_18_20.csv\" )\n",
    "ftr_12_X = pd.read_csv( loc_ftr + \"\\\\kind_evt_18_20.csv\" )\n",
    "#ftr_13_X = pd.read_csv( loc_ftr + \"\\\\frst_auc_18_20.csv\" ) #<-bad\n",
    "ftr_14_X = pd.read_csv( loc_ftr + \"\\\\frst_evt_18_20.csv\" )\n",
    "ftr_15_X = pd.read_csv( loc_ftr + \"\\\\frst_ins_18_20.csv\" )\n",
    "ftr_16_X = pd.read_csv( loc_ftr + \"\\\\frst_clk_18_20.csv\" )\n",
    "ftr_17_X = pd.read_csv( loc_ftr + \"\\\\frst_auc_18_20.csv\" )\n",
    "#ftr_18_X = pd.read_csv( loc_ftr + \"\\\\hr_f_evt_18_20.csv\" ) #<-bad\n",
    "\n",
    "#ftr_19_X = pd.read_csv( loc_ftr + \"\\\\last_ins_18_20.csv\" ) #<-bad\n",
    "#ftr_20_X = pd.read_csv( loc_ftr + \"\\\\last_auc_18_20.csv\" ) #<-bad\n",
    "ftr_21_X = pd.read_csv( loc_ftr + \"\\\\last_evt_18_20.csv\" )\n",
    "#ftr_22_X = pd.read_csv( loc_ftr + \"\\\\last_clk_18_20.csv\" ) #<-bad\n",
    "#ftr_23_X = pd.read_csv( loc_ftr + \"\\\\me_mt_1_ins_18_20.csv\" ) #<-bad\n",
    "#ftr_24_X = pd.read_csv( loc_ftr + \"\\\\mt_1_ins_18_20.csv\" ) #<-bad\n",
    "\n",
    "#ftr_25_X = pd.read_csv( loc_ftr + \"\\\\me_ins_night_18_20.csv\" ) #<-bad\n",
    "#ftr_26_X = pd.read_csv( loc_ftr + \"\\\\ins_night_18_20.csv\" ) #<-bad\n",
    "#ftr_27_X = pd.read_csv( loc_ftr + \"\\\\me_ins_morn_18_20.csv\" ) #<-bad\n",
    "#ftr_28_X = pd.read_csv( loc_ftr + \"\\\\ins_morn_18_20.csv\" ) #<-bad\n",
    "#ftr_29_X = pd.read_csv( loc_ftr + \"\\\\me_ins_midday_18_20.csv\" ) #<-bad\n",
    "#ftr_30_X = pd.read_csv( loc_ftr + \"\\\\ins_midday_18_20.csv\" ) #<-bad\n",
    "#ftr_31_X = pd.read_csv( loc_ftr + \"\\\\me_ins_after_18_20.csv\" ) #<-bad\n",
    "#ftr_32_X = pd.read_csv( loc_ftr + \"\\\\ins_after_18_20.csv\" ) #<-bad\n",
    "\n",
    "#ftr_33_X = pd.read_csv( loc_ftr + \"\\\\me_auc_night_18_20.csv\" ) #<-bad\n",
    "#ftr_34_X = pd.read_csv( loc_ftr + \"\\\\auc_night_18_20.csv\" ) #<-bad\n",
    "#ftr_35_X = pd.read_csv( loc_ftr + \"\\\\me_auc_morn_18_20.csv\" ) #<-bad\n",
    "#ftr_36_X = pd.read_csv( loc_ftr + \"\\\\auc_morn_18_20.csv\" ) #<-bad\n",
    "#ftr_37_X = pd.read_csv( loc_ftr + \"\\\\me_auc_midday_18_20.csv\" ) #<-bad\n",
    "#ftr_38_X = pd.read_csv( loc_ftr + \"\\\\auc_midday_18_20.csv\" ) #<-bad\n",
    "#ftr_39_X = pd.read_csv( loc_ftr + \"\\\\me_auc_after_18_20.csv\" ) #<-bad\n",
    "#ftr_40_X = pd.read_csv( loc_ftr + \"\\\\auc_after_18_20.csv\" ) #<-bad\n",
    "\n",
    "#ftr_41_X = pd.read_csv( loc_ftr + \"\\\\me_evt_night_18_20.csv\" ) #<-bad\n",
    "#ftr_42_X = pd.read_csv( loc_ftr + \"\\\\evt_night_18_20.csv\" ) #<-bad\n",
    "#ftr_43_X = pd.read_csv( loc_ftr + \"\\\\me_evt_morn_18_20.csv\" ) #<-bad\n",
    "#ftr_44_X = pd.read_csv( loc_ftr + \"\\\\evt_morn_18_20.csv\" ) #<-bad\n",
    "#ftr_45_X = pd.read_csv( loc_ftr + \"\\\\me_evt_midday_18_20.csv\" ) #<-bad\n",
    "#ftr_46_X = pd.read_csv( loc_ftr + \"\\\\evt_midday_18_20.csv\" ) #<-bad\n",
    "#ftr_47_X = pd.read_csv( loc_ftr + \"\\\\me_evt_after_18_20.csv\" ) #<-bad\n",
    "#ftr_48_X = pd.read_csv( loc_ftr + \"\\\\evt_after_18_20.csv\" ) #<-bad\n",
    "\n",
    "#ftr_49_X = pd.read_csv( loc_ftr + \"\\\\me_clk_night_18_20.csv\" ) #<-bad\n",
    "#ftr_50_X = pd.read_csv( loc_ftr + \"\\\\clk_night_18_20.csv\" ) #<-bad\n",
    "#ftr_51_X = pd.read_csv( loc_ftr + \"\\\\me_clk_morn_18_20.csv\" ) #<-bad\n",
    "#ftr_52_X = pd.read_csv( loc_ftr + \"\\\\clk_morn_18_20.csv\" ) #<-bad\n",
    "#ftr_53_X = pd.read_csv( loc_ftr + \"\\\\me_clk_midday_18_20.csv\" ) #<-bad\n",
    "#ftr_54_X = pd.read_csv( loc_ftr + \"\\\\clk_midday_18_20.csv\" ) #<-bad\n",
    "#ftr_55_X = pd.read_csv( loc_ftr + \"\\\\me_clk_after_18_20.csv\" ) #<-bad\n",
    "#ftr_56_X = pd.read_csv( loc_ftr + \"\\\\clk_after_18_20.csv\" ) #<-bad\n",
    "\n",
    "#ftr_57_X = pd.read_csv( loc_ftr + \"\\\\me_mt_1_clk_18_20.csv\" ) #<-bad\n",
    "#ftr_58_X = pd.read_csv( loc_ftr + \"\\\\mt_1_clk_18_20.csv\" ) #<-bad\n",
    "#ftr_59_X = pd.read_csv( loc_ftr + \"\\\\me_mt_1_evt_18_20.csv\" ) #<-bad\n",
    "#ftr_60_X = pd.read_csv( loc_ftr + \"\\\\mt_1_evt_18_20.csv\" ) #<-bad\n",
    "#ftr_61_X = pd.read_csv( loc_ftr + \"\\\\me_mt_1_auc_18_20.csv\" ) #<-bad\n",
    "#ftr_62_X = pd.read_csv( loc_ftr + \"\\\\mt_1_auc_18_20.csv\" ) #<-bad\n",
    "\n",
    "ftr_63_X = pd.read_csv( loc_ftr + \"\\\\atbt_ins_18_20.csv\" )\n"
   ]
  },
  {
   "cell_type": "code",
   "execution_count": null,
   "metadata": {},
   "outputs": [],
   "source": [
    "X_var = X_var.merge( ftr_01_X, how = \"inner\", on = \"ref_hash\" )\n",
    "X_var = X_var.merge( ftr_02_X, how = \"inner\", on = \"ref_hash\" )\n",
    "X_var = X_var.merge( ftr_03_X, how = \"inner\", on = \"ref_hash\" )\n",
    "#X_var = X_var.merge( ftr_04_X, how = \"inner\", on = \"ref_hash\" ) #<- bad\n",
    "X_var = X_var.merge( ftr_05_X, how = \"inner\", on = \"ref_hash\" )\n",
    "#X_var = X_var.merge( ftr_06_X, how = \"inner\", on = \"ref_hash\" ) #<-bad\n",
    "X_var = X_var.merge( ftr_07_X, how = \"inner\", on = \"ref_hash\" )\n",
    "X_var = X_var.merge( ftr_08_X, how = \"inner\", on = \"ref_hash\" )\n",
    "X_var = X_var.merge( ftr_09_X, how = \"inner\", on = \"ref_hash\" )\n",
    "#X_var = X_var.merge( ftr_10_X, how = \"inner\", on = \"ref_hash\" ) #<-bad\n",
    "X_var = X_var.merge( ftr_11_X, how = \"inner\", on = \"ref_hash\" )\n",
    "X_var = X_var.merge( ftr_12_X, how = \"inner\", on = \"ref_hash\" )\n",
    "#X_var = X_var.merge( ftr_13_X, how = \"inner\", on = \"ref_hash\" ) #<-bad\n",
    "X_var = X_var.merge( ftr_14_X, how = \"inner\", on = \"ref_hash\" )\n",
    "X_var = X_var.merge( ftr_15_X, how = \"inner\", on = \"ref_hash\" )\n",
    "X_var = X_var.merge( ftr_16_X, how = \"inner\", on = \"ref_hash\" )\n",
    "X_var = X_var.merge( ftr_17_X, how = \"inner\", on = \"ref_hash\" )\n",
    "#X_var = X_var.merge( ftr_18_X, how = \"inner\", on = \"ref_hash\" ) #<-bad\n",
    "\n",
    "#X_var = X_var.merge( ftr_19_X, how = \"inner\", on = \"ref_hash\" ) #<-bad\n",
    "#X_var = X_var.merge( ftr_20_X, how = \"inner\", on = \"ref_hash\" ) #<-bad\n",
    "X_var = X_var.merge( ftr_21_X, how = \"inner\", on = \"ref_hash\" )\n",
    "#X_var = X_var.merge( ftr_22_X, how = \"inner\", on = \"ref_hash\" ) #<-bad\n",
    "#X_var = X_var.merge( ftr_23_X, how = \"inner\", on = \"ref_hash\" ) #<-bad\n",
    "#X_var = X_var.merge( ftr_24_X, how = \"inner\", on = \"ref_hash\" ) #<-bad\n",
    "\n",
    "#X_var = X_var.merge( ftr_25_X, how = \"inner\", on = \"ref_hash\" ) #<-bad\n",
    "#X_var = X_var.merge( ftr_26_X, how = \"inner\", on = \"ref_hash\" ) #<-bad\n",
    "#X_var = X_var.merge( ftr_27_X, how = \"inner\", on = \"ref_hash\" ) #<-bad\n",
    "#X_var = X_var.merge( ftr_28_X, how = \"inner\", on = \"ref_hash\" ) #<-bad\n",
    "#X_var = X_var.merge( ftr_29_X, how = \"inner\", on = \"ref_hash\" ) #<-bad\n",
    "#X_var = X_var.merge( ftr_30_X, how = \"inner\", on = \"ref_hash\" ) #<-bad\n",
    "#X_var = X_var.merge( ftr_31_X, how = \"inner\", on = \"ref_hash\" ) #<-bad\n",
    "#X_var = X_var.merge( ftr_32_X, how = \"inner\", on = \"ref_hash\" ) #<-bad\n",
    "\n",
    "#X_var = X_var.merge( ftr_33_X, how = \"inner\", on = \"ref_hash\" ) #<-bad\n",
    "#X_var = X_var.merge( ftr_34_X, how = \"inner\", on = \"ref_hash\" ) #<-bad\n",
    "#X_var = X_var.merge( ftr_35_X, how = \"inner\", on = \"ref_hash\" ) #<-bad\n",
    "#X_var = X_var.merge( ftr_36_X, how = \"inner\", on = \"ref_hash\" ) #<-bad\n",
    "#X_var = X_var.merge( ftr_37_X, how = \"inner\", on = \"ref_hash\" ) #<-bad\n",
    "#X_var = X_var.merge( ftr_38_X, how = \"inner\", on = \"ref_hash\" ) #<-bad\n",
    "#X_var = X_var.merge( ftr_39_X, how = \"inner\", on = \"ref_hash\" ) #<-bad\n",
    "#X_var = X_var.merge( ftr_40_X, how = \"inner\", on = \"ref_hash\" ) #<-bad\n",
    "\n",
    "#X_var = X_var.merge( ftr_41_X, how = \"inner\", on = \"ref_hash\" ) #<-bad\n",
    "#X_var = X_var.merge( ftr_42_X, how = \"inner\", on = \"ref_hash\" ) #<-bad\n",
    "#X_var = X_var.merge( ftr_43_X, how = \"inner\", on = \"ref_hash\" ) #<-bad\n",
    "#X_var = X_var.merge( ftr_44_X, how = \"inner\", on = \"ref_hash\" ) #<-bad\n",
    "#X_var = X_var.merge( ftr_45_X, how = \"inner\", on = \"ref_hash\" ) #<-bad\n",
    "#X_var = X_var.merge( ftr_46_X, how = \"inner\", on = \"ref_hash\" ) #<-bad\n",
    "#X_var = X_var.merge( ftr_47_X, how = \"inner\", on = \"ref_hash\" ) #<-bad\n",
    "#X_var = X_var.merge( ftr_48_X, how = \"inner\", on = \"ref_hash\" ) #<-bad\n",
    "\n",
    "#X_var = X_var.merge( ftr_49_X, how = \"inner\", on = \"ref_hash\" ) #<-bad\n",
    "#X_var = X_var.merge( ftr_50_X, how = \"inner\", on = \"ref_hash\" ) #<-bad\n",
    "#X_var = X_var.merge( ftr_51_X, how = \"inner\", on = \"ref_hash\" ) #<-bad\n",
    "#X_var = X_var.merge( ftr_52_X, how = \"inner\", on = \"ref_hash\" ) #<-bad\n",
    "#X_var = X_var.merge( ftr_53_X, how = \"inner\", on = \"ref_hash\" ) #<-bad\n",
    "#X_var = X_var.merge( ftr_54_X, how = \"inner\", on = \"ref_hash\" ) #<-bad\n",
    "#X_var = X_var.merge( ftr_55_X, how = \"inner\", on = \"ref_hash\" ) #<-bad\n",
    "#X_var = X_var.merge( ftr_56_X, how = \"inner\", on = \"ref_hash\" ) #<-bad\n",
    "\n",
    "#X_var = X_var.merge( ftr_57_X, how = \"inner\", on = \"ref_hash\" ) #<-bad\n",
    "#X_var = X_var.merge( ftr_58_X, how = \"inner\", on = \"ref_hash\" ) #<-bad\n",
    "#X_var = X_var.merge( ftr_59_X, how = \"inner\", on = \"ref_hash\" ) #<-bad\n",
    "#X_var = X_var.merge( ftr_60_X, how = \"inner\", on = \"ref_hash\" ) #<-bad\n",
    "#X_var = X_var.merge( ftr_61_X, how = \"inner\", on = \"ref_hash\" ) #<-bad\n",
    "#X_var = X_var.merge( ftr_62_X, how = \"inner\", on = \"ref_hash\" ) #<-bad\n",
    "\n",
    "X_var = X_var.merge( ftr_63_X, how = \"inner\", on = \"ref_hash\" )"
   ]
  },
  {
   "cell_type": "markdown",
   "metadata": {},
   "source": [
    "# <span style=\"color:orange\">  Preparo las columnas </span>"
   ]
  },
  {
   "cell_type": "code",
   "execution_count": null,
   "metadata": {},
   "outputs": [],
   "source": [
    "#X_var.head().T"
   ]
  },
  {
   "cell_type": "code",
   "execution_count": null,
   "metadata": {},
   "outputs": [],
   "source": [
    "len(X_var.columns)"
   ]
  },
  {
   "cell_type": "code",
   "execution_count": null,
   "metadata": {},
   "outputs": [],
   "source": [
    "#X_var['cant_ins'].value_counts()"
   ]
  },
  {
   "cell_type": "markdown",
   "metadata": {},
   "source": [
    "## Dropeamos los ref_hash (No estan codificados)"
   ]
  },
  {
   "cell_type": "code",
   "execution_count": 490,
   "metadata": {},
   "outputs": [],
   "source": [
    "X_var = X_var.drop( \"ref_hash\", axis = 1 )\n",
    "Z_var = Z_var.drop( \"ref_hash\", axis = 1 )"
   ]
  },
  {
   "cell_type": "markdown",
   "metadata": {},
   "source": [
    "# Prediccion con <span style=\"color:green\"> *CATBOOST*</span> "
   ]
  },
  {
   "cell_type": "code",
   "execution_count": 47,
   "metadata": {},
   "outputs": [],
   "source": [
    "#model = CatBoostClassifier(iterations=184,\n",
    "#                          learning_rate=0.06,\n",
    "#                          depth=2,\n",
    "#                          l2_leaf_reg=0,\n",
    "#                          random_strength=1,\n",
    "#                          bagging_temperature=1)\n",
    "\n",
    "#model.fit(X_var,Y_var)"
   ]
  },
  {
   "cell_type": "markdown",
   "metadata": {},
   "source": [
    "### X: Train Data, Y: Train Labels, Z: Test Data, sc_24_26: Test Labels"
   ]
  },
  {
   "cell_type": "markdown",
   "metadata": {},
   "source": [
    "### Record = iterations=300, learning_rate=0.06, depth=3, RMSE: 25506.739133"
   ]
  },
  {
   "cell_type": "code",
   "execution_count": 35,
   "metadata": {},
   "outputs": [],
   "source": [
    "from sklearn.model_selection import GridSearchCV\n",
    "from sklearn.metrics import mean_squared_error, make_scorer\n",
    "mse = make_scorer( mean_squared_error, greater_is_better = False ) "
   ]
  },
  {
   "cell_type": "code",
   "execution_count": null,
   "metadata": {},
   "outputs": [],
   "source": [
    "model = CatBoostRegressor(loss_function='RMSE')\n",
    "parameters = {'depth'         : [2,3,6],\n",
    "              'learning_rate' : [0.04, 0.06, 0.1],\n",
    "              'iterations'    : [50, 150, 300]\n",
    "                 }\n",
    "grid = GridSearchCV(estimator=model, scoring=mse ,param_grid = parameters, cv = 12, n_jobs=2)\n",
    "grid.fit(X_var, Y_var)  "
   ]
  },
  {
   "cell_type": "code",
   "execution_count": 86,
   "metadata": {},
   "outputs": [
    {
     "name": "stdout",
     "output_type": "stream",
     "text": [
      "\n",
      "========================================================\n",
      " Results from Grid Search \n",
      "========================================================\n",
      "\n",
      " The best estimator across ALL searched params:\n",
      " <catboost.core.CatBoostRegressor object at 0x0000000008EDAF60>\n",
      "\n",
      " The best score across ALL searched params:\n",
      " -6547007371.867459\n",
      "\n",
      " The best parameters across ALL searched params:\n",
      " {'depth': 2, 'iterations': 150, 'learning_rate': 0.04}\n",
      "\n",
      " ========================================================\n"
     ]
    }
   ],
   "source": [
    "    # Results from Grid Search\n",
    "    print(\"\\n========================================================\")\n",
    "    print(\" Results from Grid Search \" )\n",
    "    print(\"========================================================\")    \n",
    "    \n",
    "    print(\"\\n The best estimator across ALL searched params:\\n\",\n",
    "          grid.best_estimator_)\n",
    "    \n",
    "    print(\"\\n The best score across ALL searched params:\\n\",\n",
    "          grid.best_score_)\n",
    "    \n",
    "    print(\"\\n The best parameters across ALL searched params:\\n\",\n",
    "          grid.best_params_)\n",
    "    \n",
    "    print(\"\\n ========================================================\")"
   ]
  },
  {
   "cell_type": "code",
   "execution_count": null,
   "metadata": {},
   "outputs": [],
   "source": [
    "preds = grid.predict(Z_var)"
   ]
  },
  {
   "cell_type": "markdown",
   "metadata": {},
   "source": [
    "### Parametros encontrados con grid-searchCV"
   ]
  },
  {
   "cell_type": "markdown",
   "metadata": {},
   "source": [
    "## Record: iterations=184, learning_rate=0.06, depth=2, l2_leaf_reg=0, loss_function='RMSE' | RMSE: 80971.637759"
   ]
  },
  {
   "cell_type": "code",
   "execution_count": 498,
   "metadata": {},
   "outputs": [],
   "source": [
    "# Initialize CatBoostRegressor\n",
    "model = CatBoostRegressor(iterations=184,\n",
    "                          learning_rate=0.06,\n",
    "                          depth=2,\n",
    "                          l2_leaf_reg=0,\n",
    "                          random_strength=1,\n",
    "                          bagging_temperature=1,\n",
    "                          boosting_type='Plain',\n",
    "                          loss_function='RMSE')"
   ]
  },
  {
   "cell_type": "code",
   "execution_count": 499,
   "metadata": {},
   "outputs": [
    {
     "data": {
      "text/plain": [
       "<catboost.core.CatBoostRegressor at 0xd9e68d0>"
      ]
     },
     "execution_count": 499,
     "metadata": {},
     "output_type": "execute_result"
    }
   ],
   "source": [
    "# Fit model\n",
    "model.fit(X_var, Y_var, verbose=False)"
   ]
  },
  {
   "cell_type": "code",
   "execution_count": 500,
   "metadata": {},
   "outputs": [],
   "source": [
    "preds = model.predict(Z_var)"
   ]
  },
  {
   "cell_type": "markdown",
   "metadata": {},
   "source": [
    "### Calculamos el RMSE"
   ]
  },
  {
   "cell_type": "code",
   "execution_count": 501,
   "metadata": {},
   "outputs": [
    {
     "name": "stdout",
     "output_type": "stream",
     "text": [
      "RMSE: 81046.140440\n"
     ]
    }
   ],
   "source": [
    "rmse = np.sqrt( mean_squared_error(W_var, preds) )\n",
    "print(\"RMSE: %f\" % (rmse) )"
   ]
  },
  {
   "cell_type": "code",
   "execution_count": 502,
   "metadata": {},
   "outputs": [],
   "source": [
    "record = 81046.140440\n",
    "#80971.637759\n",
    "#76189.612816"
   ]
  },
  {
   "cell_type": "code",
   "execution_count": 503,
   "metadata": {},
   "outputs": [
    {
     "data": {
      "text/html": [
       "<div>\n",
       "<style scoped>\n",
       "    .dataframe tbody tr th:only-of-type {\n",
       "        vertical-align: middle;\n",
       "    }\n",
       "\n",
       "    .dataframe tbody tr th {\n",
       "        vertical-align: top;\n",
       "    }\n",
       "\n",
       "    .dataframe thead th {\n",
       "        text-align: right;\n",
       "    }\n",
       "</style>\n",
       "<table border=\"1\" class=\"dataframe\">\n",
       "  <thead>\n",
       "    <tr style=\"text-align: right;\">\n",
       "      <th></th>\n",
       "      <th>24_26_sc</th>\n",
       "    </tr>\n",
       "  </thead>\n",
       "  <tbody>\n",
       "    <tr>\n",
       "      <th>0</th>\n",
       "      <td>91801.564</td>\n",
       "    </tr>\n",
       "    <tr>\n",
       "      <th>1</th>\n",
       "      <td>187657.482</td>\n",
       "    </tr>\n",
       "    <tr>\n",
       "      <th>2</th>\n",
       "      <td>81827.588</td>\n",
       "    </tr>\n",
       "    <tr>\n",
       "      <th>3</th>\n",
       "      <td>259200.000</td>\n",
       "    </tr>\n",
       "    <tr>\n",
       "      <th>4</th>\n",
       "      <td>82591.862</td>\n",
       "    </tr>\n",
       "    <tr>\n",
       "      <th>5</th>\n",
       "      <td>190014.425</td>\n",
       "    </tr>\n",
       "    <tr>\n",
       "      <th>6</th>\n",
       "      <td>190231.268</td>\n",
       "    </tr>\n",
       "    <tr>\n",
       "      <th>7</th>\n",
       "      <td>71361.198</td>\n",
       "    </tr>\n",
       "    <tr>\n",
       "      <th>8</th>\n",
       "      <td>172974.531</td>\n",
       "    </tr>\n",
       "    <tr>\n",
       "      <th>9</th>\n",
       "      <td>1656.746</td>\n",
       "    </tr>\n",
       "  </tbody>\n",
       "</table>\n",
       "</div>"
      ],
      "text/plain": [
       "     24_26_sc\n",
       "0   91801.564\n",
       "1  187657.482\n",
       "2   81827.588\n",
       "3  259200.000\n",
       "4   82591.862\n",
       "5  190014.425\n",
       "6  190231.268\n",
       "7   71361.198\n",
       "8  172974.531\n",
       "9    1656.746"
      ]
     },
     "execution_count": 503,
     "metadata": {},
     "output_type": "execute_result"
    }
   ],
   "source": [
    "W_var.head(10)"
   ]
  },
  {
   "cell_type": "code",
   "execution_count": 504,
   "metadata": {},
   "outputs": [
    {
     "data": {
      "text/html": [
       "<div>\n",
       "<style scoped>\n",
       "    .dataframe tbody tr th:only-of-type {\n",
       "        vertical-align: middle;\n",
       "    }\n",
       "\n",
       "    .dataframe tbody tr th {\n",
       "        vertical-align: top;\n",
       "    }\n",
       "\n",
       "    .dataframe thead th {\n",
       "        text-align: right;\n",
       "    }\n",
       "</style>\n",
       "<table border=\"1\" class=\"dataframe\">\n",
       "  <thead>\n",
       "    <tr style=\"text-align: right;\">\n",
       "      <th></th>\n",
       "      <th>0</th>\n",
       "    </tr>\n",
       "  </thead>\n",
       "  <tbody>\n",
       "    <tr>\n",
       "      <th>0</th>\n",
       "      <td>123898.208561</td>\n",
       "    </tr>\n",
       "    <tr>\n",
       "      <th>1</th>\n",
       "      <td>130397.479142</td>\n",
       "    </tr>\n",
       "    <tr>\n",
       "      <th>2</th>\n",
       "      <td>126252.845019</td>\n",
       "    </tr>\n",
       "    <tr>\n",
       "      <th>3</th>\n",
       "      <td>110043.815028</td>\n",
       "    </tr>\n",
       "    <tr>\n",
       "      <th>4</th>\n",
       "      <td>121921.362886</td>\n",
       "    </tr>\n",
       "    <tr>\n",
       "      <th>5</th>\n",
       "      <td>124193.878123</td>\n",
       "    </tr>\n",
       "    <tr>\n",
       "      <th>6</th>\n",
       "      <td>101169.305905</td>\n",
       "    </tr>\n",
       "    <tr>\n",
       "      <th>7</th>\n",
       "      <td>126933.594275</td>\n",
       "    </tr>\n",
       "    <tr>\n",
       "      <th>8</th>\n",
       "      <td>135445.302058</td>\n",
       "    </tr>\n",
       "    <tr>\n",
       "      <th>9</th>\n",
       "      <td>131266.787671</td>\n",
       "    </tr>\n",
       "  </tbody>\n",
       "</table>\n",
       "</div>"
      ],
      "text/plain": [
       "               0\n",
       "0  123898.208561\n",
       "1  130397.479142\n",
       "2  126252.845019\n",
       "3  110043.815028\n",
       "4  121921.362886\n",
       "5  124193.878123\n",
       "6  101169.305905\n",
       "7  126933.594275\n",
       "8  135445.302058\n",
       "9  131266.787671"
      ]
     },
     "execution_count": 504,
     "metadata": {},
     "output_type": "execute_result"
    }
   ],
   "source": [
    "pd.DataFrame(preds).head(10)"
   ]
  },
  {
   "cell_type": "code",
   "execution_count": 506,
   "metadata": {},
   "outputs": [
    {
     "name": "stdout",
     "output_type": "stream",
     "text": [
      "media 124136.90546436826\n",
      "std 9612.469383945052\n"
     ]
    }
   ],
   "source": [
    "print(\"media \" + str(pd.DataFrame(preds)[0].mean()))\n",
    "print(\"std \" + str(pd.DataFrame(preds)[0].std()))"
   ]
  },
  {
   "cell_type": "code",
   "execution_count": null,
   "metadata": {},
   "outputs": [],
   "source": []
  }
 ],
 "metadata": {
  "kernelspec": {
   "display_name": "Python 3",
   "language": "python",
   "name": "python3"
  },
  "language_info": {
   "codemirror_mode": {
    "name": "ipython",
    "version": 3
   },
   "file_extension": ".py",
   "mimetype": "text/x-python",
   "name": "python",
   "nbconvert_exporter": "python",
   "pygments_lexer": "ipython3",
   "version": "3.7.3"
  }
 },
 "nbformat": 4,
 "nbformat_minor": 2
}
