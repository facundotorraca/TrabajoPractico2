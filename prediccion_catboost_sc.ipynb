{
 "cells": [
  {
   "cell_type": "code",
   "execution_count": 1,
   "metadata": {},
   "outputs": [],
   "source": [
    "import pandas as pd\n",
    "import numpy as np"
   ]
  },
  {
   "cell_type": "code",
   "execution_count": 3,
   "metadata": {},
   "outputs": [],
   "source": [
    "from catboost import CatBoostRegressor"
   ]
  },
  {
   "cell_type": "code",
   "execution_count": 4,
   "metadata": {},
   "outputs": [],
   "source": [
    "loc_lbl = r\"D:\\TP2_Machine_Learning\\Labels\""
   ]
  },
  {
   "cell_type": "code",
   "execution_count": 5,
   "metadata": {},
   "outputs": [],
   "source": [
    "loc_ftr = r\"D:\\TP2_Machine_Learning\\Features\\ftr_ins\""
   ]
  },
  {
   "cell_type": "code",
   "execution_count": 6,
   "metadata": {},
   "outputs": [],
   "source": [
    "ins_lb = pd.read_csv( loc_lbl + \"\\\\ins_lb.csv\", dtype = {\"obs_18_20\":\"bool\", \"obs_21_23\":\"bool\", \"obs_24_26\":\"bool\"} )"
   ]
  },
  {
   "cell_type": "markdown",
   "metadata": {},
   "source": [
    "### Filtro de manera que tenga los datos necesarios"
   ]
  },
  {
   "cell_type": "code",
   "execution_count": 7,
   "metadata": {},
   "outputs": [],
   "source": [
    "rh_18_20 = pd.read_csv( \"D:\\TP2_Machine_Learning\\Training Sets\\ins_18_20.csv\" ); rh_18_20 = rh_18_20[\"ref_hash\"].drop_duplicates().tolist()\n",
    "rh_21_23 = pd.read_csv( \"D:\\TP2_Machine_Learning\\Training Sets\\ins_21_23.csv\" ); rh_21_23 = rh_21_23[\"ref_hash\"].drop_duplicates().tolist()"
   ]
  },
  {
   "cell_type": "code",
   "execution_count": 8,
   "metadata": {},
   "outputs": [],
   "source": [
    "dt_18_20 = ins_lb.loc[ ins_lb[\"ref_hash\"].isin( rh_18_20 ), [\"ref_hash\"] ] #Datos del (18-20)\n",
    "sc_21_23 = ins_lb.loc[ ins_lb[\"ref_hash\"].isin( rh_18_20 ), [\"21_23_sc\"] ] #SC del (21-23)\n",
    "\n",
    "dt_21_23 = ins_lb.loc[ ins_lb[\"ref_hash\"].isin( rh_21_23 ), [\"ref_hash\"] ] #Datos del (21-23)\n",
    "sc_24_26 = ins_lb.loc[ ins_lb[\"ref_hash\"].isin( rh_21_23 ), [\"24_26_sc\"] ] #SC del (24-26)"
   ]
  },
  {
   "cell_type": "markdown",
   "metadata": {},
   "source": [
    "# <span style=\"color:orange\">  Preparo los datos para predecir </span>\n",
    "Con los datos 21-23 predecimos \"24-26_sc\""
   ]
  },
  {
   "cell_type": "code",
   "execution_count": 9,
   "metadata": {},
   "outputs": [],
   "source": [
    "Z = dt_21_23"
   ]
  },
  {
   "cell_type": "code",
   "execution_count": 10,
   "metadata": {},
   "outputs": [],
   "source": [
    "ftr_01_Z = pd.read_csv( loc_ftr + \"\\\\sin_hour_21_23.csv\" ) \n",
    "ftr_02_Z = pd.read_csv( loc_ftr + \"\\\\cant_ins_21_23.csv\" )\n",
    "ftr_03_Z = pd.read_csv( loc_ftr + \"\\\\cins_imp_21_23.csv\" )\n",
    "ftr_04_Z = pd.read_csv( loc_ftr + \"\\\\cant_evt_21_23.csv\" )\n",
    "ftr_05_Z = pd.read_csv( loc_ftr + \"\\\\cant_auc_21_23.csv\" )\n",
    "ftr_06_Z = pd.read_csv( loc_ftr + \"\\\\wifi_ins_21_23.csv\" )\n",
    "ftr_07_Z = pd.read_csv( loc_ftr + \"\\\\main_app_21_23.csv\" )\n",
    "ftr_08_Z = pd.read_csv( loc_ftr + \"\\\\type_ins_21_23.csv\" )\n",
    "ftr_09_Z = pd.read_csv( loc_ftr + \"\\\\ref_type_21_23.csv\" )\n",
    "ftr_10_Z = pd.read_csv( loc_ftr + \"\\\\ip_encod_21_23.csv\" )\n",
    "ftr_11_Z = pd.read_csv( loc_ftr + \"\\\\cevt_atr_21_23.csv\" )\n",
    "ftr_12_Z = pd.read_csv( loc_ftr + \"\\\\kind_evt_21_23.csv\" )\n",
    "ftr_13_Z = pd.read_csv( loc_ftr + \"\\\\frst_auc_21_23.csv\" )\n",
    "ftr_14_Z = pd.read_csv( loc_ftr + \"\\\\frst_evt_21_23.csv\" )\n",
    "ftr_15_Z = pd.read_csv( loc_ftr + \"\\\\hr_f_evt_21_23.csv\" )"
   ]
  },
  {
   "cell_type": "code",
   "execution_count": 11,
   "metadata": {},
   "outputs": [],
   "source": [
    "Z = Z.merge( ftr_01_Z, how = \"inner\", on = \"ref_hash\" )\n",
    "Z = Z.merge( ftr_02_Z, how = \"inner\", on = \"ref_hash\" )\n",
    "Z = Z.merge( ftr_03_Z, how = \"inner\", on = \"ref_hash\" )\n",
    "Z = Z.merge( ftr_04_Z, how = \"inner\", on = \"ref_hash\" )\n",
    "Z = Z.merge( ftr_05_Z, how = \"inner\", on = \"ref_hash\" )\n",
    "Z = Z.merge( ftr_06_Z, how = \"inner\", on = \"ref_hash\" )\n",
    "Z = Z.merge( ftr_07_Z, how = \"inner\", on = \"ref_hash\" )\n",
    "Z = Z.merge( ftr_08_Z, how = \"inner\", on = \"ref_hash\" )\n",
    "Z = Z.merge( ftr_09_Z, how = \"inner\", on = \"ref_hash\" )\n",
    "Z = Z.merge( ftr_10_Z, how = \"inner\", on = \"ref_hash\" )\n",
    "Z = Z.merge( ftr_11_Z, how = \"inner\", on = \"ref_hash\" )\n",
    "Z = Z.merge( ftr_12_Z, how = \"inner\", on = \"ref_hash\" )\n",
    "Z = Z.merge( ftr_13_Z, how = \"inner\", on = \"ref_hash\" )\n",
    "Z = Z.merge( ftr_14_Z, how = \"inner\", on = \"ref_hash\" )\n",
    "Z = Z.merge( ftr_15_Z, how = \"inner\", on = \"ref_hash\" )"
   ]
  },
  {
   "cell_type": "markdown",
   "metadata": {},
   "source": [
    "# <span style=\"color:orange\">  Preparo los datos para entrenar </span>\n",
    "\n",
    "Con los datos 18-20 + \"21-23_sc\" entrenamos"
   ]
  },
  {
   "cell_type": "code",
   "execution_count": 12,
   "metadata": {},
   "outputs": [],
   "source": [
    "Y = sc_21_23"
   ]
  },
  {
   "cell_type": "code",
   "execution_count": 13,
   "metadata": {},
   "outputs": [],
   "source": [
    "X = dt_18_20"
   ]
  },
  {
   "cell_type": "markdown",
   "metadata": {},
   "source": [
    "### Agregamos los features"
   ]
  },
  {
   "cell_type": "code",
   "execution_count": 14,
   "metadata": {},
   "outputs": [],
   "source": [
    "ftr_01_X = pd.read_csv( loc_ftr + \"\\\\sin_hour_18_20.csv\" )\n",
    "ftr_02_X = pd.read_csv( loc_ftr + \"\\\\cant_ins_18_20.csv\" )\n",
    "ftr_03_X = pd.read_csv( loc_ftr + \"\\\\cins_imp_18_20.csv\" )\n",
    "ftr_04_X = pd.read_csv( loc_ftr + \"\\\\cant_evt_18_20.csv\" )\n",
    "ftr_05_X = pd.read_csv( loc_ftr + \"\\\\cant_auc_18_20.csv\" )\n",
    "ftr_06_X = pd.read_csv( loc_ftr + \"\\\\wifi_ins_18_20.csv\" )\n",
    "ftr_07_X = pd.read_csv( loc_ftr + \"\\\\main_app_18_20.csv\" )\n",
    "ftr_08_X = pd.read_csv( loc_ftr + \"\\\\type_ins_18_20.csv\" )\n",
    "ftr_09_X = pd.read_csv( loc_ftr + \"\\\\ref_type_18_20.csv\" )\n",
    "ftr_10_X = pd.read_csv( loc_ftr + \"\\\\ip_encod_18_20.csv\" )\n",
    "ftr_11_X = pd.read_csv( loc_ftr + \"\\\\cevt_atr_18_20.csv\" )\n",
    "ftr_12_X = pd.read_csv( loc_ftr + \"\\\\kind_evt_18_20.csv\" )\n",
    "ftr_13_X = pd.read_csv( loc_ftr + \"\\\\frst_auc_18_20.csv\" )\n",
    "ftr_14_X = pd.read_csv( loc_ftr + \"\\\\frst_evt_18_20.csv\" )\n",
    "ftr_15_X = pd.read_csv( loc_ftr + \"\\\\hr_f_evt_18_20.csv\" )"
   ]
  },
  {
   "cell_type": "code",
   "execution_count": 15,
   "metadata": {},
   "outputs": [],
   "source": [
    "X = X.merge( ftr_01_X, how = \"inner\", on = \"ref_hash\" )\n",
    "X = X.merge( ftr_02_X, how = \"inner\", on = \"ref_hash\" )\n",
    "X = X.merge( ftr_03_X, how = \"inner\", on = \"ref_hash\" )\n",
    "X = X.merge( ftr_04_X, how = \"inner\", on = \"ref_hash\" )\n",
    "X = X.merge( ftr_05_X, how = \"inner\", on = \"ref_hash\" )\n",
    "X = X.merge( ftr_06_X, how = \"inner\", on = \"ref_hash\" )\n",
    "X = X.merge( ftr_07_X, how = \"inner\", on = \"ref_hash\" )\n",
    "X = X.merge( ftr_08_X, how = \"inner\", on = \"ref_hash\" )\n",
    "X = X.merge( ftr_09_X, how = \"inner\", on = \"ref_hash\" )\n",
    "X = X.merge( ftr_10_X, how = \"inner\", on = \"ref_hash\" )\n",
    "X = X.merge( ftr_11_X, how = \"inner\", on = \"ref_hash\" )\n",
    "X = X.merge( ftr_12_X, how = \"inner\", on = \"ref_hash\" )\n",
    "X = X.merge( ftr_13_X, how = \"inner\", on = \"ref_hash\" )\n",
    "X = X.merge( ftr_14_X, how = \"inner\", on = \"ref_hash\" )\n",
    "X = X.merge( ftr_15_X, how = \"inner\", on = \"ref_hash\" )"
   ]
  },
  {
   "cell_type": "markdown",
   "metadata": {},
   "source": [
    "## Dropeamos los ref_hash (No estan codificados)"
   ]
  },
  {
   "cell_type": "code",
   "execution_count": 16,
   "metadata": {},
   "outputs": [],
   "source": [
    "X = X.drop( \"ref_hash\", axis = 1 )\n",
    "Z = Z.drop( \"ref_hash\", axis = 1 )"
   ]
  },
  {
   "cell_type": "markdown",
   "metadata": {},
   "source": [
    "# Prediccion con <span style=\"color:green\"> *CATBOOST*</span> "
   ]
  },
  {
   "cell_type": "markdown",
   "metadata": {},
   "source": [
    "### X: Train Data, Y: Train Labels, Z: Test Data, sc_24_26: Test Labels"
   ]
  },
  {
   "cell_type": "markdown",
   "metadata": {},
   "source": [
    "### Record = iterations=300, learning_rate=0.06, depth=3, RMSE: 25506.739133"
   ]
  },
  {
   "cell_type": "code",
   "execution_count": 17,
   "metadata": {},
   "outputs": [],
   "source": [
    "from sklearn.model_selection import GridSearchCV\n",
    "from sklearn.metrics import mean_squared_error, make_scorer\n",
    "mse = make_scorer( mean_squared_error, greater_is_better = False ) "
   ]
  },
  {
   "cell_type": "code",
   "execution_count": 19,
   "metadata": {},
   "outputs": [
    {
     "ename": "KeyboardInterrupt",
     "evalue": "",
     "output_type": "error",
     "traceback": [
      "\u001b[1;31m---------------------------------------------------------------------------\u001b[0m",
      "\u001b[1;31mKeyboardInterrupt\u001b[0m                         Traceback (most recent call last)",
      "\u001b[1;32m<ipython-input-19-352431099f61>\u001b[0m in \u001b[0;36m<module>\u001b[1;34m\u001b[0m\n\u001b[0;32m      5\u001b[0m                  }\n\u001b[0;32m      6\u001b[0m \u001b[0mgrid\u001b[0m \u001b[1;33m=\u001b[0m \u001b[0mGridSearchCV\u001b[0m\u001b[1;33m(\u001b[0m\u001b[0mestimator\u001b[0m\u001b[1;33m=\u001b[0m\u001b[0mmodel\u001b[0m\u001b[1;33m,\u001b[0m \u001b[0mscoring\u001b[0m\u001b[1;33m=\u001b[0m\u001b[0mmse\u001b[0m \u001b[1;33m,\u001b[0m\u001b[0mparam_grid\u001b[0m \u001b[1;33m=\u001b[0m \u001b[0mparameters\u001b[0m\u001b[1;33m,\u001b[0m \u001b[0mcv\u001b[0m \u001b[1;33m=\u001b[0m \u001b[1;36m8\u001b[0m\u001b[1;33m,\u001b[0m \u001b[0mn_jobs\u001b[0m\u001b[1;33m=\u001b[0m\u001b[1;36m2\u001b[0m\u001b[1;33m)\u001b[0m\u001b[1;33m\u001b[0m\u001b[1;33m\u001b[0m\u001b[0m\n\u001b[1;32m----> 7\u001b[1;33m \u001b[0mgrid\u001b[0m\u001b[1;33m.\u001b[0m\u001b[0mfit\u001b[0m\u001b[1;33m(\u001b[0m\u001b[0mX\u001b[0m\u001b[1;33m,\u001b[0m \u001b[0mY\u001b[0m\u001b[1;33m)\u001b[0m\u001b[1;33m\u001b[0m\u001b[1;33m\u001b[0m\u001b[0m\n\u001b[0m",
      "\u001b[1;32mC:\\ProgramData\\Anaconda3\\lib\\site-packages\\sklearn\\model_selection\\_search.py\u001b[0m in \u001b[0;36mfit\u001b[1;34m(self, X, y, groups, **fit_params)\u001b[0m\n\u001b[0;32m    720\u001b[0m                 \u001b[1;32mreturn\u001b[0m \u001b[0mresults_container\u001b[0m\u001b[1;33m[\u001b[0m\u001b[1;36m0\u001b[0m\u001b[1;33m]\u001b[0m\u001b[1;33m\u001b[0m\u001b[1;33m\u001b[0m\u001b[0m\n\u001b[0;32m    721\u001b[0m \u001b[1;33m\u001b[0m\u001b[0m\n\u001b[1;32m--> 722\u001b[1;33m             \u001b[0mself\u001b[0m\u001b[1;33m.\u001b[0m\u001b[0m_run_search\u001b[0m\u001b[1;33m(\u001b[0m\u001b[0mevaluate_candidates\u001b[0m\u001b[1;33m)\u001b[0m\u001b[1;33m\u001b[0m\u001b[1;33m\u001b[0m\u001b[0m\n\u001b[0m\u001b[0;32m    723\u001b[0m \u001b[1;33m\u001b[0m\u001b[0m\n\u001b[0;32m    724\u001b[0m         \u001b[0mresults\u001b[0m \u001b[1;33m=\u001b[0m \u001b[0mresults_container\u001b[0m\u001b[1;33m[\u001b[0m\u001b[1;36m0\u001b[0m\u001b[1;33m]\u001b[0m\u001b[1;33m\u001b[0m\u001b[1;33m\u001b[0m\u001b[0m\n",
      "\u001b[1;32mC:\\ProgramData\\Anaconda3\\lib\\site-packages\\sklearn\\model_selection\\_search.py\u001b[0m in \u001b[0;36m_run_search\u001b[1;34m(self, evaluate_candidates)\u001b[0m\n\u001b[0;32m   1189\u001b[0m     \u001b[1;32mdef\u001b[0m \u001b[0m_run_search\u001b[0m\u001b[1;33m(\u001b[0m\u001b[0mself\u001b[0m\u001b[1;33m,\u001b[0m \u001b[0mevaluate_candidates\u001b[0m\u001b[1;33m)\u001b[0m\u001b[1;33m:\u001b[0m\u001b[1;33m\u001b[0m\u001b[1;33m\u001b[0m\u001b[0m\n\u001b[0;32m   1190\u001b[0m         \u001b[1;34m\"\"\"Search all candidates in param_grid\"\"\"\u001b[0m\u001b[1;33m\u001b[0m\u001b[1;33m\u001b[0m\u001b[0m\n\u001b[1;32m-> 1191\u001b[1;33m         \u001b[0mevaluate_candidates\u001b[0m\u001b[1;33m(\u001b[0m\u001b[0mParameterGrid\u001b[0m\u001b[1;33m(\u001b[0m\u001b[0mself\u001b[0m\u001b[1;33m.\u001b[0m\u001b[0mparam_grid\u001b[0m\u001b[1;33m)\u001b[0m\u001b[1;33m)\u001b[0m\u001b[1;33m\u001b[0m\u001b[1;33m\u001b[0m\u001b[0m\n\u001b[0m\u001b[0;32m   1192\u001b[0m \u001b[1;33m\u001b[0m\u001b[0m\n\u001b[0;32m   1193\u001b[0m \u001b[1;33m\u001b[0m\u001b[0m\n",
      "\u001b[1;32mC:\\ProgramData\\Anaconda3\\lib\\site-packages\\sklearn\\model_selection\\_search.py\u001b[0m in \u001b[0;36mevaluate_candidates\u001b[1;34m(candidate_params)\u001b[0m\n\u001b[0;32m    709\u001b[0m                                \u001b[1;32mfor\u001b[0m \u001b[0mparameters\u001b[0m\u001b[1;33m,\u001b[0m \u001b[1;33m(\u001b[0m\u001b[0mtrain\u001b[0m\u001b[1;33m,\u001b[0m \u001b[0mtest\u001b[0m\u001b[1;33m)\u001b[0m\u001b[1;33m\u001b[0m\u001b[1;33m\u001b[0m\u001b[0m\n\u001b[0;32m    710\u001b[0m                                in product(candidate_params,\n\u001b[1;32m--> 711\u001b[1;33m                                           cv.split(X, y, groups)))\n\u001b[0m\u001b[0;32m    712\u001b[0m \u001b[1;33m\u001b[0m\u001b[0m\n\u001b[0;32m    713\u001b[0m                 \u001b[0mall_candidate_params\u001b[0m\u001b[1;33m.\u001b[0m\u001b[0mextend\u001b[0m\u001b[1;33m(\u001b[0m\u001b[0mcandidate_params\u001b[0m\u001b[1;33m)\u001b[0m\u001b[1;33m\u001b[0m\u001b[1;33m\u001b[0m\u001b[0m\n",
      "\u001b[1;32mC:\\ProgramData\\Anaconda3\\lib\\site-packages\\sklearn\\externals\\joblib\\parallel.py\u001b[0m in \u001b[0;36m__call__\u001b[1;34m(self, iterable)\u001b[0m\n\u001b[0;32m    928\u001b[0m \u001b[1;33m\u001b[0m\u001b[0m\n\u001b[0;32m    929\u001b[0m             \u001b[1;32mwith\u001b[0m \u001b[0mself\u001b[0m\u001b[1;33m.\u001b[0m\u001b[0m_backend\u001b[0m\u001b[1;33m.\u001b[0m\u001b[0mretrieval_context\u001b[0m\u001b[1;33m(\u001b[0m\u001b[1;33m)\u001b[0m\u001b[1;33m:\u001b[0m\u001b[1;33m\u001b[0m\u001b[1;33m\u001b[0m\u001b[0m\n\u001b[1;32m--> 930\u001b[1;33m                 \u001b[0mself\u001b[0m\u001b[1;33m.\u001b[0m\u001b[0mretrieve\u001b[0m\u001b[1;33m(\u001b[0m\u001b[1;33m)\u001b[0m\u001b[1;33m\u001b[0m\u001b[1;33m\u001b[0m\u001b[0m\n\u001b[0m\u001b[0;32m    931\u001b[0m             \u001b[1;31m# Make sure that we get a last message telling us we are done\u001b[0m\u001b[1;33m\u001b[0m\u001b[1;33m\u001b[0m\u001b[1;33m\u001b[0m\u001b[0m\n\u001b[0;32m    932\u001b[0m             \u001b[0melapsed_time\u001b[0m \u001b[1;33m=\u001b[0m \u001b[0mtime\u001b[0m\u001b[1;33m.\u001b[0m\u001b[0mtime\u001b[0m\u001b[1;33m(\u001b[0m\u001b[1;33m)\u001b[0m \u001b[1;33m-\u001b[0m \u001b[0mself\u001b[0m\u001b[1;33m.\u001b[0m\u001b[0m_start_time\u001b[0m\u001b[1;33m\u001b[0m\u001b[1;33m\u001b[0m\u001b[0m\n",
      "\u001b[1;32mC:\\ProgramData\\Anaconda3\\lib\\site-packages\\sklearn\\externals\\joblib\\parallel.py\u001b[0m in \u001b[0;36mretrieve\u001b[1;34m(self)\u001b[0m\n\u001b[0;32m    831\u001b[0m             \u001b[1;32mtry\u001b[0m\u001b[1;33m:\u001b[0m\u001b[1;33m\u001b[0m\u001b[1;33m\u001b[0m\u001b[0m\n\u001b[0;32m    832\u001b[0m                 \u001b[1;32mif\u001b[0m \u001b[0mgetattr\u001b[0m\u001b[1;33m(\u001b[0m\u001b[0mself\u001b[0m\u001b[1;33m.\u001b[0m\u001b[0m_backend\u001b[0m\u001b[1;33m,\u001b[0m \u001b[1;34m'supports_timeout'\u001b[0m\u001b[1;33m,\u001b[0m \u001b[1;32mFalse\u001b[0m\u001b[1;33m)\u001b[0m\u001b[1;33m:\u001b[0m\u001b[1;33m\u001b[0m\u001b[1;33m\u001b[0m\u001b[0m\n\u001b[1;32m--> 833\u001b[1;33m                     \u001b[0mself\u001b[0m\u001b[1;33m.\u001b[0m\u001b[0m_output\u001b[0m\u001b[1;33m.\u001b[0m\u001b[0mextend\u001b[0m\u001b[1;33m(\u001b[0m\u001b[0mjob\u001b[0m\u001b[1;33m.\u001b[0m\u001b[0mget\u001b[0m\u001b[1;33m(\u001b[0m\u001b[0mtimeout\u001b[0m\u001b[1;33m=\u001b[0m\u001b[0mself\u001b[0m\u001b[1;33m.\u001b[0m\u001b[0mtimeout\u001b[0m\u001b[1;33m)\u001b[0m\u001b[1;33m)\u001b[0m\u001b[1;33m\u001b[0m\u001b[1;33m\u001b[0m\u001b[0m\n\u001b[0m\u001b[0;32m    834\u001b[0m                 \u001b[1;32melse\u001b[0m\u001b[1;33m:\u001b[0m\u001b[1;33m\u001b[0m\u001b[1;33m\u001b[0m\u001b[0m\n\u001b[0;32m    835\u001b[0m                     \u001b[0mself\u001b[0m\u001b[1;33m.\u001b[0m\u001b[0m_output\u001b[0m\u001b[1;33m.\u001b[0m\u001b[0mextend\u001b[0m\u001b[1;33m(\u001b[0m\u001b[0mjob\u001b[0m\u001b[1;33m.\u001b[0m\u001b[0mget\u001b[0m\u001b[1;33m(\u001b[0m\u001b[1;33m)\u001b[0m\u001b[1;33m)\u001b[0m\u001b[1;33m\u001b[0m\u001b[1;33m\u001b[0m\u001b[0m\n",
      "\u001b[1;32mC:\\ProgramData\\Anaconda3\\lib\\site-packages\\sklearn\\externals\\joblib\\_parallel_backends.py\u001b[0m in \u001b[0;36mwrap_future_result\u001b[1;34m(future, timeout)\u001b[0m\n\u001b[0;32m    519\u001b[0m         AsyncResults.get from multiprocessing.\"\"\"\n\u001b[0;32m    520\u001b[0m         \u001b[1;32mtry\u001b[0m\u001b[1;33m:\u001b[0m\u001b[1;33m\u001b[0m\u001b[1;33m\u001b[0m\u001b[0m\n\u001b[1;32m--> 521\u001b[1;33m             \u001b[1;32mreturn\u001b[0m \u001b[0mfuture\u001b[0m\u001b[1;33m.\u001b[0m\u001b[0mresult\u001b[0m\u001b[1;33m(\u001b[0m\u001b[0mtimeout\u001b[0m\u001b[1;33m=\u001b[0m\u001b[0mtimeout\u001b[0m\u001b[1;33m)\u001b[0m\u001b[1;33m\u001b[0m\u001b[1;33m\u001b[0m\u001b[0m\n\u001b[0m\u001b[0;32m    522\u001b[0m         \u001b[1;32mexcept\u001b[0m \u001b[0mLokyTimeoutError\u001b[0m\u001b[1;33m:\u001b[0m\u001b[1;33m\u001b[0m\u001b[1;33m\u001b[0m\u001b[0m\n\u001b[0;32m    523\u001b[0m             \u001b[1;32mraise\u001b[0m \u001b[0mTimeoutError\u001b[0m\u001b[1;33m(\u001b[0m\u001b[1;33m)\u001b[0m\u001b[1;33m\u001b[0m\u001b[1;33m\u001b[0m\u001b[0m\n",
      "\u001b[1;32mC:\\ProgramData\\Anaconda3\\lib\\concurrent\\futures\\_base.py\u001b[0m in \u001b[0;36mresult\u001b[1;34m(self, timeout)\u001b[0m\n\u001b[0;32m    425\u001b[0m                 \u001b[1;32mreturn\u001b[0m \u001b[0mself\u001b[0m\u001b[1;33m.\u001b[0m\u001b[0m__get_result\u001b[0m\u001b[1;33m(\u001b[0m\u001b[1;33m)\u001b[0m\u001b[1;33m\u001b[0m\u001b[1;33m\u001b[0m\u001b[0m\n\u001b[0;32m    426\u001b[0m \u001b[1;33m\u001b[0m\u001b[0m\n\u001b[1;32m--> 427\u001b[1;33m             \u001b[0mself\u001b[0m\u001b[1;33m.\u001b[0m\u001b[0m_condition\u001b[0m\u001b[1;33m.\u001b[0m\u001b[0mwait\u001b[0m\u001b[1;33m(\u001b[0m\u001b[0mtimeout\u001b[0m\u001b[1;33m)\u001b[0m\u001b[1;33m\u001b[0m\u001b[1;33m\u001b[0m\u001b[0m\n\u001b[0m\u001b[0;32m    428\u001b[0m \u001b[1;33m\u001b[0m\u001b[0m\n\u001b[0;32m    429\u001b[0m             \u001b[1;32mif\u001b[0m \u001b[0mself\u001b[0m\u001b[1;33m.\u001b[0m\u001b[0m_state\u001b[0m \u001b[1;32min\u001b[0m \u001b[1;33m[\u001b[0m\u001b[0mCANCELLED\u001b[0m\u001b[1;33m,\u001b[0m \u001b[0mCANCELLED_AND_NOTIFIED\u001b[0m\u001b[1;33m]\u001b[0m\u001b[1;33m:\u001b[0m\u001b[1;33m\u001b[0m\u001b[1;33m\u001b[0m\u001b[0m\n",
      "\u001b[1;32mC:\\ProgramData\\Anaconda3\\lib\\threading.py\u001b[0m in \u001b[0;36mwait\u001b[1;34m(self, timeout)\u001b[0m\n\u001b[0;32m    294\u001b[0m         \u001b[1;32mtry\u001b[0m\u001b[1;33m:\u001b[0m    \u001b[1;31m# restore state no matter what (e.g., KeyboardInterrupt)\u001b[0m\u001b[1;33m\u001b[0m\u001b[1;33m\u001b[0m\u001b[0m\n\u001b[0;32m    295\u001b[0m             \u001b[1;32mif\u001b[0m \u001b[0mtimeout\u001b[0m \u001b[1;32mis\u001b[0m \u001b[1;32mNone\u001b[0m\u001b[1;33m:\u001b[0m\u001b[1;33m\u001b[0m\u001b[1;33m\u001b[0m\u001b[0m\n\u001b[1;32m--> 296\u001b[1;33m                 \u001b[0mwaiter\u001b[0m\u001b[1;33m.\u001b[0m\u001b[0macquire\u001b[0m\u001b[1;33m(\u001b[0m\u001b[1;33m)\u001b[0m\u001b[1;33m\u001b[0m\u001b[1;33m\u001b[0m\u001b[0m\n\u001b[0m\u001b[0;32m    297\u001b[0m                 \u001b[0mgotit\u001b[0m \u001b[1;33m=\u001b[0m \u001b[1;32mTrue\u001b[0m\u001b[1;33m\u001b[0m\u001b[1;33m\u001b[0m\u001b[0m\n\u001b[0;32m    298\u001b[0m             \u001b[1;32melse\u001b[0m\u001b[1;33m:\u001b[0m\u001b[1;33m\u001b[0m\u001b[1;33m\u001b[0m\u001b[0m\n",
      "\u001b[1;31mKeyboardInterrupt\u001b[0m: "
     ]
    }
   ],
   "source": [
    "model = CatBoostRegressor(loss_function='RMSE')\n",
    "parameters = {'depth'         : [2,3,6],\n",
    "              'learning_rate' : [0.04, 0.06, 0.1],\n",
    "              'iterations'    : [20, 50, 200]\n",
    "                 }\n",
    "grid = GridSearchCV(estimator=model, scoring=mse ,param_grid = parameters, cv = 8, n_jobs=2)\n",
    "grid.fit(X, Y)  "
   ]
  },
  {
   "cell_type": "code",
   "execution_count": 20,
   "metadata": {},
   "outputs": [
    {
     "name": "stdout",
     "output_type": "stream",
     "text": [
      "\n",
      "========================================================\n",
      " Results from Grid Search \n",
      "========================================================\n"
     ]
    },
    {
     "ename": "AttributeError",
     "evalue": "'GridSearchCV' object has no attribute 'best_estimator_'",
     "output_type": "error",
     "traceback": [
      "\u001b[1;31m---------------------------------------------------------------------------\u001b[0m",
      "\u001b[1;31mAttributeError\u001b[0m                            Traceback (most recent call last)",
      "\u001b[1;32m<ipython-input-20-f91af3664265>\u001b[0m in \u001b[0;36m<module>\u001b[1;34m\u001b[0m\n\u001b[0;32m      5\u001b[0m \u001b[1;33m\u001b[0m\u001b[0m\n\u001b[0;32m      6\u001b[0m print(\"\\n The best estimator across ALL searched params:\\n\",\n\u001b[1;32m----> 7\u001b[1;33m       grid.best_estimator_)\n\u001b[0m\u001b[0;32m      8\u001b[0m \u001b[1;33m\u001b[0m\u001b[0m\n\u001b[0;32m      9\u001b[0m print(\"\\n The best score across ALL searched params:\\n\",\n",
      "\u001b[1;31mAttributeError\u001b[0m: 'GridSearchCV' object has no attribute 'best_estimator_'"
     ]
    }
   ],
   "source": [
    "    # Results from Grid Search\n",
    "    print(\"\\n========================================================\")\n",
    "    print(\" Results from Grid Search \" )\n",
    "    print(\"========================================================\")    \n",
    "    \n",
    "    print(\"\\n The best estimator across ALL searched params:\\n\",\n",
    "          grid.best_estimator_)\n",
    "    \n",
    "    print(\"\\n The best score across ALL searched params:\\n\",\n",
    "          grid.best_score_)\n",
    "    \n",
    "    print(\"\\n The best parameters across ALL searched params:\\n\",\n",
    "          grid.best_params_)\n",
    "    \n",
    "    print(\"\\n ========================================================\")"
   ]
  },
  {
   "cell_type": "markdown",
   "metadata": {},
   "source": [
    "### Parametros encontrados con grid-searchCV"
   ]
  },
  {
   "cell_type": "code",
   "execution_count": 21,
   "metadata": {},
   "outputs": [],
   "source": [
    "# Initialize CatBoostRegressor\n",
    "model = CatBoostRegressor(iterations=200,\n",
    "                          learning_rate=0.06,\n",
    "                          depth=3,\n",
    "                          loss_function='RMSE')"
   ]
  },
  {
   "cell_type": "code",
   "execution_count": 22,
   "metadata": {},
   "outputs": [
    {
     "name": "stdout",
     "output_type": "stream",
     "text": [
      "0:\tlearn: 241313.5027376\ttotal: 37.3ms\tremaining: 7.41s\n",
      "1:\tlearn: 227025.4273686\ttotal: 69.7ms\tremaining: 6.89s\n",
      "2:\tlearn: 213605.9978127\ttotal: 101ms\tremaining: 6.66s\n",
      "3:\tlearn: 201004.8962790\ttotal: 138ms\tremaining: 6.79s\n",
      "4:\tlearn: 189172.7031875\ttotal: 176ms\tremaining: 6.87s\n",
      "5:\tlearn: 178064.8158656\ttotal: 218ms\tremaining: 7.06s\n",
      "6:\tlearn: 167637.7996794\ttotal: 253ms\tremaining: 6.99s\n",
      "7:\tlearn: 157852.0325157\ttotal: 289ms\tremaining: 6.93s\n",
      "8:\tlearn: 148670.4790013\ttotal: 324ms\tremaining: 6.87s\n",
      "9:\tlearn: 140057.7927552\ttotal: 356ms\tremaining: 6.76s\n",
      "10:\tlearn: 131980.5989618\ttotal: 388ms\tremaining: 6.67s\n",
      "11:\tlearn: 124407.2877926\ttotal: 421ms\tremaining: 6.59s\n",
      "12:\tlearn: 117309.0431970\ttotal: 459ms\tremaining: 6.6s\n",
      "13:\tlearn: 110658.7858645\ttotal: 494ms\tremaining: 6.56s\n",
      "14:\tlearn: 104430.8143347\ttotal: 525ms\tremaining: 6.48s\n",
      "15:\tlearn: 98600.9322058\ttotal: 559ms\tremaining: 6.43s\n",
      "16:\tlearn: 93146.1978971\ttotal: 592ms\tremaining: 6.38s\n",
      "17:\tlearn: 88045.7460593\ttotal: 631ms\tremaining: 6.38s\n",
      "18:\tlearn: 83278.7004609\ttotal: 669ms\tremaining: 6.37s\n",
      "19:\tlearn: 78827.0694700\ttotal: 706ms\tremaining: 6.35s\n",
      "20:\tlearn: 74672.7847436\ttotal: 744ms\tremaining: 6.34s\n",
      "21:\tlearn: 70799.8721662\ttotal: 778ms\tremaining: 6.29s\n",
      "22:\tlearn: 67192.2222589\ttotal: 813ms\tremaining: 6.26s\n",
      "23:\tlearn: 63834.9195567\ttotal: 857ms\tremaining: 6.29s\n",
      "24:\tlearn: 60713.9486342\ttotal: 902ms\tremaining: 6.31s\n",
      "25:\tlearn: 57816.1322690\ttotal: 938ms\tremaining: 6.28s\n",
      "26:\tlearn: 55129.0514892\ttotal: 975ms\tremaining: 6.25s\n",
      "27:\tlearn: 52640.8152215\ttotal: 1.01s\tremaining: 6.24s\n",
      "28:\tlearn: 50339.4131092\ttotal: 1.05s\tremaining: 6.2s\n",
      "29:\tlearn: 48214.5295030\ttotal: 1.09s\tremaining: 6.16s\n",
      "30:\tlearn: 46255.9761453\ttotal: 1.12s\tremaining: 6.13s\n",
      "31:\tlearn: 44453.4842853\ttotal: 1.16s\tremaining: 6.09s\n",
      "32:\tlearn: 42797.7761251\ttotal: 1.19s\tremaining: 6.04s\n",
      "33:\tlearn: 41279.6187792\ttotal: 1.23s\tremaining: 6.01s\n",
      "34:\tlearn: 39890.0137066\ttotal: 1.27s\tremaining: 5.99s\n",
      "35:\tlearn: 38620.6341301\ttotal: 1.31s\tremaining: 5.95s\n",
      "36:\tlearn: 37462.5571449\ttotal: 1.34s\tremaining: 5.91s\n",
      "37:\tlearn: 36408.9619975\ttotal: 1.38s\tremaining: 5.87s\n",
      "38:\tlearn: 35451.9552536\ttotal: 1.41s\tremaining: 5.83s\n",
      "39:\tlearn: 34584.4317215\ttotal: 1.44s\tremaining: 5.77s\n",
      "40:\tlearn: 33799.3772683\ttotal: 1.47s\tremaining: 5.72s\n",
      "41:\tlearn: 33090.1679919\ttotal: 1.51s\tremaining: 5.67s\n",
      "42:\tlearn: 32450.3125835\ttotal: 1.54s\tremaining: 5.62s\n",
      "43:\tlearn: 31873.7927326\ttotal: 1.58s\tremaining: 5.62s\n",
      "44:\tlearn: 31355.9003011\ttotal: 1.62s\tremaining: 5.58s\n",
      "45:\tlearn: 30890.8986824\ttotal: 1.66s\tremaining: 5.55s\n",
      "46:\tlearn: 30474.2602914\ttotal: 1.7s\tremaining: 5.52s\n",
      "47:\tlearn: 30101.1251043\ttotal: 1.73s\tremaining: 5.49s\n",
      "48:\tlearn: 29767.8439148\ttotal: 1.77s\tremaining: 5.46s\n",
      "49:\tlearn: 29469.7998489\ttotal: 1.81s\tremaining: 5.42s\n",
      "50:\tlearn: 29203.6409055\ttotal: 1.84s\tremaining: 5.37s\n",
      "51:\tlearn: 28965.1172410\ttotal: 1.87s\tremaining: 5.33s\n",
      "52:\tlearn: 28754.3248537\ttotal: 1.9s\tremaining: 5.28s\n",
      "53:\tlearn: 28564.5402822\ttotal: 1.94s\tremaining: 5.24s\n",
      "54:\tlearn: 28397.6113223\ttotal: 1.97s\tremaining: 5.2s\n",
      "55:\tlearn: 28249.2853295\ttotal: 2.01s\tremaining: 5.16s\n",
      "56:\tlearn: 28115.5477736\ttotal: 2.04s\tremaining: 5.13s\n",
      "57:\tlearn: 27998.6417330\ttotal: 2.08s\tremaining: 5.09s\n",
      "58:\tlearn: 27894.6520205\ttotal: 2.12s\tremaining: 5.06s\n",
      "59:\tlearn: 27800.8395487\ttotal: 2.16s\tremaining: 5.04s\n",
      "60:\tlearn: 27718.9333724\ttotal: 2.2s\tremaining: 5.02s\n",
      "61:\tlearn: 27646.4831318\ttotal: 2.24s\tremaining: 4.98s\n",
      "62:\tlearn: 27581.9162109\ttotal: 2.27s\tremaining: 4.95s\n",
      "63:\tlearn: 27523.9637819\ttotal: 2.3s\tremaining: 4.9s\n",
      "64:\tlearn: 27473.7624605\ttotal: 2.34s\tremaining: 4.85s\n",
      "65:\tlearn: 27429.1022534\ttotal: 2.37s\tremaining: 4.82s\n",
      "66:\tlearn: 27388.7779958\ttotal: 2.41s\tremaining: 4.78s\n",
      "67:\tlearn: 27353.4412245\ttotal: 2.44s\tremaining: 4.73s\n",
      "68:\tlearn: 27322.5490121\ttotal: 2.47s\tremaining: 4.69s\n",
      "69:\tlearn: 27293.8664604\ttotal: 2.5s\tremaining: 4.65s\n",
      "70:\tlearn: 27269.7643776\ttotal: 2.54s\tremaining: 4.61s\n",
      "71:\tlearn: 27248.1533069\ttotal: 2.58s\tremaining: 4.59s\n",
      "72:\tlearn: 27229.1703635\ttotal: 2.61s\tremaining: 4.55s\n",
      "73:\tlearn: 27211.8306946\ttotal: 2.65s\tremaining: 4.51s\n",
      "74:\tlearn: 27196.8655856\ttotal: 2.68s\tremaining: 4.47s\n",
      "75:\tlearn: 27183.8018593\ttotal: 2.71s\tremaining: 4.43s\n",
      "76:\tlearn: 27171.1153146\ttotal: 2.75s\tremaining: 4.39s\n",
      "77:\tlearn: 27160.3399407\ttotal: 2.78s\tremaining: 4.35s\n",
      "78:\tlearn: 27151.3306717\ttotal: 2.81s\tremaining: 4.31s\n",
      "79:\tlearn: 27143.0984410\ttotal: 2.85s\tremaining: 4.27s\n",
      "80:\tlearn: 27135.9880930\ttotal: 2.88s\tremaining: 4.23s\n",
      "81:\tlearn: 27129.4956295\ttotal: 2.91s\tremaining: 4.19s\n",
      "82:\tlearn: 27123.4739475\ttotal: 2.95s\tremaining: 4.15s\n",
      "83:\tlearn: 27118.1918185\ttotal: 2.98s\tremaining: 4.11s\n",
      "84:\tlearn: 27113.8093848\ttotal: 3.01s\tremaining: 4.07s\n",
      "85:\tlearn: 27109.6137857\ttotal: 3.04s\tremaining: 4.03s\n",
      "86:\tlearn: 27105.8109735\ttotal: 3.08s\tremaining: 3.99s\n",
      "87:\tlearn: 27102.5629484\ttotal: 3.11s\tremaining: 3.96s\n",
      "88:\tlearn: 27098.7333686\ttotal: 3.14s\tremaining: 3.92s\n",
      "89:\tlearn: 27096.2769068\ttotal: 3.17s\tremaining: 3.88s\n",
      "90:\tlearn: 27093.9050017\ttotal: 3.21s\tremaining: 3.85s\n",
      "91:\tlearn: 27088.9257244\ttotal: 3.25s\tremaining: 3.81s\n",
      "92:\tlearn: 27086.5909369\ttotal: 3.28s\tremaining: 3.77s\n",
      "93:\tlearn: 27085.0015576\ttotal: 3.31s\tremaining: 3.73s\n",
      "94:\tlearn: 27083.1920224\ttotal: 3.34s\tremaining: 3.69s\n",
      "95:\tlearn: 27080.4479265\ttotal: 3.38s\tremaining: 3.66s\n",
      "96:\tlearn: 27078.8973795\ttotal: 3.41s\tremaining: 3.62s\n",
      "97:\tlearn: 27077.3116670\ttotal: 3.45s\tremaining: 3.59s\n",
      "98:\tlearn: 27075.5674634\ttotal: 3.48s\tremaining: 3.55s\n",
      "99:\tlearn: 27074.1905165\ttotal: 3.51s\tremaining: 3.51s\n",
      "100:\tlearn: 27073.3040696\ttotal: 3.54s\tremaining: 3.47s\n",
      "101:\tlearn: 27071.4271289\ttotal: 3.58s\tremaining: 3.44s\n",
      "102:\tlearn: 27070.3991186\ttotal: 3.61s\tremaining: 3.4s\n",
      "103:\tlearn: 27067.9866727\ttotal: 3.65s\tremaining: 3.37s\n",
      "104:\tlearn: 27065.7810043\ttotal: 3.68s\tremaining: 3.33s\n",
      "105:\tlearn: 27065.1881949\ttotal: 3.71s\tremaining: 3.29s\n",
      "106:\tlearn: 27064.2290256\ttotal: 3.75s\tremaining: 3.25s\n",
      "107:\tlearn: 27063.7930369\ttotal: 3.79s\tremaining: 3.23s\n",
      "108:\tlearn: 27063.3080628\ttotal: 3.82s\tremaining: 3.19s\n",
      "109:\tlearn: 27062.5188484\ttotal: 3.86s\tremaining: 3.15s\n",
      "110:\tlearn: 27059.3181388\ttotal: 3.89s\tremaining: 3.12s\n",
      "111:\tlearn: 27059.0484943\ttotal: 3.93s\tremaining: 3.09s\n",
      "112:\tlearn: 27057.3952319\ttotal: 3.97s\tremaining: 3.06s\n",
      "113:\tlearn: 27054.2101550\ttotal: 4s\tremaining: 3.02s\n",
      "114:\tlearn: 27053.7445221\ttotal: 4.04s\tremaining: 2.98s\n",
      "115:\tlearn: 27053.1899333\ttotal: 4.07s\tremaining: 2.95s\n",
      "116:\tlearn: 27052.7862568\ttotal: 4.1s\tremaining: 2.91s\n",
      "117:\tlearn: 27052.0888664\ttotal: 4.13s\tremaining: 2.87s\n",
      "118:\tlearn: 27051.6022258\ttotal: 4.18s\tremaining: 2.85s\n",
      "119:\tlearn: 27050.7494412\ttotal: 4.23s\tremaining: 2.82s\n",
      "120:\tlearn: 27050.2153492\ttotal: 4.26s\tremaining: 2.78s\n",
      "121:\tlearn: 27049.3272668\ttotal: 4.3s\tremaining: 2.75s\n",
      "122:\tlearn: 27049.0302709\ttotal: 4.33s\tremaining: 2.71s\n",
      "123:\tlearn: 27048.4307235\ttotal: 4.37s\tremaining: 2.68s\n",
      "124:\tlearn: 27046.8908655\ttotal: 4.41s\tremaining: 2.64s\n",
      "125:\tlearn: 27046.7514375\ttotal: 4.44s\tremaining: 2.61s\n",
      "126:\tlearn: 27046.3617397\ttotal: 4.47s\tremaining: 2.57s\n",
      "127:\tlearn: 27046.0939020\ttotal: 4.5s\tremaining: 2.53s\n",
      "128:\tlearn: 27045.5929012\ttotal: 4.54s\tremaining: 2.5s\n",
      "129:\tlearn: 27045.1827563\ttotal: 4.57s\tremaining: 2.46s\n",
      "130:\tlearn: 27044.7235570\ttotal: 4.61s\tremaining: 2.43s\n",
      "131:\tlearn: 27042.4538163\ttotal: 4.65s\tremaining: 2.4s\n",
      "132:\tlearn: 27041.7481173\ttotal: 4.69s\tremaining: 2.36s\n",
      "133:\tlearn: 27041.4110638\ttotal: 4.73s\tremaining: 2.33s\n",
      "134:\tlearn: 27041.1126099\ttotal: 4.77s\tremaining: 2.3s\n",
      "135:\tlearn: 27040.9997842\ttotal: 4.8s\tremaining: 2.26s\n",
      "136:\tlearn: 27040.0597530\ttotal: 4.84s\tremaining: 2.23s\n",
      "137:\tlearn: 27039.7958930\ttotal: 4.87s\tremaining: 2.19s\n",
      "138:\tlearn: 27039.4823795\ttotal: 4.91s\tremaining: 2.15s\n",
      "139:\tlearn: 27039.1209209\ttotal: 4.94s\tremaining: 2.12s\n",
      "140:\tlearn: 27038.8127184\ttotal: 4.98s\tremaining: 2.08s\n",
      "141:\tlearn: 27038.5501042\ttotal: 5.02s\tremaining: 2.05s\n",
      "142:\tlearn: 27038.2393686\ttotal: 5.05s\tremaining: 2.01s\n",
      "143:\tlearn: 27038.0855986\ttotal: 5.08s\tremaining: 1.98s\n",
      "144:\tlearn: 27037.1431492\ttotal: 5.12s\tremaining: 1.94s\n",
      "145:\tlearn: 27036.7146715\ttotal: 5.16s\tremaining: 1.91s\n",
      "146:\tlearn: 27036.5328391\ttotal: 5.19s\tremaining: 1.87s\n",
      "147:\tlearn: 27036.3432215\ttotal: 5.22s\tremaining: 1.84s\n",
      "148:\tlearn: 27036.0380108\ttotal: 5.26s\tremaining: 1.8s\n",
      "149:\tlearn: 27035.8978672\ttotal: 5.29s\tremaining: 1.76s\n",
      "150:\tlearn: 27035.7600188\ttotal: 5.32s\tremaining: 1.73s\n",
      "151:\tlearn: 27033.7003815\ttotal: 5.36s\tremaining: 1.69s\n",
      "152:\tlearn: 27033.3164112\ttotal: 5.39s\tremaining: 1.66s\n",
      "153:\tlearn: 27032.7604694\ttotal: 5.42s\tremaining: 1.62s\n",
      "154:\tlearn: 27032.6150388\ttotal: 5.45s\tremaining: 1.58s\n",
      "155:\tlearn: 27032.1134387\ttotal: 5.49s\tremaining: 1.55s\n",
      "156:\tlearn: 27031.3364623\ttotal: 5.52s\tremaining: 1.51s\n",
      "157:\tlearn: 27031.2323939\ttotal: 5.55s\tremaining: 1.48s\n",
      "158:\tlearn: 27031.1095150\ttotal: 5.58s\tremaining: 1.44s\n",
      "159:\tlearn: 27030.7115227\ttotal: 5.62s\tremaining: 1.4s\n",
      "160:\tlearn: 27030.4245039\ttotal: 5.66s\tremaining: 1.37s\n",
      "161:\tlearn: 27030.3047831\ttotal: 5.69s\tremaining: 1.33s\n",
      "162:\tlearn: 27030.1503443\ttotal: 5.72s\tremaining: 1.3s\n",
      "163:\tlearn: 27030.0628044\ttotal: 5.76s\tremaining: 1.26s\n",
      "164:\tlearn: 27029.3269422\ttotal: 5.79s\tremaining: 1.23s\n",
      "165:\tlearn: 27028.9668234\ttotal: 5.83s\tremaining: 1.19s\n",
      "166:\tlearn: 27027.1719202\ttotal: 5.86s\tremaining: 1.16s\n",
      "167:\tlearn: 27026.9480532\ttotal: 5.89s\tremaining: 1.12s\n",
      "168:\tlearn: 27026.7728548\ttotal: 5.92s\tremaining: 1.09s\n",
      "169:\tlearn: 27026.4683810\ttotal: 5.96s\tremaining: 1.05s\n",
      "170:\tlearn: 27024.5965950\ttotal: 6s\tremaining: 1.02s\n",
      "171:\tlearn: 27023.8291330\ttotal: 6.03s\tremaining: 982ms\n",
      "172:\tlearn: 27023.6299704\ttotal: 6.08s\tremaining: 948ms\n",
      "173:\tlearn: 27023.0313936\ttotal: 6.11s\tremaining: 913ms\n",
      "174:\tlearn: 27022.8377644\ttotal: 6.16s\tremaining: 880ms\n",
      "175:\tlearn: 27022.5182983\ttotal: 6.2s\tremaining: 845ms\n",
      "176:\tlearn: 27022.3603632\ttotal: 6.23s\tremaining: 809ms\n",
      "177:\tlearn: 27022.1065308\ttotal: 6.26s\tremaining: 774ms\n",
      "178:\tlearn: 27020.9950265\ttotal: 6.29s\tremaining: 738ms\n",
      "179:\tlearn: 27020.6208784\ttotal: 6.33s\tremaining: 704ms\n",
      "180:\tlearn: 27020.4935658\ttotal: 6.36s\tremaining: 668ms\n",
      "181:\tlearn: 27019.9577344\ttotal: 6.4s\tremaining: 633ms\n",
      "182:\tlearn: 27019.5312574\ttotal: 6.43s\tremaining: 598ms\n",
      "183:\tlearn: 27019.3351470\ttotal: 6.47s\tremaining: 562ms\n",
      "184:\tlearn: 27019.0191392\ttotal: 6.5s\tremaining: 527ms\n",
      "185:\tlearn: 27018.8445992\ttotal: 6.54s\tremaining: 492ms\n",
      "186:\tlearn: 27018.3085884\ttotal: 6.57s\tremaining: 457ms\n",
      "187:\tlearn: 27017.7830086\ttotal: 6.6s\tremaining: 422ms\n",
      "188:\tlearn: 27017.1430393\ttotal: 6.64s\tremaining: 386ms\n",
      "189:\tlearn: 27016.7316407\ttotal: 6.67s\tremaining: 351ms\n",
      "190:\tlearn: 27016.5377267\ttotal: 6.7s\tremaining: 316ms\n",
      "191:\tlearn: 27015.7779838\ttotal: 6.74s\tremaining: 281ms\n",
      "192:\tlearn: 27015.5171653\ttotal: 6.77s\tremaining: 246ms\n",
      "193:\tlearn: 27014.5730978\ttotal: 6.8s\tremaining: 210ms\n",
      "194:\tlearn: 27014.3666163\ttotal: 6.83s\tremaining: 175ms\n",
      "195:\tlearn: 27014.1207727\ttotal: 6.86s\tremaining: 140ms\n",
      "196:\tlearn: 27013.9057104\ttotal: 6.89s\tremaining: 105ms\n",
      "197:\tlearn: 27013.1261382\ttotal: 6.93s\tremaining: 70ms\n",
      "198:\tlearn: 27012.7678710\ttotal: 6.96s\tremaining: 35ms\n",
      "199:\tlearn: 27012.2070362\ttotal: 7s\tremaining: 0us\n"
     ]
    },
    {
     "data": {
      "text/plain": [
       "<catboost.core.CatBoostRegressor at 0x11bbd8d0>"
      ]
     },
     "execution_count": 22,
     "metadata": {},
     "output_type": "execute_result"
    }
   ],
   "source": [
    "# Fit model\n",
    "model.fit(X, Y)"
   ]
  },
  {
   "cell_type": "code",
   "execution_count": 24,
   "metadata": {},
   "outputs": [],
   "source": [
    "preds = model.predict(Z)"
   ]
  },
  {
   "cell_type": "markdown",
   "metadata": {},
   "source": [
    "### Calculamos el RMSE"
   ]
  },
  {
   "cell_type": "code",
   "execution_count": 25,
   "metadata": {},
   "outputs": [],
   "source": [
    "from sklearn.metrics import mean_squared_error"
   ]
  },
  {
   "cell_type": "code",
   "execution_count": 26,
   "metadata": {},
   "outputs": [
    {
     "name": "stdout",
     "output_type": "stream",
     "text": [
      "RMSE: 25505.063300\n"
     ]
    }
   ],
   "source": [
    "rmse = np.sqrt( mean_squared_error(sc_24_26, preds) )\n",
    "print(\"RMSE: %f\" % (rmse) )"
   ]
  },
  {
   "cell_type": "code",
   "execution_count": null,
   "metadata": {},
   "outputs": [],
   "source": []
  }
 ],
 "metadata": {
  "kernelspec": {
   "display_name": "Python 3",
   "language": "python",
   "name": "python3"
  },
  "language_info": {
   "codemirror_mode": {
    "name": "ipython",
    "version": 3
   },
   "file_extension": ".py",
   "mimetype": "text/x-python",
   "name": "python",
   "nbconvert_exporter": "python",
   "pygments_lexer": "ipython3",
   "version": "3.7.3"
  }
 },
 "nbformat": 4,
 "nbformat_minor": 2
}
