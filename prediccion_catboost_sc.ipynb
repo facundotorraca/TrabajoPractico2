{
 "cells": [
  {
   "cell_type": "code",
   "execution_count": 16,
   "metadata": {},
   "outputs": [],
   "source": [
    "import pandas as pd\n",
    "import numpy as np"
   ]
  },
  {
   "cell_type": "code",
   "execution_count": 17,
   "metadata": {},
   "outputs": [],
   "source": [
    "from catboost import CatBoostRegressor"
   ]
  },
  {
   "cell_type": "code",
   "execution_count": 18,
   "metadata": {},
   "outputs": [],
   "source": [
    "from catboost import CatBoostClassifier"
   ]
  },
  {
   "cell_type": "code",
   "execution_count": 37,
   "metadata": {},
   "outputs": [],
   "source": [
    "from sklearn.metrics import mean_squared_error"
   ]
  },
  {
   "cell_type": "code",
   "execution_count": 4,
   "metadata": {},
   "outputs": [],
   "source": [
    "loc_lbl = r\"D:\\TP2_Machine_Learning\\Labels\""
   ]
  },
  {
   "cell_type": "code",
   "execution_count": 5,
   "metadata": {},
   "outputs": [],
   "source": [
    "loc_ftr = r\"D:\\TP2_Machine_Learning\\Features\\ftr_ins\""
   ]
  },
  {
   "cell_type": "code",
   "execution_count": 8,
   "metadata": {},
   "outputs": [],
   "source": [
    "loc_tr = r\"D:\\TP2_Machine_Learning\\Training Sets\""
   ]
  },
  {
   "cell_type": "code",
   "execution_count": 6,
   "metadata": {},
   "outputs": [],
   "source": [
    "ins_lb = pd.read_csv( loc_lbl + \"\\\\ins_lb.csv\", dtype = {\"obs_18_20\":\"bool\", \"obs_21_23\":\"bool\", \"obs_24_26\":\"bool\"} )"
   ]
  },
  {
   "cell_type": "markdown",
   "metadata": {},
   "source": [
    "### Filtro de manera que tenga los datos necesarios"
   ]
  },
  {
   "cell_type": "code",
   "execution_count": 11,
   "metadata": {},
   "outputs": [],
   "source": [
    "rh_18_20 = pd.read_csv( loc_tr + \"\\\\rh_18_20_sc.csv\" ); rh_18_20 = rh_18_20[\"ref_hash\"].drop_duplicates().tolist()\n",
    "rh_21_23 = pd.read_csv( loc_tr + \"\\\\rh_21_23_sc.csv\" ); rh_21_23 = rh_21_23[\"ref_hash\"].drop_duplicates().tolist()"
   ]
  },
  {
   "cell_type": "code",
   "execution_count": 12,
   "metadata": {},
   "outputs": [],
   "source": [
    "#rh_18_20 = pd.read_csv( r\"D:\\TP2_Machine_Learning\\Training Sets\\ins_18_20.csv\" ).rename( columns = {\"device_id\":\"ref_hash\"} ); rh_18_20 = rh_18_20.drop_duplicates(subset=[\"ref_hash\"])\n",
    "#rh_21_23 = pd.read_csv( r\"D:\\TP2_Machine_Learning\\Training Sets\\ins_21_23.csv\" ).rename( columns = {\"device_id\":\"ref_hash\"} ); rh_21_23 = rh_21_23.drop_duplicates(subset=[\"ref_hash\"])"
   ]
  },
  {
   "cell_type": "code",
   "execution_count": 13,
   "metadata": {},
   "outputs": [],
   "source": [
    "#rh_18_20 = rh_18_20.loc[:,['ref_hash']]\n",
    "#rh_21_23 = rh_21_23.loc[:,['ref_hash']]\n",
    "#rh_18_20.to_csv(r\"D:\\TP2_Machine_Learning\\Training Sets\\rh_18_20_sc.csv\", index = False)\n",
    "#rh_21_23.to_csv(r\"D:\\TP2_Machine_Learning\\Training Sets\\rh_21_23_sc.csv\", index = False)"
   ]
  },
  {
   "cell_type": "code",
   "execution_count": 14,
   "metadata": {},
   "outputs": [],
   "source": [
    "dt_18_20 = ins_lb.loc[ ins_lb[\"ref_hash\"].isin( rh_18_20 ), [\"ref_hash\"] ] #Datos del (18-20)\n",
    "sc_21_23 = ins_lb.loc[ ins_lb[\"ref_hash\"].isin( rh_18_20 ), [\"21_23_sc\"] ] #SC del (21-23)\n",
    "\n",
    "dt_21_23 = ins_lb.loc[ ins_lb[\"ref_hash\"].isin( rh_21_23 ), [\"ref_hash\"] ] #Datos del (21-23)\n",
    "sc_24_26 = ins_lb.loc[ ins_lb[\"ref_hash\"].isin( rh_21_23 ), [\"24_26_sc\"] ] #SC del (24-26)"
   ]
  },
  {
   "cell_type": "code",
   "execution_count": 15,
   "metadata": {},
   "outputs": [],
   "source": [
    "#sc_24_26"
   ]
  },
  {
   "cell_type": "markdown",
   "metadata": {},
   "source": [
    "# <span style=\"color:orange\">  Preparo los datos para predecir </span>\n",
    "Con los datos 21-23 predecimos \"24-26_sc\""
   ]
  },
  {
   "cell_type": "code",
   "execution_count": 19,
   "metadata": {},
   "outputs": [],
   "source": [
    "set_trn = ins_lb.loc[ ins_lb[\"ref_hash\"].isin( rh_18_20 ), [\"ref_hash\",\"21_23_sc\"] ]\n",
    "set_tst = ins_lb.loc[ ins_lb[\"ref_hash\"].isin( rh_21_23 ), [\"ref_hash\", \"24_26_sc\"] ]\n",
    "\n",
    "t_lim = 259200.00\n",
    "max_t = 200\n",
    "\n",
    "set_trn_loc = pd.concat( [ set_trn.loc[ set_trn[\"21_23_sc\"] < t_lim ], set_trn.loc[ set_trn[\"21_23_sc\"] == t_lim ].reset_index( drop = True ).loc[: max_t] ], axis = 0 ).sample(frac=1).reset_index(drop=True) \n",
    "set_tst_loc = pd.concat( [ set_tst.loc[ set_tst[\"24_26_sc\"] < t_lim ], set_tst.loc[ set_tst[\"24_26_sc\"] == t_lim ].reset_index( drop = True ).loc[: max_t] ], axis = 0 ).sample(frac=1).reset_index(drop=True) "
   ]
  },
  {
   "cell_type": "code",
   "execution_count": 20,
   "metadata": {},
   "outputs": [],
   "source": [
    "#x_clas = set_trn.loc[:,['ref_hash']].copy()\n",
    "#y_clas = set_trn.loc[:,['21_23_sc']].copy()\n",
    "#y_clas['compro'] = (y_clas['21_23_sc'] == y_clas['21_23_sc'].max()).astype('int8')\n",
    "\n",
    "#del y_clas['21_23_sc']\n",
    "\n",
    "#z_clas = set_tst.loc[:,['ref_hash']].copy()\n",
    "#w_clas = set_tst.loc[:,['24_26_sc']].copy()\n",
    "#w_clas['compro'] = (w_clas['24_26_sc'] == w_clas['24_26_sc'].max()).astype('int8')\n",
    "#del w_clas['24_26_sc']"
   ]
  },
  {
   "cell_type": "code",
   "execution_count": 21,
   "metadata": {},
   "outputs": [],
   "source": [
    "X_loc = set_trn_loc.loc[:,['ref_hash']] #Datos train\n",
    "Y_loc = set_trn_loc.loc[:,['21_23_sc']] #Label train\n",
    "\n",
    "Z_loc = set_tst_loc.loc[:,['ref_hash']] #Datos test\n",
    "W_loc = set_tst_loc.loc[:,['24_26_sc']] #Label test"
   ]
  },
  {
   "cell_type": "code",
   "execution_count": 22,
   "metadata": {},
   "outputs": [],
   "source": [
    "X_var = X_loc\n",
    "Y_var = Y_loc\n",
    "Z_var = Z_loc\n",
    "W_var = W_loc"
   ]
  },
  {
   "cell_type": "code",
   "execution_count": 23,
   "metadata": {},
   "outputs": [],
   "source": [
    "### Hacer features de ultima instalacion/subasta/evento, tiempo de instalacion (21-3, 4-10, 11-15, 16-20) y si hubieron subastas/eventos/clicks a la noche"
   ]
  },
  {
   "cell_type": "code",
   "execution_count": 24,
   "metadata": {},
   "outputs": [],
   "source": [
    "ftr_01_Z = pd.read_csv( loc_ftr + \"\\\\sin_hour_21_23.csv\" ) \n",
    "ftr_02_Z = pd.read_csv( loc_ftr + \"\\\\cant_ins_21_23.csv\" )\n",
    "ftr_03_Z = pd.read_csv( loc_ftr + \"\\\\cins_imp_21_23.csv\" )\n",
    "#ftr_04_Z = pd.read_csv( loc_ftr + \"\\\\cant_evt_21_23.csv\" ) #<-bad\n",
    "ftr_05_Z = pd.read_csv( loc_ftr + \"\\\\cant_auc_21_23.csv\" )\n",
    "#ftr_06_Z = pd.read_csv( loc_ftr + \"\\\\wifi_ins_21_23.csv\" ) #<-bad\n",
    "ftr_07_Z = pd.read_csv( loc_ftr + \"\\\\main_app_21_23.csv\" )\n",
    "ftr_08_Z = pd.read_csv( loc_ftr + \"\\\\type_ins_21_23.csv\" )\n",
    "ftr_09_Z = pd.read_csv( loc_ftr + \"\\\\ref_type_21_23.csv\" )\n",
    "#ftr_10_Z = pd.read_csv( loc_ftr + \"\\\\ip_encod_21_23.csv\" ) #<-bad\n",
    "ftr_11_Z = pd.read_csv( loc_ftr + \"\\\\cevt_atr_21_23.csv\" )\n",
    "ftr_12_Z = pd.read_csv( loc_ftr + \"\\\\kind_evt_21_23.csv\" )\n",
    "#ftr_13_Z = pd.read_csv( loc_ftr + \"\\\\frst_auc_21_23.csv\" ) #<-bad\n",
    "ftr_14_Z = pd.read_csv( loc_ftr + \"\\\\frst_evt_21_23.csv\" )\n",
    "ftr_15_Z = pd.read_csv( loc_ftr + \"\\\\frst_ins_21_23.csv\" )\n",
    "ftr_16_Z = pd.read_csv( loc_ftr + \"\\\\frst_clk_21_23.csv\" )\n",
    "ftr_17_Z = pd.read_csv( loc_ftr + \"\\\\frst_auc_21_23.csv\" )\n",
    "#ftr_18_Z = pd.read_csv( loc_ftr + \"\\\\hr_f_evt_21_23.csv\" ) #<-bad\n",
    "\n",
    "\n",
    "#ftr_19_Z = pd.read_csv( loc_ftr + \"\\\\last_ins_21_23.csv\" ) #<-bad\n",
    "#ftr_20_Z = pd.read_csv( loc_ftr + \"\\\\last_auc_21_23.csv\" ) #<-bad\n",
    "ftr_21_Z = pd.read_csv( loc_ftr + \"\\\\last_evt_21_23.csv\" )\n",
    "#ftr_22_Z = pd.read_csv( loc_ftr + \"\\\\last_clk_21_23.csv\" ) #<-bad\n",
    "#ftr_23_Z = pd.read_csv( loc_ftr + \"\\\\me_mt_1_ins_21_23.csv\" ) #<-bad\n",
    "#ftr_24_Z = pd.read_csv( loc_ftr + \"\\\\mt_1_ins_21_23.csv\" ) #<-bad\n",
    "\n",
    "#ftr_25_Z = pd.read_csv( loc_ftr + \"\\\\me_ins_night_21_23.csv\" ) #<-bad\n",
    "#ftr_26_Z = pd.read_csv( loc_ftr + \"\\\\ins_night_21_23.csv\" ) #<-bad\n",
    "#ftr_27_Z = pd.read_csv( loc_ftr + \"\\\\me_ins_morn_21_23.csv\" ) #<-bad\n",
    "#ftr_28_Z = pd.read_csv( loc_ftr + \"\\\\ins_morn_21_23.csv\" ) #<-bad\n",
    "#ftr_29_Z = pd.read_csv( loc_ftr + \"\\\\me_ins_midday_21_23.csv\" ) #<-bad\n",
    "#ftr_30_Z = pd.read_csv( loc_ftr + \"\\\\ins_midday_21_23.csv\" ) #<-bad\n",
    "#ftr_31_Z = pd.read_csv( loc_ftr + \"\\\\me_ins_after_21_23.csv\" ) #<-bad\n",
    "#ftr_32_Z = pd.read_csv( loc_ftr + \"\\\\ins_after_21_23.csv\" ) #<-bad\n"
   ]
  },
  {
   "cell_type": "code",
   "execution_count": 25,
   "metadata": {},
   "outputs": [],
   "source": [
    "Z_var = Z_var.merge( ftr_01_Z, how = \"inner\", on = \"ref_hash\" )\n",
    "Z_var = Z_var.merge( ftr_02_Z, how = \"inner\", on = \"ref_hash\" )\n",
    "Z_var = Z_var.merge( ftr_03_Z, how = \"inner\", on = \"ref_hash\" )\n",
    "#Z_var = Z_var.merge( ftr_04_Z, how = \"inner\", on = \"ref_hash\" ) #<- bad\n",
    "Z_var = Z_var.merge( ftr_05_Z, how = \"inner\", on = \"ref_hash\" )\n",
    "#Z_var = Z_var.merge( ftr_06_Z, how = \"inner\", on = \"ref_hash\" ) #<-bad\n",
    "Z_var = Z_var.merge( ftr_07_Z, how = \"inner\", on = \"ref_hash\" )\n",
    "Z_var = Z_var.merge( ftr_08_Z, how = \"inner\", on = \"ref_hash\" )\n",
    "Z_var = Z_var.merge( ftr_09_Z, how = \"inner\", on = \"ref_hash\" )\n",
    "#Z_var = Z_var.merge( ftr_10_Z, how = \"inner\", on = \"ref_hash\" ) #<-bad\n",
    "Z_var = Z_var.merge( ftr_11_Z, how = \"inner\", on = \"ref_hash\" )\n",
    "Z_var = Z_var.merge( ftr_12_Z, how = \"inner\", on = \"ref_hash\" )\n",
    "#Z_var = Z_var.merge( ftr_13_Z, how = \"inner\", on = \"ref_hash\" ) #<-bad\n",
    "Z_var = Z_var.merge( ftr_14_Z, how = \"inner\", on = \"ref_hash\" )\n",
    "Z_var = Z_var.merge( ftr_15_Z, how = \"inner\", on = \"ref_hash\" )\n",
    "Z_var = Z_var.merge( ftr_16_Z, how = \"inner\", on = \"ref_hash\" )\n",
    "Z_var = Z_var.merge( ftr_17_Z, how = \"inner\", on = \"ref_hash\" )\n",
    "#Z_var = Z_var.merge( ftr_18_Z, how = \"inner\", on = \"ref_hash\" ) #<-bad\n",
    "\n",
    "#Z_var = Z_var.merge( ftr_19_Z, how = \"inner\", on = \"ref_hash\" ) #<-bad\n",
    "#Z_var = Z_var.merge( ftr_20_Z, how = \"inner\", on = \"ref_hash\" ) #<-bad\n",
    "Z_var = Z_var.merge( ftr_21_Z, how = \"inner\", on = \"ref_hash\" )\n",
    "#Z_var = Z_var.merge( ftr_22_Z, how = \"inner\", on = \"ref_hash\" ) #<-bad\n",
    "#Z_var = Z_var.merge( ftr_23_Z, how = \"inner\", on = \"ref_hash\" ) #<-bad\n",
    "#Z_var = Z_var.merge( ftr_24_Z, how = \"inner\", on = \"ref_hash\" ) #<-bad\n",
    "\n",
    "#Z_var = Z_var.merge( ftr_25_Z, how = \"inner\", on = \"ref_hash\" ) #<-bad\n",
    "#Z_var = Z_var.merge( ftr_26_Z, how = \"inner\", on = \"ref_hash\" ) #<-bad\n",
    "#Z_var = Z_var.merge( ftr_27_Z, how = \"inner\", on = \"ref_hash\" ) #<-bad\n",
    "#Z_var = Z_var.merge( ftr_28_Z, how = \"inner\", on = \"ref_hash\" ) #<-bad\n",
    "#Z_var = Z_var.merge( ftr_29_Z, how = \"inner\", on = \"ref_hash\" ) #<-bad\n",
    "#Z_var = Z_var.merge( ftr_30_Z, how = \"inner\", on = \"ref_hash\" ) #<-bad\n",
    "#Z_var = Z_var.merge( ftr_31_Z, how = \"inner\", on = \"ref_hash\" ) #<-bad\n",
    "#Z_var = Z_var.merge( ftr_32_Z, how = \"inner\", on = \"ref_hash\" ) #<-bad\n"
   ]
  },
  {
   "cell_type": "markdown",
   "metadata": {},
   "source": [
    "# <span style=\"color:orange\">  Preparo los datos para entrenar </span>\n",
    "\n",
    "Con los datos 18-20 + \"21-23_sc\" entrenamos"
   ]
  },
  {
   "cell_type": "code",
   "execution_count": 26,
   "metadata": {},
   "outputs": [],
   "source": [
    "#Y = sc_21_23"
   ]
  },
  {
   "cell_type": "code",
   "execution_count": 27,
   "metadata": {},
   "outputs": [],
   "source": [
    "#X = dt_18_20"
   ]
  },
  {
   "cell_type": "markdown",
   "metadata": {},
   "source": [
    "### Agregamos los features"
   ]
  },
  {
   "cell_type": "code",
   "execution_count": 28,
   "metadata": {},
   "outputs": [],
   "source": [
    "ftr_01_X = pd.read_csv( loc_ftr + \"\\\\sin_hour_18_20.csv\" )\n",
    "ftr_02_X = pd.read_csv( loc_ftr + \"\\\\cant_ins_18_20.csv\" )\n",
    "ftr_03_X = pd.read_csv( loc_ftr + \"\\\\cins_imp_18_20.csv\" )\n",
    "#ftr_04_X = pd.read_csv( loc_ftr + \"\\\\cant_evt_18_20.csv\" ) #<- bad\n",
    "ftr_05_X = pd.read_csv( loc_ftr + \"\\\\cant_auc_18_20.csv\" )\n",
    "#ftr_06_X = pd.read_csv( loc_ftr + \"\\\\wifi_ins_18_20.csv\" ) #<-bad\n",
    "ftr_07_X = pd.read_csv( loc_ftr + \"\\\\main_app_18_20.csv\" )\n",
    "ftr_08_X = pd.read_csv( loc_ftr + \"\\\\type_ins_18_20.csv\" )\n",
    "ftr_09_X = pd.read_csv( loc_ftr + \"\\\\ref_type_18_20.csv\" )\n",
    "#ftr_10_X = pd.read_csv( loc_ftr + \"\\\\ip_encod_18_20.csv\" ) #<-bad\n",
    "ftr_11_X = pd.read_csv( loc_ftr + \"\\\\cevt_atr_18_20.csv\" )\n",
    "ftr_12_X = pd.read_csv( loc_ftr + \"\\\\kind_evt_18_20.csv\" )\n",
    "#ftr_13_X = pd.read_csv( loc_ftr + \"\\\\frst_auc_18_20.csv\" ) #<-bad\n",
    "ftr_14_X = pd.read_csv( loc_ftr + \"\\\\frst_evt_18_20.csv\" )\n",
    "ftr_15_X = pd.read_csv( loc_ftr + \"\\\\frst_ins_18_20.csv\" )\n",
    "ftr_16_X = pd.read_csv( loc_ftr + \"\\\\frst_clk_18_20.csv\" )\n",
    "ftr_17_X = pd.read_csv( loc_ftr + \"\\\\frst_auc_18_20.csv\" )\n",
    "#ftr_18_X = pd.read_csv( loc_ftr + \"\\\\hr_f_evt_18_20.csv\" ) #<-bad\n",
    "\n",
    "#ftr_19_X = pd.read_csv( loc_ftr + \"\\\\last_ins_18_20.csv\" ) #<-bad\n",
    "#ftr_20_X = pd.read_csv( loc_ftr + \"\\\\last_auc_18_20.csv\" ) #<-bad\n",
    "ftr_21_X = pd.read_csv( loc_ftr + \"\\\\last_evt_18_20.csv\" )\n",
    "#ftr_22_X = pd.read_csv( loc_ftr + \"\\\\last_clk_18_20.csv\" ) #<-bad\n",
    "#ftr_23_X = pd.read_csv( loc_ftr + \"\\\\me_mt_1_ins_18_20.csv\" ) #<-bad\n",
    "#ftr_24_X = pd.read_csv( loc_ftr + \"\\\\mt_1_ins_18_20.csv\" ) #<-bad\n",
    "\n",
    "#ftr_25_X = pd.read_csv( loc_ftr + \"\\\\me_ins_night_18_20.csv\" ) #<-bad\n",
    "#ftr_26_X = pd.read_csv( loc_ftr + \"\\\\ins_night_18_20.csv\" ) #<-bad\n",
    "#ftr_27_X = pd.read_csv( loc_ftr + \"\\\\me_ins_morn_18_20.csv\" ) #<-bad\n",
    "#ftr_28_X = pd.read_csv( loc_ftr + \"\\\\ins_morn_18_20.csv\" ) #<-bad\n",
    "#ftr_29_X = pd.read_csv( loc_ftr + \"\\\\me_ins_midday_18_20.csv\" ) #<-bad\n",
    "#ftr_30_X = pd.read_csv( loc_ftr + \"\\\\ins_midday_18_20.csv\" ) #<-bad\n",
    "#ftr_31_X = pd.read_csv( loc_ftr + \"\\\\me_ins_after_18_20.csv\" ) #<-bad\n",
    "#ftr_32_X = pd.read_csv( loc_ftr + \"\\\\ins_after_18_20.csv\" ) #<-bad\n"
   ]
  },
  {
   "cell_type": "code",
   "execution_count": 29,
   "metadata": {},
   "outputs": [],
   "source": [
    "X_var = X_var.merge( ftr_01_X, how = \"inner\", on = \"ref_hash\" )\n",
    "X_var = X_var.merge( ftr_02_X, how = \"inner\", on = \"ref_hash\" )\n",
    "X_var = X_var.merge( ftr_03_X, how = \"inner\", on = \"ref_hash\" )\n",
    "#X_var = X_var.merge( ftr_04_X, how = \"inner\", on = \"ref_hash\" ) #<- bad\n",
    "X_var = X_var.merge( ftr_05_X, how = \"inner\", on = \"ref_hash\" )\n",
    "#X_var = X_var.merge( ftr_06_X, how = \"inner\", on = \"ref_hash\" ) #<-bad\n",
    "X_var = X_var.merge( ftr_07_X, how = \"inner\", on = \"ref_hash\" )\n",
    "X_var = X_var.merge( ftr_08_X, how = \"inner\", on = \"ref_hash\" )\n",
    "X_var = X_var.merge( ftr_09_X, how = \"inner\", on = \"ref_hash\" )\n",
    "#X_var = X_var.merge( ftr_10_X, how = \"inner\", on = \"ref_hash\" ) #<-bad\n",
    "X_var = X_var.merge( ftr_11_X, how = \"inner\", on = \"ref_hash\" )\n",
    "X_var = X_var.merge( ftr_12_X, how = \"inner\", on = \"ref_hash\" )\n",
    "#X_var = X_var.merge( ftr_13_X, how = \"inner\", on = \"ref_hash\" ) #<-bad\n",
    "X_var = X_var.merge( ftr_14_X, how = \"inner\", on = \"ref_hash\" )\n",
    "X_var = X_var.merge( ftr_15_X, how = \"inner\", on = \"ref_hash\" )\n",
    "X_var = X_var.merge( ftr_16_X, how = \"inner\", on = \"ref_hash\" )\n",
    "X_var = X_var.merge( ftr_17_X, how = \"inner\", on = \"ref_hash\" )\n",
    "#X_var = X_var.merge( ftr_18_X, how = \"inner\", on = \"ref_hash\" ) #<-bad\n",
    "\n",
    "#X_var = X_var.merge( ftr_19_X, how = \"inner\", on = \"ref_hash\" ) #<-bad\n",
    "#X_var = X_var.merge( ftr_20_X, how = \"inner\", on = \"ref_hash\" ) #<-bad\n",
    "X_var = X_var.merge( ftr_21_X, how = \"inner\", on = \"ref_hash\" )\n",
    "#X_var = X_var.merge( ftr_22_X, how = \"inner\", on = \"ref_hash\" ) #<-bad\n",
    "#X_var = X_var.merge( ftr_23_X, how = \"inner\", on = \"ref_hash\" ) #<-bad\n",
    "#X_var = X_var.merge( ftr_24_X, how = \"inner\", on = \"ref_hash\" ) #<-bad\n",
    "\n",
    "#X_var = X_var.merge( ftr_25_X, how = \"inner\", on = \"ref_hash\" ) #<-bad\n",
    "#X_var = X_var.merge( ftr_26_X, how = \"inner\", on = \"ref_hash\" ) #<-bad\n",
    "#X_var = X_var.merge( ftr_27_X, how = \"inner\", on = \"ref_hash\" ) #<-bad\n",
    "#X_var = X_var.merge( ftr_28_X, how = \"inner\", on = \"ref_hash\" ) #<-bad\n",
    "#X_var = X_var.merge( ftr_29_X, how = \"inner\", on = \"ref_hash\" ) #<-bad\n",
    "#X_var = X_var.merge( ftr_30_X, how = \"inner\", on = \"ref_hash\" ) #<-bad\n",
    "#X_var = X_var.merge( ftr_31_X, how = \"inner\", on = \"ref_hash\" ) #<-bad\n",
    "#X_var = X_var.merge( ftr_32_X, how = \"inner\", on = \"ref_hash\" ) #<-bad\n"
   ]
  },
  {
   "cell_type": "markdown",
   "metadata": {},
   "source": [
    "## Dropeamos los ref_hash (No estan codificados)"
   ]
  },
  {
   "cell_type": "code",
   "execution_count": 30,
   "metadata": {},
   "outputs": [],
   "source": [
    "X_var = X_var.drop( \"ref_hash\", axis = 1 )\n",
    "Z_var = Z_var.drop( \"ref_hash\", axis = 1 )"
   ]
  },
  {
   "cell_type": "markdown",
   "metadata": {},
   "source": [
    "# Prediccion con <span style=\"color:green\"> *CATBOOST*</span> "
   ]
  },
  {
   "cell_type": "code",
   "execution_count": 47,
   "metadata": {},
   "outputs": [],
   "source": [
    "#model = CatBoostClassifier(iterations=184,\n",
    "#                          learning_rate=0.06,\n",
    "#                          depth=2,\n",
    "#                          l2_leaf_reg=0,\n",
    "#                          random_strength=1,\n",
    "#                          bagging_temperature=1)\n",
    "\n",
    "#model.fit(X_var,Y_var)"
   ]
  },
  {
   "cell_type": "markdown",
   "metadata": {},
   "source": [
    "### X: Train Data, Y: Train Labels, Z: Test Data, sc_24_26: Test Labels"
   ]
  },
  {
   "cell_type": "markdown",
   "metadata": {},
   "source": [
    "### Record = iterations=300, learning_rate=0.06, depth=3, RMSE: 25506.739133"
   ]
  },
  {
   "cell_type": "code",
   "execution_count": 35,
   "metadata": {},
   "outputs": [],
   "source": [
    "from sklearn.model_selection import GridSearchCV\n",
    "from sklearn.metrics import mean_squared_error, make_scorer\n",
    "mse = make_scorer( mean_squared_error, greater_is_better = False ) "
   ]
  },
  {
   "cell_type": "code",
   "execution_count": null,
   "metadata": {},
   "outputs": [],
   "source": [
    "model = CatBoostRegressor(loss_function='RMSE')\n",
    "parameters = {'depth'         : [2,3,6],\n",
    "              'learning_rate' : [0.04, 0.06, 0.1],\n",
    "              'iterations'    : [50, 150, 300]\n",
    "                 }\n",
    "grid = GridSearchCV(estimator=model, scoring=mse ,param_grid = parameters, cv = 12, n_jobs=2)\n",
    "grid.fit(X_var, Y_var)  "
   ]
  },
  {
   "cell_type": "code",
   "execution_count": 86,
   "metadata": {},
   "outputs": [
    {
     "name": "stdout",
     "output_type": "stream",
     "text": [
      "\n",
      "========================================================\n",
      " Results from Grid Search \n",
      "========================================================\n",
      "\n",
      " The best estimator across ALL searched params:\n",
      " <catboost.core.CatBoostRegressor object at 0x0000000008EDAF60>\n",
      "\n",
      " The best score across ALL searched params:\n",
      " -6547007371.867459\n",
      "\n",
      " The best parameters across ALL searched params:\n",
      " {'depth': 2, 'iterations': 150, 'learning_rate': 0.04}\n",
      "\n",
      " ========================================================\n"
     ]
    }
   ],
   "source": [
    "    # Results from Grid Search\n",
    "    print(\"\\n========================================================\")\n",
    "    print(\" Results from Grid Search \" )\n",
    "    print(\"========================================================\")    \n",
    "    \n",
    "    print(\"\\n The best estimator across ALL searched params:\\n\",\n",
    "          grid.best_estimator_)\n",
    "    \n",
    "    print(\"\\n The best score across ALL searched params:\\n\",\n",
    "          grid.best_score_)\n",
    "    \n",
    "    print(\"\\n The best parameters across ALL searched params:\\n\",\n",
    "          grid.best_params_)\n",
    "    \n",
    "    print(\"\\n ========================================================\")"
   ]
  },
  {
   "cell_type": "code",
   "execution_count": null,
   "metadata": {},
   "outputs": [],
   "source": [
    "preds = grid.predict(Z_var)"
   ]
  },
  {
   "cell_type": "markdown",
   "metadata": {},
   "source": [
    "### Parametros encontrados con grid-searchCV"
   ]
  },
  {
   "cell_type": "markdown",
   "metadata": {},
   "source": [
    "## Record: iterations=184, learning_rate=0.06, depth=2, l2_leaf_reg=0, loss_function='RMSE' | RMSE: 80971.637759"
   ]
  },
  {
   "cell_type": "code",
   "execution_count": 31,
   "metadata": {},
   "outputs": [],
   "source": [
    "# Initialize CatBoostRegressor\n",
    "model = CatBoostRegressor(iterations=184,\n",
    "                          learning_rate=0.06,\n",
    "                          depth=2,\n",
    "                          l2_leaf_reg=0,\n",
    "                          random_strength=1,\n",
    "                          bagging_temperature=1,\n",
    "                          boosting_type='Plain',\n",
    "                          loss_function='RMSE')"
   ]
  },
  {
   "cell_type": "code",
   "execution_count": 32,
   "metadata": {},
   "outputs": [
    {
     "data": {
      "text/plain": [
       "<catboost.core.CatBoostRegressor at 0xa93a630>"
      ]
     },
     "execution_count": 32,
     "metadata": {},
     "output_type": "execute_result"
    }
   ],
   "source": [
    "# Fit model\n",
    "model.fit(X_var, Y_var, verbose=False)"
   ]
  },
  {
   "cell_type": "code",
   "execution_count": 33,
   "metadata": {},
   "outputs": [],
   "source": [
    "preds = model.predict(Z_var)"
   ]
  },
  {
   "cell_type": "markdown",
   "metadata": {},
   "source": [
    "### Calculamos el RMSE"
   ]
  },
  {
   "cell_type": "code",
   "execution_count": 36,
   "metadata": {},
   "outputs": [
    {
     "name": "stdout",
     "output_type": "stream",
     "text": [
      "RMSE: 81088.088307\n"
     ]
    }
   ],
   "source": [
    "rmse = np.sqrt( mean_squared_error(W_var, preds) )\n",
    "print(\"RMSE: %f\" % (rmse) )"
   ]
  },
  {
   "cell_type": "code",
   "execution_count": 99,
   "metadata": {},
   "outputs": [],
   "source": [
    "record = 80971.637759\n",
    "#76189.612816"
   ]
  },
  {
   "cell_type": "code",
   "execution_count": 100,
   "metadata": {},
   "outputs": [
    {
     "data": {
      "text/html": [
       "<div>\n",
       "<style scoped>\n",
       "    .dataframe tbody tr th:only-of-type {\n",
       "        vertical-align: middle;\n",
       "    }\n",
       "\n",
       "    .dataframe tbody tr th {\n",
       "        vertical-align: top;\n",
       "    }\n",
       "\n",
       "    .dataframe thead th {\n",
       "        text-align: right;\n",
       "    }\n",
       "</style>\n",
       "<table border=\"1\" class=\"dataframe\">\n",
       "  <thead>\n",
       "    <tr style=\"text-align: right;\">\n",
       "      <th></th>\n",
       "      <th>24_26_sc</th>\n",
       "    </tr>\n",
       "  </thead>\n",
       "  <tbody>\n",
       "    <tr>\n",
       "      <th>0</th>\n",
       "      <td>66544.061</td>\n",
       "    </tr>\n",
       "    <tr>\n",
       "      <th>1</th>\n",
       "      <td>242816.730</td>\n",
       "    </tr>\n",
       "    <tr>\n",
       "      <th>2</th>\n",
       "      <td>15815.836</td>\n",
       "    </tr>\n",
       "    <tr>\n",
       "      <th>3</th>\n",
       "      <td>156509.954</td>\n",
       "    </tr>\n",
       "    <tr>\n",
       "      <th>4</th>\n",
       "      <td>179214.971</td>\n",
       "    </tr>\n",
       "    <tr>\n",
       "      <th>5</th>\n",
       "      <td>187606.031</td>\n",
       "    </tr>\n",
       "    <tr>\n",
       "      <th>6</th>\n",
       "      <td>99968.580</td>\n",
       "    </tr>\n",
       "    <tr>\n",
       "      <th>7</th>\n",
       "      <td>189504.998</td>\n",
       "    </tr>\n",
       "    <tr>\n",
       "      <th>8</th>\n",
       "      <td>163602.929</td>\n",
       "    </tr>\n",
       "    <tr>\n",
       "      <th>9</th>\n",
       "      <td>188469.334</td>\n",
       "    </tr>\n",
       "  </tbody>\n",
       "</table>\n",
       "</div>"
      ],
      "text/plain": [
       "     24_26_sc\n",
       "0   66544.061\n",
       "1  242816.730\n",
       "2   15815.836\n",
       "3  156509.954\n",
       "4  179214.971\n",
       "5  187606.031\n",
       "6   99968.580\n",
       "7  189504.998\n",
       "8  163602.929\n",
       "9  188469.334"
      ]
     },
     "execution_count": 100,
     "metadata": {},
     "output_type": "execute_result"
    }
   ],
   "source": [
    "W_var.head(10)"
   ]
  },
  {
   "cell_type": "code",
   "execution_count": 102,
   "metadata": {},
   "outputs": [
    {
     "data": {
      "text/html": [
       "<div>\n",
       "<style scoped>\n",
       "    .dataframe tbody tr th:only-of-type {\n",
       "        vertical-align: middle;\n",
       "    }\n",
       "\n",
       "    .dataframe tbody tr th {\n",
       "        vertical-align: top;\n",
       "    }\n",
       "\n",
       "    .dataframe thead th {\n",
       "        text-align: right;\n",
       "    }\n",
       "</style>\n",
       "<table border=\"1\" class=\"dataframe\">\n",
       "  <thead>\n",
       "    <tr style=\"text-align: right;\">\n",
       "      <th></th>\n",
       "      <th>0</th>\n",
       "    </tr>\n",
       "  </thead>\n",
       "  <tbody>\n",
       "    <tr>\n",
       "      <th>0</th>\n",
       "      <td>93960.565875</td>\n",
       "    </tr>\n",
       "    <tr>\n",
       "      <th>1</th>\n",
       "      <td>130331.435826</td>\n",
       "    </tr>\n",
       "    <tr>\n",
       "      <th>2</th>\n",
       "      <td>136962.925372</td>\n",
       "    </tr>\n",
       "    <tr>\n",
       "      <th>3</th>\n",
       "      <td>123721.176582</td>\n",
       "    </tr>\n",
       "    <tr>\n",
       "      <th>4</th>\n",
       "      <td>127527.583930</td>\n",
       "    </tr>\n",
       "    <tr>\n",
       "      <th>5</th>\n",
       "      <td>119454.240646</td>\n",
       "    </tr>\n",
       "    <tr>\n",
       "      <th>6</th>\n",
       "      <td>118935.017388</td>\n",
       "    </tr>\n",
       "    <tr>\n",
       "      <th>7</th>\n",
       "      <td>127269.841466</td>\n",
       "    </tr>\n",
       "    <tr>\n",
       "      <th>8</th>\n",
       "      <td>133901.028691</td>\n",
       "    </tr>\n",
       "    <tr>\n",
       "      <th>9</th>\n",
       "      <td>122655.039075</td>\n",
       "    </tr>\n",
       "    <tr>\n",
       "      <th>10</th>\n",
       "      <td>131073.193534</td>\n",
       "    </tr>\n",
       "    <tr>\n",
       "      <th>11</th>\n",
       "      <td>135098.851671</td>\n",
       "    </tr>\n",
       "    <tr>\n",
       "      <th>12</th>\n",
       "      <td>138772.623134</td>\n",
       "    </tr>\n",
       "    <tr>\n",
       "      <th>13</th>\n",
       "      <td>125450.356079</td>\n",
       "    </tr>\n",
       "    <tr>\n",
       "      <th>14</th>\n",
       "      <td>115534.580514</td>\n",
       "    </tr>\n",
       "    <tr>\n",
       "      <th>15</th>\n",
       "      <td>115933.891355</td>\n",
       "    </tr>\n",
       "    <tr>\n",
       "      <th>16</th>\n",
       "      <td>113247.904347</td>\n",
       "    </tr>\n",
       "    <tr>\n",
       "      <th>17</th>\n",
       "      <td>133103.111368</td>\n",
       "    </tr>\n",
       "    <tr>\n",
       "      <th>18</th>\n",
       "      <td>120163.480587</td>\n",
       "    </tr>\n",
       "    <tr>\n",
       "      <th>19</th>\n",
       "      <td>84693.836795</td>\n",
       "    </tr>\n",
       "    <tr>\n",
       "      <th>20</th>\n",
       "      <td>124938.741023</td>\n",
       "    </tr>\n",
       "    <tr>\n",
       "      <th>21</th>\n",
       "      <td>126950.123720</td>\n",
       "    </tr>\n",
       "    <tr>\n",
       "      <th>22</th>\n",
       "      <td>129079.711994</td>\n",
       "    </tr>\n",
       "    <tr>\n",
       "      <th>23</th>\n",
       "      <td>120980.822996</td>\n",
       "    </tr>\n",
       "    <tr>\n",
       "      <th>24</th>\n",
       "      <td>117437.284759</td>\n",
       "    </tr>\n",
       "    <tr>\n",
       "      <th>25</th>\n",
       "      <td>135830.966456</td>\n",
       "    </tr>\n",
       "    <tr>\n",
       "      <th>26</th>\n",
       "      <td>120333.845869</td>\n",
       "    </tr>\n",
       "    <tr>\n",
       "      <th>27</th>\n",
       "      <td>131194.826374</td>\n",
       "    </tr>\n",
       "    <tr>\n",
       "      <th>28</th>\n",
       "      <td>130650.613665</td>\n",
       "    </tr>\n",
       "    <tr>\n",
       "      <th>29</th>\n",
       "      <td>132006.429900</td>\n",
       "    </tr>\n",
       "    <tr>\n",
       "      <th>...</th>\n",
       "      <td>...</td>\n",
       "    </tr>\n",
       "    <tr>\n",
       "      <th>3879</th>\n",
       "      <td>120667.065504</td>\n",
       "    </tr>\n",
       "    <tr>\n",
       "      <th>3880</th>\n",
       "      <td>133651.693371</td>\n",
       "    </tr>\n",
       "    <tr>\n",
       "      <th>3881</th>\n",
       "      <td>116857.822617</td>\n",
       "    </tr>\n",
       "    <tr>\n",
       "      <th>3882</th>\n",
       "      <td>120976.847951</td>\n",
       "    </tr>\n",
       "    <tr>\n",
       "      <th>3883</th>\n",
       "      <td>130757.803460</td>\n",
       "    </tr>\n",
       "    <tr>\n",
       "      <th>3884</th>\n",
       "      <td>120877.135802</td>\n",
       "    </tr>\n",
       "    <tr>\n",
       "      <th>3885</th>\n",
       "      <td>119288.683478</td>\n",
       "    </tr>\n",
       "    <tr>\n",
       "      <th>3886</th>\n",
       "      <td>120312.081025</td>\n",
       "    </tr>\n",
       "    <tr>\n",
       "      <th>3887</th>\n",
       "      <td>117664.929534</td>\n",
       "    </tr>\n",
       "    <tr>\n",
       "      <th>3888</th>\n",
       "      <td>122975.941310</td>\n",
       "    </tr>\n",
       "    <tr>\n",
       "      <th>3889</th>\n",
       "      <td>125483.115614</td>\n",
       "    </tr>\n",
       "    <tr>\n",
       "      <th>3890</th>\n",
       "      <td>116824.930009</td>\n",
       "    </tr>\n",
       "    <tr>\n",
       "      <th>3891</th>\n",
       "      <td>121670.276237</td>\n",
       "    </tr>\n",
       "    <tr>\n",
       "      <th>3892</th>\n",
       "      <td>131183.669166</td>\n",
       "    </tr>\n",
       "    <tr>\n",
       "      <th>3893</th>\n",
       "      <td>121629.361776</td>\n",
       "    </tr>\n",
       "    <tr>\n",
       "      <th>3894</th>\n",
       "      <td>125000.698480</td>\n",
       "    </tr>\n",
       "    <tr>\n",
       "      <th>3895</th>\n",
       "      <td>120259.187460</td>\n",
       "    </tr>\n",
       "    <tr>\n",
       "      <th>3896</th>\n",
       "      <td>129278.963490</td>\n",
       "    </tr>\n",
       "    <tr>\n",
       "      <th>3897</th>\n",
       "      <td>122448.832607</td>\n",
       "    </tr>\n",
       "    <tr>\n",
       "      <th>3898</th>\n",
       "      <td>128378.483769</td>\n",
       "    </tr>\n",
       "    <tr>\n",
       "      <th>3899</th>\n",
       "      <td>124346.373140</td>\n",
       "    </tr>\n",
       "    <tr>\n",
       "      <th>3900</th>\n",
       "      <td>133190.925695</td>\n",
       "    </tr>\n",
       "    <tr>\n",
       "      <th>3901</th>\n",
       "      <td>132220.218748</td>\n",
       "    </tr>\n",
       "    <tr>\n",
       "      <th>3902</th>\n",
       "      <td>121915.996643</td>\n",
       "    </tr>\n",
       "    <tr>\n",
       "      <th>3903</th>\n",
       "      <td>125308.402214</td>\n",
       "    </tr>\n",
       "    <tr>\n",
       "      <th>3904</th>\n",
       "      <td>118011.041849</td>\n",
       "    </tr>\n",
       "    <tr>\n",
       "      <th>3905</th>\n",
       "      <td>110712.885058</td>\n",
       "    </tr>\n",
       "    <tr>\n",
       "      <th>3906</th>\n",
       "      <td>122618.931737</td>\n",
       "    </tr>\n",
       "    <tr>\n",
       "      <th>3907</th>\n",
       "      <td>137969.010636</td>\n",
       "    </tr>\n",
       "    <tr>\n",
       "      <th>3908</th>\n",
       "      <td>122027.863497</td>\n",
       "    </tr>\n",
       "  </tbody>\n",
       "</table>\n",
       "<p>3909 rows × 1 columns</p>\n",
       "</div>"
      ],
      "text/plain": [
       "                  0\n",
       "0      93960.565875\n",
       "1     130331.435826\n",
       "2     136962.925372\n",
       "3     123721.176582\n",
       "4     127527.583930\n",
       "5     119454.240646\n",
       "6     118935.017388\n",
       "7     127269.841466\n",
       "8     133901.028691\n",
       "9     122655.039075\n",
       "10    131073.193534\n",
       "11    135098.851671\n",
       "12    138772.623134\n",
       "13    125450.356079\n",
       "14    115534.580514\n",
       "15    115933.891355\n",
       "16    113247.904347\n",
       "17    133103.111368\n",
       "18    120163.480587\n",
       "19     84693.836795\n",
       "20    124938.741023\n",
       "21    126950.123720\n",
       "22    129079.711994\n",
       "23    120980.822996\n",
       "24    117437.284759\n",
       "25    135830.966456\n",
       "26    120333.845869\n",
       "27    131194.826374\n",
       "28    130650.613665\n",
       "29    132006.429900\n",
       "...             ...\n",
       "3879  120667.065504\n",
       "3880  133651.693371\n",
       "3881  116857.822617\n",
       "3882  120976.847951\n",
       "3883  130757.803460\n",
       "3884  120877.135802\n",
       "3885  119288.683478\n",
       "3886  120312.081025\n",
       "3887  117664.929534\n",
       "3888  122975.941310\n",
       "3889  125483.115614\n",
       "3890  116824.930009\n",
       "3891  121670.276237\n",
       "3892  131183.669166\n",
       "3893  121629.361776\n",
       "3894  125000.698480\n",
       "3895  120259.187460\n",
       "3896  129278.963490\n",
       "3897  122448.832607\n",
       "3898  128378.483769\n",
       "3899  124346.373140\n",
       "3900  133190.925695\n",
       "3901  132220.218748\n",
       "3902  121915.996643\n",
       "3903  125308.402214\n",
       "3904  118011.041849\n",
       "3905  110712.885058\n",
       "3906  122618.931737\n",
       "3907  137969.010636\n",
       "3908  122027.863497\n",
       "\n",
       "[3909 rows x 1 columns]"
      ]
     },
     "execution_count": 102,
     "metadata": {},
     "output_type": "execute_result"
    }
   ],
   "source": [
    "pd.DataFrame(preds).head(10)"
   ]
  },
  {
   "cell_type": "code",
   "execution_count": null,
   "metadata": {},
   "outputs": [],
   "source": []
  }
 ],
 "metadata": {
  "kernelspec": {
   "display_name": "Python 3",
   "language": "python",
   "name": "python3"
  },
  "language_info": {
   "codemirror_mode": {
    "name": "ipython",
    "version": 3
   },
   "file_extension": ".py",
   "mimetype": "text/x-python",
   "name": "python",
   "nbconvert_exporter": "python",
   "pygments_lexer": "ipython3",
   "version": "3.7.3"
  }
 },
 "nbformat": 4,
 "nbformat_minor": 2
}
