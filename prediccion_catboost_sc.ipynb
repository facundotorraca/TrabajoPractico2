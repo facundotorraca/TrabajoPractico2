{
 "cells": [
  {
   "cell_type": "code",
   "execution_count": 1,
   "metadata": {},
   "outputs": [],
   "source": [
    "import pandas as pd\n",
    "import numpy as np"
   ]
  },
  {
   "cell_type": "code",
   "execution_count": 2,
   "metadata": {},
   "outputs": [],
   "source": [
    "from catboost import CatBoostRegressor"
   ]
  },
  {
   "cell_type": "code",
   "execution_count": 3,
   "metadata": {},
   "outputs": [],
   "source": [
    "from catboost import CatBoostClassifier"
   ]
  },
  {
   "cell_type": "code",
   "execution_count": 4,
   "metadata": {},
   "outputs": [],
   "source": [
    "from sklearn.metrics import mean_squared_error"
   ]
  },
  {
   "cell_type": "code",
   "execution_count": 5,
   "metadata": {},
   "outputs": [],
   "source": [
    "loc_lb = r\"D:\\TP2_Machine_Learning_v4\\Labels\""
   ]
  },
  {
   "cell_type": "code",
   "execution_count": 6,
   "metadata": {},
   "outputs": [],
   "source": [
    "loc_ftr = r\"D:\\TP2_Machine_Learning_v4\\Features\\FeaturesSC\""
   ]
  },
  {
   "cell_type": "code",
   "execution_count": 7,
   "metadata": {},
   "outputs": [],
   "source": [
    "loc_tr = r\"D:\\TP2_Machine_Learning_v4\\Training Sets\""
   ]
  },
  {
   "cell_type": "markdown",
   "metadata": {},
   "source": [
    "### Filtro de manera que tenga los datos necesarios"
   ]
  },
  {
   "cell_type": "code",
   "execution_count": 11,
   "metadata": {},
   "outputs": [],
   "source": [
    "lb_ins_21_23 = pd.read_csv( loc_lb + \"\\\\label_ins_21_23.csv\" );\n",
    "lb_ins_24_26 = pd.read_csv( loc_lb + \"\\\\label_ins_24_26.csv\" ); "
   ]
  },
  {
   "cell_type": "code",
   "execution_count": 13,
   "metadata": {},
   "outputs": [],
   "source": [
    "rh_trn = lb_ins_21_23[ [\"ref_hash\"] ]\n",
    "rh_tst = lb_ins_24_26[ [\"ref_hash\"] ]\n",
    "\n",
    "tg_trn = lb_ins_21_23[ [\"21_23_sc\"] ]\n",
    "tg_tst = lb_ins_24_26[ [\"24_26_sc\"] ]"
   ]
  },
  {
   "cell_type": "markdown",
   "metadata": {},
   "source": [
    "# <span style=\"color:orange\">  Preparo los datos para predecir </span>\n",
    "Con los datos 21-23 predecimos \"24-26_sc\""
   ]
  },
  {
   "cell_type": "code",
   "execution_count": 14,
   "metadata": {},
   "outputs": [],
   "source": [
    "X_loc = rh_trn.loc[:,['ref_hash']] #Datos train\n",
    "Y_loc = tg_trn.loc[:,['21_23_sc']] #Label train\n",
    "\n",
    "Z_loc = rh_tst.loc[:,['ref_hash']] #Datos test\n",
    "W_loc = tg_tst.loc[:,['24_26_sc']] #Label test"
   ]
  },
  {
   "cell_type": "code",
   "execution_count": 724,
   "metadata": {},
   "outputs": [],
   "source": [
    "X_var = X_loc\n",
    "Y_var = Y_loc\n",
    "Z_var = Z_loc\n",
    "W_var = W_loc"
   ]
  },
  {
   "cell_type": "code",
   "execution_count": 726,
   "metadata": {},
   "outputs": [],
   "source": [
    "ftr_01_Z = pd.read_csv( loc_ftr + \"\\\\hr_f_evt_tst.csv\" ) \n",
    "ftr_02_Z = pd.read_csv( loc_ftr + \"\\\\cant_evt_tst.csv\" ) \n",
    "#ftr_03_Z = pd.read_csv( loc_ftr + \"\\\\cevt_atr_tst.csv\" ) #<-bad\n",
    "ftr_04_Z = pd.read_csv( loc_ftr + \"\\\\frst_evt_tst.csv\" ) \n",
    "#ftr_05_Z = pd.read_csv( loc_ftr + \"\\\\kind_evt_tst.csv\" ) #<-bad\n",
    "ftr_06_Z = pd.read_csv( loc_ftr + \"\\\\mapp_evt_tst.csv\" )\n",
    "ftr_07_Z = pd.read_csv( loc_ftr + \"\\\\wifi_evt_tst.csv\" )\n",
    "ftr_08_Z = pd.read_csv( loc_ftr + \"\\\\last_evt_tst.csv\" ) \n",
    "ftr_09_Z = pd.read_csv( loc_ftr + \"\\\\evt_nght_tst.csv\" ) \n",
    "#ftr_10_Z = pd.read_csv( loc_ftr + \"\\\\evt_morn_tst.csv\" ) #<-bad\n",
    "#ftr_11_Z = pd.read_csv( loc_ftr + \"\\\\evt_mday_tst.csv\" ) #<-bad\n",
    "#ftr_12_Z = pd.read_csv( loc_ftr + \"\\\\evt_aftr_tst.csv\" ) #<-bad\n",
    "#ftr_13_Z = pd.read_csv( loc_ftr + \"\\\\tt_3_evt_tst.csv\" ) #<-bad\n",
    "ftr_14_Z = pd.read_csv( loc_ftr + \"\\\\top3_evt_tst.csv\" ) \n",
    "ftr_15_Z = pd.read_csv( loc_ftr + \"\\\\evt_a210_tst.csv\" ) \n",
    "#ftr_16_Z = pd.read_csv( loc_ftr + \"\\\\evt_id01_tst.csv\" ) #<-bad\n",
    "\n",
    "#ftr_17_Z = pd.read_csv( loc_ftr + \"\\\\wif_fevt_tst.csv\" ) #<-bad\n",
    "#ftr_18_Z = pd.read_csv( loc_ftr + \"\\\\wif_levt_tst.csv\" ) #<-bad\n",
    "ftr_19_Z = pd.read_csv( loc_ftr + \"\\\\knd_levt_tst.csv\" )\n",
    "#ftr_20_Z = pd.read_csv( loc_ftr + \"\\\\cevt_nig_tst.csv\" ) #<-bad\n",
    "#ftr_21_Z = pd.read_csv( loc_ftr + \"\\\\cevt_mor_tst.csv\" ) #<-bad\n",
    "#ftr_22_Z = pd.read_csv( loc_ftr + \"\\\\cevt_mid_tst.csv\" ) #<-bad\n",
    "#ftr_23_Z = pd.read_csv( loc_ftr + \"\\\\cevt_aft_tst.csv\" ) #<-bad\n",
    "#ftr_24_Z = pd.read_csv( loc_ftr + \"\\\\cevt_wat_tst.csv\" ) #<-bad\n",
    "ftr_25_Z = pd.read_csv( loc_ftr + \"\\\\mapw_evt_tst.csv\" ) \n",
    "ftr_26_Z = pd.read_csv( loc_ftr + \"\\\\cmapw_ev_tst.csv\" ) #<-bad\n",
    "\n",
    "\n",
    "#ftr_27_Z = pd.read_csv( loc_ftr + \"\\\\frst_clk_tst.csv\" ) #<-bad\n",
    "#ftr_28_Z = pd.read_csv( loc_ftr + \"\\\\last_clk_tst.csv\" ) #<-bad\n",
    "#ftr_29_Z = pd.read_csv( loc_ftr + \"\\\\clk_aftr_tst.csv\" ) #<-bad\n",
    "#ftr_30_Z = pd.read_csv( loc_ftr + \"\\\\clk_nght_tst.csv\" ) #<-bad\n",
    "#ftr_31_Z = pd.read_csv( loc_ftr + \"\\\\clk_mday_tst.csv\" ) #<-bad\n",
    "#ftr_32_Z = pd.read_csv( loc_ftr + \"\\\\clk_morn_tst.csv\" ) #<-bad\n",
    "\n",
    "#ftr_33_Z = pd.read_csv( loc_ftr + \"\\\\main_ahr_tst.csv\" ) #<-bad\n",
    "#ftr_34_Z = pd.read_csv( loc_ftr + \"\\\\hr_f_auc_tst.csv\" ) #<-bad\n",
    "#ftr_35_Z = pd.read_csv( loc_ftr + \"\\\\cant_auc_tst.csv\" ) #<-bad\n",
    "#ftr_36_Z = pd.read_csv( loc_ftr + \"\\\\frst_auc_tst.csv\" ) #<-bad\n",
    "#ftr_37_Z = pd.read_csv( loc_ftr + \"\\\\srce_auc_tst.csv\" ) #<-bad\n",
    "ftr_38_Z = pd.read_csv( loc_ftr + \"\\\\last_auc_tst.csv\" )\n",
    "#ftr_39_Z = pd.read_csv( loc_ftr + \"\\\\mas1_auc_tst.csv\" ) #<-bad\n",
    "#ftr_40_Z = pd.read_csv( loc_ftr + \"\\\\auc_nght_tst.csv\" ) #<-bad\n",
    "#ftr_41_Z = pd.read_csv( loc_ftr + \"\\\\auc_morn_tst.csv\" ) #<-bad\n",
    "#ftr_42_Z = pd.read_csv( loc_ftr + \"\\\\auc_mday_tst.csv\" ) #<-bad\n",
    "#ftr_43_Z = pd.read_csv( loc_ftr + \"\\\\auc_aftr_tst.csv\" ) #<-bad\n",
    "\n",
    "ftr_44_Z = pd.read_csv( loc_ftr + \"\\\\cant_ins_tst.csv\" ) #<-bad\n"
   ]
  },
  {
   "cell_type": "code",
   "execution_count": 727,
   "metadata": {},
   "outputs": [],
   "source": [
    "Z_var = Z_var.merge( ftr_01_Z, how = \"inner\", on = \"ref_hash\" )\n",
    "Z_var = Z_var.merge( ftr_02_Z, how = \"left\", on = \"ref_hash\" )\n",
    "#Z_var = Z_var.merge( ftr_03_Z, how = \"left\", on = \"ref_hash\" ) #<- bad\n",
    "Z_var = Z_var.merge( ftr_04_Z, how = \"left\", on = \"ref_hash\" )\n",
    "#Z_var = Z_var.merge( ftr_05_Z, how = \"left\", on = \"ref_hash\" ) #<-bad\n",
    "Z_var = Z_var.merge( ftr_06_Z, how = \"left\", on = \"ref_hash\" )\n",
    "Z_var = Z_var.merge( ftr_07_Z, how = \"left\", on = \"ref_hash\" )\n",
    "Z_var = Z_var.merge( ftr_08_Z, how = \"left\", on = \"ref_hash\" )\n",
    "Z_var = Z_var.merge( ftr_09_Z, how = \"left\", on = \"ref_hash\" )\n",
    "#Z_var = Z_var.merge( ftr_10_Z, how = \"left\", on = \"ref_hash\" ) #<-bad\n",
    "#Z_var = Z_var.merge( ftr_11_Z, how = \"left\", on = \"ref_hash\" ) #<-bad\n",
    "#Z_var = Z_var.merge( ftr_12_Z, how = \"left\", on = \"ref_hash\" ) #<-bad\n",
    "#Z_var = Z_var.merge( ftr_13_Z, how = \"left\", on = \"ref_hash\" ) #<-bad\n",
    "Z_var = Z_var.merge( ftr_14_Z, how = \"left\", on = \"ref_hash\" )\n",
    "Z_var = Z_var.merge( ftr_15_Z, how = \"left\", on = \"ref_hash\" )\n",
    "#Z_var = Z_var.merge( ftr_16_Z, how = \"left\", on = \"ref_hash\" ) #<-bad\n",
    "\n",
    "#Z_var = Z_var.merge( ftr_17_Z, how = \"left\", on = \"ref_hash\" ) #<-bad\n",
    "#Z_var = Z_var.merge( ftr_18_Z, how = \"left\", on = \"ref_hash\" ) #<-bad\n",
    "Z_var = Z_var.merge( ftr_19_Z, how = \"left\", on = \"ref_hash\" ) #<-bad\n",
    "#Z_var = Z_var.merge( ftr_20_Z, how = \"left\", on = \"ref_hash\" ) #<-bad\n",
    "#Z_var = Z_var.merge( ftr_21_Z, how = \"left\", on = \"ref_hash\" ) #<-bad\n",
    "#Z_var = Z_var.merge( ftr_22_Z, how = \"left\", on = \"ref_hash\" ) #<-bad\n",
    "#Z_var = Z_var.merge( ftr_23_Z, how = \"left\", on = \"ref_hash\" ) #<-bad\n",
    "#Z_var = Z_var.merge( ftr_24_Z, how = \"left\", on = \"ref_hash\" ) #<-bad\n",
    "Z_var = Z_var.merge( ftr_25_Z, how = \"left\", on = \"ref_hash\" ) \n",
    "Z_var = Z_var.merge( ftr_26_Z, how = \"left\", on = \"ref_hash\" ) #<-bad\n",
    "\n",
    "\n",
    "#Z_var = Z_var.merge( ftr_27_Z, how = \"left\", on = \"ref_hash\" ) #<-bad\n",
    "#Z_var = Z_var.merge( ftr_28_Z, how = \"left\", on = \"ref_hash\" ) #<-bad\n",
    "#Z_var = Z_var.merge( ftr_29_Z, how = \"left\", on = \"ref_hash\" ) #<-bad\n",
    "#Z_var = Z_var.merge( ftr_30_Z, how = \"left\", on = \"ref_hash\" ) #<-bad\n",
    "#Z_var = Z_var.merge( ftr_31_Z, how = \"left\", on = \"ref_hash\" ) #<-bad\n",
    "#Z_var = Z_var.merge( ftr_32_Z, how = \"left\", on = \"ref_hash\" ) #<-bad\n",
    "\n",
    "#Z_var = Z_var.merge( ftr_33_Z, how = \"left\", on = \"ref_hash\" ) #<-bad\n",
    "#Z_var = Z_var.merge( ftr_34_Z, how = \"left\", on = \"ref_hash\" ) #<-bad\n",
    "#Z_var = Z_var.merge( ftr_35_Z, how = \"left\", on = \"ref_hash\" ) #<-bad\n",
    "#Z_var = Z_var.merge( ftr_36_Z, how = \"left\", on = \"ref_hash\" ) #<-bad\n",
    "#Z_var = Z_var.merge( ftr_37_Z, how = \"left\", on = \"ref_hash\" ) #<-bad\n",
    "Z_var = Z_var.merge( ftr_38_Z, how = \"left\", on = \"ref_hash\" )\n",
    "#Z_var = Z_var.merge( ftr_39_Z, how = \"left\", on = \"ref_hash\" ) #<-bad\n",
    "#Z_var = Z_var.merge( ftr_40_Z, how = \"left\", on = \"ref_hash\" ) #<-bad\n",
    "#Z_var = Z_var.merge( ftr_41_Z, how = \"left\", on = \"ref_hash\" ) #<-bad\n",
    "#Z_var = Z_var.merge( ftr_42_Z, how = \"left\", on = \"ref_hash\" ) #<-bad\n",
    "#Z_var = Z_var.merge( ftr_43_Z, how = \"left\", on = \"ref_hash\" ) #<-bad\n",
    "\n",
    "Z_var = Z_var.merge( ftr_44_Z, how = \"left\", on = \"ref_hash\" ) #<-bad"
   ]
  },
  {
   "cell_type": "markdown",
   "metadata": {},
   "source": [
    "# <span style=\"color:orange\">  Preparo los datos para entrenar </span>\n",
    "\n",
    "Con los datos 18-20 + \"21-23_sc\" entrenamos"
   ]
  },
  {
   "cell_type": "markdown",
   "metadata": {},
   "source": [
    "### Agregamos los features"
   ]
  },
  {
   "cell_type": "code",
   "execution_count": 730,
   "metadata": {},
   "outputs": [],
   "source": [
    "ftr_01_X = pd.read_csv( loc_ftr + \"\\\\hr_f_evt_trn.csv\" ) \n",
    "ftr_02_X = pd.read_csv( loc_ftr + \"\\\\cant_evt_trn.csv\" ) \n",
    "#ftr_03_X = pd.read_csv( loc_ftr + \"\\\\cevt_atr_trn.csv\" ) #<-bad\n",
    "ftr_04_X = pd.read_csv( loc_ftr + \"\\\\frst_evt_trn.csv\" )\n",
    "#ftr_05_X = pd.read_csv( loc_ftr + \"\\\\kind_evt_trn.csv\" ) #<-bad\n",
    "ftr_06_X = pd.read_csv( loc_ftr + \"\\\\mapp_evt_trn.csv\" )\n",
    "ftr_07_X = pd.read_csv( loc_ftr + \"\\\\wifi_evt_trn.csv\" )\n",
    "ftr_08_X = pd.read_csv( loc_ftr + \"\\\\last_evt_trn.csv\" ) \n",
    "ftr_09_X = pd.read_csv( loc_ftr + \"\\\\evt_nght_trn.csv\" ) \n",
    "#ftr_10_X = pd.read_csv( loc_ftr + \"\\\\evt_morn_trn.csv\" ) #<-bad\n",
    "#ftr_11_X = pd.read_csv( loc_ftr + \"\\\\evt_mday_trn.csv\" ) #<-bad\n",
    "#ftr_12_X = pd.read_csv( loc_ftr + \"\\\\evt_aftr_trn.csv\" ) #<-bad\n",
    "#ftr_13_X = pd.read_csv( loc_ftr + \"\\\\tt_3_evt_trn.csv\" ) #<-bad\n",
    "ftr_14_X = pd.read_csv( loc_ftr + \"\\\\top3_evt_trn.csv\" ) \n",
    "ftr_15_X = pd.read_csv( loc_ftr + \"\\\\evt_a210_trn.csv\" ) \n",
    "#ftr_16_X = pd.read_csv( loc_ftr + \"\\\\evt_id01_trn.csv\" ) #<-bad \n",
    "\n",
    "#ftr_17_X = pd.read_csv( loc_ftr + \"\\\\wif_fevt_trn.csv\" ) #<-bad\n",
    "#ftr_18_X = pd.read_csv( loc_ftr + \"\\\\wif_levt_trn.csv\" ) #<-bad\n",
    "ftr_19_X = pd.read_csv( loc_ftr + \"\\\\knd_levt_trn.csv\" )\n",
    "#ftr_20_X = pd.read_csv( loc_ftr + \"\\\\cevt_nig_trn.csv\" ) #<-bad\n",
    "#ftr_21_X = pd.read_csv( loc_ftr + \"\\\\cevt_mor_trn.csv\" ) #<-bad\n",
    "#ftr_22_X = pd.read_csv( loc_ftr + \"\\\\cevt_mid_trn.csv\" ) #<-bad\n",
    "#ftr_23_X = pd.read_csv( loc_ftr + \"\\\\cevt_aft_trn.csv\" ) #<-bad\n",
    "#ftr_24_X = pd.read_csv( loc_ftr + \"\\\\cevt_wat_trn.csv\" ) #<-bad\n",
    "ftr_25_X = pd.read_csv( loc_ftr + \"\\\\mapw_evt_trn.csv\" )\n",
    "ftr_26_X = pd.read_csv( loc_ftr + \"\\\\cmapw_ev_trn.csv\" ) #<-bad\n",
    "\n",
    "\n",
    "\n",
    "\n",
    "\n",
    "#ftr_27_X = pd.read_csv( loc_ftr + \"\\\\frst_clk_trn.csv\" ) #<-bad\n",
    "#ftr_28_X = pd.read_csv( loc_ftr + \"\\\\last_clk_trn.csv\" ) #<-bad\n",
    "#ftr_29_X = pd.read_csv( loc_ftr + \"\\\\clk_aftr_trn.csv\" ) #<-bad\n",
    "#ftr_30_X = pd.read_csv( loc_ftr + \"\\\\clk_nght_trn.csv\" ) #<-bad\n",
    "#ftr_31_X = pd.read_csv( loc_ftr + \"\\\\clk_mday_trn.csv\" ) #<-bad\n",
    "#ftr_32_X = pd.read_csv( loc_ftr + \"\\\\clk_morn_trn.csv\" ) #<-bad\n",
    "\n",
    "#ftr_33_X = pd.read_csv( loc_ftr + \"\\\\main_ahr_trn.csv\" ) #<-bad\n",
    "#ftr_34_X = pd.read_csv( loc_ftr + \"\\\\hr_f_auc_trn.csv\" ) #<-bad\n",
    "#ftr_35_X = pd.read_csv( loc_ftr + \"\\\\cant_auc_trn.csv\" ) #<-bad\n",
    "#ftr_36_X = pd.read_csv( loc_ftr + \"\\\\frst_auc_trn.csv\" ) #<-bad\n",
    "#ftr_37_X = pd.read_csv( loc_ftr + \"\\\\srce_auc_trn.csv\" ) #<-bad\n",
    "ftr_38_X = pd.read_csv( loc_ftr + \"\\\\last_auc_trn.csv\" )\n",
    "#ftr_39_X = pd.read_csv( loc_ftr + \"\\\\mas1_auc_trn.csv\" ) #<-bad\n",
    "#ftr_40_X = pd.read_csv( loc_ftr + \"\\\\auc_nght_trn.csv\" ) #<-bad\n",
    "#ftr_41_X = pd.read_csv( loc_ftr + \"\\\\auc_morn_trn.csv\" ) #<-bad\n",
    "#ftr_42_X = pd.read_csv( loc_ftr + \"\\\\auc_mday_trn.csv\" ) #<-bad\n",
    "#ftr_43_X = pd.read_csv( loc_ftr + \"\\\\auc_aftr_trn.csv\" ) #<-bad\n",
    "\n",
    "ftr_44_X = pd.read_csv( loc_ftr + \"\\\\cant_ins_trn.csv\" ) #<-bad\n"
   ]
  },
  {
   "cell_type": "code",
   "execution_count": 731,
   "metadata": {},
   "outputs": [],
   "source": [
    "X_var = X_var.merge( ftr_01_X, how = \"left\", on = \"ref_hash\" )\n",
    "X_var = X_var.merge( ftr_02_X, how = \"left\", on = \"ref_hash\" )\n",
    "#X_var = X_var.merge( ftr_03_X, how = \"left\", on = \"ref_hash\" ) #<- bad\n",
    "X_var = X_var.merge( ftr_04_X, how = \"left\", on = \"ref_hash\" )\n",
    "#X_var = X_var.merge( ftr_05_X, how = \"left\", on = \"ref_hash\" ) #<-bad\n",
    "X_var = X_var.merge( ftr_06_X, how = \"left\", on = \"ref_hash\" )\n",
    "X_var = X_var.merge( ftr_07_X, how = \"left\", on = \"ref_hash\" )\n",
    "X_var = X_var.merge( ftr_08_X, how = \"left\", on = \"ref_hash\" )\n",
    "X_var = X_var.merge( ftr_09_X, how = \"left\", on = \"ref_hash\" )\n",
    "#X_var = X_var.merge( ftr_10_X, how = \"left\", on = \"ref_hash\" ) #<-bad\n",
    "#X_var = X_var.merge( ftr_11_X, how = \"left\", on = \"ref_hash\" ) #<-bad\n",
    "#X_var = X_var.merge( ftr_12_X, how = \"left\", on = \"ref_hash\" ) #<-bad\n",
    "#X_var = X_var.merge( ftr_13_X, how = \"left\", on = \"ref_hash\" ) #<-bad\n",
    "X_var = X_var.merge( ftr_14_X, how = \"left\", on = \"ref_hash\" )\n",
    "X_var = X_var.merge( ftr_15_X, how = \"left\", on = \"ref_hash\" )\n",
    "#X_var = X_var.merge( ftr_16_X, how = \"left\", on = \"ref_hash\" ) #<-bad\n",
    "\n",
    "\n",
    "#X_var = X_var.merge( ftr_17_X, how = \"left\", on = \"ref_hash\" ) #<-bad\n",
    "#X_var = X_var.merge( ftr_18_X, how = \"left\", on = \"ref_hash\" ) #<-bad\n",
    "X_var = X_var.merge( ftr_19_X, how = \"left\", on = \"ref_hash\" )\n",
    "#X_var = X_var.merge( ftr_20_X, how = \"left\", on = \"ref_hash\" ) #<-bad\n",
    "#X_var = X_var.merge( ftr_21_X, how = \"left\", on = \"ref_hash\" ) #<-bad\n",
    "#X_var = X_var.merge( ftr_22_X, how = \"left\", on = \"ref_hash\" ) #<-bad\n",
    "#X_var = X_var.merge( ftr_23_X, how = \"left\", on = \"ref_hash\" ) #<-bad\n",
    "#X_var = X_var.merge( ftr_24_X, how = \"left\", on = \"ref_hash\" ) #<-bad\n",
    "X_var = X_var.merge( ftr_25_X, how = \"left\", on = \"ref_hash\" ) \n",
    "X_var = X_var.merge( ftr_26_X, how = \"left\", on = \"ref_hash\" ) #<-bad\n",
    "\n",
    "\n",
    "#X_var = X_var.merge( ftr_27_X, how = \"left\", on = \"ref_hash\" ) #<-bad\n",
    "#X_var = X_var.merge( ftr_28_X, how = \"left\", on = \"ref_hash\" ) #<-bad\n",
    "#X_var = X_var.merge( ftr_29_X, how = \"left\", on = \"ref_hash\" )\n",
    "#X_var = X_var.merge( ftr_30_X, how = \"left\", on = \"ref_hash\" ) #<-bad\n",
    "#X_var = X_var.merge( ftr_31_X, how = \"left\", on = \"ref_hash\" ) #<-bad\n",
    "#X_var = X_var.merge( ftr_32_X, how = \"left\", on = \"ref_hash\" ) #<-bad\n",
    "\n",
    "#X_var = X_var.merge( ftr_33_X, how = \"left\", on = \"ref_hash\" ) #<-bad\n",
    "#X_var = X_var.merge( ftr_34_X, how = \"left\", on = \"ref_hash\" ) #<-bad\n",
    "#X_var = X_var.merge( ftr_35_X, how = \"left\", on = \"ref_hash\" ) #<-bad\n",
    "#X_var = X_var.merge( ftr_36_X, how = \"left\", on = \"ref_hash\" ) #<-bad\n",
    "#X_var = X_var.merge( ftr_37_X, how = \"left\", on = \"ref_hash\" ) #<-bad\n",
    "X_var = X_var.merge( ftr_38_X, how = \"left\", on = \"ref_hash\" ) #<-bad\n",
    "#X_var = X_var.merge( ftr_39_X, how = \"left\", on = \"ref_hash\" ) #<-bad\n",
    "#X_var = X_var.merge( ftr_40_X, how = \"left\", on = \"ref_hash\" ) #<-bad\n",
    "#X_var = X_var.merge( ftr_41_X, how = \"left\", on = \"ref_hash\" ) #<-bad\n",
    "#X_var = X_var.merge( ftr_42_X, how = \"left\", on = \"ref_hash\" ) #<-bad\n",
    "#X_var = X_var.merge( ftr_43_X, how = \"left\", on = \"ref_hash\" ) #<-bad\n",
    "\n",
    "X_var = X_var.merge( ftr_44_X, how = \"left\", on = \"ref_hash\" ) #<-bad\n"
   ]
  },
  {
   "cell_type": "markdown",
   "metadata": {},
   "source": [
    "## Dropeamos los ref_hash (No estan codificados)"
   ]
  },
  {
   "cell_type": "code",
   "execution_count": 732,
   "metadata": {},
   "outputs": [],
   "source": [
    "X_var = X_var.drop( \"ref_hash\", axis = 1 )\n",
    "Z_var = Z_var.drop( \"ref_hash\", axis = 1 )"
   ]
  },
  {
   "cell_type": "markdown",
   "metadata": {},
   "source": [
    "# Prediccion con <span style=\"color:green\"> *CATBOOST*</span> "
   ]
  },
  {
   "cell_type": "markdown",
   "metadata": {},
   "source": [
    "### Parametros encontrados con grid-searchCV"
   ]
  },
  {
   "cell_type": "markdown",
   "metadata": {},
   "source": [
    "## Record: iterations=184, learning_rate=0.06, depth=2, l2_leaf_reg=0, loss_function='RMSE' | RMSE: 80971.637759"
   ]
  },
  {
   "cell_type": "code",
   "execution_count": 733,
   "metadata": {},
   "outputs": [],
   "source": [
    "# Initialize CatBoostRegressor\n",
    "model = CatBoostRegressor(iterations=184,\n",
    "                          learning_rate=0.06,\n",
    "                          depth=4,\n",
    "                          l2_leaf_reg=0,\n",
    "                          random_strength=1,\n",
    "                          bagging_temperature=1,\n",
    "                          boosting_type='Plain',\n",
    "                          loss_function='RMSE')"
   ]
  },
  {
   "cell_type": "code",
   "execution_count": 734,
   "metadata": {},
   "outputs": [
    {
     "data": {
      "text/plain": [
       "<catboost.core.CatBoostRegressor at 0x6288ba8>"
      ]
     },
     "execution_count": 734,
     "metadata": {},
     "output_type": "execute_result"
    }
   ],
   "source": [
    "# Fit model\n",
    "model.fit(X_var, Y_var, verbose=False)"
   ]
  },
  {
   "cell_type": "code",
   "execution_count": 735,
   "metadata": {},
   "outputs": [],
   "source": [
    "preds = model.predict(Z_var)"
   ]
  },
  {
   "cell_type": "markdown",
   "metadata": {},
   "source": [
    "### Calculamos el RMSE"
   ]
  },
  {
   "cell_type": "code",
   "execution_count": 736,
   "metadata": {},
   "outputs": [
    {
     "name": "stdout",
     "output_type": "stream",
     "text": [
      "RMSE: 75182.058124\n"
     ]
    }
   ],
   "source": [
    "rmse = np.sqrt( mean_squared_error(W_var, preds) )\n",
    "print(\"RMSE: %f\" % (rmse) )"
   ]
  },
  {
   "cell_type": "code",
   "execution_count": null,
   "metadata": {},
   "outputs": [],
   "source": [
    "record = 75182.058124"
   ]
  },
  {
   "cell_type": "code",
   "execution_count": 740,
   "metadata": {},
   "outputs": [
    {
     "name": "stdout",
     "output_type": "stream",
     "text": [
      "media 142447.19015368732\n",
      "std 30851.846719049594\n"
     ]
    }
   ],
   "source": [
    "print(\"media \" + str(pd.DataFrame(preds)[0].mean()))\n",
    "print(\"std \" + str(pd.DataFrame(preds)[0].std()))"
   ]
  },
  {
   "cell_type": "markdown",
   "metadata": {},
   "source": [
    "### GridSeachCV"
   ]
  },
  {
   "cell_type": "markdown",
   "metadata": {},
   "source": [
    "### X: Train Data, Y: Train Labels, Z: Test Data, sc_24_26: Test Labels"
   ]
  },
  {
   "cell_type": "markdown",
   "metadata": {},
   "source": [
    "### Record = iterations=300, learning_rate=0.06, depth=3, RMSE: 25506.739133"
   ]
  },
  {
   "cell_type": "code",
   "execution_count": 35,
   "metadata": {},
   "outputs": [],
   "source": [
    "from sklearn.model_selection import GridSearchCV\n",
    "from sklearn.metrics import mean_squared_error, make_scorer\n",
    "mse = make_scorer( mean_squared_error, greater_is_better = False ) "
   ]
  },
  {
   "cell_type": "code",
   "execution_count": null,
   "metadata": {},
   "outputs": [],
   "source": [
    "model = CatBoostRegressor(loss_function='RMSE')\n",
    "parameters = {'depth'         : [2,3,6],\n",
    "              'learning_rate' : [0.04, 0.06, 0.1],\n",
    "              'iterations'    : [50, 150, 300]\n",
    "                 }\n",
    "grid = GridSearchCV(estimator=model, scoring=mse ,param_grid = parameters, cv = 12, n_jobs=2)\n",
    "grid.fit(X_var, Y_var)  "
   ]
  },
  {
   "cell_type": "code",
   "execution_count": 86,
   "metadata": {},
   "outputs": [
    {
     "name": "stdout",
     "output_type": "stream",
     "text": [
      "\n",
      "========================================================\n",
      " Results from Grid Search \n",
      "========================================================\n",
      "\n",
      " The best estimator across ALL searched params:\n",
      " <catboost.core.CatBoostRegressor object at 0x0000000008EDAF60>\n",
      "\n",
      " The best score across ALL searched params:\n",
      " -6547007371.867459\n",
      "\n",
      " The best parameters across ALL searched params:\n",
      " {'depth': 2, 'iterations': 150, 'learning_rate': 0.04}\n",
      "\n",
      " ========================================================\n"
     ]
    }
   ],
   "source": [
    "    # Results from Grid Search\n",
    "    print(\"\\n========================================================\")\n",
    "    print(\" Results from Grid Search \" )\n",
    "    print(\"========================================================\")    \n",
    "    \n",
    "    print(\"\\n The best estimator across ALL searched params:\\n\",\n",
    "          grid.best_estimator_)\n",
    "    \n",
    "    print(\"\\n The best score across ALL searched params:\\n\",\n",
    "          grid.best_score_)\n",
    "    \n",
    "    print(\"\\n The best parameters across ALL searched params:\\n\",\n",
    "          grid.best_params_)\n",
    "    \n",
    "    print(\"\\n ========================================================\")"
   ]
  }
 ],
 "metadata": {
  "kernelspec": {
   "display_name": "Python 3",
   "language": "python",
   "name": "python3"
  },
  "language_info": {
   "codemirror_mode": {
    "name": "ipython",
    "version": 3
   },
   "file_extension": ".py",
   "mimetype": "text/x-python",
   "name": "python",
   "nbconvert_exporter": "python",
   "pygments_lexer": "ipython3",
   "version": "3.7.3"
  }
 },
 "nbformat": 4,
 "nbformat_minor": 2
}
