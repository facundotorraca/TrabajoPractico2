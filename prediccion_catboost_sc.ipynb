{
 "cells": [
  {
   "cell_type": "code",
   "execution_count": 2,
   "metadata": {},
   "outputs": [],
   "source": [
    "import pandas as pd\n",
    "import numpy as np"
   ]
  },
  {
   "cell_type": "code",
   "execution_count": 3,
   "metadata": {},
   "outputs": [],
   "source": [
    "from catboost import CatBoostRegressor"
   ]
  },
  {
   "cell_type": "code",
   "execution_count": 4,
   "metadata": {},
   "outputs": [],
   "source": [
    "from catboost import CatBoostClassifier"
   ]
  },
  {
   "cell_type": "code",
   "execution_count": 5,
   "metadata": {},
   "outputs": [],
   "source": [
    "from sklearn.metrics import mean_squared_error"
   ]
  },
  {
   "cell_type": "code",
   "execution_count": 6,
   "metadata": {},
   "outputs": [],
   "source": [
    "loc_lbl = r\"D:\\TP2_Machine_Learning\\Labels\""
   ]
  },
  {
   "cell_type": "code",
   "execution_count": 7,
   "metadata": {},
   "outputs": [],
   "source": [
    "loc_ftr = r\"D:\\TP2_Machine_Learning\\Features\\ftr_ins\""
   ]
  },
  {
   "cell_type": "code",
   "execution_count": 8,
   "metadata": {},
   "outputs": [],
   "source": [
    "loc_tr = r\"D:\\TP2_Machine_Learning\\Training Sets\""
   ]
  },
  {
   "cell_type": "code",
   "execution_count": 9,
   "metadata": {},
   "outputs": [],
   "source": [
    "ins_lb = pd.read_csv( loc_lbl + \"\\\\ins_lb.csv\", dtype = {\"obs_18_20\":\"bool\", \"obs_21_23\":\"bool\", \"obs_24_26\":\"bool\"} )"
   ]
  },
  {
   "cell_type": "markdown",
   "metadata": {},
   "source": [
    "### Filtro de manera que tenga los datos necesarios"
   ]
  },
  {
   "cell_type": "code",
   "execution_count": 10,
   "metadata": {},
   "outputs": [],
   "source": [
    "rh_18_20 = pd.read_csv( loc_tr + \"\\\\rh_18_20_sc.csv\" ); rh_18_20 = rh_18_20[\"ref_hash\"].drop_duplicates().tolist()\n",
    "rh_21_23 = pd.read_csv( loc_tr + \"\\\\rh_21_23_sc.csv\" ); rh_21_23 = rh_21_23[\"ref_hash\"].drop_duplicates().tolist()"
   ]
  },
  {
   "cell_type": "code",
   "execution_count": 11,
   "metadata": {},
   "outputs": [],
   "source": [
    "#rh_18_20 = pd.read_csv( r\"D:\\TP2_Machine_Learning\\Training Sets\\ins_18_20.csv\" ).rename( columns = {\"device_id\":\"ref_hash\"} ); rh_18_20 = rh_18_20.drop_duplicates(subset=[\"ref_hash\"])\n",
    "#rh_21_23 = pd.read_csv( r\"D:\\TP2_Machine_Learning\\Training Sets\\ins_21_23.csv\" ).rename( columns = {\"device_id\":\"ref_hash\"} ); rh_21_23 = rh_21_23.drop_duplicates(subset=[\"ref_hash\"])"
   ]
  },
  {
   "cell_type": "code",
   "execution_count": 12,
   "metadata": {},
   "outputs": [],
   "source": [
    "#rh_18_20 = rh_18_20.loc[:,['ref_hash']]\n",
    "#rh_21_23 = rh_21_23.loc[:,['ref_hash']]\n",
    "#rh_18_20.to_csv(r\"D:\\TP2_Machine_Learning\\Training Sets\\rh_18_20_sc.csv\", index = False)\n",
    "#rh_21_23.to_csv(r\"D:\\TP2_Machine_Learning\\Training Sets\\rh_21_23_sc.csv\", index = False)"
   ]
  },
  {
   "cell_type": "code",
   "execution_count": 13,
   "metadata": {},
   "outputs": [],
   "source": [
    "dt_18_20 = ins_lb.loc[ ins_lb[\"ref_hash\"].isin( rh_18_20 ), [\"ref_hash\"] ] #Datos del (18-20)\n",
    "sc_21_23 = ins_lb.loc[ ins_lb[\"ref_hash\"].isin( rh_18_20 ), [\"21_23_sc\"] ] #SC del (21-23)\n",
    "\n",
    "dt_21_23 = ins_lb.loc[ ins_lb[\"ref_hash\"].isin( rh_21_23 ), [\"ref_hash\"] ] #Datos del (21-23)\n",
    "sc_24_26 = ins_lb.loc[ ins_lb[\"ref_hash\"].isin( rh_21_23 ), [\"24_26_sc\"] ] #SC del (24-26)"
   ]
  },
  {
   "cell_type": "code",
   "execution_count": 14,
   "metadata": {},
   "outputs": [],
   "source": [
    "#sc_24_26"
   ]
  },
  {
   "cell_type": "markdown",
   "metadata": {},
   "source": [
    "# <span style=\"color:orange\">  Preparo los datos para predecir </span>\n",
    "Con los datos 21-23 predecimos \"24-26_sc\""
   ]
  },
  {
   "cell_type": "code",
   "execution_count": 479,
   "metadata": {},
   "outputs": [],
   "source": [
    "set_trn = ins_lb.loc[ ins_lb[\"ref_hash\"].isin( rh_18_20 ), [\"ref_hash\",\"21_23_sc\"] ]\n",
    "set_tst = ins_lb.loc[ ins_lb[\"ref_hash\"].isin( rh_21_23 ), [\"ref_hash\", \"24_26_sc\"] ]\n",
    "\n",
    "t_lim = 259200.00\n",
    "max_t = 200\n",
    "\n",
    "set_trn_loc = pd.concat( [ set_trn.loc[ set_trn[\"21_23_sc\"] < t_lim ], set_trn.loc[ set_trn[\"21_23_sc\"] == t_lim ].reset_index( drop = True ).loc[: max_t] ], axis = 0 ).sample(frac=1).reset_index(drop=True) \n",
    "set_tst_loc = pd.concat( [ set_tst.loc[ set_tst[\"24_26_sc\"] < t_lim ], set_tst.loc[ set_tst[\"24_26_sc\"] == t_lim ].reset_index( drop = True ).loc[: max_t] ], axis = 0 ).sample(frac=1).reset_index(drop=True) "
   ]
  },
  {
   "cell_type": "code",
   "execution_count": 480,
   "metadata": {},
   "outputs": [],
   "source": [
    "#x_clas = set_trn.loc[:,['ref_hash']].copy()\n",
    "#y_clas = set_trn.loc[:,['21_23_sc']].copy()\n",
    "#y_clas['compro'] = (y_clas['21_23_sc'] == y_clas['21_23_sc'].max()).astype('int8')\n",
    "\n",
    "#del y_clas['21_23_sc']\n",
    "\n",
    "#z_clas = set_tst.loc[:,['ref_hash']].copy()\n",
    "#w_clas = set_tst.loc[:,['24_26_sc']].copy()\n",
    "#w_clas['compro'] = (w_clas['24_26_sc'] == w_clas['24_26_sc'].max()).astype('int8')\n",
    "#del w_clas['24_26_sc']"
   ]
  },
  {
   "cell_type": "code",
   "execution_count": 507,
   "metadata": {},
   "outputs": [],
   "source": [
    "X_loc = set_trn_loc.loc[:,['ref_hash']] #Datos train\n",
    "Y_loc = set_trn_loc.loc[:,['21_23_sc']] #Label train\n",
    "\n",
    "Z_loc = set_tst_loc.loc[:,['ref_hash']] #Datos test\n",
    "W_loc = set_tst_loc.loc[:,['24_26_sc']] #Label test"
   ]
  },
  {
   "cell_type": "code",
   "execution_count": 508,
   "metadata": {},
   "outputs": [],
   "source": [
    "X_var = X_loc\n",
    "Y_var = Y_loc\n",
    "Z_var = Z_loc\n",
    "W_var = W_loc"
   ]
  },
  {
   "cell_type": "code",
   "execution_count": 509,
   "metadata": {},
   "outputs": [],
   "source": [
    "### Hacer features de ultima instalacion/subasta/evento, tiempo de instalacion (21-3, 4-10, 11-15, 16-20) y si hubieron subastas/eventos/clicks a la noche"
   ]
  },
  {
   "cell_type": "code",
   "execution_count": 510,
   "metadata": {},
   "outputs": [],
   "source": [
    "ftr_01_Z = pd.read_csv( loc_ftr + \"\\\\sin_hour_21_23.csv\" ) \n",
    "ftr_02_Z = pd.read_csv( loc_ftr + \"\\\\cant_ins_21_23.csv\" ) #\n",
    "ftr_03_Z = pd.read_csv( loc_ftr + \"\\\\cins_imp_21_23.csv\" )\n",
    "#ftr_04_Z = pd.read_csv( loc_ftr + \"\\\\cant_evt_21_23.csv\" ) #<-bad\n",
    "ftr_05_Z = pd.read_csv( loc_ftr + \"\\\\cant_auc_21_23.csv\" ) \n",
    "#ftr_06_Z = pd.read_csv( loc_ftr + \"\\\\wifi_ins_21_23.csv\" ) #<-bad\n",
    "ftr_07_Z = pd.read_csv( loc_ftr + \"\\\\main_app_21_23.csv\" ) #\n",
    "ftr_08_Z = pd.read_csv( loc_ftr + \"\\\\type_ins_21_23.csv\" ) \n",
    "ftr_09_Z = pd.read_csv( loc_ftr + \"\\\\ref_type_21_23.csv\" ) #\n",
    "#ftr_10_Z = pd.read_csv( loc_ftr + \"\\\\ip_encod_21_23.csv\" ) #<-bad\n",
    "ftr_11_Z = pd.read_csv( loc_ftr + \"\\\\cevt_atr_21_23.csv\" )\n",
    "ftr_12_Z = pd.read_csv( loc_ftr + \"\\\\kind_evt_21_23.csv\" )\n",
    "#ftr_13_Z = pd.read_csv( loc_ftr + \"\\\\frst_auc_21_23.csv\" ) #<-bad\n",
    "ftr_14_Z = pd.read_csv( loc_ftr + \"\\\\frst_evt_21_23.csv\" ) #\n",
    "ftr_15_Z = pd.read_csv( loc_ftr + \"\\\\frst_ins_21_23.csv\" ) #\n",
    "ftr_16_Z = pd.read_csv( loc_ftr + \"\\\\frst_clk_21_23.csv\" ) #\n",
    "ftr_17_Z = pd.read_csv( loc_ftr + \"\\\\frst_auc_21_23.csv\" ) #\n",
    "#ftr_18_Z = pd.read_csv( loc_ftr + \"\\\\hr_f_evt_21_23.csv\" ) #<-bad\n",
    "\n",
    "#ftr_19_Z = pd.read_csv( loc_ftr + \"\\\\last_ins_21_23.csv\" ) #<-bad\n",
    "#ftr_20_Z = pd.read_csv( loc_ftr + \"\\\\last_auc_21_23.csv\" ) #<-bad\n",
    "ftr_21_Z = pd.read_csv( loc_ftr + \"\\\\last_evt_21_23.csv\" )\n",
    "#ftr_22_Z = pd.read_csv( loc_ftr + \"\\\\last_clk_21_23.csv\" ) #<-bad\n",
    "#ftr_23_Z = pd.read_csv( loc_ftr + \"\\\\me_mt_1_ins_21_23.csv\" ) #<-bad\n",
    "#ftr_24_Z = pd.read_csv( loc_ftr + \"\\\\mt_1_ins_21_23.csv\" ) #<-bad\n",
    "\n",
    "#ftr_25_Z = pd.read_csv( loc_ftr + \"\\\\me_ins_night_21_23.csv\" ) #<-bad\n",
    "#ftr_26_Z = pd.read_csv( loc_ftr + \"\\\\ins_night_21_23.csv\" ) #<-bad\n",
    "#ftr_27_Z = pd.read_csv( loc_ftr + \"\\\\me_ins_morn_21_23.csv\" ) #<-bad\n",
    "#ftr_28_Z = pd.read_csv( loc_ftr + \"\\\\ins_morn_21_23.csv\" ) #<-bad\n",
    "#ftr_29_Z = pd.read_csv( loc_ftr + \"\\\\me_ins_midday_21_23.csv\" ) #<-bad\n",
    "#ftr_30_Z = pd.read_csv( loc_ftr + \"\\\\ins_midday_21_23.csv\" ) #<-bad\n",
    "#ftr_31_Z = pd.read_csv( loc_ftr + \"\\\\me_ins_after_21_23.csv\" ) #<-bad\n",
    "#ftr_32_Z = pd.read_csv( loc_ftr + \"\\\\ins_after_21_23.csv\" ) #<-bad\n",
    "\n",
    "#ftr_33_Z = pd.read_csv( loc_ftr + \"\\\\me_auc_night_21_23.csv\" ) #<-bad\n",
    "#ftr_34_Z = pd.read_csv( loc_ftr + \"\\\\auc_night_21_23.csv\" ) #<-bad\n",
    "#ftr_35_Z = pd.read_csv( loc_ftr + \"\\\\me_auc_morn_21_23.csv\" ) #<-bad\n",
    "#ftr_36_Z = pd.read_csv( loc_ftr + \"\\\\auc_morn_21_23.csv\" ) #<-bad\n",
    "#ftr_37_Z = pd.read_csv( loc_ftr + \"\\\\me_auc_midday_21_23.csv\" ) #<-bad\n",
    "#ftr_38_Z = pd.read_csv( loc_ftr + \"\\\\auc_midday_21_23.csv\" ) #<-bad\n",
    "#ftr_39_Z = pd.read_csv( loc_ftr + \"\\\\me_auc_after_21_23.csv\" ) #<-bad\n",
    "#ftr_40_Z = pd.read_csv( loc_ftr + \"\\\\auc_after_21_23.csv\" ) #<-bad\n",
    "\n",
    "#ftr_41_Z = pd.read_csv( loc_ftr + \"\\\\me_evt_night_21_23.csv\" ) #<-bad\n",
    "#ftr_42_Z = pd.read_csv( loc_ftr + \"\\\\evt_night_21_23.csv\" ) #<-bad\n",
    "#ftr_43_Z = pd.read_csv( loc_ftr + \"\\\\me_evt_morn_21_23.csv\" ) #<-bad\n",
    "#ftr_44_Z = pd.read_csv( loc_ftr + \"\\\\evt_morn_21_23.csv\" ) #<-bad\n",
    "#ftr_45_Z = pd.read_csv( loc_ftr + \"\\\\me_evt_midday_21_23.csv\" ) #<-bad\n",
    "#ftr_46_Z = pd.read_csv( loc_ftr + \"\\\\evt_midday_21_23.csv\" ) #<-bad\n",
    "#ftr_47_Z = pd.read_csv( loc_ftr + \"\\\\me_evt_after_21_23.csv\" ) #<-bad\n",
    "#ftr_48_Z = pd.read_csv( loc_ftr + \"\\\\evt_after_21_23.csv\" ) #<-bad\n",
    "\n",
    "#ftr_49_Z = pd.read_csv( loc_ftr + \"\\\\me_clk_night_21_23.csv\" ) #<-bad\n",
    "#ftr_50_Z = pd.read_csv( loc_ftr + \"\\\\clk_night_21_23.csv\" ) #<-bad\n",
    "#ftr_51_Z = pd.read_csv( loc_ftr + \"\\\\me_clk_morn_21_23.csv\" ) #<-bad\n",
    "#ftr_52_Z = pd.read_csv( loc_ftr + \"\\\\clk_morn_21_23.csv\" ) #<-bad\n",
    "#ftr_53_Z = pd.read_csv( loc_ftr + \"\\\\me_clk_midday_21_23.csv\" ) #<-bad\n",
    "#ftr_54_Z = pd.read_csv( loc_ftr + \"\\\\clk_midday_21_23.csv\" ) #<-bad\n",
    "#ftr_55_Z = pd.read_csv( loc_ftr + \"\\\\me_clk_after_21_23.csv\" ) #<-bad\n",
    "#ftr_56_Z = pd.read_csv( loc_ftr + \"\\\\clk_after_21_23.csv\" ) #<-bad\n",
    "\n",
    "#ftr_57_Z = pd.read_csv( loc_ftr + \"\\\\me_mt_1_clk_21_23.csv\" ) #<-bad\n",
    "#ftr_58_Z = pd.read_csv( loc_ftr + \"\\\\mt_1_clk_21_23.csv\" ) #<-bad\n",
    "#ftr_59_Z = pd.read_csv( loc_ftr + \"\\\\me_mt_1_evt_21_23.csv\" ) #<-bad\n",
    "#ftr_60_Z = pd.read_csv( loc_ftr + \"\\\\mt_1_evt_21_23.csv\" ) #<-bad\n",
    "#ftr_61_Z = pd.read_csv( loc_ftr + \"\\\\me_mt_1_auc_21_23.csv\" ) #<-bad\n",
    "#ftr_62_Z = pd.read_csv( loc_ftr + \"\\\\mt_1_auc_21_23.csv\" ) #<-bad\n",
    "\n",
    "ftr_63_Z = pd.read_csv( loc_ftr + \"\\\\atbt_ins_21_23.csv\" ) #\n"
   ]
  },
  {
   "cell_type": "code",
   "execution_count": 511,
   "metadata": {},
   "outputs": [],
   "source": [
    "Z_var = Z_var.merge( ftr_01_Z, how = \"inner\", on = \"ref_hash\" )\n",
    "Z_var = Z_var.merge( ftr_02_Z, how = \"inner\", on = \"ref_hash\" )\n",
    "Z_var = Z_var.merge( ftr_03_Z, how = \"inner\", on = \"ref_hash\" )\n",
    "#Z_var = Z_var.merge( ftr_04_Z, how = \"inner\", on = \"ref_hash\" ) #<- bad\n",
    "Z_var = Z_var.merge( ftr_05_Z, how = \"inner\", on = \"ref_hash\" )\n",
    "#Z_var = Z_var.merge( ftr_06_Z, how = \"inner\", on = \"ref_hash\" ) #<-bad\n",
    "Z_var = Z_var.merge( ftr_07_Z, how = \"inner\", on = \"ref_hash\" )\n",
    "Z_var = Z_var.merge( ftr_08_Z, how = \"inner\", on = \"ref_hash\" )\n",
    "Z_var = Z_var.merge( ftr_09_Z, how = \"inner\", on = \"ref_hash\" )\n",
    "#Z_var = Z_var.merge( ftr_10_Z, how = \"inner\", on = \"ref_hash\" ) #<-bad\n",
    "Z_var = Z_var.merge( ftr_11_Z, how = \"inner\", on = \"ref_hash\" )\n",
    "Z_var = Z_var.merge( ftr_12_Z, how = \"inner\", on = \"ref_hash\" )\n",
    "#Z_var = Z_var.merge( ftr_13_Z, how = \"inner\", on = \"ref_hash\" ) #<-bad\n",
    "Z_var = Z_var.merge( ftr_14_Z, how = \"inner\", on = \"ref_hash\" )\n",
    "Z_var = Z_var.merge( ftr_15_Z, how = \"inner\", on = \"ref_hash\" )\n",
    "Z_var = Z_var.merge( ftr_16_Z, how = \"inner\", on = \"ref_hash\" )\n",
    "Z_var = Z_var.merge( ftr_17_Z, how = \"inner\", on = \"ref_hash\" )\n",
    "#Z_var = Z_var.merge( ftr_18_Z, how = \"inner\", on = \"ref_hash\" ) #<-bad\n",
    "\n",
    "#Z_var = Z_var.merge( ftr_19_Z, how = \"inner\", on = \"ref_hash\" ) #<-bad\n",
    "#Z_var = Z_var.merge( ftr_20_Z, how = \"inner\", on = \"ref_hash\" ) #<-bad\n",
    "Z_var = Z_var.merge( ftr_21_Z, how = \"inner\", on = \"ref_hash\" )\n",
    "#Z_var = Z_var.merge( ftr_22_Z, how = \"inner\", on = \"ref_hash\" ) #<-bad\n",
    "#Z_var = Z_var.merge( ftr_23_Z, how = \"inner\", on = \"ref_hash\" ) #<-bad\n",
    "#Z_var = Z_var.merge( ftr_24_Z, how = \"inner\", on = \"ref_hash\" ) #<-bad\n",
    "\n",
    "#Z_var = Z_var.merge( ftr_25_Z, how = \"inner\", on = \"ref_hash\" ) #<-bad\n",
    "#Z_var = Z_var.merge( ftr_26_Z, how = \"inner\", on = \"ref_hash\" ) #<-bad\n",
    "#Z_var = Z_var.merge( ftr_27_Z, how = \"inner\", on = \"ref_hash\" ) #<-bad\n",
    "#Z_var = Z_var.merge( ftr_28_Z, how = \"inner\", on = \"ref_hash\" ) #<-bad\n",
    "#Z_var = Z_var.merge( ftr_29_Z, how = \"inner\", on = \"ref_hash\" ) #<-bad\n",
    "#Z_var = Z_var.merge( ftr_30_Z, how = \"inner\", on = \"ref_hash\" ) #<-bad\n",
    "#Z_var = Z_var.merge( ftr_31_Z, how = \"inner\", on = \"ref_hash\" ) #<-bad\n",
    "#Z_var = Z_var.merge( ftr_32_Z, how = \"inner\", on = \"ref_hash\" ) #<-bad\n",
    "\n",
    "#Z_var = Z_var.merge( ftr_33_Z, how = \"inner\", on = \"ref_hash\" ) #<-bad\n",
    "#Z_var = Z_var.merge( ftr_34_Z, how = \"inner\", on = \"ref_hash\" ) #<-bad\n",
    "#Z_var = Z_var.merge( ftr_35_Z, how = \"inner\", on = \"ref_hash\" ) #<-bad\n",
    "#Z_var = Z_var.merge( ftr_36_Z, how = \"inner\", on = \"ref_hash\" ) #<-bad\n",
    "#Z_var = Z_var.merge( ftr_37_Z, how = \"inner\", on = \"ref_hash\" ) #<-bad\n",
    "#Z_var = Z_var.merge( ftr_38_Z, how = \"inner\", on = \"ref_hash\" ) #<-bad\n",
    "#Z_var = Z_var.merge( ftr_39_Z, how = \"inner\", on = \"ref_hash\" ) #<-bad\n",
    "#Z_var = Z_var.merge( ftr_40_Z, how = \"inner\", on = \"ref_hash\" ) #<-bad\n",
    "\n",
    "#Z_var = Z_var.merge( ftr_41_Z, how = \"inner\", on = \"ref_hash\" ) #<-bad\n",
    "#Z_var = Z_var.merge( ftr_42_Z, how = \"inner\", on = \"ref_hash\" ) #<-bad\n",
    "#Z_var = Z_var.merge( ftr_43_Z, how = \"inner\", on = \"ref_hash\" ) #<-bad\n",
    "#Z_var = Z_var.merge( ftr_44_Z, how = \"inner\", on = \"ref_hash\" ) #<-bad\n",
    "#Z_var = Z_var.merge( ftr_45_Z, how = \"inner\", on = \"ref_hash\" ) #<-bad\n",
    "#Z_var = Z_var.merge( ftr_46_Z, how = \"inner\", on = \"ref_hash\" ) #<-bad\n",
    "#Z_var = Z_var.merge( ftr_47_Z, how = \"inner\", on = \"ref_hash\" ) #<-bad\n",
    "#Z_var = Z_var.merge( ftr_48_Z, how = \"inner\", on = \"ref_hash\" ) #<-bad\n",
    "\n",
    "#Z_var = Z_var.merge( ftr_49_Z, how = \"inner\", on = \"ref_hash\" ) #<-bad\n",
    "#Z_var = Z_var.merge( ftr_50_Z, how = \"inner\", on = \"ref_hash\" ) #<-bad\n",
    "#Z_var = Z_var.merge( ftr_51_Z, how = \"inner\", on = \"ref_hash\" ) #<-bad\n",
    "#Z_var = Z_var.merge( ftr_52_Z, how = \"inner\", on = \"ref_hash\" ) #<-bad\n",
    "#Z_var = Z_var.merge( ftr_53_Z, how = \"inner\", on = \"ref_hash\" ) #<-bad\n",
    "#Z_var = Z_var.merge( ftr_54_Z, how = \"inner\", on = \"ref_hash\" ) #<-bad\n",
    "#Z_var = Z_var.merge( ftr_55_Z, how = \"inner\", on = \"ref_hash\" ) #<-bad\n",
    "#Z_var = Z_var.merge( ftr_56_Z, how = \"inner\", on = \"ref_hash\" ) #<-bad\n",
    "\n",
    "#Z_var = Z_var.merge( ftr_57_Z, how = \"inner\", on = \"ref_hash\" ) #<-bad\n",
    "#Z_var = Z_var.merge( ftr_58_Z, how = \"inner\", on = \"ref_hash\" ) #<-bad\n",
    "#Z_var = Z_var.merge( ftr_59_Z, how = \"inner\", on = \"ref_hash\" ) #<-bad\n",
    "#Z_var = Z_var.merge( ftr_60_Z, how = \"inner\", on = \"ref_hash\" ) #<-bad\n",
    "#Z_var = Z_var.merge( ftr_61_Z, how = \"inner\", on = \"ref_hash\" ) #<-bad\n",
    "#Z_var = Z_var.merge( ftr_62_Z, how = \"inner\", on = \"ref_hash\" ) #<-bad\n",
    "\n",
    "Z_var = Z_var.merge( ftr_63_Z, how = \"inner\", on = \"ref_hash\" )"
   ]
  },
  {
   "cell_type": "markdown",
   "metadata": {},
   "source": [
    "# <span style=\"color:orange\">  Preparo los datos para entrenar </span>\n",
    "\n",
    "Con los datos 18-20 + \"21-23_sc\" entrenamos"
   ]
  },
  {
   "cell_type": "code",
   "execution_count": 512,
   "metadata": {},
   "outputs": [],
   "source": [
    "#Y = sc_21_23"
   ]
  },
  {
   "cell_type": "code",
   "execution_count": 513,
   "metadata": {},
   "outputs": [],
   "source": [
    "#X = dt_18_20"
   ]
  },
  {
   "cell_type": "markdown",
   "metadata": {},
   "source": [
    "### Agregamos los features"
   ]
  },
  {
   "cell_type": "code",
   "execution_count": 514,
   "metadata": {},
   "outputs": [],
   "source": [
    "ftr_01_X = pd.read_csv( loc_ftr + \"\\\\sin_hour_18_20.csv\" )\n",
    "ftr_02_X = pd.read_csv( loc_ftr + \"\\\\cant_ins_18_20.csv\" )\n",
    "ftr_03_X = pd.read_csv( loc_ftr + \"\\\\cins_imp_18_20.csv\" )\n",
    "#ftr_04_X = pd.read_csv( loc_ftr + \"\\\\cant_evt_18_20.csv\" ) #<- bad\n",
    "ftr_05_X = pd.read_csv( loc_ftr + \"\\\\cant_auc_18_20.csv\" )\n",
    "#ftr_06_X = pd.read_csv( loc_ftr + \"\\\\wifi_ins_18_20.csv\" ) #<-bad\n",
    "ftr_07_X = pd.read_csv( loc_ftr + \"\\\\main_app_18_20.csv\" )\n",
    "ftr_08_X = pd.read_csv( loc_ftr + \"\\\\type_ins_18_20.csv\" )\n",
    "ftr_09_X = pd.read_csv( loc_ftr + \"\\\\ref_type_18_20.csv\" )\n",
    "#ftr_10_X = pd.read_csv( loc_ftr + \"\\\\ip_encod_18_20.csv\" ) #<-bad\n",
    "ftr_11_X = pd.read_csv( loc_ftr + \"\\\\cevt_atr_18_20.csv\" )\n",
    "ftr_12_X = pd.read_csv( loc_ftr + \"\\\\kind_evt_18_20.csv\" )\n",
    "#ftr_13_X = pd.read_csv( loc_ftr + \"\\\\frst_auc_18_20.csv\" ) #<-bad\n",
    "ftr_14_X = pd.read_csv( loc_ftr + \"\\\\frst_evt_18_20.csv\" )\n",
    "ftr_15_X = pd.read_csv( loc_ftr + \"\\\\frst_ins_18_20.csv\" )\n",
    "ftr_16_X = pd.read_csv( loc_ftr + \"\\\\frst_clk_18_20.csv\" )\n",
    "ftr_17_X = pd.read_csv( loc_ftr + \"\\\\frst_auc_18_20.csv\" )\n",
    "#ftr_18_X = pd.read_csv( loc_ftr + \"\\\\hr_f_evt_18_20.csv\" ) #<-bad\n",
    "\n",
    "#ftr_19_X = pd.read_csv( loc_ftr + \"\\\\last_ins_18_20.csv\" ) #<-bad\n",
    "#ftr_20_X = pd.read_csv( loc_ftr + \"\\\\last_auc_18_20.csv\" ) #<-bad\n",
    "ftr_21_X = pd.read_csv( loc_ftr + \"\\\\last_evt_18_20.csv\" )\n",
    "#ftr_22_X = pd.read_csv( loc_ftr + \"\\\\last_clk_18_20.csv\" ) #<-bad\n",
    "#ftr_23_X = pd.read_csv( loc_ftr + \"\\\\me_mt_1_ins_18_20.csv\" ) #<-bad\n",
    "#ftr_24_X = pd.read_csv( loc_ftr + \"\\\\mt_1_ins_18_20.csv\" ) #<-bad\n",
    "\n",
    "#ftr_25_X = pd.read_csv( loc_ftr + \"\\\\me_ins_night_18_20.csv\" ) #<-bad\n",
    "#ftr_26_X = pd.read_csv( loc_ftr + \"\\\\ins_night_18_20.csv\" ) #<-bad\n",
    "#ftr_27_X = pd.read_csv( loc_ftr + \"\\\\me_ins_morn_18_20.csv\" ) #<-bad\n",
    "#ftr_28_X = pd.read_csv( loc_ftr + \"\\\\ins_morn_18_20.csv\" ) #<-bad\n",
    "#ftr_29_X = pd.read_csv( loc_ftr + \"\\\\me_ins_midday_18_20.csv\" ) #<-bad\n",
    "#ftr_30_X = pd.read_csv( loc_ftr + \"\\\\ins_midday_18_20.csv\" ) #<-bad\n",
    "#ftr_31_X = pd.read_csv( loc_ftr + \"\\\\me_ins_after_18_20.csv\" ) #<-bad\n",
    "#ftr_32_X = pd.read_csv( loc_ftr + \"\\\\ins_after_18_20.csv\" ) #<-bad\n",
    "\n",
    "#ftr_33_X = pd.read_csv( loc_ftr + \"\\\\me_auc_night_18_20.csv\" ) #<-bad\n",
    "#ftr_34_X = pd.read_csv( loc_ftr + \"\\\\auc_night_18_20.csv\" ) #<-bad\n",
    "#ftr_35_X = pd.read_csv( loc_ftr + \"\\\\me_auc_morn_18_20.csv\" ) #<-bad\n",
    "#ftr_36_X = pd.read_csv( loc_ftr + \"\\\\auc_morn_18_20.csv\" ) #<-bad\n",
    "#ftr_37_X = pd.read_csv( loc_ftr + \"\\\\me_auc_midday_18_20.csv\" ) #<-bad\n",
    "#ftr_38_X = pd.read_csv( loc_ftr + \"\\\\auc_midday_18_20.csv\" ) #<-bad\n",
    "#ftr_39_X = pd.read_csv( loc_ftr + \"\\\\me_auc_after_18_20.csv\" ) #<-bad\n",
    "#ftr_40_X = pd.read_csv( loc_ftr + \"\\\\auc_after_18_20.csv\" ) #<-bad\n",
    "\n",
    "#ftr_41_X = pd.read_csv( loc_ftr + \"\\\\me_evt_night_18_20.csv\" ) #<-bad\n",
    "#ftr_42_X = pd.read_csv( loc_ftr + \"\\\\evt_night_18_20.csv\" ) #<-bad\n",
    "#ftr_43_X = pd.read_csv( loc_ftr + \"\\\\me_evt_morn_18_20.csv\" ) #<-bad\n",
    "#ftr_44_X = pd.read_csv( loc_ftr + \"\\\\evt_morn_18_20.csv\" ) #<-bad\n",
    "#ftr_45_X = pd.read_csv( loc_ftr + \"\\\\me_evt_midday_18_20.csv\" ) #<-bad\n",
    "#ftr_46_X = pd.read_csv( loc_ftr + \"\\\\evt_midday_18_20.csv\" ) #<-bad\n",
    "#ftr_47_X = pd.read_csv( loc_ftr + \"\\\\me_evt_after_18_20.csv\" ) #<-bad\n",
    "#ftr_48_X = pd.read_csv( loc_ftr + \"\\\\evt_after_18_20.csv\" ) #<-bad\n",
    "\n",
    "#ftr_49_X = pd.read_csv( loc_ftr + \"\\\\me_clk_night_18_20.csv\" ) #<-bad\n",
    "#ftr_50_X = pd.read_csv( loc_ftr + \"\\\\clk_night_18_20.csv\" ) #<-bad\n",
    "#ftr_51_X = pd.read_csv( loc_ftr + \"\\\\me_clk_morn_18_20.csv\" ) #<-bad\n",
    "#ftr_52_X = pd.read_csv( loc_ftr + \"\\\\clk_morn_18_20.csv\" ) #<-bad\n",
    "#ftr_53_X = pd.read_csv( loc_ftr + \"\\\\me_clk_midday_18_20.csv\" ) #<-bad\n",
    "#ftr_54_X = pd.read_csv( loc_ftr + \"\\\\clk_midday_18_20.csv\" ) #<-bad\n",
    "#ftr_55_X = pd.read_csv( loc_ftr + \"\\\\me_clk_after_18_20.csv\" ) #<-bad\n",
    "#ftr_56_X = pd.read_csv( loc_ftr + \"\\\\clk_after_18_20.csv\" ) #<-bad\n",
    "\n",
    "#ftr_57_X = pd.read_csv( loc_ftr + \"\\\\me_mt_1_clk_18_20.csv\" ) #<-bad\n",
    "#ftr_58_X = pd.read_csv( loc_ftr + \"\\\\mt_1_clk_18_20.csv\" ) #<-bad\n",
    "#ftr_59_X = pd.read_csv( loc_ftr + \"\\\\me_mt_1_evt_18_20.csv\" ) #<-bad\n",
    "#ftr_60_X = pd.read_csv( loc_ftr + \"\\\\mt_1_evt_18_20.csv\" ) #<-bad\n",
    "#ftr_61_X = pd.read_csv( loc_ftr + \"\\\\me_mt_1_auc_18_20.csv\" ) #<-bad\n",
    "#ftr_62_X = pd.read_csv( loc_ftr + \"\\\\mt_1_auc_18_20.csv\" ) #<-bad\n",
    "\n",
    "ftr_63_X = pd.read_csv( loc_ftr + \"\\\\atbt_ins_18_20.csv\" )\n"
   ]
  },
  {
   "cell_type": "code",
   "execution_count": 515,
   "metadata": {},
   "outputs": [],
   "source": [
    "X_var = X_var.merge( ftr_01_X, how = \"inner\", on = \"ref_hash\" )\n",
    "X_var = X_var.merge( ftr_02_X, how = \"inner\", on = \"ref_hash\" )\n",
    "X_var = X_var.merge( ftr_03_X, how = \"inner\", on = \"ref_hash\" )\n",
    "#X_var = X_var.merge( ftr_04_X, how = \"inner\", on = \"ref_hash\" ) #<- bad\n",
    "X_var = X_var.merge( ftr_05_X, how = \"inner\", on = \"ref_hash\" )\n",
    "#X_var = X_var.merge( ftr_06_X, how = \"inner\", on = \"ref_hash\" ) #<-bad\n",
    "X_var = X_var.merge( ftr_07_X, how = \"inner\", on = \"ref_hash\" )\n",
    "X_var = X_var.merge( ftr_08_X, how = \"inner\", on = \"ref_hash\" )\n",
    "X_var = X_var.merge( ftr_09_X, how = \"inner\", on = \"ref_hash\" )\n",
    "#X_var = X_var.merge( ftr_10_X, how = \"inner\", on = \"ref_hash\" ) #<-bad\n",
    "X_var = X_var.merge( ftr_11_X, how = \"inner\", on = \"ref_hash\" )\n",
    "X_var = X_var.merge( ftr_12_X, how = \"inner\", on = \"ref_hash\" )\n",
    "#X_var = X_var.merge( ftr_13_X, how = \"inner\", on = \"ref_hash\" ) #<-bad\n",
    "X_var = X_var.merge( ftr_14_X, how = \"inner\", on = \"ref_hash\" )\n",
    "X_var = X_var.merge( ftr_15_X, how = \"inner\", on = \"ref_hash\" )\n",
    "X_var = X_var.merge( ftr_16_X, how = \"inner\", on = \"ref_hash\" )\n",
    "X_var = X_var.merge( ftr_17_X, how = \"inner\", on = \"ref_hash\" )\n",
    "#X_var = X_var.merge( ftr_18_X, how = \"inner\", on = \"ref_hash\" ) #<-bad\n",
    "\n",
    "#X_var = X_var.merge( ftr_19_X, how = \"inner\", on = \"ref_hash\" ) #<-bad\n",
    "#X_var = X_var.merge( ftr_20_X, how = \"inner\", on = \"ref_hash\" ) #<-bad\n",
    "X_var = X_var.merge( ftr_21_X, how = \"inner\", on = \"ref_hash\" )\n",
    "#X_var = X_var.merge( ftr_22_X, how = \"inner\", on = \"ref_hash\" ) #<-bad\n",
    "#X_var = X_var.merge( ftr_23_X, how = \"inner\", on = \"ref_hash\" ) #<-bad\n",
    "#X_var = X_var.merge( ftr_24_X, how = \"inner\", on = \"ref_hash\" ) #<-bad\n",
    "\n",
    "#X_var = X_var.merge( ftr_25_X, how = \"inner\", on = \"ref_hash\" ) #<-bad\n",
    "#X_var = X_var.merge( ftr_26_X, how = \"inner\", on = \"ref_hash\" ) #<-bad\n",
    "#X_var = X_var.merge( ftr_27_X, how = \"inner\", on = \"ref_hash\" ) #<-bad\n",
    "#X_var = X_var.merge( ftr_28_X, how = \"inner\", on = \"ref_hash\" ) #<-bad\n",
    "#X_var = X_var.merge( ftr_29_X, how = \"inner\", on = \"ref_hash\" ) #<-bad\n",
    "#X_var = X_var.merge( ftr_30_X, how = \"inner\", on = \"ref_hash\" ) #<-bad\n",
    "#X_var = X_var.merge( ftr_31_X, how = \"inner\", on = \"ref_hash\" ) #<-bad\n",
    "#X_var = X_var.merge( ftr_32_X, how = \"inner\", on = \"ref_hash\" ) #<-bad\n",
    "\n",
    "#X_var = X_var.merge( ftr_33_X, how = \"inner\", on = \"ref_hash\" ) #<-bad\n",
    "#X_var = X_var.merge( ftr_34_X, how = \"inner\", on = \"ref_hash\" ) #<-bad\n",
    "#X_var = X_var.merge( ftr_35_X, how = \"inner\", on = \"ref_hash\" ) #<-bad\n",
    "#X_var = X_var.merge( ftr_36_X, how = \"inner\", on = \"ref_hash\" ) #<-bad\n",
    "#X_var = X_var.merge( ftr_37_X, how = \"inner\", on = \"ref_hash\" ) #<-bad\n",
    "#X_var = X_var.merge( ftr_38_X, how = \"inner\", on = \"ref_hash\" ) #<-bad\n",
    "#X_var = X_var.merge( ftr_39_X, how = \"inner\", on = \"ref_hash\" ) #<-bad\n",
    "#X_var = X_var.merge( ftr_40_X, how = \"inner\", on = \"ref_hash\" ) #<-bad\n",
    "\n",
    "#X_var = X_var.merge( ftr_41_X, how = \"inner\", on = \"ref_hash\" ) #<-bad\n",
    "#X_var = X_var.merge( ftr_42_X, how = \"inner\", on = \"ref_hash\" ) #<-bad\n",
    "#X_var = X_var.merge( ftr_43_X, how = \"inner\", on = \"ref_hash\" ) #<-bad\n",
    "#X_var = X_var.merge( ftr_44_X, how = \"inner\", on = \"ref_hash\" ) #<-bad\n",
    "#X_var = X_var.merge( ftr_45_X, how = \"inner\", on = \"ref_hash\" ) #<-bad\n",
    "#X_var = X_var.merge( ftr_46_X, how = \"inner\", on = \"ref_hash\" ) #<-bad\n",
    "#X_var = X_var.merge( ftr_47_X, how = \"inner\", on = \"ref_hash\" ) #<-bad\n",
    "#X_var = X_var.merge( ftr_48_X, how = \"inner\", on = \"ref_hash\" ) #<-bad\n",
    "\n",
    "#X_var = X_var.merge( ftr_49_X, how = \"inner\", on = \"ref_hash\" ) #<-bad\n",
    "#X_var = X_var.merge( ftr_50_X, how = \"inner\", on = \"ref_hash\" ) #<-bad\n",
    "#X_var = X_var.merge( ftr_51_X, how = \"inner\", on = \"ref_hash\" ) #<-bad\n",
    "#X_var = X_var.merge( ftr_52_X, how = \"inner\", on = \"ref_hash\" ) #<-bad\n",
    "#X_var = X_var.merge( ftr_53_X, how = \"inner\", on = \"ref_hash\" ) #<-bad\n",
    "#X_var = X_var.merge( ftr_54_X, how = \"inner\", on = \"ref_hash\" ) #<-bad\n",
    "#X_var = X_var.merge( ftr_55_X, how = \"inner\", on = \"ref_hash\" ) #<-bad\n",
    "#X_var = X_var.merge( ftr_56_X, how = \"inner\", on = \"ref_hash\" ) #<-bad\n",
    "\n",
    "#X_var = X_var.merge( ftr_57_X, how = \"inner\", on = \"ref_hash\" ) #<-bad\n",
    "#X_var = X_var.merge( ftr_58_X, how = \"inner\", on = \"ref_hash\" ) #<-bad\n",
    "#X_var = X_var.merge( ftr_59_X, how = \"inner\", on = \"ref_hash\" ) #<-bad\n",
    "#X_var = X_var.merge( ftr_60_X, how = \"inner\", on = \"ref_hash\" ) #<-bad\n",
    "#X_var = X_var.merge( ftr_61_X, how = \"inner\", on = \"ref_hash\" ) #<-bad\n",
    "#X_var = X_var.merge( ftr_62_X, how = \"inner\", on = \"ref_hash\" ) #<-bad\n",
    "\n",
    "X_var = X_var.merge( ftr_63_X, how = \"inner\", on = \"ref_hash\" )"
   ]
  },
  {
   "cell_type": "markdown",
   "metadata": {},
   "source": [
    "# <span style=\"color:orange\">  Preparo las columnas </span>"
   ]
  },
  {
   "cell_type": "code",
   "execution_count": 518,
   "metadata": {},
   "outputs": [
    {
     "data": {
      "text/html": [
       "<div>\n",
       "<style scoped>\n",
       "    .dataframe tbody tr th:only-of-type {\n",
       "        vertical-align: middle;\n",
       "    }\n",
       "\n",
       "    .dataframe tbody tr th {\n",
       "        vertical-align: top;\n",
       "    }\n",
       "\n",
       "    .dataframe thead th {\n",
       "        text-align: right;\n",
       "    }\n",
       "</style>\n",
       "<table border=\"1\" class=\"dataframe\">\n",
       "  <thead>\n",
       "    <tr style=\"text-align: right;\">\n",
       "      <th></th>\n",
       "      <th>0</th>\n",
       "      <th>1</th>\n",
       "      <th>2</th>\n",
       "      <th>3</th>\n",
       "      <th>4</th>\n",
       "    </tr>\n",
       "  </thead>\n",
       "  <tbody>\n",
       "    <tr>\n",
       "      <th>ref_hash</th>\n",
       "      <td>5.073551e+17</td>\n",
       "      <td>1.283142e+18</td>\n",
       "      <td>5.360746e+18</td>\n",
       "      <td>4.036648e+18</td>\n",
       "      <td>3.412192e+18</td>\n",
       "    </tr>\n",
       "    <tr>\n",
       "      <th>sin_hour</th>\n",
       "      <td>3.826834e-01</td>\n",
       "      <td>1.305262e-01</td>\n",
       "      <td>9.238795e-01</td>\n",
       "      <td>3.826834e-01</td>\n",
       "      <td>2.588190e-01</td>\n",
       "    </tr>\n",
       "    <tr>\n",
       "      <th>cant_ins</th>\n",
       "      <td>2.000000e+00</td>\n",
       "      <td>2.000000e+00</td>\n",
       "      <td>1.000000e+00</td>\n",
       "      <td>1.000000e+00</td>\n",
       "      <td>2.000000e+00</td>\n",
       "    </tr>\n",
       "    <tr>\n",
       "      <th>cant_imp</th>\n",
       "      <td>1.000000e+00</td>\n",
       "      <td>1.000000e+00</td>\n",
       "      <td>0.000000e+00</td>\n",
       "      <td>0.000000e+00</td>\n",
       "      <td>1.000000e+00</td>\n",
       "    </tr>\n",
       "    <tr>\n",
       "      <th>cant_auc</th>\n",
       "      <td>4.000000e+00</td>\n",
       "      <td>0.000000e+00</td>\n",
       "      <td>1.200000e+01</td>\n",
       "      <td>1.000000e+00</td>\n",
       "      <td>0.000000e+00</td>\n",
       "    </tr>\n",
       "    <tr>\n",
       "      <th>application_id</th>\n",
       "      <td>4.146730e-02</td>\n",
       "      <td>9.781023e-03</td>\n",
       "      <td>1.322781e-02</td>\n",
       "      <td>9.781023e-03</td>\n",
       "      <td>1.225047e-01</td>\n",
       "    </tr>\n",
       "    <tr>\n",
       "      <th>implicit_False</th>\n",
       "      <td>0.000000e+00</td>\n",
       "      <td>0.000000e+00</td>\n",
       "      <td>1.000000e+00</td>\n",
       "      <td>1.000000e+00</td>\n",
       "      <td>0.000000e+00</td>\n",
       "    </tr>\n",
       "    <tr>\n",
       "      <th>implicit_True</th>\n",
       "      <td>1.000000e+00</td>\n",
       "      <td>1.000000e+00</td>\n",
       "      <td>0.000000e+00</td>\n",
       "      <td>0.000000e+00</td>\n",
       "      <td>1.000000e+00</td>\n",
       "    </tr>\n",
       "    <tr>\n",
       "      <th>ref_type_mean</th>\n",
       "      <td>1.655094e-01</td>\n",
       "      <td>8.344906e-01</td>\n",
       "      <td>8.344906e-01</td>\n",
       "      <td>8.344906e-01</td>\n",
       "      <td>8.344906e-01</td>\n",
       "    </tr>\n",
       "    <tr>\n",
       "      <th>attributed</th>\n",
       "      <td>0.000000e+00</td>\n",
       "      <td>0.000000e+00</td>\n",
       "      <td>0.000000e+00</td>\n",
       "      <td>0.000000e+00</td>\n",
       "      <td>0.000000e+00</td>\n",
       "    </tr>\n",
       "    <tr>\n",
       "      <th>kind_mean</th>\n",
       "      <td>1.354546e-01</td>\n",
       "      <td>2.158039e-02</td>\n",
       "      <td>5.557936e-03</td>\n",
       "      <td>1.354546e-01</td>\n",
       "      <td>9.437746e-02</td>\n",
       "    </tr>\n",
       "    <tr>\n",
       "      <th>time_to_frt_evt_x</th>\n",
       "      <td>1.640445e+05</td>\n",
       "      <td>1.794290e+05</td>\n",
       "      <td>2.290581e+05</td>\n",
       "      <td>2.484812e+05</td>\n",
       "      <td>9.459335e+03</td>\n",
       "    </tr>\n",
       "    <tr>\n",
       "      <th>Unnamed: 0</th>\n",
       "      <td>1.342700e+04</td>\n",
       "      <td>1.579250e+05</td>\n",
       "      <td>1.745300e+04</td>\n",
       "      <td>1.581170e+05</td>\n",
       "      <td>1.307240e+05</td>\n",
       "    </tr>\n",
       "    <tr>\n",
       "      <th>time_to_ins_auc</th>\n",
       "      <td>1.640445e+05</td>\n",
       "      <td>1.794290e+05</td>\n",
       "      <td>2.289686e+05</td>\n",
       "      <td>2.484772e+05</td>\n",
       "      <td>9.459335e+03</td>\n",
       "    </tr>\n",
       "    <tr>\n",
       "      <th>time_to_frt_evt_y</th>\n",
       "      <td>2.592000e+05</td>\n",
       "      <td>2.592000e+05</td>\n",
       "      <td>2.592000e+05</td>\n",
       "      <td>2.592000e+05</td>\n",
       "      <td>2.592000e+05</td>\n",
       "    </tr>\n",
       "    <tr>\n",
       "      <th>time_to_frt_auc</th>\n",
       "      <td>2.553604e+04</td>\n",
       "      <td>2.592000e+05</td>\n",
       "      <td>2.253964e+05</td>\n",
       "      <td>1.534753e+05</td>\n",
       "      <td>2.592000e+05</td>\n",
       "    </tr>\n",
       "    <tr>\n",
       "      <th>time_to_lst_evt</th>\n",
       "      <td>1.671047e+05</td>\n",
       "      <td>1.839770e+05</td>\n",
       "      <td>2.308113e+05</td>\n",
       "      <td>2.485729e+05</td>\n",
       "      <td>1.881919e+05</td>\n",
       "    </tr>\n",
       "    <tr>\n",
       "      <th>atbt_mean</th>\n",
       "      <td>9.978609e-01</td>\n",
       "      <td>9.978609e-01</td>\n",
       "      <td>9.978609e-01</td>\n",
       "      <td>9.978609e-01</td>\n",
       "      <td>9.978609e-01</td>\n",
       "    </tr>\n",
       "  </tbody>\n",
       "</table>\n",
       "</div>"
      ],
      "text/plain": [
       "                              0             1             2             3  \\\n",
       "ref_hash           5.073551e+17  1.283142e+18  5.360746e+18  4.036648e+18   \n",
       "sin_hour           3.826834e-01  1.305262e-01  9.238795e-01  3.826834e-01   \n",
       "cant_ins           2.000000e+00  2.000000e+00  1.000000e+00  1.000000e+00   \n",
       "cant_imp           1.000000e+00  1.000000e+00  0.000000e+00  0.000000e+00   \n",
       "cant_auc           4.000000e+00  0.000000e+00  1.200000e+01  1.000000e+00   \n",
       "application_id     4.146730e-02  9.781023e-03  1.322781e-02  9.781023e-03   \n",
       "implicit_False     0.000000e+00  0.000000e+00  1.000000e+00  1.000000e+00   \n",
       "implicit_True      1.000000e+00  1.000000e+00  0.000000e+00  0.000000e+00   \n",
       "ref_type_mean      1.655094e-01  8.344906e-01  8.344906e-01  8.344906e-01   \n",
       "attributed         0.000000e+00  0.000000e+00  0.000000e+00  0.000000e+00   \n",
       "kind_mean          1.354546e-01  2.158039e-02  5.557936e-03  1.354546e-01   \n",
       "time_to_frt_evt_x  1.640445e+05  1.794290e+05  2.290581e+05  2.484812e+05   \n",
       "Unnamed: 0         1.342700e+04  1.579250e+05  1.745300e+04  1.581170e+05   \n",
       "time_to_ins_auc    1.640445e+05  1.794290e+05  2.289686e+05  2.484772e+05   \n",
       "time_to_frt_evt_y  2.592000e+05  2.592000e+05  2.592000e+05  2.592000e+05   \n",
       "time_to_frt_auc    2.553604e+04  2.592000e+05  2.253964e+05  1.534753e+05   \n",
       "time_to_lst_evt    1.671047e+05  1.839770e+05  2.308113e+05  2.485729e+05   \n",
       "atbt_mean          9.978609e-01  9.978609e-01  9.978609e-01  9.978609e-01   \n",
       "\n",
       "                              4  \n",
       "ref_hash           3.412192e+18  \n",
       "sin_hour           2.588190e-01  \n",
       "cant_ins           2.000000e+00  \n",
       "cant_imp           1.000000e+00  \n",
       "cant_auc           0.000000e+00  \n",
       "application_id     1.225047e-01  \n",
       "implicit_False     0.000000e+00  \n",
       "implicit_True      1.000000e+00  \n",
       "ref_type_mean      8.344906e-01  \n",
       "attributed         0.000000e+00  \n",
       "kind_mean          9.437746e-02  \n",
       "time_to_frt_evt_x  9.459335e+03  \n",
       "Unnamed: 0         1.307240e+05  \n",
       "time_to_ins_auc    9.459335e+03  \n",
       "time_to_frt_evt_y  2.592000e+05  \n",
       "time_to_frt_auc    2.592000e+05  \n",
       "time_to_lst_evt    1.881919e+05  \n",
       "atbt_mean          9.978609e-01  "
      ]
     },
     "execution_count": 518,
     "metadata": {},
     "output_type": "execute_result"
    }
   ],
   "source": [
    "X_var.head().T"
   ]
  },
  {
   "cell_type": "code",
   "execution_count": 519,
   "metadata": {},
   "outputs": [
    {
     "data": {
      "text/plain": [
       "18"
      ]
     },
     "execution_count": 519,
     "metadata": {},
     "output_type": "execute_result"
    }
   ],
   "source": [
    "len(X_var.columns)"
   ]
  },
  {
   "cell_type": "code",
   "execution_count": 520,
   "metadata": {},
   "outputs": [
    {
     "data": {
      "text/plain": [
       "1    3147\n",
       "2     747\n",
       "3     100\n",
       "4      40\n",
       "5       8\n",
       "6       3\n",
       "9       2\n",
       "7       2\n",
       "Name: cant_ins, dtype: int64"
      ]
     },
     "execution_count": 520,
     "metadata": {},
     "output_type": "execute_result"
    }
   ],
   "source": [
    "X_var['cant_ins'].value_counts()"
   ]
  },
  {
   "cell_type": "markdown",
   "metadata": {},
   "source": [
    "## Dropeamos los ref_hash (No estan codificados)"
   ]
  },
  {
   "cell_type": "code",
   "execution_count": 490,
   "metadata": {},
   "outputs": [],
   "source": [
    "X_var = X_var.drop( \"ref_hash\", axis = 1 )\n",
    "Z_var = Z_var.drop( \"ref_hash\", axis = 1 )"
   ]
  },
  {
   "cell_type": "markdown",
   "metadata": {},
   "source": [
    "# Prediccion con <span style=\"color:green\"> *CATBOOST*</span> "
   ]
  },
  {
   "cell_type": "code",
   "execution_count": 47,
   "metadata": {},
   "outputs": [],
   "source": [
    "#model = CatBoostClassifier(iterations=184,\n",
    "#                          learning_rate=0.06,\n",
    "#                          depth=2,\n",
    "#                          l2_leaf_reg=0,\n",
    "#                          random_strength=1,\n",
    "#                          bagging_temperature=1)\n",
    "\n",
    "#model.fit(X_var,Y_var)"
   ]
  },
  {
   "cell_type": "markdown",
   "metadata": {},
   "source": [
    "### X: Train Data, Y: Train Labels, Z: Test Data, sc_24_26: Test Labels"
   ]
  },
  {
   "cell_type": "markdown",
   "metadata": {},
   "source": [
    "### Record = iterations=300, learning_rate=0.06, depth=3, RMSE: 25506.739133"
   ]
  },
  {
   "cell_type": "code",
   "execution_count": 35,
   "metadata": {},
   "outputs": [],
   "source": [
    "from sklearn.model_selection import GridSearchCV\n",
    "from sklearn.metrics import mean_squared_error, make_scorer\n",
    "mse = make_scorer( mean_squared_error, greater_is_better = False ) "
   ]
  },
  {
   "cell_type": "code",
   "execution_count": null,
   "metadata": {},
   "outputs": [],
   "source": [
    "model = CatBoostRegressor(loss_function='RMSE')\n",
    "parameters = {'depth'         : [2,3,6],\n",
    "              'learning_rate' : [0.04, 0.06, 0.1],\n",
    "              'iterations'    : [50, 150, 300]\n",
    "                 }\n",
    "grid = GridSearchCV(estimator=model, scoring=mse ,param_grid = parameters, cv = 12, n_jobs=2)\n",
    "grid.fit(X_var, Y_var)  "
   ]
  },
  {
   "cell_type": "code",
   "execution_count": 86,
   "metadata": {},
   "outputs": [
    {
     "name": "stdout",
     "output_type": "stream",
     "text": [
      "\n",
      "========================================================\n",
      " Results from Grid Search \n",
      "========================================================\n",
      "\n",
      " The best estimator across ALL searched params:\n",
      " <catboost.core.CatBoostRegressor object at 0x0000000008EDAF60>\n",
      "\n",
      " The best score across ALL searched params:\n",
      " -6547007371.867459\n",
      "\n",
      " The best parameters across ALL searched params:\n",
      " {'depth': 2, 'iterations': 150, 'learning_rate': 0.04}\n",
      "\n",
      " ========================================================\n"
     ]
    }
   ],
   "source": [
    "    # Results from Grid Search\n",
    "    print(\"\\n========================================================\")\n",
    "    print(\" Results from Grid Search \" )\n",
    "    print(\"========================================================\")    \n",
    "    \n",
    "    print(\"\\n The best estimator across ALL searched params:\\n\",\n",
    "          grid.best_estimator_)\n",
    "    \n",
    "    print(\"\\n The best score across ALL searched params:\\n\",\n",
    "          grid.best_score_)\n",
    "    \n",
    "    print(\"\\n The best parameters across ALL searched params:\\n\",\n",
    "          grid.best_params_)\n",
    "    \n",
    "    print(\"\\n ========================================================\")"
   ]
  },
  {
   "cell_type": "code",
   "execution_count": null,
   "metadata": {},
   "outputs": [],
   "source": [
    "preds = grid.predict(Z_var)"
   ]
  },
  {
   "cell_type": "markdown",
   "metadata": {},
   "source": [
    "### Parametros encontrados con grid-searchCV"
   ]
  },
  {
   "cell_type": "markdown",
   "metadata": {},
   "source": [
    "## Record: iterations=184, learning_rate=0.06, depth=2, l2_leaf_reg=0, loss_function='RMSE' | RMSE: 80971.637759"
   ]
  },
  {
   "cell_type": "code",
   "execution_count": 498,
   "metadata": {},
   "outputs": [],
   "source": [
    "# Initialize CatBoostRegressor\n",
    "model = CatBoostRegressor(iterations=184,\n",
    "                          learning_rate=0.06,\n",
    "                          depth=2,\n",
    "                          l2_leaf_reg=0,\n",
    "                          random_strength=1,\n",
    "                          bagging_temperature=1,\n",
    "                          boosting_type='Plain',\n",
    "                          loss_function='RMSE')"
   ]
  },
  {
   "cell_type": "code",
   "execution_count": 499,
   "metadata": {},
   "outputs": [
    {
     "data": {
      "text/plain": [
       "<catboost.core.CatBoostRegressor at 0xd9e68d0>"
      ]
     },
     "execution_count": 499,
     "metadata": {},
     "output_type": "execute_result"
    }
   ],
   "source": [
    "# Fit model\n",
    "model.fit(X_var, Y_var, verbose=False)"
   ]
  },
  {
   "cell_type": "code",
   "execution_count": 500,
   "metadata": {},
   "outputs": [],
   "source": [
    "preds = model.predict(Z_var)"
   ]
  },
  {
   "cell_type": "markdown",
   "metadata": {},
   "source": [
    "### Calculamos el RMSE"
   ]
  },
  {
   "cell_type": "code",
   "execution_count": 501,
   "metadata": {},
   "outputs": [
    {
     "name": "stdout",
     "output_type": "stream",
     "text": [
      "RMSE: 81046.140440\n"
     ]
    }
   ],
   "source": [
    "rmse = np.sqrt( mean_squared_error(W_var, preds) )\n",
    "print(\"RMSE: %f\" % (rmse) )"
   ]
  },
  {
   "cell_type": "code",
   "execution_count": 502,
   "metadata": {},
   "outputs": [],
   "source": [
    "record = 81046.140440\n",
    "#80971.637759\n",
    "#76189.612816"
   ]
  },
  {
   "cell_type": "code",
   "execution_count": 503,
   "metadata": {},
   "outputs": [
    {
     "data": {
      "text/html": [
       "<div>\n",
       "<style scoped>\n",
       "    .dataframe tbody tr th:only-of-type {\n",
       "        vertical-align: middle;\n",
       "    }\n",
       "\n",
       "    .dataframe tbody tr th {\n",
       "        vertical-align: top;\n",
       "    }\n",
       "\n",
       "    .dataframe thead th {\n",
       "        text-align: right;\n",
       "    }\n",
       "</style>\n",
       "<table border=\"1\" class=\"dataframe\">\n",
       "  <thead>\n",
       "    <tr style=\"text-align: right;\">\n",
       "      <th></th>\n",
       "      <th>24_26_sc</th>\n",
       "    </tr>\n",
       "  </thead>\n",
       "  <tbody>\n",
       "    <tr>\n",
       "      <th>0</th>\n",
       "      <td>91801.564</td>\n",
       "    </tr>\n",
       "    <tr>\n",
       "      <th>1</th>\n",
       "      <td>187657.482</td>\n",
       "    </tr>\n",
       "    <tr>\n",
       "      <th>2</th>\n",
       "      <td>81827.588</td>\n",
       "    </tr>\n",
       "    <tr>\n",
       "      <th>3</th>\n",
       "      <td>259200.000</td>\n",
       "    </tr>\n",
       "    <tr>\n",
       "      <th>4</th>\n",
       "      <td>82591.862</td>\n",
       "    </tr>\n",
       "    <tr>\n",
       "      <th>5</th>\n",
       "      <td>190014.425</td>\n",
       "    </tr>\n",
       "    <tr>\n",
       "      <th>6</th>\n",
       "      <td>190231.268</td>\n",
       "    </tr>\n",
       "    <tr>\n",
       "      <th>7</th>\n",
       "      <td>71361.198</td>\n",
       "    </tr>\n",
       "    <tr>\n",
       "      <th>8</th>\n",
       "      <td>172974.531</td>\n",
       "    </tr>\n",
       "    <tr>\n",
       "      <th>9</th>\n",
       "      <td>1656.746</td>\n",
       "    </tr>\n",
       "  </tbody>\n",
       "</table>\n",
       "</div>"
      ],
      "text/plain": [
       "     24_26_sc\n",
       "0   91801.564\n",
       "1  187657.482\n",
       "2   81827.588\n",
       "3  259200.000\n",
       "4   82591.862\n",
       "5  190014.425\n",
       "6  190231.268\n",
       "7   71361.198\n",
       "8  172974.531\n",
       "9    1656.746"
      ]
     },
     "execution_count": 503,
     "metadata": {},
     "output_type": "execute_result"
    }
   ],
   "source": [
    "W_var.head(10)"
   ]
  },
  {
   "cell_type": "code",
   "execution_count": 504,
   "metadata": {},
   "outputs": [
    {
     "data": {
      "text/html": [
       "<div>\n",
       "<style scoped>\n",
       "    .dataframe tbody tr th:only-of-type {\n",
       "        vertical-align: middle;\n",
       "    }\n",
       "\n",
       "    .dataframe tbody tr th {\n",
       "        vertical-align: top;\n",
       "    }\n",
       "\n",
       "    .dataframe thead th {\n",
       "        text-align: right;\n",
       "    }\n",
       "</style>\n",
       "<table border=\"1\" class=\"dataframe\">\n",
       "  <thead>\n",
       "    <tr style=\"text-align: right;\">\n",
       "      <th></th>\n",
       "      <th>0</th>\n",
       "    </tr>\n",
       "  </thead>\n",
       "  <tbody>\n",
       "    <tr>\n",
       "      <th>0</th>\n",
       "      <td>123898.208561</td>\n",
       "    </tr>\n",
       "    <tr>\n",
       "      <th>1</th>\n",
       "      <td>130397.479142</td>\n",
       "    </tr>\n",
       "    <tr>\n",
       "      <th>2</th>\n",
       "      <td>126252.845019</td>\n",
       "    </tr>\n",
       "    <tr>\n",
       "      <th>3</th>\n",
       "      <td>110043.815028</td>\n",
       "    </tr>\n",
       "    <tr>\n",
       "      <th>4</th>\n",
       "      <td>121921.362886</td>\n",
       "    </tr>\n",
       "    <tr>\n",
       "      <th>5</th>\n",
       "      <td>124193.878123</td>\n",
       "    </tr>\n",
       "    <tr>\n",
       "      <th>6</th>\n",
       "      <td>101169.305905</td>\n",
       "    </tr>\n",
       "    <tr>\n",
       "      <th>7</th>\n",
       "      <td>126933.594275</td>\n",
       "    </tr>\n",
       "    <tr>\n",
       "      <th>8</th>\n",
       "      <td>135445.302058</td>\n",
       "    </tr>\n",
       "    <tr>\n",
       "      <th>9</th>\n",
       "      <td>131266.787671</td>\n",
       "    </tr>\n",
       "  </tbody>\n",
       "</table>\n",
       "</div>"
      ],
      "text/plain": [
       "               0\n",
       "0  123898.208561\n",
       "1  130397.479142\n",
       "2  126252.845019\n",
       "3  110043.815028\n",
       "4  121921.362886\n",
       "5  124193.878123\n",
       "6  101169.305905\n",
       "7  126933.594275\n",
       "8  135445.302058\n",
       "9  131266.787671"
      ]
     },
     "execution_count": 504,
     "metadata": {},
     "output_type": "execute_result"
    }
   ],
   "source": [
    "pd.DataFrame(preds).head(10)"
   ]
  },
  {
   "cell_type": "code",
   "execution_count": 506,
   "metadata": {},
   "outputs": [
    {
     "name": "stdout",
     "output_type": "stream",
     "text": [
      "media 124136.90546436826\n",
      "std 9612.469383945052\n"
     ]
    }
   ],
   "source": [
    "print(\"media \" + str(pd.DataFrame(preds)[0].mean()))\n",
    "print(\"std \" + str(pd.DataFrame(preds)[0].std()))"
   ]
  },
  {
   "cell_type": "code",
   "execution_count": null,
   "metadata": {},
   "outputs": [],
   "source": []
  }
 ],
 "metadata": {
  "kernelspec": {
   "display_name": "Python 3",
   "language": "python",
   "name": "python3"
  },
  "language_info": {
   "codemirror_mode": {
    "name": "ipython",
    "version": 3
   },
   "file_extension": ".py",
   "mimetype": "text/x-python",
   "name": "python",
   "nbconvert_exporter": "python",
   "pygments_lexer": "ipython3",
   "version": "3.7.3"
  }
 },
 "nbformat": 4,
 "nbformat_minor": 2
}
