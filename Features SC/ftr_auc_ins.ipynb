{
 "cells": [
  {
   "cell_type": "code",
   "execution_count": 1,
   "metadata": {},
   "outputs": [],
   "source": [
    "import pandas as pd\n",
    "import numpy as np\n",
    "import datetime as dt\n",
    "import warnings as wn\n",
    "import sklearn.preprocessing as skpre\n",
    "import category_encoders as ce\n",
    "\n",
    "wn.simplefilter( \"ignore\" )"
   ]
  },
  {
   "cell_type": "markdown",
   "metadata": {},
   "source": [
    "# Preparamos los Sets de Training"
   ]
  },
  {
   "cell_type": "code",
   "execution_count": 2,
   "metadata": {},
   "outputs": [],
   "source": [
    "loc_ts = r\"D:\\FacundoTorraca\\Documents\\TP2_Machine_Learning\\Training Sets\""
   ]
  },
  {
   "cell_type": "code",
   "execution_count": 3,
   "metadata": {},
   "outputs": [],
   "source": [
    "ins_18_20 = pd.read_csv( loc_ts + \"\\\\ins_18_20.csv\" ); \n",
    "ins_21_23 = pd.read_csv( loc_ts + \"\\\\ins_21_23.csv\" ); \n",
    "ins_24_26 = pd.read_csv( loc_ts + \"\\\\ins_24_26.csv\" ); "
   ]
  },
  {
   "cell_type": "code",
   "execution_count": 5,
   "metadata": {},
   "outputs": [],
   "source": [
    "auc_18_20 = pd.read_csv( loc_ts + \"\\\\auc_18_20.csv\" ); \n",
    "auc_21_23 = pd.read_csv( loc_ts + \"\\\\auc_21_23.csv\" );\n",
    "auc_24_26 = pd.read_csv( loc_ts + \"\\\\auc_24_26.csv\" );"
   ]
  },
  {
   "cell_type": "markdown",
   "metadata": {},
   "source": [
    "# Genero los Sets con el primer install"
   ]
  },
  {
   "cell_type": "code",
   "execution_count": 7,
   "metadata": {},
   "outputs": [],
   "source": [
    "ins_18_20[\"date\"] =  pd.to_datetime( ins_18_20[\"date\"] ); ins_18_20[\"_sc\"] = ins_18_20[\"date\"] - dt.datetime( year = 2019, month = 4, day = 18 ); ins_18_20[\"_sc\"] = ins_18_20[\"_sc\"].dt.total_seconds();\n",
    "ins_21_23[\"date\"] =  pd.to_datetime( ins_21_23[\"date\"] ); ins_21_23[\"_sc\"] = ins_21_23[\"date\"] - dt.datetime( year = 2019, month = 4, day = 21 ); ins_21_23[\"_sc\"] = ins_21_23[\"_sc\"].dt.total_seconds(); \n",
    "ins_24_26[\"date\"] =  pd.to_datetime( ins_24_26[\"date\"] ); ins_24_26[\"_sc\"] = ins_24_26[\"date\"] - dt.datetime( year = 2019, month = 4, day = 24 ); ins_24_26[\"_sc\"] = ins_24_26[\"_sc\"].dt.total_seconds(); "
   ]
  },
  {
   "cell_type": "code",
   "execution_count": 8,
   "metadata": {},
   "outputs": [],
   "source": [
    "ins_18_20_first_ins = ins_18_20.sort_values( by = [\"ref_hash\",\"_sc\"], ascending = True ).drop_duplicates( subset = [\"ref_hash\"], keep = \"first\" )\n",
    "ins_21_23_first_ins = ins_21_23.sort_values( by = [\"ref_hash\",\"_sc\"], ascending = True ).drop_duplicates( subset = [\"ref_hash\"], keep = \"first\" )\n",
    "ins_24_26_first_ins = ins_24_26.sort_values( by = [\"ref_hash\",\"_sc\"], ascending = True ).drop_duplicates( subset = [\"ref_hash\"], keep = \"first\" )"
   ]
  },
  {
   "cell_type": "markdown",
   "metadata": {},
   "source": [
    "# Sacamos los Features"
   ]
  },
  {
   "cell_type": "code",
   "execution_count": 9,
   "metadata": {},
   "outputs": [],
   "source": [
    "loc_ftr = r\"D:\\FacundoTorraca\\Documents\\TP2_Machine_Learning\\Features\\ftr_ins\""
   ]
  },
  {
   "cell_type": "code",
   "execution_count": 10,
   "metadata": {},
   "outputs": [],
   "source": [
    "rh_18_20 = ins_18_20_first_ins[ [\"ref_hash\"] ] #RH unicos que coinciden con los datos que usamos para entrenar\n",
    "rh_21_23 = ins_21_23_first_ins[ [\"ref_hash\"] ] #RH unicos que coinciden con los datos que queremos predecir\n",
    "\n",
    "tg_18_20 = ins_18_20_first_ins[ [\"_sc\"] ]\n",
    "tg_21_23 = ins_21_23_first_ins[ [\"_sc\"] ]"
   ]
  },
  {
   "cell_type": "markdown",
   "metadata": {},
   "source": [
    "## <span style=\"color:red\"> **Hora mas popular del usuario en las subastas** </span> \n",
    "\n",
    "Le aplicamos la transformacion sin( (hora * pi)/24 ) para agregarle periodicidad. "
   ]
  },
  {
   "cell_type": "code",
   "execution_count": null,
   "metadata": {},
   "outputs": [],
   "source": [
    "main_ahr_18_20 = rh_18_20.copy()\n",
    "main_ahr_21_23 = rh_21_23.copy()\n",
    "\n",
    "hour_mode_18_20 = auc_18_20[[\"device_id\"]]; hour_mode_18_20[\"hour\"] = pd.to_datetime( auc_18_20[\"date\"] ).dt.hour\n",
    "hour_mode_21_23 = auc_21_23[[\"device_id\"]]; hour_mode_21_23[\"hour\"] = pd.to_datetime( auc_21_23[\"date\"] ).dt.hour\n",
    "\n",
    "hour_mode_18_20 = hour_mode_18_20.groupby( [\"device_id\", \"hour\"] ).agg( { \"hour\":\"count\" } ).rename( columns = {\"hour\":\"count\"} ).reset_index()\n",
    "hour_mode_21_23 = hour_mode_21_23.groupby( [\"device_id\", \"hour\"] ).agg( { \"hour\":\"count\" } ).rename( columns = {\"hour\":\"count\"} ).reset_index()\n",
    "\n",
    "hour_mode_18_20 = hour_mode_18_20.sort_values( [\"device_id\",\"count\"], ascending = False ).drop_duplicates( subset = [\"device_id\"], keep = \"first\" ).rename( columns = {\"device_id\":\"ref_hash\"} ).drop(\"count\",axis = 1)\n",
    "hour_mode_21_23 = hour_mode_21_23.sort_values( [\"device_id\",\"count\"], ascending = False ).drop_duplicates( subset = [\"device_id\"], keep = \"first\" ).rename( columns = {\"device_id\":\"ref_hash\"} ).drop(\"count\",axis = 1)\n",
    "\n",
    "main_ahr_18_20 = main_ahr_18_20.merge( hour_mode_18_20, how = \"left\", on = \"ref_hash\" ).rename( columns = {\"hour\":\"main_hour\"} )\n",
    "main_ahr_21_23 = main_ahr_21_23.merge( hour_mode_21_23, how = \"left\", on = \"ref_hash\" ).rename( columns = {\"hour\":\"main_hour\"} )\n",
    "\n",
    "main_ahr_18_20[\"main_hour\"] =  main_ahr_18_20[\"main_hour\"].apply( lambda x: np.sin( (x*np.pi)/24 ) )\n",
    "main_ahr_21_23[\"main_hour\"] =  main_ahr_21_23[\"main_hour\"].apply( lambda x: np.sin( (x*np.pi)/24 ) )\n",
    "\n",
    "main_ahr_18_20.to_csv( loc_ftr + \"\\\\main_ahr_18_20.csv\", index = False )\n",
    "main_ahr_21_23.to_csv( loc_ftr + \"\\\\main_ahr_21_23.csv\", index = False )"
   ]
  },
  {
   "cell_type": "markdown",
   "metadata": {},
   "source": [
    "## <span style=\"color:green\"> **Horario de la primer subasta en ese ventana** </span> "
   ]
  },
  {
   "cell_type": "code",
   "execution_count": null,
   "metadata": {},
   "outputs": [],
   "source": [
    "hr_f_auc_18_20 = rh_18_20.copy()\n",
    "hr_f_auc_21_23 = rh_21_23.copy()\n",
    "\n",
    "first_auc_hour_18_20 = auc_18_20[ [\"device_id\",\"date\"] ].sort_values( \"date\" ).drop_duplicates( subset = \"device_id\", keep = \"first\" ).rename( columns = {\"device_id\":\"ref_hash\"} )\n",
    "first_auc_hour_21_23 = auc_21_23[ [\"device_id\",\"date\"] ].sort_values( \"date\" ).drop_duplicates( subset = \"device_id\", keep = \"first\" ).rename( columns = {\"device_id\":\"ref_hash\"} )\n",
    "\n",
    "first_auc_hour_18_20[\"time_to_frt_auc\"] = ( pd.to_datetime( first_auc_hour_18_20[\"date\"] ) -  dt.datetime( year = 2019, month = 4, day = 18 ) ).dt.total_seconds()\n",
    "first_auc_hour_21_23[\"time_to_frt_auc\"] = ( pd.to_datetime( first_auc_hour_21_23[\"date\"] ) -  dt.datetime( year = 2019, month = 4, day = 21 ) ).dt.total_seconds()\n",
    "\n",
    "first_auc_hour_18_20[\"hour_frt_auc\"] = pd.to_datetime( first_auc_hour_18_20[\"date\"] ).dt.hour\n",
    "first_auc_hour_21_23[\"hour_frt_auc\"] = pd.to_datetime( first_auc_hour_21_23[\"date\"] ).dt.hour\n",
    "\n",
    "first_auc_hour_18_20.drop( [\"date\", \"time_to_frt_auc\"], axis = 1, inplace = True )\n",
    "first_auc_hour_21_23.drop( [\"date\", \"time_to_frt_auc\"], axis = 1, inplace = True )\n",
    "\n",
    "hr_f_auc_18_20 = hr_f_auc_18_20.merge( first_auc_hour_18_20, how = \"left\", on = \"ref_hash\" )\n",
    "hr_f_auc_21_23 = hr_f_auc_21_23.merge( first_auc_hour_21_23, how = \"left\", on = \"ref_hash\" )\n",
    "\n",
    "hr_f_auc_18_20.to_csv( loc_ftr + \"\\\\hr_f_auc_18_20.csv\", index = False )\n",
    "hr_f_auc_21_23.to_csv( loc_ftr + \"\\\\hr_f_auc_21_23.csv\", index = False )"
   ]
  },
  {
   "cell_type": "markdown",
   "metadata": {},
   "source": [
    "## <span style=\"color:red\"> **Cantidad de Subastas por dispositivo en la ventana previa a la conversion** </span>"
   ]
  },
  {
   "cell_type": "code",
   "execution_count": 118,
   "metadata": {},
   "outputs": [],
   "source": [
    "cant_auc_18_20 = rh_18_20.copy()\n",
    "cant_auc_21_23 = rh_21_23.copy()\n",
    "\n",
    "cant_auc_18_20 = cant_auc_18_20.merge( auc_18_20[\"device_id\"].value_counts().to_frame().reset_index().rename( columns = {\"device_id\": \"cant_auc\", \"index\":\"ref_hash\"} ), how = \"left\", on = \"ref_hash\" )\n",
    "cant_auc_21_23 = cant_auc_21_23.merge( auc_21_23[\"device_id\"].value_counts().to_frame().reset_index().rename( columns = {\"device_id\": \"cant_auc\", \"index\":\"ref_hash\"} ), how = \"left\", on = \"ref_hash\" )\n",
    "\n",
    "cant_auc_18_20.fillna( 0, inplace = True )\n",
    "cant_auc_21_23.fillna( 0, inplace = True )\n",
    "\n",
    "cant_auc_18_20.to_csv( loc_ftr + \"\\\\cant_auc_18_20.csv\", index = False )\n",
    "cant_auc_21_23.to_csv( loc_ftr + \"\\\\cant_auc_21_23.csv\", index = False )"
   ]
  },
  {
   "cell_type": "markdown",
   "metadata": {},
   "source": [
    "## <span style=\"color:red\"> **Tiempo hasta la primer auction en ese ventana** </span> \n",
    "\n",
    "Le asignamos cuanto tiempo, en la ventana del 18-20, tardo en realizar su primer auction"
   ]
  },
  {
   "cell_type": "code",
   "execution_count": 30,
   "metadata": {},
   "outputs": [],
   "source": [
    "frst_auc_18_20 = rh_18_20.copy()\n",
    "frst_auc_21_23 = rh_21_23.copy()\n",
    "\n",
    "first_auctions_rh_ins_18_20 = auc_18_20[ [\"device_id\",\"date\"] ].sort_values( \"date\" ).drop_duplicates( subset = \"device_id\", keep = \"first\" ).rename( columns = {\"device_id\":\"ref_hash\"} )\n",
    "first_auctions_rh_ins_21_23 = auc_21_23[ [\"device_id\",\"date\"] ].sort_values( \"date\" ).drop_duplicates( subset = \"device_id\", keep = \"first\" ).rename( columns = {\"device_id\":\"ref_hash\"} )\n",
    "\n",
    "first_auctions_rh_ins_18_20[\"time_to_frt_auc\"] = ( pd.to_datetime( first_auctions_rh_ins_18_20[\"date\"] ) -  dt.datetime( year = 2019, month = 4, day = 18 ) ).dt.total_seconds()\n",
    "first_auctions_rh_ins_21_23[\"time_to_frt_auc\"] = ( pd.to_datetime( first_auctions_rh_ins_21_23[\"date\"] ) -  dt.datetime( year = 2019, month = 4, day = 21 ) ).dt.total_seconds()\n",
    "\n",
    "first_auctions_rh_ins_18_20.drop( \"date\", axis = 1, inplace = True )\n",
    "first_auctions_rh_ins_21_23.drop( \"date\", axis = 1, inplace = True )\n",
    "\n",
    "frst_auc_18_20 = frst_auc_18_20.merge( first_auctions_rh_ins_18_20, how = \"left\", on = \"ref_hash\" )\n",
    "frst_auc_21_23 = frst_auc_21_23.merge( first_auctions_rh_ins_21_23, how = \"left\", on = \"ref_hash\" )\n",
    "\n",
    "#Los que tienen NaN es que nunca convirtieron. Los marcamos con el tiempo maximo\n",
    "frst_auc_18_20.fillna( 3 * 24 * 3600, inplace = True )\n",
    "frst_auc_21_23.fillna( 3 * 24 * 3600, inplace = True )\n",
    "\n",
    "frst_auc_18_20.to_csv( loc_ftr + \"\\\\frst_auc_18_20.csv\", index = False )\n",
    "frst_auc_21_23.to_csv( loc_ftr + \"\\\\frst_auc_21_23.csv\", index = False )"
   ]
  },
  {
   "cell_type": "markdown",
   "metadata": {},
   "source": [
    "# <span style=\"color:green\"> **Source que recibio mas instalaciones por dispositivo** </span> \n",
    "\n",
    "#### <span style=\"color:orange\"> **Mean Encoding** </span> (Usamos el promedio de la cantidad de veces que que es la fuente principal de algun dispositivo) - <span style=\"color:red\"> **No Mejora este tipo de codificacion** </span>"
   ]
  },
  {
   "cell_type": "code",
   "execution_count": 45,
   "metadata": {},
   "outputs": [],
   "source": [
    "srce_auc_18_20 = rh_18_20.copy()\n",
    "srce_auc_21_23 = rh_21_23.copy()\n",
    "\n",
    "main_source_18_20 = auc_18_20.groupby( [\"device_id\", \"source_id\"] ).agg( {\"source_id\":\"count\"} ).rename( columns = {\"source_id\":\"cant_auc\"} ).reset_index()\n",
    "main_source_21_23 = auc_21_23.groupby( [\"device_id\", \"source_id\"] ).agg( {\"source_id\":\"count\"} ).rename( columns = {\"source_id\":\"cant_auc\"} ).reset_index()\n",
    "\n",
    "main_source_18_20 = main_source_18_20.sort_values( by = [\"device_id\",\"cant_auc\"], ascending = True ).drop_duplicates( subset = [\"device_id\"], keep = \"last\" ); del( main_source_18_20[\"cant_auc\"] )\n",
    "main_source_21_23 = main_source_21_23.sort_values( by = [\"device_id\",\"cant_auc\"], ascending = True ).drop_duplicates( subset = [\"device_id\"], keep = \"last\" ); del( main_source_21_23[\"cant_auc\"] )\n",
    "\n",
    "srce_auc_18_20 = srce_auc_18_20.merge( main_source_18_20.rename(columns = {\"device_id\":\"ref_hash\"}), how = \"left\", on = \"ref_hash\" ); srce_auc_18_20.fillna( \"no_font\", inplace = True )\n",
    "srce_auc_21_23 = srce_auc_21_23.merge( main_source_21_23.rename(columns = {\"device_id\":\"ref_hash\"}), how = \"left\", on = \"ref_hash\" ); srce_auc_21_23.fillna( \"no_font\", inplace = True )\n",
    "\n",
    "srce_auc_18_20[\"to_count\"] = 1; srce_auc_18_20[\"source_id\"] = srce_auc_18_20[[\"source_id\", \"to_count\"]].groupby(\"source_id\").transform( \"sum\" ) / len(srce_auc_18_20); del(srce_auc_18_20[\"to_count\"])\n",
    "srce_auc_21_23[\"to_count\"] = 1; srce_auc_21_23[\"source_id\"] = srce_auc_21_23[[\"source_id\", \"to_count\"]].groupby(\"source_id\").transform( \"sum\" ) / len(srce_auc_21_23); del(srce_auc_21_23[\"to_count\"])\n",
    "\n",
    "srce_auc_18_20.to_csv( loc_ftr + \"\\\\srce_auc_18_20.csv\", index = False )\n",
    "srce_auc_21_23.to_csv( loc_ftr + \"\\\\srce_auc_21_23.csv\", index = False )"
   ]
  },
  {
   "cell_type": "markdown",
   "metadata": {},
   "source": [
    "#### <span style=\"color:orange\"> **OneHotEncoding** </span> "
   ]
  },
  {
   "cell_type": "code",
   "execution_count": 46,
   "metadata": {},
   "outputs": [],
   "source": [
    "srce_auc_18_20 = rh_18_20.copy()\n",
    "srce_auc_21_23 = rh_21_23.copy()\n",
    "\n",
    "main_source_18_20 = auc_18_20.groupby( [\"device_id\", \"source_id\"] ).agg( {\"source_id\":\"count\"} ).rename( columns = {\"source_id\":\"cant_auc\"} ).reset_index()\n",
    "main_source_21_23 = auc_21_23.groupby( [\"device_id\", \"source_id\"] ).agg( {\"source_id\":\"count\"} ).rename( columns = {\"source_id\":\"cant_auc\"} ).reset_index()\n",
    "\n",
    "main_source_18_20 = main_source_18_20.sort_values( by = [\"device_id\",\"cant_auc\"], ascending = True ).drop_duplicates( subset = [\"device_id\"], keep = \"last\" ); del( main_source_18_20[\"cant_auc\"] )\n",
    "main_source_21_23 = main_source_21_23.sort_values( by = [\"device_id\",\"cant_auc\"], ascending = True ).drop_duplicates( subset = [\"device_id\"], keep = \"last\" ); del( main_source_21_23[\"cant_auc\"] )\n",
    "\n",
    "srce_auc_18_20 = srce_auc_18_20.merge( main_source_18_20.rename(columns = {\"device_id\":\"ref_hash\"}), how = \"left\", on = \"ref_hash\" ); srce_auc_18_20.fillna( \"no_font\", inplace = True )\n",
    "srce_auc_21_23 = srce_auc_21_23.merge( main_source_21_23.rename(columns = {\"device_id\":\"ref_hash\"}), how = \"left\", on = \"ref_hash\" ); srce_auc_21_23.fillna( \"no_font\", inplace = True )\n",
    "\n",
    "#Ya fue controlado que quedan las mismas fuentes para ambas ventanas, no quedan columnas distintas\n",
    "srce_auc_ohe_18_20 = pd.get_dummies( srce_auc_18_20[ [\"source_id\"] ].astype( \"category\" ) )\n",
    "srce_auc_ohe_21_23 = pd.get_dummies( srce_auc_21_23[ [\"source_id\"] ].astype( \"category\" ) )\n",
    "\n",
    "srce_auc_18_20 = pd.concat( [srce_auc_18_20, srce_auc_ohe_18_20], axis = 1 ); del( srce_auc_18_20[\"source_id\"] )\n",
    "srce_auc_21_23 = pd.concat( [srce_auc_21_23, srce_auc_ohe_21_23], axis = 1 ); del( srce_auc_21_23[\"source_id\"] )\n",
    "\n",
    "srce_auc_18_20.to_csv( loc_ftr + \"\\\\srce_auc_18_20.csv\", index = False )\n",
    "srce_auc_21_23.to_csv( loc_ftr + \"\\\\srce_auc_21_23.csv\", index = False )"
   ]
  },
  {
   "cell_type": "markdown",
   "metadata": {},
   "source": [
    "## <span style=\"color:red\"> **Tiempo hasta la ultima auction en esa ventana** </span> "
   ]
  },
  {
   "cell_type": "code",
   "execution_count": 11,
   "metadata": {},
   "outputs": [],
   "source": [
    "last_auc_18_20 = rh_18_20.copy()\n",
    "last_auc_21_23 = rh_21_23.copy()\n",
    "\n",
    "last_auctions_rh_ins_18_20 = auc_18_20[ [\"device_id\",\"date\"] ].sort_values( \"date\", ascending = False ).drop_duplicates( subset = \"device_id\", keep = \"first\" ).rename( columns = {\"device_id\":\"ref_hash\"} )\n",
    "last_auctions_rh_ins_21_23 = auc_21_23[ [\"device_id\",\"date\"] ].sort_values( \"date\", ascending = False ).drop_duplicates( subset = \"device_id\", keep = \"first\" ).rename( columns = {\"device_id\":\"ref_hash\"} )\n",
    "\n",
    "last_auctions_rh_ins_18_20[\"time_to_lst_auc\"] = ( pd.to_datetime( last_auctions_rh_ins_18_20[\"date\"] ) -  dt.datetime( year = 2019, month = 4, day = 18 ) ).dt.total_seconds()\n",
    "last_auctions_rh_ins_21_23[\"time_to_lst_auc\"] = ( pd.to_datetime( last_auctions_rh_ins_21_23[\"date\"] ) -  dt.datetime( year = 2019, month = 4, day = 21 ) ).dt.total_seconds()\n",
    "\n",
    "last_auctions_rh_ins_18_20.drop( \"date\", axis = 1, inplace = True )\n",
    "last_auctions_rh_ins_21_23.drop( \"date\", axis = 1, inplace = True )\n",
    "\n",
    "last_auc_18_20 = last_auc_18_20.merge( last_auctions_rh_ins_18_20, how = \"left\", on = \"ref_hash\" )\n",
    "last_auc_21_23 = last_auc_21_23.merge( last_auctions_rh_ins_21_23, how = \"left\", on = \"ref_hash\" )\n",
    "\n",
    "#Los que tienen NaN es que nunca convirtieron. Los marcamos con el tiempo maximo\n",
    "last_auc_18_20.fillna( 3 * 24 * 3600, inplace = True )\n",
    "last_auc_21_23.fillna( 3 * 24 * 3600, inplace = True )\n",
    "\n",
    "last_auc_18_20.to_csv( loc_ftr + \"\\\\last_auc_18_20.csv\", index = False )\n",
    "last_auc_21_23.to_csv( loc_ftr + \"\\\\last_auc_21_23.csv\", index = False )"
   ]
  },
  {
   "cell_type": "markdown",
   "metadata": {},
   "source": [
    "## <span style=\"color:red\"> **Participo en mas de una subasta** </span> "
   ]
  },
  {
   "cell_type": "markdown",
   "metadata": {},
   "source": [
    "## <span style=\"color:Orange\"> **Mean Encoding** </span> "
   ]
  },
  {
   "cell_type": "code",
   "execution_count": 70,
   "metadata": {},
   "outputs": [],
   "source": [
    "cant_ins_18_20 = rh_18_20.copy()\n",
    "cant_ins_21_23 = rh_21_23.copy()\n",
    "\n",
    "cant_ins_18_20 = cant_ins_18_20.merge( ins_18_20[\"ref_hash\"].value_counts().to_frame().reset_index().rename( columns = {\"ref_hash\": \"mt_1_ins\", \"index\":\"ref_hash\"} ), how = \"left\", on = \"ref_hash\" )\n",
    "cant_ins_21_23 = cant_ins_21_23.merge( ins_21_23[\"ref_hash\"].value_counts().to_frame().reset_index().rename( columns = {\"ref_hash\": \"mt_1_ins\", \"index\":\"ref_hash\"} ), how = \"left\", on = \"ref_hash\" )\n",
    "\n",
    "cant_ins_18_20.fillna( 0, inplace = True )\n",
    "cant_ins_21_23.fillna( 0, inplace = True )\n",
    "\n",
    "cant_ins_18_20['mt_1_ins'] = (cant_ins_18_20['mt_1_ins'] > 1).astype('int8')\n",
    "cant_ins_21_23['mt_1_ins'] = (cant_ins_21_23['mt_1_ins'] > 1).astype('int8')\n",
    "\n",
    "cant_ins_18_20['me_mt_1_ins'] = ( cant_ins_18_20.groupby('mt_1_ins').transform('count') ) / len(cant_ins_18_20['mt_1_ins'])\n",
    "cant_ins_21_23['me_mt_1_ins'] = ( cant_ins_21_23.groupby('mt_1_ins').transform('count') ) / len(cant_ins_21_23['mt_1_ins'])\n",
    "\n",
    "del cant_ins_18_20['mt_1_ins']\n",
    "del cant_ins_21_23['mt_1_ins']\n",
    "\n",
    "cant_ins_18_20.to_csv( loc_ftr + \"\\\\m1me_auc_18_20.csv\", index = False )\n",
    "cant_ins_21_23.to_csv( loc_ftr + \"\\\\m1me_auc_21_23.csv\", index = False )"
   ]
  },
  {
   "cell_type": "markdown",
   "metadata": {},
   "source": [
    "## <span style=\"color:Orange\"> **One-hot Encoding** </span> "
   ]
  },
  {
   "cell_type": "code",
   "execution_count": 71,
   "metadata": {},
   "outputs": [],
   "source": [
    "cant_ins_18_20 = rh_18_20.copy()\n",
    "cant_ins_21_23 = rh_21_23.copy()\n",
    "\n",
    "cant_ins_18_20 = cant_ins_18_20.merge( ins_18_20[\"ref_hash\"].value_counts().to_frame().reset_index().rename( columns = {\"ref_hash\": \"mt_1_ins\", \"index\":\"ref_hash\"} ), how = \"left\", on = \"ref_hash\" )\n",
    "cant_ins_21_23 = cant_ins_21_23.merge( ins_21_23[\"ref_hash\"].value_counts().to_frame().reset_index().rename( columns = {\"ref_hash\": \"mt_1_ins\", \"index\":\"ref_hash\"} ), how = \"left\", on = \"ref_hash\" )\n",
    "\n",
    "cant_ins_18_20.fillna( 0, inplace = True )\n",
    "cant_ins_21_23.fillna( 0, inplace = True )\n",
    "\n",
    "cant_ins_18_20['mt_1_ins'] = (cant_ins_18_20['mt_1_ins'] > 1).astype('int8')\n",
    "cant_ins_21_23['mt_1_ins'] = (cant_ins_21_23['mt_1_ins'] > 1).astype('int8')\n",
    "\n",
    "cant_ins_18_20.to_csv( loc_ftr + \"\\\\m1oh_auc_18_20.csv\", index = False )\n",
    "cant_ins_21_23.to_csv( loc_ftr + \"\\\\m1oh_auc_21_23.csv\", index = False )"
   ]
  },
  {
   "cell_type": "markdown",
   "metadata": {},
   "source": [
    "## <span style=\"color:green\"> **Recibio subasta entre 21 hs y 3 hs (Noche)** </span> "
   ]
  },
  {
   "cell_type": "markdown",
   "metadata": {},
   "source": [
    "## <span style=\"color:Orange\"> **Mean Encoding** </span> "
   ]
  },
  {
   "cell_type": "code",
   "execution_count": 45,
   "metadata": {},
   "outputs": [],
   "source": [
    "auc_18_20['auc_21_3'] = ( pd.to_datetime( auc_18_20['date'] ).dt.hour < 4) | ( pd.to_datetime( auc_18_20['date'] ).dt.hour > 20)\n",
    "auc_21_23['auc_21_3'] = ( pd.to_datetime( auc_21_23['date'] ).dt.hour < 4) | ( pd.to_datetime( auc_21_23['date'] ).dt.hour > 20)\n",
    "\n",
    "auc_night_18_20 = rh_18_20.copy()\n",
    "auc_night_21_23 = rh_21_23.copy()\n",
    "\n",
    "hour_mode_18_20 = auc_18_20.groupby('device_id').agg({'auc_21_3':'sum'}).reset_index().rename( columns = {\"device_id\":\"ref_hash\"} )\n",
    "hour_mode_21_23 = auc_21_23.groupby('device_id').agg({'auc_21_3':'sum'}).reset_index().rename( columns = {\"device_id\":\"ref_hash\"} )\n",
    "\n",
    "auc_night_18_20 = auc_night_18_20.merge( hour_mode_18_20, how = \"left\", on = \"ref_hash\" )\n",
    "auc_night_21_23 = auc_night_21_23.merge( hour_mode_21_23, how = \"left\", on = \"ref_hash\" )\n",
    "\n",
    "auc_night_18_20[\"auc_21_3\"] =  (auc_night_18_20[\"auc_21_3\"] > 1).astype('int8')\n",
    "auc_night_21_23[\"auc_21_3\"] =  (auc_night_21_23[\"auc_21_3\"] > 1).astype('int8')\n",
    "\n",
    "auc_night_18_20['me_auc_21_3'] = ( auc_night_18_20.groupby('auc_21_3').transform('count') ) / len(auc_night_18_20['auc_21_3'])\n",
    "auc_night_21_23['me_auc_21_3'] = ( auc_night_21_23.groupby('auc_21_3').transform('count') ) / len(auc_night_21_23['auc_21_3'])\n",
    "\n",
    "del auc_night_18_20[\"auc_21_3\"]\n",
    "del auc_night_21_23[\"auc_21_3\"]\n",
    "\n",
    "auc_night_18_20.to_csv( loc_ftr + \"\\\\auc_ngme_18_20.csv\", index = False )\n",
    "auc_night_21_23.to_csv( loc_ftr + \"\\\\auc_ngme_21_23.csv\", index = False )\n",
    "\n",
    "del auc_18_20['auc_21_3']\n",
    "del auc_21_23['auc_21_3']"
   ]
  },
  {
   "cell_type": "markdown",
   "metadata": {},
   "source": [
    "## <span style=\"color:Orange\"> **One-hot Encoding** </span> "
   ]
  },
  {
   "cell_type": "code",
   "execution_count": 46,
   "metadata": {},
   "outputs": [],
   "source": [
    "auc_18_20['auc_21_3'] = ( pd.to_datetime( auc_18_20['date'] ).dt.hour < 4) | ( pd.to_datetime( auc_18_20['date'] ).dt.hour > 20)\n",
    "auc_21_23['auc_21_3'] = ( pd.to_datetime( auc_21_23['date'] ).dt.hour < 4) | ( pd.to_datetime( auc_21_23['date'] ).dt.hour > 20)\n",
    "\n",
    "auc_night_18_20 = rh_18_20.copy()\n",
    "auc_night_21_23 = rh_21_23.copy()\n",
    "\n",
    "hour_mode_18_20 = auc_18_20.groupby('device_id').agg({'auc_21_3':'sum'}).reset_index().rename( columns = {\"device_id\":\"ref_hash\"} )\n",
    "hour_mode_21_23 = auc_21_23.groupby('device_id').agg({'auc_21_3':'sum'}).reset_index().rename( columns = {\"device_id\":\"ref_hash\"} )\n",
    "\n",
    "auc_night_18_20 = auc_night_18_20.merge( hour_mode_18_20, how = \"left\", on = \"ref_hash\" )\n",
    "auc_night_21_23 = auc_night_21_23.merge( hour_mode_21_23, how = \"left\", on = \"ref_hash\" )\n",
    "\n",
    "auc_night_18_20[\"auc_21_3\"] =  (auc_night_18_20[\"auc_21_3\"] > 1).astype('int8')\n",
    "auc_night_21_23[\"auc_21_3\"] =  (auc_night_21_23[\"auc_21_3\"] > 1).astype('int8')\n",
    "\n",
    "auc_night_18_20.to_csv( loc_ftr + \"\\\\auc_ngoh_18_20.csv\", index = False )\n",
    "auc_night_21_23.to_csv( loc_ftr + \"\\\\auc_ngoh_21_23.csv\", index = False )\n",
    "\n",
    "del auc_18_20['auc_21_3']\n",
    "del auc_21_23['auc_21_3']"
   ]
  },
  {
   "cell_type": "markdown",
   "metadata": {},
   "source": [
    "## <span style=\"color:green\"> **Recibio subasta entre 4 hs y 10 hs (Mañana)** </span> "
   ]
  },
  {
   "cell_type": "markdown",
   "metadata": {},
   "source": [
    "## <span style=\"color:Orange\"> **Mean Encoding** </span> "
   ]
  },
  {
   "cell_type": "code",
   "execution_count": 47,
   "metadata": {},
   "outputs": [],
   "source": [
    "auc_18_20['auc_4_10'] = ( pd.to_datetime( auc_18_20['date'] ).dt.hour < 11) & ( pd.to_datetime( auc_18_20['date'] ).dt.hour > 3)\n",
    "auc_21_23['auc_4_10'] = ( pd.to_datetime( auc_21_23['date'] ).dt.hour < 11) & ( pd.to_datetime( auc_21_23['date'] ).dt.hour > 3)\n",
    "\n",
    "auc_morn_18_20 = rh_18_20.copy()\n",
    "auc_morn_21_23 = rh_21_23.copy()\n",
    "\n",
    "hour_mode_18_20 = auc_18_20.groupby('device_id').agg({'auc_4_10':'sum'}).reset_index().rename( columns = {\"device_id\":\"ref_hash\"} )\n",
    "hour_mode_21_23 = auc_21_23.groupby('device_id').agg({'auc_4_10':'sum'}).reset_index().rename( columns = {\"device_id\":\"ref_hash\"} )\n",
    "\n",
    "auc_morn_18_20 = auc_morn_18_20.merge( hour_mode_18_20, how = \"left\", on = \"ref_hash\" )\n",
    "auc_morn_21_23 = auc_morn_21_23.merge( hour_mode_21_23, how = \"left\", on = \"ref_hash\" )\n",
    "\n",
    "auc_morn_18_20[\"auc_4_10\"] =  (auc_morn_18_20[\"auc_4_10\"] > 1).astype('int8')\n",
    "auc_morn_21_23[\"auc_4_10\"] =  (auc_morn_21_23[\"auc_4_10\"] > 1).astype('int8')\n",
    "\n",
    "auc_morn_18_20['me_auc_4_10'] = ( auc_morn_18_20.groupby('auc_4_10').transform('count') ) / len(auc_morn_18_20['auc_4_10'])\n",
    "auc_morn_21_23['me_auc_4_10'] = ( auc_morn_21_23.groupby('auc_4_10').transform('count') ) / len(auc_morn_21_23['auc_4_10'])\n",
    "\n",
    "del auc_morn_18_20[\"auc_4_10\"]\n",
    "del auc_morn_21_23[\"auc_4_10\"]\n",
    "\n",
    "auc_morn_18_20.to_csv( loc_ftr + \"\\\\auc_mrme_18_20.csv\", index = False )\n",
    "auc_morn_21_23.to_csv( loc_ftr + \"\\\\auc_mrme_21_23.csv\", index = False )\n",
    "\n",
    "del auc_18_20['auc_4_10']\n",
    "del auc_21_23['auc_4_10']"
   ]
  },
  {
   "cell_type": "markdown",
   "metadata": {},
   "source": [
    "## <span style=\"color:Orange\"> **One-hot Encoding** </span> "
   ]
  },
  {
   "cell_type": "code",
   "execution_count": 48,
   "metadata": {},
   "outputs": [],
   "source": [
    "auc_18_20['auc_4_10'] = ( pd.to_datetime( auc_18_20['date'] ).dt.hour < 11) & ( pd.to_datetime( auc_18_20['date'] ).dt.hour > 3)\n",
    "auc_21_23['auc_4_10'] = ( pd.to_datetime( auc_21_23['date'] ).dt.hour < 11) & ( pd.to_datetime( auc_21_23['date'] ).dt.hour > 3)\n",
    "\n",
    "auc_morn_18_20 = rh_18_20.copy()\n",
    "auc_morn_21_23 = rh_21_23.copy()\n",
    "\n",
    "hour_mode_18_20 = auc_18_20.groupby('device_id').agg({'auc_4_10':'sum'}).reset_index().rename( columns = {\"device_id\":\"ref_hash\"} )\n",
    "hour_mode_21_23 = auc_21_23.groupby('device_id').agg({'auc_4_10':'sum'}).reset_index().rename( columns = {\"device_id\":\"ref_hash\"} )\n",
    "\n",
    "auc_morn_18_20 = auc_morn_18_20.merge( hour_mode_18_20, how = \"left\", on = \"ref_hash\" )\n",
    "auc_morn_21_23 = auc_morn_21_23.merge( hour_mode_21_23, how = \"left\", on = \"ref_hash\" )\n",
    "\n",
    "auc_morn_18_20[\"auc_4_10\"] =  (auc_morn_18_20[\"auc_4_10\"] > 1).astype('int8')\n",
    "auc_morn_21_23[\"auc_4_10\"] =  (auc_morn_21_23[\"auc_4_10\"] > 1).astype('int8')\n",
    "\n",
    "auc_morn_18_20.to_csv( loc_ftr + \"\\\\auc_mroh_18_20.csv\", index = False )\n",
    "auc_morn_21_23.to_csv( loc_ftr + \"\\\\auc_mroh_21_23.csv\", index = False )\n",
    "\n",
    "del auc_18_20['auc_4_10']\n",
    "del auc_21_23['auc_4_10']"
   ]
  },
  {
   "cell_type": "markdown",
   "metadata": {},
   "source": [
    "## <span style=\"color:green\"> **Recibio subasta entre 11 hs y 15 hs (Mediodia)** </span> "
   ]
  },
  {
   "cell_type": "markdown",
   "metadata": {},
   "source": [
    "## <span style=\"color:Orange\"> **Mean Encoding** </span> "
   ]
  },
  {
   "cell_type": "code",
   "execution_count": 49,
   "metadata": {},
   "outputs": [],
   "source": [
    "auc_18_20['auc_11_15'] = ( pd.to_datetime( auc_18_20['date'] ).dt.hour < 16) & ( pd.to_datetime( auc_18_20['date'] ).dt.hour > 10)\n",
    "auc_21_23['auc_11_15'] = ( pd.to_datetime( auc_21_23['date'] ).dt.hour < 16) & ( pd.to_datetime( auc_21_23['date'] ).dt.hour > 10)\n",
    "\n",
    "auc_midday_18_20 = rh_18_20.copy()\n",
    "auc_midday_21_23 = rh_21_23.copy()\n",
    "\n",
    "hour_mode_18_20 = auc_18_20.groupby('device_id').agg({'auc_11_15':'sum'}).reset_index().rename( columns = {\"device_id\":\"ref_hash\"} )\n",
    "hour_mode_21_23 = auc_21_23.groupby('device_id').agg({'auc_11_15':'sum'}).reset_index().rename( columns = {\"device_id\":\"ref_hash\"} )\n",
    "\n",
    "auc_midday_18_20 = auc_midday_18_20.merge( hour_mode_18_20, how = \"left\", on = \"ref_hash\" )\n",
    "auc_midday_21_23 = auc_midday_21_23.merge( hour_mode_21_23, how = \"left\", on = \"ref_hash\" )\n",
    "\n",
    "auc_midday_18_20[\"auc_11_15\"] =  (auc_midday_18_20[\"auc_11_15\"] > 1).astype('int8')\n",
    "auc_midday_21_23[\"auc_11_15\"] =  (auc_midday_21_23[\"auc_11_15\"] > 1).astype('int8')\n",
    "\n",
    "auc_midday_18_20['me_auc_11_15'] = ( auc_midday_18_20.groupby('auc_11_15').transform('count') ) / len(auc_midday_18_20['auc_11_15'])\n",
    "auc_midday_21_23['me_auc_11_15'] = ( auc_midday_21_23.groupby('auc_11_15').transform('count') ) / len(auc_midday_21_23['auc_11_15'])\n",
    "\n",
    "del auc_midday_18_20[\"auc_11_15\"]\n",
    "del auc_midday_21_23[\"auc_11_15\"]\n",
    "\n",
    "auc_midday_18_20.to_csv( loc_ftr + \"\\\\auc_mdme_18_20.csv\", index = False )\n",
    "auc_midday_21_23.to_csv( loc_ftr + \"\\\\auc_mdme_21_23.csv\", index = False )\n",
    "\n",
    "del auc_18_20['auc_11_15']\n",
    "del auc_21_23['auc_11_15']"
   ]
  },
  {
   "cell_type": "markdown",
   "metadata": {},
   "source": [
    "## <span style=\"color:Orange\"> **One-hot Encoding** </span> "
   ]
  },
  {
   "cell_type": "code",
   "execution_count": 50,
   "metadata": {},
   "outputs": [],
   "source": [
    "auc_18_20['auc_11_15'] = ( pd.to_datetime( auc_18_20['date'] ).dt.hour < 16) & ( pd.to_datetime( auc_18_20['date'] ).dt.hour > 10)\n",
    "auc_21_23['auc_11_15'] = ( pd.to_datetime( auc_21_23['date'] ).dt.hour < 16) & ( pd.to_datetime( auc_21_23['date'] ).dt.hour > 10)\n",
    "\n",
    "auc_midday_18_20 = rh_18_20.copy()\n",
    "auc_midday_21_23 = rh_21_23.copy()\n",
    "\n",
    "hour_mode_18_20 = auc_18_20.groupby('device_id').agg({'auc_11_15':'sum'}).reset_index().rename( columns = {\"device_id\":\"ref_hash\"} )\n",
    "hour_mode_21_23 = auc_21_23.groupby('device_id').agg({'auc_11_15':'sum'}).reset_index().rename( columns = {\"device_id\":\"ref_hash\"} )\n",
    "\n",
    "auc_midday_18_20 = auc_midday_18_20.merge( hour_mode_18_20, how = \"left\", on = \"ref_hash\" )\n",
    "auc_midday_21_23 = auc_midday_21_23.merge( hour_mode_21_23, how = \"left\", on = \"ref_hash\" )\n",
    "\n",
    "auc_midday_18_20[\"auc_11_15\"] =  (auc_midday_18_20[\"auc_11_15\"] > 1).astype('int8')\n",
    "auc_midday_21_23[\"auc_11_15\"] =  (auc_midday_21_23[\"auc_11_15\"] > 1).astype('int8')\n",
    "\n",
    "auc_midday_18_20.to_csv( loc_ftr + \"\\\\auc_mdoh_18_20.csv\", index = False )\n",
    "auc_midday_21_23.to_csv( loc_ftr + \"\\\\auc_mdoh_21_23.csv\", index = False )\n",
    "\n",
    "del auc_18_20['auc_11_15']\n",
    "del auc_21_23['auc_11_15']"
   ]
  },
  {
   "cell_type": "markdown",
   "metadata": {},
   "source": [
    "## <span style=\"color:green\"> **Recibio subasta entre 16 hs y 20 hs (Tarde)** </span> "
   ]
  },
  {
   "cell_type": "markdown",
   "metadata": {},
   "source": [
    "## <span style=\"color:Orange\"> **Mean Encoding** </span> "
   ]
  },
  {
   "cell_type": "code",
   "execution_count": 51,
   "metadata": {},
   "outputs": [],
   "source": [
    "auc_18_20['auc_16_20'] = ( pd.to_datetime( auc_18_20['date'] ).dt.hour < 21) & ( pd.to_datetime( auc_18_20['date'] ).dt.hour > 15)\n",
    "auc_21_23['auc_16_20'] = ( pd.to_datetime( auc_21_23['date'] ).dt.hour < 21) & ( pd.to_datetime( auc_21_23['date'] ).dt.hour > 15)\n",
    "\n",
    "auc_after_18_20 = rh_18_20.copy()\n",
    "auc_after_21_23 = rh_21_23.copy()\n",
    "\n",
    "hour_mode_18_20 = auc_18_20.groupby('device_id').agg({'auc_16_20':'sum'}).reset_index().rename( columns = {\"device_id\":\"ref_hash\"} )\n",
    "hour_mode_21_23 = auc_21_23.groupby('device_id').agg({'auc_16_20':'sum'}).reset_index().rename( columns = {\"device_id\":\"ref_hash\"} )\n",
    "\n",
    "auc_after_18_20 = auc_after_18_20.merge( hour_mode_18_20, how = \"left\", on = \"ref_hash\" )\n",
    "auc_after_21_23 = auc_after_21_23.merge( hour_mode_21_23, how = \"left\", on = \"ref_hash\" )\n",
    "\n",
    "auc_after_18_20[\"auc_16_20\"] =  (auc_after_18_20[\"auc_16_20\"] > 1).astype('int8')\n",
    "auc_after_21_23[\"auc_16_20\"] =  (auc_after_21_23[\"auc_16_20\"] > 1).astype('int8')\n",
    "\n",
    "auc_after_18_20['me_auc_16_20'] = ( auc_after_18_20.groupby('auc_16_20').transform('count') ) / len(auc_after_18_20['auc_16_20'])\n",
    "auc_after_21_23['me_auc_16_20'] = ( auc_after_21_23.groupby('auc_16_20').transform('count') ) / len(auc_after_21_23['auc_16_20'])\n",
    "\n",
    "del auc_after_18_20[\"auc_16_20\"]\n",
    "del auc_after_21_23[\"auc_16_20\"]\n",
    "\n",
    "auc_after_18_20.to_csv( loc_ftr + \"\\\\auc_afme_18_20.csv\", index = False )\n",
    "auc_after_21_23.to_csv( loc_ftr + \"\\\\auc_afme_21_23.csv\", index = False )\n",
    "\n",
    "del auc_18_20['auc_16_20']\n",
    "del auc_21_23['auc_16_20']"
   ]
  },
  {
   "cell_type": "markdown",
   "metadata": {},
   "source": [
    "## <span style=\"color:Orange\"> **One-hot Encoding** </span> "
   ]
  },
  {
   "cell_type": "code",
   "execution_count": 52,
   "metadata": {},
   "outputs": [],
   "source": [
    "auc_18_20['auc_16_20'] = ( pd.to_datetime( auc_18_20['date'] ).dt.hour < 21) & ( pd.to_datetime( auc_18_20['date'] ).dt.hour > 15)\n",
    "auc_21_23['auc_16_20'] = ( pd.to_datetime( auc_21_23['date'] ).dt.hour < 21) & ( pd.to_datetime( auc_21_23['date'] ).dt.hour > 15)\n",
    "\n",
    "auc_after_18_20 = rh_18_20.copy()\n",
    "auc_after_21_23 = rh_21_23.copy()\n",
    "\n",
    "hour_mode_18_20 = auc_18_20.groupby('device_id').agg({'auc_16_20':'sum'}).reset_index().rename( columns = {\"device_id\":\"ref_hash\"} )\n",
    "hour_mode_21_23 = auc_21_23.groupby('device_id').agg({'auc_16_20':'sum'}).reset_index().rename( columns = {\"device_id\":\"ref_hash\"} )\n",
    "\n",
    "auc_after_18_20 = auc_after_18_20.merge( hour_mode_18_20, how = \"left\", on = \"ref_hash\" )\n",
    "auc_after_21_23 = auc_after_21_23.merge( hour_mode_21_23, how = \"left\", on = \"ref_hash\" )\n",
    "\n",
    "auc_after_18_20[\"auc_16_20\"] =  (auc_after_18_20[\"auc_16_20\"] > 1).astype('int8')\n",
    "auc_after_21_23[\"auc_16_20\"] =  (auc_after_21_23[\"auc_16_20\"] > 1).astype('int8')\n",
    "\n",
    "auc_after_18_20.to_csv( loc_ftr + \"\\\\auc_afoh_18_20.csv\", index = False )\n",
    "auc_after_21_23.to_csv( loc_ftr + \"\\\\auc_afoh_21_23.csv\", index = False )\n",
    "\n",
    "del auc_18_20['auc_16_20']\n",
    "del auc_21_23['auc_16_20']"
   ]
  },
  {
   "cell_type": "code",
   "execution_count": null,
   "metadata": {},
   "outputs": [],
   "source": []
  }
 ],
 "metadata": {
  "kernelspec": {
   "display_name": "Python 3",
   "language": "python",
   "name": "python3"
  },
  "language_info": {
   "codemirror_mode": {
    "name": "ipython",
    "version": 3
   },
   "file_extension": ".py",
   "mimetype": "text/x-python",
   "name": "python",
   "nbconvert_exporter": "python",
   "pygments_lexer": "ipython3",
   "version": "3.7.0"
  }
 },
 "nbformat": 4,
 "nbformat_minor": 2
}
