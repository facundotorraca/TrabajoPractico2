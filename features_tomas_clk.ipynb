{
 "cells": [
  {
   "cell_type": "markdown",
   "metadata": {},
   "source": [
    "# <span style=\"color:purple\"> DISTANCIA DE (touchX, touchY) AL ORIGEN </span> "
   ]
  },
  {
   "cell_type": "code",
   "execution_count": null,
   "metadata": {},
   "outputs": [],
   "source": [
    "dist_touch_trn = rh_trn.copy()\n",
    "dist_touch_tst = rh_tst.copy()\n",
    "\n",
    "clk_trn['distTouch'] = np.square(clk_trn['touchX']) + np.square(clk_trn['touchY'])\n",
    "clk_tst['distTouch'] = np.square(clk_tst['touchX']) + np.square(clk_tst['touchY'])\n",
    "\n",
    "clk_trn['distTouch'] = np.sqrt(clk_trn['distTouch'])\n",
    "clk_tst['distTouch'] = np.sqrt(clk_tst['distTouch'])\n",
    "\n",
    "dist_touch_trn = dist_touch_trn.merge(clk_trn[['ref_hash', 'distTouch']], on='ref_hash', how='left')\n",
    "dist_touch_tst = dist_touch_tst.merge(clk_tst[['ref_hash', 'distTouch']], on='ref_hash', how='left')\n",
    "\n",
    "dist_touch_trn.to_csv( loc_ftr + \"\\\\dist_touch_trn.csv\", index = False )\n",
    "dist_touch_tst.to_csv( loc_ftr + \"\\\\dist_touch_tst.csv\", index = False )\n",
    "\n",
    "del clk_trn['distTouch']\n",
    "del clk_tst['distTouch']"
   ]
  }
 ],
 "metadata": {
  "kernelspec": {
   "display_name": "Python 3",
   "language": "python",
   "name": "python3"
  },
  "language_info": {
   "codemirror_mode": {
    "name": "ipython",
    "version": 3
   },
   "file_extension": ".py",
   "mimetype": "text/x-python",
   "name": "python",
   "nbconvert_exporter": "python",
   "pygments_lexer": "ipython3",
   "version": "3.7.1"
  }
 },
 "nbformat": 4,
 "nbformat_minor": 2
}
