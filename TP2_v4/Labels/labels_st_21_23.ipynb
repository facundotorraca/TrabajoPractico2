{
 "cells": [
  {
   "cell_type": "code",
   "execution_count": 25,
   "metadata": {},
   "outputs": [],
   "source": [
    "import pandas as pd\n",
    "import numpy as np\n",
    "import warnings as wn\n",
    "\n",
    "wn.simplefilter( \"ignore\" )"
   ]
  },
  {
   "cell_type": "code",
   "execution_count": 26,
   "metadata": {},
   "outputs": [],
   "source": [
    "loc_lb = r\"D:\\FacundoTorraca\\Documents\\TP2_Machine_Learning_v4\\Labels\""
   ]
  },
  {
   "cell_type": "code",
   "execution_count": 27,
   "metadata": {},
   "outputs": [],
   "source": [
    "auc_lb = pd.read_csv( loc_lb + \"\\\\auc_lb.csv\", dtype = {\"obs_18_20\":\"bool\", \"obs_21_23\":\"bool\", \"obs_24_26\":\"bool\"} )"
   ]
  },
  {
   "cell_type": "markdown",
   "metadata": {},
   "source": [
    "#### El Training Set consiste de:\n",
    "\n",
    "* Personas que participaron en subastas en la ventana del 21-23 y no en 18-20\n",
    "* Personas que participaron en subastas en la ventana del 18-20 y no en 21-23\n",
    "* Personas que participaron en subastas en ambas ventanas"
   ]
  },
  {
   "cell_type": "code",
   "execution_count": 28,
   "metadata": {},
   "outputs": [],
   "source": [
    "onl_21_23 = auc_lb.loc[ (auc_lb[\"obs_21_23\"] == True) & (auc_lb[\"obs_18_20\"] == False), [\"ref_hash\", \"21_23_st\"] ] #Personas que participaron en auc solo el 21-23\n",
    "onl_18_20 = auc_lb.loc[ (auc_lb[\"obs_18_20\"] == True) & (auc_lb[\"obs_21_23\"] == False), [\"ref_hash\", \"21_23_st\"] ] #Personas que participaron en auc solo el 18-20\n",
    "both_wind = auc_lb.loc[ (auc_lb[\"obs_18_20\"] == True) & (auc_lb[\"obs_21_23\"] == True ), [\"ref_hash\", \"21_23_st\"] ] #Personas que participaron en auc en 2 vetnanas"
   ]
  },
  {
   "cell_type": "code",
   "execution_count": 29,
   "metadata": {},
   "outputs": [],
   "source": [
    "tam_18_20 = 32700 #10% de 327000 -> aprox total auctions en la ventana del 21-23"
   ]
  },
  {
   "cell_type": "code",
   "execution_count": 30,
   "metadata": {},
   "outputs": [],
   "source": [
    "tr_set_18_23 = onl_21_23.append( onl_18_20.iloc[:tam_18_20], sort = False ).append( both_wind, sort = False )"
   ]
  },
  {
   "cell_type": "code",
   "execution_count": 31,
   "metadata": {},
   "outputs": [],
   "source": [
    "tr_set_18_23.to_csv( loc_lb + \"\\\\label_auc_21_23.csv\", index = False )"
   ]
  }
 ],
 "metadata": {
  "kernelspec": {
   "display_name": "Python 3",
   "language": "python",
   "name": "python3"
  },
  "language_info": {
   "codemirror_mode": {
    "name": "ipython",
    "version": 3
   },
   "file_extension": ".py",
   "mimetype": "text/x-python",
   "name": "python",
   "nbconvert_exporter": "python",
   "pygments_lexer": "ipython3",
   "version": "3.7.0"
  }
 },
 "nbformat": 4,
 "nbformat_minor": 2
}
