{
 "cells": [
  {
   "cell_type": "code",
   "execution_count": 1,
   "metadata": {},
   "outputs": [],
   "source": [
    "import pandas as pd\n",
    "import numpy as np\n",
    "import datetime as dt\n",
    "import warnings as wn\n",
    "import sklearn.preprocessing as skpre\n",
    "import category_encoders as ce\n",
    "\n",
    "wn.simplefilter( \"ignore\" )"
   ]
  },
  {
   "cell_type": "markdown",
   "metadata": {},
   "source": [
    "# Preparamos los Sets de Training"
   ]
  },
  {
   "cell_type": "code",
   "execution_count": 2,
   "metadata": {},
   "outputs": [],
   "source": [
    "loc_ts = r\"D:\\FacundoTorraca\\Documents\\TP2_Machine_Learning\\Training Sets\""
   ]
  },
  {
   "cell_type": "code",
   "execution_count": 3,
   "metadata": {},
   "outputs": [],
   "source": [
    "ins_18_20 = pd.read_csv( loc_ts + \"\\\\ins_18_20.csv\" ); \n",
    "ins_21_23 = pd.read_csv( loc_ts + \"\\\\ins_21_23.csv\" ); \n",
    "ins_24_26 = pd.read_csv( loc_ts + \"\\\\ins_24_26.csv\" ); "
   ]
  },
  {
   "cell_type": "markdown",
   "metadata": {},
   "source": [
    "# Genero los Sets con el primer install"
   ]
  },
  {
   "cell_type": "code",
   "execution_count": 4,
   "metadata": {},
   "outputs": [],
   "source": [
    "ins_18_20[\"date\"] =  pd.to_datetime( ins_18_20[\"date\"] ); ins_18_20[\"_sc\"] = ins_18_20[\"date\"] - dt.datetime( year = 2019, month = 4, day = 18 ); ins_18_20[\"_sc\"] = ins_18_20[\"_sc\"].dt.total_seconds();\n",
    "ins_21_23[\"date\"] =  pd.to_datetime( ins_21_23[\"date\"] ); ins_21_23[\"_sc\"] = ins_21_23[\"date\"] - dt.datetime( year = 2019, month = 4, day = 21 ); ins_21_23[\"_sc\"] = ins_21_23[\"_sc\"].dt.total_seconds(); \n",
    "ins_24_26[\"date\"] =  pd.to_datetime( ins_24_26[\"date\"] ); ins_24_26[\"_sc\"] = ins_24_26[\"date\"] - dt.datetime( year = 2019, month = 4, day = 24 ); ins_24_26[\"_sc\"] = ins_24_26[\"_sc\"].dt.total_seconds(); "
   ]
  },
  {
   "cell_type": "code",
   "execution_count": 5,
   "metadata": {},
   "outputs": [],
   "source": [
    "ins_18_20_first_ins = ins_18_20.sort_values( by = [\"ref_hash\",\"_sc\"], ascending = True ).drop_duplicates( subset = [\"ref_hash\"], keep = \"first\" )\n",
    "ins_21_23_first_ins = ins_21_23.sort_values( by = [\"ref_hash\",\"_sc\"], ascending = True ).drop_duplicates( subset = [\"ref_hash\"], keep = \"first\" )\n",
    "ins_24_26_first_ins = ins_24_26.sort_values( by = [\"ref_hash\",\"_sc\"], ascending = True ).drop_duplicates( subset = [\"ref_hash\"], keep = \"first\" )"
   ]
  },
  {
   "cell_type": "markdown",
   "metadata": {},
   "source": [
    "# Sacamos los Features"
   ]
  },
  {
   "cell_type": "code",
   "execution_count": 6,
   "metadata": {},
   "outputs": [],
   "source": [
    "loc_ftr = r\"D:\\FacundoTorraca\\Documents\\TP2_Machine_Learning\\Features\\ftr_ins\""
   ]
  },
  {
   "cell_type": "code",
   "execution_count": 7,
   "metadata": {},
   "outputs": [],
   "source": [
    "rh_18_20 = ins_18_20_first_ins[ [\"ref_hash\"] ] #RH unicos que coinciden con los datos que usamos para entrenar\n",
    "rh_21_23 = ins_21_23_first_ins[ [\"ref_hash\"] ] #RH unicos que coinciden con los datos que queremos predecir\n",
    "\n",
    "tg_18_20 = ins_18_20_first_ins[ [\"_sc\"] ]\n",
    "tg_21_23 = ins_21_23_first_ins[ [\"_sc\"] ]"
   ]
  },
  {
   "cell_type": "markdown",
   "metadata": {},
   "source": [
    "## <span style=\"color:yellow\"> ============================================================================================================================ </span> "
   ]
  },
  {
   "cell_type": "markdown",
   "metadata": {},
   "source": [
    "## <span style=\"color:green\"> **Hora de la conversion** </span> "
   ]
  },
  {
   "cell_type": "markdown",
   "metadata": {},
   "source": [
    "Le aplicamos la transformacion sin( (hora * pi)/24 ) para agregarle periodicidad. Por ejemplo que las 00 hs tengan un valor similar a 23"
   ]
  },
  {
   "cell_type": "code",
   "execution_count": null,
   "metadata": {},
   "outputs": [],
   "source": [
    "hour_18_20 = rh_18_20.copy()\n",
    "hour_21_23 = rh_21_23.copy()\n",
    "\n",
    "hour_18_20[\"sin_hour\"] = pd.to_datetime( ins_18_20_first_ins[\"date\"] ).dt.hour; hour_18_20[\"sin_hour\"] = hour_18_20[\"sin_hour\"].apply( lambda x: np.sin( (x *np.pi)/24 ) )\n",
    "hour_21_23[\"sin_hour\"] = pd.to_datetime( ins_21_23_first_ins[\"date\"] ).dt.hour; hour_21_23[\"sin_hour\"] = hour_21_23[\"sin_hour\"].apply( lambda x: np.sin( (x *np.pi)/24 ) )\n",
    "\n",
    "hour_18_20.to_csv( loc_ftr + \"\\\\sin_hour_18_20.csv\", index = False )\n",
    "hour_21_23.to_csv( loc_ftr + \"\\\\sin_hour_21_23.csv\", index = False )"
   ]
  },
  {
   "cell_type": "markdown",
   "metadata": {},
   "source": [
    "## <span style=\"color:green\"> **Dia de la conversion** </span> "
   ]
  },
  {
   "cell_type": "markdown",
   "metadata": {},
   "source": [
    "Le aplicamos la transformacion sin( (hora * pi)/24 ) para agregarle periodicidad. Por ejemplo que las 00 hs tengan un valor similar a 23"
   ]
  },
  {
   "cell_type": "code",
   "execution_count": 206,
   "metadata": {},
   "outputs": [],
   "source": [
    "week_day_18_20 = rh_18_20.copy()\n",
    "week_day_21_23 = rh_21_23.copy()\n",
    "\n",
    "week_day_18_20[\"sin_week_day\"] = pd.to_datetime( ins_18_20_first_ins[\"date\"] ).dt.weekday; week_day_18_20[\"sin_week_day\"] = week_day_18_20[\"sin_week_day\"].apply( lambda x: np.sin( (x * np.pi) / 6 ) )\n",
    "week_day_21_23[\"sin_week_day\"] = pd.to_datetime( ins_21_23_first_ins[\"date\"] ).dt.weekday; week_day_21_23[\"sin_week_day\"] = week_day_21_23[\"sin_week_day\"].apply( lambda x: np.sin( (x * np.pi) / 6 ) )\n",
    "\n",
    "week_day_18_20.to_csv( loc_ftr + \"\\\\week_day_18_20.csv\", index = False )\n",
    "week_day_21_23.to_csv( loc_ftr + \"\\\\week_day_21_23.csv\", index = False )"
   ]
  },
  {
   "cell_type": "markdown",
   "metadata": {},
   "source": [
    "## <span style=\"color:green\"> **Hora mas popular del usuario en las instalaciones** </span> \n",
    "\n",
    "Le aplicamos la transformacion sin( (hora * pi)/24 ) para agregarle periodicidad. "
   ]
  },
  {
   "cell_type": "code",
   "execution_count": 17,
   "metadata": {},
   "outputs": [],
   "source": [
    "main_ihr_18_20 = rh_18_20.copy()\n",
    "main_ihr_21_23 = rh_21_23.copy()\n",
    "\n",
    "hour_mode_18_20 = ins_18_20[[\"ref_hash\"]]; hour_mode_18_20[\"hour\"] = pd.to_datetime( ins_18_20[\"date\"] ).dt.hour\n",
    "hour_mode_21_23 = ins_21_23[[\"ref_hash\"]]; hour_mode_21_23[\"hour\"] = pd.to_datetime( ins_21_23[\"date\"] ).dt.hour\n",
    "\n",
    "hour_mode_18_20 = hour_mode_18_20.groupby( [\"ref_hash\", \"hour\"] ).agg( { \"hour\":\"count\" } ).rename( columns = {\"hour\":\"count\"} ).reset_index()\n",
    "hour_mode_21_23 = hour_mode_21_23.groupby( [\"ref_hash\", \"hour\"] ).agg( { \"hour\":\"count\" } ).rename( columns = {\"hour\":\"count\"} ).reset_index()\n",
    "\n",
    "hour_mode_18_20 = hour_mode_18_20.sort_values( [\"ref_hash\",\"count\"], ascending = False ).drop_duplicates( subset = [\"ref_hash\"], keep = \"first\" ).drop(\"count\",axis = 1)\n",
    "hour_mode_21_23 = hour_mode_21_23.sort_values( [\"ref_hash\",\"count\"], ascending = False ).drop_duplicates( subset = [\"ref_hash\"], keep = \"first\" ).drop(\"count\",axis = 1)\n",
    "\n",
    "main_ihr_18_20 = main_ihr_18_20.merge( hour_mode_18_20, how = \"left\", on = \"ref_hash\" ).rename( columns = {\"hour\":\"main_hour\"} )\n",
    "main_ihr_21_23 = main_ihr_21_23.merge( hour_mode_21_23, how = \"left\", on = \"ref_hash\" ).rename( columns = {\"hour\":\"main_hour\"} )\n",
    "\n",
    "main_ihr_18_20[\"main_hour\"] =  main_ihr_18_20[\"main_hour\"].apply( lambda x: np.sin( (x*np.pi)/24 ) )\n",
    "main_ihr_21_23[\"main_hour\"] =  main_ihr_21_23[\"main_hour\"].apply( lambda x: np.sin( (x*np.pi)/24 ) )\n",
    "\n",
    "main_ihr_18_20.to_csv( loc_ftr + \"\\\\main_ihr_18_20.csv\", index = False )\n",
    "main_ihr_21_23.to_csv( loc_ftr + \"\\\\main_ihr_21_23.csv\", index = False )"
   ]
  },
  {
   "cell_type": "markdown",
   "metadata": {},
   "source": [
    "## <span style=\"color:red\"> **Cantidad de instalaciones por dispositivo en la ventana previa a la conversion** </span> "
   ]
  },
  {
   "cell_type": "code",
   "execution_count": 51,
   "metadata": {},
   "outputs": [],
   "source": [
    "cant_ins_18_20 = rh_18_20.copy()\n",
    "cant_ins_21_23 = rh_21_23.copy()\n",
    "\n",
    "cant_ins_18_20 = cant_ins_18_20.merge( ins_18_20[\"ref_hash\"].value_counts().to_frame().reset_index().rename( columns = {\"ref_hash\": \"cant_ins\", \"index\":\"ref_hash\"} ), how = \"left\", on = \"ref_hash\" )\n",
    "cant_ins_21_23 = cant_ins_21_23.merge( ins_21_23[\"ref_hash\"].value_counts().to_frame().reset_index().rename( columns = {\"ref_hash\": \"cant_ins\", \"index\":\"ref_hash\"} ), how = \"left\", on = \"ref_hash\" )\n",
    "\n",
    "cant_ins_18_20.to_csv( loc_ftr + \"\\\\cant_ins_18_20.csv\", index = False )\n",
    "cant_ins_21_23.to_csv( loc_ftr + \"\\\\cant_ins_21_23.csv\", index = False )"
   ]
  },
  {
   "cell_type": "markdown",
   "metadata": {},
   "source": [
    "## <span style=\"color:red\"> **IP del dispositivo al realizar la primera instalacion** </span> "
   ]
  },
  {
   "cell_type": "code",
   "execution_count": 114,
   "metadata": {},
   "outputs": [],
   "source": [
    "ip_encod_18_20 = rh_18_20.copy()\n",
    "ip_encod_21_23 = rh_21_23.copy()\n",
    "\n",
    "ip_encod_18_20[\"ip_address\"] = ins_18_20_first_ins[\"ip_address\"];\n",
    "ip_encod_21_23[\"ip_address\"] = ins_21_23_first_ins[\"ip_address\"];\n",
    "\n",
    "appces_18_20_ins = ins_18_20[\"ip_address\"].value_counts().reset_index().rename( columns = {\"index\":\"ip_address\", \"ip_address\":\"appearances\"} )\n",
    "appces_21_23_ins = ins_21_23[\"ip_address\"].value_counts().reset_index().rename( columns = {\"index\":\"ip_address\", \"ip_address\":\"appearances\"} )\n",
    "\n",
    "appces_18_20_ins[\"ip_address_mean\"] = appces_18_20_ins[\"appearances\"] / len( ins_18_20 ); appces_18_20_ins.drop( \"appearances\", axis = 1, inplace = True )\n",
    "appces_21_23_ins[\"ip_address_mean\"] = appces_21_23_ins[\"appearances\"] / len( ins_21_23 ); appces_21_23_ins.drop( \"appearances\", axis = 1, inplace = True )\n",
    "\n",
    "ip_encod_18_20 = ip_encod_18_20.merge( appces_18_20_ins, how = \"left\", on = \"ip_address\" ).drop( \"ip_address\", axis = 1 )\n",
    "ip_encod_21_23 = ip_encod_21_23.merge( appces_21_23_ins, how = \"left\", on = \"ip_address\" ).drop( \"ip_address\", axis = 1 )\n",
    "\n",
    "ip_encod_18_20.to_csv( loc_ftr + \"\\\\ip_encod_18_20.csv\", index = False )\n",
    "ip_encod_21_23.to_csv( loc_ftr + \"\\\\ip_encod_21_23.csv\", index = False )"
   ]
  },
  {
   "cell_type": "markdown",
   "metadata": {},
   "source": [
    "## <span style=\"color:green\"> **WiFi en la instalacion** </span>"
   ]
  },
  {
   "cell_type": "markdown",
   "metadata": {},
   "source": [
    "#### <span style=\"color:orange\"> **Mean Encoding** </span> "
   ]
  },
  {
   "cell_type": "code",
   "execution_count": 26,
   "metadata": {},
   "outputs": [],
   "source": [
    "wifi_ins_18_20 = rh_18_20.copy()\n",
    "wifi_ins_21_23 = rh_21_23.copy()\n",
    "\n",
    "sc = ins_21_23_first_ins.loc[ ins_21_23_first_ins[\"ref_hash\"].isin( rh_18_20[\"ref_hash\"] ), [\"ref_hash\",\"_sc\"] ]\n",
    "\n",
    "wf_18_20_sc = ins_18_20_first_ins[ [\"ref_hash\",\"wifi\"] ].merge( sc, how = \"left\", on = \"ref_hash\" ); \n",
    "\n",
    "X_wf = wf_18_20_sc[ [\"wifi\"] ].astype(str)\n",
    "Y_wf = wf_18_20_sc[ [\"_sc\"] ]\n",
    "\n",
    "te = ce.TargetEncoder(smoothing=True); te.fit( X_wf, Y_wf );\n",
    "\n",
    "wifi_ins_18_20[\"wifi\"] = te.transform( ins_18_20_first_ins[ [\"wifi\"] ].astype( str ) );\n",
    "wifi_ins_21_23[\"wifi\"] = te.transform( ins_21_23_first_ins[ [\"wifi\"] ].astype( str ) ); \n",
    "\n",
    "wifi_ins_18_20.to_csv( loc_ftr + \"\\\\wifi_ins_18_20.csv\", index = False )\n",
    "wifi_ins_21_23.to_csv( loc_ftr + \"\\\\wifi_ins_21_23.csv\", index = False )"
   ]
  },
  {
   "cell_type": "markdown",
   "metadata": {},
   "source": [
    "#### <span style=\"color:orange\"> **OneHotEncoding** </span> (Usando el SC para el promedio) - <span style=\"color:red\"> **No Mejora este tipo de codificacion** </span>"
   ]
  },
  {
   "cell_type": "code",
   "execution_count": 21,
   "metadata": {},
   "outputs": [],
   "source": [
    "wifi_ins_18_20 = rh_18_20.copy()\n",
    "wifi_ins_21_23 = rh_21_23.copy()\n",
    "\n",
    "wf_ohe_18_20 = pd.get_dummies( ins_18_20_first_ins[ [\"wifi\"] ] )\n",
    "wf_ohe_21_23 = pd.get_dummies( ins_21_23_first_ins[ [\"wifi\"] ] )\n",
    "\n",
    "wifi_ins_18_20 = pd.concat( [wifi_ins_18_20, wf_ohe_18_20], axis = 1 )\n",
    "wifi_ins_21_23 = pd.concat( [wifi_ins_21_23, wf_ohe_21_23], axis = 1 )\n",
    "\n",
    "wifi_ins_18_20.to_csv( loc_ftr + \"\\\\wifi_ins_18_20.csv\", index = False )\n",
    "wifi_ins_21_23.to_csv( loc_ftr + \"\\\\wifi_ins_21_23.csv\", index = False )"
   ]
  },
  {
   "cell_type": "markdown",
   "metadata": {},
   "source": [
    "## <span style=\"color:green\"> **Aplicacion mas instalada por el usuario** </span>\n",
    "\n",
    "#### <span style=\"color:orange\"> **Mean Encoding** </span> (Usamos el promedio de la cantidad de veces que que es la app principal de algun dispositivo)"
   ]
  },
  {
   "cell_type": "code",
   "execution_count": 19,
   "metadata": {},
   "outputs": [],
   "source": [
    "main_app_18_20 = rh_18_20.copy()\n",
    "main_app_21_23 = rh_21_23.copy()\n",
    "\n",
    "app_mas_ins_18_20 = ins_18_20.groupby( by = [\"ref_hash\",\"application_id\"] ).agg( {\"application_id\":\"count\"} ).rename( columns = {\"application_id\":\"cant_ins\"} ).reset_index()\n",
    "app_mas_ins_21_23 = ins_21_23.groupby( by = [\"ref_hash\",\"application_id\"] ).agg( {\"application_id\":\"count\"} ).rename( columns = {\"application_id\":\"cant_ins\"} ).reset_index()\n",
    "\n",
    "app_mas_ins_18_20 = app_mas_ins_18_20.sort_values( by = [\"ref_hash\", \"cant_ins\"], ascending = True ).drop_duplicates( subset = \"ref_hash\", keep = \"last\" ); del( app_mas_ins_18_20[\"cant_ins\"] )\n",
    "app_mas_ins_21_23 = app_mas_ins_21_23.sort_values( by = [\"ref_hash\", \"cant_ins\"], ascending = True ).drop_duplicates( subset = \"ref_hash\", keep = \"last\" ); del( app_mas_ins_21_23[\"cant_ins\"] ) \n",
    "\n",
    "main_app_18_20 = main_app_18_20.merge( app_mas_ins_18_20, how = \"left\", on = \"ref_hash\" )\n",
    "main_app_21_23 = main_app_21_23.merge( app_mas_ins_21_23, how = \"left\", on = \"ref_hash\" )\n",
    "\n",
    "main_app_18_20[\"to_count\"] = 1; main_app_18_20[\"application_id\"] = main_app_18_20[[\"application_id\", \"to_count\"]].groupby(\"application_id\").transform( \"sum\" ) / len(main_app_18_20); del(main_app_18_20[\"to_count\"])\n",
    "main_app_21_23[\"to_count\"] = 1; main_app_21_23[\"application_id\"] = main_app_21_23[[\"application_id\", \"to_count\"]].groupby(\"application_id\").transform( \"sum\" ) / len(main_app_21_23); del(main_app_21_23[\"to_count\"])\n",
    "\n",
    "main_app_18_20.to_csv( loc_ftr + \"\\\\main_app_18_20.csv\", index = False )\n",
    "main_app_21_23.to_csv( loc_ftr + \"\\\\main_app_21_23.csv\", index = False )"
   ]
  },
  {
   "cell_type": "markdown",
   "metadata": {},
   "source": [
    "## <span style=\"color:red\"> **Cantidad de instalaciones implicitas por dispositivo** </span> "
   ]
  },
  {
   "cell_type": "code",
   "execution_count": 873,
   "metadata": {},
   "outputs": [],
   "source": [
    "cins_imp_18_20 = rh_18_20.copy()\n",
    "cins_imp_21_23 = rh_21_23.copy()\n",
    "\n",
    "cins_imp_18_20[\"cant_imp\"] = ins_18_20[\"implicit\"].apply( lambda x: 1 if x else 0 ); cins_imp_18_20 = cins_imp_18_20.groupby( \"ref_hash\" ).agg( {\"cant_imp\":\"sum\"} ).reset_index()\n",
    "cins_imp_21_23[\"cant_imp\"] = ins_21_23[\"implicit\"].apply( lambda x: 1 if x else 0 ); cins_imp_21_23 = cins_imp_21_23.groupby( \"ref_hash\" ).agg( {\"cant_imp\":\"sum\"} ).reset_index()\n",
    "\n",
    "cins_imp_18_20.to_csv( loc_ftr + \"\\\\cins_imp_18_20.csv\", index = False )\n",
    "cins_imp_21_23.to_csv( loc_ftr + \"\\\\cins_imp_21_23.csv\", index = False )"
   ]
  },
  {
   "cell_type": "markdown",
   "metadata": {},
   "source": [
    "## <span style=\"color:red\"> **Tipo de la primera instalacion (implicita/no implicita)** </span> "
   ]
  },
  {
   "cell_type": "markdown",
   "metadata": {},
   "source": [
    "#### <span style=\"color:orange\"> **OneHotEncoding** </span> "
   ]
  },
  {
   "cell_type": "code",
   "execution_count": 30,
   "metadata": {},
   "outputs": [],
   "source": [
    "type_ins_18_20 = rh_18_20.copy()\n",
    "type_ins_21_23 = rh_21_23.copy()\n",
    "\n",
    "type_ins_ohe_18_20 = pd.get_dummies( ins_18_20_first_ins[ [\"implicit\"] ].astype( \"category\" ) )\n",
    "type_ins_ohe_21_23 = pd.get_dummies( ins_21_23_first_ins[ [\"implicit\"] ].astype( \"category\" ) )\n",
    "\n",
    "type_ins_18_20 = pd.concat( [type_ins_18_20, type_ins_ohe_18_20], axis = 1 )\n",
    "type_ins_21_23 = pd.concat( [type_ins_21_23, type_ins_ohe_21_23], axis = 1 )\n",
    "\n",
    "type_ins_18_20.to_csv( loc_ftr + \"\\\\type_ins_18_20.csv\", index = False )\n",
    "type_ins_21_23.to_csv( loc_ftr + \"\\\\type_ins_21_23.csv\", index = False )"
   ]
  },
  {
   "cell_type": "markdown",
   "metadata": {},
   "source": [
    "## <span style=\"color:green\"> **Cantidad de instalaciones atribuidas por dispositivo** </span> "
   ]
  },
  {
   "cell_type": "code",
   "execution_count": 9,
   "metadata": {},
   "outputs": [],
   "source": [
    "cins_atr_18_20 = rh_18_20.copy()\n",
    "cins_atr_21_23 = rh_21_23.copy()\n",
    "\n",
    "cins_atr_18_20[\"cant_atr\"] = ins_18_20[\"attributed\"].apply( lambda x: 1 if x else 0 ); cins_atr_18_20 = cins_atr_18_20.groupby( \"ref_hash\" ).agg( {\"cant_atr\":\"sum\"} ).reset_index()\n",
    "cins_atr_21_23[\"cant_atr\"] = ins_21_23[\"attributed\"].apply( lambda x: 1 if x else 0 ); cins_atr_21_23 = cins_atr_21_23.groupby( \"ref_hash\" ).agg( {\"cant_atr\":\"sum\"} ).reset_index()\n",
    "\n",
    "cins_atr_18_20.to_csv( loc_ftr + \"\\\\cins_atr_18_20.csv\", index = False )\n",
    "cins_atr_21_23.to_csv( loc_ftr + \"\\\\cins_atr_21_23.csv\", index = False )"
   ]
  },
  {
   "cell_type": "markdown",
   "metadata": {},
   "source": [
    "## <span style=\"color:green\"> **Ref Type del dispositivo que realizo la instalacion** </span> "
   ]
  },
  {
   "cell_type": "markdown",
   "metadata": {},
   "source": [
    "#### <span style=\"color:orange\"> **Mean Encoding** </span> "
   ]
  },
  {
   "cell_type": "code",
   "execution_count": null,
   "metadata": {},
   "outputs": [],
   "source": [
    "ref_type_18_20 = rh_18_20.copy()\n",
    "ref_type_21_23 = rh_21_23.copy()\n",
    "\n",
    "rt_18_20_sc = ins_21_23_first_ins.loc[ ins_21_23_first_ins[\"ref_hash\"].isin( rh_18_20[\"ref_hash\"] ), [\"ref_type\",\"_sc\"] ]\n",
    "\n",
    "rt_18_20_sc = ins_18_20_first_ins[ [\"ref_hash\",\"ref_type\"] ].merge( sc, how = \"left\", on = \"ref_hash\" ); rl_18_20_sc.fillna( 259200, inplace = True )\n",
    "\n",
    "X_rt = dl_18_20_sc[ [\"ref_type\"] ]\n",
    "Y_rt = dl_18_20_sc[ [\"_sc\"] ]\n",
    "\n",
    "te = ce.TargetEncoder(smoothing=True)\n",
    "te.fit_transform( X_rt, Y_rt );\n",
    "\n",
    "ref_type_18_20[\"ref_type_enc\"] = te.transform( ins_18_20_first_ins[[\"ref_type\"]].astype(str) )\n",
    "ref_type_21_23[\"ref_type_enc\"] = te.transform( ins_21_23_first_ins[[\"ref_type\"]].astype(str) )\n",
    "\n",
    "ref_type_18_20.to_csv( loc_ftr + \"\\\\ref_type_18_20.csv\", index = False )\n",
    "ref_type_21_23.to_csv( loc_ftr + \"\\\\ref_type_21_23.csv\", index = False )"
   ]
  },
  {
   "cell_type": "markdown",
   "metadata": {},
   "source": [
    "#### <span style=\"color:orange\"> **OneHotEncoding** </span> - <span style=\"color:red\"> **No Mejora este tipo de codificacion** </span>"
   ]
  },
  {
   "cell_type": "code",
   "execution_count": 36,
   "metadata": {},
   "outputs": [],
   "source": [
    "ref_type_18_20 = rh_18_20\n",
    "ref_type_21_23 = rh_21_23\n",
    "\n",
    "rt_ohe_18_20 = pd.get_dummies( ins_18_20_first_ins[ [\"ref_type\"] ].astype(\"category\") )\n",
    "rt_ohe_21_23 = pd.get_dummies( ins_21_23_first_ins[ [\"ref_type\"] ].astype(\"category\") )\n",
    "\n",
    "ref_type_18_20 = pd.concat( [ref_type_18_20, rt_ohe_18_20], axis = 1 )\n",
    "ref_type_21_23 = pd.concat( [ref_type_21_23, rt_ohe_21_23], axis = 1 )\n",
    "\n",
    "ref_type_18_20.to_csv( loc_ftr + \"\\\\ref_type_18_20.csv\", index = False )\n",
    "ref_type_21_23.to_csv( loc_ftr + \"\\\\ref_type_21_23.csv\", index = False )"
   ]
  },
  {
   "cell_type": "markdown",
   "metadata": {},
   "source": [
    "## <span style=\"color:green\"> **DeviceLenguage del dispositivo al realizar la instlacion** </span>"
   ]
  },
  {
   "cell_type": "markdown",
   "metadata": {},
   "source": [
    "#### <span style=\"color:orange\"> **Mean Encoding** </span> (Usando el SC para el promedio)"
   ]
  },
  {
   "cell_type": "code",
   "execution_count": 39,
   "metadata": {},
   "outputs": [],
   "source": [
    "dev_lang_18_20 = rh_18_20.copy()\n",
    "dev_lang_21_23 = rh_21_23.copy()\n",
    "\n",
    "sc = ins_21_23_first_ins.loc[ ins_21_23_first_ins[\"ref_hash\"].isin( rh_18_20[\"ref_hash\"] ), [\"ref_hash\",\"_sc\"] ]\n",
    "\n",
    "dl_18_20_sc = ins_18_20_first_ins[ [\"ref_hash\",\"device_language\"] ].merge( sc, how = \"left\", on = \"ref_hash\" ); dl_18_20_sc.fillna( 259200, inplace = True )\n",
    "\n",
    "X_dl = dl_18_20_sc[ [\"device_language\"] ]\n",
    "Y_dl = dl_18_20_sc[ [\"_sc\"] ]\n",
    "\n",
    "te = ce.TargetEncoder(smoothing=True); te.fit( X_dl, Y_dl );\n",
    "\n",
    "# replace nans with the global mean ( https://necromuralist.github.io/kaggle-competitions/posts/mean-encoding/ )\n",
    "global_mean = Y_dl[\"_sc\"].mean()\n",
    "\n",
    "dev_lang_18_20[\"dev_language\"] = te.transform( ins_18_20_first_ins[ [\"device_language\"] ].astype( str ) ); dev_lang_18_20[\"dev_language\"].replace( {\"nan\":global_mean}, inplace = True )\n",
    "dev_lang_21_23[\"dev_language\"] = te.transform( ins_21_23_first_ins[ [\"device_language\"] ].astype( str ) ); dev_lang_21_23[\"dev_language\"].replace( {\"nan\":global_mean}, inplace = True )\n",
    "\n",
    "dev_lang_18_20.to_csv( loc_ftr + \"\\\\dev_lang_18_20.csv\", index = False )\n",
    "dev_lang_21_23.to_csv( loc_ftr + \"\\\\dev_lang_21_23.csv\", index = False )"
   ]
  },
  {
   "cell_type": "markdown",
   "metadata": {},
   "source": [
    "#### <span style=\"color:orange\"> **OneHotEncoding** </span>"
   ]
  },
  {
   "cell_type": "code",
   "execution_count": 40,
   "metadata": {},
   "outputs": [],
   "source": [
    "dev_lang_18_20 = rh_18_20.copy()\n",
    "dev_lang_21_23 = rh_21_23.copy()\n",
    "\n",
    "#Generamos todas las categorias posibles para que tengan las mismas columnas\n",
    "dl_18_20 = ins_18_20_first_ins[\"device_language\"].drop_duplicates()\n",
    "dl_21_23 = ins_21_23_first_ins[\"device_language\"].drop_duplicates()\n",
    "\n",
    "#Creamos la categoria. Los NAN son una categoria\n",
    "dl_category = pd.api.types.CategoricalDtype( dl_18_20.append( dl_21_23 ).fillna(\"NoDL\").drop_duplicates() ) \n",
    "\n",
    "dl_ohe_18_20 = pd.get_dummies( ins_18_20_first_ins[ [\"device_language\"] ].astype(dl_category) )\n",
    "dl_ohe_21_23 = pd.get_dummies( ins_21_23_first_ins[ [\"device_language\"] ].astype(dl_category) )\n",
    "\n",
    "dev_lang_18_20 = pd.concat( [dev_lang_18_20, dl_ohe_18_20], axis = 1 )\n",
    "dev_lang_21_23 = pd.concat( [dev_lang_21_23, dl_ohe_21_23], axis = 1 )\n",
    "\n",
    "dev_lang_18_20.to_csv( loc_ftr + \"\\\\dev_lang_18_20.csv\", index = False )\n",
    "dev_lang_21_23.to_csv( loc_ftr + \"\\\\dev_lang_21_23.csv\", index = False )"
   ]
  },
  {
   "cell_type": "markdown",
   "metadata": {},
   "source": [
    "## <span style=\"color:green\"> **Modelo del dispositivo uilizado** </span>"
   ]
  },
  {
   "cell_type": "markdown",
   "metadata": {},
   "source": [
    "#### <span style=\"color:orange\"> **Mean Encoding** </span> (Usando el SC para el promedio) "
   ]
  },
  {
   "cell_type": "code",
   "execution_count": 41,
   "metadata": {},
   "outputs": [],
   "source": [
    "dev_modl_18_20 = rh_18_20.copy()\n",
    "dev_modl_21_23 = rh_21_23.copy()\n",
    "\n",
    "sc = ins_21_23_first_ins.loc[ ins_21_23_first_ins[\"ref_hash\"].isin( rh_18_20[\"ref_hash\"] ), [\"ref_hash\",\"_sc\"] ]\n",
    "\n",
    "dm_18_20_sc = ins_18_20_first_ins[ [\"ref_hash\",\"device_model\"] ].merge( sc, how = \"left\", on = \"ref_hash\" ); \n",
    "\n",
    "X_dm = dm_18_20_sc[ [\"device_model\"] ].astype(str)\n",
    "Y_dm = dm_18_20_sc[ [\"_sc\"] ]\n",
    "\n",
    "te = ce.TargetEncoder(smoothing=True); te.fit( X_dm, Y_dm );\n",
    "\n",
    "# replace nans with the global mean ( https://necromuralist.github.io/kaggle-competitions/posts/mean-encoding/ )\n",
    "global_mean = Y_dm[\"_sc\"].mean()\n",
    "\n",
    "dev_modl_18_20[\"device_model\"] = te.transform( ins_18_20_first_ins[ [\"device_model\"] ].astype( str ) ); dev_modl_18_20.fillna( global_mean, inplace = True )\n",
    "dev_modl_21_23[\"device_model\"] = te.transform( ins_21_23_first_ins[ [\"device_model\"] ].astype( str ) ); dev_modl_21_23.fillna( global_mean, inplace = True )\n",
    "\n",
    "dev_modl_18_20.to_csv( loc_ftr + \"\\\\dev_modl_18_20.csv\", index = False )\n",
    "dev_modl_21_23.to_csv( loc_ftr + \"\\\\dev_modl_21_23.csv\", index = False )"
   ]
  },
  {
   "cell_type": "markdown",
   "metadata": {},
   "source": [
    "#### <span style=\"color:orange\"> **Mean Encoding** </span> (Usando el promedio de cuantas veces fue utilizado) "
   ]
  },
  {
   "cell_type": "code",
   "execution_count": 42,
   "metadata": {},
   "outputs": [],
   "source": [
    "dev_modl_18_20 = rh_18_20.copy()\n",
    "dev_modl_21_23 = rh_21_23.copy()\n",
    "\n",
    "dev_modl_mean_18_20 = ins_18_20[ [\"device_model\",\"ref_hash\"] ].groupby(\"device_model\").agg(\"count\"); dev_modl_mean_18_20[\"mean\"] = dev_modl_mean_18_20[\"ref_hash\"]/len(ins_18_20); del(dev_modl_mean_18_20[\"ref_hash\"])\n",
    "dev_modl_mean_21_23 = ins_21_23[ [\"device_model\",\"ref_hash\"] ].groupby(\"device_model\").agg(\"count\"); dev_modl_mean_21_23[\"mean\"] = dev_modl_mean_21_23[\"ref_hash\"]/len(ins_21_23); del(dev_modl_mean_21_23[\"ref_hash\"])\n",
    "\n",
    "dev_modl_18_20[\"device_model\"] = ins_18_20_first_ins[\"device_model\"]; dev_modl_18_20 = dev_modl_18_20.merge(dev_modl_mean_18_20, how = \"left\", on = \"device_model\" )\n",
    "dev_modl_21_23[\"device_model\"] = ins_21_23_first_ins[\"device_model\"]; dev_modl_21_23 = dev_modl_21_23.merge(dev_modl_mean_21_23, how = \"left\", on = \"device_model\" )\n",
    "\n",
    "#Contamos a los NaNs como un \"modelo\"\n",
    "mean_nan_18_20 = ins_18_20[\"device_model\"].isnull().sum() / len( ins_18_20 )\n",
    "mean_nan_21_23 = ins_21_23[\"device_model\"].isnull().sum() / len( ins_21_23 )\n",
    "\n",
    "dev_modl_18_20.fillna( mean_nan_18_20, inplace = True ); del( dev_modl_18_20[\"device_model\"] ); dev_modl_18_20.rename( {\"mean\":\"dev_mod\"}, inplace = True )\n",
    "dev_modl_21_23.fillna( mean_nan_21_23, inplace = True ); del( dev_modl_21_23[\"device_model\"] ); dev_modl_21_23.rename( {\"mean\":\"dev_mod\"}, inplace = True )\n",
    "\n",
    "dev_modl_18_20.to_csv( loc_ftr + \"\\\\dev_modl_18_20.csv\", index = False )\n",
    "dev_modl_21_23.to_csv( loc_ftr + \"\\\\dev_modl_21_23.csv\", index = False )"
   ]
  },
  {
   "cell_type": "markdown",
   "metadata": {},
   "source": [
    "## <span style=\"color:red\"> **SessionUserAgent de los dispositivos** </span>\n",
    "\n",
    "#### <span style=\"color:orange\"> **Mean Encoding** </span> (Usando el SC para el promedio)"
   ]
  },
  {
   "cell_type": "code",
   "execution_count": 43,
   "metadata": {},
   "outputs": [],
   "source": [
    "ins_dsua_18_20 = rh_18_20.copy()\n",
    "ins_dsua_21_23 = rh_21_23.copy()\n",
    "\n",
    "sc = ins_21_23_first_ins.loc[ ins_21_23_first_ins[\"ref_hash\"].isin( rh_18_20[\"ref_hash\"] ), [\"ref_hash\",\"_sc\"] ]\n",
    "\n",
    "sua_18_20_sc = ins_18_20_first_ins[ [\"ref_hash\",\"session_user_agent\"] ].merge( sc, how = \"left\", on = \"ref_hash\" ); \n",
    "\n",
    "X_sua = sua_18_20_sc[ [\"session_user_agent\"] ].astype(str)\n",
    "Y_sua = sua_18_20_sc[ [\"_sc\"] ]\n",
    "\n",
    "te = ce.TargetEncoder(smoothing=True); te.fit( X_sua, Y_sua );\n",
    "\n",
    "ins_dsua_18_20[\"sua\"] = te.transform( ins_18_20_first_ins[ [\"session_user_agent\"] ].astype( str ) );\n",
    "ins_dsua_21_23[\"sua\"] = te.transform( ins_21_23_first_ins[ [\"session_user_agent\"] ].astype( str ) ); \n",
    "\n",
    "ins_dsua_18_20.fillna( Y_sua[\"_sc\"].mean(), inplace = True )\n",
    "ins_dsua_21_23.fillna( Y_sua[\"_sc\"].mean(), inplace = True )\n",
    "\n",
    "ins_dsua_18_20.to_csv( loc_ftr + \"\\\\ins_dsua_18_20.csv\", index = False )\n",
    "ins_dsua_21_23.to_csv( loc_ftr + \"\\\\ins_dsua_21_23.csv\", index = False )"
   ]
  },
  {
   "cell_type": "markdown",
   "metadata": {},
   "source": [
    "## <span style=\"color:green\"> **Ref Hash** </span> \n",
    "\n",
    "#### <span style=\"color:orange\"> **Mean Encoding** </span> (Usamos el promedio de la cantidad de apariciones en las instalaciones en la ventana anterior)"
   ]
  },
  {
   "cell_type": "code",
   "execution_count": null,
   "metadata": {},
   "outputs": [],
   "source": [
    "rh_encod_18_20 = rh_18_20.copy()\n",
    "rh_encod_21_23 = rh_21_23.copy()\n",
    "\n",
    "appces_18_20_ins = ins_18_20[\"ref_hash\"].value_counts().reset_index().rename( columns = {\"index\":\"ref_hash\", \"ref_hash\":\"appearances\"} )\n",
    "appces_21_23_ins = ins_21_23[\"ref_hash\"].value_counts().reset_index().rename( columns = {\"index\":\"ref_hash\", \"ref_hash\":\"appearances\"} )\n",
    "\n",
    "appces_18_20_ins[\"ref_hash_mean\"] = appces_18_20_ins[\"appearances\"] / len( ins_18_20 ); appces_18_20_ins.drop( \"appearances\", axis = 1, inplace = True )\n",
    "appces_21_23_ins[\"ref_hash_mean\"] = appces_21_23_ins[\"appearances\"] / len( ins_21_23 ); appces_21_23_ins.drop( \"appearances\", axis = 1, inplace = True )\n",
    "\n",
    "rh_encod_18_20 = rh_encod_18_20.merge( appces_18_20_ins, how = \"left\", on = \"ref_hash\" )\n",
    "rh_encod_21_23 = rh_encod_21_23.merge( appces_21_23_ins, how = \"left\", on = \"ref_hash\" )\n",
    "\n",
    "rh_encod_18_20.to_csv( loc_ftr + \"\\\\rh_encod_18_20.csv\", index = False )\n",
    "rh_encod_21_23.to_csv( loc_ftr + \"\\\\rh_encod_21_23.csv\", index = False )"
   ]
  },
  {
   "cell_type": "markdown",
   "metadata": {},
   "source": [
    "Son muchos NaNs, por lo que no se pueden completar con nada coherente. Esto agrega demasiado ruido al set de entrenamiento"
   ]
  },
  {
   "cell_type": "markdown",
   "metadata": {},
   "source": [
    "## <span style=\"color:red\"> **Tipo de la primera instalacion (Atribuida/No Atribuida)** </span>\n",
    "\n",
    "#### <span style=\"color:orange\"> **OneHotEncoding** </span> - <span style=\"color:red\"> **No Mejora este tipo de codificacion** </span>"
   ]
  },
  {
   "cell_type": "code",
   "execution_count": 47,
   "metadata": {},
   "outputs": [],
   "source": [
    "atbt_ins_18_20 = rh_18_20.copy()\n",
    "atbt_ins_21_23 = rh_21_23.copy()\n",
    "\n",
    "atbt_ins_ohe_18_20 = pd.get_dummies( ins_18_20_first_ins[ [\"attributed\"] ].astype( str ) )\n",
    "atbt_ins_ohe_21_23 = pd.get_dummies( ins_21_23_first_ins[ [\"attributed\"] ].astype( str ) )\n",
    "\n",
    "atbt_ins_ohe_18_20 = pd.concat( [atbt_ins_18_20, atbt_ins_ohe_18_20], axis = 1 )\n",
    "atbt_ins_ohe_21_23 = pd.concat( [atbt_ins_21_23, atbt_ins_ohe_21_23], axis = 1 )\n",
    "\n",
    "atbt_ins_18_20.to_csv( loc_ftr + \"\\\\atbt_ins_18_20.csv\", index = False )\n",
    "atbt_ins_21_23.to_csv( loc_ftr + \"\\\\atbt_ins_21_23.csv\", index = False )"
   ]
  },
  {
   "cell_type": "markdown",
   "metadata": {},
   "source": [
    "#### <span style=\"color:orange\"> **Mean Encoding** </span> (Usando como promedio la cantidad de veces que la primera instalacion fue de ese determinado tipo sobre el total de instalaciones)"
   ]
  },
  {
   "cell_type": "code",
   "execution_count": 72,
   "metadata": {},
   "outputs": [],
   "source": [
    "atbt_ins_18_20 = rh_18_20.copy()\n",
    "atbt_ins_21_23 = rh_21_23.copy()\n",
    "\n",
    "atbt_ins_18_20[\"atbt\"] = ins_18_20_first_ins[\"attributed\"]; atbt_ins_18_20[\"cant_ins\"] = atbt_ins_18_20.groupby( \"atbt\" ).transform( \"count\" ); atbt_ins_18_20[\"atbt_mean\"] = atbt_ins_18_20[\"cant_ins\"]/len(rh_18_20)\n",
    "atbt_ins_21_23[\"atbt\"] = ins_21_23_first_ins[\"attributed\"]; atbt_ins_21_23[\"cant_ins\"] = atbt_ins_21_23.groupby( \"atbt\" ).transform( \"count\" ); atbt_ins_21_23[\"atbt_mean\"] = atbt_ins_21_23[\"cant_ins\"]/len(rh_21_23)\n",
    "\n",
    "atbt_ins_18_20.drop( [\"atbt\",\"cant_ins\"], axis = 1, inplace = True )\n",
    "atbt_ins_21_23.drop( [\"atbt\",\"cant_ins\"], axis = 1, inplace = True )\n",
    "\n",
    "atbt_ins_18_20.to_csv( loc_ftr + \"\\\\atbt_ins_18_20.csv\", index = False )\n",
    "atbt_ins_21_23.to_csv( loc_ftr + \"\\\\atbt_ins_21_23.csv\", index = False )"
   ]
  },
  {
   "cell_type": "markdown",
   "metadata": {},
   "source": [
    "## <span style=\"color:red\"> **Tiempo hasta la primer instlacion en ese ventana** </span> \n",
    "\n",
    "Le asignamos cuanto tiempo, en la ventana del 18-20, tardo en realizar su primer instlacion"
   ]
  },
  {
   "cell_type": "code",
   "execution_count": 87,
   "metadata": {},
   "outputs": [],
   "source": [
    "frst_ins_18_20 = ins_18_20_first_ins[ [\"ref_hash\", \"_sc\"] ]\n",
    "frst_ins_21_23 = ins_21_23_first_ins[ [\"ref_hash\", \"_sc\"] ]\n",
    "\n",
    "frst_ins_18_20.rename( columns = {\"_sc\": \"time_to_ins\"}, inplace = True )\n",
    "frst_ins_21_23.rename( columns = {\"_sc\": \"time_to_ins\"}, inplace = True )\n",
    "\n",
    "frst_ins_18_20.to_csv( loc_ftr + \"\\\\frst_ins_18_20.csv\", index = False )\n",
    "frst_ins_21_23.to_csv( loc_ftr + \"\\\\frst_ins_21_23.csv\", index = False )"
   ]
  },
  {
   "cell_type": "markdown",
   "metadata": {},
   "source": [
    "## <span style=\"color:green\"> **Tiempo hasta la ultima instalacion en esa ventana** </span> "
   ]
  },
  {
   "cell_type": "code",
   "execution_count": 56,
   "metadata": {},
   "outputs": [],
   "source": [
    "last_ins_18_20 = rh_18_20.copy()\n",
    "last_ins_21_23 = rh_21_23.copy()\n",
    "\n",
    "last_installs_rh_ins_18_20 = ins_18_20[ [\"ref_hash\",\"date\"] ].sort_values( \"date\", ascending = False ).drop_duplicates( subset = \"ref_hash\", keep = \"first\" )\n",
    "last_installs_rh_ins_21_23 = ins_21_23[ [\"ref_hash\",\"date\"] ].sort_values( \"date\", ascending = False ).drop_duplicates( subset = \"ref_hash\", keep = \"first\" )\n",
    "\n",
    "last_installs_rh_ins_18_20[\"time_to_lst_ins\"] = ( pd.to_datetime( last_installs_rh_ins_18_20[\"date\"] ) -  dt.datetime( year = 2019, month = 4, day = 18 ) ).dt.total_seconds()\n",
    "last_installs_rh_ins_21_23[\"time_to_lst_ins\"] = ( pd.to_datetime( last_installs_rh_ins_21_23[\"date\"] ) -  dt.datetime( year = 2019, month = 4, day = 21 ) ).dt.total_seconds()\n",
    "\n",
    "last_installs_rh_ins_18_20.drop( \"date\", axis = 1, inplace = True )\n",
    "last_installs_rh_ins_21_23.drop( \"date\", axis = 1, inplace = True )\n",
    "\n",
    "last_ins_18_20 = last_ins_18_20.merge( last_installs_rh_ins_18_20, how = \"left\", on = \"ref_hash\" )\n",
    "last_ins_21_23 = last_ins_21_23.merge( last_installs_rh_ins_21_23, how = \"left\", on = \"ref_hash\" )\n",
    "\n",
    "#Los que tienen NaN es que nunca convirtieron. Los marcamos con el tiempo maximo\n",
    "last_ins_18_20.fillna( 3 * 24 * 3600, inplace = True )\n",
    "last_ins_21_23.fillna( 3 * 24 * 3600, inplace = True )\n",
    "\n",
    "last_ins_18_20.to_csv( loc_ftr + \"\\\\last_ins_18_20.csv\", index = False )\n",
    "last_ins_21_23.to_csv( loc_ftr + \"\\\\last_ins_21_23.csv\", index = False )"
   ]
  },
  {
   "cell_type": "markdown",
   "metadata": {},
   "source": [
    "## <span style=\"color:red\"> **Instalo entre 21 hs y 3 hs (Noche)** </span> "
   ]
  },
  {
   "cell_type": "markdown",
   "metadata": {},
   "source": [
    "## <span style=\"color:Orange\"> **One-hot Encoding** </span> "
   ]
  },
  {
   "cell_type": "code",
   "execution_count": 38,
   "metadata": {},
   "outputs": [],
   "source": [
    "ins_18_20['ins_21_3'] = (ins_18_20['date'].dt.hour > 20) | (ins_18_20['date'].dt.hour < 4) \n",
    "ins_21_23['ins_21_3'] = (ins_21_23['date'].dt.hour > 20) | (ins_21_23['date'].dt.hour < 4)\n",
    "\n",
    "ins_night_18_20 = rh_18_20.copy()\n",
    "ins_night_21_23 = rh_21_23.copy()\n",
    "\n",
    "hour_mode_18_20 = ins_18_20.groupby('ref_hash').agg({'ins_21_3':'sum'}).reset_index()\n",
    "hour_mode_21_23 = ins_21_23.groupby('ref_hash').agg({'ins_21_3':'sum'}).reset_index()\n",
    "\n",
    "ins_night_18_20 = ins_night_18_20.merge( hour_mode_18_20, how = \"left\", on = \"ref_hash\" )\n",
    "ins_night_21_23 = ins_night_21_23.merge( hour_mode_21_23, how = \"left\", on = \"ref_hash\" )\n",
    "\n",
    "ins_night_18_20[\"ins_21_3\"] =  (ins_night_18_20[\"ins_21_3\"] > 1).astype('int8')\n",
    "ins_night_21_23[\"ins_21_3\"] =  (ins_night_21_23[\"ins_21_3\"] > 1).astype('int8')\n",
    "\n",
    "ins_night_18_20.to_csv( loc_ftr + \"\\\\ins_ngoh_18_20.csv\", index = False )\n",
    "ins_night_21_23.to_csv( loc_ftr + \"\\\\ins_ngoh_21_23.csv\", index = False )\n",
    "\n",
    "del ins_18_20['ins_21_3']\n",
    "del ins_21_23['ins_21_3']"
   ]
  },
  {
   "cell_type": "markdown",
   "metadata": {},
   "source": [
    "## <span style=\"color:red\"> **Instalo entre 4 hs y 10 hs (Mañana)** </span> "
   ]
  },
  {
   "cell_type": "markdown",
   "metadata": {},
   "source": [
    "## <span style=\"color:Orange\"> **One-hot Encoding** </span> "
   ]
  },
  {
   "cell_type": "code",
   "execution_count": 40,
   "metadata": {},
   "outputs": [],
   "source": [
    "ins_18_20['ins_4_10'] = (ins_18_20['date'].dt.hour > 3) & (ins_18_20['date'].dt.hour < 11) \n",
    "ins_21_23['ins_4_10'] = (ins_21_23['date'].dt.hour > 3) & (ins_21_23['date'].dt.hour < 11)\n",
    "\n",
    "ins_morn_18_20 = rh_18_20.copy()\n",
    "ins_morn_21_23 = rh_21_23.copy()\n",
    "\n",
    "hour_mode_18_20 = ins_18_20.groupby('ref_hash').agg({'ins_4_10':'sum'}).reset_index()\n",
    "hour_mode_21_23 = ins_21_23.groupby('ref_hash').agg({'ins_4_10':'sum'}).reset_index()\n",
    "\n",
    "ins_morn_18_20 = ins_morn_18_20.merge( hour_mode_18_20, how = \"left\", on = \"ref_hash\" )\n",
    "ins_morn_21_23 = ins_morn_21_23.merge( hour_mode_21_23, how = \"left\", on = \"ref_hash\" )\n",
    "\n",
    "ins_morn_18_20[\"ins_4_10\"] =  (ins_morn_18_20[\"ins_4_10\"] > 1).astype('int8')\n",
    "ins_morn_21_23[\"ins_4_10\"] =  (ins_morn_21_23[\"ins_4_10\"] > 1).astype('int8')\n",
    "\n",
    "ins_morn_18_20.to_csv( loc_ftr + \"\\\\ins_mroh_18_20.csv\", index = False )\n",
    "ins_morn_21_23.to_csv( loc_ftr + \"\\\\ins_mroh_21_23.csv\", index = False )\n",
    "\n",
    "del ins_18_20['ins_4_10']\n",
    "del ins_21_23['ins_4_10']"
   ]
  },
  {
   "cell_type": "markdown",
   "metadata": {},
   "source": [
    "## <span style=\"color:red\"> **Instalo entre 11 hs y 15 hs (Medio dia)** </span> "
   ]
  },
  {
   "cell_type": "markdown",
   "metadata": {},
   "source": [
    "## <span style=\"color:Orange\"> **One-hot Encoding** </span> "
   ]
  },
  {
   "cell_type": "code",
   "execution_count": 42,
   "metadata": {},
   "outputs": [],
   "source": [
    "ins_18_20['ins_11_15'] = (ins_18_20['date'].dt.hour > 10) & (ins_18_20['date'].dt.hour < 16) \n",
    "ins_21_23['ins_11_15'] = (ins_21_23['date'].dt.hour > 10) & (ins_21_23['date'].dt.hour < 16)\n",
    "\n",
    "ins_midday_18_20 = rh_18_20.copy()\n",
    "ins_midday_21_23 = rh_21_23.copy()\n",
    "\n",
    "hour_mode_18_20 = ins_18_20.groupby('ref_hash').agg({'ins_11_15':'sum'}).reset_index()\n",
    "hour_mode_21_23 = ins_21_23.groupby('ref_hash').agg({'ins_11_15':'sum'}).reset_index()\n",
    "\n",
    "ins_midday_18_20 = ins_midday_18_20.merge( hour_mode_18_20, how = \"left\", on = \"ref_hash\" )\n",
    "ins_midday_21_23 = ins_midday_21_23.merge( hour_mode_21_23, how = \"left\", on = \"ref_hash\" )\n",
    "\n",
    "ins_midday_18_20[\"ins_11_15\"] =  (ins_midday_18_20[\"ins_11_15\"] > 1).astype('int8')\n",
    "ins_midday_21_23[\"ins_11_15\"] =  (ins_midday_21_23[\"ins_11_15\"] > 1).astype('int8')\n",
    "\n",
    "ins_midday_18_20.to_csv( loc_ftr + \"\\\\ins_mdoh_18_20.csv\", index = False )\n",
    "ins_midday_21_23.to_csv( loc_ftr + \"\\\\ins_mdoh_21_23.csv\", index = False )\n",
    "\n",
    "del ins_18_20['ins_11_15']\n",
    "del ins_21_23['ins_11_15']"
   ]
  },
  {
   "cell_type": "markdown",
   "metadata": {},
   "source": [
    "## <span style=\"color:red\"> **Instalo entre 16 hs y 20 hs (Tarde)** </span> "
   ]
  },
  {
   "cell_type": "markdown",
   "metadata": {},
   "source": [
    "## <span style=\"color:Orange\"> **One-hot Encoding** </span> "
   ]
  },
  {
   "cell_type": "code",
   "execution_count": 44,
   "metadata": {},
   "outputs": [],
   "source": [
    "ins_18_20['ins_16_20'] = (ins_18_20['date'].dt.hour > 15) & (ins_18_20['date'].dt.hour < 21) \n",
    "ins_21_23['ins_16_20'] = (ins_21_23['date'].dt.hour > 15) & (ins_21_23['date'].dt.hour < 21)\n",
    "\n",
    "ins_after_18_20 = rh_18_20.copy()\n",
    "ins_after_21_23 = rh_21_23.copy()\n",
    "\n",
    "hour_mode_18_20 = ins_18_20.groupby('ref_hash').agg({'ins_16_20':'sum'}).reset_index()\n",
    "hour_mode_21_23 = ins_21_23.groupby('ref_hash').agg({'ins_16_20':'sum'}).reset_index()\n",
    "\n",
    "ins_after_18_20 = ins_after_18_20.merge( hour_mode_18_20, how = \"left\", on = \"ref_hash\" )\n",
    "ins_after_21_23 = ins_after_21_23.merge( hour_mode_21_23, how = \"left\", on = \"ref_hash\" )\n",
    "\n",
    "ins_after_18_20[\"ins_16_20\"] =  (ins_after_18_20[\"ins_16_20\"] > 1).astype('int8')\n",
    "ins_after_21_23[\"ins_16_20\"] =  (ins_after_21_23[\"ins_16_20\"] > 1).astype('int8')\n",
    "\n",
    "ins_after_18_20.to_csv( loc_ftr + \"\\\\ins_afoh_18_20.csv\", index = False )\n",
    "ins_after_21_23.to_csv( loc_ftr + \"\\\\ins_afoh_21_23.csv\", index = False )\n",
    "\n",
    "del ins_18_20['ins_16_20']\n",
    "del ins_21_23['ins_16_20']"
   ]
  },
  {
   "cell_type": "markdown",
   "metadata": {},
   "source": [
    "## <span style=\"color:green\"> **\"Kind\" de la primera instalacion** </span> "
   ]
  },
  {
   "cell_type": "markdown",
   "metadata": {},
   "source": [
    "#### <span style=\"color:orange\"> **Mean Encoding** </span> - (Usando el promedio de cuantas intalaciones en total se realizaron de ese \"kind\") "
   ]
  },
  {
   "cell_type": "code",
   "execution_count": 46,
   "metadata": {},
   "outputs": [],
   "source": [
    "kind_ins_18_20 = rh_18_20.copy()\n",
    "kind_ins_21_23 = rh_21_23.copy()"
   ]
  },
  {
   "cell_type": "code",
   "execution_count": 47,
   "metadata": {},
   "outputs": [],
   "source": [
    "kind_ins_18_20 = kind_ins_18_20.merge( ins_18_20_first_ins[ [\"ref_hash\", \"kind\"] ], how = \"left\", on = \"ref_hash\" );\n",
    "kind_ins_21_23 = kind_ins_21_23.merge( ins_21_23_first_ins[ [\"ref_hash\", \"kind\"] ], how = \"left\", on = \"ref_hash\" );"
   ]
  },
  {
   "cell_type": "code",
   "execution_count": 48,
   "metadata": {},
   "outputs": [],
   "source": [
    "kind_count_18_20 = ins_18_20[\"kind\"].value_counts().to_frame().reset_index().rename( columns = {\"index\":\"kind\", \"kind\":\"count\"} )\n",
    "kind_count_21_23 = ins_21_23[\"kind\"].value_counts().to_frame().reset_index().rename( columns = {\"index\":\"kind\", \"kind\":\"count\"} )"
   ]
  },
  {
   "cell_type": "code",
   "execution_count": 49,
   "metadata": {},
   "outputs": [],
   "source": [
    "kind_ins_18_20 = kind_ins_18_20.merge( kind_count_18_20, how = \"left\", on = \"kind\" ); kind_ins_18_20[\"count\"] = kind_ins_18_20[\"count\"] / len(ins_18_20); del( kind_ins_18_20[\"kind\"] )\n",
    "kind_ins_21_23 = kind_ins_21_23.merge( kind_count_21_23, how = \"left\", on = \"kind\" ); kind_ins_21_23[\"count\"] = kind_ins_21_23[\"count\"] / len(ins_21_23); del( kind_ins_21_23[\"kind\"] )"
   ]
  },
  {
   "cell_type": "code",
   "execution_count": 50,
   "metadata": {},
   "outputs": [],
   "source": [
    "nan_18_20 = kind_ins_18_20[\"count\"].isnull().sum() / len(ins_18_20); kind_ins_18_20.fillna( nan_18_20, inplace = True )\n",
    "nan_21_23 = kind_ins_21_23[\"count\"].isnull().sum() / len(ins_21_23); kind_ins_21_23.fillna( nan_21_23, inplace = True )"
   ]
  },
  {
   "cell_type": "code",
   "execution_count": 52,
   "metadata": {},
   "outputs": [],
   "source": [
    "kind_ins_18_20.to_csv( loc_ftr + \"\\\\kind_ins_18_20.csv\", index = False )\n",
    "kind_ins_21_23.to_csv( loc_ftr + \"\\\\kind_ins_21_23.csv\", index = False )"
   ]
  },
  {
   "cell_type": "markdown",
   "metadata": {},
   "source": [
    "## <span style=\"color:green\"> **Promedio del tiempo de instalacion** </span> "
   ]
  },
  {
   "cell_type": "code",
   "execution_count": 65,
   "metadata": {},
   "outputs": [],
   "source": [
    "tins_prm_18_20 = rh_18_20.copy()\n",
    "tins_prm_21_23 = rh_21_23.copy()"
   ]
  },
  {
   "cell_type": "code",
   "execution_count": 66,
   "metadata": {},
   "outputs": [],
   "source": [
    "ins_18_20[\"time_to_ins\"] = (pd.to_datetime( ins_18_20[\"date\"] ) - dt.datetime( 2019, 4, 18 )).dt.total_seconds()\n",
    "ins_21_23[\"time_to_ins\"] = (pd.to_datetime( ins_21_23[\"date\"] ) - dt.datetime( 2019, 4, 21 )).dt.total_seconds()"
   ]
  },
  {
   "cell_type": "code",
   "execution_count": 67,
   "metadata": {},
   "outputs": [],
   "source": [
    "time_to_ins_mean_18_20 = ins_18_20[ [\"ref_hash\",\"time_to_ins\"] ].groupby( \"ref_hash\" ).mean()\n",
    "time_to_ins_mean_21_23 = ins_21_23[ [\"ref_hash\",\"time_to_ins\"] ].groupby( \"ref_hash\" ).mean()"
   ]
  },
  {
   "cell_type": "code",
   "execution_count": 68,
   "metadata": {},
   "outputs": [],
   "source": [
    "tins_prm_18_20 = tins_prm_18_20.merge( time_to_ins_mean_18_20, how = \"left\", on = \"ref_hash\" )\n",
    "tins_prm_21_23 = tins_prm_21_23.merge( time_to_ins_mean_21_23, how = \"left\", on = \"ref_hash\" )"
   ]
  },
  {
   "cell_type": "code",
   "execution_count": 70,
   "metadata": {},
   "outputs": [],
   "source": [
    "tins_prm_18_20.to_csv( loc_ftr + \"\\\\tins_prm_18_20.csv\", index = False )\n",
    "tins_prm_21_23.to_csv( loc_ftr + \"\\\\tins_prm_21_23.csv\", index = False )"
   ]
  },
  {
   "cell_type": "markdown",
   "metadata": {},
   "source": [
    "## <span style=\"color:green\"> **Tiempo hasta que el usuario realizo alguna instalacion de un app del TOP 3** </span>"
   ]
  },
  {
   "cell_type": "code",
   "execution_count": 71,
   "metadata": {},
   "outputs": [],
   "source": [
    "tt_3_app_18_20 = rh_18_20.copy()\n",
    "tt_3_app_21_23 = rh_21_23.copy()\n",
    "\n",
    "cond_1_18_20 = ins_18_20['application_id'] == ins_18_20['application_id'].value_counts().head().index[0]; cond_1_21_23 = ins_21_23['application_id'] == ins_21_23['application_id'].value_counts().head().index[0];\n",
    "cond_2_18_20 = ins_18_20['application_id'] == ins_18_20['application_id'].value_counts().head().index[1]; cond_2_21_23 = ins_21_23['application_id'] == ins_21_23['application_id'].value_counts().head().index[1];\n",
    "cond_3_18_20 = ins_18_20['application_id'] == ins_18_20['application_id'].value_counts().head().index[2]; cond_3_21_23 = ins_21_23['application_id'] == ins_21_23['application_id'].value_counts().head().index[2];\n",
    "\n",
    "m1 = ins_18_20.loc[ cond_1_18_20 | cond_2_18_20 | cond_3_18_20, [\"ref_hash\", \"date\"] ].sort_values( by = \"date\", ascending = True ).drop_duplicates( subset = [\"ref_hash\"], keep = \"first\" )\n",
    "m2 = ins_21_23.loc[ cond_1_21_23 | cond_2_21_23 | cond_3_21_23, [\"ref_hash\", \"date\"] ].sort_values( by = \"date\", ascending = True ).drop_duplicates( subset = [\"ref_hash\"], keep = \"first\" )\n",
    "\n",
    "tt_3_app_18_20 = tt_3_app_18_20.merge( m1, how = \"left\", on = \"ref_hash\" )\n",
    "tt_3_app_21_23 = tt_3_app_21_23.merge( m2, how = \"left\", on = \"ref_hash\" )\n",
    "\n",
    "tt_3_app_18_20[\"date\"] = ( pd.to_datetime( tt_3_app_18_20[\"date\"] ) - dt.datetime( 2019, 4, 18 ) ).dt.total_seconds()\n",
    "tt_3_app_21_23[\"date\"] = ( pd.to_datetime( tt_3_app_21_23[\"date\"] ) - dt.datetime( 2019, 4, 21 ) ).dt.total_seconds()\n",
    "\n",
    "tt_3_app_18_20.fillna( 3*24*3600, inplace = True ) #Quiere decir que no lo realizo\n",
    "tt_3_app_21_23.fillna( 3*24*3600, inplace = True ) #Quiere decir que no lo realizo\n",
    "\n",
    "tt_3_app_21_23.to_csv( loc_ftr + \"\\\\tt_3_app_18_20.csv\", index = False )\n",
    "tt_3_app_21_23.to_csv( loc_ftr + \"\\\\tt_3_app_21_23.csv\", index = False )"
   ]
  },
  {
   "cell_type": "markdown",
   "metadata": {},
   "source": [
    "## <span style=\"color:green\"> **Realizo algun evento del TOP 3** </span>\n",
    "Se corroboro inicialmente que las top3 aplicaciones mas instaladas coinciden en las 3 ventanas"
   ]
  },
  {
   "cell_type": "markdown",
   "metadata": {},
   "source": [
    "#### <span style=\"color:orange\"> **OneHotEncoding** </span>"
   ]
  },
  {
   "cell_type": "code",
   "execution_count": 85,
   "metadata": {},
   "outputs": [],
   "source": [
    "top3_app_18_20 = rh_18_20.copy()\n",
    "top3_app_21_23 = rh_21_23.copy()\n",
    "\n",
    "cond_1_18_20 = ins_18_20['application_id'] == ins_18_20['application_id'].value_counts().head().index[0]; cond_1_21_23 = ins_21_23['application_id'] == ins_21_23['application_id'].value_counts().head().index[0];\n",
    "cond_2_18_20 = ins_18_20['application_id'] == ins_18_20['application_id'].value_counts().head().index[1]; cond_2_21_23 = ins_21_23['application_id'] == ins_21_23['application_id'].value_counts().head().index[1];\n",
    "cond_3_18_20 = ins_18_20['application_id'] == ins_18_20['application_id'].value_counts().head().index[2]; cond_3_21_23 = ins_21_23['application_id'] == ins_21_23['application_id'].value_counts().head().index[2];\n",
    "\n",
    "m1 = ins_18_20.loc[ cond_1_18_20 | cond_2_18_20 | cond_3_18_20, [\"ref_hash\", \"application_id\"] ]; m1[\"application_id\"] = m1[\"application_id\"].astype( \"category\" )\n",
    "m2 = ins_21_23.loc[ cond_1_21_23 | cond_2_21_23 | cond_3_21_23, [\"ref_hash\", \"application_id\"] ]; m2[\"application_id\"] = m2[\"application_id\"].astype( \"category\" )\n",
    "\n",
    "m1 = m1.groupby( \"ref_hash\" ).agg( {\"application_id\":\"value_counts\"} ).unstack( level = 1 )\n",
    "m2 = m2.groupby( \"ref_hash\" ).agg( {\"application_id\":\"value_counts\"} ).unstack( level = 1 )\n",
    "\n",
    "top3_app_18_20 = tt_3_app_18_20.merge( m1, how = \"left\", on = \"ref_hash\" ); top3_app_18_20.columns = [\"ref_hash\", \"app1\", \"app2\", \"app3\" ]\n",
    "top3_app_21_23 = tt_3_app_21_23.merge( m2, how = \"left\", on = \"ref_hash\" ); top3_app_21_23.columns = [\"ref_hash\", \"app1\", \"app2\", \"app3\" ]\n",
    "\n",
    "top3_app_18_20[\"app1\"] = top3_app_18_20[\"app1\"].apply( lambda x: 1 if x > 0 else 0 ); top3_app_21_23[\"app1\"] = top3_app_21_23[\"app1\"].apply( lambda x: 1 if x > 0 else 0 );\n",
    "top3_app_18_20[\"app2\"] = top3_app_18_20[\"app2\"].apply( lambda x: 1 if x > 0 else 0 ); top3_app_21_23[\"app2\"] = top3_app_21_23[\"app1\"].apply( lambda x: 1 if x > 0 else 0 );\n",
    "top3_app_18_20[\"app3\"] = top3_app_18_20[\"app3\"].apply( lambda x: 1 if x > 0 else 0 ); top3_app_21_23[\"app3\"] = top3_app_21_23[\"app3\"].apply( lambda x: 1 if x > 0 else 0 );\n",
    "\n",
    "top3_app_18_20.to_csv( loc_ftr + \"\\\\top3_app_18_20.csv\", index = False )\n",
    "top3_app_21_23.to_csv( loc_ftr + \"\\\\top3_app_21_23.csv\", index = False )"
   ]
  },
  {
   "cell_type": "markdown",
   "metadata": {},
   "source": [
    "## <span style=\"color:green\"> **Periodo del dia en que se realizo la primera instalacion** </span>"
   ]
  },
  {
   "cell_type": "code",
   "execution_count": 199,
   "metadata": {},
   "outputs": [],
   "source": [
    "dayp_ins_18_20 = ins_18_20_first_ins[ [\"ref_hash\", \"date\"] ]; dayp_ins_18_20[\"date\"] =  pd.to_datetime( dayp_ins_18_20[\"date\"] ).dt.hour\n",
    "dayp_ins_21_23 = ins_21_23_first_ins[ [\"ref_hash\", \"date\"] ]; dayp_ins_21_23[\"date\"] =  pd.to_datetime( dayp_ins_21_23[\"date\"] ).dt.hour\n",
    "\n",
    "def det_period( x ):\n",
    "    if (x>=4) & (x<=10): return \"mor\"\n",
    "    elif (x>=11) & (x<=15): return \"mid\"\n",
    "    elif (x>=16) & (x<=20): return \"aft\"\n",
    "    else: return \"ngh\"\n",
    "\n",
    "dayp_ins_18_20[\"period\"] = dayp_ins_18_20[\"date\"].apply( lambda x: det_period(x) ); del( dayp_ins_18_20[\"date\"] )\n",
    "dayp_ins_21_23[\"period\"] = dayp_ins_21_23[\"date\"].apply( lambda x: det_period(x) ); del( dayp_ins_21_23[\"date\"] )"
   ]
  },
  {
   "cell_type": "markdown",
   "metadata": {},
   "source": [
    "#### <span style=\"color:orange\"> **Mean Encoding** </span> - (Usando el SC)"
   ]
  },
  {
   "cell_type": "code",
   "execution_count": null,
   "metadata": {},
   "outputs": [],
   "source": [
    "X = dayp_ins_18_20[ [\"period\"] ]; Y = tg_18_20\n",
    "te = ce.TargetEncoder(smoothing=True); te.fit( X, Y );"
   ]
  },
  {
   "cell_type": "code",
   "execution_count": 121,
   "metadata": {},
   "outputs": [],
   "source": [
    "dayp_ins_18_20[\"period_enc\"] = te.transform( dayp_ins_18_20[ [\"period\"] ] ); del( dayp_ins_18_20[\"period\"] )\n",
    "dayp_ins_21_23[\"period_enc\"] = te.transform( dayp_ins_21_23[ [\"period\"] ] ); del( dayp_ins_21_23[\"period\"] )"
   ]
  },
  {
   "cell_type": "code",
   "execution_count": 123,
   "metadata": {},
   "outputs": [],
   "source": [
    "dayp_ins_18_20.to_csv( loc_ftr + \"\\\\dayp_ins_18_20.csv\", index = False )\n",
    "dayp_ins_21_23.to_csv( loc_ftr + \"\\\\dayp_ins_21_23.csv\", index = False )"
   ]
  },
  {
   "cell_type": "markdown",
   "metadata": {},
   "source": [
    "#### <span style=\"color:orange\"> **Mean Encoding** </span> - (Usando la cantidad de instalaciones en ese periodo en esa ventana)"
   ]
  },
  {
   "cell_type": "code",
   "execution_count": 187,
   "metadata": {},
   "outputs": [],
   "source": [
    "total_ins_period_18_20 = ins_18_20[ [\"ref_hash\", \"date\"] ]; total_ins_period_18_20[\"date\"] =  pd.to_datetime( total_ins_period_18_20[\"date\"] ).dt.hour\n",
    "total_ins_period_21_23 = ins_21_23[ [\"ref_hash\", \"date\"] ]; total_ins_period_21_23[\"date\"] =  pd.to_datetime( total_ins_period_21_23[\"date\"] ).dt.hour\n",
    "\n",
    "total_ins_period_18_20[\"period\"] = total_ins_period_18_20[\"date\"].apply( lambda x: det_period(x) ); del( total_ins_period_18_20[\"date\"] )\n",
    "total_ins_period_21_23[\"period\"] = total_ins_period_21_23[\"date\"].apply( lambda x: det_period(x) ); del( total_ins_period_21_23[\"date\"] )"
   ]
  },
  {
   "cell_type": "code",
   "execution_count": 188,
   "metadata": {},
   "outputs": [],
   "source": [
    "total_ins_period_18_20 = total_ins_period_18_20[\"period\"].value_counts().to_frame().reset_index().rename( columns = {\"index\":\"period\", \"period\":\"period_count\"} )\n",
    "total_ins_period_21_23 = total_ins_period_21_23[\"period\"].value_counts().to_frame().reset_index().rename( columns = {\"index\":\"period\", \"period\":\"period_count\"} )"
   ]
  },
  {
   "cell_type": "code",
   "execution_count": 189,
   "metadata": {},
   "outputs": [],
   "source": [
    "dayp_ins_18_20 = dayp_ins_18_20.merge( total_ins_period_18_20, how = \"left\", on = \"period\" ); del( dayp_ins_18_20[\"period\"] )\n",
    "dayp_ins_21_23 = dayp_ins_21_23.merge( total_ins_period_21_23, how = \"left\", on = \"period\" ); del( dayp_ins_21_23[\"period\"] )"
   ]
  },
  {
   "cell_type": "code",
   "execution_count": 190,
   "metadata": {},
   "outputs": [],
   "source": [
    "dayp_ins_18_20.to_csv( loc_ftr + \"\\\\dayp_ins_18_20.csv\", index = False )\n",
    "dayp_ins_21_23.to_csv( loc_ftr + \"\\\\dayp_ins_21_23.csv\", index = False )"
   ]
  },
  {
   "cell_type": "markdown",
   "metadata": {},
   "source": [
    "#### <span style=\"color:orange\"> **Mean Encoding** </span> - (Usando la cantidad de primeras instalaciones en ese periodo en esa ventana)"
   ]
  },
  {
   "cell_type": "code",
   "execution_count": 200,
   "metadata": {},
   "outputs": [],
   "source": [
    "period_frt_ins_18_20 = dayp_ins_18_20[\"period\"].value_counts().to_frame().reset_index().rename( columns = {\"index\":\"period\", \"period\":\"period_count\"} )\n",
    "period_frt_ins_21_23 = dayp_ins_21_23[\"period\"].value_counts().to_frame().reset_index().rename( columns = {\"index\":\"period\", \"period\":\"period_count\"} )"
   ]
  },
  {
   "cell_type": "code",
   "execution_count": 201,
   "metadata": {},
   "outputs": [],
   "source": [
    "dayp_ins_18_20 = dayp_ins_18_20.merge( period_frt_ins_18_20, how = \"left\", on = \"period\" ); del( dayp_ins_18_20[\"period\"] )\n",
    "dayp_ins_21_23 = dayp_ins_21_23.merge( period_frt_ins_21_23, how = \"left\", on = \"period\" ); del( dayp_ins_21_23[\"period\"] )"
   ]
  },
  {
   "cell_type": "code",
   "execution_count": 202,
   "metadata": {},
   "outputs": [],
   "source": [
    "dayp_ins_18_20.to_csv( loc_ftr + \"\\\\dayp_ins_18_20.csv\", index = False )\n",
    "dayp_ins_21_23.to_csv( loc_ftr + \"\\\\dayp_ins_21_23.csv\", index = False )"
   ]
  },
  {
   "cell_type": "code",
   "execution_count": null,
   "metadata": {},
   "outputs": [],
   "source": []
  }
 ],
 "metadata": {
  "kernelspec": {
   "display_name": "Python 3",
   "language": "python",
   "name": "python3"
  },
  "language_info": {
   "codemirror_mode": {
    "name": "ipython",
    "version": 3
   },
   "file_extension": ".py",
   "mimetype": "text/x-python",
   "name": "python",
   "nbconvert_exporter": "python",
   "pygments_lexer": "ipython3",
   "version": "3.7.0"
  }
 },
 "nbformat": 4,
 "nbformat_minor": 2
}
