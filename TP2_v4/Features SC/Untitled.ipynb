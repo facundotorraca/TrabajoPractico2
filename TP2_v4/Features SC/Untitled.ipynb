{
 "cells": [
  {
   "cell_type": "code",
   "execution_count": 1,
   "metadata": {},
   "outputs": [],
   "source": [
    "import pandas as pd\n",
    "import numpy as np\n",
    "import datetime as dt\n",
    "import warnings as wn\n",
    "import sklearn.preprocessing as skpre\n",
    "import category_encoders as ce\n",
    "\n",
    "wn.simplefilter( \"ignore\" )"
   ]
  },
  {
   "cell_type": "code",
   "execution_count": 15,
   "metadata": {},
   "outputs": [],
   "source": [
    "loc_ftr = r\"D:\\FacundoTorraca\\Documents\\TP2_Machine_Learning_v4\\Features\\FeaturesSC\""
   ]
  },
  {
   "cell_type": "markdown",
   "metadata": {},
   "source": [
    "## <span style=\"color:yellow\"> **Preparamos el set de entramiento para sacar features** </span> "
   ]
  },
  {
   "cell_type": "code",
   "execution_count": 11,
   "metadata": {},
   "outputs": [],
   "source": [
    "loc_ts = r\"D:\\FacundoTorraca\\Documents\\TP2_Machine_Learning_v4\\Training Sets\""
   ]
  },
  {
   "cell_type": "code",
   "execution_count": 12,
   "metadata": {},
   "outputs": [],
   "source": [
    "ins_18_20 = pd.read_csv( loc_ts + \"\\\\ins_18_20.csv\" ); ins_18_20[\"_sc\"] = pd.to_datetime(ins_18_20[\"date\"]) - dt.datetime( year = 2019, month = 4, day = 18 ); ins_18_20[\"_sc\"] = ins_18_20[\"_sc\"].dt.total_seconds();\n",
    "ins_21_23 = pd.read_csv( loc_ts + \"\\\\ins_21_23.csv\" ); ins_21_23[\"_sc\"] = pd.to_datetime(ins_21_23[\"date\"]) - dt.datetime( year = 2019, month = 4, day = 21 ); ins_21_23[\"_sc\"] = ins_21_23[\"_sc\"].dt.total_seconds(); "
   ]
  },
  {
   "cell_type": "code",
   "execution_count": 13,
   "metadata": {},
   "outputs": [],
   "source": [
    "ins_18_20_frt = ins_18_20.sort_values( by = [\"ref_hash\",\"_sc\"], ascending = True ).drop_duplicates( subset = [\"ref_hash\"], keep = \"first\" )\n",
    "ins_21_23_frt = ins_21_23.sort_values( by = [\"ref_hash\",\"_sc\"], ascending = True ).drop_duplicates( subset = [\"ref_hash\"], keep = \"first\" )"
   ]
  },
  {
   "cell_type": "markdown",
   "metadata": {},
   "source": [
    "## <span style=\"color:yellow\"> **Preparamos el ref_hash de cada ventana** </span> "
   ]
  },
  {
   "cell_type": "code",
   "execution_count": 4,
   "metadata": {},
   "outputs": [],
   "source": [
    "loc_lb = r\"D:\\FacundoTorraca\\Documents\\TP2_Machine_Learning_v4\\Labels\""
   ]
  },
  {
   "cell_type": "code",
   "execution_count": 8,
   "metadata": {},
   "outputs": [],
   "source": [
    "lb_ins_21_23 = pd.read_csv( loc_lb + \"\\\\label_ins_21_23.csv\" );\n",
    "lb_ins_24_26 = pd.read_csv( loc_lb + \"\\\\label_ins_24_26.csv\" ); "
   ]
  },
  {
   "cell_type": "code",
   "execution_count": 10,
   "metadata": {},
   "outputs": [],
   "source": [
    "rh_trn = lb_ins_21_23[ [\"ref_hash\"] ]\n",
    "rh_tst = lb_ins_24_26[ [\"ref_hash\"] ]\n",
    "\n",
    "tg_trn = lb_ins_21_23[ [\"21_23_sc\"] ]\n",
    "tg_tst = lb_ins_24_26[ [\"24_26_sc\"] ]"
   ]
  },
  {
   "cell_type": "markdown",
   "metadata": {},
   "source": [
    "## <span style=\"color:yellow\"> **=======================================================================================================** </span> "
   ]
  },
  {
   "cell_type": "markdown",
   "metadata": {},
   "source": [
    "## <span style=\"color:red\"> **Hora de la conversion** </span> "
   ]
  },
  {
   "cell_type": "markdown",
   "metadata": {},
   "source": [
    "Le aplicamos la transformacion sin( (hora * pi)/24 ) para agregarle periodicidad. Por ejemplo que las 00 hs tengan un valor similar a 23"
   ]
  },
  {
   "cell_type": "code",
   "execution_count": 88,
   "metadata": {},
   "outputs": [],
   "source": [
    "hour_trn = rh_trn.copy()\n",
    "hour_tst = rh_tst.copy()\n",
    "\n",
    "hour_frt_ins_trn = ins_18_20_frt[ [\"ref_hash\" ] ]; hour_frt_ins_trn[\"hour_ins\"] = pd.to_datetime( ins_18_20_frt[\"date\"] ).dt.hour.apply( lambda x: np.sin( (x * np.pi) / 24 ) )\n",
    "hour_frt_ins_tst = ins_21_23_frt[ [\"ref_hash\" ] ]; hour_frt_ins_tst[\"hour_ins\"] = pd.to_datetime( ins_21_23_frt[\"date\"] ).dt.hour.apply( lambda x: np.sin( (x * np.pi) / 24 ) ) \n",
    "\n",
    "hour_trn = hour_trn.merge( hour_frt_ins_trn, how = \"left\", on = \"ref_hash\" )\n",
    "hour_tst = hour_tst.merge( hour_frt_ins_tst, how = \"left\", on = \"ref_hash\" )\n",
    "\n",
    "hour_trn.to_csv( loc_ftr + \"\\\\hour_ins_trn.csv\", index = False )\n",
    "hour_tst.to_csv( loc_ftr + \"\\\\hour_ins_tst.csv\", index = False )"
   ]
  },
  {
   "cell_type": "markdown",
   "metadata": {},
   "source": [
    "* 129430 nulos de 146578"
   ]
  },
  {
   "cell_type": "markdown",
   "metadata": {},
   "source": [
    "## <span style=\"color:red\"> **Dia de la conversion** </span> "
   ]
  },
  {
   "cell_type": "markdown",
   "metadata": {},
   "source": [
    "Le aplicamos la transformacion sin( (hora * pi)/6 ) para agregarle periodicidad."
   ]
  },
  {
   "cell_type": "code",
   "execution_count": 99,
   "metadata": {},
   "outputs": [],
   "source": [
    "week_day_trn = rh_trn.copy()\n",
    "week_day_tst = rh_tst.copy()\n",
    "\n",
    "weekday_frt_ins_trn = ins_18_20_frt[ [\"ref_hash\" ] ]; weekday_frt_ins_trn[\"week_day\"] = pd.to_datetime( ins_18_20_frt[\"date\"] ).dt.weekday.apply( lambda x: np.sin( (x * np.pi) / 24 ) )\n",
    "weekday_frt_ins_tst = ins_21_23_frt[ [\"ref_hash\" ] ]; weekday_frt_ins_tst[\"week_day\"] = pd.to_datetime( ins_21_23_frt[\"date\"] ).dt.weekday.apply( lambda x: np.sin( (x * np.pi) / 24 ) ) \n",
    "\n",
    "week_day_trn = week_day_trn.merge( weekday_frt_ins_trn, how = \"left\", on  = \"ref_hash\" )\n",
    "week_day_tst = week_day_trn.merge( weekday_frt_ins_tst, how = \"left\", on  = \"ref_hash\" )\n",
    "\n",
    "week_day_trn.to_csv( loc_ftr + \"\\\\week_day_trn.csv\", index = False )\n",
    "week_day_tst.to_csv( loc_ftr + \"\\\\week_day_tst.csv\", index = False )"
   ]
  },
  {
   "cell_type": "markdown",
   "metadata": {},
   "source": [
    "* 129430 nulos de 146578"
   ]
  },
  {
   "cell_type": "markdown",
   "metadata": {},
   "source": [
    "## <span style=\"color:red\"> **Hora mas popular del usuario en las instalaciones** </span> \n",
    "\n",
    "Le aplicamos la transformacion sin( (hora * pi)/24 ) para agregarle periodicidad. "
   ]
  },
  {
   "cell_type": "code",
   "execution_count": 95,
   "metadata": {},
   "outputs": [],
   "source": [
    "main_ihr_trn = rh_trn.copy()\n",
    "main_ihr_tst = rh_tst.copy()\n",
    "\n",
    "hour_mode_trn = ins_18_20[[\"ref_hash\"]]; hour_mode_trn[\"hour\"] = pd.to_datetime( ins_18_20[\"date\"] ).dt.hour\n",
    "hour_mode_tst = ins_21_23[[\"ref_hash\"]]; hour_mode_tst[\"hour\"] = pd.to_datetime( ins_21_23[\"date\"] ).dt.hour\n",
    "\n",
    "hour_mode_trn = hour_mode_trn.groupby( [\"ref_hash\", \"hour\"] ).agg( { \"hour\":\"count\" } ).rename( columns = {\"hour\":\"count\"} ).reset_index()\n",
    "hour_mode_tst = hour_mode_tst.groupby( [\"ref_hash\", \"hour\"] ).agg( { \"hour\":\"count\" } ).rename( columns = {\"hour\":\"count\"} ).reset_index()\n",
    "\n",
    "hour_mode_trn = hour_mode_trn.sort_values( [\"ref_hash\",\"count\"], ascending = False ).drop_duplicates( subset = [\"ref_hash\"], keep = \"first\" ).drop(\"count\",axis = 1)\n",
    "hour_mode_tst = hour_mode_tst.sort_values( [\"ref_hash\",\"count\"], ascending = False ).drop_duplicates( subset = [\"ref_hash\"], keep = \"first\" ).drop(\"count\",axis = 1)\n",
    "\n",
    "main_ihr_trn = main_ihr_trn.merge( hour_mode_trn, how = \"left\", on = \"ref_hash\" ).rename( columns = {\"hour\":\"main_hour\"} )\n",
    "main_ihr_tst = main_ihr_tst.merge( hour_mode_tst, how = \"left\", on = \"ref_hash\" ).rename( columns = {\"hour\":\"main_hour\"} )\n",
    "\n",
    "main_ihr_trn[\"main_hour\"] =  main_ihr_trn[\"main_hour\"].apply( lambda x: np.sin( (x*np.pi)/24 ) )\n",
    "main_ihr_tst[\"main_hour\"] =  main_ihr_tst[\"main_hour\"].apply( lambda x: np.sin( (x*np.pi)/24 ) )\n",
    "\n",
    "main_ihr_trn.to_csv( loc_ftr + \"\\\\main_ihr_trn.csv\", index = False )\n",
    "main_ihr_tst.to_csv( loc_ftr + \"\\\\main_ihr_tst.csv\", index = False )"
   ]
  },
  {
   "cell_type": "markdown",
   "metadata": {},
   "source": [
    "* 129430 nulos de 146578"
   ]
  },
  {
   "cell_type": "markdown",
   "metadata": {},
   "source": [
    "## <span style=\"color:green\"> **Cantidad de instalaciones por dispositivo en la ventana previa a la conversion** </span> "
   ]
  },
  {
   "cell_type": "code",
   "execution_count": 100,
   "metadata": {},
   "outputs": [],
   "source": [
    "cant_ins_trn = rh_trn.copy()\n",
    "cant_ins_tst = rh_tst.copy()\n",
    "\n",
    "cant_ins_trn = cant_ins_trn.merge( ins_18_20[\"ref_hash\"].value_counts().to_frame().reset_index().rename( columns = {\"ref_hash\": \"cant_ins\", \"index\":\"ref_hash\"} ), how = \"left\", on = \"ref_hash\" ).fillna( 0 )\n",
    "cant_ins_tst = cant_ins_tst.merge( ins_21_23[\"ref_hash\"].value_counts().to_frame().reset_index().rename( columns = {\"ref_hash\": \"cant_ins\", \"index\":\"ref_hash\"} ), how = \"left\", on = \"ref_hash\" ).fillna( 0 )\n",
    "\n",
    "cant_ins_trn.to_csv( loc_ftr + \"\\\\cant_ins_trn.csv\", index = False )\n",
    "cant_ins_tst.to_csv( loc_ftr + \"\\\\cant_ins_tst.csv\", index = False )"
   ]
  },
  {
   "cell_type": "markdown",
   "metadata": {},
   "source": [
    "## <span style=\"color:red\"> **IP del dispositivo al realizar la primera instalacion** </span> "
   ]
  },
  {
   "cell_type": "markdown",
   "metadata": {},
   "source": [
    "#### <span style=\"color:orange\"> **Mean Encoding** </span> "
   ]
  },
  {
   "cell_type": "code",
   "execution_count": 108,
   "metadata": {},
   "outputs": [],
   "source": [
    "ip_encod_trn = rh_trn.copy()\n",
    "ip_encod_tst = rh_tst.copy()\n",
    "\n",
    "ip_ins_trn = ins_18_20_frt[ [\"ref_hash\",\"ip_address\"] ];\n",
    "ip_ins_tst = ins_21_23_frt[ [\"ref_hash\",\"ip_address\"] ];\n",
    "\n",
    "appces_trn_ins = ins_18_20[\"ip_address\"].value_counts().reset_index().rename( columns = {\"index\":\"ip_address\", \"ip_address\":\"appearances\"} )\n",
    "appces_tst_ins = ins_21_23[\"ip_address\"].value_counts().reset_index().rename( columns = {\"index\":\"ip_address\", \"ip_address\":\"appearances\"} )\n",
    "\n",
    "appces_trn_ins[\"ip_address_mean\"] = appces_trn_ins[\"appearances\"] / len( ins_18_20 ); appces_trn_ins.drop( \"appearances\", axis = 1, inplace = True )\n",
    "appces_tst_ins[\"ip_address_mean\"] = appces_tst_ins[\"appearances\"] / len( ins_21_23 ); appces_tst_ins.drop( \"appearances\", axis = 1, inplace = True )\n",
    "\n",
    "ip_ins_trn = ip_ins_trn.merge( appces_trn_ins, how = \"left\", on = \"ip_address\" )\n",
    "ip_ins_tst = ip_ins_tst.merge( appces_tst_ins, how = \"left\", on = \"ip_address\" )\n",
    "\n",
    "ip_encod_trn = ip_encod_trn.merge( ip_ins_trn, how = \"left\", on = \"ref_hash\" ).drop( \"ip_address\", axis = 1 )\n",
    "ip_encod_tst = ip_encod_tst.merge( ip_ins_tst, how = \"left\", on = \"ref_hash\" ).drop( \"ip_address\", axis = 1 )\n",
    "\n",
    "ip_encod_trn.to_csv( loc_ftr + \"\\\\ip_encod_trn.csv\", index = False )\n",
    "ip_encod_tst.to_csv( loc_ftr + \"\\\\ip_encod_tst.csv\", index = False )"
   ]
  },
  {
   "cell_type": "markdown",
   "metadata": {},
   "source": [
    "* 129430 nulos de 146578"
   ]
  },
  {
   "cell_type": "markdown",
   "metadata": {},
   "source": [
    "## <span style=\"color:green\"> **WiFi en la instalacion** </span>"
   ]
  },
  {
   "cell_type": "markdown",
   "metadata": {},
   "source": [
    "#### <span style=\"color:orange\"> **Mean Encoding** </span> "
   ]
  },
  {
   "cell_type": "code",
   "execution_count": 47,
   "metadata": {},
   "outputs": [],
   "source": [
    "wifi_ins_trn = rh_trn.copy()\n",
    "wifi_ins_tst = rh_tst.copy()\n",
    "\n",
    "sc = ins_21_23_frt.loc[ ins_21_23_frt[\"ref_hash\"].isin( rh_trn[\"ref_hash\"] ), [\"ref_hash\",\"_sc\"] ]\n",
    "\n",
    "wf_trn_sc = ins_18_20_frt[ [\"ref_hash\",\"wifi\"] ].merge( sc, how = \"left\", on = \"ref_hash\" ); \n",
    "\n",
    "X_wf = wf_trn_sc[ [\"wifi\"] ].astype(str)\n",
    "Y_wf = wf_trn_sc[ [\"_sc\"] ]\n",
    "\n",
    "te = ce.TargetEncoder(smoothing=True); te.fit( X_wf, Y_wf );\n",
    "\n",
    "wifi_ins_trn[\"wifi\"] = te.transform( ins_18_20_frt[ [\"wifi\"] ].astype( str ) );\n",
    "wifi_ins_tst[\"wifi\"] = te.transform( ins_21_23_frt[ [\"wifi\"] ].astype( str ) ); \n",
    "\n",
    "wifi_ins_trn.to_csv( loc_ftr + \"\\\\wifi_ins_trn.csv\", index = False )\n",
    "wifi_ins_tst.to_csv( loc_ftr + \"\\\\wifi_ins_tst.csv\", index = False )"
   ]
  },
  {
   "cell_type": "markdown",
   "metadata": {},
   "source": [
    "#### <span style=\"color:orange\"> **OneHotEncoding** </span> (Usando el SC para el promedio) - <span style=\"color:red\"> **No Mejora este tipo de codificacion** </span>"
   ]
  },
  {
   "cell_type": "code",
   "execution_count": 21,
   "metadata": {},
   "outputs": [],
   "source": [
    "wifi_ins_trn = rh_trn.copy()\n",
    "wifi_ins_tst = rh_tst.copy()\n",
    "\n",
    "wf_ohe_trn = pd.get_dummies( ins_18_20_frt[ [\"wifi\"] ] )\n",
    "wf_ohe_tst = pd.get_dummies( ins_21_23_frt[ [\"wifi\"] ] )\n",
    "\n",
    "wifi_ins_trn = pd.concat( [wifi_ins_trn, wf_ohe_trn], axis = 1 )\n",
    "wifi_ins_tst = pd.concat( [wifi_ins_tst, wf_ohe_tst], axis = 1 )\n",
    "\n",
    "wifi_ins_trn.to_csv( loc_ftr + \"\\\\wifi_ins_trn.csv\", index = False )\n",
    "wifi_ins_tst.to_csv( loc_ftr + \"\\\\wifi_ins_tst.csv\", index = False )"
   ]
  },
  {
   "cell_type": "markdown",
   "metadata": {},
   "source": [
    "## <span style=\"color:green\"> **Aplicacion mas instalada por el usuario** </span>\n",
    "\n",
    "#### <span style=\"color:orange\"> **Mean Encoding** </span> (Usamos el promedio de la cantidad de veces que que es la app principal de algun dispositivo)"
   ]
  },
  {
   "cell_type": "code",
   "execution_count": 55,
   "metadata": {},
   "outputs": [],
   "source": [
    "main_app_trn = rh_trn.copy()\n",
    "main_app_tst = rh_tst.copy()\n",
    "\n",
    "app_mas_ins_trn = ins_18_20.groupby( by = [\"ref_hash\",\"application_id\"] ).agg( {\"application_id\":\"count\"} ).rename( columns = {\"application_id\":\"cant_ins\"} ).reset_index()\n",
    "app_mas_ins_tst = ins_21_23.groupby( by = [\"ref_hash\",\"application_id\"] ).agg( {\"application_id\":\"count\"} ).rename( columns = {\"application_id\":\"cant_ins\"} ).reset_index()\n",
    "\n",
    "app_mas_ins_trn = app_mas_ins_trn.sort_values( by = [\"ref_hash\", \"cant_ins\"], ascending = True ).drop_duplicates( subset = \"ref_hash\", keep = \"last\" ); del( app_mas_ins_trn[\"cant_ins\"] )\n",
    "app_mas_ins_tst = app_mas_ins_tst.sort_values( by = [\"ref_hash\", \"cant_ins\"], ascending = True ).drop_duplicates( subset = \"ref_hash\", keep = \"last\" ); del( app_mas_ins_tst[\"cant_ins\"] ) \n",
    "\n",
    "main_app_trn = main_app_trn.merge( app_mas_ins_trn, how = \"left\", on = \"ref_hash\" )\n",
    "main_app_tst = main_app_tst.merge( app_mas_ins_tst, how = \"left\", on = \"ref_hash\" )\n",
    "\n",
    "main_app_trn[\"to_count\"] = 1; main_app_trn[\"application_id\"] = main_app_trn[[\"application_id\", \"to_count\"]].groupby(\"application_id\").transform( \"sum\" ) / len(main_app_trn); del(main_app_trn[\"to_count\"])\n",
    "main_app_tst[\"to_count\"] = 1; main_app_tst[\"application_id\"] = main_app_tst[[\"application_id\", \"to_count\"]].groupby(\"application_id\").transform( \"sum\" ) / len(main_app_tst); del(main_app_tst[\"to_count\"])\n",
    "\n",
    "main_app_trn.fillna( main_app_trn.isnull().sum()/len(main_app_trn) )\n",
    "main_app_tst.fillna( main_app_tst.isnull().sum()/len(main_app_tst) )\n",
    "\n",
    "main_app_trn.to_csv( loc_ftr + \"\\\\main_app_trn.csv\", index = False )\n",
    "main_app_tst.to_csv( loc_ftr + \"\\\\main_app_tst.csv\", index = False )"
   ]
  },
  {
   "cell_type": "markdown",
   "metadata": {},
   "source": [
    "## <span style=\"color:green\"> **Cantidad de instalaciones implicitas por dispositivo** </span> "
   ]
  },
  {
   "cell_type": "code",
   "execution_count": 56,
   "metadata": {},
   "outputs": [],
   "source": [
    "cins_imp_trn = rh_trn.copy()\n",
    "cins_imp_tst = rh_tst.copy()\n",
    "\n",
    "cins_imp_trn[\"cant_imp\"] = ins_18_20[\"implicit\"].apply( lambda x: 1 if x else 0 ); cins_imp_trn = cins_imp_trn.groupby( \"ref_hash\" ).agg( {\"cant_imp\":\"sum\"} ).reset_index()\n",
    "cins_imp_tst[\"cant_imp\"] = ins_21_23[\"implicit\"].apply( lambda x: 1 if x else 0 ); cins_imp_tst = cins_imp_tst.groupby( \"ref_hash\" ).agg( {\"cant_imp\":\"sum\"} ).reset_index()\n",
    "\n",
    "cins_imp_trn.to_csv( loc_ftr + \"\\\\cins_imp_trn.csv\", index = False )\n",
    "cins_imp_tst.to_csv( loc_ftr + \"\\\\cins_imp_tst.csv\", index = False )"
   ]
  },
  {
   "cell_type": "markdown",
   "metadata": {},
   "source": [
    "## <span style=\"color:green\"> **Tipo de la primera instalacion (implicita/no implicita)** </span> "
   ]
  },
  {
   "cell_type": "markdown",
   "metadata": {},
   "source": [
    "#### <span style=\"color:orange\"> **OneHotEncoding** </span> "
   ]
  },
  {
   "cell_type": "code",
   "execution_count": 66,
   "metadata": {},
   "outputs": [],
   "source": [
    "type_ins_trn = rh_trn.copy()\n",
    "type_ins_tst = rh_tst.copy()\n",
    "\n",
    "type_ins_ohe_trn = pd.get_dummies( ins_18_20_frt[ [\"implicit\"] ].astype( \"category\" ) )\n",
    "type_ins_ohe_tst = pd.get_dummies( ins_21_23_frt[ [\"implicit\"] ].astype( \"category\" ) )\n",
    "\n",
    "rh_18_20 = ins_18_20_frt[ [\"ref_hash\"] ]\n",
    "\n",
    "type_ins_by_ref_hash_18_20 = pd.concat( [ins_18_20_frt[ [\"ref_hash\"] ], type_ins_ohe_trn], axis = 1 )\n",
    "type_ins_by_ref_hash_21_23 = pd.concat( [ins_21_23_frt[ [\"ref_hash\"] ], type_ins_ohe_tst], axis = 1 )\n",
    "                            \n",
    "type_ins_trn = type_ins_trn.merge( type_ins_by_ref_hash_18_20, how = \"left\", on = \"ref_hash\" )\n",
    "type_ins_tst = type_ins_tst.merge( type_ins_by_ref_hash_21_23, how = \"left\", on = \"ref_hash\" )\n",
    "    \n",
    "type_ins_trn.to_csv( loc_ftr + \"\\\\type_ins_trn.csv\", index = False )\n",
    "type_ins_tst.to_csv( loc_ftr + \"\\\\type_ins_tst.csv\", index = False )"
   ]
  },
  {
   "cell_type": "markdown",
   "metadata": {},
   "source": [
    "## <span style=\"color:green\"> **Cantidad de instalaciones atribuidas por dispositivo** </span> "
   ]
  },
  {
   "cell_type": "code",
   "execution_count": 59,
   "metadata": {},
   "outputs": [],
   "source": [
    "cins_atr_trn = rh_trn.copy()\n",
    "cins_atr_tst = rh_tst.copy()\n",
    "\n",
    "cins_atr_trn[\"cant_atr\"] = ins_18_20[\"attributed\"].apply( lambda x: 1 if x else 0 ); cins_atr_trn = cins_atr_trn.groupby( \"ref_hash\" ).agg( {\"cant_atr\":\"sum\"} ).reset_index()\n",
    "cins_atr_tst[\"cant_atr\"] = ins_21_23[\"attributed\"].apply( lambda x: 1 if x else 0 ); cins_atr_tst = cins_atr_tst.groupby( \"ref_hash\" ).agg( {\"cant_atr\":\"sum\"} ).reset_index()\n",
    "\n",
    "cins_atr_trn.to_csv( loc_ftr + \"\\\\cins_atr_trn.csv\", index = False )\n",
    "cins_atr_tst.to_csv( loc_ftr + \"\\\\cins_atr_tst.csv\", index = False )"
   ]
  }
 ],
 "metadata": {
  "kernelspec": {
   "display_name": "Python 3",
   "language": "python",
   "name": "python3"
  },
  "language_info": {
   "codemirror_mode": {
    "name": "ipython",
    "version": 3
   },
   "file_extension": ".py",
   "mimetype": "text/x-python",
   "name": "python",
   "nbconvert_exporter": "python",
   "pygments_lexer": "ipython3",
   "version": "3.7.0"
  }
 },
 "nbformat": 4,
 "nbformat_minor": 2
}
