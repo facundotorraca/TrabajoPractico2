{
 "cells": [
  {
   "cell_type": "code",
   "execution_count": 2,
   "metadata": {},
   "outputs": [],
   "source": [
    "import pandas as pd\n",
    "import numpy as np\n",
    "import datetime as dt\n",
    "import warnings as wn\n",
    "import sklearn.preprocessing as skpre\n",
    "import category_encoders as ce\n",
    "\n",
    "wn.simplefilter( \"ignore\" )"
   ]
  },
  {
   "cell_type": "code",
   "execution_count": 3,
   "metadata": {},
   "outputs": [],
   "source": [
    "loc_ftr = r\"D:\\FacundoTorraca\\Documents\\TP2_Machine_Learning_v4\\Features\\FeaturesSC\""
   ]
  },
  {
   "cell_type": "markdown",
   "metadata": {},
   "source": [
    "## <span style=\"color:yellow\"> **Preparamos el set de entramiento para sacar features** </span> "
   ]
  },
  {
   "cell_type": "code",
   "execution_count": 4,
   "metadata": {},
   "outputs": [],
   "source": [
    "loc_ts = r\"D:\\FacundoTorraca\\Documents\\TP2_Machine_Learning_v4\\Training Sets\""
   ]
  },
  {
   "cell_type": "code",
   "execution_count": 5,
   "metadata": {},
   "outputs": [],
   "source": [
    "auc_18_20 = pd.read_csv( loc_ts + \"\\\\auc_18_20.csv\" ); \n",
    "auc_21_23 = pd.read_csv( loc_ts + \"\\\\auc_21_23.csv\" );  "
   ]
  },
  {
   "cell_type": "markdown",
   "metadata": {},
   "source": [
    "## <span style=\"color:yellow\"> **Preparamos el ref_hash de cada ventana** </span> "
   ]
  },
  {
   "cell_type": "code",
   "execution_count": 6,
   "metadata": {},
   "outputs": [],
   "source": [
    "loc_lb = r\"D:\\FacundoTorraca\\Documents\\TP2_Machine_Learning_v4\\Labels\""
   ]
  },
  {
   "cell_type": "code",
   "execution_count": 7,
   "metadata": {},
   "outputs": [],
   "source": [
    "lb_ins_21_23 = pd.read_csv( loc_lb + \"\\\\label_ins_21_23.csv\" );\n",
    "lb_ins_24_26 = pd.read_csv( loc_lb + \"\\\\label_ins_24_26.csv\" ); "
   ]
  },
  {
   "cell_type": "code",
   "execution_count": 8,
   "metadata": {},
   "outputs": [],
   "source": [
    "rh_trn = lb_ins_21_23[ [\"ref_hash\"] ]\n",
    "rh_tst = lb_ins_24_26[ [\"ref_hash\"] ]\n",
    "\n",
    "tg_trn = lb_ins_21_23[ [\"21_23_sc\"] ]\n",
    "tg_tst = lb_ins_24_26[ [\"24_26_sc\"] ]"
   ]
  },
  {
   "cell_type": "markdown",
   "metadata": {},
   "source": [
    "## <span style=\"color:yellow\"> **=======================================================================================================** </span> "
   ]
  },
  {
   "cell_type": "markdown",
   "metadata": {},
   "source": [
    "## <span style=\"color:green\"> **Hora mas popular del usuario en las subastas** </span> \n",
    "\n",
    "Le aplicamos la transformacion sin( (hora * pi)/24 ) para agregarle periodicidad. "
   ]
  },
  {
   "cell_type": "code",
   "execution_count": 12,
   "metadata": {},
   "outputs": [],
   "source": [
    "main_ahr_18_20 = rh_trn.copy()\n",
    "main_ahr_21_23 = rh_tst.copy()\n",
    "\n",
    "hour_mode_18_20 = auc_18_20[[\"device_id\"]]; hour_mode_18_20[\"hour\"] = pd.to_datetime( auc_18_20[\"date\"] ).dt.hour\n",
    "hour_mode_21_23 = auc_21_23[[\"device_id\"]]; hour_mode_21_23[\"hour\"] = pd.to_datetime( auc_21_23[\"date\"] ).dt.hour\n",
    "\n",
    "hour_mode_18_20 = hour_mode_18_20.groupby( [\"device_id\", \"hour\"] ).agg( { \"hour\":\"count\" } ).rename( columns = {\"hour\":\"count\"} ).reset_index()\n",
    "hour_mode_21_23 = hour_mode_21_23.groupby( [\"device_id\", \"hour\"] ).agg( { \"hour\":\"count\" } ).rename( columns = {\"hour\":\"count\"} ).reset_index()\n",
    "\n",
    "hour_mode_18_20 = hour_mode_18_20.sort_values( [\"device_id\",\"count\"], ascending = False ).drop_duplicates( subset = [\"device_id\"], keep = \"first\" ).rename( columns = {\"device_id\":\"ref_hash\"} ).drop(\"count\",axis = 1)\n",
    "hour_mode_21_23 = hour_mode_21_23.sort_values( [\"device_id\",\"count\"], ascending = False ).drop_duplicates( subset = [\"device_id\"], keep = \"first\" ).rename( columns = {\"device_id\":\"ref_hash\"} ).drop(\"count\",axis = 1)\n",
    "\n",
    "main_ahr_18_20 = main_ahr_18_20.merge( hour_mode_18_20, how = \"left\", on = \"ref_hash\" ).rename( columns = {\"hour\":\"main_hour\"} )\n",
    "main_ahr_21_23 = main_ahr_21_23.merge( hour_mode_21_23, how = \"left\", on = \"ref_hash\" ).rename( columns = {\"hour\":\"main_hour\"} )\n",
    "\n",
    "main_ahr_18_20[\"main_hour\"] =  main_ahr_18_20[\"main_hour\"].apply( lambda x: np.sin( (x*np.pi)/24 ) )\n",
    "main_ahr_21_23[\"main_hour\"] =  main_ahr_21_23[\"main_hour\"].apply( lambda x: np.sin( (x*np.pi)/24 ) )\n",
    "\n",
    "main_ahr_18_20.to_csv( loc_ftr + \"\\\\main_ahr_trn.csv\", index = False )\n",
    "main_ahr_21_23.to_csv( loc_ftr + \"\\\\main_ahr_tst.csv\", index = False )"
   ]
  },
  {
   "cell_type": "markdown",
   "metadata": {},
   "source": [
    "## <span style=\"color:green\"> **Horario de la primer subasta en ese ventana** </span> "
   ]
  },
  {
   "cell_type": "code",
   "execution_count": 13,
   "metadata": {},
   "outputs": [],
   "source": [
    "hr_f_auc_18_20 = rh_trn.copy()\n",
    "hr_f_auc_21_23 = rh_tst.copy()\n",
    "\n",
    "first_auc_hour_18_20 = auc_18_20[ [\"device_id\",\"date\"] ].sort_values( \"date\" ).drop_duplicates( subset = \"device_id\", keep = \"first\" ).rename( columns = {\"device_id\":\"ref_hash\"} )\n",
    "first_auc_hour_21_23 = auc_21_23[ [\"device_id\",\"date\"] ].sort_values( \"date\" ).drop_duplicates( subset = \"device_id\", keep = \"first\" ).rename( columns = {\"device_id\":\"ref_hash\"} )\n",
    "\n",
    "first_auc_hour_18_20[\"time_to_frt_auc\"] = ( pd.to_datetime( first_auc_hour_18_20[\"date\"] ) -  dt.datetime( year = 2019, month = 4, day = 18 ) ).dt.total_seconds()\n",
    "first_auc_hour_21_23[\"time_to_frt_auc\"] = ( pd.to_datetime( first_auc_hour_21_23[\"date\"] ) -  dt.datetime( year = 2019, month = 4, day = 21 ) ).dt.total_seconds()\n",
    "\n",
    "first_auc_hour_18_20[\"hour_frt_auc\"] = pd.to_datetime( first_auc_hour_18_20[\"date\"] ).dt.hour\n",
    "first_auc_hour_21_23[\"hour_frt_auc\"] = pd.to_datetime( first_auc_hour_21_23[\"date\"] ).dt.hour\n",
    "\n",
    "first_auc_hour_18_20.drop( [\"date\", \"time_to_frt_auc\"], axis = 1, inplace = True )\n",
    "first_auc_hour_21_23.drop( [\"date\", \"time_to_frt_auc\"], axis = 1, inplace = True )\n",
    "\n",
    "hr_f_auc_18_20 = hr_f_auc_18_20.merge( first_auc_hour_18_20, how = \"left\", on = \"ref_hash\" )\n",
    "hr_f_auc_21_23 = hr_f_auc_21_23.merge( first_auc_hour_21_23, how = \"left\", on = \"ref_hash\" )\n",
    "\n",
    "hr_f_auc_18_20.to_csv( loc_ftr + \"\\\\hr_f_auc_trn.csv\", index = False )\n",
    "hr_f_auc_21_23.to_csv( loc_ftr + \"\\\\hr_f_auc_tst.csv\", index = False )"
   ]
  },
  {
   "cell_type": "markdown",
   "metadata": {},
   "source": [
    "## <span style=\"color:green\"> **Cantidad de Subastas por dispositivo en la ventana previa a la conversion** </span>"
   ]
  },
  {
   "cell_type": "code",
   "execution_count": 14,
   "metadata": {},
   "outputs": [],
   "source": [
    "cant_auc_18_20 = rh_trn.copy()\n",
    "cant_auc_21_23 = rh_tst.copy()\n",
    "\n",
    "cant_auc_18_20 = cant_auc_18_20.merge( auc_18_20[\"device_id\"].value_counts().to_frame().reset_index().rename( columns = {\"device_id\": \"cant_auc\", \"index\":\"ref_hash\"} ), how = \"left\", on = \"ref_hash\" )\n",
    "cant_auc_21_23 = cant_auc_21_23.merge( auc_21_23[\"device_id\"].value_counts().to_frame().reset_index().rename( columns = {\"device_id\": \"cant_auc\", \"index\":\"ref_hash\"} ), how = \"left\", on = \"ref_hash\" )\n",
    "\n",
    "cant_auc_18_20.fillna( 0, inplace = True )\n",
    "cant_auc_21_23.fillna( 0, inplace = True )\n",
    "\n",
    "cant_auc_18_20.to_csv( loc_ftr + \"\\\\cant_auc_trn.csv\", index = False )\n",
    "cant_auc_21_23.to_csv( loc_ftr + \"\\\\cant_auc_tst.csv\", index = False )"
   ]
  },
  {
   "cell_type": "markdown",
   "metadata": {},
   "source": [
    "## <span style=\"color:green\"> **Tiempo hasta la primer auction en ese ventana** </span> \n",
    "\n",
    "Le asignamos cuanto tiempo, en la ventana del 18-20, tardo en realizar su primer auction"
   ]
  },
  {
   "cell_type": "code",
   "execution_count": 15,
   "metadata": {},
   "outputs": [],
   "source": [
    "frst_auc_18_20 = rh_trn.copy()\n",
    "frst_auc_21_23 = rh_tst.copy()\n",
    "\n",
    "first_auctions_rh_ins_18_20 = auc_18_20[ [\"device_id\",\"date\"] ].sort_values( \"date\" ).drop_duplicates( subset = \"device_id\", keep = \"first\" ).rename( columns = {\"device_id\":\"ref_hash\"} )\n",
    "first_auctions_rh_ins_21_23 = auc_21_23[ [\"device_id\",\"date\"] ].sort_values( \"date\" ).drop_duplicates( subset = \"device_id\", keep = \"first\" ).rename( columns = {\"device_id\":\"ref_hash\"} )\n",
    "\n",
    "first_auctions_rh_ins_18_20[\"time_to_frt_auc\"] = ( pd.to_datetime( first_auctions_rh_ins_18_20[\"date\"] ) -  dt.datetime( year = 2019, month = 4, day = 18 ) ).dt.total_seconds()\n",
    "first_auctions_rh_ins_21_23[\"time_to_frt_auc\"] = ( pd.to_datetime( first_auctions_rh_ins_21_23[\"date\"] ) -  dt.datetime( year = 2019, month = 4, day = 21 ) ).dt.total_seconds()\n",
    "\n",
    "first_auctions_rh_ins_18_20.drop( \"date\", axis = 1, inplace = True )\n",
    "first_auctions_rh_ins_21_23.drop( \"date\", axis = 1, inplace = True )\n",
    "\n",
    "frst_auc_18_20 = frst_auc_18_20.merge( first_auctions_rh_ins_18_20, how = \"left\", on = \"ref_hash\" )\n",
    "frst_auc_21_23 = frst_auc_21_23.merge( first_auctions_rh_ins_21_23, how = \"left\", on = \"ref_hash\" )\n",
    "\n",
    "#Los que tienen NaN es que nunca convirtieron. Los marcamos con el tiempo maximo\n",
    "frst_auc_18_20.fillna( 3 * 24 * 3600, inplace = True )\n",
    "frst_auc_21_23.fillna( 3 * 24 * 3600, inplace = True )\n",
    "\n",
    "frst_auc_18_20.to_csv( loc_ftr + \"\\\\frst_auc_trn.csv\", index = False )\n",
    "frst_auc_21_23.to_csv( loc_ftr + \"\\\\frst_auc_tst.csv\", index = False )"
   ]
  },
  {
   "cell_type": "markdown",
   "metadata": {},
   "source": [
    "## <span style=\"color:green\"> **Source que recibio mas instalaciones por dispositivo** </span> \n",
    "\n",
    "#### <span style=\"color:orange\"> **Mean Encoding** </span> (Usamos el promedio de la cantidad de veces que que es la fuente principal de algun dispositivo) - <span style=\"color:red\"> **No Mejora este tipo de codificacion** </span>"
   ]
  },
  {
   "cell_type": "code",
   "execution_count": 16,
   "metadata": {},
   "outputs": [],
   "source": [
    "srce_auc_18_20 = rh_trn.copy()\n",
    "srce_auc_21_23 = rh_tst.copy()\n",
    "\n",
    "main_source_18_20 = auc_18_20.groupby( [\"device_id\", \"source_id\"] ).agg( {\"source_id\":\"count\"} ).rename( columns = {\"source_id\":\"cant_auc\"} ).reset_index()\n",
    "main_source_21_23 = auc_21_23.groupby( [\"device_id\", \"source_id\"] ).agg( {\"source_id\":\"count\"} ).rename( columns = {\"source_id\":\"cant_auc\"} ).reset_index()\n",
    "\n",
    "main_source_18_20 = main_source_18_20.sort_values( by = [\"device_id\",\"cant_auc\"], ascending = True ).drop_duplicates( subset = [\"device_id\"], keep = \"last\" ); del( main_source_18_20[\"cant_auc\"] )\n",
    "main_source_21_23 = main_source_21_23.sort_values( by = [\"device_id\",\"cant_auc\"], ascending = True ).drop_duplicates( subset = [\"device_id\"], keep = \"last\" ); del( main_source_21_23[\"cant_auc\"] )\n",
    "\n",
    "srce_auc_18_20 = srce_auc_18_20.merge( main_source_18_20.rename(columns = {\"device_id\":\"ref_hash\"}), how = \"left\", on = \"ref_hash\" ); srce_auc_18_20.fillna( \"no_font\", inplace = True )\n",
    "srce_auc_21_23 = srce_auc_21_23.merge( main_source_21_23.rename(columns = {\"device_id\":\"ref_hash\"}), how = \"left\", on = \"ref_hash\" ); srce_auc_21_23.fillna( \"no_font\", inplace = True )\n",
    "\n",
    "srce_auc_18_20[\"to_count\"] = 1; srce_auc_18_20[\"source_id\"] = srce_auc_18_20[[\"source_id\", \"to_count\"]].groupby(\"source_id\").transform( \"sum\" ) / len(srce_auc_18_20); del(srce_auc_18_20[\"to_count\"])\n",
    "srce_auc_21_23[\"to_count\"] = 1; srce_auc_21_23[\"source_id\"] = srce_auc_21_23[[\"source_id\", \"to_count\"]].groupby(\"source_id\").transform( \"sum\" ) / len(srce_auc_21_23); del(srce_auc_21_23[\"to_count\"])\n",
    "\n",
    "srce_auc_18_20.to_csv( loc_ftr + \"\\\\srce_auc_trn.csv\", index = False )\n",
    "srce_auc_21_23.to_csv( loc_ftr + \"\\\\srce_auc_tst.csv\", index = False )"
   ]
  },
  {
   "cell_type": "markdown",
   "metadata": {},
   "source": [
    "#### <span style=\"color:orange\"> **OneHotEncoding** </span> "
   ]
  },
  {
   "cell_type": "code",
   "execution_count": 18,
   "metadata": {},
   "outputs": [],
   "source": [
    "srce_auc_18_20 = rh_trn.copy()\n",
    "srce_auc_21_23 = rh_tst.copy()\n",
    "\n",
    "main_source_18_20 = auc_18_20.groupby( [\"device_id\", \"source_id\"] ).agg( {\"source_id\":\"count\"} ).rename( columns = {\"source_id\":\"cant_auc\"} ).reset_index()\n",
    "main_source_21_23 = auc_21_23.groupby( [\"device_id\", \"source_id\"] ).agg( {\"source_id\":\"count\"} ).rename( columns = {\"source_id\":\"cant_auc\"} ).reset_index()\n",
    "\n",
    "main_source_18_20 = main_source_18_20.sort_values( by = [\"device_id\",\"cant_auc\"], ascending = True ).drop_duplicates( subset = [\"device_id\"], keep = \"last\" ); del( main_source_18_20[\"cant_auc\"] )\n",
    "main_source_21_23 = main_source_21_23.sort_values( by = [\"device_id\",\"cant_auc\"], ascending = True ).drop_duplicates( subset = [\"device_id\"], keep = \"last\" ); del( main_source_21_23[\"cant_auc\"] )\n",
    "\n",
    "srce_auc_18_20 = srce_auc_18_20.merge( main_source_18_20.rename(columns = {\"device_id\":\"ref_hash\"}), how = \"left\", on = \"ref_hash\" ); srce_auc_18_20.fillna( \"no_font\", inplace = True )\n",
    "srce_auc_21_23 = srce_auc_21_23.merge( main_source_21_23.rename(columns = {\"device_id\":\"ref_hash\"}), how = \"left\", on = \"ref_hash\" ); srce_auc_21_23.fillna( \"no_font\", inplace = True )\n",
    "\n",
    "#Ya fue controlado que quedan las mismas fuentes para ambas ventanas, no quedan columnas distintas\n",
    "srce_auc_ohe_18_20 = pd.get_dummies( srce_auc_18_20[ [\"source_id\"] ].astype( \"category\" ) )\n",
    "srce_auc_ohe_21_23 = pd.get_dummies( srce_auc_21_23[ [\"source_id\"] ].astype( \"category\" ) )\n",
    "\n",
    "srce_auc_18_20 = pd.concat( [srce_auc_18_20, srce_auc_ohe_18_20], axis = 1 ); del( srce_auc_18_20[\"source_id\"] )\n",
    "srce_auc_21_23 = pd.concat( [srce_auc_21_23, srce_auc_ohe_21_23], axis = 1 ); del( srce_auc_21_23[\"source_id\"] )\n",
    "\n",
    "srce_auc_18_20.to_csv( loc_ftr + \"\\\\srce_auc_trn.csv\", index = False )\n",
    "srce_auc_21_23.to_csv( loc_ftr + \"\\\\srce_auc_tst.csv\", index = False )"
   ]
  },
  {
   "cell_type": "markdown",
   "metadata": {},
   "source": [
    "## <span style=\"color:green\"> **Tiempo hasta la ultima auction en esa ventana** </span> "
   ]
  },
  {
   "cell_type": "code",
   "execution_count": 19,
   "metadata": {},
   "outputs": [],
   "source": [
    "last_auc_18_20 = rh_trn.copy()\n",
    "last_auc_21_23 = rh_tst.copy()\n",
    "\n",
    "last_auctions_rh_ins_18_20 = auc_18_20[ [\"device_id\",\"date\"] ].sort_values( \"date\", ascending = False ).drop_duplicates( subset = \"device_id\", keep = \"first\" ).rename( columns = {\"device_id\":\"ref_hash\"} )\n",
    "last_auctions_rh_ins_21_23 = auc_21_23[ [\"device_id\",\"date\"] ].sort_values( \"date\", ascending = False ).drop_duplicates( subset = \"device_id\", keep = \"first\" ).rename( columns = {\"device_id\":\"ref_hash\"} )\n",
    "\n",
    "last_auctions_rh_ins_18_20[\"time_to_lst_auc\"] = ( pd.to_datetime( last_auctions_rh_ins_18_20[\"date\"] ) -  dt.datetime( year = 2019, month = 4, day = 18 ) ).dt.total_seconds()\n",
    "last_auctions_rh_ins_21_23[\"time_to_lst_auc\"] = ( pd.to_datetime( last_auctions_rh_ins_21_23[\"date\"] ) -  dt.datetime( year = 2019, month = 4, day = 21 ) ).dt.total_seconds()\n",
    "\n",
    "last_auctions_rh_ins_18_20.drop( \"date\", axis = 1, inplace = True )\n",
    "last_auctions_rh_ins_21_23.drop( \"date\", axis = 1, inplace = True )\n",
    "\n",
    "last_auc_18_20 = last_auc_18_20.merge( last_auctions_rh_ins_18_20, how = \"left\", on = \"ref_hash\" )\n",
    "last_auc_21_23 = last_auc_21_23.merge( last_auctions_rh_ins_21_23, how = \"left\", on = \"ref_hash\" )\n",
    "\n",
    "#Los que tienen NaN es que nunca convirtieron. Los marcamos con el tiempo maximo\n",
    "last_auc_18_20.fillna( 3 * 24 * 3600, inplace = True )\n",
    "last_auc_21_23.fillna( 3 * 24 * 3600, inplace = True )\n",
    "\n",
    "last_auc_18_20.to_csv( loc_ftr + \"\\\\last_auc_trn.csv\", index = False )\n",
    "last_auc_21_23.to_csv( loc_ftr + \"\\\\last_auc_tst.csv\", index = False )"
   ]
  },
  {
   "cell_type": "markdown",
   "metadata": {},
   "source": [
    "## <span style=\"color:green\"> **Participo en mas de una subasta** </span> "
   ]
  },
  {
   "cell_type": "markdown",
   "metadata": {},
   "source": [
    "#### <span style=\"color:Orange\"> **One-hot Encoding** </span> "
   ]
  },
  {
   "cell_type": "code",
   "execution_count": 9,
   "metadata": {},
   "outputs": [],
   "source": [
    "cant_auc_18_20 = rh_trn.copy()\n",
    "cant_auc_21_23 = rh_tst.copy()\n",
    "\n",
    "cant_auc_18_20 = cant_auc_18_20.merge( auc_18_20[\"device_id\"].value_counts().to_frame().reset_index().rename( columns = {\"device_id\": \"mt_1_ins\", \"index\":\"ref_hash\"} ), how = \"left\", on = \"ref_hash\" )\n",
    "cant_auc_21_23 = cant_auc_21_23.merge( auc_21_23[\"device_id\"].value_counts().to_frame().reset_index().rename( columns = {\"device_id\": \"mt_1_ins\", \"index\":\"ref_hash\"} ), how = \"left\", on = \"ref_hash\" )\n",
    "\n",
    "cant_auc_18_20.fillna( 0, inplace = True )\n",
    "cant_auc_21_23.fillna( 0, inplace = True )\n",
    "\n",
    "cant_auc_18_20['mt_1_ins'] = (cant_auc_18_20['mt_1_ins'] > 1).astype('int8')\n",
    "cant_auc_21_23['mt_1_ins'] = (cant_auc_21_23['mt_1_ins'] > 1).astype('int8')\n",
    "\n",
    "cant_auc_18_20.to_csv( loc_ftr + \"\\\\mas1_auc_trn.csv\", index = False )\n",
    "cant_auc_21_23.to_csv( loc_ftr + \"\\\\mas1_auc_tst.csv\", index = False )"
   ]
  },
  {
   "cell_type": "markdown",
   "metadata": {},
   "source": [
    "## <span style=\"color:green\"> **Recibio subasta entre 21 hs y 3 hs (Noche)** </span> "
   ]
  },
  {
   "cell_type": "markdown",
   "metadata": {},
   "source": [
    "#### <span style=\"color:Orange\"> **One-hot Encoding** </span> "
   ]
  },
  {
   "cell_type": "code",
   "execution_count": 10,
   "metadata": {},
   "outputs": [],
   "source": [
    "auc_18_20['auc_21_3'] = ( pd.to_datetime( auc_18_20['date'] ).dt.hour < 4) | ( pd.to_datetime( auc_18_20['date'] ).dt.hour > 20)\n",
    "auc_21_23['auc_21_3'] = ( pd.to_datetime( auc_21_23['date'] ).dt.hour < 4) | ( pd.to_datetime( auc_21_23['date'] ).dt.hour > 20)\n",
    "\n",
    "auc_night_18_20 = rh_trn.copy()\n",
    "auc_night_21_23 = rh_tst.copy()\n",
    "\n",
    "hour_mode_18_20 = auc_18_20.groupby('device_id').agg({'auc_21_3':'sum'}).reset_index().rename( columns = {\"device_id\":\"ref_hash\"} )\n",
    "hour_mode_21_23 = auc_21_23.groupby('device_id').agg({'auc_21_3':'sum'}).reset_index().rename( columns = {\"device_id\":\"ref_hash\"} )\n",
    "\n",
    "auc_night_18_20 = auc_night_18_20.merge( hour_mode_18_20, how = \"left\", on = \"ref_hash\" )\n",
    "auc_night_21_23 = auc_night_21_23.merge( hour_mode_21_23, how = \"left\", on = \"ref_hash\" )\n",
    "\n",
    "auc_night_18_20[\"auc_21_3\"] =  (auc_night_18_20[\"auc_21_3\"] > 1).astype('int8')\n",
    "auc_night_21_23[\"auc_21_3\"] =  (auc_night_21_23[\"auc_21_3\"] > 1).astype('int8')\n",
    "\n",
    "auc_night_18_20.to_csv( loc_ftr + \"\\\\auc_nght_trn.csv\", index = False )\n",
    "auc_night_21_23.to_csv( loc_ftr + \"\\\\auc_nght_tst.csv\", index = False )\n",
    "\n",
    "del auc_18_20['auc_21_3']\n",
    "del auc_21_23['auc_21_3']"
   ]
  },
  {
   "cell_type": "markdown",
   "metadata": {},
   "source": [
    "## <span style=\"color:green\"> **Recibio subasta entre 4 hs y 10 hs (Mañana)** </span> "
   ]
  },
  {
   "cell_type": "markdown",
   "metadata": {},
   "source": [
    "#### <span style=\"color:Orange\"> **One-hot Encoding** </span> "
   ]
  },
  {
   "cell_type": "code",
   "execution_count": 11,
   "metadata": {},
   "outputs": [],
   "source": [
    "auc_18_20['auc_4_10'] = ( pd.to_datetime( auc_18_20['date'] ).dt.hour < 11) & ( pd.to_datetime( auc_18_20['date'] ).dt.hour > 3)\n",
    "auc_21_23['auc_4_10'] = ( pd.to_datetime( auc_21_23['date'] ).dt.hour < 11) & ( pd.to_datetime( auc_21_23['date'] ).dt.hour > 3)\n",
    "\n",
    "auc_morn_18_20 = rh_trn.copy()\n",
    "auc_morn_21_23 = rh_tst.copy()\n",
    "\n",
    "hour_mode_18_20 = auc_18_20.groupby('device_id').agg({'auc_4_10':'sum'}).reset_index().rename( columns = {\"device_id\":\"ref_hash\"} )\n",
    "hour_mode_21_23 = auc_21_23.groupby('device_id').agg({'auc_4_10':'sum'}).reset_index().rename( columns = {\"device_id\":\"ref_hash\"} )\n",
    "\n",
    "auc_morn_18_20 = auc_morn_18_20.merge( hour_mode_18_20, how = \"left\", on = \"ref_hash\" )\n",
    "auc_morn_21_23 = auc_morn_21_23.merge( hour_mode_21_23, how = \"left\", on = \"ref_hash\" )\n",
    "\n",
    "auc_morn_18_20[\"auc_4_10\"] =  (auc_morn_18_20[\"auc_4_10\"] > 1).astype('int8')\n",
    "auc_morn_21_23[\"auc_4_10\"] =  (auc_morn_21_23[\"auc_4_10\"] > 1).astype('int8')\n",
    "\n",
    "auc_morn_18_20.to_csv( loc_ftr + \"\\\\auc_morn_trn.csv\", index = False )\n",
    "auc_morn_21_23.to_csv( loc_ftr + \"\\\\auc_morn_tst.csv\", index = False )\n",
    "\n",
    "del auc_18_20['auc_4_10']\n",
    "del auc_21_23['auc_4_10']"
   ]
  },
  {
   "cell_type": "markdown",
   "metadata": {},
   "source": [
    "## <span style=\"color:green\"> **Recibio subasta entre 11 hs y 15 hs (Mediodia)** </span> "
   ]
  },
  {
   "cell_type": "markdown",
   "metadata": {},
   "source": [
    "#### <span style=\"color:Orange\"> **One-hot Encoding** </span> "
   ]
  },
  {
   "cell_type": "code",
   "execution_count": 12,
   "metadata": {},
   "outputs": [],
   "source": [
    "auc_18_20['auc_11_15'] = ( pd.to_datetime( auc_18_20['date'] ).dt.hour < 16) & ( pd.to_datetime( auc_18_20['date'] ).dt.hour > 10)\n",
    "auc_21_23['auc_11_15'] = ( pd.to_datetime( auc_21_23['date'] ).dt.hour < 16) & ( pd.to_datetime( auc_21_23['date'] ).dt.hour > 10)\n",
    "\n",
    "auc_midday_18_20 = rh_trn.copy()\n",
    "auc_midday_21_23 = rh_tst.copy()\n",
    "\n",
    "hour_mode_18_20 = auc_18_20.groupby('device_id').agg({'auc_11_15':'sum'}).reset_index().rename( columns = {\"device_id\":\"ref_hash\"} )\n",
    "hour_mode_21_23 = auc_21_23.groupby('device_id').agg({'auc_11_15':'sum'}).reset_index().rename( columns = {\"device_id\":\"ref_hash\"} )\n",
    "\n",
    "auc_midday_18_20 = auc_midday_18_20.merge( hour_mode_18_20, how = \"left\", on = \"ref_hash\" )\n",
    "auc_midday_21_23 = auc_midday_21_23.merge( hour_mode_21_23, how = \"left\", on = \"ref_hash\" )\n",
    "\n",
    "auc_midday_18_20[\"auc_11_15\"] =  (auc_midday_18_20[\"auc_11_15\"] > 1).astype('int8')\n",
    "auc_midday_21_23[\"auc_11_15\"] =  (auc_midday_21_23[\"auc_11_15\"] > 1).astype('int8')\n",
    "\n",
    "auc_midday_18_20.to_csv( loc_ftr + \"\\\\auc_mday_trn.csv\", index = False )\n",
    "auc_midday_21_23.to_csv( loc_ftr + \"\\\\auc_mday_tst.csv\", index = False )\n",
    "\n",
    "del auc_18_20['auc_11_15']\n",
    "del auc_21_23['auc_11_15']"
   ]
  },
  {
   "cell_type": "markdown",
   "metadata": {},
   "source": [
    "## <span style=\"color:green\"> **Recibio subasta entre 16 hs y 20 hs (Tarde)** </span> "
   ]
  },
  {
   "cell_type": "markdown",
   "metadata": {},
   "source": [
    "#### <span style=\"color:Orange\"> **One-hot Encoding** </span> "
   ]
  },
  {
   "cell_type": "code",
   "execution_count": 13,
   "metadata": {},
   "outputs": [],
   "source": [
    "auc_18_20['auc_16_20'] = ( pd.to_datetime( auc_18_20['date'] ).dt.hour < 21) & ( pd.to_datetime( auc_18_20['date'] ).dt.hour > 15)\n",
    "auc_21_23['auc_16_20'] = ( pd.to_datetime( auc_21_23['date'] ).dt.hour < 21) & ( pd.to_datetime( auc_21_23['date'] ).dt.hour > 15)\n",
    "\n",
    "auc_after_18_20 = rh_trn.copy()\n",
    "auc_after_21_23 = rh_tst.copy()\n",
    "\n",
    "hour_mode_18_20 = auc_18_20.groupby('device_id').agg({'auc_16_20':'sum'}).reset_index().rename( columns = {\"device_id\":\"ref_hash\"} )\n",
    "hour_mode_21_23 = auc_21_23.groupby('device_id').agg({'auc_16_20':'sum'}).reset_index().rename( columns = {\"device_id\":\"ref_hash\"} )\n",
    "\n",
    "auc_after_18_20 = auc_after_18_20.merge( hour_mode_18_20, how = \"left\", on = \"ref_hash\" )\n",
    "auc_after_21_23 = auc_after_21_23.merge( hour_mode_21_23, how = \"left\", on = \"ref_hash\" )\n",
    "\n",
    "auc_after_18_20[\"auc_16_20\"] =  (auc_after_18_20[\"auc_16_20\"] > 1).astype('int8')\n",
    "auc_after_21_23[\"auc_16_20\"] =  (auc_after_21_23[\"auc_16_20\"] > 1).astype('int8')\n",
    "\n",
    "auc_after_18_20.to_csv( loc_ftr + \"\\\\auc_aftr_trn.csv\", index = False )\n",
    "auc_after_21_23.to_csv( loc_ftr + \"\\\\auc_aftr_tst.csv\", index = False )\n",
    "\n",
    "del auc_18_20['auc_16_20']\n",
    "del auc_21_23['auc_16_20']"
   ]
  }
 ],
 "metadata": {
  "kernelspec": {
   "display_name": "Python 3",
   "language": "python",
   "name": "python3"
  },
  "language_info": {
   "codemirror_mode": {
    "name": "ipython",
    "version": 3
   },
   "file_extension": ".py",
   "mimetype": "text/x-python",
   "name": "python",
   "nbconvert_exporter": "python",
   "pygments_lexer": "ipython3",
   "version": "3.7.0"
  }
 },
 "nbformat": 4,
 "nbformat_minor": 2
}
