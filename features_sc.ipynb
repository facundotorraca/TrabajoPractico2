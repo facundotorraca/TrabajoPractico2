{
 "cells": [
  {
   "cell_type": "code",
   "execution_count": 88,
   "metadata": {},
   "outputs": [],
   "source": [
    "import pandas as pd\n",
    "import numpy as np\n",
    "import datetime as dt\n",
    "import warnings as wn\n",
    "\n",
    "wn.simplefilter( \"ignore\" )"
   ]
  },
  {
   "cell_type": "code",
   "execution_count": 89,
   "metadata": {},
   "outputs": [],
   "source": [
    "loc_ts = r\"D:\\FacundoTorraca\\Documents\\TP2_Machine_Learning\\Training Sets\""
   ]
  },
  {
   "cell_type": "code",
   "execution_count": 90,
   "metadata": {},
   "outputs": [],
   "source": [
    "ins_18_20 = pd.read_csv( loc_ts + \"\\\\ins_18_20.csv\" ); \n",
    "ins_21_23 = pd.read_csv( loc_ts + \"\\\\ins_21_23.csv\" );\n",
    "ins_24_26 = pd.read_csv( loc_ts + \"\\\\ins_24_26.csv\" );"
   ]
  },
  {
   "cell_type": "code",
   "execution_count": 91,
   "metadata": {},
   "outputs": [],
   "source": [
    "loc_ftr = r\"D:\\FacundoTorraca\\Documents\\TP2_Machine_Learning\\Features\\ftr_ins\""
   ]
  },
  {
   "cell_type": "markdown",
   "metadata": {},
   "source": [
    "### Preparamos los Sets de Training "
   ]
  },
  {
   "cell_type": "code",
   "execution_count": 93,
   "metadata": {},
   "outputs": [],
   "source": [
    "ins_18_20[\"date\"] =  pd.to_datetime( ins_18_20[\"date\"] );\n",
    "ins_21_23[\"date\"] =  pd.to_datetime( ins_21_23[\"date\"] );\n",
    "ins_24_26[\"date\"] =  pd.to_datetime( ins_24_26[\"date\"] );"
   ]
  },
  {
   "cell_type": "code",
   "execution_count": 94,
   "metadata": {},
   "outputs": [],
   "source": [
    "ins_18_20[\"_sc\"] = ins_18_20[\"date\"] - dt.datetime( year = 2019, month = 4, day = 18 ); ins_18_20[\"_sc\"] = ins_18_20[\"_sc\"].dt.total_seconds();\n",
    "ins_21_23[\"_sc\"] = ins_21_23[\"date\"] - dt.datetime( year = 2019, month = 4, day = 21 ); ins_21_23[\"_sc\"] = ins_21_23[\"_sc\"].dt.total_seconds(); \n",
    "ins_24_26[\"_sc\"] = ins_24_26[\"date\"] - dt.datetime( year = 2019, month = 4, day = 24 ); ins_24_26[\"_sc\"] = ins_24_26[\"_sc\"].dt.total_seconds(); "
   ]
  },
  {
   "cell_type": "code",
   "execution_count": 96,
   "metadata": {},
   "outputs": [],
   "source": [
    "ins_18_20_first_ins = ins_18_20.sort_values( by = [\"ref_hash\",\"_sc\"], ascending = True ).drop_duplicates( subset = [\"ref_hash\"], keep = \"first\" )\n",
    "ins_21_23_first_ins = ins_21_23.sort_values( by = [\"ref_hash\",\"_sc\"], ascending = True ).drop_duplicates( subset = [\"ref_hash\"], keep = \"first\" )\n",
    "ins_24_26_first_ins = ins_24_26.sort_values( by = [\"ref_hash\",\"_sc\"], ascending = True ).drop_duplicates( subset = [\"ref_hash\"], keep = \"first\" )"
   ]
  },
  {
   "cell_type": "markdown",
   "metadata": {},
   "source": [
    "# <span style=\"color:green\"> **Hora de la conversion** </span> "
   ]
  },
  {
   "cell_type": "markdown",
   "metadata": {},
   "source": [
    "Le aplicamos la transformacion sin( (hora * pi)/24 ) para agregarle periodicidad. Por ejemplo que las 00 hs tengan un valor similar a 23"
   ]
  },
  {
   "cell_type": "code",
   "execution_count": 97,
   "metadata": {},
   "outputs": [],
   "source": [
    "hour_18_20 = ins_18_20_first_ins[ [\"ref_hash\"] ]\n",
    "hour_21_23 = ins_21_23_first_ins[ [\"ref_hash\"] ]\n",
    "hour_24_26 = ins_24_26_first_ins[ [\"ref_hash\"] ]"
   ]
  },
  {
   "cell_type": "code",
   "execution_count": 102,
   "metadata": {},
   "outputs": [],
   "source": [
    "hour_18_20[\"sin_hour\"] = pd.to_datetime( ins_18_20_first_ins[\"date\"] ).dt.hour; hour_18_20[\"sin_hour\"] = hour_18_20[\"sin_hour\"].apply( lambda x: np.sin( (x *np.pi)/24 ) )\n",
    "hour_21_23[\"sin_hour\"] = pd.to_datetime( ins_21_23_first_ins[\"date\"] ).dt.hour; hour_21_23[\"sin_hour\"] = hour_21_23[\"sin_hour\"].apply( lambda x: np.sin( (x *np.pi)/24 ) )\n",
    "hour_24_26[\"sin_hour\"] = pd.to_datetime( ins_24_26_first_ins[\"date\"] ).dt.hour; hour_24_26[\"sin_hour\"] = hour_24_26[\"sin_hour\"].apply( lambda x: np.sin( (x *np.pi)/24 ) )"
   ]
  },
  {
   "cell_type": "code",
   "execution_count": 99,
   "metadata": {},
   "outputs": [],
   "source": [
    "hour_18_20.to_csv( loc_ftr + \"\\\\sin_hour_18_20.csv\", index = False )\n",
    "hour_21_23.to_csv( loc_ftr + \"\\\\sin_hour_21_23.csv\", index = False )\n",
    "hour_24_26.to_csv( loc_ftr + \"\\\\sin_hour_24_26.csv\", index = False )"
   ]
  },
  {
   "cell_type": "markdown",
   "metadata": {},
   "source": [
    "# <span style=\"color:green\"> **Dia de la semana de la conversion** </span> <span style=\"color:red\"> No Mejora </span> "
   ]
  },
  {
   "cell_type": "markdown",
   "metadata": {},
   "source": [
    "Le aplicamos la transformacion sin( (diaSemana * pi)/7 ) para agregarle periodicidad. Por ejemplo que las 0 (lunes) hs tengan un valor similar a 6 (Domingo)"
   ]
  },
  {
   "cell_type": "code",
   "execution_count": 100,
   "metadata": {},
   "outputs": [],
   "source": [
    "wday_18_20 = ins_18_20_first_ins[ [\"ref_hash\"] ]\n",
    "wday_21_23 = ins_21_23_first_ins[ [\"ref_hash\"] ]\n",
    "wday_24_26 = ins_24_26_first_ins[ [\"ref_hash\"] ]"
   ]
  },
  {
   "cell_type": "code",
   "execution_count": 103,
   "metadata": {},
   "outputs": [],
   "source": [
    "wday_18_20[\"sin_wday\"] = pd.to_datetime( ins_18_20_first_ins[\"date\"] ).dt.weekday; wday_18_20[\"sin_wday\"] = wday_18_20[\"sin_wday\"].apply( lambda x: np.sin( (x *np.pi)/7 ) )\n",
    "wday_21_23[\"sin_wday\"] = pd.to_datetime( ins_21_23_first_ins[\"date\"] ).dt.weekday; wday_21_23[\"sin_wday\"] = wday_21_23[\"sin_wday\"].apply( lambda x: np.sin( (x *np.pi)/7 ) )\n",
    "wday_24_26[\"sin_wday\"] = pd.to_datetime( ins_24_26_first_ins[\"date\"] ).dt.weekday; wday_24_26[\"sin_wday\"] = wday_24_26[\"sin_wday\"].apply( lambda x: np.sin( (x *np.pi)/7 ) )"
   ]
  },
  {
   "cell_type": "code",
   "execution_count": 104,
   "metadata": {},
   "outputs": [],
   "source": [
    "wday_18_20.to_csv( loc_ftr + \"\\\\sin_wday_18_20.csv\", index = False )\n",
    "wday_21_23.to_csv( loc_ftr + \"\\\\sin_wday_21_23.csv\", index = False )\n",
    "wday_24_26.to_csv( loc_ftr + \"\\\\sin_wday_24_26.csv\", index = False )"
   ]
  },
  {
   "cell_type": "markdown",
   "metadata": {},
   "source": [
    "# <span style=\"color:green\"> **Cantidad de aplicaciones instalada hasta la conversion** </span> "
   ]
  },
  {
   "cell_type": "code",
   "execution_count": 118,
   "metadata": {},
   "outputs": [],
   "source": [
    "cant_app_ins_18_20 = ins_18_20[ [\"ref_hash\"] ]\n",
    "cant_app_ins_21_23 = ins_21_23[ [\"ref_hash\"] ]\n",
    "cant_app_ins_24_26 = ins_24_26[ [\"ref_hash\"] ]"
   ]
  },
  {
   "cell_type": "code",
   "execution_count": 122,
   "metadata": {},
   "outputs": [],
   "source": [
    "cant_app_ins_18_20[\"cant_app_ins\"] = ins_18_20[\"application_id\"]; cant_app_ins_18_20 = cant_app_ins_18_20.groupby( \"ref_hash\" ).count().reset_index()\n",
    "cant_app_ins_21_23[\"cant_app_ins\"] = ins_21_23[\"application_id\"]; cant_app_ins_21_23 = cant_app_ins_21_23.groupby( \"ref_hash\" ).count().reset_index()\n",
    "cant_app_ins_24_26[\"cant_app_ins\"] = ins_24_26[\"application_id\"]; cant_app_ins_24_26 = cant_app_ins_24_26.groupby( \"ref_hash\" ).count().reset_index()"
   ]
  },
  {
   "cell_type": "code",
   "execution_count": 125,
   "metadata": {},
   "outputs": [],
   "source": [
    "cant_app_ins_18_20.to_csv( loc_ftr + \"\\\\cant_app_ins_18_20.csv\", index = False )\n",
    "cant_app_ins_21_23.to_csv( loc_ftr + \"\\\\cant_app_ins_21_23.csv\", index = False )\n",
    "cant_app_ins_24_26.to_csv( loc_ftr + \"\\\\cant_app_ins_24_26.csv\", index = False )"
   ]
  },
  {
   "cell_type": "markdown",
   "metadata": {},
   "source": [
    "# <span style=\"color:green\"> **Cantidad de instalaciones implicitas hasta la conversion** </span> "
   ]
  },
  {
   "cell_type": "code",
   "execution_count": 161,
   "metadata": {},
   "outputs": [],
   "source": [
    "cant_imp_18_20 = ins_18_20[ [\"ref_hash\"] ]\n",
    "cant_imp_21_23 = ins_21_23[ [\"ref_hash\"] ]\n",
    "cant_imp_24_26 = ins_24_26[ [\"ref_hash\"] ]"
   ]
  },
  {
   "cell_type": "code",
   "execution_count": 162,
   "metadata": {},
   "outputs": [],
   "source": [
    "cant_imp_18_20[\"cant_imp\"] = ins_18_20[\"implicit\"].apply( lambda x: 1 if x else 0 ); cant_imp_18_20 = cant_imp_18_20.groupby( \"ref_hash\" ).agg( {\"cant_imp\":\"sum\"} ).reset_index()\n",
    "cant_imp_21_23[\"cant_imp\"] = ins_21_23[\"implicit\"].apply( lambda x: 1 if x else 0 ); cant_imp_21_23 = cant_imp_21_23.groupby( \"ref_hash\" ).agg( {\"cant_imp\":\"sum\"} ).reset_index()\n",
    "cant_imp_24_26[\"cant_imp\"] = ins_24_26[\"implicit\"].apply( lambda x: 1 if x else 0 ); cant_imp_24_26 = cant_imp_24_26.groupby( \"ref_hash\" ).agg( {\"cant_imp\":\"sum\"} ).reset_index()"
   ]
  },
  {
   "cell_type": "code",
   "execution_count": 168,
   "metadata": {},
   "outputs": [],
   "source": [
    "cant_imp_18_20.to_csv( loc_ftr + \"\\\\cant_imp_18_20.csv\", index = False )\n",
    "cant_imp_21_23.to_csv( loc_ftr + \"\\\\cant_imp_21_23.csv\", index = False )\n",
    "cant_imp_24_26.to_csv( loc_ftr + \"\\\\cant_imp_24_26.csv\", index = False )"
   ]
  }
 ],
 "metadata": {
  "kernelspec": {
   "display_name": "Python 3",
   "language": "python",
   "name": "python3"
  },
  "language_info": {
   "codemirror_mode": {
    "name": "ipython",
    "version": 3
   },
   "file_extension": ".py",
   "mimetype": "text/x-python",
   "name": "python",
   "nbconvert_exporter": "python",
   "pygments_lexer": "ipython3",
   "version": "3.7.0"
  }
 },
 "nbformat": 4,
 "nbformat_minor": 2
}
