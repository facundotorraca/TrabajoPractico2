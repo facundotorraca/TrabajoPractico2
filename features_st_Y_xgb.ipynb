{
 "cells": [
  {
   "cell_type": "code",
   "execution_count": 1,
   "metadata": {},
   "outputs": [],
   "source": [
    "import pandas as pd\n",
    "import numpy as np\n",
    "import datetime as dt\n",
    "import warnings as wn\n",
    "import sklearn.preprocessing as skpre\n",
    "import category_encoders as ce\n",
    "\n",
    "wn.simplefilter( \"ignore\" )"
   ]
  },
  {
   "cell_type": "markdown",
   "metadata": {},
   "source": [
    "# Preparamos los Sets de Training"
   ]
  },
  {
   "cell_type": "code",
   "execution_count": 2,
   "metadata": {},
   "outputs": [],
   "source": [
    "loc_ts = r\"D:\\FacundoTorraca\\Documents\\TP2_Machine_Learning\\Training Sets\""
   ]
  },
  {
   "cell_type": "code",
   "execution_count": 3,
   "metadata": {},
   "outputs": [],
   "source": [
    "ins_18_20 = pd.read_csv( loc_ts + \"\\\\ins_18_20.csv\" ); \n",
    "ins_21_23 = pd.read_csv( loc_ts + \"\\\\ins_21_23.csv\" ); \n",
    "ins_24_26 = pd.read_csv( loc_ts + \"\\\\ins_24_26.csv\" ); "
   ]
  },
  {
   "cell_type": "code",
   "execution_count": 4,
   "metadata": {},
   "outputs": [],
   "source": [
    "evt_18_20 = pd.read_csv( loc_ts + \"\\\\evt_18_20.csv\" );\n",
    "evt_21_23 = pd.read_csv( loc_ts + \"\\\\evt_21_23.csv\" );\n",
    "evt_24_26 = pd.read_csv( loc_ts + \"\\\\evt_24_26.csv\" );"
   ]
  },
  {
   "cell_type": "code",
   "execution_count": 5,
   "metadata": {},
   "outputs": [],
   "source": [
    "auc_18_20 = pd.read_csv( loc_ts + \"\\\\auc_18_20.csv\" ); \n",
    "auc_21_23 = pd.read_csv( loc_ts + \"\\\\auc_21_23.csv\" );\n",
    "auc_24_26 = pd.read_csv( loc_ts + \"\\\\auc_24_26.csv\" );"
   ]
  },
  {
   "cell_type": "code",
   "execution_count": 6,
   "metadata": {},
   "outputs": [],
   "source": [
    "clk_18_20 = pd.read_csv( loc_ts + \"\\\\clk_18_20.csv\" );\n",
    "clk_21_23 = pd.read_csv( loc_ts + \"\\\\clk_21_23.csv\" );\n",
    "clk_24_26 = pd.read_csv( loc_ts + \"\\\\clk_24_26.csv\" );"
   ]
  },
  {
   "cell_type": "markdown",
   "metadata": {},
   "source": [
    "# Genero los Sets con el primer install"
   ]
  },
  {
   "cell_type": "code",
   "execution_count": 7,
   "metadata": {},
   "outputs": [],
   "source": [
    "auc_18_20[\"date\"] =  pd.to_datetime( auc_18_20[\"date\"] ); auc_18_20[\"_st\"] = auc_18_20[\"date\"] - dt.datetime( year = 2019, month = 4, day = 18 ); auc_18_20[\"_st\"] = auc_18_20[\"_st\"].dt.total_seconds();\n",
    "auc_21_23[\"date\"] =  pd.to_datetime( auc_21_23[\"date\"] ); auc_21_23[\"_st\"] = auc_21_23[\"date\"] - dt.datetime( year = 2019, month = 4, day = 21 ); auc_21_23[\"_st\"] = auc_21_23[\"_st\"].dt.total_seconds(); \n",
    "auc_24_26[\"date\"] =  pd.to_datetime( auc_24_26[\"date\"] ); auc_24_26[\"_st\"] = auc_24_26[\"date\"] - dt.datetime( year = 2019, month = 4, day = 24 ); auc_24_26[\"_st\"] = auc_24_26[\"_st\"].dt.total_seconds(); "
   ]
  },
  {
   "cell_type": "code",
   "execution_count": null,
   "metadata": {},
   "outputs": [],
   "source": [
    "auc_18_20_first_auc = auc_18_20.sort_values( by = [\"device_id\",\"_st\"], ascending = True ).drop_duplicates( subset = [\"device_id\"], keep = \"first\" ).rename( columns = {\"device_id\": \"ref_hash\"} )\n",
    "auc_21_23_first_auc = auc_21_23.sort_values( by = [\"device_id\",\"_st\"], ascending = True ).drop_duplicates( subset = [\"device_id\"], keep = \"first\" ).rename( columns = {\"device_id\": \"ref_hash\"} )\n",
    "auc_24_26_first_auc = auc_24_26.sort_values( by = [\"device_id\",\"_st\"], ascending = True ).drop_duplicates( subset = [\"device_id\"], keep = \"first\" ).rename( columns = {\"device_id\": \"ref_hash\"} )"
   ]
  },
  {
   "cell_type": "markdown",
   "metadata": {},
   "source": [
    "# Sacamos los Features"
   ]
  },
  {
   "cell_type": "code",
   "execution_count": null,
   "metadata": {},
   "outputs": [],
   "source": [
    "loc_ftr = r\"D:\\FacundoTorraca\\Documents\\TP2_Machine_Learning\\Features\\ftr_auc\""
   ]
  },
  {
   "cell_type": "code",
   "execution_count": null,
   "metadata": {},
   "outputs": [],
   "source": [
    "rh_18_20 = auc_18_20_first_auc[ [\"ref_hash\"] ] #RH unicos que coinciden con los datos que usamos para entrenar\n",
    "rh_21_23 = auc_21_23_first_auc[ [\"ref_hash\"] ] #RH unicos que coinciden con los datos que queremos predecir\n",
    "\n",
    "tg_18_20 = auc_18_20_first_auc[ [\"_st\"] ]\n",
    "tg_21_23 = auc_21_23_first_auc[ [\"_st\"] ]"
   ]
  },
  {
   "cell_type": "markdown",
   "metadata": {},
   "source": [
    "## <span style=\"color:green\"> **Hora de la realizacion de la primera subasta** </span> "
   ]
  },
  {
   "cell_type": "markdown",
   "metadata": {},
   "source": [
    "Le aplicamos la transformacion sin( (hora * pi)/24 ) para agregarle periodicidad. Por ejemplo que las 00 hs tengan un valor similar a 2"
   ]
  },
  {
   "cell_type": "code",
   "execution_count": 51,
   "metadata": {},
   "outputs": [],
   "source": [
    "hora_auc_18_20 = rh_18_20.copy()\n",
    "hora_auc_21_23 = rh_21_23.copy()"
   ]
  },
  {
   "cell_type": "code",
   "execution_count": 52,
   "metadata": {},
   "outputs": [],
   "source": [
    "hora_auc_18_20[\"hour\"] = auc_18_20_first_auc[\"date\"].dt.hour; hora_auc_18_20[\"hour\"] = hora_auc_18_20[\"hour\"].apply( lambda x: np.sin( (x*np.pi)/24 ) )\n",
    "hora_auc_21_23[\"hour\"] = auc_21_23_first_auc[\"date\"].dt.hour; hora_auc_21_23[\"hour\"] = hora_auc_21_23[\"hour\"].apply( lambda x: np.sin( (x*np.pi)/24 ) )"
   ]
  },
  {
   "cell_type": "code",
   "execution_count": 53,
   "metadata": {},
   "outputs": [],
   "source": [
    "hora_auc_18_20.to_csv( loc_ftr + \"\\\\hora_auc_18_20.csv\", index = False )\n",
    "hora_auc_21_23.to_csv( loc_ftr + \"\\\\hora_auc_21_23.csv\", index = False )"
   ]
  },
  {
   "cell_type": "markdown",
   "metadata": {},
   "source": [
    "## <span style=\"color:green\"> **Cantidad de Clicks en la ventana anterior** </span> "
   ]
  },
  {
   "cell_type": "code",
   "execution_count": 66,
   "metadata": {},
   "outputs": [],
   "source": [
    "cant_clk_18_20 = rh_18_20.copy()\n",
    "cant_clk_21_23 = rh_21_23.copy()"
   ]
  },
  {
   "cell_type": "code",
   "execution_count": 67,
   "metadata": {},
   "outputs": [],
   "source": [
    "cant_clk_18_20 = cant_clk_18_20.merge( clk_18_20[\"ref_hash\"].value_counts().to_frame().reset_index().rename( columns = {\"ref_hash\": \"cant_clk\", \"index\":\"ref_hash\"} ), how = \"left\", on = \"ref_hash\" )\n",
    "cant_clk_21_23 = cant_clk_21_23.merge( clk_21_23[\"ref_hash\"].value_counts().to_frame().reset_index().rename( columns = {\"ref_hash\": \"cant_clk\", \"index\":\"ref_hash\"} ), how = \"left\", on = \"ref_hash\" )"
   ]
  },
  {
   "cell_type": "code",
   "execution_count": 68,
   "metadata": {},
   "outputs": [],
   "source": [
    "cant_clk_18_20.fillna( 0, inplace = True )\n",
    "cant_clk_21_23.fillna( 0, inplace = True )"
   ]
  },
  {
   "cell_type": "code",
   "execution_count": 69,
   "metadata": {},
   "outputs": [],
   "source": [
    "cant_clk_18_20.to_csv( loc_ftr + \"\\\\cant_clk_18_20.csv\", index = False )\n",
    "cant_clk_21_23.to_csv( loc_ftr + \"\\\\cant_clk_21_23.csv\", index = False )"
   ]
  },
  {
   "cell_type": "markdown",
   "metadata": {},
   "source": [
    "## <span style=\"color:green\"> **Cantidad de instalaciones por dispositivo en la ventana previa a la conversion** </span> "
   ]
  },
  {
   "cell_type": "code",
   "execution_count": 70,
   "metadata": {},
   "outputs": [],
   "source": [
    "cant_ins_18_20 = rh_18_20.copy()\n",
    "cant_ins_21_23 = rh_21_23.copy()"
   ]
  },
  {
   "cell_type": "code",
   "execution_count": 71,
   "metadata": {},
   "outputs": [],
   "source": [
    "cant_ins_18_20 = cant_ins_18_20.merge( ins_18_20[\"ref_hash\"].value_counts().to_frame().reset_index().rename( columns = {\"ref_hash\": \"cant_ins\", \"index\":\"ref_hash\"} ), how = \"left\", on = \"ref_hash\" )\n",
    "cant_ins_21_23 = cant_ins_21_23.merge( ins_21_23[\"ref_hash\"].value_counts().to_frame().reset_index().rename( columns = {\"ref_hash\": \"cant_ins\", \"index\":\"ref_hash\"} ), how = \"left\", on = \"ref_hash\" )"
   ]
  },
  {
   "cell_type": "code",
   "execution_count": 72,
   "metadata": {},
   "outputs": [],
   "source": [
    "cant_ins_18_20.fillna( 0, inplace = True )\n",
    "cant_ins_21_23.fillna( 0, inplace = True )"
   ]
  },
  {
   "cell_type": "code",
   "execution_count": 73,
   "metadata": {},
   "outputs": [],
   "source": [
    "cant_ins_18_20.to_csv( loc_ftr + \"\\\\cant_ins_18_20.csv\", index = False )\n",
    "cant_ins_21_23.to_csv( loc_ftr + \"\\\\cant_ins_21_23.csv\", index = False )"
   ]
  },
  {
   "cell_type": "markdown",
   "metadata": {},
   "source": [
    "## <span style=\"color:green\"> **Cantidad de subastas por dispositivo en la ventana previa a la conversion** </span> "
   ]
  },
  {
   "cell_type": "code",
   "execution_count": 83,
   "metadata": {},
   "outputs": [],
   "source": [
    "cant_auc_18_20 = rh_18_20.copy()\n",
    "cant_auc_21_23 = rh_21_23.copy()"
   ]
  },
  {
   "cell_type": "code",
   "execution_count": 84,
   "metadata": {},
   "outputs": [],
   "source": [
    "cant_auc_18_20 = cant_auc_18_20.merge( auc_18_20[\"device_id\"].value_counts().to_frame().reset_index().rename( columns = {\"device_id\": \"cant_auc\", \"index\":\"ref_hash\"} ), how = \"left\", on = \"ref_hash\" )\n",
    "cant_auc_21_23 = cant_auc_21_23.merge( auc_21_23[\"device_id\"].value_counts().to_frame().reset_index().rename( columns = {\"device_id\": \"cant_auc\", \"index\":\"ref_hash\"} ), how = \"left\", on = \"ref_hash\" )"
   ]
  },
  {
   "cell_type": "code",
   "execution_count": 85,
   "metadata": {},
   "outputs": [],
   "source": [
    "cant_auc_18_20.fillna( 0, inplace = True )\n",
    "cant_auc_21_23.fillna( 0, inplace = True )"
   ]
  },
  {
   "cell_type": "code",
   "execution_count": 86,
   "metadata": {},
   "outputs": [],
   "source": [
    "cant_auc_18_20.to_csv( loc_ftr + \"\\\\cant_auc_18_20.csv\", index = False )\n",
    "cant_auc_21_23.to_csv( loc_ftr + \"\\\\cant_auc_21_23.csv\", index = False )"
   ]
  },
  {
   "cell_type": "markdown",
   "metadata": {},
   "source": [
    "## <span style=\"color:green\"> **Cantidad de eventos por dispositivo en la ventana previa a la conversion** </span> "
   ]
  },
  {
   "cell_type": "code",
   "execution_count": 89,
   "metadata": {},
   "outputs": [],
   "source": [
    "cant_evt_18_20 = rh_18_20.copy()\n",
    "cant_evt_21_23 = rh_21_23.copy()"
   ]
  },
  {
   "cell_type": "code",
   "execution_count": 90,
   "metadata": {},
   "outputs": [],
   "source": [
    "cant_evt_18_20 = cant_evt_18_20.merge( evt_18_20[\"ref_hash\"].value_counts().to_frame().reset_index().rename( columns = {\"ref_hash\": \"cant_evt\", \"index\":\"ref_hash\"} ), how = \"left\", on = \"ref_hash\" )\n",
    "cant_evt_21_23 = cant_evt_21_23.merge( evt_21_23[\"ref_hash\"].value_counts().to_frame().reset_index().rename( columns = {\"ref_hash\": \"cant_evt\", \"index\":\"ref_hash\"} ), how = \"left\", on = \"ref_hash\" )"
   ]
  },
  {
   "cell_type": "code",
   "execution_count": 91,
   "metadata": {},
   "outputs": [],
   "source": [
    "cant_evt_18_20.fillna( 0, inplace = True )\n",
    "cant_evt_21_23.fillna( 0, inplace = True )"
   ]
  },
  {
   "cell_type": "code",
   "execution_count": 92,
   "metadata": {},
   "outputs": [],
   "source": [
    "cant_evt_18_20.to_csv( loc_ftr + \"\\\\cant_evt_18_20.csv\", index = False )\n",
    "cant_evt_21_23.to_csv( loc_ftr + \"\\\\cant_evt_21_23.csv\", index = False )"
   ]
  },
  {
   "cell_type": "markdown",
   "metadata": {},
   "source": [
    "## <span style=\"color:green\"> **Ref Type del dispositivo que realizo la instalacion** </span> \n",
    "\n",
    "#### <span style=\"color:orange\"> **OneHotEncoding** </span> "
   ]
  },
  {
   "cell_type": "code",
   "execution_count": 95,
   "metadata": {},
   "outputs": [],
   "source": [
    "ref_type_18_20 = rh_18_20.copy()\n",
    "ref_type_21_23 = rh_21_23.copy()"
   ]
  },
  {
   "cell_type": "code",
   "execution_count": 98,
   "metadata": {},
   "outputs": [],
   "source": [
    "rt_ohe_18_20 = pd.get_dummies( auc_18_20_first_auc[\"ref_type_id\"] )\n",
    "rt_ohe_21_23 = pd.get_dummies( auc_21_23_first_auc[\"ref_type_id\"] )"
   ]
  },
  {
   "cell_type": "code",
   "execution_count": 99,
   "metadata": {},
   "outputs": [],
   "source": [
    "ref_type_18_20 = pd.concat( [ref_type_18_20, rt_ohe_18_20], axis = 1 )\n",
    "ref_type_21_23 = pd.concat( [ref_type_21_23, rt_ohe_21_23], axis = 1 )"
   ]
  },
  {
   "cell_type": "code",
   "execution_count": 102,
   "metadata": {},
   "outputs": [],
   "source": [
    "ref_type_18_20.to_csv( loc_ftr + \"\\\\ref_type_18_20.csv\", index = False )\n",
    "ref_type_21_23.to_csv( loc_ftr + \"\\\\ref_type_21_23.csv\", index = False )"
   ]
  },
  {
   "cell_type": "markdown",
   "metadata": {},
   "source": [
    "## <span style=\"color:green\"> **Dia de la semana realizacion de la primera subasta** </span> "
   ]
  },
  {
   "cell_type": "markdown",
   "metadata": {},
   "source": [
    "Le aplicamos la transformacion sin( (hora * pi)/6 ) para agregarle periodicidad. Por ejemplo 0 (lunes) tengan un valor similar a 6 (domingo)"
   ]
  },
  {
   "cell_type": "code",
   "execution_count": 106,
   "metadata": {},
   "outputs": [],
   "source": [
    "sdia_auc_18_20 = rh_18_20.copy()\n",
    "sdia_auc_21_23 = rh_21_23.copy()"
   ]
  },
  {
   "cell_type": "code",
   "execution_count": 107,
   "metadata": {},
   "outputs": [],
   "source": [
    "sdia_auc_18_20[\"hour\"] = auc_18_20_first_auc[\"date\"].dt.hour; sdia_auc_18_20[\"hour\"] = sdia_auc_18_20[\"hour\"].apply( lambda x: np.sin( (x*np.pi)/6 ) )\n",
    "sdia_auc_21_23[\"hour\"] = auc_21_23_first_auc[\"date\"].dt.hour; sdia_auc_21_23[\"hour\"] = sdia_auc_21_23[\"hour\"].apply( lambda x: np.sin( (x*np.pi)/6 ) )"
   ]
  },
  {
   "cell_type": "code",
   "execution_count": 108,
   "metadata": {},
   "outputs": [],
   "source": [
    "sdia_auc_18_20.to_csv( loc_ftr + \"\\\\sdia_auc_18_20.csv\", index = False )\n",
    "sdia_auc_21_23.to_csv( loc_ftr + \"\\\\sdia_auc_21_23.csv\", index = False )"
   ]
  },
  {
   "cell_type": "markdown",
   "metadata": {},
   "source": [
    "## <span style=\"color:green\"> **Source que recibio mas instalaciones por dispositivo** </span> \n",
    "\n",
    "#### <span style=\"color:orange\"> **Mean Encoding** </span> (Usamos el promedio de la cantidad de veces que que es la fuente principal de algun dispositivo)"
   ]
  },
  {
   "cell_type": "code",
   "execution_count": 109,
   "metadata": {},
   "outputs": [],
   "source": [
    "srce_auc_18_20 = rh_18_20.copy()\n",
    "srce_auc_21_23 = rh_21_23.copy()"
   ]
  },
  {
   "cell_type": "code",
   "execution_count": 110,
   "metadata": {},
   "outputs": [],
   "source": [
    "main_source_18_20 = auc_18_20.groupby( [\"device_id\", \"source_id\"] ).agg( {\"source_id\":\"count\"} ).rename( columns = {\"source_id\":\"cant_auc\"} ).reset_index()\n",
    "main_source_21_23 = auc_21_23.groupby( [\"device_id\", \"source_id\"] ).agg( {\"source_id\":\"count\"} ).rename( columns = {\"source_id\":\"cant_auc\"} ).reset_index()"
   ]
  },
  {
   "cell_type": "code",
   "execution_count": 111,
   "metadata": {},
   "outputs": [],
   "source": [
    "main_source_18_20 = main_source_18_20.sort_values( by = [\"device_id\",\"cant_auc\"], ascending = True ).drop_duplicates( subset = [\"device_id\"], keep = \"last\" ); del( main_source_18_20[\"cant_auc\"] )\n",
    "main_source_21_23 = main_source_21_23.sort_values( by = [\"device_id\",\"cant_auc\"], ascending = True ).drop_duplicates( subset = [\"device_id\"], keep = \"last\" ); del( main_source_21_23[\"cant_auc\"] )"
   ]
  },
  {
   "cell_type": "code",
   "execution_count": 112,
   "metadata": {},
   "outputs": [],
   "source": [
    "srce_auc_18_20 = srce_auc_18_20.merge( main_source_18_20.rename(columns = {\"device_id\":\"ref_hash\"}), how = \"left\", on = \"ref_hash\" ); srce_auc_18_20.fillna( \"no_font\", inplace = True )\n",
    "srce_auc_21_23 = srce_auc_21_23.merge( main_source_21_23.rename(columns = {\"device_id\":\"ref_hash\"}), how = \"left\", on = \"ref_hash\" ); srce_auc_21_23.fillna( \"no_font\", inplace = True )"
   ]
  },
  {
   "cell_type": "code",
   "execution_count": 113,
   "metadata": {},
   "outputs": [],
   "source": [
    "srce_auc_18_20[\"to_count\"] = 1; srce_auc_18_20[\"source_id\"] = srce_auc_18_20[[\"source_id\", \"to_count\"]].groupby(\"source_id\").transform( \"sum\" ) / len(srce_auc_18_20); del(srce_auc_18_20[\"to_count\"])\n",
    "srce_auc_21_23[\"to_count\"] = 1; srce_auc_21_23[\"source_id\"] = srce_auc_21_23[[\"source_id\", \"to_count\"]].groupby(\"source_id\").transform( \"sum\" ) / len(srce_auc_21_23); del(srce_auc_21_23[\"to_count\"])"
   ]
  },
  {
   "cell_type": "code",
   "execution_count": 114,
   "metadata": {},
   "outputs": [],
   "source": [
    "srce_auc_18_20.to_csv( loc_ftr + \"\\\\srce_auc_18_20.csv\", index = False )\n",
    "srce_auc_21_23.to_csv( loc_ftr + \"\\\\srce_auc_21_23.csv\", index = False )"
   ]
  },
  {
   "cell_type": "markdown",
   "metadata": {},
   "source": [
    "## <span style=\"color:green\"> **Ref Hash** </span> \n",
    "\n",
    "\n",
    "#### <span style=\"color:orange\"> **Mean Encoding** </span> (Usamos el promedio de la cantidad de apariciones en las subastas en la ventana anterior)"
   ]
  },
  {
   "cell_type": "code",
   "execution_count": 47,
   "metadata": {},
   "outputs": [],
   "source": [
    "rh_encod_18_20 = rh_18_20.copy()\n",
    "rh_encod_21_23 = rh_21_23.copy()"
   ]
  },
  {
   "cell_type": "code",
   "execution_count": 47,
   "metadata": {},
   "outputs": [],
   "source": [
    "appces_18_20_auc = auc_18_20[\"device_id\"].value_counts().reset_index().rename( columns = {\"index\":\"ref_hash\", \"device_id\":\"appearances\"} )\n",
    "appces_21_23_auc = auc_21_23[\"device_id\"].value_counts().reset_index().rename( columns = {\"index\":\"ref_hash\", \"device_id\":\"appearances\"} )"
   ]
  },
  {
   "cell_type": "code",
   "execution_count": 47,
   "metadata": {},
   "outputs": [],
   "source": [
    "appces_18_20_auc[\"ref_hash_mean\"] = appces_18_20_auc[\"appearances\"] / len( auc_18_20 ); appces_18_20_auc.drop( \"appearances\", axis = 1, inplace = True )\n",
    "appces_21_23_auc[\"ref_hash_mean\"] = appces_21_23_auc[\"appearances\"] / len( auc_21_23 ); appces_21_23_auc.drop( \"appearances\", axis = 1, inplace = True )"
   ]
  },
  {
   "cell_type": "code",
   "execution_count": 47,
   "metadata": {},
   "outputs": [],
   "source": [
    "rh_encod_18_20 = rh_encod_18_20.merge( appces_18_20_auc, how = \"left\", on = \"ref_hash\" )\n",
    "rh_encod_21_23 = rh_encod_21_23.merge( appces_21_23_auc, how = \"left\", on = \"ref_hash\" )"
   ]
  },
  {
   "cell_type": "code",
   "execution_count": 47,
   "metadata": {},
   "outputs": [],
   "source": [
    "rh_encod_18_20.to_csv( loc_ftr + \"\\\\rh_encod_18_20.csv\", index = False )\n",
    "rh_encod_21_23.to_csv( loc_ftr + \"\\\\rh_encod_21_23.csv\", index = False )"
   ]
  },
  {
   "cell_type": "markdown",
   "metadata": {},
   "source": [
    "## <span style=\"color:green\"> **Hora mas popular del usuario en las subastas** </span> \n",
    "\n",
    "Le aplicamos la transformacion sin( (hora * pi)/24 ) para agregarle periodicidad. "
   ]
  },
  {
   "cell_type": "code",
   "execution_count": 99,
   "metadata": {},
   "outputs": [],
   "source": [
    "main_ahr_18_20 = rh_18_20.copy()\n",
    "main_ahr_21_23 = rh_21_23.copy()"
   ]
  },
  {
   "cell_type": "code",
   "execution_count": 99,
   "metadata": {},
   "outputs": [],
   "source": [
    "hour_mode_18_20 = auc_18_20[[\"device_id\"]]; hour_mode_18_20[\"hour\"] = pd.to_datetime( auc_18_20[\"date\"] ).dt.hour\n",
    "hour_mode_21_23 = auc_21_23[[\"device_id\"]]; hour_mode_21_23[\"hour\"] = pd.to_datetime( auc_21_23[\"date\"] ).dt.hour"
   ]
  },
  {
   "cell_type": "code",
   "execution_count": 99,
   "metadata": {},
   "outputs": [],
   "source": [
    "hour_mode_18_20 = hour_mode_18_20.groupby( [\"device_id\", \"hour\"] ).agg( { \"hour\":\"count\" } ).rename( columns = {\"hour\":\"count\"} ).reset_index()\n",
    "hour_mode_21_23 = hour_mode_21_23.groupby( [\"device_id\", \"hour\"] ).agg( { \"hour\":\"count\" } ).rename( columns = {\"hour\":\"count\"} ).reset_index()"
   ]
  },
  {
   "cell_type": "code",
   "execution_count": 99,
   "metadata": {},
   "outputs": [],
   "source": [
    "hour_mode_18_20 = hour_mode_18_20.sort_values( [\"device_id\",\"count\"], ascending = False ).drop_duplicates( subset = [\"device_id\"], keep = \"first\" ).rename( columns = {\"device_id\":\"ref_hash\"} ).drop(\"count\",axis = 1)\n",
    "hour_mode_21_23 = hour_mode_21_23.sort_values( [\"device_id\",\"count\"], ascending = False ).drop_duplicates( subset = [\"device_id\"], keep = \"first\" ).rename( columns = {\"device_id\":\"ref_hash\"} ).drop(\"count\",axis = 1)"
   ]
  },
  {
   "cell_type": "code",
   "execution_count": 99,
   "metadata": {},
   "outputs": [],
   "source": [
    "main_ahr_18_20 = main_ahr_18_20.merge( hour_mode_18_20, how = \"left\", on = \"ref_hash\" ).rename( columns = {\"hour\":\"main_hour\"} )\n",
    "main_ahr_21_23 = main_ahr_21_23.merge( hour_mode_21_23, how = \"left\", on = \"ref_hash\" ).rename( columns = {\"hour\":\"main_hour\"} )"
   ]
  },
  {
   "cell_type": "code",
   "execution_count": 99,
   "metadata": {},
   "outputs": [],
   "source": [
    "main_ahr_18_20[\"main_hour\"] =  main_ahr_18_20[\"main_hour\"].apply( lambda x: np.sin( (x*np.pi)/24 ) )\n",
    "main_ahr_21_23[\"main_hour\"] =  main_ahr_21_23[\"main_hour\"].apply( lambda x: np.sin( (x*np.pi)/24 ) )"
   ]
  },
  {
   "cell_type": "code",
   "execution_count": 99,
   "metadata": {},
   "outputs": [],
   "source": [
    "main_ahr_18_20.to_csv( loc_ftr + \"\\\\main_ahr_18_20.csv\", index = False )\n",
    "main_ahr_21_23.to_csv( loc_ftr + \"\\\\main_ahr_21_23.csv\", index = False )"
   ]
  }
 ],
 "metadata": {
  "kernelspec": {
   "display_name": "Python 3",
   "language": "python",
   "name": "python3"
  },
  "language_info": {
   "codemirror_mode": {
    "name": "ipython",
    "version": 3
   },
   "file_extension": ".py",
   "mimetype": "text/x-python",
   "name": "python",
   "nbconvert_exporter": "python",
   "pygments_lexer": "ipython3",
   "version": "3.7.0"
  }
 },
 "nbformat": 4,
 "nbformat_minor": 2
}
