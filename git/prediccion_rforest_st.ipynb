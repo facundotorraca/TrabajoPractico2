{
 "cells": [
  {
   "cell_type": "code",
   "execution_count": 1,
   "metadata": {},
   "outputs": [],
   "source": [
    "import pandas as pd\n",
    "import numpy as np\n",
    "import warnings as wr\n",
    "from sklearn.ensemble import RandomForestRegressor\n",
    "from sklearn.metrics import mean_squared_error\n",
    "\n",
    "wr.filterwarnings(\"ignore\")"
   ]
  },
  {
   "cell_type": "code",
   "execution_count": 2,
   "metadata": {},
   "outputs": [],
   "source": [
    "loc_lbl = r\"D:\\Documentos\\Facu\\Organizacion de Datos\\TP2\\Labels\"\n",
    "loc_ftr = r\"D:\\Documentos\\Facu\\Organizacion de Datos\\TP2\\Features\\ftr_auc\""
   ]
  },
  {
   "cell_type": "code",
   "execution_count": 3,
   "metadata": {},
   "outputs": [],
   "source": [
    "auc_lb = pd.read_csv( loc_lbl + \"\\\\auc_lb.csv\", dtype = {\"obs_18_20\":\"bool\", \"obs_21_23\":\"bool\", \"obs_24_26\":\"bool\"} )"
   ]
  },
  {
   "cell_type": "code",
   "execution_count": 4,
   "metadata": {},
   "outputs": [],
   "source": [
    "auc_lb['ref_hash'] = auc_lb['device_id']"
   ]
  },
  {
   "cell_type": "markdown",
   "metadata": {},
   "source": [
    "### Filtro de manera que tenga los datos necesarios"
   ]
  },
  {
   "cell_type": "code",
   "execution_count": 5,
   "metadata": {},
   "outputs": [],
   "source": [
    "rh_18_20 = pd.read_csv( \"D:\\Documentos\\Facu\\Organizacion de Datos\\TP2\\Training Sets\\\\auc_18_20.csv\" ).rename( columns = {\"device_id\":\"ref_hash\"} ); rh_18_20 = rh_18_20[\"ref_hash\"].drop_duplicates().tolist()\n",
    "rh_21_23 = pd.read_csv( \"D:\\Documentos\\Facu\\Organizacion de Datos\\TP2\\Training Sets\\\\auc_21_23.csv\" ).rename( columns = {\"device_id\":\"ref_hash\"} ); rh_21_23 = rh_21_23[\"ref_hash\"].drop_duplicates().tolist()"
   ]
  },
  {
   "cell_type": "code",
   "execution_count": 6,
   "metadata": {},
   "outputs": [],
   "source": [
    "dt_18_20 = auc_lb.loc[ auc_lb[\"ref_hash\"].isin( rh_18_20 ), [\"ref_hash\"] ] #Datos del (18-20)\n",
    "st_21_23 = auc_lb.loc[ auc_lb[\"ref_hash\"].isin( rh_18_20 ), [\"21_23_st\"] ] #SC del (21-23)\n",
    "\n",
    "dt_21_23 = auc_lb.loc[ auc_lb[\"ref_hash\"].isin( rh_21_23 ), [\"ref_hash\"] ] #Datos del (21-23)\n",
    "st_24_26 = auc_lb.loc[ auc_lb[\"ref_hash\"].isin( rh_21_23 ), [\"24_26_st\"] ] #SC del (24-26)"
   ]
  },
  {
   "cell_type": "markdown",
   "metadata": {},
   "source": [
    "# <span style=\"color:orange\">  Preparo los datos para predecir </span>\n",
    "Con los datos 21-23 predecimos \"24-26_sc\""
   ]
  },
  {
   "cell_type": "code",
   "execution_count": 7,
   "metadata": {},
   "outputs": [],
   "source": [
    "Z = dt_21_23"
   ]
  },
  {
   "cell_type": "markdown",
   "metadata": {},
   "source": [
    "### Agregamos los features "
   ]
  },
  {
   "cell_type": "code",
   "execution_count": 8,
   "metadata": {},
   "outputs": [],
   "source": [
    "ftr_01_Z = pd.read_csv( loc_ftr + \"\\\\hora_auc_21_23.csv\" )  ; Z = Z.merge( ftr_01_Z, how = \"inner\", on = \"ref_hash\" )\n",
    "ftr_02_Z = pd.read_csv( loc_ftr + \"\\\\cant_clk_21_23.csv\" )  ; Z = Z.merge( ftr_02_Z, how = \"inner\", on = \"ref_hash\" )\n",
    "ftr_03_Z = pd.read_csv( loc_ftr + \"\\\\cant_ins_21_23.csv\" )  ; Z = Z.merge( ftr_03_Z, how = \"inner\", on = \"ref_hash\" )\n",
    "ftr_04_Z = pd.read_csv( loc_ftr + \"\\\\cant_auc_21_23.csv\" )  ; Z = Z.merge( ftr_04_Z, how = \"inner\", on = \"ref_hash\" )\n",
    "ftr_05_Z = pd.read_csv( loc_ftr + \"\\\\cant_evt_21_23.csv\" )  ; Z = Z.merge( ftr_05_Z, how = \"inner\", on = \"ref_hash\" )\n",
    "ftr_07_Z = pd.read_csv( loc_ftr + \"\\\\sdia_auc_21_23.csv\" )  ; Z = Z.merge( ftr_07_Z, how = \"inner\", on = \"ref_hash\" )\n",
    "ftr_10_Z = pd.read_csv( loc_ftr + \"\\\\main_ahr_21_23.csv\" )  ; Z = Z.merge( ftr_10_Z, how = \"inner\", on = \"ref_hash\" )\n",
    "ftr_11_Z = pd.read_csv( loc_ftr + \"\\\\auc_after_21_23.csv\" ) ; Z = Z.merge( ftr_11_Z, how = \"inner\", on = \"ref_hash\" )\n",
    "ftr_12_Z = pd.read_csv( loc_ftr + \"\\\\auc_midday_21_23.csv\" ); Z = Z.merge( ftr_12_Z, how = \"inner\", on = \"ref_hash\" )\n",
    "ftr_13_Z = pd.read_csv( loc_ftr + \"\\\\auc_morn_21_23.csv\" )  ; Z = Z.merge( ftr_13_Z, how = \"inner\", on = \"ref_hash\" )\n",
    "ftr_14_Z = pd.read_csv( loc_ftr + \"\\\\cevt_atr_21_23.csv\" )  ; Z = Z.merge( ftr_14_Z, how = \"inner\", on = \"ref_hash\" )\n",
    "ftr_15_Z = pd.read_csv( loc_ftr + \"\\\\cins_atr_21_23.csv\" )  ; Z = Z.merge( ftr_15_Z, how = \"inner\", on = \"ref_hash\" )\n",
    "ftr_16_Z = pd.read_csv( loc_ftr + \"\\\\cins_imp_21_23.csv\" )  ; Z = Z.merge( ftr_16_Z, how = \"inner\", on = \"ref_hash\" )\n",
    "ftr_17_Z = pd.read_csv( loc_ftr + \"\\\\clk_after_21_23.csv\" ) ; Z = Z.merge( ftr_17_Z, how = \"inner\", on = \"ref_hash\" )\n",
    "ftr_18_Z = pd.read_csv( loc_ftr + \"\\\\clk_midday_21_23.csv\" ); Z = Z.merge( ftr_18_Z, how = \"inner\", on = \"ref_hash\" )\n",
    "ftr_19_Z = pd.read_csv( loc_ftr + \"\\\\clk_morn_21_23.csv\" )  ; Z = Z.merge( ftr_19_Z, how = \"inner\", on = \"ref_hash\" )\n",
    "ftr_20_Z = pd.read_csv( loc_ftr + \"\\\\clk_night_21_23.csv\" ) ; Z = Z.merge( ftr_20_Z, how = \"inner\", on = \"ref_hash\" )\n",
    "ftr_21_Z = pd.read_csv( loc_ftr + \"\\\\evt_after_21_23.csv\" ) ; Z = Z.merge( ftr_21_Z, how = \"inner\", on = \"ref_hash\" )\n",
    "ftr_22_Z = pd.read_csv( loc_ftr + \"\\\\evt_midday_21_23.csv\" ); Z = Z.merge( ftr_22_Z, how = \"inner\", on = \"ref_hash\" )\n",
    "ftr_23_Z = pd.read_csv( loc_ftr + \"\\\\evt_morn_21_23.csv\" )  ; Z = Z.merge( ftr_23_Z, how = \"inner\", on = \"ref_hash\" )\n",
    "ftr_24_Z = pd.read_csv( loc_ftr + \"\\\\evt_night_21_23.csv\" ) ; Z = Z.merge( ftr_24_Z, how = \"inner\", on = \"ref_hash\" )\n",
    "ftr_25_Z = pd.read_csv( loc_ftr + \"\\\\frst_auc_21_23.csv\" )  ; Z = Z.merge( ftr_25_Z, how = \"inner\", on = \"ref_hash\" )\n",
    "ftr_26_Z = pd.read_csv( loc_ftr + \"\\\\frst_clk_21_23.csv\" )  ; Z = Z.merge( ftr_26_Z, how = \"inner\", on = \"ref_hash\" )\n",
    "ftr_27_Z = pd.read_csv( loc_ftr + \"\\\\frst_evt_21_23.csv\" )  ; Z = Z.merge( ftr_27_Z, how = \"inner\", on = \"ref_hash\" )\n",
    "ftr_28_Z = pd.read_csv( loc_ftr + \"\\\\hora_auc_21_23.csv\" )  ; Z = Z.merge( ftr_28_Z, how = \"inner\", on = \"ref_hash\" )\n",
    "ftr_29_Z = pd.read_csv( loc_ftr + \"\\\\hr_f_evt_21_23.csv\" )  ; Z = Z.merge( ftr_29_Z, how = \"inner\", on = \"ref_hash\" )\n",
    "ftr_30_Z = pd.read_csv( loc_ftr + \"\\\\ins_after_21_23.csv\" ) ; Z = Z.merge( ftr_30_Z, how = \"inner\", on = \"ref_hash\" )\n",
    "ftr_31_Z = pd.read_csv( loc_ftr + \"\\\\ins_midday_21_23.csv\" ); Z = Z.merge( ftr_31_Z, how = \"inner\", on = \"ref_hash\" )\n",
    "ftr_32_Z = pd.read_csv( loc_ftr + \"\\\\ins_morn_21_23.csv\" )  ; Z = Z.merge( ftr_32_Z, how = \"inner\", on = \"ref_hash\" )\n",
    "ftr_33_Z = pd.read_csv( loc_ftr + \"\\\\ins_night_21_23.csv\" ) ; Z = Z.merge( ftr_33_Z, how = \"inner\", on = \"ref_hash\" )\n",
    "ftr_34_Z = pd.read_csv( loc_ftr + \"\\\\last_auc_21_23.csv\" )  ; Z = Z.merge( ftr_34_Z, how = \"inner\", on = \"ref_hash\" )\n",
    "ftr_35_Z = pd.read_csv( loc_ftr + \"\\\\last_evt_21_23.csv\" )  ; Z = Z.merge( ftr_35_Z, how = \"inner\", on = \"ref_hash\" )\n",
    "ftr_36_Z = pd.read_csv( loc_ftr + \"\\\\last_ins_21_23.csv\" )  ; Z = Z.merge( ftr_36_Z, how = \"inner\", on = \"ref_hash\" )\n",
    "ftr_37_Z = pd.read_csv( loc_ftr + \"\\\\main_ehr_21_23.csv\" )  ; Z = Z.merge( ftr_37_Z, how = \"inner\", on = \"ref_hash\" )\n",
    "ftr_38_Z = pd.read_csv( loc_ftr + \"\\\\mt_1_auc_21_23.csv\" )  ; Z = Z.merge( ftr_38_Z, how = \"inner\", on = \"ref_hash\" )\n",
    "ftr_39_Z = pd.read_csv( loc_ftr + \"\\\\wifi_evt_21_23.csv\" )  ; Z = Z.merge( ftr_39_Z, how = \"inner\", on = \"ref_hash\" )"
   ]
  },
  {
   "cell_type": "markdown",
   "metadata": {},
   "source": [
    "# <span style=\"color:orange\">  Preparo los datos para entrenar </span>"
   ]
  },
  {
   "cell_type": "markdown",
   "metadata": {},
   "source": [
    "Con los datos 18-20 + \"21-23_sc\" entrenamos"
   ]
  },
  {
   "cell_type": "code",
   "execution_count": 9,
   "metadata": {},
   "outputs": [],
   "source": [
    "Y = st_21_23\n",
    "X = dt_18_20"
   ]
  },
  {
   "cell_type": "markdown",
   "metadata": {},
   "source": [
    "### Agregamos los features"
   ]
  },
  {
   "cell_type": "code",
   "execution_count": 10,
   "metadata": {},
   "outputs": [],
   "source": [
    "ftr_01_X = pd.read_csv( loc_ftr + \"\\\\hora_auc_18_20.csv\" )  ; X = X.merge( ftr_01_X, how = \"inner\", on = \"ref_hash\" )\n",
    "ftr_02_X = pd.read_csv( loc_ftr + \"\\\\cant_clk_18_20.csv\" )  ; X = X.merge( ftr_02_X, how = \"inner\", on = \"ref_hash\" )\n",
    "ftr_03_X = pd.read_csv( loc_ftr + \"\\\\cant_ins_18_20.csv\" )  ; X = X.merge( ftr_03_X, how = \"inner\", on = \"ref_hash\" )\n",
    "ftr_04_X = pd.read_csv( loc_ftr + \"\\\\cant_auc_18_20.csv\" )  ; X = X.merge( ftr_04_X, how = \"inner\", on = \"ref_hash\" )\n",
    "ftr_05_X = pd.read_csv( loc_ftr + \"\\\\cant_evt_18_20.csv\" )  ; X = X.merge( ftr_05_X, how = \"inner\", on = \"ref_hash\" )\n",
    "ftr_07_X = pd.read_csv( loc_ftr + \"\\\\sdia_auc_18_20.csv\" )  ; X = X.merge( ftr_07_X, how = \"inner\", on = \"ref_hash\" )\n",
    "ftr_10_X = pd.read_csv( loc_ftr + \"\\\\main_ahr_18_20.csv\" )  ; X = X.merge( ftr_10_X, how = \"inner\", on = \"ref_hash\" )\n",
    "ftr_11_X = pd.read_csv( loc_ftr + \"\\\\auc_after_18_20.csv\" ) ; X = X.merge( ftr_11_X, how = \"inner\", on = \"ref_hash\" )\n",
    "ftr_12_X = pd.read_csv( loc_ftr + \"\\\\auc_midday_18_20.csv\" ); X = X.merge( ftr_12_X, how = \"inner\", on = \"ref_hash\" )\n",
    "ftr_13_X = pd.read_csv( loc_ftr + \"\\\\auc_morn_18_20.csv\" )  ; X = X.merge( ftr_13_X, how = \"inner\", on = \"ref_hash\" )\n",
    "ftr_14_X = pd.read_csv( loc_ftr + \"\\\\cevt_atr_18_20.csv\" )  ; X = X.merge( ftr_14_X, how = \"inner\", on = \"ref_hash\" )\n",
    "ftr_15_X = pd.read_csv( loc_ftr + \"\\\\cins_atr_18_20.csv\" )  ; X = X.merge( ftr_15_X, how = \"inner\", on = \"ref_hash\" )\n",
    "ftr_16_X = pd.read_csv( loc_ftr + \"\\\\cins_imp_18_20.csv\" )  ; X = X.merge( ftr_16_X, how = \"inner\", on = \"ref_hash\" )\n",
    "ftr_17_X = pd.read_csv( loc_ftr + \"\\\\clk_after_18_20.csv\" ) ; X = X.merge( ftr_17_X, how = \"inner\", on = \"ref_hash\" )\n",
    "ftr_18_X = pd.read_csv( loc_ftr + \"\\\\clk_midday_18_20.csv\" ); X = X.merge( ftr_18_X, how = \"inner\", on = \"ref_hash\" )\n",
    "ftr_19_X = pd.read_csv( loc_ftr + \"\\\\clk_morn_18_20.csv\" )  ; X = X.merge( ftr_19_X, how = \"inner\", on = \"ref_hash\" )\n",
    "ftr_20_X = pd.read_csv( loc_ftr + \"\\\\clk_night_18_20.csv\" ) ; X = X.merge( ftr_20_X, how = \"inner\", on = \"ref_hash\" )\n",
    "ftr_21_X = pd.read_csv( loc_ftr + \"\\\\evt_after_18_20.csv\" ) ; X = X.merge( ftr_21_X, how = \"inner\", on = \"ref_hash\" )\n",
    "ftr_22_X = pd.read_csv( loc_ftr + \"\\\\evt_midday_18_20.csv\" ); X = X.merge( ftr_22_X, how = \"inner\", on = \"ref_hash\" )\n",
    "ftr_23_X = pd.read_csv( loc_ftr + \"\\\\evt_morn_18_20.csv\" )  ; X = X.merge( ftr_23_X, how = \"inner\", on = \"ref_hash\" )\n",
    "ftr_24_X = pd.read_csv( loc_ftr + \"\\\\evt_night_18_20.csv\" ) ; X = X.merge( ftr_24_X, how = \"inner\", on = \"ref_hash\" )\n",
    "ftr_25_X = pd.read_csv( loc_ftr + \"\\\\frst_auc_18_20.csv\" )  ; X = X.merge( ftr_25_X, how = \"inner\", on = \"ref_hash\" )\n",
    "ftr_26_X = pd.read_csv( loc_ftr + \"\\\\frst_clk_18_20.csv\" )  ; X = X.merge( ftr_26_X, how = \"inner\", on = \"ref_hash\" )\n",
    "ftr_27_X = pd.read_csv( loc_ftr + \"\\\\frst_evt_18_20.csv\" )  ; X = X.merge( ftr_27_X, how = \"inner\", on = \"ref_hash\" )\n",
    "ftr_28_X = pd.read_csv( loc_ftr + \"\\\\hora_auc_18_20.csv\" )  ; X = X.merge( ftr_28_X, how = \"inner\", on = \"ref_hash\" )\n",
    "ftr_29_X = pd.read_csv( loc_ftr + \"\\\\hr_f_evt_18_20.csv\" )  ; X = X.merge( ftr_29_X, how = \"inner\", on = \"ref_hash\" )\n",
    "ftr_30_X = pd.read_csv( loc_ftr + \"\\\\ins_after_18_20.csv\" ) ; X = X.merge( ftr_30_X, how = \"inner\", on = \"ref_hash\" )\n",
    "ftr_31_X = pd.read_csv( loc_ftr + \"\\\\ins_midday_18_20.csv\" ); X = X.merge( ftr_31_X, how = \"inner\", on = \"ref_hash\" )\n",
    "ftr_32_X = pd.read_csv( loc_ftr + \"\\\\ins_morn_18_20.csv\" )  ; X = X.merge( ftr_32_X, how = \"inner\", on = \"ref_hash\" )\n",
    "ftr_33_X = pd.read_csv( loc_ftr + \"\\\\ins_night_18_20.csv\" ) ; X = X.merge( ftr_33_X, how = \"inner\", on = \"ref_hash\" )\n",
    "ftr_34_X = pd.read_csv( loc_ftr + \"\\\\last_auc_18_20.csv\" )  ; X = X.merge( ftr_34_X, how = \"inner\", on = \"ref_hash\" )\n",
    "ftr_35_X = pd.read_csv( loc_ftr + \"\\\\last_evt_18_20.csv\" )  ; X = X.merge( ftr_35_X, how = \"inner\", on = \"ref_hash\" )\n",
    "ftr_36_X = pd.read_csv( loc_ftr + \"\\\\last_ins_18_20.csv\" )  ; X = X.merge( ftr_36_X, how = \"inner\", on = \"ref_hash\" )\n",
    "ftr_37_X = pd.read_csv( loc_ftr + \"\\\\main_ehr_18_20.csv\" )  ; X = X.merge( ftr_37_X, how = \"inner\", on = \"ref_hash\" )\n",
    "ftr_38_X = pd.read_csv( loc_ftr + \"\\\\mt_1_auc_18_20.csv\" )  ; X = X.merge( ftr_38_X, how = \"inner\", on = \"ref_hash\" )\n",
    "ftr_39_X = pd.read_csv( loc_ftr + \"\\\\wifi_evt_18_20.csv\" )  ; X = X.merge( ftr_39_X, how = \"inner\", on = \"ref_hash\" )"
   ]
  },
  {
   "cell_type": "code",
   "execution_count": 11,
   "metadata": {},
   "outputs": [],
   "source": [
    "Z = Z.drop('ref_hash',axis = 1)\n",
    "X = X.drop('ref_hash',axis = 1)"
   ]
  },
  {
   "cell_type": "markdown",
   "metadata": {},
   "source": [
    "# Prediccion con <span style=\"color:green\"> *Random Forest*</span> "
   ]
  },
  {
   "cell_type": "code",
   "execution_count": 12,
   "metadata": {},
   "outputs": [],
   "source": [
    "estimator = RandomForestRegressor(max_depth=7, random_state=50, n_estimators=150, oob_score=True, criterion='mse')"
   ]
  },
  {
   "cell_type": "code",
   "execution_count": 13,
   "metadata": {},
   "outputs": [],
   "source": [
    "pmt = estimator.fit( X.fillna(0),Y.fillna(0))"
   ]
  },
  {
   "cell_type": "code",
   "execution_count": 14,
   "metadata": {},
   "outputs": [],
   "source": [
    "prd = pmt.predict(  Z.fillna(0) )"
   ]
  },
  {
   "cell_type": "markdown",
   "metadata": {},
   "source": [
    "### Calculamos el RMSE"
   ]
  },
  {
   "cell_type": "code",
   "execution_count": 15,
   "metadata": {},
   "outputs": [
    {
     "name": "stdout",
     "output_type": "stream",
     "text": [
      "RMSE: 89232.430652\n"
     ]
    }
   ],
   "source": [
    "rmse = np.sqrt( mean_squared_error(st_24_26, prd) )\n",
    "print(\"RMSE: %f\" % (rmse))"
   ]
  },
  {
   "cell_type": "code",
   "execution_count": null,
   "metadata": {},
   "outputs": [],
   "source": [
    "RMSE: 72762.380589\n"
   ]
  },
  {
   "cell_type": "markdown",
   "metadata": {},
   "source": [
    "## Tunning de HyperParameters"
   ]
  },
  {
   "cell_type": "code",
   "execution_count": 40,
   "metadata": {},
   "outputs": [],
   "source": [
    "from sklearn.model_selection import RandomizedSearchCV\n",
    "\n",
    "from sklearn.metrics import mean_squared_error, make_scorer\n",
    "#greater_is_better = False -> Transformar score_function en loss_function\n",
    "mse = make_scorer( mean_squared_error, greater_is_better = False )"
   ]
  },
  {
   "cell_type": "code",
   "execution_count": null,
   "metadata": {},
   "outputs": [],
   "source": [
    "reg = RandomForestRegressor()\n",
    "\n",
    "tune_prms = {'max_depth': [1,2,3,4],\n",
    "             'n_estimators': [80,120,200,250],\n",
    "             'random_state': [0,10,50]\n",
    "            }\n",
    "\n",
    "grid = RandomizedSearchCV( estimator = estimator, param_distributions = tune_prms, cv = 10, n_jobs = 1, scoring = mse, n_iter = 20 ) \n",
    "grid.fit(X.fillna(0),Y.fillna(0))    "
   ]
  },
  {
   "cell_type": "code",
   "execution_count": null,
   "metadata": {},
   "outputs": [],
   "source": [
    "# Results from Grid Search\n",
    "print(\"==========================================================\")\n",
    "print(\"||            Results from Grid Search                  ||\")\n",
    "print(\"==========================================================\")    \n",
    "    \n",
    "print(\"\\n The best estimator across ALL searched params:\\n\", grid.best_estimator_)\n",
    "print(\"\\n The best score across ALL searched params:\\n\", grid.best_score_)\n",
    "print(\"\\n The best parameters across ALL searched params:\\n\", grid.best_params_)"
   ]
  },
  {
   "cell_type": "markdown",
   "metadata": {},
   "source": [
    "## Ploteamos el Feature Importance"
   ]
  },
  {
   "cell_type": "code",
   "execution_count": 17,
   "metadata": {},
   "outputs": [
    {
     "name": "stdout",
     "output_type": "stream",
     "text": [
      "Feature ranking:\n",
      "1. feature 31 (0.610192)\n",
      "2. feature 3 (0.204599)\n",
      "3. feature 22 (0.150102)\n",
      "4. feature 9 (0.012492)\n",
      "5. feature 7 (0.007798)\n",
      "6. feature 8 (0.004516)\n",
      "7. feature 33 (0.004092)\n",
      "8. feature 35 (0.002691)\n",
      "9. feature 32 (0.000767)\n",
      "10. feature 4 (0.000536)\n",
      "11. feature 24 (0.000495)\n",
      "12. feature 36 (0.000310)\n",
      "13. feature 26 (0.000228)\n",
      "14. feature 5 (0.000209)\n",
      "15. feature 34 (0.000165)\n",
      "16. feature 6 (0.000158)\n",
      "17. feature 23 (0.000098)\n",
      "18. feature 12 (0.000097)\n",
      "19. feature 25 (0.000097)\n",
      "20. feature 2 (0.000068)\n",
      "21. feature 0 (0.000065)\n",
      "22. feature 19 (0.000035)\n",
      "23. feature 10 (0.000031)\n",
      "24. feature 30 (0.000031)\n",
      "25. feature 18 (0.000023)\n",
      "26. feature 20 (0.000021)\n",
      "27. feature 29 (0.000020)\n",
      "28. feature 21 (0.000019)\n",
      "29. feature 27 (0.000016)\n",
      "30. feature 1 (0.000013)\n",
      "31. feature 28 (0.000011)\n",
      "32. feature 15 (0.000004)\n",
      "33. feature 17 (0.000002)\n",
      "34. feature 14 (0.000000)\n",
      "35. feature 13 (0.000000)\n",
      "36. feature 16 (0.000000)\n",
      "37. feature 11 (0.000000)\n"
     ]
    },
    {
     "data": {
      "image/png": "[encoded data removed]",
      "text/plain": [
       "<Figure size 1080x1080 with 1 Axes>"
      ]
     },
     "metadata": {
      "needs_background": "light"
     },
     "output_type": "display_data"
    }
   ],
   "source": [
    "import matplotlib.pyplot as plt\n",
    "forest = pmt\n",
    "\n",
    "importances = forest.feature_importances_\n",
    "std = np.std([tree.feature_importances_ for tree in forest.estimators_],\n",
    "             axis=0)\n",
    "indices = np.argsort(importances)[::-1]\n",
    "\n",
    "# Print the feature ranking\n",
    "print(\"Feature ranking:\")\n",
    "\n",
    "for f in range(X.shape[1]):\n",
    "    print(\"%d. feature %d (%f)\" % (f + 1, indices[f], importances[indices[f]]))\n",
    "\n",
    "# Plot the feature importances of the forest\n",
    "plt.figure(figsize=(15,15))\n",
    "plt.title(\"Feature importances\")\n",
    "plt.bar(range(X.shape[1]), importances[indices],\n",
    "       color=\"r\", yerr=std[indices], align=\"center\")\n",
    "plt.xticks(range(X.shape[1]), indices)\n",
    "plt.xlim([-1, X.shape[1]])\n",
    "plt.show()"
   ]
  },
  {
   "cell_type": "code",
   "execution_count": 57,
   "metadata": {},
   "outputs": [
    {
     "name": "stdout",
     "output_type": "stream",
     "text": [
      "Feature ranking:\n",
      "1. feature 0 (0.916983)\n",
      "2. feature 1 (0.052663)\n",
      "3. feature 2 (0.030355)\n"
     ]
    },
    {
     "data": {
      "image/png": "[encoded data removed]",
      "text/plain": [
       "<Figure size 1080x1080 with 1 Axes>"
      ]
     },
     "metadata": {
      "needs_background": "light"
     },
     "output_type": "display_data"
    }
   ],
   "source": [
    "import matplotlib.pyplot as plt\n",
    "forest = pmt\n",
    "\n",
    "importances = forest.feature_importances_\n",
    "std = np.std([tree.feature_importances_ for tree in forest.estimators_],\n",
    "             axis=0)\n",
    "indices = np.argsort(importances)[::-1]\n",
    "\n",
    "# Print the feature ranking\n",
    "print(\"Feature ranking:\")\n",
    "\n",
    "for f in range(X.shape[1]):\n",
    "    print(\"%d. feature %d (%f)\" % (f + 1, indices[f], importances[indices[f]]))\n",
    "\n",
    "# Plot the feature importances of the forest\n",
    "plt.figure(figsize=(15,15))\n",
    "plt.title(\"Feature importances\")\n",
    "plt.bar(range(X.shape[1]), importances[indices],\n",
    "       color=\"r\", yerr=std[indices], align=\"center\")\n",
    "plt.xticks(range(X.shape[1]), indices)\n",
    "plt.xlim([-1, X.shape[1]])\n",
    "plt.show()"
   ]
  },
  {
   "cell_type": "code",
   "execution_count": 43,
   "metadata": {},
   "outputs": [
    {
     "ename": "AttributeError",
     "evalue": "type object 'RandomForestRegressor' has no attribute 'plot_importance'",
     "output_type": "error",
     "traceback": [
      "\u001b[1;31m---------------------------------------------------------------------------\u001b[0m",
      "\u001b[1;31mAttributeError\u001b[0m                            Traceback (most recent call last)",
      "\u001b[1;32m<ipython-input-43-b255677401ff>\u001b[0m in \u001b[0;36m<module>\u001b[1;34m\u001b[0m\n\u001b[1;32m----> 1\u001b[1;33m \u001b[0mRandomForestRegressor\u001b[0m\u001b[1;33m.\u001b[0m\u001b[0mplot_importance\u001b[0m\u001b[1;33m(\u001b[0m\u001b[0mpmt\u001b[0m\u001b[1;33m)\u001b[0m\u001b[1;33m\u001b[0m\u001b[1;33m\u001b[0m\u001b[0m\n\u001b[0m",
      "\u001b[1;31mAttributeError\u001b[0m: type object 'RandomForestRegressor' has no attribute 'plot_importance'"
     ]
    }
   ],
   "source": [
    "RandomForestRegressor.plot_importance(pmt)"
   ]
  }
 ],
 "metadata": {
  "kernelspec": {
   "display_name": "Python 3",
   "language": "python",
   "name": "python3"
  },
  "language_info": {
   "codemirror_mode": {
    "name": "ipython",
    "version": 3
   },
   "file_extension": ".py",
   "mimetype": "text/x-python",
   "name": "python",
   "nbconvert_exporter": "python",
   "pygments_lexer": "ipython3",
   "version": "3.7.3"
  }
 },
 "nbformat": 4,
 "nbformat_minor": 2
}
