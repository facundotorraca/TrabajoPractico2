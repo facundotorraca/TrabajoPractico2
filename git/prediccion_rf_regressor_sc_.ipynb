{
 "cells": [
  {
   "cell_type": "code",
   "execution_count": 1,
   "metadata": {},
   "outputs": [],
   "source": [
    "import pandas as pd\n",
    "import numpy as np\n",
    "import warnings as wr\n",
    "from sklearn.ensemble import RandomForestRegressor\n",
    "from sklearn.metrics import mean_squared_error\n",
    "\n",
    "wr.filterwarnings(\"ignore\")\n",
    "loc_lbl = r\"D:\\Documentos\\Facu\\Organizacion de Datos\\TP2\\Labels\"\n",
    "loc_ftr = r\"D:\\Documentos\\Facu\\Organizacion de Datos\\TP2\\Features\\ftr_ins\""
   ]
  },
  {
   "cell_type": "code",
   "execution_count": 2,
   "metadata": {},
   "outputs": [],
   "source": [
    "ins_lb = pd.read_csv( loc_lbl + \"\\\\ins_lb.csv\", dtype = {\"obs_18_20\":\"bool\", \"obs_21_23\":\"bool\", \"obs_24_26\":\"bool\"} )"
   ]
  },
  {
   "cell_type": "markdown",
   "metadata": {},
   "source": [
    "### Filtro de manera que tenga los datos necesarios"
   ]
  },
  {
   "cell_type": "code",
   "execution_count": 3,
   "metadata": {},
   "outputs": [],
   "source": [
    "rh_18_20 = pd.read_csv( \"D:\\Documentos\\Facu\\Organizacion de Datos\\TP2\\Training Sets\\ins_18_20.csv\" ); rh_18_20 = rh_18_20[\"ref_hash\"].drop_duplicates().tolist()\n",
    "rh_21_23 = pd.read_csv( \"D:\\Documentos\\Facu\\Organizacion de Datos\\TP2\\Training Sets\\ins_21_23.csv\" ); rh_21_23 = rh_21_23[\"ref_hash\"].drop_duplicates().tolist()"
   ]
  },
  {
   "cell_type": "code",
   "execution_count": 4,
   "metadata": {},
   "outputs": [],
   "source": [
    "set_trn = ins_lb.loc[ ins_lb[\"ref_hash\"].isin( rh_18_20 ), [\"ref_hash\", \"21_23_sc\"] ]\n",
    "set_tst = ins_lb.loc[ ins_lb[\"ref_hash\"].isin( rh_21_23 ), [\"ref_hash\", \"24_26_sc\"] ]\n",
    "\n",
    "t_lim = 259200; max_t = 400\n",
    "set_trn_loc = pd.concat( [ set_trn.loc[ set_trn[\"21_23_sc\"] < t_lim ], set_trn.loc[ set_trn[\"21_23_sc\"] == t_lim ].reset_index( drop = True ).loc[: max_t] ], axis = 0 ).sample(frac=1).reset_index(drop=True)\n",
    "set_tst_loc = pd.concat( [ set_tst.loc[ set_tst[\"24_26_sc\"] < t_lim ], set_tst.loc[ set_tst[\"24_26_sc\"] == t_lim ].reset_index( drop = True ).loc[: max_t] ], axis = 0 ).sample(frac=1).reset_index(drop=True)"
   ]
  },
  {
   "cell_type": "markdown",
   "metadata": {},
   "source": [
    "### Creamos los Train/Test"
   ]
  },
  {
   "cell_type": "code",
   "execution_count": 5,
   "metadata": {},
   "outputs": [],
   "source": [
    "Z = set_tst[ [\"ref_hash\"] ] #Datos test\n",
    "W = set_tst[ [\"ref_hash\",\"24_26_sc\"] ] #Label test\n",
    "\n",
    "X = set_trn[ [\"ref_hash\"] ] #Datos train\n",
    "Y = set_trn[ [\"ref_hash\",\"21_23_sc\"] ] #Label train\n",
    "\n",
    "Z_loc = set_tst_loc[ [\"ref_hash\"] ] #Datos test reducido\n",
    "W_loc = set_tst_loc[ [\"ref_hash\",\"24_26_sc\"] ] #Label test reducido\n",
    "\n",
    "X_loc = set_trn_loc[ [\"ref_hash\"] ] #Datos train reducido\n",
    "Y_loc = set_trn_loc[ [\"ref_hash\",\"21_23_sc\"] ] #Label train reducido"
   ]
  },
  {
   "cell_type": "markdown",
   "metadata": {},
   "source": [
    "# <span style=\"color:orange\">  Preparo los datos para predecir </span>\n",
    "Con los datos 21-23 predecimos \"24-26_sc\""
   ]
  },
  {
   "cell_type": "code",
   "execution_count": 6,
   "metadata": {},
   "outputs": [],
   "source": [
    "Z_var = Z_loc\n",
    "W_var = W_loc"
   ]
  },
  {
   "cell_type": "markdown",
   "metadata": {},
   "source": [
    "### Agregamos los features "
   ]
  },
  {
   "cell_type": "code",
   "execution_count": 7,
   "metadata": {},
   "outputs": [],
   "source": [
    "ftr_01_Z = pd.read_csv( loc_ftr + \"\\\\sin_hour_21_23.csv\" )  ; Z_var = Z_var.merge( ftr_01_Z, how = \"inner\", on = \"ref_hash\" )\n",
    "ftr_02_z = pd.read_csv( loc_ftr + \"\\\\sin_wday_21_23.csv\")   ; Z_var = Z_var.merge(  ftr_02_z, how = \"inner\", on = \"ref_hash\")\n",
    "ftr_03_z = pd.read_csv( loc_ftr + \"\\\\cant_imp_21_23.csv\")   ; Z_var = Z_var.merge(  ftr_03_z, how = \"inner\", on = \"ref_hash\")\n",
    "ftr_04_z = pd.read_csv( loc_ftr + \"\\\\cant_app_ins_21_23.csv\") ; Z_var = Z_var.merge(  ftr_04_z, how = \"inner\", on = \"ref_hash\")\n",
    "ftr_05_z = pd.read_csv( loc_ftr + \"\\\\app_id_21_23.csv\")     ; Z_var = Z_var.merge(  ftr_05_z, how = \"inner\", on = \"ref_hash\")\n",
    "ftr_06_z = pd.read_csv( loc_ftr + \"\\\\sin_hour_21_23.csv\")   ; Z_var = Z_var.merge(  ftr_06_z, how = \"inner\", on = \"ref_hash\")\n",
    "ftr_07_z = pd.read_csv( loc_ftr + \"\\\\hr_f_evt_21_23.csv\")   ; Z_var = Z_var.merge(  ftr_07_z, how = \"inner\", on = \"ref_hash\")\n",
    "ftr_08_z = pd.read_csv( loc_ftr + \"\\\\main_ihr_21_23.csv\")   ; Z_var = Z_var.merge(  ftr_08_z, how = \"inner\", on = \"ref_hash\")\n",
    "ftr_09_z = pd.read_csv( loc_ftr + \"\\\\main_ahr_21_23.csv\")   ; Z_var = Z_var.merge(  ftr_09_z, how = \"inner\", on = \"ref_hash\")\n",
    "ftr_10_z = pd.read_csv( loc_ftr + \"\\\\hr_f_auc_21_23.csv\")   ; Z_var = Z_var.merge(  ftr_10_z, how = \"inner\", on = \"ref_hash\")\n",
    "ftr_11_z = pd.read_csv( loc_ftr + \"\\\\cant_ins_21_23.csv\")   ; Z_var = Z_var.merge(  ftr_11_z, how = \"inner\", on = \"ref_hash\")\n",
    "ftr_12_z = pd.read_csv( loc_ftr + \"\\\\cant_evt_21_23.csv\")   ; Z_var = Z_var.merge(  ftr_12_z, how = \"inner\", on = \"ref_hash\")\n",
    "ftr_13_z = pd.read_csv( loc_ftr + \"\\\\cant_auc_21_23.csv\")   ; Z_var = Z_var.merge(  ftr_13_z, how = \"inner\", on = \"ref_hash\")\n",
    "ftr_14_z = pd.read_csv( loc_ftr + \"\\\\ip_encod_21_23.csv\")   ; Z_var = Z_var.merge(  ftr_14_z, how = \"inner\", on = \"ref_hash\")\n",
    "ftr_15_z = pd.read_csv( loc_ftr + \"\\\\wifi_ins_21_23.csv\")   ; Z_var = Z_var.merge(  ftr_15_z, how = \"inner\", on = \"ref_hash\")\n",
    "ftr_16_z = pd.read_csv( loc_ftr + \"\\\\main_app_21_23.csv\")   ; Z_var = Z_var.merge(  ftr_16_z, how = \"inner\", on = \"ref_hash\")\n",
    "ftr_17_z = pd.read_csv( loc_ftr + \"\\\\cins_imp_21_23.csv\")   ; Z_var = Z_var.merge(  ftr_17_z, how = \"inner\", on = \"ref_hash\")\n",
    "ftr_18_z = pd.read_csv( loc_ftr + \"\\\\type_ins_21_23.csv\")   ; Z_var = Z_var.merge(  ftr_18_z, how = \"inner\", on = \"ref_hash\")\n",
    "ftr_19_z = pd.read_csv( loc_ftr + \"\\\\ref_type_21_23.csv\")   ; Z_var = Z_var.merge(  ftr_19_z, how = \"inner\", on = \"ref_hash\")\n",
    "ftr_20_z = pd.read_csv( loc_ftr + \"\\\\cins_atr_21_23.csv\")   ; Z_var = Z_var.merge(  ftr_20_z, how = \"inner\", on = \"ref_hash\")\n",
    "ftr_21_z = pd.read_csv( loc_ftr + \"\\\\frst_auc_21_23.csv\")   ; Z_var = Z_var.merge(  ftr_21_z, how = \"inner\", on = \"ref_hash\")\n",
    "ftr_22_z = pd.read_csv( loc_ftr + \"\\\\frst_evt_21_23.csv\")   ; Z_var = Z_var.merge(  ftr_22_z, how = \"inner\", on = \"ref_hash\")\n",
    "ftr_23_z = pd.read_csv( loc_ftr + \"\\\\frst_evt_21_23.csv\")   ; Z_var = Z_var.merge(  ftr_23_z, how = \"inner\", on = \"ref_hash\")\n",
    "ftr_24_z = pd.read_csv( loc_ftr + \"\\\\cant_clk_21_23.csv\")   ; Z_var = Z_var.merge(  ftr_24_z, how = \"inner\", on = \"ref_hash\")\n",
    "ftr_25_z = pd.read_csv( loc_ftr + \"\\\\dev_lang_21_23.csv\")   ; Z_var = Z_var.merge(  ftr_25_z, how = \"inner\", on = \"ref_hash\")\n",
    "ftr_26_z = pd.read_csv( loc_ftr + \"\\\\dev_modl_21_23.csv\")   ; Z_var = Z_var.merge(  ftr_26_z, how = \"inner\", on = \"ref_hash\")\n",
    "ftr_27_z = pd.read_csv( loc_ftr + \"\\\\ins_dsua_21_23.csv\")   ; Z_var = Z_var.merge(  ftr_27_z, how = \"inner\", on = \"ref_hash\")\n",
    "ftr_28_z = pd.read_csv( loc_ftr + \"\\\\srce_auc_21_23.csv\")   ; Z_var = Z_var.merge(  ftr_28_z, how = \"inner\", on = \"ref_hash\")\n",
    "ftr_29_z = pd.read_csv( loc_ftr + \"\\\\rh_encod_21_23.csv\")   ; Z_var = Z_var.merge(  ftr_29_z, how = \"inner\", on = \"ref_hash\")\n",
    "ftr_30_z = pd.read_csv( loc_ftr + \"\\\\atbt_ins_21_23.csv\")   ; Z_var = Z_var.merge(  ftr_30_z, how = \"inner\", on = \"ref_hash\")\n",
    "ftr_31_z = pd.read_csv( loc_ftr + \"\\\\kind_evt_21_23.csv\")   ; Z_var = Z_var.merge(  ftr_31_z, how = \"inner\", on = \"ref_hash\")\n",
    "ftr_32_z = pd.read_csv( loc_ftr + \"\\\\cevt_atr_21_23.csv\")   ; Z_var = Z_var.merge(  ftr_32_z, how = \"inner\", on = \"ref_hash\")\n",
    "ftr_33_z = pd.read_csv( loc_ftr + \"\\\\mapp_evt_21_23.csv\")   ; Z_var = Z_var.merge(  ftr_33_z, how = \"inner\", on = \"ref_hash\")\n",
    "ftr_34_z = pd.read_csv( loc_ftr + \"\\\\wifi_evt_21_23.csv\")   ; Z_var = Z_var.merge(  ftr_34_z, how = \"inner\", on = \"ref_hash\")\n",
    "ftr_35_z = pd.read_csv( loc_ftr + \"\\\\frst_ins_21_23.csv\")   ; Z_var = Z_var.merge(  ftr_35_z, how = \"inner\", on = \"ref_hash\")\n",
    "ftr_36_z = pd.read_csv( loc_ftr + \"\\\\frst_clk_21_23.csv\")   ; Z_var = Z_var.merge(  ftr_36_z, how = \"inner\", on = \"ref_hash\")\n",
    "ftr_37_z = pd.read_csv( loc_ftr + \"\\\\last_ins_21_23.csv\")   ; Z_var = Z_var.merge(  ftr_37_z, how = \"inner\", on = \"ref_hash\")\n",
    "ftr_38_z = pd.read_csv( loc_ftr + \"\\\\last_auc_21_23.csv\")   ; Z_var = Z_var.merge(  ftr_38_z, how = \"inner\", on = \"ref_hash\")\n",
    "ftr_39_z = pd.read_csv( loc_ftr + \"\\\\last_evt_21_23.csv\")   ; Z_var = Z_var.merge(  ftr_39_z, how = \"inner\", on = \"ref_hash\")\n",
    "ftr_40_z = pd.read_csv( loc_ftr + \"\\\\last_clk_21_23.csv\")   ; Z_var = Z_var.merge(  ftr_40_z, how = \"inner\", on = \"ref_hash\")\n",
    "ftr_41_z = pd.read_csv( loc_ftr + \"\\\\mt_1_ins_21_23.csv\")   ; Z_var = Z_var.merge(  ftr_41_z, how = \"inner\", on = \"ref_hash\")\n",
    "ftr_42_z = pd.read_csv( loc_ftr + \"\\\\ins_night_21_23.csv\")  ; Z_var = Z_var.merge(  ftr_42_z, how = \"inner\", on = \"ref_hash\")\n",
    "ftr_43_z = pd.read_csv( loc_ftr + \"\\\\ins_morn_21_23.csv\")   ; Z_var = Z_var.merge(  ftr_43_z, how = \"inner\", on = \"ref_hash\")\n",
    "ftr_44_z = pd.read_csv( loc_ftr + \"\\\\ins_midday_21_23.csv\") ; Z_var = Z_var.merge(  ftr_44_z, how = \"inner\", on = \"ref_hash\")\n",
    "ftr_45_z = pd.read_csv( loc_ftr + \"\\\\ins_after_21_23.csv\")  ; Z_var = Z_var.merge(  ftr_45_z, how = \"inner\", on = \"ref_hash\")\n",
    "ftr_46_z = pd.read_csv( loc_ftr + \"\\\\auc_night_21_23.csv\")  ; Z_var = Z_var.merge(  ftr_46_z, how = \"inner\", on = \"ref_hash\")\n",
    "ftr_47_z = pd.read_csv( loc_ftr + \"\\\\auc_morn_21_23.csv\")   ; Z_var = Z_var.merge(  ftr_47_z, how = \"inner\", on = \"ref_hash\")\n",
    "ftr_48_z = pd.read_csv( loc_ftr + \"\\\\auc_midday_21_23.csv\") ; Z_var = Z_var.merge(  ftr_48_z, how = \"inner\", on = \"ref_hash\")\n",
    "ftr_49_z = pd.read_csv( loc_ftr + \"\\\\auc_after_21_23.csv\")  ; Z_var = Z_var.merge(  ftr_49_z, how = \"inner\", on = \"ref_hash\")\n",
    "ftr_50_z = pd.read_csv( loc_ftr + \"\\\\evt_night_21_23.csv\")  ; Z_var = Z_var.merge(  ftr_50_z, how = \"inner\", on = \"ref_hash\")\n",
    "ftr_51_z = pd.read_csv( loc_ftr + \"\\\\evt_morn_21_23.csv\")   ; Z_var = Z_var.merge(  ftr_51_z, how = \"inner\", on = \"ref_hash\")\n",
    "ftr_52_z = pd.read_csv( loc_ftr + \"\\\\evt_midday_21_23.csv\") ; Z_var = Z_var.merge(  ftr_52_z, how = \"inner\", on = \"ref_hash\")\n",
    "ftr_53_z = pd.read_csv( loc_ftr + \"\\\\evt_after_21_23.csv\")  ; Z_var = Z_var.merge(  ftr_53_z, how = \"inner\", on = \"ref_hash\")\n",
    "ftr_54_z = pd.read_csv( loc_ftr + \"\\\\auc_night_21_23.csv\")  ; Z_var = Z_var.merge(  ftr_54_z, how = \"inner\", on = \"ref_hash\")\n",
    "ftr_55_z = pd.read_csv( loc_ftr + \"\\\\auc_morn_21_23.csv\")   ; Z_var = Z_var.merge(  ftr_55_z, how = \"inner\", on = \"ref_hash\")\n",
    "ftr_56_z = pd.read_csv( loc_ftr + \"\\\\auc_midday_21_23.csv\") ; Z_var = Z_var.merge(  ftr_56_z, how = \"inner\", on = \"ref_hash\")\n",
    "ftr_57_z = pd.read_csv( loc_ftr + \"\\\\auc_after_21_23.csv\")  ; Z_var = Z_var.merge(  ftr_57_z, how = \"inner\", on = \"ref_hash\")"
   ]
  },
  {
   "cell_type": "code",
   "execution_count": 8,
   "metadata": {},
   "outputs": [],
   "source": [
    "#ftr_46_Z = pd.read_csv( loc_ftr + \"\\\\auc_ngoh_21_23.csv\" ); Z_var = Z_var.merge( ftr_46_Z, how = \"inner\", on = \"ref_hash\" )\n",
    "#ftr_47_Z = pd.read_csv( loc_ftr + \"\\\\auc_mroh_21_23.csv\" ); Z_var = Z_var.merge( ftr_47_Z, how = \"inner\", on = \"ref_hash\" )\n",
    "#ftr_48_Z = pd.read_csv( loc_ftr + \"\\\\auc_afoh_21_23.csv\" ); Z_var = Z_var.merge( ftr_48_Z, how = \"inner\", on = \"ref_hash\" )\n",
    "#ftr_49_Z = pd.read_csv( loc_ftr + \"\\\\auc_mdoh_21_23.csv\" ); Z_var = Z_var.merge( ftr_49_Z, how = \"inner\", on = \"ref_hash\" )\n",
    "#ftr_50_Z = pd.read_csv( loc_ftr + \"\\\\clk_ngoh_21_23.csv\" ); Z_var = Z_var.merge( ftr_50_Z, how = \"inner\", on = \"ref_hash\" )\n",
    "#ftr_51_Z = pd.read_csv( loc_ftr + \"\\\\clk_mroh_21_23.csv\" ); Z_var = Z_var.merge( ftr_51_Z, how = \"inner\", on = \"ref_hash\" )\n",
    "#ftr_52_Z = pd.read_csv( loc_ftr + \"\\\\clk_afoh_21_23.csv\" ); Z_var = Z_var.merge( ftr_52_Z, how = \"inner\", on = \"ref_hash\" )\n",
    "#ftr_53_Z = pd.read_csv( loc_ftr + \"\\\\clk_mdoh_21_23.csv\" ); Z_var = Z_var.merge( ftr_53_Z, how = \"inner\", on = \"ref_hash\" )\n",
    "#ftr_54_Z = pd.read_csv( loc_ftr + \"\\\\evt_ngoh_21_23.csv\" ); Z_var = Z_var.merge( ftr_54_Z, how = \"inner\", on = \"ref_hash\" )\n",
    "#ftr_55_Z = pd.read_csv( loc_ftr + \"\\\\evt_mroh_21_23.csv\" ); Z_var = Z_var.merge( ftr_55_Z, how = \"inner\", on = \"ref_hash\" )\n",
    "#ftr_56_Z = pd.read_csv( loc_ftr + \"\\\\evt_afoh_21_23.csv\" ); Z_var = Z_var.merge( ftr_56_Z, how = \"inner\", on = \"ref_hash\" )\n",
    "#ftr_57_Z = pd.read_csv( loc_ftr + \"\\\\evt_mdoh_21_23.csv\" ); Z_var = Z_var.merge( ftr_57_Z, how = \"inner\", on = \"ref_hash\" )"
   ]
  },
  {
   "cell_type": "markdown",
   "metadata": {},
   "source": [
    "# <span style=\"color:orange\">  Preparo los datos para entrenar </span>"
   ]
  },
  {
   "cell_type": "markdown",
   "metadata": {},
   "source": [
    "Con los datos 18-20 + \"21-23_sc\" entrenamos"
   ]
  },
  {
   "cell_type": "code",
   "execution_count": 9,
   "metadata": {},
   "outputs": [],
   "source": [
    "Y_var = Y_loc\n",
    "X_var = X_loc"
   ]
  },
  {
   "cell_type": "markdown",
   "metadata": {},
   "source": [
    "### Agregamos los features"
   ]
  },
  {
   "cell_type": "code",
   "execution_count": 10,
   "metadata": {},
   "outputs": [],
   "source": [
    "ftr_01_x = pd.read_csv( loc_ftr + \"\\\\sin_hour_18_20.csv\") ; X_var = X_var.merge( ftr_01_x, how = \"inner\", on = \"ref_hash\" )\n",
    "ftr_02_x = pd.read_csv( loc_ftr + \"\\\\sin_wday_18_20.csv\")  ; X_var = X_var.merge(  ftr_02_x, how = \"inner\", on = \"ref_hash\")\n",
    "ftr_03_x = pd.read_csv( loc_ftr + \"\\\\cant_imp_18_20.csv\")  ; X_var = X_var.merge(  ftr_03_x, how = \"inner\", on = \"ref_hash\")\n",
    "ftr_04_x = pd.read_csv( loc_ftr + \"\\\\cant_app_ins_18_20.csv\") ; X_var = X_var.merge(  ftr_04_x, how = \"inner\", on = \"ref_hash\")\n",
    "ftr_05_x = pd.read_csv( loc_ftr + \"\\\\app_id_18_20.csv\")    ; X_var = X_var.merge(  ftr_05_x, how = \"inner\", on = \"ref_hash\")\n",
    "ftr_06_x = pd.read_csv( loc_ftr + \"\\\\sin_hour_18_20.csv\")  ; X_var = X_var.merge(  ftr_06_x, how = \"inner\", on = \"ref_hash\")\n",
    "ftr_07_x = pd.read_csv( loc_ftr + \"\\\\hr_f_evt_18_20.csv\")  ; X_var = X_var.merge(  ftr_07_x, how = \"inner\", on = \"ref_hash\")\n",
    "ftr_08_x = pd.read_csv( loc_ftr + \"\\\\main_ihr_18_20.csv\")  ; X_var = X_var.merge(  ftr_08_x, how = \"inner\", on = \"ref_hash\")\n",
    "ftr_09_x = pd.read_csv( loc_ftr + \"\\\\main_ahr_18_20.csv\")  ; X_var = X_var.merge(  ftr_09_x, how = \"inner\", on = \"ref_hash\")\n",
    "ftr_10_x = pd.read_csv( loc_ftr + \"\\\\hr_f_auc_18_20.csv\")  ; X_var = X_var.merge(  ftr_10_x, how = \"inner\", on = \"ref_hash\")\n",
    "ftr_11_x = pd.read_csv( loc_ftr + \"\\\\cant_ins_18_20.csv\")  ; X_var = X_var.merge(  ftr_11_x, how = \"inner\", on = \"ref_hash\")\n",
    "ftr_12_x = pd.read_csv( loc_ftr + \"\\\\cant_evt_18_20.csv\")  ; X_var = X_var.merge(  ftr_12_x, how = \"inner\", on = \"ref_hash\")\n",
    "ftr_13_x = pd.read_csv( loc_ftr + \"\\\\cant_auc_18_20.csv\")  ; X_var = X_var.merge(  ftr_13_x, how = \"inner\", on = \"ref_hash\")\n",
    "ftr_14_x = pd.read_csv( loc_ftr + \"\\\\ip_encod_18_20.csv\")  ; X_var = X_var.merge(  ftr_14_x, how = \"inner\", on = \"ref_hash\")\n",
    "ftr_15_x = pd.read_csv( loc_ftr + \"\\\\wifi_ins_18_20.csv\")  ; X_var = X_var.merge(  ftr_15_x, how = \"inner\", on = \"ref_hash\")\n",
    "ftr_16_x = pd.read_csv( loc_ftr + \"\\\\main_app_18_20.csv\")  ; X_var = X_var.merge(  ftr_16_x, how = \"inner\", on = \"ref_hash\")\n",
    "ftr_17_x = pd.read_csv( loc_ftr + \"\\\\cins_imp_18_20.csv\")  ; X_var = X_var.merge(  ftr_17_x, how = \"inner\", on = \"ref_hash\")\n",
    "ftr_18_x = pd.read_csv( loc_ftr + \"\\\\type_ins_18_20.csv\")  ; X_var = X_var.merge(  ftr_18_x, how = \"inner\", on = \"ref_hash\")\n",
    "ftr_19_x = pd.read_csv( loc_ftr + \"\\\\ref_type_18_20.csv\")  ; X_var = X_var.merge(  ftr_19_x, how = \"inner\", on = \"ref_hash\")\n",
    "ftr_20_x = pd.read_csv( loc_ftr + \"\\\\cins_atr_18_20.csv\")  ; X_var = X_var.merge(  ftr_20_x, how = \"inner\", on = \"ref_hash\")\n",
    "ftr_21_x = pd.read_csv( loc_ftr + \"\\\\frst_auc_18_20.csv\")  ; X_var = X_var.merge(  ftr_21_x, how = \"inner\", on = \"ref_hash\")\n",
    "ftr_22_x = pd.read_csv( loc_ftr + \"\\\\frst_evt_18_20.csv\")  ; X_var = X_var.merge(  ftr_22_x, how = \"inner\", on = \"ref_hash\")\n",
    "ftr_23_x = pd.read_csv( loc_ftr + \"\\\\frst_evt_18_20.csv\")  ; X_var = X_var.merge(  ftr_23_x, how = \"inner\", on = \"ref_hash\")\n",
    "ftr_24_x = pd.read_csv( loc_ftr + \"\\\\cant_clk_18_20.csv\")  ; X_var = X_var.merge(  ftr_24_x, how = \"inner\", on = \"ref_hash\")\n",
    "ftr_25_x = pd.read_csv( loc_ftr + \"\\\\dev_lang_18_20.csv\")  ; X_var = X_var.merge(  ftr_25_x, how = \"inner\", on = \"ref_hash\")\n",
    "ftr_26_x = pd.read_csv( loc_ftr + \"\\\\dev_modl_18_20.csv\")  ; X_var = X_var.merge(  ftr_26_x, how = \"inner\", on = \"ref_hash\")\n",
    "ftr_27_x = pd.read_csv( loc_ftr + \"\\\\ins_dsua_18_20.csv\")  ; X_var = X_var.merge(  ftr_27_x, how = \"inner\", on = \"ref_hash\")\n",
    "ftr_28_x = pd.read_csv( loc_ftr + \"\\\\srce_auc_18_20.csv\")  ; X_var = X_var.merge(  ftr_28_x, how = \"inner\", on = \"ref_hash\")\n",
    "ftr_29_x = pd.read_csv( loc_ftr + \"\\\\rh_encod_18_20.csv\")  ; X_var = X_var.merge(  ftr_29_x, how = \"inner\", on = \"ref_hash\")\n",
    "ftr_30_x = pd.read_csv( loc_ftr + \"\\\\atbt_ins_18_20.csv\")  ; X_var = X_var.merge(  ftr_30_x, how = \"inner\", on = \"ref_hash\")\n",
    "ftr_31_x = pd.read_csv( loc_ftr + \"\\\\kind_evt_18_20.csv\")  ; X_var = X_var.merge(  ftr_31_x, how = \"inner\", on = \"ref_hash\")\n",
    "ftr_32_x = pd.read_csv( loc_ftr + \"\\\\cevt_atr_18_20.csv\")  ; X_var = X_var.merge(  ftr_32_x, how = \"inner\", on = \"ref_hash\")\n",
    "ftr_33_x = pd.read_csv( loc_ftr + \"\\\\mapp_evt_18_20.csv\")  ; X_var = X_var.merge(  ftr_33_x, how = \"inner\", on = \"ref_hash\")\n",
    "ftr_34_x = pd.read_csv( loc_ftr + \"\\\\wifi_evt_18_20.csv\")  ; X_var = X_var.merge(  ftr_34_x, how = \"inner\", on = \"ref_hash\")\n",
    "ftr_35_x = pd.read_csv( loc_ftr + \"\\\\frst_ins_18_20.csv\")  ; X_var = X_var.merge(  ftr_35_x, how = \"inner\", on = \"ref_hash\")\n",
    "ftr_36_x = pd.read_csv( loc_ftr + \"\\\\frst_clk_18_20.csv\")  ; X_var = X_var.merge(  ftr_36_x, how = \"inner\", on = \"ref_hash\")\n",
    "ftr_37_x = pd.read_csv( loc_ftr + \"\\\\last_ins_18_20.csv\")  ; X_var = X_var.merge(  ftr_37_x, how = \"inner\", on = \"ref_hash\")\n",
    "ftr_38_x = pd.read_csv( loc_ftr + \"\\\\last_auc_18_20.csv\")  ; X_var = X_var.merge(  ftr_38_x, how = \"inner\", on = \"ref_hash\")\n",
    "ftr_39_x = pd.read_csv( loc_ftr + \"\\\\last_evt_18_20.csv\")  ; X_var = X_var.merge(  ftr_39_x, how = \"inner\", on = \"ref_hash\")\n",
    "ftr_40_x = pd.read_csv( loc_ftr + \"\\\\last_clk_18_20.csv\")  ; X_var = X_var.merge(  ftr_40_x, how = \"inner\", on = \"ref_hash\")\n",
    "ftr_41_x = pd.read_csv( loc_ftr + \"\\\\mt_1_ins_18_20.csv\")  ; X_var = X_var.merge(  ftr_41_x, how = \"inner\", on = \"ref_hash\")\n",
    "ftr_42_x = pd.read_csv( loc_ftr + \"\\\\ins_night_18_20.csv\") ; X_var = X_var.merge(  ftr_42_x, how = \"inner\", on = \"ref_hash\")\n",
    "ftr_43_x = pd.read_csv( loc_ftr + \"\\\\ins_morn_18_20.csv\")  ; X_var = X_var.merge(  ftr_43_x, how = \"inner\", on = \"ref_hash\")\n",
    "ftr_44_x = pd.read_csv( loc_ftr + \"\\\\ins_midday_18_20.csv\") ; X_var = X_var.merge(  ftr_44_x, how = \"inner\", on = \"ref_hash\")\n",
    "ftr_45_x = pd.read_csv( loc_ftr + \"\\\\ins_after_18_20.csv\") ; X_var = X_var.merge(  ftr_45_x, how = \"inner\", on = \"ref_hash\")\n",
    "ftr_46_x = pd.read_csv( loc_ftr + \"\\\\auc_night_18_20.csv\") ; X_var = X_var.merge(  ftr_46_x, how = \"inner\", on = \"ref_hash\")\n",
    "ftr_47_x = pd.read_csv( loc_ftr + \"\\\\auc_morn_18_20.csv\")  ; X_var = X_var.merge(  ftr_47_x, how = \"inner\", on = \"ref_hash\")\n",
    "ftr_48_x = pd.read_csv( loc_ftr + \"\\\\auc_midday_18_20.csv\") ; X_var = X_var.merge(  ftr_48_x, how = \"inner\", on = \"ref_hash\")\n",
    "ftr_49_x = pd.read_csv( loc_ftr + \"\\\\auc_after_18_20.csv\") ; X_var = X_var.merge(  ftr_49_x, how = \"inner\", on = \"ref_hash\")\n",
    "ftr_50_x = pd.read_csv( loc_ftr + \"\\\\evt_night_18_20.csv\") ; X_var = X_var.merge(  ftr_50_x, how = \"inner\", on = \"ref_hash\")\n",
    "ftr_51_x = pd.read_csv( loc_ftr + \"\\\\evt_morn_18_20.csv\")  ; X_var = X_var.merge(  ftr_51_x, how = \"inner\", on = \"ref_hash\")\n",
    "ftr_52_x = pd.read_csv( loc_ftr + \"\\\\evt_midday_18_20.csv\") ; X_var = X_var.merge(  ftr_52_x, how = \"inner\", on = \"ref_hash\")\n",
    "ftr_53_x = pd.read_csv( loc_ftr + \"\\\\evt_after_18_20.csv\") ; X_var = X_var.merge(  ftr_53_x, how = \"inner\", on = \"ref_hash\")\n",
    "ftr_54_x = pd.read_csv( loc_ftr + \"\\\\auc_night_18_20.csv\") ; X_var = X_var.merge(  ftr_54_x, how = \"inner\", on = \"ref_hash\")\n",
    "ftr_55_x = pd.read_csv( loc_ftr + \"\\\\auc_morn_18_20.csv\")  ; X_var = X_var.merge(  ftr_55_x, how = \"inner\", on = \"ref_hash\")\n",
    "ftr_56_x = pd.read_csv( loc_ftr + \"\\\\auc_midday_18_20.csv\") ; X_var = X_var.merge(  ftr_56_x, how = \"inner\", on = \"ref_hash\")\n",
    "ftr_57_x = pd.read_csv( loc_ftr + \"\\\\auc_after_18_20.csv\") ; X_var = X_var.merge(  ftr_57_x, how = \"inner\", on = \"ref_hash\")\n",
    "\n"
   ]
  },
  {
   "cell_type": "markdown",
   "metadata": {},
   "source": [
    "## Reacomodamos los SC para que queden junto a su ref_hash correspondiente"
   ]
  },
  {
   "cell_type": "code",
   "execution_count": 11,
   "metadata": {},
   "outputs": [],
   "source": [
    "X_var = X_var.merge( Y_var, how = \"inner\", on = \"ref_hash\" ); Y_var = X_var[ [\"21_23_sc\"] ]\n",
    "Z_var = Z_var.merge( W_var, how = \"inner\", on = \"ref_hash\" ); W_var = Z_var[ [\"24_26_sc\"] ]"
   ]
  },
  {
   "cell_type": "markdown",
   "metadata": {},
   "source": [
    "## Dropeamos algunos valores maximos (No convirtieron)\n",
    "\n",
    "Los \"loc\" es el DataFrame de entrenamiento recortado con 200 valores maximos (No conversion) y 3848 valores que convirtieron"
   ]
  },
  {
   "cell_type": "code",
   "execution_count": 12,
   "metadata": {},
   "outputs": [],
   "source": [
    "X_var = X_var.drop( [\"ref_hash\", \"21_23_sc\"], axis = 1 )\n",
    "Z_var = Z_var.drop( [\"ref_hash\", \"24_26_sc\"], axis = 1 )"
   ]
  },
  {
   "cell_type": "markdown",
   "metadata": {},
   "source": [
    "# Prediccion con <span style=\"color:green\"> *RandomForest*</span> "
   ]
  },
  {
   "cell_type": "code",
   "execution_count": 13,
   "metadata": {},
   "outputs": [],
   "source": [
    "prm = {\"max_depth\":4, \"random_state\":50, \"n_estimators\":250, \"oob_score\":True, \"criterion\":'mse'}\n",
    "\n",
    "mdl = RandomForestRegressor( **prm )"
   ]
  },
  {
   "cell_type": "code",
   "execution_count": 26,
   "metadata": {},
   "outputs": [],
   "source": [
    "X_var = X_var.drop(['main_hour_y','hour_frt_auc','hour_frt_evt'],axis = 1 )\n",
    "Z_var = Z_var.drop(['main_hour_y','hour_frt_auc','hour_frt_evt'],axis = 1 )"
   ]
  },
  {
   "cell_type": "code",
   "execution_count": 27,
   "metadata": {},
   "outputs": [],
   "source": [
    "fit = mdl.fit( X_var.fillna(0),Y_var )"
   ]
  },
  {
   "cell_type": "code",
   "execution_count": 28,
   "metadata": {},
   "outputs": [],
   "source": [
    "prd = mdl.predict( Z_var.fillna(0) )"
   ]
  },
  {
   "cell_type": "markdown",
   "metadata": {},
   "source": [
    "## Calculamos el RMSE"
   ]
  },
  {
   "cell_type": "code",
   "execution_count": 29,
   "metadata": {},
   "outputs": [
    {
     "name": "stdout",
     "output_type": "stream",
     "text": [
      "RMSE: 83489.281232\n"
     ]
    }
   ],
   "source": [
    "rmse = np.sqrt( mean_squared_error(W_var, prd) )\n",
    "print(\"RMSE: %f\" % (rmse) )"
   ]
  },
  {
   "cell_type": "code",
   "execution_count": null,
   "metadata": {},
   "outputs": [],
   "source": [
    "record_000 = 77721.181949 #max depth = 2, n_stimators = 70, learning_rate = 0.080, num_parallel_tree = 35\n",
    "record_400 = 83482.802933 #max depth = 3, n_stimators = 70, learning_rate = 0.101, num_parallel_tree = 20"
   ]
  },
  {
   "cell_type": "markdown",
   "metadata": {},
   "source": [
    "### Probamos features"
   ]
  },
  {
   "cell_type": "code",
   "execution_count": 3398,
   "metadata": {},
   "outputs": [
    {
     "name": "stdout",
     "output_type": "stream",
     "text": [
      "Thresh=0.106, n=6, RMSE:83482.802933, model=0\n",
      "Thresh=0.114, n=5, RMSE:83470.642179, model=1\n",
      "Thresh=0.116, n=4, RMSE:83388.845268, model=2\n",
      "Thresh=0.154, n=3, RMSE:83445.703339, model=3\n",
      "Thresh=0.238, n=2, RMSE:83634.950897, model=4\n",
      "Thresh=0.272, n=1, RMSE:83832.598568, model=5\n"
     ]
    }
   ],
   "source": [
    "from numpy import sort\n",
    "from sklearn.feature_selection import SelectFromModel\n",
    "\n",
    "thresholds = sort(fit.feature_importances_)\n",
    "i = 0; pred = []; mod_sel = [];\n",
    "for thresh in thresholds:\n",
    "    # select features using threshold\n",
    "    selection = SelectFromModel(fit, threshold=thresh, prefit=True)\n",
    "    select_X = selection.transform(X_var)\n",
    "    # train model\n",
    "    selection_model = xgb.XGBRegressor( **prm )\n",
    "    mod_sel.append( selection_model.fit(select_X, Y_var) )\n",
    "    # eval model\n",
    "    select_Z = selection.transform(Z_var)\n",
    "    pred.append( selection_model.predict(select_Z) )\n",
    "    rmse = np.sqrt( mean_squared_error(pred[i], W_var) )\n",
    "    print(\"Thresh=%.3f, n=%d, RMSE:%f, model=%d\" % (thresh, select_X.shape[1], rmse, i) )\n",
    "    i = i + 1\n"
   ]
  },
  {
   "cell_type": "markdown",
   "metadata": {},
   "source": [
    "## Tunning de HyperParameters"
   ]
  },
  {
   "cell_type": "code",
   "execution_count": 1964,
   "metadata": {},
   "outputs": [],
   "source": [
    "from sklearn.model_selection import RandomizedSearchCV"
   ]
  },
  {
   "cell_type": "code",
   "execution_count": 1965,
   "metadata": {},
   "outputs": [],
   "source": [
    "from sklearn.metrics import mean_squared_error, make_scorer\n",
    "#greater_is_better = False -> Transformar score_function en loss_function\n",
    "mse = make_scorer( mean_squared_error, greater_is_better = False )"
   ]
  },
  {
   "cell_type": "code",
   "execution_count": null,
   "metadata": {},
   "outputs": [],
   "source": [
    "reg = xgb.XGBRegressor()\n",
    "\n",
    "tune_prms = {'max_depth': [1,2,3,4],\n",
    "             'learning_rate': [0.01, 0.05, 0.1,0.15],\n",
    "             'n_estimators': [80,120,200,250]\n",
    "            }\n",
    "\n",
    "grid = RandomizedSearchCV( estimator = mdl, param_distributions = tune_prms, cv = 10, n_jobs = 1, scoring = mse, n_iter = 20 ) \n",
    "grid.fit( X, Y )    "
   ]
  },
  {
   "cell_type": "code",
   "execution_count": null,
   "metadata": {},
   "outputs": [],
   "source": [
    "# Results from Grid Search\n",
    "print(\"==========================================================\")\n",
    "print(\"||            Results from Grid Search                  ||\")\n",
    "print(\"==========================================================\")    \n",
    "    \n",
    "print(\"\\n The best estimator across ALL searched params:\\n\", grid.best_estimator_)\n",
    "print(\"\\n The best score across ALL searched params:\\n\", grid.best_score_)\n",
    "print(\"\\n The best parameters across ALL searched params:\\n\", grid.best_params_)"
   ]
  },
  {
   "cell_type": "markdown",
   "metadata": {},
   "source": [
    "## Graficamos el Arbol"
   ]
  },
  {
   "cell_type": "code",
   "execution_count": null,
   "metadata": {},
   "outputs": [],
   "source": [
    "import matplotlib.pyplot as plt\n",
    "\n",
    "import os; os.environ[\"PATH\"] += os.pathsep + 'C:/Program Files (x86)/Graphviz2.38/bin/'\n",
    "\n",
    "dtrn = xgb.DMatrix(X_var,Y_var)\n",
    "\n",
    "xg_reg = xgb.train(params = prm, dtrain = dtrn, num_boost_round=12)\n",
    "\n",
    "xgb.plot_tree(xg_reg)\n",
    "plt.rcParams['figure.figsize'] = [10, 10]\n",
    "plt.show()"
   ]
  },
  {
   "cell_type": "markdown",
   "metadata": {},
   "source": [
    "## Ploteamos el Feature Importance"
   ]
  },
  {
   "cell_type": "code",
   "execution_count": 25,
   "metadata": {},
   "outputs": [
    {
     "name": "stdout",
     "output_type": "stream",
     "text": [
      "Feature ranking:\n",
      "1. feature 57 (0.149664)\n"
     ]
    },
    {
     "data": {
      "image/png": "[encoded data removed]",
      "text/plain": [
       "<Figure size 432x288 with 1 Axes>"
      ]
     },
     "metadata": {
      "needs_background": "light"
     },
     "output_type": "display_data"
    }
   ],
   "source": [
    "import matplotlib.pyplot as plt\n",
    "forest = mdl\n",
    "\n",
    "importances = forest.feature_importances_\n",
    "std = np.std([tree.feature_importances_ for tree in forest.estimators_],\n",
    "             axis=0)\n",
    "indices = np.argsort(importances)[::-1]\n",
    "\n",
    "# Print the feature ranking\n",
    "print(\"Feature ranking:\")\n",
    "\n",
    "for f in range(X.shape[1]):\n",
    "    print(\"%d. feature %d (%f)\" % (f + 1, indices[f], importances[indices[f]]))\n",
    "\n",
    "# Plot the feature importances of the forest\n",
    "plt.figure()\n",
    "plt.title(\"Feature importances\")\n",
    "plt.bar(range(X.shape[1]), importances[indices],\n",
    "       color=\"r\", yerr=std[indices], align=\"center\")\n",
    "plt.xticks(range(X.shape[1]), indices)\n",
    "plt.xlim([-1, X.shape[1]])\n",
    "plt.show()"
   ]
  }
 ],
 "metadata": {
  "kernelspec": {
   "display_name": "Python 3",
   "language": "python",
   "name": "python3"
  },
  "language_info": {
   "codemirror_mode": {
    "name": "ipython",
    "version": 3
   },
   "file_extension": ".py",
   "mimetype": "text/x-python",
   "name": "python",
   "nbconvert_exporter": "python",
   "pygments_lexer": "ipython3",
   "version": "3.7.3"
  }
 },
 "nbformat": 4,
 "nbformat_minor": 2
}
