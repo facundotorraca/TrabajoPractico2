{
 "cells": [
  {
   "cell_type": "markdown",
   "metadata": {},
   "source": [
    "## <span style=\"color:red\"> **Promedio del TimeToClick es un anuncio** </span> "
   ]
  },
  {
   "cell_type": "code",
   "execution_count": null,
   "metadata": {},
   "outputs": [],
   "source": [
    "ttc_mean_18_20 = rh_18_20.copy()\n",
    "ttc_mean_21_23 = rh_21_23.copy()\n",
    "\n",
    "ttc_by_rh_18_20 = clk_18_20[ [\"ref_hash\", \"timeToClick\"] ].groupby( \"ref_hash\" ).agg( \"mean\" ); ttc_by_rh_18_20 = ttc_by_rh_18_20.reset_index()\n",
    "ttc_by_rh_21_23 = clk_21_23[ [\"ref_hash\", \"timeToClick\"] ].groupby( \"ref_hash\" ).agg( \"mean\" ); ttc_by_rh_21_23 = ttc_by_rh_21_23.reset_index()\n",
    "\n",
    "ttc_mean_18_20 = ttc_mean_18_20.merge( ttc_by_rh_18_20, how = \"left\", on = \"ref_hash\" )\n",
    "ttc_mean_21_23 = ttc_mean_21_23.merge( ttc_by_rh_21_23, how = \"left\", on = \"ref_hash\" )"
   ]
  },
  {
   "cell_type": "markdown",
   "metadata": {},
   "source": [
    "Casi todos los valores nulos!\n",
    "\n"
   ]
  },
  {
   "cell_type": "markdown",
   "metadata": {},
   "source": [
    "## <span style=\"color:red\"> **Modelo del dispositivo** </span>\n",
    "\n",
    "#### <span style=\"color:orange\"> **Mean Encoding** </span> (Usando el ST para el promedio)"
   ]
  },
  {
   "cell_type": "code",
   "execution_count": null,
   "metadata": {},
   "outputs": [],
   "source": [
    "#Me quedo con los disppsitivos que coinciden en ambas ventanas (de manera que pueda obtener su SC)\n",
    "rh_18_20_21_23_dm = rh_18_20.loc[ rh_18_20[\"ref_hash\"].isin( rh_21_23[\"ref_hash\"] ) ]\n",
    "\n",
    "#Le agregamos el valor de \"ST\" a los dispositivos\n",
    "rh_18_20_21_23_dm = rh_18_20_21_23_dm.merge( auc_21_23_first_auc[ [\"ref_hash\",\"_st\"] ], how = \"left\", on = \"ref_hash\" )\n",
    "\n",
    "#Obtenermos el modelo de dispositivo utilizado por cada RefHash \n",
    "dm_18_20_21_23_evt = evt_18_20.loc[ evt_18_20[\"ref_hash\"].isin( rh_18_20_21_23_dm[\"ref_hash\"] ), [\"ref_hash\",\"device_model\"] ]; \n",
    "dm_18_20_21_23_evt.rename( columns = {\"device_model\":\"dev_mod_evt\"}, inplace = True )\n",
    "\n",
    "dm_not_in_evt = dm_18_20_21_23_evt.loc[ dm_18_20_21_23_evt[\"dev_mod_evt\"].isnull() ][\"ref_hash\"]\n",
    "\n",
    "#Obtenemos los que no se pudieron del dataset de evetnos del data set de installs\n",
    "dm_18_20_21_23_ins = ins_18_20.loc[ ins_18_20[\"ref_hash\"].isin( dm_not_in_evt ), [\"ref_hash\",\"device_model\"] ]; \n",
    "dm_18_20_21_23_ins.rename( columns = {\"device_model\":\"dev_mod_ins\"}, inplace = True )\n",
    "\n",
    "#Mergemos los dispositivos con los ref_hash\n",
    "rh_18_20_21_23_dm = rh_18_20_21_23_dm.merge( dm_18_20_21_23_evt, how = \"left\", on = \"ref_hash\" )\n",
    "rh_18_20_21_23_dm = rh_18_20_21_23_dm.merge( dm_18_20_21_23_ins, how = \"left\", on = \"ref_hash\" )\n",
    "\n",
    "#Ponemos todos los dispositivos en una sola columna\n",
    "rh_18_20_21_23_dm[\"dev_mod\"] = np.where( rh_18_20_21_23_dm['dev_mod_evt'].isnull(), rh_18_20_21_23_dm['dev_mod_ins'], rh_18_20_21_23_dm['dev_mod_evt']); \n",
    "del( rh_18_20_21_23_dm[\"dev_mod_evt\"] )\n",
    "del( rh_18_20_21_23_dm[\"dev_mod_ins\"] )\n",
    "\n",
    "#Dropeamos los duplicados\n",
    "rh_18_20_21_23_dm = rh_18_20_21_23_dm.sort_values( [\"ref_hash\",\"dev_mod\"] ).drop_duplicates( subset = [\"ref_hash\"], keep = \"first\" )"
   ]
  },
  {
   "cell_type": "markdown",
   "metadata": {},
   "source": [
    "Sobran menos de 60000 valores no nulos de un total de 230673"
   ]
  },
  {
   "cell_type": "markdown",
   "metadata": {},
   "source": [
    "## <span style=\"color:red\"> **Lenfuage del dispositivo** </span>\n",
    "\n",
    "#### <span style=\"color:orange\"> **Mean Encoding** </span> (Usando el ST para el promedio)"
   ]
  },
  {
   "cell_type": "code",
   "execution_count": null,
   "metadata": {},
   "outputs": [],
   "source": [
    "#Me quedo con los disppsitivos que coinciden en ambas ventanas (de manera que pueda obtener su SC)\n",
    "rh_18_20_21_23_dl= rh_18_20.loc[ rh_18_20[\"ref_hash\"].isin( rh_21_23[\"ref_hash\"] ) ]\n",
    "\n",
    "#Le agregamos el valor de \"ST\" a los dispositivos\n",
    "rh_18_20_21_23_dl = rh_18_20_21_23_dl.merge( auc_21_23_first_auc[ [\"ref_hash\",\"_st\"] ], how = \"left\", on = \"ref_hash\" )\n",
    "\n",
    "#Obtenermos el modelo de dispositivo utilizado por cada RefHash \n",
    "dl_18_20_21_23_evt = evt_18_20.loc[ evt_18_20[\"ref_hash\"].isin( rh_18_20_21_23_dm[\"ref_hash\"] ), [\"ref_hash\",\"device_language\"] ]; \n",
    "dl_18_20_21_23_evt.rename( columns = {\"device_language\":\"dev_lan_evt\"}, inplace = True )\n",
    "\n",
    "dl_not_in_evt = dl_18_20_21_23_evt.loc[ dl_18_20_21_23_evt[\"dev_lan_evt\"].isnull() ][\"ref_hash\"]\n",
    "\n",
    "#Obtenemos los que no se pudieron del dataset de evetnos del data set de installs\n",
    "dl_18_20_21_23_ins = ins_18_20.loc[ ins_18_20[\"ref_hash\"].isin( dm_not_in_evt ), [\"ref_hash\",\"device_language\"] ]; \n",
    "dl_18_20_21_23_ins.rename( columns = {\"device_language\":\"dev_lan_ins\"}, inplace = True )\n",
    "\n",
    "#Mergemos los dispositivos con los ref_hash\n",
    "rh_18_20_21_23_dl = rh_18_20_21_23_dl.merge( dl_18_20_21_23_evt, how = \"left\", on = \"ref_hash\" )\n",
    "rh_18_20_21_23_dl = rh_18_20_21_23_dl.merge( dl_18_20_21_23_ins, how = \"left\", on = \"ref_hash\" )\n",
    "\n",
    "#Ponemos todos los dispositivos en una sola columna\n",
    "rh_18_20_21_23_dl[\"dev_lan\"] = np.where( rh_18_20_21_23_dl['dev_lan_evt'].isnull(), rh_18_20_21_23_dl['dev_lan_ins'], rh_18_20_21_23_dl['dev_lan_evt']); \n",
    "del( rh_18_20_21_23_dl[\"dev_lan_evt\"] )\n",
    "del( rh_18_20_21_23_dl[\"dev_lan_ins\"] )\n",
    "\n",
    "#Dropeamos los duplicados\n",
    "rh_18_20_21_23_dm = rh_18_20_21_23_dm.sort_values( [\"ref_hash\",\"dev_mod\"] ).drop_duplicates( subset = [\"ref_hash\"], keep = \"first\" )"
   ]
  },
  {
   "cell_type": "markdown",
   "metadata": {},
   "source": [
    "\n",
    "Sobran menos de 60000 valores no nulos de un total de 230673"
   ]
  },
  {
   "cell_type": "markdown",
   "metadata": {},
   "source": [
    "## <span style=\"color:red\"> **Cantidad de eventos atribuidos por dispositivo** </span> "
   ]
  },
  {
   "cell_type": "code",
   "execution_count": null,
   "metadata": {},
   "outputs": [],
   "source": [
    "cevt_atr_18_20 = rh_18_20.copy()\n",
    "cevt_atr_21_23 = rh_21_23.copy()\n",
    "\n",
    "cant_atr_evt_18_20 = evt_18_20[[\"ref_hash\", \"attributed\"]]; cant_atr_evt_18_20[\"attributed\"] = cant_atr_evt_18_20[\"attributed\"].apply( lambda x: 1 if x else 0 );\n",
    "cant_atr_evt_21_23 = evt_21_23[[\"ref_hash\", \"attributed\"]]; cant_atr_evt_21_23[\"attributed\"] = cant_atr_evt_21_23[\"attributed\"].apply( lambda x: 1 if x else 0 );\n",
    "\n",
    "cant_atr_evt_18_20 = cant_atr_evt_18_20.groupby( \"ref_hash\" ).agg( \"sum\" )\n",
    "cant_atr_evt_21_23 = cant_atr_evt_21_23.groupby( \"ref_hash\" ).agg( \"sum\" )\n",
    "\n",
    "cevt_atr_18_20 = cevt_atr_18_20.merge( cant_atr_evt_18_20, how = \"left\", on = \"ref_hash\" ).fillna( 0 )\n",
    "cevt_atr_21_23 = cevt_atr_21_23.merge( cant_atr_evt_21_23, how = \"left\", on = \"ref_hash\" ).fillna( 0 )\n",
    "\n",
    "cevt_atr_18_20.to_csv( loc_ftr + \"\\\\cevt_atr_18_20.csv\", index = False )\n",
    "cevt_atr_21_23.to_csv( loc_ftr + \"\\\\cevt_atr_21_23.csv\", index = False )"
   ]
  },
  {
   "cell_type": "markdown",
   "metadata": {},
   "source": [
    "## <span style=\"color:red\"> **Horario del primer evento en ese ventana** </span> \n",
    "\n",
    "Al agregarle la transformacion senoidal para agregarle perdiodicidad a la hora, la prediccion del algoritmo fue peor por lo que decidimos no agregarla"
   ]
  },
  {
   "cell_type": "code",
   "execution_count": null,
   "metadata": {},
   "outputs": [],
   "source": [
    "hr_f_evt_18_20 = rh_18_20.copy()\n",
    "hr_f_evt_21_23 = rh_21_23.copy()\n",
    "\n",
    "first_evt_hour_18_20 = evt_18_20[ [\"ref_hash\",\"date\"] ].sort_values( \"date\" ).drop_duplicates( subset = \"ref_hash\", keep = \"first\" )\n",
    "first_evt_hour_21_23 = evt_21_23[ [\"ref_hash\",\"date\"] ].sort_values( \"date\" ).drop_duplicates( subset = \"ref_hash\", keep = \"first\" )\n",
    "\n",
    "first_evt_hour_18_20[\"time_to_frt_evt\"] = ( pd.to_datetime( first_evt_hour_18_20[\"date\"] ) -  dt.datetime( year = 2019, month = 4, day = 18 ) ).dt.total_seconds()\n",
    "first_evt_hour_21_23[\"time_to_frt_evt\"] = ( pd.to_datetime( first_evt_hour_21_23[\"date\"] ) -  dt.datetime( year = 2019, month = 4, day = 21 ) ).dt.total_seconds()\n",
    "\n",
    "first_evt_hour_18_20[\"hour_frt_evt\"] = pd.to_datetime( first_evt_hour_18_20[\"date\"] ).dt.hour\n",
    "first_evt_hour_21_23[\"hour_frt_evt\"] = pd.to_datetime( first_evt_hour_21_23[\"date\"] ).dt.hour\n",
    "\n",
    "first_evt_hour_18_20.drop( [\"date\", \"time_to_frt_evt\"], axis = 1, inplace = True )\n",
    "first_evt_hour_21_23.drop( [\"date\", \"time_to_frt_evt\"], axis = 1, inplace = True )\n",
    "\n",
    "hr_f_evt_18_20 = hr_f_evt_18_20.merge( first_evt_hour_18_20, how = \"left\", on = \"ref_hash\" )\n",
    "hr_f_evt_21_23 = hr_f_evt_21_23.merge( first_evt_hour_21_23, how = \"left\", on = \"ref_hash\" )\n",
    "\n",
    "#hr_f_evt_18_20[\"hour_frt_evt\"] = hr_f_evt_18_20[\"hour_frt_evt\"].apply( lambda x: np.sin( (x *np.pi)/24 ) )\n",
    "#hr_f_evt_21_23[\"hour_frt_evt\"] = hr_f_evt_21_23[\"hour_frt_evt\"].apply( lambda x: np.sin( (x *np.pi)/24 ) )\n",
    "\n",
    "hr_f_evt_18_20.to_csv( loc_ftr + \"\\\\hr_f_evt_18_20.csv\", index = False )\n",
    "hr_f_evt_21_23.to_csv( loc_ftr + \"\\\\hr_f_evt_21_23.csv\", index = False )"
   ]
  },
  {
   "cell_type": "markdown",
   "metadata": {},
   "source": [
    "## <span style=\"color:red\"> **Cantidad de eventos realizados con WiFi** </span> "
   ]
  },
  {
   "cell_type": "code",
   "execution_count": null,
   "metadata": {},
   "outputs": [],
   "source": [
    "wifi_evt_18_20 = rh_18_20.copy()\n",
    "wifi_evt_21_23 = rh_21_23.copy()\n",
    "\n",
    "cant_wifi_evt_18_20 = evt_18_20[[\"ref_hash\", \"wifi\"]]; cant_wifi_evt_18_20[\"wifi\"] = cant_wifi_evt_18_20[\"wifi\"].apply( lambda x: 1 if x else 0 );\n",
    "cant_wifi_evt_21_23 = evt_21_23[[\"ref_hash\", \"wifi\"]]; cant_wifi_evt_21_23[\"wifi\"] = cant_wifi_evt_21_23[\"wifi\"].apply( lambda x: 1 if x else 0 );\n",
    "\n",
    "cant_wifi_evt_18_20 = cant_wifi_evt_18_20.groupby( \"ref_hash\" ).agg( \"sum\" )\n",
    "cant_wifi_evt_21_23 = cant_wifi_evt_21_23.groupby( \"ref_hash\" ).agg( \"sum\" )\n",
    "\n",
    "wifi_evt_18_20 = wifi_evt_18_20.merge( cant_wifi_evt_18_20, how = \"left\", on = \"ref_hash\" ).fillna( 0 )\n",
    "wifi_evt_21_23 = wifi_evt_21_23.merge( cant_wifi_evt_21_23, how = \"left\", on = \"ref_hash\" ).fillna( 0 )\n",
    "\n",
    "wifi_evt_18_20.to_csv( loc_ftr + \"\\\\wifi_evt_18_20.csv\", index = False )\n",
    "wifi_evt_21_23.to_csv( loc_ftr + \"\\\\wifi_evt_21_23.csv\", index = False )"
   ]
  },
  {
   "cell_type": "markdown",
   "metadata": {},
   "source": [
    "## <span style=\"color:red\"> **Tiempo hasta la primer instlacion en ese ventana** </span> \n",
    "\n",
    "Le asignamos cuanto tiempo, en la ventana del 18-20, tardo en realizar su primer instlacion"
   ]
  },
  {
   "cell_type": "code",
   "execution_count": null,
   "metadata": {},
   "outputs": [],
   "source": [
    "frst_ins_18_20 = rh_18_20.copy()\n",
    "frst_ins_21_23 = rh_21_23.copy()\n",
    "\n",
    "first_installs_rh_auc_18_20 = ins_18_20[ [\"ref_hash\",\"date\"] ].sort_values( \"date\" ).drop_duplicates( subset = \"ref_hash\", keep = \"first\" )\n",
    "first_installs_rh_auc_21_23 = ins_21_23[ [\"ref_hash\",\"date\"] ].sort_values( \"date\" ).drop_duplicates( subset = \"ref_hash\", keep = \"first\" )\n",
    "\n",
    "first_installs_rh_auc_18_20[\"time_to_frt_ins\"] = ( pd.to_datetime( first_installs_rh_auc_18_20[\"date\"] ) -  dt.datetime( year = 2019, month = 4, day = 18 ) ).dt.total_seconds()\n",
    "first_installs_rh_auc_21_23[\"time_to_frt_ins\"] = ( pd.to_datetime( first_installs_rh_auc_21_23[\"date\"] ) -  dt.datetime( year = 2019, month = 4, day = 21 ) ).dt.total_seconds()\n",
    "\n",
    "first_installs_rh_auc_18_20.drop( \"date\", axis = 1, inplace = True )\n",
    "first_installs_rh_auc_21_23.drop( \"date\", axis = 1, inplace = True )\n",
    "\n",
    "frst_ins_18_20 = frst_ins_18_20.merge( first_installs_rh_auc_18_20, how = \"left\", on = \"ref_hash\" )\n",
    "frst_ins_21_23 = frst_ins_21_23.merge( first_installs_rh_auc_21_23, how = \"left\", on = \"ref_hash\" )\n",
    "\n",
    "#Los que tienen NaN es que nunca convirtieron. Los marcamos con el tiempo maximo\n",
    "frst_ins_18_20.fillna( 3 * 24 * 3600, inplace = True )\n",
    "frst_ins_21_23.fillna( 3 * 24 * 3600, inplace = True )\n",
    "\n",
    "frst_ins_18_20.to_csv( loc_ftr + \"\\\\frst_ins_18_20.csv\", index = False )\n",
    "frst_ins_21_23.to_csv( loc_ftr + \"\\\\frst_ins_21_23.csv\", index = False )"
   ]
  },
  {
   "cell_type": "markdown",
   "metadata": {},
   "source": [
    "## <span style=\"color:red\"> **Tiempo hasta el primer click** </span> \n",
    "\n",
    "Le asignamos cuanto tiempo, en la ventana del 18-20, tardo en realizar su primer instlacion"
   ]
  },
  {
   "cell_type": "code",
   "execution_count": null,
   "metadata": {},
   "outputs": [],
   "source": [
    "frst_clk_18_20 = rh_18_20.copy()\n",
    "frst_clk_21_23 = rh_21_23.copy()\n",
    "\n",
    "first_click_rh_auc_18_20 = clk_18_20[ [\"ref_hash\",\"date\"] ].sort_values( \"date\" ).drop_duplicates( subset = \"ref_hash\", keep = \"first\" )\n",
    "first_click_rh_auc_21_23 = clk_21_23[ [\"ref_hash\",\"date\"] ].sort_values( \"date\" ).drop_duplicates( subset = \"ref_hash\", keep = \"first\" )\n",
    "\n",
    "first_click_rh_auc_18_20[\"time_to_frt_clk\"] = ( pd.to_datetime( first_click_rh_auc_18_20[\"date\"] ) -  dt.datetime( year = 2019, month = 4, day = 18 ) ).dt.total_seconds()\n",
    "first_click_rh_auc_21_23[\"time_to_frt_clk\"] = ( pd.to_datetime( first_click_rh_auc_21_23[\"date\"] ) -  dt.datetime( year = 2019, month = 4, day = 21 ) ).dt.total_seconds()\n",
    "\n",
    "first_click_rh_auc_18_20.drop( \"date\", axis = 1, inplace = True )\n",
    "first_click_rh_auc_21_23.drop( \"date\", axis = 1, inplace = True )\n",
    "\n",
    "frst_clk_18_20 = frst_clk_18_20.merge( first_click_rh_auc_18_20, how = \"left\", on = \"ref_hash\" )\n",
    "frst_clk_21_23 = frst_clk_21_23.merge( first_click_rh_auc_21_23, how = \"left\", on = \"ref_hash\" )\n",
    "\n",
    "#Los que tienen NaN es que nunca convirtieron. Los marcamos con el tiempo maximo\n",
    "frst_clk_18_20.fillna( 3 * 24 * 3600, inplace = True )\n",
    "frst_clk_21_23.fillna( 3 * 24 * 3600, inplace = True )\n",
    "\n",
    "frst_clk_18_20.to_csv( loc_ftr + \"\\\\frst_clk_18_20.csv\", index = False )\n",
    "frst_clk_21_23.to_csv( loc_ftr + \"\\\\frst_clk_21_23.csv\", index = False )"
   ]
  },
  {
   "cell_type": "markdown",
   "metadata": {},
   "source": [
    "## <span style=\"color:red\"> **Tiempo hasta el primer evento** </span> "
   ]
  },
  {
   "cell_type": "code",
   "execution_count": null,
   "metadata": {},
   "outputs": [],
   "source": [
    "frst_evt_18_20 = rh_18_20.copy()\n",
    "frst_evt_21_23 = rh_21_23.copy()\n",
    "\n",
    "first_event_rh_auc_18_20 = evt_18_20[ [\"ref_hash\",\"date\"] ].sort_values( \"date\" ).drop_duplicates( subset = \"ref_hash\", keep = \"first\" )\n",
    "first_event_rh_auc_21_23 = evt_21_23[ [\"ref_hash\",\"date\"] ].sort_values( \"date\" ).drop_duplicates( subset = \"ref_hash\", keep = \"first\" )\n",
    "\n",
    "first_event_rh_auc_18_20[\"time_to_frt_evt\"] = ( pd.to_datetime( first_event_rh_auc_18_20[\"date\"] ) -  dt.datetime( year = 2019, month = 4, day = 18 ) ).dt.total_seconds()\n",
    "first_event_rh_auc_21_23[\"time_to_frt_evt\"] = ( pd.to_datetime( first_event_rh_auc_21_23[\"date\"] ) -  dt.datetime( year = 2019, month = 4, day = 21 ) ).dt.total_seconds()\n",
    "\n",
    "first_event_rh_auc_18_20.drop( \"date\", axis = 1, inplace = True )\n",
    "first_event_rh_auc_21_23.drop( \"date\", axis = 1, inplace = True )\n",
    "\n",
    "frst_evt_18_20 = frst_evt_18_20.merge( first_event_rh_auc_18_20, how = \"left\", on = \"ref_hash\" )\n",
    "frst_evt_21_23 = frst_evt_21_23.merge( first_event_rh_auc_21_23, how = \"left\", on = \"ref_hash\" )\n",
    "\n",
    "#Los que tienen NaN es que nunca convirtieron. Los marcamos con el tiempo maximo\n",
    "frst_evt_18_20.fillna( 3 * 24 * 3600, inplace = True )\n",
    "frst_evt_21_23.fillna( 3 * 24 * 3600, inplace = True )\n",
    "\n",
    "frst_evt_18_20.to_csv( loc_ftr + \"\\\\frst_evt_18_20.csv\", index = False )\n",
    "frst_evt_21_23.to_csv( loc_ftr + \"\\\\frst_evt_21_23.csv\", index = False )"
   ]
  },
  {
   "cell_type": "markdown",
   "metadata": {},
   "source": [
    "## <span style=\"color:red\"> **Hora mas popular del usuario en los eventos** </span> \n",
    "\n",
    "Le aplicamos la transformacion sin( (hora * pi)/24 ) para agregarle periodicidad. "
   ]
  },
  {
   "cell_type": "code",
   "execution_count": null,
   "metadata": {},
   "outputs": [],
   "source": [
    "main_ehr_18_20 = rh_18_20.copy()\n",
    "main_ehr_21_23 = rh_21_23.copy()\n",
    "\n",
    "hour_mode_18_20 = evt_18_20[[\"ref_hash\"]]; hour_mode_18_20[\"hour\"] = pd.to_datetime( evt_18_20[\"date\"] ).dt.hour\n",
    "hour_mode_21_23 = evt_21_23[[\"ref_hash\"]]; hour_mode_21_23[\"hour\"] = pd.to_datetime( evt_21_23[\"date\"] ).dt.hour\n",
    "\n",
    "hour_mode_18_20 = hour_mode_18_20.groupby( [\"ref_hash\", \"hour\"] ).agg( { \"hour\":\"count\" } ).rename( columns = {\"hour\":\"count\"} ).reset_index()\n",
    "hour_mode_21_23 = hour_mode_21_23.groupby( [\"ref_hash\", \"hour\"] ).agg( { \"hour\":\"count\" } ).rename( columns = {\"hour\":\"count\"} ).reset_index()\n",
    "\n",
    "hour_mode_18_20 = hour_mode_18_20.sort_values( [\"ref_hash\",\"count\"], ascending = False ).drop_duplicates( subset = [\"ref_hash\"], keep = \"first\" ).drop(\"count\",axis = 1)\n",
    "hour_mode_21_23 = hour_mode_21_23.sort_values( [\"ref_hash\",\"count\"], ascending = False ).drop_duplicates( subset = [\"ref_hash\"], keep = \"first\" ).drop(\"count\",axis = 1)\n",
    "\n",
    "main_ehr_18_20 = main_ehr_18_20.merge( hour_mode_18_20, how = \"left\", on = \"ref_hash\" ).rename( columns = {\"hour\":\"main_hour\"} )\n",
    "main_ehr_21_23 = main_ehr_21_23.merge( hour_mode_21_23, how = \"left\", on = \"ref_hash\" ).rename( columns = {\"hour\":\"main_hour\"} )\n",
    "\n",
    "main_ehr_18_20[\"main_hour\"] =  main_ehr_18_20[\"main_hour\"].apply( lambda x: np.sin( (x*np.pi)/24 ) )\n",
    "main_ehr_21_23[\"main_hour\"] =  main_ehr_21_23[\"main_hour\"].apply( lambda x: np.sin( (x*np.pi)/24 ) )\n",
    "\n",
    "main_ehr_18_20.to_csv( loc_ftr + \"\\\\main_ehr_18_20.csv\", index = False )\n",
    "main_ehr_21_23.to_csv( loc_ftr + \"\\\\main_ehr_21_23.csv\", index = False )"
   ]
  },
  {
   "cell_type": "markdown",
   "metadata": {},
   "source": [
    "## <span style=\"color:red\"> **Aplicacion mas instalada por el usuario** </span>\n",
    "\n",
    "#### <span style=\"color:orange\"> **Mean Encoding** </span> (Usamos el promedio de la cantidad de veces que que es la app principal de algun dispositivo)"
   ]
  },
  {
   "cell_type": "code",
   "execution_count": null,
   "metadata": {},
   "outputs": [],
   "source": [
    "main_app_18_20 = rh_18_20.copy()\n",
    "main_app_21_23 = rh_21_23.copy()\n",
    "\n",
    "app_mas_ins_18_20 = ins_18_20.groupby( by = [\"ref_hash\",\"application_id\"] ).agg( {\"application_id\":\"count\"} ).rename( columns = {\"application_id\":\"cant_ins\"} ).reset_index()\n",
    "app_mas_ins_21_23 = ins_21_23.groupby( by = [\"ref_hash\",\"application_id\"] ).agg( {\"application_id\":\"count\"} ).rename( columns = {\"application_id\":\"cant_ins\"} ).reset_index()\n",
    "\n",
    "app_mas_ins_18_20 = app_mas_ins_18_20.sort_values( by = [\"ref_hash\", \"cant_ins\"], ascending = True ).drop_duplicates( subset = \"ref_hash\", keep = \"last\" ); del( app_mas_ins_18_20[\"cant_ins\"] )\n",
    "app_mas_ins_21_23 = app_mas_ins_21_23.sort_values( by = [\"ref_hash\", \"cant_ins\"], ascending = True ).drop_duplicates( subset = \"ref_hash\", keep = \"last\" ); del( app_mas_ins_21_23[\"cant_ins\"] ) \n",
    "\n",
    "main_app_18_20 = main_app_18_20.merge( app_mas_ins_18_20, how = \"left\", on = \"ref_hash\" )\n",
    "main_app_21_23 = main_app_21_23.merge( app_mas_ins_21_23, how = \"left\", on = \"ref_hash\" )\n",
    "\n",
    "main_app_18_20[\"to_count\"] = 1; main_app_18_20[\"application_id\"] = main_app_18_20[[\"application_id\", \"to_count\"]].groupby(\"application_id\").transform( \"sum\" ) / len(main_app_18_20); del(main_app_18_20[\"to_count\"])\n",
    "main_app_21_23[\"to_count\"] = 1; main_app_21_23[\"application_id\"] = main_app_21_23[[\"application_id\", \"to_count\"]].groupby(\"application_id\").transform( \"sum\" ) / len(main_app_21_23); del(main_app_21_23[\"to_count\"])\n",
    "\n",
    "main_app_21_23[\"application_id\"].fillna( main_app_21_23[\"application_id\"].isnull().sum() / len(main_app_21_23), inplace = True )\n",
    "main_app_18_20[\"application_id\"].fillna( main_app_18_20[\"application_id\"].isnull().sum() / len(main_app_18_20), inplace = True )\n",
    "\n",
    "main_app_18_20.to_csv( loc_ftr + \"\\\\main_app_18_20.csv\", index = False )\n",
    "main_app_21_23.to_csv( loc_ftr + \"\\\\main_app_21_23.csv\", index = False )"
   ]
  },
  {
   "cell_type": "markdown",
   "metadata": {},
   "source": [
    "## <span style=\"color:red\"> **Cantidad de instalaciones atribuidas por dispositivo** </span> "
   ]
  },
  {
   "cell_type": "code",
   "execution_count": null,
   "metadata": {},
   "outputs": [],
   "source": [
    "cins_atr_18_20 = rh_18_20.copy()\n",
    "cins_atr_21_23 = rh_21_23.copy()\n",
    "\n",
    "cant_atr_ins_18_20 = ins_18_20[[\"ref_hash\", \"attributed\"]]; cant_atr_ins_18_20[\"attributed\"] = cant_atr_ins_18_20[\"attributed\"].apply( lambda x: 1 if x else 0 );\n",
    "cant_atr_ins_21_23 = ins_21_23[[\"ref_hash\", \"attributed\"]]; cant_atr_ins_21_23[\"attributed\"] = cant_atr_ins_21_23[\"attributed\"].apply( lambda x: 1 if x else 0 );\n",
    "\n",
    "cant_atr_ins_18_20 = cant_atr_ins_18_20.groupby( \"ref_hash\" ).agg( \"sum\" )\n",
    "cant_atr_ins_21_23 = cant_atr_ins_21_23.groupby( \"ref_hash\" ).agg( \"sum\" )\n",
    "\n",
    "cins_atr_18_20 = cins_atr_18_20.merge( cant_atr_ins_18_20, how = \"left\", on = \"ref_hash\" ).fillna( 0 )\n",
    "cins_atr_21_23 = cins_atr_21_23.merge( cant_atr_ins_21_23, how = \"left\", on = \"ref_hash\" ).fillna( 0 )\n",
    "\n",
    "cins_atr_18_20.to_csv( loc_ftr + \"\\\\cins_atr_18_20.csv\", index = False )\n",
    "cins_atr_21_23.to_csv( loc_ftr + \"\\\\cins_atr_21_23.csv\", index = False )"
   ]
  },
  {
   "cell_type": "markdown",
   "metadata": {},
   "source": [
    "## <span style=\"color:red\"> **Cantidad de instalaciones implicitas por dispositivo** </span> "
   ]
  },
  {
   "cell_type": "code",
   "execution_count": null,
   "metadata": {},
   "outputs": [],
   "source": [
    "cins_imp_18_20 = rh_18_20.copy()\n",
    "cins_imp_21_23 = rh_21_23.copy()\n",
    "\n",
    "cant_imp_ins_18_20 = ins_18_20[[\"ref_hash\", \"implicit\"]]; cant_imp_ins_18_20[\"implicit\"] = cant_imp_ins_18_20[\"implicit\"].apply( lambda x: 1 if x else 0 );\n",
    "cant_imp_ins_21_23 = ins_21_23[[\"ref_hash\", \"implicit\"]]; cant_imp_ins_21_23[\"implicit\"] = cant_imp_ins_21_23[\"implicit\"].apply( lambda x: 1 if x else 0 );\n",
    "\n",
    "cant_imp_ins_18_20 = cant_imp_ins_18_20.groupby( \"ref_hash\" ).agg( \"sum\" )\n",
    "cant_imp_ins_21_23 = cant_imp_ins_21_23.groupby( \"ref_hash\" ).agg( \"sum\" )\n",
    "\n",
    "cins_imp_18_20 = cins_imp_18_20.merge( cant_imp_ins_18_20, how = \"left\", on = \"ref_hash\" ).fillna( 0 )\n",
    "cins_imp_21_23 = cins_imp_21_23.merge( cant_imp_ins_21_23, how = \"left\", on = \"ref_hash\" ).fillna( 0 )\n",
    "\n",
    "cins_imp_18_20.to_csv( loc_ftr + \"\\\\cins_imp_18_20.csv\", index = False )\n",
    "cins_imp_21_23.to_csv( loc_ftr + \"\\\\cins_imp_21_23.csv\", index = False )"
   ]
  },
  {
   "cell_type": "markdown",
   "metadata": {},
   "source": [
    "## <span style=\"color:red\"> **ID de evento mas realizado por el dispositivo** </span> \n",
    "\n",
    "#### <span style=\"color:orange\"> **Mean Encoding** </span> (Lo codificamos haciendo la cantidad de eventos que se realizaron de ese id sobre el total de eventos realizados)"
   ]
  },
  {
   "cell_type": "code",
   "execution_count": null,
   "metadata": {},
   "outputs": [],
   "source": [
    "event_id_18_20 = rh_18_20.copy()\n",
    "event_id_21_23 = rh_21_23.copy()\n",
    "\n",
    "main_evt_id_18_20 = evt_18_20.groupby( by = [\"ref_hash\",\"event_id\"] ).agg( {\"event_id\":\"count\"} ).rename( columns = {\"event_id\":\"cant_evt\"} ).reset_index()\n",
    "main_evt_id_21_23 = evt_21_23.groupby( by = [\"ref_hash\",\"event_id\"] ).agg( {\"event_id\":\"count\"} ).rename( columns = {\"event_id\":\"cant_evt\"} ).reset_index()\n",
    "\n",
    "main_evt_id_18_20 = main_evt_id_18_20.sort_values( by = [\"ref_hash\", \"cant_evt\"], ascending = True ).drop_duplicates( subset = \"ref_hash\", keep = \"last\" ); del( main_evt_id_18_20[\"cant_evt\"] )\n",
    "main_evt_id_21_23 = main_evt_id_21_23.sort_values( by = [\"ref_hash\", \"cant_evt\"], ascending = True ).drop_duplicates( subset = \"ref_hash\", keep = \"last\" ); del( main_evt_id_21_23[\"cant_evt\"] ) \n",
    "\n",
    "event_id_18_20 = event_id_18_20.merge( main_evt_id_18_20, how = \"left\", on = \"ref_hash\" )\n",
    "event_id_21_23 = event_id_21_23.merge( main_evt_id_21_23, how = \"left\", on = \"ref_hash\" )\n",
    "\n",
    "cant_event_id_18_20 = evt_18_20[[\"ref_hash\",\"event_id\"]].groupby( \"event_id\" ).agg(\"count\").reset_index().rename( columns = {\"ref_hash\":\"cant_id\"} )\n",
    "cant_event_id_21_23 = evt_21_23[[\"ref_hash\",\"event_id\"]].groupby( \"event_id\" ).agg(\"count\").reset_index().rename( columns = {\"ref_hash\":\"cant_id\"} )\n",
    "\n",
    "event_id_18_20 = event_id_18_20.merge( cant_event_id_18_20, how = \"left\", on = \"event_id\" ).drop( \"event_id\", axis = 1 )\n",
    "event_id_21_23 = event_id_21_23.merge( cant_event_id_21_23, how = \"left\", on = \"event_id\" ).drop( \"event_id\", axis = 1 )\n",
    "\n",
    "event_id_18_20[\"evt_id_mean\"] = event_id_18_20[\"cant_id\"] / len(evt_18_20); event_id_18_20.fillna( event_id_18_20[\"evt_id_mean\"].isnull().sum() / len(evt_18_20), inplace = True ); del(event_id_18_20[\"evt_id_mean\"])\n",
    "event_id_21_23[\"evt_id_mean\"] = event_id_21_23[\"cant_id\"] / len(evt_21_23); event_id_21_23.fillna( event_id_21_23[\"evt_id_mean\"].isnull().sum() / len(evt_21_23), inplace = True ); del(event_id_21_23[\"evt_id_mean\"])\n",
    "\n",
    "event_id_18_20.to_csv( loc_ftr + \"\\\\event_id_18_20.csv\", index = False )\n",
    "event_id_21_23.to_csv( loc_ftr + \"\\\\event_id_21_23.csv\", index = False )"
   ]
  },
  {
   "cell_type": "markdown",
   "metadata": {},
   "source": [
    "## <span style=\"color:red\"> **Aplicacion que mas recibio eventos por cada dispositivo** </span> \n",
    "\n",
    "#### <span style=\"color:orange\"> **Mean Encoding** </span> (Codificiamos sobre cuantas veces la aplicacion fue la principal de un dispositivo sobre el total de dispositivos)"
   ]
  },
  {
   "cell_type": "code",
   "execution_count": null,
   "metadata": {},
   "outputs": [],
   "source": [
    "mapp_evt_18_20 = rh_18_20.copy()\n",
    "mapp_evt_21_23 = rh_21_23.copy()\n",
    "\n",
    "app_mas_evt_18_20 = evt_18_20.groupby( by = [\"ref_hash\",\"application_id\"] ).agg( {\"application_id\":\"count\"} ).rename( columns = {\"application_id\":\"cant_evt\"} ).reset_index()\n",
    "app_mas_evt_21_23 = evt_21_23.groupby( by = [\"ref_hash\",\"application_id\"] ).agg( {\"application_id\":\"count\"} ).rename( columns = {\"application_id\":\"cant_evt\"} ).reset_index()\n",
    "\n",
    "app_mas_evt_18_20 = app_mas_evt_18_20.sort_values( by = [\"ref_hash\", \"cant_evt\"], ascending = True ).drop_duplicates( subset = \"ref_hash\", keep = \"last\" ); del( app_mas_evt_18_20[\"cant_evt\"] )\n",
    "app_mas_evt_21_23 = app_mas_evt_21_23.sort_values( by = [\"ref_hash\", \"cant_evt\"], ascending = True ).drop_duplicates( subset = \"ref_hash\", keep = \"last\" ); del( app_mas_evt_21_23[\"cant_evt\"] ) \n",
    "\n",
    "mapp_evt_18_20 = mapp_evt_18_20.merge( app_mas_evt_18_20, how = \"left\", on = \"ref_hash\" )\n",
    "mapp_evt_21_23 = mapp_evt_21_23.merge( app_mas_evt_21_23, how = \"left\", on = \"ref_hash\" )\n",
    "\n",
    "mapp_evt_18_20[\"to_count\"] = 1; mapp_evt_18_20[\"application_id\"] = mapp_evt_18_20[[\"application_id\", \"to_count\"]].groupby(\"application_id\").transform( \"sum\" ) / len(mapp_evt_18_20); del(mapp_evt_18_20[\"to_count\"])\n",
    "mapp_evt_21_23[\"to_count\"] = 1; mapp_evt_21_23[\"application_id\"] = mapp_evt_21_23[[\"application_id\", \"to_count\"]].groupby(\"application_id\").transform( \"sum\" ) / len(mapp_evt_21_23); del(mapp_evt_21_23[\"to_count\"])\n",
    "\n",
    "#Completamos los NaNs con el promedio de su cantidad\n",
    "mapp_evt_18_20[\"application_id\"].fillna( mapp_evt_18_20[\"application_id\"].isnull().sum() / len( mapp_evt_18_20 ) , inplace = True )\n",
    "mapp_evt_21_23[\"application_id\"].fillna( mapp_evt_21_23[\"application_id\"].isnull().sum() / len( mapp_evt_21_23 ), inplace = True )\n",
    "\n",
    "mapp_evt_18_20.to_csv( loc_ftr + \"\\\\mapp_evt_18_20.csv\", index = False )\n",
    "mapp_evt_21_23.to_csv( loc_ftr + \"\\\\mapp_evt_21_23.csv\", index = False )"
   ]
  }
 ],
 "metadata": {
  "kernelspec": {
   "display_name": "Python 3",
   "language": "python",
   "name": "python3"
  },
  "language_info": {
   "codemirror_mode": {
    "name": "ipython",
    "version": 3
   },
   "file_extension": ".py",
   "mimetype": "text/x-python",
   "name": "python",
   "nbconvert_exporter": "python",
   "pygments_lexer": "ipython3",
   "version": "3.7.0"
  }
 },
 "nbformat": 4,
 "nbformat_minor": 2
}
