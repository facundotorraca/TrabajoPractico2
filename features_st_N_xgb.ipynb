{
 "cells": [
  {
   "cell_type": "markdown",
   "metadata": {},
   "source": [
    "## <span style=\"color:red\"> **Promedio del TimeToClick es un anuncio** </span> "
   ]
  },
  {
   "cell_type": "code",
   "execution_count": null,
   "metadata": {},
   "outputs": [],
   "source": [
    "ttc_mean_18_20 = rh_18_20.copy()\n",
    "ttc_mean_21_23 = rh_21_23.copy()\n",
    "\n",
    "ttc_by_rh_18_20 = clk_18_20[ [\"ref_hash\", \"timeToClick\"] ].groupby( \"ref_hash\" ).agg( \"mean\" ); ttc_by_rh_18_20 = ttc_by_rh_18_20.reset_index()\n",
    "ttc_by_rh_21_23 = clk_21_23[ [\"ref_hash\", \"timeToClick\"] ].groupby( \"ref_hash\" ).agg( \"mean\" ); ttc_by_rh_21_23 = ttc_by_rh_21_23.reset_index()\n",
    "\n",
    "ttc_mean_18_20 = ttc_mean_18_20.merge( ttc_by_rh_18_20, how = \"left\", on = \"ref_hash\" )\n",
    "ttc_mean_21_23 = ttc_mean_21_23.merge( ttc_by_rh_21_23, how = \"left\", on = \"ref_hash\" )"
   ]
  },
  {
   "cell_type": "markdown",
   "metadata": {},
   "source": [
    "Casi todos los valores nulos!\n",
    "\n"
   ]
  },
  {
   "cell_type": "markdown",
   "metadata": {},
   "source": [
    "## <span style=\"color:red\"> **Modelo del dispositivo** </span>\n",
    "\n",
    "#### <span style=\"color:orange\"> **Mean Encoding** </span> (Usando el ST para el promedio)"
   ]
  },
  {
   "cell_type": "code",
   "execution_count": null,
   "metadata": {},
   "outputs": [],
   "source": [
    "#Me quedo con los disppsitivos que coinciden en ambas ventanas (de manera que pueda obtener su SC)\n",
    "rh_18_20_21_23_dm = rh_18_20.loc[ rh_18_20[\"ref_hash\"].isin( rh_21_23[\"ref_hash\"] ) ]\n",
    "\n",
    "#Le agregamos el valor de \"ST\" a los dispositivos\n",
    "rh_18_20_21_23_dm = rh_18_20_21_23_dm.merge( auc_21_23_first_auc[ [\"ref_hash\",\"_st\"] ], how = \"left\", on = \"ref_hash\" )\n",
    "\n",
    "#Obtenermos el modelo de dispositivo utilizado por cada RefHash \n",
    "dm_18_20_21_23_evt = evt_18_20.loc[ evt_18_20[\"ref_hash\"].isin( rh_18_20_21_23_dm[\"ref_hash\"] ), [\"ref_hash\",\"device_model\"] ]; \n",
    "dm_18_20_21_23_evt.rename( columns = {\"device_model\":\"dev_mod_evt\"}, inplace = True )\n",
    "\n",
    "dm_not_in_evt = dm_18_20_21_23_evt.loc[ dm_18_20_21_23_evt[\"dev_mod_evt\"].isnull() ][\"ref_hash\"]\n",
    "\n",
    "#Obtenemos los que no se pudieron del dataset de evetnos del data set de installs\n",
    "dm_18_20_21_23_ins = ins_18_20.loc[ ins_18_20[\"ref_hash\"].isin( dm_not_in_evt ), [\"ref_hash\",\"device_model\"] ]; \n",
    "dm_18_20_21_23_ins.rename( columns = {\"device_model\":\"dev_mod_ins\"}, inplace = True )\n",
    "\n",
    "#Mergemos los dispositivos con los ref_hash\n",
    "rh_18_20_21_23_dm = rh_18_20_21_23_dm.merge( dm_18_20_21_23_evt, how = \"left\", on = \"ref_hash\" )\n",
    "rh_18_20_21_23_dm = rh_18_20_21_23_dm.merge( dm_18_20_21_23_ins, how = \"left\", on = \"ref_hash\" )\n",
    "\n",
    "#Ponemos todos los dispositivos en una sola columna\n",
    "rh_18_20_21_23_dm[\"dev_mod\"] = np.where( rh_18_20_21_23_dm['dev_mod_evt'].isnull(), rh_18_20_21_23_dm['dev_mod_ins'], rh_18_20_21_23_dm['dev_mod_evt']); \n",
    "del( rh_18_20_21_23_dm[\"dev_mod_evt\"] )\n",
    "del( rh_18_20_21_23_dm[\"dev_mod_ins\"] )\n",
    "\n",
    "#Dropeamos los duplicados\n",
    "rh_18_20_21_23_dm = rh_18_20_21_23_dm.sort_values( [\"ref_hash\",\"dev_mod\"] ).drop_duplicates( subset = [\"ref_hash\"], keep = \"first\" )"
   ]
  },
  {
   "cell_type": "markdown",
   "metadata": {},
   "source": [
    "Sobran menos de 60000 valores no nulos de un total de 230673"
   ]
  },
  {
   "cell_type": "markdown",
   "metadata": {},
   "source": [
    "## <span style=\"color:red\"> **Lenfuage del dispositivo** </span>\n",
    "\n",
    "#### <span style=\"color:orange\"> **Mean Encoding** </span> (Usando el ST para el promedio)"
   ]
  },
  {
   "cell_type": "code",
   "execution_count": null,
   "metadata": {},
   "outputs": [],
   "source": [
    "#Me quedo con los disppsitivos que coinciden en ambas ventanas (de manera que pueda obtener su SC)\n",
    "rh_18_20_21_23_dl= rh_18_20.loc[ rh_18_20[\"ref_hash\"].isin( rh_21_23[\"ref_hash\"] ) ]\n",
    "\n",
    "#Le agregamos el valor de \"ST\" a los dispositivos\n",
    "rh_18_20_21_23_dl = rh_18_20_21_23_dl.merge( auc_21_23_first_auc[ [\"ref_hash\",\"_st\"] ], how = \"left\", on = \"ref_hash\" )\n",
    "\n",
    "#Obtenermos el modelo de dispositivo utilizado por cada RefHash \n",
    "dl_18_20_21_23_evt = evt_18_20.loc[ evt_18_20[\"ref_hash\"].isin( rh_18_20_21_23_dm[\"ref_hash\"] ), [\"ref_hash\",\"device_language\"] ]; \n",
    "dl_18_20_21_23_evt.rename( columns = {\"device_language\":\"dev_lan_evt\"}, inplace = True )\n",
    "\n",
    "dl_not_in_evt = dl_18_20_21_23_evt.loc[ dl_18_20_21_23_evt[\"dev_lan_evt\"].isnull() ][\"ref_hash\"]\n",
    "\n",
    "#Obtenemos los que no se pudieron del dataset de evetnos del data set de installs\n",
    "dl_18_20_21_23_ins = ins_18_20.loc[ ins_18_20[\"ref_hash\"].isin( dm_not_in_evt ), [\"ref_hash\",\"device_language\"] ]; \n",
    "dl_18_20_21_23_ins.rename( columns = {\"device_language\":\"dev_lan_ins\"}, inplace = True )\n",
    "\n",
    "#Mergemos los dispositivos con los ref_hash\n",
    "rh_18_20_21_23_dl = rh_18_20_21_23_dl.merge( dl_18_20_21_23_evt, how = \"left\", on = \"ref_hash\" )\n",
    "rh_18_20_21_23_dl = rh_18_20_21_23_dl.merge( dl_18_20_21_23_ins, how = \"left\", on = \"ref_hash\" )\n",
    "\n",
    "#Ponemos todos los dispositivos en una sola columna\n",
    "rh_18_20_21_23_dl[\"dev_lan\"] = np.where( rh_18_20_21_23_dl['dev_lan_evt'].isnull(), rh_18_20_21_23_dl['dev_lan_ins'], rh_18_20_21_23_dl['dev_lan_evt']); \n",
    "del( rh_18_20_21_23_dl[\"dev_lan_evt\"] )\n",
    "del( rh_18_20_21_23_dl[\"dev_lan_ins\"] )\n",
    "\n",
    "#Dropeamos los duplicados\n",
    "rh_18_20_21_23_dm = rh_18_20_21_23_dm.sort_values( [\"ref_hash\",\"dev_mod\"] ).drop_duplicates( subset = [\"ref_hash\"], keep = \"first\" )"
   ]
  },
  {
   "cell_type": "markdown",
   "metadata": {},
   "source": [
    "\n",
    "Sobran menos de 60000 valores no nulos de un total de 230673"
   ]
  }
 ],
 "metadata": {
  "kernelspec": {
   "display_name": "Python 3",
   "language": "python",
   "name": "python3"
  },
  "language_info": {
   "codemirror_mode": {
    "name": "ipython",
    "version": 3
   },
   "file_extension": ".py",
   "mimetype": "text/x-python",
   "name": "python",
   "nbconvert_exporter": "python",
   "pygments_lexer": "ipython3",
   "version": "3.7.0"
  }
 },
 "nbformat": 4,
 "nbformat_minor": 2
}
