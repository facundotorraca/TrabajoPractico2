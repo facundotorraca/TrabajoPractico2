{
 "cells": [
  {
   "cell_type": "markdown",
   "metadata": {},
   "source": [
    "## <span style=\"color:red\"> **Cantidad de Clicks por dispositivo en la ventana previa a la conversion** </span>"
   ]
  },
  {
   "cell_type": "code",
   "execution_count": null,
   "metadata": {},
   "outputs": [],
   "source": [
    "cant_clk_18_20 = rh_18_20\n",
    "cant_clk_21_23 = rh_21_23\n",
    "\n",
    "cant_clk_18_20 = cant_clk_18_20.merge( clk_18_20[\"ref_hash\"].value_counts().to_frame().reset_index().rename( columns = {\"ref_hash\": \"cant_clk\", \"index\":\"ref_hash\"} ), how = \"left\", on = \"ref_hash\" )\n",
    "cant_clk_21_23 = cant_clk_21_23.merge( clk_21_23[\"ref_hash\"].value_counts().to_frame().reset_index().rename( columns = {\"ref_hash\": \"cant_clk\", \"index\":\"ref_hash\"} ), how = \"left\", on = \"ref_hash\" )\n",
    "\n",
    "cant_clk_18_20.fillna( 0, inplace = True )\n",
    "cant_clk_21_23.fillna( 0, inplace = True )\n",
    "\n",
    "cant_clk_18_20.to_csv( loc_ftr + \"\\\\cant_clk_18_20.csv\", index = False )\n",
    "cant_clk_21_23.to_csv( loc_ftr + \"\\\\cant_clk_21_23.csv\", index = False )"
   ]
  },
  {
   "cell_type": "markdown",
   "metadata": {},
   "source": [
    "## <span style=\"color:red\"> **Ref Type del dispositivo que realizo la instalacion** </span> "
   ]
  },
  {
   "cell_type": "markdown",
   "metadata": {},
   "source": [
    "#### <span style=\"color:orange\"> **Mean Encoding** </span> "
   ]
  },
  {
   "cell_type": "code",
   "execution_count": null,
   "metadata": {},
   "outputs": [],
   "source": [
    "ref_type_18_20 = rh_18_20.copy()\n",
    "ref_type_21_23 = rh_21_23.copy()\n",
    "\n",
    "sc = ins_21_23_first_ins.loc[ ins_21_23_first_ins[\"ref_hash\"].isin( rh_18_20[\"ref_hash\"] ), [\"ref_hash\",\"_sc\"] ]\n",
    "\n",
    "rt_18_20_sc = ins_18_20_first_ins[ [\"ref_hash\",\"ref_type\"] ].merge( sc, how = \"left\", on = \"ref_hash\" ); dl_18_20_sc.fillna( 259200, inplace = True )\n",
    "\n",
    "X_rt = dl_18_20_sc[ [\"device_language\"] ]\n",
    "Y_rt = dl_18_20_sc[ [\"_sc\"] ]\n",
    "\n",
    "te = ce.TargetEncoder(smoothing=True)\n",
    "te.fit_transform( X_rt Y_rt );\n",
    "\n",
    "ref_type_18_20[\"ref_type_enc\"] = te.transform( ins_18_20_first_ins[[\"ref_type\"]].astype(str) )\n",
    "ref_type_21_23[\"ref_type_enc\"] = te.transform( ins_21_23_first_ins[[\"ref_type\"]].astype(str) )\n",
    "\n",
    "ref_type_18_20.to_csv( loc_ftr + \"\\\\ref_type_18_20.csv\", index = False )\n",
    "ref_type_21_23.to_csv( loc_ftr + \"\\\\ref_type_21_23.csv\", index = False )"
   ]
  },
  {
   "cell_type": "markdown",
   "metadata": {},
   "source": [
    "#### <span style=\"color:orange\"> **OneHotEncoding** </span> "
   ]
  },
  {
   "cell_type": "code",
   "execution_count": null,
   "metadata": {},
   "outputs": [],
   "source": [
    "ref_type_18_20 = rh_18_20\n",
    "ref_type_21_23 = rh_21_23\n",
    "\n",
    "rt_ohe_18_20 = pd.get_dummies( ins_18_20_first_ins[ [\"ref_type\"] ].astype(\"category\") )\n",
    "rt_ohe_21_23 = pd.get_dummies( ins_21_23_first_ins[ [\"ref_type\"] ].astype(\"category\") )\n",
    "\n",
    "ref_type_18_20 = pd.concat( [ref_type_18_20, rt_ohe_18_20], axis = 1 )\n",
    "ref_type_21_23 = pd.concat( [ref_type_21_23, rt_ohe_21_23], axis = 1 )"
   ]
  },
  {
   "cell_type": "markdown",
   "metadata": {},
   "source": [
    "## <span style=\"color:red\"> **DeviceLenguage del dispositivo al realizar la instlacion** </span>"
   ]
  },
  {
   "cell_type": "markdown",
   "metadata": {},
   "source": [
    "#### <span style=\"color:orange\"> **Mean Encoding** </span> (Usando el SC para el promedio)"
   ]
  },
  {
   "cell_type": "code",
   "execution_count": null,
   "metadata": {},
   "outputs": [],
   "source": [
    "dev_lang_18_20 = rh_18_20.copy()\n",
    "dev_lang_21_23 = rh_21_23.copy()\n",
    "\n",
    "sc = ins_21_23_first_ins.loc[ ins_21_23_first_ins[\"ref_hash\"].isin( rh_18_20[\"ref_hash\"] ), [\"ref_hash\",\"_sc\"] ]\n",
    "\n",
    "dl_18_20_sc = ins_18_20_first_ins[ [\"ref_hash\",\"device_language\"] ].merge( sc, how = \"left\", on = \"ref_hash\" ); dl_18_20_sc.fillna( 259200, inplace = True )\n",
    "\n",
    "X_dl = dl_18_20_sc[ [\"device_language\"] ]\n",
    "Y_dl = dl_18_20_sc[ [\"_sc\"] ]\n",
    "\n",
    "te = ce.TargetEncoder(smoothing=True); te.fit( X_dl, Y_dl );\n",
    "\n",
    "# replace nans with the global mean ( https://necromuralist.github.io/kaggle-competitions/posts/mean-encoding/ )\n",
    "global_mean = Y_dl[\"_sc\"].mean()\n",
    "\n",
    "dev_lang_18_20[\"dev_language\"] = te.transform( ins_18_20_first_ins[ [\"device_language\"] ].astype( str ) ); dev_lang_18_20[\"dev_language\"].replace( {\"nan\":global_mean}, inplace = True )\n",
    "dev_lang_21_23[\"dev_language\"] = te.transform( ins_21_23_first_ins[ [\"device_language\"] ].astype( str ) ); dev_lang_21_23[\"dev_language\"].replace( {\"nan\":global_mean}, inplace = True )\n",
    "\n",
    "dev_lang_18_20.to_csv( loc_ftr + \"\\\\dev_lang_18_20.csv\", index = False )\n",
    "dev_lang_21_23.to_csv( loc_ftr + \"\\\\dev_lang_21_23.csv\", index = False )"
   ]
  },
  {
   "cell_type": "markdown",
   "metadata": {},
   "source": [
    "#### <span style=\"color:orange\"> **OneHotEncoding** </span>"
   ]
  },
  {
   "cell_type": "code",
   "execution_count": null,
   "metadata": {},
   "outputs": [],
   "source": [
    "dev_lang_18_20 = rh_18_20\n",
    "dev_lang_21_23 = rh_21_23\n",
    "\n",
    "#Generamos todas las categorias posibles para que tengan las mismas columnas\n",
    "dl_18_20 = ins_18_20_first_ins[\"device_language\"].drop_duplicates()\n",
    "dl_21_23 = ins_21_23_first_ins[\"device_language\"].drop_duplicates()\n",
    "\n",
    "#Creamos la categoria. Los NAN son una categoria\n",
    "dl_category = pd.api.types.CategoricalDtype( dl_18_20.append( dl_21_23 ).fillna(\"NoDL\").drop_duplicates() ) \n",
    "\n",
    "dl_ohe_18_20 = pd.get_dummies( ins_18_20_first_ins[ [\"device_language\"] ].astype(dl_category) )\n",
    "dl_ohe_21_23 = pd.get_dummies( ins_21_23_first_ins[ [\"device_language\"] ].astype(dl_category) )\n",
    "\n",
    "dev_lang_18_20 = pd.concat( [dev_lang_18_20, dl_ohe_18_20], axis = 1 )\n",
    "dev_lang_21_23 = pd.concat( [dev_lang_21_23, dl_ohe_21_23], axis = 1 )\n",
    "\n",
    "dev_lang_18_20.to_csv( loc_ftr + \"\\\\dev_lang_18_20.csv\", index = False )\n",
    "dev_lang_21_23.to_csv( loc_ftr + \"\\\\dev_lang_21_23.csv\", index = False )"
   ]
  },
  {
   "cell_type": "markdown",
   "metadata": {},
   "source": [
    "## <span style=\"color:red\"> **Modelo del dispositivo uilizado** </span>"
   ]
  },
  {
   "cell_type": "markdown",
   "metadata": {},
   "source": [
    "#### <span style=\"color:orange\"> **Mean Encoding** </span> (Usando el SC para el promedio) "
   ]
  },
  {
   "cell_type": "code",
   "execution_count": null,
   "metadata": {},
   "outputs": [],
   "source": [
    "dev_modl_18_20 = rh_18_20.copy()\n",
    "dev_modl_21_23 = rh_21_23.copy()\n",
    "\n",
    "sc = ins_21_23_first_ins.loc[ ins_21_23_first_ins[\"ref_hash\"].isin( rh_18_20[\"ref_hash\"] ), [\"ref_hash\",\"_sc\"] ]\n",
    "\n",
    "dm_18_20_sc = ins_18_20_first_ins[ [\"ref_hash\",\"device_model\"] ].merge( sc, how = \"left\", on = \"ref_hash\" ); \n",
    "\n",
    "X_dm = dm_18_20_sc[ [\"device_model\"] ].astype(str)\n",
    "Y_dm = dm_18_20_sc[ [\"_sc\"] ]\n",
    "\n",
    "te = ce.TargetEncoder(smoothing=True); te.fit( X_dm, Y_dm );\n",
    "\n",
    "# replace nans with the global mean ( https://necromuralist.github.io/kaggle-competitions/posts/mean-encoding/ )\n",
    "global_mean = Y_dm[\"_sc\"].mean()\n",
    "\n",
    "dev_modl_18_20[\"device_model\"] = te.transform( ins_18_20_first_ins[ [\"device_model\"] ].astype( str ) ); dev_modl_18_20.fillna( global_mean, inplace = True )\n",
    "dev_modl_21_23[\"device_model\"] = te.transform( ins_21_23_first_ins[ [\"device_model\"] ].astype( str ) ); dev_modl_21_23.fillna( global_mean, inplace = True )\n",
    "\n",
    "dev_modl_18_20.to_csv( loc_ftr + \"\\\\dev_modl_18_20.csv\", index = False )\n",
    "dev_modl_21_23.to_csv( loc_ftr + \"\\\\dev_modl_21_23.csv\", index = False )"
   ]
  },
  {
   "cell_type": "markdown",
   "metadata": {},
   "source": [
    "#### <span style=\"color:orange\"> **Mean Encoding** </span> (Usando el promedio de cuantas veces fue utilizado) "
   ]
  },
  {
   "cell_type": "code",
   "execution_count": null,
   "metadata": {},
   "outputs": [],
   "source": [
    "dev_modl_18_20 = rh_18_20.copy()\n",
    "dev_modl_21_23 = rh_21_23.copy()\n",
    "\n",
    "dev_modl_mean_18_20 = ins_18_20[ [\"device_model\",\"ref_hash\"] ].groupby(\"device_model\").agg(\"count\"); dev_modl_mean_18_20[\"mean\"] = dev_modl_mean_18_20[\"ref_hash\"]/len(ins_18_20); del(dev_modl_mean_18_20[\"ref_hash\"])\n",
    "dev_modl_mean_21_23 = ins_21_23[ [\"device_model\",\"ref_hash\"] ].groupby(\"device_model\").agg(\"count\"); dev_modl_mean_21_23[\"mean\"] = dev_modl_mean_21_23[\"ref_hash\"]/len(ins_21_23); del(dev_modl_mean_21_23[\"ref_hash\"])\n",
    "\n",
    "dev_modl_18_20[\"device_model\"] = ins_18_20_first_ins[\"device_model\"]; dev_modl_18_20 = dev_modl_18_20.merge(dev_modl_mean_18_20, how = \"left\", on = \"device_model\" )\n",
    "dev_modl_21_23[\"device_model\"] = ins_21_23_first_ins[\"device_model\"]; dev_modl_21_23 = dev_modl_21_23.merge(dev_modl_mean_21_23, how = \"left\", on = \"device_model\" )\n",
    "\n",
    "#Contamos a los NaNs como un \"modelo\"\n",
    "mean_nan_18_20 = ins_18_20[\"device_model\"].isnull().sum() / len( ins_18_20 )\n",
    "mean_nan_21_23 = ins_21_23[\"device_model\"].isnull().sum() / len( ins_21_23 )\n",
    "\n",
    "dev_modl_18_20.fillna( mean_nan_18_20, inplace = True ); del( dev_modl_18_20[\"device_model\"] ); dev_modl_18_20.rename( {\"mean\":\"dev_mod\"}, inplace = True )\n",
    "dev_modl_21_23.fillna( mean_nan_21_23, inplace = True ); del( dev_modl_21_23[\"device_model\"] ); dev_modl_21_23.rename( {\"mean\":\"dev_mod\"}, inplace = True )\n",
    "\n",
    "dev_modl_18_20.to_csv( loc_ftr + \"\\\\dev_modl_18_20.csv\", index = False )\n",
    "dev_modl_21_23.to_csv( loc_ftr + \"\\\\dev_modl_21_23.csv\", index = False )"
   ]
  },
  {
   "cell_type": "markdown",
   "metadata": {},
   "source": [
    "## <span style=\"color:red\"> **SessionUserAgent de los dispositivos** </span>\n",
    "\n",
    "#### <span style=\"color:orange\"> **Mean Encoding** </span> (Usando el SC para el promedio)"
   ]
  },
  {
   "cell_type": "code",
   "execution_count": null,
   "metadata": {},
   "outputs": [],
   "source": [
    "ins_dsua_18_20 = rh_18_20\n",
    "ins_dsua_21_23 = rh_21_23\n",
    "\n",
    "sc = ins_21_23_first_ins.loc[ ins_21_23_first_ins[\"ref_hash\"].isin( rh_18_20[\"ref_hash\"] ), [\"ref_hash\",\"_sc\"] ]\n",
    "\n",
    "sua_18_20_sc = ins_18_20_first_ins[ [\"ref_hash\",\"session_user_agent\"] ].merge( sc, how = \"left\", on = \"ref_hash\" ); \n",
    "\n",
    "X_sua = sua_18_20_sc[ [\"session_user_agent\"] ].astype(str)\n",
    "Y_sua = sua_18_20_sc[ [\"_sc\"] ]\n",
    "\n",
    "te = ce.TargetEncoder(smoothing=True); te.fit( X_sua, Y_sua );\n",
    "\n",
    "ins_dsua_18_20[\"sua\"] = te.transform( ins_18_20_first_ins[ [\"session_user_agent\"] ].astype( str ) );\n",
    "ins_dsua_21_23[\"sua\"] = te.transform( ins_21_23_first_ins[ [\"session_user_agent\"] ].astype( str ) ); \n",
    "\n",
    "ins_dsua_18_20.fillna( Y_sua[\"_sc\"].mean(), inplace = True )\n",
    "ins_dsua_21_23.fillna( Y_sua[\"_sc\"].mean(), inplace = True )\n",
    "\n",
    "ins_dsua_18_20.to_csv( loc_ftr + \"\\\\ins_dsua_18_20.csv\", index = False )\n",
    "ins_dsua_21_23.to_csv( loc_ftr + \"\\\\ins_dsua_21_23.csv\", index = False )"
   ]
  },
  {
   "cell_type": "markdown",
   "metadata": {},
   "source": [
    "# <span style=\"color:red\"> **Source que recibio mas instalaciones por dispositivo** </span> \n",
    "\n",
    "#### <span style=\"color:orange\"> **Mean Encoding** </span> (Usamos el promedio de la cantidad de veces que que es la fuente principal de algun dispositivo)"
   ]
  },
  {
   "cell_type": "code",
   "execution_count": null,
   "metadata": {},
   "outputs": [],
   "source": [
    "srce_auc_18_20 = rh_18_20.copy()\n",
    "srce_auc_21_23 = rh_21_23.copy()\n",
    "\n",
    "main_source_18_20 = auc_18_20.groupby( [\"device_id\", \"source_id\"] ).agg( {\"source_id\":\"count\"} ).rename( columns = {\"source_id\":\"cant_auc\"} ).reset_index()\n",
    "main_source_21_23 = auc_21_23.groupby( [\"device_id\", \"source_id\"] ).agg( {\"source_id\":\"count\"} ).rename( columns = {\"source_id\":\"cant_auc\"} ).reset_index()\n",
    "\n",
    "main_source_18_20 = main_source_18_20.sort_values( by = [\"device_id\",\"cant_auc\"], ascending = True ).drop_duplicates( subset = [\"device_id\"], keep = \"last\" ); del( main_source_18_20[\"cant_auc\"] )\n",
    "main_source_21_23 = main_source_21_23.sort_values( by = [\"device_id\",\"cant_auc\"], ascending = True ).drop_duplicates( subset = [\"device_id\"], keep = \"last\" ); del( main_source_21_23[\"cant_auc\"] )\n",
    "\n",
    "srce_auc_18_20 = srce_auc_18_20.merge( main_source_18_20.rename(columns = {\"device_id\":\"ref_hash\"}), how = \"left\", on = \"ref_hash\" ); srce_auc_18_20.fillna( \"no_font\", inplace = True )\n",
    "srce_auc_21_23 = srce_auc_21_23.merge( main_source_21_23.rename(columns = {\"device_id\":\"ref_hash\"}), how = \"left\", on = \"ref_hash\" ); srce_auc_21_23.fillna( \"no_font\", inplace = True )\n",
    "\n",
    "srce_auc_18_20[\"to_count\"] = 1; srce_auc_18_20[\"source_id\"] = srce_auc_18_20[[\"source_id\", \"to_count\"]].groupby(\"source_id\").transform( \"sum\" ) / len(srce_auc_18_20); del(srce_auc_18_20[\"to_count\"])\n",
    "srce_auc_21_23[\"to_count\"] = 1; srce_auc_21_23[\"source_id\"] = srce_auc_21_23[[\"source_id\", \"to_count\"]].groupby(\"source_id\").transform( \"sum\" ) / len(srce_auc_21_23); del(srce_auc_21_23[\"to_count\"])\n",
    "\n",
    "srce_auc_18_20.to_csv( loc_ftr + \"\\\\srce_auc_18_20.csv\", index = False )\n",
    "srce_auc_21_23.to_csv( loc_ftr + \"\\\\srce_auc_21_23.csv\", index = False )"
   ]
  },
  {
   "cell_type": "markdown",
   "metadata": {},
   "source": [
    "#### <span style=\"color:orange\"> **OneHotEncoding** </span> "
   ]
  },
  {
   "cell_type": "code",
   "execution_count": null,
   "metadata": {},
   "outputs": [],
   "source": [
    "srce_auc_18_20 = rh_18_20.copy()\n",
    "srce_auc_21_23 = rh_21_23.copy()\n",
    "\n",
    "main_source_18_20 = auc_18_20.groupby( [\"device_id\", \"source_id\"] ).agg( {\"source_id\":\"count\"} ).rename( columns = {\"source_id\":\"cant_auc\"} ).reset_index()\n",
    "main_source_21_23 = auc_21_23.groupby( [\"device_id\", \"source_id\"] ).agg( {\"source_id\":\"count\"} ).rename( columns = {\"source_id\":\"cant_auc\"} ).reset_index()\n",
    "\n",
    "main_source_18_20 = main_source_18_20.sort_values( by = [\"device_id\",\"cant_auc\"], ascending = True ).drop_duplicates( subset = [\"device_id\"], keep = \"last\" ); del( main_source_18_20[\"cant_auc\"] )\n",
    "main_source_21_23 = main_source_21_23.sort_values( by = [\"device_id\",\"cant_auc\"], ascending = True ).drop_duplicates( subset = [\"device_id\"], keep = \"last\" ); del( main_source_21_23[\"cant_auc\"] )\n",
    "\n",
    "srce_auc_18_20 = srce_auc_18_20.merge( main_source_18_20.rename(columns = {\"device_id\":\"ref_hash\"}), how = \"left\", on = \"ref_hash\" ); srce_auc_18_20.fillna( \"no_font\", inplace = True )\n",
    "srce_auc_21_23 = srce_auc_21_23.merge( main_source_21_23.rename(columns = {\"device_id\":\"ref_hash\"}), how = \"left\", on = \"ref_hash\" ); srce_auc_21_23.fillna( \"no_font\", inplace = True )\n",
    "\n",
    "#Ya fue controlado que quedan las mismas fuentes para ambas ventanas, no quedan columnas distintas\n",
    "srce_auc_ohe_18_20 = pd.get_dummies( srce_auc_18_20[ [\"source_id\"] ].astype( \"category\" ) )\n",
    "srce_auc_ohe_21_23 = pd.get_dummies( srce_auc_21_23[ [\"source_id\"] ].astype( \"category\" ) )\n",
    "\n",
    "srce_auc_18_20 = pd.concat( [srce_auc_18_20, srce_auc_ohe_18_20], axis = 1 ); del( srce_auc_18_20[\"source_id\"] )\n",
    "srce_auc_21_23 = pd.concat( [srce_auc_21_23, srce_auc_ohe_21_23], axis = 1 ); del( srce_auc_21_23[\"source_id\"] )\n",
    "\n",
    "srce_auc_18_20.to_csv( loc_ftr + \"\\\\srce_auc_18_20.csv\", index = False )\n",
    "srce_auc_21_23.to_csv( loc_ftr + \"\\\\srce_auc_21_23.csv\", index = False )"
   ]
  },
  {
   "cell_type": "markdown",
   "metadata": {},
   "source": [
    "## <span style=\"color:red\"> **Ref Hash** </span> \n",
    "\n",
    "#### <span style=\"color:orange\"> **Mean Encoding** </span> (Usamos el promedio de la cantidad de apariciones en las instalaciones en la ventana anterior)"
   ]
  },
  {
   "cell_type": "code",
   "execution_count": null,
   "metadata": {},
   "outputs": [],
   "source": [
    "rh_encod_18_20 = rh_18_20.copy()\n",
    "rh_encod_21_23 = rh_21_23.copy()\n",
    "\n",
    "appces_18_20_ins = ins_18_20[\"ref_hash\"].value_counts().reset_index().rename( columns = {\"index\":\"ref_hash\", \"ref_hash\":\"appearances\"} )\n",
    "appces_21_23_ins = ins_21_23[\"ref_hash\"].value_counts().reset_index().rename( columns = {\"index\":\"ref_hash\", \"ref_hash\":\"appearances\"} )\n",
    "\n",
    "appces_18_20_ins[\"ref_hash_mean\"] = appces_18_20_ins[\"appearances\"] / len( ins_18_20 ); appces_18_20_ins.drop( \"appearances\", axis = 1, inplace = True )\n",
    "appces_21_23_ins[\"ref_hash_mean\"] = appces_21_23_ins[\"appearances\"] / len( ins_21_23 ); appces_21_23_ins.drop( \"appearances\", axis = 1, inplace = True )\n",
    "\n",
    "rh_encod_18_20 = rh_encod_18_20.merge( appces_18_20_ins, how = \"left\", on = \"ref_hash\" )\n",
    "rh_encod_21_23 = rh_encod_21_23.merge( appces_21_23_ins, how = \"left\", on = \"ref_hash\" )\n",
    "\n",
    "rh_encod_18_20.to_csv( loc_ftr + \"\\\\rh_encod_18_20.csv\", index = False )\n",
    "rh_encod_21_23.to_csv( loc_ftr + \"\\\\rh_encod_21_23.csv\", index = False )"
   ]
  },
  {
   "cell_type": "markdown",
   "metadata": {},
   "source": [
    "## <span style=\"color:red\"> **Hora mas popular del usuario en las instalaciones** </span> \n",
    "\n",
    "Le aplicamos la transformacion sin( (hora * pi)/24 ) para agregarle periodicidad. "
   ]
  },
  {
   "cell_type": "code",
   "execution_count": null,
   "metadata": {},
   "outputs": [],
   "source": [
    "main_ihr_18_20 = rh_18_20.copy()\n",
    "main_ihr_21_23 = rh_21_23.copy()\n",
    "\n",
    "hour_mode_18_20 = ins_18_20[[\"ref_hash\"]]; hour_mode_18_20[\"hour\"] = pd.to_datetime( ins_18_20[\"date\"] ).dt.hour\n",
    "hour_mode_21_23 = ins_21_23[[\"ref_hash\"]]; hour_mode_21_23[\"hour\"] = pd.to_datetime( ins_21_23[\"date\"] ).dt.hour\n",
    "\n",
    "hour_mode_18_20 = hour_mode_18_20.groupby( [\"ref_hash\", \"hour\"] ).agg( { \"hour\":\"count\" } ).rename( columns = {\"hour\":\"count\"} ).reset_index()\n",
    "hour_mode_21_23 = hour_mode_21_23.groupby( [\"ref_hash\", \"hour\"] ).agg( { \"hour\":\"count\" } ).rename( columns = {\"hour\":\"count\"} ).reset_index()\n",
    "\n",
    "hour_mode_18_20 = hour_mode_18_20.sort_values( [\"ref_hash\",\"count\"], ascending = False ).drop_duplicates( subset = [\"ref_hash\"], keep = \"first\" ).drop(\"count\",axis = 1)\n",
    "hour_mode_21_23 = hour_mode_21_23.sort_values( [\"ref_hash\",\"count\"], ascending = False ).drop_duplicates( subset = [\"ref_hash\"], keep = \"first\" ).drop(\"count\",axis = 1)\n",
    "\n",
    "main_ihr_18_20 = main_ihr_18_20.merge( hour_mode_18_20, how = \"left\", on = \"ref_hash\" ).rename( columns = {\"hour\":\"main_hour\"} )\n",
    "main_ihr_21_23 = main_ihr_21_23.merge( hour_mode_21_23, how = \"left\", on = \"ref_hash\" ).rename( columns = {\"hour\":\"main_hour\"} )\n",
    "\n",
    "main_ihr_18_20[\"main_hour\"] =  main_ihr_18_20[\"main_hour\"].apply( lambda x: np.sin( (x*np.pi)/24 ) )\n",
    "main_ihr_21_23[\"main_hour\"] =  main_ihr_21_23[\"main_hour\"].apply( lambda x: np.sin( (x*np.pi)/24 ) )\n",
    "\n",
    "main_ihr_18_20.to_csv( loc_ftr + \"\\\\main_ihr_18_20.csv\", index = False )\n",
    "main_ihr_21_23.to_csv( loc_ftr + \"\\\\main_ihr_21_23.csv\", index = False )"
   ]
  },
  {
   "cell_type": "markdown",
   "metadata": {},
   "source": [
    "## <span style=\"color:red\"> **Hora mas popular del usuario en las subastas** </span> \n",
    "\n",
    "Le aplicamos la transformacion sin( (hora * pi)/24 ) para agregarle periodicidad. "
   ]
  },
  {
   "cell_type": "code",
   "execution_count": null,
   "metadata": {},
   "outputs": [],
   "source": [
    "main_ahr_18_20 = rh_18_20.copy()\n",
    "main_ahr_21_23 = rh_21_23.copy()\n",
    "\n",
    "hour_mode_18_20 = auc_18_20[[\"device_id\"]]; hour_mode_18_20[\"hour\"] = pd.to_datetime( auc_18_20[\"date\"] ).dt.hour\n",
    "hour_mode_21_23 = auc_21_23[[\"device_id\"]]; hour_mode_21_23[\"hour\"] = pd.to_datetime( auc_21_23[\"date\"] ).dt.hour\n",
    "\n",
    "hour_mode_18_20 = hour_mode_18_20.groupby( [\"device_id\", \"hour\"] ).agg( { \"hour\":\"count\" } ).rename( columns = {\"hour\":\"count\"} ).reset_index()\n",
    "hour_mode_21_23 = hour_mode_21_23.groupby( [\"device_id\", \"hour\"] ).agg( { \"hour\":\"count\" } ).rename( columns = {\"hour\":\"count\"} ).reset_index()\n",
    "\n",
    "hour_mode_18_20 = hour_mode_18_20.sort_values( [\"device_id\",\"count\"], ascending = False ).drop_duplicates( subset = [\"device_id\"], keep = \"first\" ).rename( columns = {\"device_id\":\"ref_hash\"} ).drop(\"count\",axis = 1)\n",
    "hour_mode_21_23 = hour_mode_21_23.sort_values( [\"device_id\",\"count\"], ascending = False ).drop_duplicates( subset = [\"device_id\"], keep = \"first\" ).rename( columns = {\"device_id\":\"ref_hash\"} ).drop(\"count\",axis = 1)\n",
    "\n",
    "main_ahr_18_20 = main_ahr_18_20.merge( hour_mode_18_20, how = \"left\", on = \"ref_hash\" ).rename( columns = {\"hour\":\"main_hour\"} )\n",
    "main_ahr_21_23 = main_ahr_21_23.merge( hour_mode_21_23, how = \"left\", on = \"ref_hash\" ).rename( columns = {\"hour\":\"main_hour\"} )\n",
    "\n",
    "main_ahr_18_20[\"main_hour\"] =  main_ahr_18_20[\"main_hour\"].apply( lambda x: np.sin( (x*np.pi)/24 ) )\n",
    "main_ahr_21_23[\"main_hour\"] =  main_ahr_21_23[\"main_hour\"].apply( lambda x: np.sin( (x*np.pi)/24 ) )\n",
    "\n",
    "main_ahr_18_20.to_csv( loc_ftr + \"\\\\main_ahr_18_20.csv\", index = False )\n",
    "main_ahr_21_23.to_csv( loc_ftr + \"\\\\main_ahr_21_23.csv\", index = False )"
   ]
  },
  {
   "cell_type": "markdown",
   "metadata": {},
   "source": [
    "Son muchos NaNs, por lo que no se pueden completar con nada coherente. Esto agrega demasiado ruido al set de entrenamiento"
   ]
  },
  {
   "cell_type": "markdown",
   "metadata": {},
   "source": [
    "## <span style=\"color:green\"> **Tipo de la primera instalacion (Atribuida/No Atribuida)** </span>\n",
    "\n",
    "#### <span style=\"color:orange\"> **OneHotEncoding** </span> - <span style=\"color:red\"> **No Mejora este tipo de codificacion** </span>"
   ]
  },
  {
   "cell_type": "code",
   "execution_count": null,
   "metadata": {},
   "outputs": [],
   "source": [
    "atbt_ins_18_20 = rh_18_20.copy()\n",
    "atbt_ins_21_23 = rh_21_23.copy()\n",
    "\n",
    "atbt_ins_ohe_18_20 = pd.get_dummies( ins_18_20_first_ins[ [\"attributed\"] ].astype( str ) )\n",
    "atbt_ins_ohe_21_23 = pd.get_dummies( ins_21_23_first_ins[ [\"attributed\"] ].astype( str ) )\n",
    "\n",
    "atbt_ins_ohe_18_20 = pd.concat( [atbt_ins_18_20, atbt_ins_ohe_18_20], axis = 1 )\n",
    "atbt_ins_ohe_21_23 = pd.concat( [atbt_ins_21_23, atbt_ins_ohe_21_23], axis = 1 )\n",
    "\n",
    "atbt_ins_18_20.to_csv( loc_ftr + \"\\\\atbt_ins_18_20.csv\", index = False )\n",
    "atbt_ins_21_23.to_csv( loc_ftr + \"\\\\atbt_ins_21_23.csv\", index = False )"
   ]
  },
  {
   "cell_type": "markdown",
   "metadata": {},
   "source": [
    "#### <span style=\"color:orange\"> **Mean Encoding** </span> (Usando como promedio la cantidad de veces que la primera instalacion fue de ese determinado tipo sobre el total de instalaciones)"
   ]
  },
  {
   "cell_type": "code",
   "execution_count": null,
   "metadata": {},
   "outputs": [],
   "source": [
    "atbt_ins_18_20 = rh_18_20.copy()\n",
    "atbt_ins_21_23 = rh_21_23.copy()\n",
    "\n",
    "atbt_ins_18_20[\"atbt\"] = ins_18_20_first_ins[\"attributed\"]; atbt_ins_18_20[\"cant_ins\"] = atbt_ins_18_20.groupby( \"atbt\" ).transform( \"count\" ); atbt_ins_18_20[\"atbt_mean\"] = atbt_ins_18_20[\"cant_ins\"]/len(rh_18_20)\n",
    "atbt_ins_21_23[\"atbt\"] = ins_21_23_first_ins[\"attributed\"]; atbt_ins_21_23[\"cant_ins\"] = atbt_ins_21_23.groupby( \"atbt\" ).transform( \"count\" ); atbt_ins_21_23[\"atbt_mean\"] = atbt_ins_21_23[\"cant_ins\"]/len(rh_21_23)\n",
    "\n",
    "atbt_ins_18_20.drop( [\"atbt\",\"cant_ins\"], axis = 1, inplace = True )\n",
    "atbt_ins_21_23.drop( [\"atbt\",\"cant_ins\"], axis = 1, inplace = True )\n",
    "\n",
    "atbt_ins_18_20.to_csv( loc_ftr + \"\\\\atbt_ins_18_20.csv\", index = False )\n",
    "atbt_ins_21_23.to_csv( loc_ftr + \"\\\\atbt_ins_21_23.csv\", index = False )"
   ]
  }
 ],
 "metadata": {
  "kernelspec": {
   "display_name": "Python 3",
   "language": "python",
   "name": "python3"
  },
  "language_info": {
   "codemirror_mode": {
    "name": "ipython",
    "version": 3
   },
   "file_extension": ".py",
   "mimetype": "text/x-python",
   "name": "python",
   "nbconvert_exporter": "python",
   "pygments_lexer": "ipython3",
   "version": "3.7.0"
  }
 },
 "nbformat": 4,
 "nbformat_minor": 2
}
