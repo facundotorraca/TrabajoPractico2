{
 "cells": [
  {
   "cell_type": "code",
   "execution_count": 2,
   "metadata": {},
   "outputs": [],
   "source": [
    "import pandas as pd\n",
    "import numpy as np\n",
    "import warnings as wn\n",
    "import math \n",
    "\n",
    "wn.simplefilter(\"ignore\")"
   ]
  },
  {
   "cell_type": "code",
   "execution_count": 3,
   "metadata": {},
   "outputs": [],
   "source": [
    "loc = r\"D:\\FacundoTorraca\\Documents\\Datos_ML_TP2\\SetsDeEntrenamiento\""
   ]
  },
  {
   "cell_type": "code",
   "execution_count": 5,
   "metadata": {},
   "outputs": [],
   "source": [
    "auc_18_20 = pd.read_csv( loc + \"\\\\auc_1.csv\" )\n",
    "auc_21_23 = pd.read_csv( loc + \"\\\\auc_4.csv\" )\n",
    "auc_24_26 = pd.read_csv( loc + \"\\\\auc_7.csv\" )"
   ]
  },
  {
   "cell_type": "code",
   "execution_count": 19,
   "metadata": {},
   "outputs": [],
   "source": [
    "auc_18_20_min_st = auc_18_20.groupby( by = [\"device_id\"] ).agg( {\"_st\":\"min\"} ).reset_index()\n",
    "auc_18_20_min_st[\"ventana\"] = \"18_20\""
   ]
  },
  {
   "cell_type": "code",
   "execution_count": 20,
   "metadata": {},
   "outputs": [],
   "source": [
    "auc_21_23_min_st = auc_21_23.groupby( by = [\"device_id\"] ).agg( {\"_st\":\"min\"} ).reset_index()\n",
    "auc_21_23_min_st[\"ventana\"] = \"21_23\""
   ]
  },
  {
   "cell_type": "code",
   "execution_count": 21,
   "metadata": {},
   "outputs": [],
   "source": [
    "auc_24_26_min_st = auc_24_26.groupby( by = [\"device_id\"] ).agg( {\"_st\":\"min\"} ).reset_index()\n",
    "auc_24_26_min_st[\"ventana\"] = \"24_26\""
   ]
  },
  {
   "cell_type": "code",
   "execution_count": 25,
   "metadata": {},
   "outputs": [],
   "source": [
    "auc_st_prg = auc_18_20_min_st.append( auc_21_23_min_st ).append( auc_24_26_min_st )"
   ]
  },
  {
   "cell_type": "code",
   "execution_count": 26,
   "metadata": {},
   "outputs": [],
   "source": [
    "auc_st_prg[\"ventana\"] = auc_st_prg[\"ventana\"].astype( \"category\" )"
   ]
  },
  {
   "cell_type": "code",
   "execution_count": 27,
   "metadata": {},
   "outputs": [],
   "source": [
    "st_by_windows = auc_st_prg[[\"device_id\",\"ventana\",\"_st\"]].groupby( by = [\"device_id\", \"ventana\"] ).agg( \"min\" )"
   ]
  },
  {
   "cell_type": "code",
   "execution_count": 29,
   "metadata": {},
   "outputs": [],
   "source": [
    "st_by_windows = st_by_windows.unstack( level = 1 )\n",
    "st_by_windows.columns = [\"18_20_st\", \"21_23_st\", \"24_26_st\"]\n",
    "st_by_windows = st_by_windows.reset_index()\n",
    "st_by_windows.columns = [\"ref_hash\",\"18_20_st\", \"21_23_st\", \"24_26_st\"] #le cambio a ref_hash asi coincide con los demas df"
   ]
  },
  {
   "cell_type": "code",
   "execution_count": 32,
   "metadata": {},
   "outputs": [],
   "source": [
    "loc_to_save = r\"D:\\FacundoTorraca\\Documents\\Datos_ML_TP2\\Targets\"\n",
    "st_by_windows.to_csv( loc_to_save + \"\\\\label_auctions.csv\", index = False )"
   ]
  }
 ],
 "metadata": {
  "kernelspec": {
   "display_name": "Python 3",
   "language": "python",
   "name": "python3"
  },
  "language_info": {
   "codemirror_mode": {
    "name": "ipython",
    "version": 3
   },
   "file_extension": ".py",
   "mimetype": "text/x-python",
   "name": "python",
   "nbconvert_exporter": "python",
   "pygments_lexer": "ipython3",
   "version": "3.7.0"
  }
 },
 "nbformat": 4,
 "nbformat_minor": 2
}
